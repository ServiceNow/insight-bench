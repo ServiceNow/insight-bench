{
 "cells": [
  {
   "cell_type": "markdown",
   "metadata": {},
   "source": [
    "## Workload Distribution and Efficiency Analysis (Flag 62)\n",
    "\n",
    "### Dataset Description\n",
    "The dataset comprises two key tables simulating ServiceNow platform: the `sys_user` table and the `incidents` table, each with 500 entries. The `incidents` table focuses on detailing various attributes such as category, state, open and close dates, involved personnel, and incident specifics like location, description, and priority. It effectively captures incident management activities with fields including 'opened_at', 'closed_at', 'assigned_to', 'short_description', and 'priority', reflecting the operational handling and urgency of issues across different locations and categories. The `sys_user` table, on the other hand, contains user-related information, focusing on the details of employees or system users. This includes fields such as 'user_id', 'name', 'schedule', 'role', 'email', and 'department', providing insights into the user profiles managed within the ServiceNow system. Together, these tables are instrumental in understanding the workflow, user involvement and detailed tracking of incident resolution processes within an organization.\n",
    "\n",
    "### Your Task\n",
    "**Goal**: Utilize incident and user data to analyze  the distribution of incident assignments among agents to identify imbalances, especially during leave periods. \n",
    "\n",
    "**Role**: Agent Manager\n",
    "\n",
    "**Difficulty**: 4 out of 5. This task requires a thorough analysis of workload distribution, correlation with leave periods, merging information from two tables. Demanding high analytical skills and regression analysis abilities.\n",
    "\n",
    "**Category**: User Management"
   ]
  },
  {
   "cell_type": "markdown",
   "metadata": {},
   "source": [
    "## Import Necessary Libraries\n",
    "This cell imports all necessary libraries required for the analysis. This includes libraries for data manipulation, data visualization, and any specific utilities needed for the tasks. "
   ]
  },
  {
   "cell_type": "code",
   "execution_count": 1,
   "metadata": {
    "execution": {
     "iopub.execute_input": "2024-10-25T20:05:42.309335Z",
     "iopub.status.busy": "2024-10-25T20:05:42.307916Z",
     "iopub.status.idle": "2024-10-25T20:05:46.054664Z",
     "shell.execute_reply": "2024-10-25T20:05:46.052441Z"
    }
   },
   "outputs": [],
   "source": [
    "import argparse\n",
    "import pandas as pd\n",
    "import json\n",
    "import requests\n",
    "import matplotlib.pyplot as plt\n",
    "import numpy as np\n",
    "import seaborn as sns\n",
    "from pandas import date_range"
   ]
  },
  {
   "cell_type": "markdown",
   "metadata": {},
   "source": [
    "### Load Incidents Dataset\n",
    "This cell loads the second dataset used in the analysis. The dataset is stored in a CSV file and is loaded into a DataFrame. This step includes reading the data from a file path and possibly performing initial observations such as viewing the first few rows to ensure it has loaded correctly.\n"
   ]
  },
  {
   "cell_type": "code",
   "execution_count": 2,
   "metadata": {
    "execution": {
     "iopub.execute_input": "2024-10-25T20:05:46.067417Z",
     "iopub.status.busy": "2024-10-25T20:05:46.066624Z",
     "iopub.status.idle": "2024-10-25T20:05:46.136383Z",
     "shell.execute_reply": "2024-10-25T20:05:46.134466Z"
    }
   },
   "outputs": [
    {
     "data": {
      "text/html": [
       "<div>\n",
       "<style scoped>\n",
       "    .dataframe tbody tr th:only-of-type {\n",
       "        vertical-align: middle;\n",
       "    }\n",
       "\n",
       "    .dataframe tbody tr th {\n",
       "        vertical-align: top;\n",
       "    }\n",
       "\n",
       "    .dataframe thead th {\n",
       "        text-align: right;\n",
       "    }\n",
       "</style>\n",
       "<table border=\"1\" class=\"dataframe\">\n",
       "  <thead>\n",
       "    <tr style=\"text-align: right;\">\n",
       "      <th></th>\n",
       "      <th>category</th>\n",
       "      <th>state</th>\n",
       "      <th>closed_at</th>\n",
       "      <th>opened_at</th>\n",
       "      <th>closed_by</th>\n",
       "      <th>number</th>\n",
       "      <th>sys_updated_by</th>\n",
       "      <th>location</th>\n",
       "      <th>assigned_to</th>\n",
       "      <th>caller_id</th>\n",
       "      <th>sys_updated_on</th>\n",
       "      <th>short_description</th>\n",
       "      <th>priority</th>\n",
       "      <th>assignement_group</th>\n",
       "    </tr>\n",
       "  </thead>\n",
       "  <tbody>\n",
       "    <tr>\n",
       "      <th>0</th>\n",
       "      <td>Database</td>\n",
       "      <td>Closed</td>\n",
       "      <td>2023-07-25 03:32:18.462401146</td>\n",
       "      <td>2023-01-02 11:04:00</td>\n",
       "      <td>Fred Luddy</td>\n",
       "      <td>INC0000000034</td>\n",
       "      <td>admin</td>\n",
       "      <td>Australia</td>\n",
       "      <td>Fred Luddy</td>\n",
       "      <td>ITIL User</td>\n",
       "      <td>2023-07-06 03:31:13.838619495</td>\n",
       "      <td>There was an issue</td>\n",
       "      <td>2 - High</td>\n",
       "      <td>Database</td>\n",
       "    </tr>\n",
       "    <tr>\n",
       "      <th>1</th>\n",
       "      <td>Hardware</td>\n",
       "      <td>Closed</td>\n",
       "      <td>2023-03-11 13:42:59.511508874</td>\n",
       "      <td>2023-01-03 10:19:00</td>\n",
       "      <td>Charlie Whitherspoon</td>\n",
       "      <td>INC0000000025</td>\n",
       "      <td>admin</td>\n",
       "      <td>India</td>\n",
       "      <td>Beth Anglin</td>\n",
       "      <td>Don Goodliffe</td>\n",
       "      <td>2023-05-19 04:22:50.443252112</td>\n",
       "      <td>There was an issue</td>\n",
       "      <td>1 - Critical</td>\n",
       "      <td>Hardware</td>\n",
       "    </tr>\n",
       "    <tr>\n",
       "      <th>2</th>\n",
       "      <td>Database</td>\n",
       "      <td>Resolved</td>\n",
       "      <td>2023-01-20 14:37:18.361510788</td>\n",
       "      <td>2023-01-04 06:37:00</td>\n",
       "      <td>Charlie Whitherspoon</td>\n",
       "      <td>INC0000000354</td>\n",
       "      <td>system</td>\n",
       "      <td>India</td>\n",
       "      <td>Fred Luddy</td>\n",
       "      <td>ITIL User</td>\n",
       "      <td>2023-02-13 08:10:20.378839709</td>\n",
       "      <td>There was an issue</td>\n",
       "      <td>2 - High</td>\n",
       "      <td>Database</td>\n",
       "    </tr>\n",
       "    <tr>\n",
       "      <th>3</th>\n",
       "      <td>Hardware</td>\n",
       "      <td>Resolved</td>\n",
       "      <td>2023-01-25 20:46:13.679914432</td>\n",
       "      <td>2023-01-04 06:53:00</td>\n",
       "      <td>Fred Luddy</td>\n",
       "      <td>INC0000000023</td>\n",
       "      <td>admin</td>\n",
       "      <td>Canada</td>\n",
       "      <td>Luke Wilson</td>\n",
       "      <td>Don Goodliffe</td>\n",
       "      <td>2023-06-14 11:45:24.784548040</td>\n",
       "      <td>There was an issue</td>\n",
       "      <td>2 - High</td>\n",
       "      <td>Hardware</td>\n",
       "    </tr>\n",
       "    <tr>\n",
       "      <th>4</th>\n",
       "      <td>Hardware</td>\n",
       "      <td>Closed</td>\n",
       "      <td>2023-05-10 22:35:58.881919516</td>\n",
       "      <td>2023-01-05 16:52:00</td>\n",
       "      <td>Luke Wilson</td>\n",
       "      <td>INC0000000459</td>\n",
       "      <td>employee</td>\n",
       "      <td>UK</td>\n",
       "      <td>Charlie Whitherspoon</td>\n",
       "      <td>David Loo</td>\n",
       "      <td>2023-06-11 20:25:35.094482408</td>\n",
       "      <td>There was an issue</td>\n",
       "      <td>2 - High</td>\n",
       "      <td>Hardware</td>\n",
       "    </tr>\n",
       "  </tbody>\n",
       "</table>\n",
       "</div>"
      ],
      "text/plain": [
       "   category     state                      closed_at            opened_at  \\\n",
       "0  Database    Closed  2023-07-25 03:32:18.462401146  2023-01-02 11:04:00   \n",
       "1  Hardware    Closed  2023-03-11 13:42:59.511508874  2023-01-03 10:19:00   \n",
       "2  Database  Resolved  2023-01-20 14:37:18.361510788  2023-01-04 06:37:00   \n",
       "3  Hardware  Resolved  2023-01-25 20:46:13.679914432  2023-01-04 06:53:00   \n",
       "4  Hardware    Closed  2023-05-10 22:35:58.881919516  2023-01-05 16:52:00   \n",
       "\n",
       "              closed_by         number sys_updated_by   location  \\\n",
       "0            Fred Luddy  INC0000000034          admin  Australia   \n",
       "1  Charlie Whitherspoon  INC0000000025          admin      India   \n",
       "2  Charlie Whitherspoon  INC0000000354         system      India   \n",
       "3            Fred Luddy  INC0000000023          admin     Canada   \n",
       "4           Luke Wilson  INC0000000459       employee         UK   \n",
       "\n",
       "            assigned_to      caller_id                 sys_updated_on  \\\n",
       "0            Fred Luddy      ITIL User  2023-07-06 03:31:13.838619495   \n",
       "1           Beth Anglin  Don Goodliffe  2023-05-19 04:22:50.443252112   \n",
       "2            Fred Luddy      ITIL User  2023-02-13 08:10:20.378839709   \n",
       "3           Luke Wilson  Don Goodliffe  2023-06-14 11:45:24.784548040   \n",
       "4  Charlie Whitherspoon      David Loo  2023-06-11 20:25:35.094482408   \n",
       "\n",
       "    short_description      priority assignement_group  \n",
       "0  There was an issue      2 - High          Database  \n",
       "1  There was an issue  1 - Critical          Hardware  \n",
       "2  There was an issue      2 - High          Database  \n",
       "3  There was an issue      2 - High          Hardware  \n",
       "4  There was an issue      2 - High          Hardware  "
      ]
     },
     "execution_count": 2,
     "metadata": {},
     "output_type": "execute_result"
    }
   ],
   "source": [
    "dataset_path = \"csvs/flag-62.csv\"\n",
    "df = pd.read_csv(dataset_path)\n",
    "df.head()"
   ]
  },
  {
   "cell_type": "markdown",
   "metadata": {},
   "source": [
    "### Load User Agent Dataset\n",
    "This cell loads user agent dataset used in the analysis. The dataset is stored in a CSV file and is loaded into a DataFrame. This step includes reading the data from a file path and possibly performing initial observations such as viewing the first few rows to ensure it has loaded correctly."
   ]
  },
  {
   "cell_type": "code",
   "execution_count": 3,
   "metadata": {
    "execution": {
     "iopub.execute_input": "2024-10-25T20:05:46.150156Z",
     "iopub.status.busy": "2024-10-25T20:05:46.149657Z",
     "iopub.status.idle": "2024-10-25T20:05:46.188703Z",
     "shell.execute_reply": "2024-10-25T20:05:46.186474Z"
    }
   },
   "outputs": [
    {
     "data": {
      "text/html": [
       "<div>\n",
       "<style scoped>\n",
       "    .dataframe tbody tr th:only-of-type {\n",
       "        vertical-align: middle;\n",
       "    }\n",
       "\n",
       "    .dataframe tbody tr th {\n",
       "        vertical-align: top;\n",
       "    }\n",
       "\n",
       "    .dataframe thead th {\n",
       "        text-align: right;\n",
       "    }\n",
       "</style>\n",
       "<table border=\"1\" class=\"dataframe\">\n",
       "  <thead>\n",
       "    <tr style=\"text-align: right;\">\n",
       "      <th></th>\n",
       "      <th>sys_id</th>\n",
       "      <th>schedule</th>\n",
       "      <th>manager</th>\n",
       "      <th>phone</th>\n",
       "      <th>user_name</th>\n",
       "      <th>name</th>\n",
       "      <th>location</th>\n",
       "      <th>department</th>\n",
       "      <th>title</th>\n",
       "      <th>email</th>\n",
       "    </tr>\n",
       "  </thead>\n",
       "  <tbody>\n",
       "    <tr>\n",
       "      <th>0</th>\n",
       "      <td>46b87022a9fe198101a78787e40d7547</td>\n",
       "      <td>[(Timestamp('2023-06-14 00:00:00'), Timestamp(...</td>\n",
       "      <td>NaN</td>\n",
       "      <td>NaN</td>\n",
       "      <td>charlie.whitherspoon</td>\n",
       "      <td>Charlie Whitherspoon</td>\n",
       "      <td>945 South Birch Street, Glendale,CO</td>\n",
       "      <td>Sales</td>\n",
       "      <td>NaN</td>\n",
       "      <td>charlie.whitherspoon@example.com</td>\n",
       "    </tr>\n",
       "    <tr>\n",
       "      <th>1</th>\n",
       "      <td>46ca0887a9fe19810191e08e51927ebf</td>\n",
       "      <td>[(Timestamp('2023-06-01 00:00:00'), Timestamp(...</td>\n",
       "      <td>NaN</td>\n",
       "      <td>NaN</td>\n",
       "      <td>howard.johnson</td>\n",
       "      <td>Howard Johnson</td>\n",
       "      <td>601 College Street, Clarksville,TN</td>\n",
       "      <td>Sales</td>\n",
       "      <td>NaN</td>\n",
       "      <td>howard.johnson@example.com</td>\n",
       "    </tr>\n",
       "    <tr>\n",
       "      <th>2</th>\n",
       "      <td>46d44a23a9fe19810012d100cca80666</td>\n",
       "      <td>NaN</td>\n",
       "      <td>NaN</td>\n",
       "      <td>NaN</td>\n",
       "      <td>beth.anglin</td>\n",
       "      <td>Beth Anglin</td>\n",
       "      <td>6304 Northwest Barry Road, Kansas City,MO</td>\n",
       "      <td>Sales</td>\n",
       "      <td>NaN</td>\n",
       "      <td>beth.anglin@example.com</td>\n",
       "    </tr>\n",
       "    <tr>\n",
       "      <th>3</th>\n",
       "      <td>46d96f57a9fe198101947a9620895886</td>\n",
       "      <td>NaN</td>\n",
       "      <td>NaN</td>\n",
       "      <td>NaN</td>\n",
       "      <td>luke.wilson</td>\n",
       "      <td>Luke Wilson</td>\n",
       "      <td>322 West 52nd Street, New York,NY</td>\n",
       "      <td>Sales</td>\n",
       "      <td>NaN</td>\n",
       "      <td>luke.wilson@example.com</td>\n",
       "    </tr>\n",
       "    <tr>\n",
       "      <th>4</th>\n",
       "      <td>5137153cc611227c000bbd1bd8cd2005</td>\n",
       "      <td>[(Timestamp('2023-07-13 00:00:00'), Timestamp(...</td>\n",
       "      <td>NaN</td>\n",
       "      <td>NaN</td>\n",
       "      <td>fred.luddy</td>\n",
       "      <td>Fred Luddy</td>\n",
       "      <td>650 Dennery Road #102, San Diego,CA</td>\n",
       "      <td>Development</td>\n",
       "      <td>Programmer</td>\n",
       "      <td>fred.luddy@example.com</td>\n",
       "    </tr>\n",
       "  </tbody>\n",
       "</table>\n",
       "</div>"
      ],
      "text/plain": [
       "                             sys_id  \\\n",
       "0  46b87022a9fe198101a78787e40d7547   \n",
       "1  46ca0887a9fe19810191e08e51927ebf   \n",
       "2  46d44a23a9fe19810012d100cca80666   \n",
       "3  46d96f57a9fe198101947a9620895886   \n",
       "4  5137153cc611227c000bbd1bd8cd2005   \n",
       "\n",
       "                                            schedule  manager  phone  \\\n",
       "0  [(Timestamp('2023-06-14 00:00:00'), Timestamp(...      NaN    NaN   \n",
       "1  [(Timestamp('2023-06-01 00:00:00'), Timestamp(...      NaN    NaN   \n",
       "2                                                NaN      NaN    NaN   \n",
       "3                                                NaN      NaN    NaN   \n",
       "4  [(Timestamp('2023-07-13 00:00:00'), Timestamp(...      NaN    NaN   \n",
       "\n",
       "              user_name                  name  \\\n",
       "0  charlie.whitherspoon  Charlie Whitherspoon   \n",
       "1        howard.johnson        Howard Johnson   \n",
       "2           beth.anglin           Beth Anglin   \n",
       "3           luke.wilson           Luke Wilson   \n",
       "4            fred.luddy            Fred Luddy   \n",
       "\n",
       "                                    location   department       title  \\\n",
       "0        945 South Birch Street, Glendale,CO        Sales         NaN   \n",
       "1         601 College Street, Clarksville,TN        Sales         NaN   \n",
       "2  6304 Northwest Barry Road, Kansas City,MO        Sales         NaN   \n",
       "3          322 West 52nd Street, New York,NY        Sales         NaN   \n",
       "4        650 Dennery Road #102, San Diego,CA  Development  Programmer   \n",
       "\n",
       "                              email  \n",
       "0  charlie.whitherspoon@example.com  \n",
       "1        howard.johnson@example.com  \n",
       "2           beth.anglin@example.com  \n",
       "3           luke.wilson@example.com  \n",
       "4            fred.luddy@example.com  "
      ]
     },
     "execution_count": 3,
     "metadata": {},
     "output_type": "execute_result"
    }
   ],
   "source": [
    "user_dataset_path = \"csvs/flag-62-sysuser.csv\"\n",
    "df_usr = pd.read_csv(user_dataset_path)\n",
    "df_usr.head()"
   ]
  },
  {
   "cell_type": "markdown",
   "metadata": {},
   "source": [
    "\n",
    "### **Question 1: What is the overall number of incidents assigned to all agents over the recent period?**"
   ]
  },
  {
   "cell_type": "markdown",
   "metadata": {},
   "source": [
    "#### Plot distribution of incidents assigned to each agent\n",
    "This cell creates a bar plot to visualize the average number of incidents assigned to each agent over the recent period. By displaying this work distribution across the team, this plot helps identify any imbalances or disparities in incident assignments, which are crucial for understanding how work is allocated and identifying if any potential areas of concern"
   ]
  },
  {
   "cell_type": "code",
   "execution_count": 4,
   "metadata": {
    "execution": {
     "iopub.execute_input": "2024-10-25T20:05:46.202380Z",
     "iopub.status.busy": "2024-10-25T20:05:46.201866Z",
     "iopub.status.idle": "2024-10-25T20:05:46.824410Z",
     "shell.execute_reply": "2024-10-25T20:05:46.822542Z"
    }
   },
   "outputs": [
    {
     "data": {
      "image/png": "[encoded data removed]",
      "text/plain": [
       "<Figure size 720x432 with 1 Axes>"
      ]
     },
     "metadata": {
      "needs_background": "light"
     },
     "output_type": "display_data"
    }
   ],
   "source": [
    "import pandas as pd\n",
    "import matplotlib.pyplot as plt\n",
    "import seaborn as sns\n",
    "\n",
    "# Assuming df is already loaded and has the necessary columns\n",
    "df[\"opened_at\"] = pd.to_datetime(df[\"opened_at\"])\n",
    "\n",
    "# Group the data by 'assigned_to' and count the number of incidents for each agent\n",
    "agent_incident_counts = df.groupby('assigned_to').size()\n",
    "\n",
    "# Calculate the average number of incidents per agent\n",
    "# average_incidents_per_agent = agent_incident_counts.mean()\n",
    "\n",
    "# Create a DataFrame for plotting\n",
    "agent_average_df = pd.DataFrame({\n",
    "    'Agent': agent_incident_counts.index,\n",
    "    'Average Incidents': agent_incident_counts\n",
    "})\n",
    "\n",
    "# Plotting the average number of incidents per agent\n",
    "plt.figure(figsize=(10, 6))\n",
    "ax = sns.barplot(x='Agent', y='Average Incidents', data=agent_average_df)\n",
    "plt.title('Overall Number of Incidents Assigned to Each Agent')\n",
    "plt.ylabel('Number of Incidents')\n",
    "plt.xlabel('Agent')\n",
    "plt.xticks(rotation=45)\n",
    "\n",
    "# Annotate each bar with its value\n",
    "for p in ax.patches:\n",
    "    ax.annotate(format(p.get_height(), '.2f'), \n",
    "                (p.get_x() + p.get_width() / 2., p.get_height()), \n",
    "                ha = 'center', va = 'center', \n",
    "                xytext = (0, 9), \n",
    "                textcoords = 'offset points')\n",
    "plt.show()"
   ]
  },
  {
   "cell_type": "markdown",
   "metadata": {},
   "source": [
    "#### Generate JSON Description for the Insight"
   ]
  },
  {
   "cell_type": "code",
   "execution_count": 5,
   "metadata": {
    "execution": {
     "iopub.execute_input": "2024-10-25T20:05:46.838699Z",
     "iopub.status.busy": "2024-10-25T20:05:46.838182Z",
     "iopub.status.idle": "2024-10-25T20:05:46.860903Z",
     "shell.execute_reply": "2024-10-25T20:05:46.858642Z"
    }
   },
   "outputs": [
    {
     "data": {
      "text/plain": [
       "{'data_type': 'descriptive',\n",
       " 'insight': 'All agents have the same number of incidents assigned to them.',\n",
       " 'insight_value': {'agents': ['All agents'], 'average_incidents': '100'},\n",
       " 'plot': {'plot_type': 'bar',\n",
       "  'title': 'Overall Average Number of Incidents Assigned to Each Agent',\n",
       "  'x_axis': {'name': 'Agent',\n",
       "   'value': ['Beth Anglin',\n",
       "    'Luke Wilson',\n",
       "    'Howard Johnson',\n",
       "    'Charlie Whitherspoon',\n",
       "    'Fred Luddy'],\n",
       "   'description': 'This represents the agents handling incidents.'},\n",
       "  'y_axis': {'name': 'Average Number of Incidents',\n",
       "   'value': [100, 100, 100, 100, 100],\n",
       "   'description': 'This represents the average number of incidents assigned to each agent, calculated over the recent period.'},\n",
       "  'description': 'The bar chart visualizes the average number of incidents assigned to each agent. It shows that all agents have the same number of incidents assigned to them.'},\n",
       " 'question': 'What is the overall average number of incidents assigned to all agents over the recent period?',\n",
       " 'actionable_insight': 'The average number of incidents assigned to each agent is the same. This could indicate that the incidents are being distributed evenly among the agents. However, it is important to monitor this metric over time to ensure that the workload is balanced and that no agent is overwhelmed with incidents.'}"
      ]
     },
     "execution_count": 5,
     "metadata": {},
     "output_type": "execute_result"
    }
   ],
   "source": [
    "{\n",
    "    \"data_type\": \"descriptive\",\n",
    "    \"insight\": \"All agents have the same number of incidents assigned to them.\",\n",
    "    \"insight_value\": {\n",
    "        \"agents\": [\"All agents\"],\n",
    "        \"average_incidents\": \"100\"\n",
    "    },\n",
    "    \"plot\": {\n",
    "        \"plot_type\": \"bar\",\n",
    "        \"title\": \"Overall Average Number of Incidents Assigned to Each Agent\",\n",
    "        \"x_axis\": {\n",
    "            \"name\": \"Agent\",\n",
    "            \"value\": [\"Beth Anglin\", \"Luke Wilson\", \"Howard Johnson\", \"Charlie Whitherspoon\", \"Fred Luddy\"],\n",
    "            \"description\": \"This represents the agents handling incidents.\"\n",
    "        },\n",
    "        \"y_axis\": {\n",
    "            \"name\": \"Average Number of Incidents\",\n",
    "            \"value\": [100, 100, 100, 100, 100],\n",
    "            \"description\": \"This represents the average number of incidents assigned to each agent, calculated over the recent period.\"\n",
    "        },\n",
    "        \"description\": \"The bar chart visualizes the average number of incidents assigned to each agent. It shows that all agents have the same number of incidents assigned to them.\"\n",
    "    },\n",
    "    \"question\": \"What is the overall average number of incidents assigned to all agents over the recent period?\",\n",
    "    \"actionable_insight\": \"The average number of incidents assigned to each agent is the same. This could indicate that the incidents are being distributed evenly among the agents. However, it is important to monitor this metric over time to ensure that the workload is balanced and that no agent is overwhelmed with incidents.\"\n",
    "}"
   ]
  },
  {
   "cell_type": "markdown",
   "metadata": {},
   "source": [
    "### **Question 2: What are the exact dates when the other three agents (Howard Johnson, Charlie Whitherspoon, Fred Luddy) were on PTO?**"
   ]
  },
  {
   "cell_type": "markdown",
   "metadata": {},
   "source": [
    "#### Plot timeline of leave periods for Howard Johnson, Charlie Whitherspoon, and Fred Luddy.\n",
    "This cell creates a visual timeline displaying the leave periods for Howard Johnson, Charlie Whitherspoon, and Fred Luddy, helping to correlate these absences with potential impacts on incident assignment distributions. By mapping out each agent’s leave periods on a common timeline, this visualization provides insights into how concurrent or sequential absences might influence workload shifts "
   ]
  },
  {
   "cell_type": "code",
   "execution_count": 6,
   "metadata": {
    "execution": {
     "iopub.execute_input": "2024-10-25T20:05:46.877289Z",
     "iopub.status.busy": "2024-10-25T20:05:46.876782Z",
     "iopub.status.idle": "2024-10-25T20:05:47.657684Z",
     "shell.execute_reply": "2024-10-25T20:05:47.656019Z"
    }
   },
   "outputs": [
    {
     "data": {
      "image/png": "[encoded data removed]",
      "text/plain": [
       "<Figure size 720x144 with 1 Axes>"
      ]
     },
     "metadata": {
      "needs_background": "light"
     },
     "output_type": "display_data"
    }
   ],
   "source": [
    "import pandas as pd\n",
    "import matplotlib.pyplot as plt\n",
    "import matplotlib.dates as mdates\n",
    "\n",
    "from pandas import Timestamp\n",
    "\n",
    "fred_schedule = df_usr[df_usr['name'] == 'Fred Luddy']['schedule'].iloc[0]\n",
    "fred_schedule = eval(fred_schedule)\n",
    "howard_schedule = df_usr[df_usr['name'] == 'Howard Johnson']['schedule'].iloc[0]\n",
    "howard_schedule = eval(howard_schedule)\n",
    "charlie_schedule = df_usr[df_usr['name'] == 'Charlie Whitherspoon']['schedule'].iloc[0]\n",
    "charlie_schedule = eval(charlie_schedule)\n",
    "\n",
    "# Assuming df is already defined and has 'opened_at' and 'closed_at' columns converted to datetime\n",
    "df['opened_at'] = pd.to_datetime(df['opened_at'])\n",
    "df['closed_at'] = pd.to_datetime(df['closed_at'])\n",
    "\n",
    "# Define the current date for the analysis, simulate up to the last 'opened_at' date\n",
    "current_date = df['opened_at'].max()\n",
    "# Create a range of dates from the start to the current date\n",
    "date_range = pd.date_range(start=df['opened_at'].min(), end=current_date, freq='D')\n",
    "\n",
    "# Fred's PTO schedule as list of tuples with start and end dates\n",
    "pto_schedule = fred_schedule\n",
    "\n",
    "# Plotting\n",
    "fig, ax = plt.subplots(figsize=(10, 2))  # Adjust the figure size as needed\n",
    "\n",
    "# Plot each leave period as a rectangle\n",
    "for start, end in fred_schedule:\n",
    "    ax.axvspan(start, end, color='red', alpha=0.5, label='PTO (Leave Period)')\n",
    "for start, end in howard_schedule:\n",
    "    ax.axvspan(start, end, color='blue', alpha=0.5, label='PTO (Leave Period)')\n",
    "for start, end in charlie_schedule:\n",
    "    ax.axvspan(start, end, color='green', alpha=0.5, label='PTO (Leave Period)')\n",
    "\n",
    "# Set limits, labels, title and legend\n",
    "ax.set_xlim([date_range.min(), date_range.max()])\n",
    "ax.set_ylim(0, 1)  # Static Y limits as we are only plotting periods\n",
    "ax.set_yticks([])  # Hide Y axis ticks\n",
    "ax.set_xlabel('Date')\n",
    "ax.set_title('Timeline of Fred Luddy\\'s Leave Periods')\n",
    "ax.legend(loc='upper right')\n",
    "\n",
    "# Formatting the x-axis to make it more readable\n",
    "ax.xaxis.set_major_locator(mdates.MonthLocator())\n",
    "ax.xaxis.set_major_formatter(mdates.DateFormatter('%Y-%m'))\n",
    "\n",
    "plt.xticks(rotation=45)\n",
    "plt.tight_layout()\n",
    "plt.show()"
   ]
  },
  {
   "cell_type": "markdown",
   "metadata": {},
   "source": [
    "#### Generate JSON Description for the Insight"
   ]
  },
  {
   "cell_type": "code",
   "execution_count": 7,
   "metadata": {
    "execution": {
     "iopub.execute_input": "2024-10-25T20:05:47.672233Z",
     "iopub.status.busy": "2024-10-25T20:05:47.671651Z",
     "iopub.status.idle": "2024-10-25T20:05:47.695227Z",
     "shell.execute_reply": "2024-10-25T20:05:47.693039Z"
    }
   },
   "outputs": [
    {
     "data": {
      "text/plain": [
       "{'data_type': 'descriptive',\n",
       " 'insight': 'Specific leave periods for Howard Johnson, Charlie Whitherspoon, and Fred Luddy were identified',\n",
       " 'insight_value': {'Howard Johnson': {'start_date': '2023-06-01',\n",
       "   'end_date': '2023-06-28'},\n",
       "  'Charlie Whitherspoon': {'start_date': '2023-06-14',\n",
       "   'end_date': '2023-07-19'},\n",
       "  'Fred Luddy': {'start_date': '2023-07-13', 'end_date': '2023-08-28'}},\n",
       " 'plot': {'plot_type': 'timeline',\n",
       "  'title': 'PTO Periods for Howard Johnson, Charlie Whitherspoon, and Fred Luddy',\n",
       "  'x_axis': {'name': 'Date',\n",
       "   'value': ['2023-06-01', '2023-08-15'],\n",
       "   'description': 'This represents the timeline from the earliest start to the latest end of the PTO periods.'},\n",
       "  'y_axis': {'name': 'Agent',\n",
       "   'value': ['Howard Johnson', 'Charlie Whitherspoon', 'Fred Luddy'],\n",
       "   'description': 'This axis represents the agents who were on leave.'},\n",
       "  'description': \"The timeline plot visualizes the leave periods of Howard Johnson, Charlie Whitherspoon, and Fred Luddy with distinct colors. Howard's leave is shown in red, Charlie's in blue, and Fred's in green. These periods overlap, indicating a time frame from June 1, 2023, to August 15, 2023, when at least one of these agents was on leave.\"},\n",
       " 'question': 'What are the exact dates when the other three agents were on PTO?',\n",
       " 'actionable_insight': 'Understanding the overlap in leave periods among these agents provides valuable insight into staffing challenges that may have contributed to the increased workload for Beth Anglin and Luke Wilson. To mitigate such impacts in the future, consider strategic leave planning and perhaps temporary staffing solutions during overlapping leave periods to maintain balanced incident handling capacity.'}"
      ]
     },
     "execution_count": 7,
     "metadata": {},
     "output_type": "execute_result"
    }
   ],
   "source": [
    "{\n",
    "    \"data_type\": \"descriptive\",\n",
    "    \"insight\": \"Specific leave periods for Howard Johnson, Charlie Whitherspoon, and Fred Luddy were identified\",\n",
    "    \"insight_value\": {\n",
    "        \"Howard Johnson\": {\"start_date\": \"2023-06-01\", \"end_date\": \"2023-06-28\"},\n",
    "        \"Charlie Whitherspoon\": {\"start_date\": \"2023-06-14\", \"end_date\": \"2023-07-19\"},\n",
    "        \"Fred Luddy\": {\"start_date\": \"2023-07-13\", \"end_date\": \"2023-08-28\"}\n",
    "    },\n",
    "    \"plot\": {\n",
    "        \"plot_type\": \"timeline\",\n",
    "        \"title\": \"PTO Periods for Howard Johnson, Charlie Whitherspoon, and Fred Luddy\",\n",
    "        \"x_axis\": {\n",
    "            \"name\": \"Date\",\n",
    "            \"value\": [\"2023-06-01\", \"2023-08-15\"],\n",
    "            \"description\": \"This represents the timeline from the earliest start to the latest end of the PTO periods.\"\n",
    "        },\n",
    "        \"y_axis\": {\n",
    "            \"name\": \"Agent\",\n",
    "            \"value\": [\"Howard Johnson\", \"Charlie Whitherspoon\", \"Fred Luddy\"],\n",
    "            \"description\": \"This axis represents the agents who were on leave.\"\n",
    "        },\n",
    "        \"description\": \"The timeline plot visualizes the leave periods of Howard Johnson, Charlie Whitherspoon, and Fred Luddy with distinct colors. Howard's leave is shown in red, Charlie's in blue, and Fred's in green. These periods overlap, indicating a time frame from June 1, 2023, to August 15, 2023, when at least one of these agents was on leave.\"\n",
    "    },\n",
    "    \"question\": \"What are the exact dates when the other three agents were on PTO?\",\n",
    "    \"actionable_insight\": \"Understanding the overlap in leave periods among these agents provides valuable insight into staffing challenges that may have contributed to the increased workload for Beth Anglin and Luke Wilson. To mitigate such impacts in the future, consider strategic leave planning and perhaps temporary staffing solutions during overlapping leave periods to maintain balanced incident handling capacity.\"\n",
    "}"
   ]
  },
  {
   "cell_type": "markdown",
   "metadata": {},
   "source": [
    "### **Question 3: Is there a change in the category of incidents assigned to Beth Anglin and Luke Wilson during the other agents' PTO?**"
   ]
  },
  {
   "cell_type": "markdown",
   "metadata": {},
   "source": [
    "#### Plot number of incidents created over time by category for Beth Anglin and Luke Wilson\n",
    "This cell creates a count plot to analyze the distribution of incident categories assigned to Beth Anglin and Luke Wilson during the leave periods of other agents such as Howard Johnson, Charlie Whitherspoon, and Fred Luddy. "
   ]
  },
  {
   "cell_type": "code",
   "execution_count": 8,
   "metadata": {
    "execution": {
     "iopub.execute_input": "2024-10-25T20:05:47.711487Z",
     "iopub.status.busy": "2024-10-25T20:05:47.710985Z",
     "iopub.status.idle": "2024-10-25T20:05:48.927060Z",
     "shell.execute_reply": "2024-10-25T20:05:48.924560Z"
    }
   },
   "outputs": [
    {
     "data": {
      "image/png": "[encoded data removed]",
      "text/plain": [
       "<Figure size 864x432 with 1 Axes>"
      ]
     },
     "metadata": {
      "needs_background": "light"
     },
     "output_type": "display_data"
    }
   ],
   "source": [
    "import seaborn as sns\n",
    "import matplotlib.pyplot as plt\n",
    "\n",
    "# Put the data into a DataFrame\n",
    "\n",
    "# Sort the DataFrame by the opened_at column\n",
    "df = df.sort_values(\"opened_at\")\n",
    "df[\"opened_at\"] = pd.to_datetime(df[\"opened_at\"])\n",
    "df[\"closed_at\"] = pd.to_datetime(df[\"closed_at\"])\n",
    "# Create a new column 'month_year' to make the plot more readable\n",
    "df[\"month_year\"] = df[\"opened_at\"].dt.to_period(\"M\")\n",
    "\n",
    "# Create a countplot\n",
    "plt.figure(figsize=(12, 6))\n",
    "sns.countplot(data=df, x=\"month_year\", hue=\"category\")\n",
    "plt.title(\"Number of Incidents Created Over Time by Category\")\n",
    "plt.xticks(rotation=45)\n",
    "plt.show()"
   ]
  },
  {
   "cell_type": "markdown",
   "metadata": {},
   "source": [
    "#### Generate JSON Description for the Insight"
   ]
  },
  {
   "cell_type": "code",
   "execution_count": 9,
   "metadata": {
    "execution": {
     "iopub.execute_input": "2024-10-25T20:05:48.944455Z",
     "iopub.status.busy": "2024-10-25T20:05:48.943940Z",
     "iopub.status.idle": "2024-10-25T20:05:48.970043Z",
     "shell.execute_reply": "2024-10-25T20:05:48.964145Z"
    }
   },
   "outputs": [
    {
     "data": {
      "text/plain": [
       "{'data_type': 'diagnostic',\n",
       " 'insight': \"There was no significant change in the distribution of incident categories for Beth Anglin and Luke Wilson during the other agents' PTO,\",\n",
       " 'insight_value': {'categories': ['Network',\n",
       "   'Software',\n",
       "   'Hardware',\n",
       "   'Inquiry / Help',\n",
       "   'Database'],\n",
       "  'observation': 'Consistent distribution across all periods'},\n",
       " 'plot': {'plot_type': 'histogram',\n",
       "  'title': 'Distribution of Incident Categories Over Time',\n",
       "  'x_axis': {'name': 'Category',\n",
       "   'value': ['Network', 'Software', 'Hardware', 'Inquiry / Help', 'Database'],\n",
       "   'description': 'This represents the different categories of incidents handled by the agents.'},\n",
       "  'y_axis': {'name': 'Number of Incidents',\n",
       "   'value': 'Count of incidents in each category',\n",
       "   'description': 'This represents the number of incidents per category over the entire time period.'},\n",
       "  'description': 'The histogram displays the distribution of incidents across different categories over time, with a focus on the periods when other agents were on PTO. There is no noticeable change in the distribution of incident categories for Beth Anglin and Luke Wilson during the leave periods of other agents. '},\n",
       " 'question': \"Is there a change in the category of incidents assigned to Beth Anglin and Luke Wilson during the other agents' PTO?\",\n",
       " 'actionable_insight': 'Given that the distribution of incident categories remains consistent even during the absence of other agents, it suggests that Beth Anglin and Luke Wilson are equipped to handle a diverse range of incident types.  This could involve specific training for all agents in these areas or considering a reallocation of tasks to balance the workload more evenly across the team.'}"
      ]
     },
     "execution_count": 9,
     "metadata": {},
     "output_type": "execute_result"
    }
   ],
   "source": [
    "{\n",
    "    \"data_type\": \"diagnostic\",\n",
    "    \"insight\": \"There was no significant change in the distribution of incident categories for Beth Anglin and Luke Wilson during the other agents' PTO,\",\n",
    "    \"insight_value\": {\n",
    "        \"categories\": [\"Network\", \"Software\", \"Hardware\", \"Inquiry / Help\", \"Database\"],\n",
    "        \"observation\": \"Consistent distribution across all periods\"\n",
    "    },\n",
    "    \"plot\": {\n",
    "        \"plot_type\": \"histogram\",\n",
    "        \"title\": \"Distribution of Incident Categories Over Time\",\n",
    "        \"x_axis\": {\n",
    "            \"name\": \"Category\",\n",
    "            \"value\": [\"Network\", \"Software\", \"Hardware\", \"Inquiry / Help\", \"Database\"],\n",
    "            \"description\": \"This represents the different categories of incidents handled by the agents.\"\n",
    "        },\n",
    "        \"y_axis\": {\n",
    "            \"name\": \"Number of Incidents\",\n",
    "            \"value\": \"Count of incidents in each category\",\n",
    "            \"description\": \"This represents the number of incidents per category over the entire time period.\"\n",
    "        },\n",
    "        \"description\": \"The histogram displays the distribution of incidents across different categories over time, with a focus on the periods when other agents were on PTO. There is no noticeable change in the distribution of incident categories for Beth Anglin and Luke Wilson during the leave periods of other agents. \"\n",
    "    },\n",
    "    \"question\": \"Is there a change in the category of incidents assigned to Beth Anglin and Luke Wilson during the other agents' PTO?\",\n",
    "    \"actionable_insight\": \"Given that the distribution of incident categories remains consistent even during the absence of other agents, it suggests that Beth Anglin and Luke Wilson are equipped to handle a diverse range of incident types.  This could involve specific training for all agents in these areas or considering a reallocation of tasks to balance the workload more evenly across the team.\"\n",
    "}"
   ]
  },
  {
   "cell_type": "markdown",
   "metadata": {},
   "source": [
    "### **Question 4: What happens to the distribution of incident assignments after the other agents return from their leave?**"
   ]
  },
  {
   "cell_type": "markdown",
   "metadata": {},
   "source": [
    "#### Plot distribution of incident assignments post leave period\n",
    "This cell examines the redistribution of incident assignments among agents following their return from leave, aiming to assess how workload normalization occurs after temporary shifts in responsibilities during absence periods. "
   ]
  },
  {
   "cell_type": "code",
   "execution_count": 10,
   "metadata": {
    "execution": {
     "iopub.execute_input": "2024-10-25T20:05:48.988426Z",
     "iopub.status.busy": "2024-10-25T20:05:48.987926Z",
     "iopub.status.idle": "2024-10-25T20:05:49.524686Z",
     "shell.execute_reply": "2024-10-25T20:05:49.522430Z"
    }
   },
   "outputs": [
    {
     "name": "stderr",
     "output_type": "stream",
     "text": [
      "<ipython-input-10-5ea6d211f58c>:19: FutureWarning: \n",
      "\n",
      "Passing `palette` without assigning `hue` is deprecated and will be removed in v0.14.0. Assign the `x` variable to `hue` and set `legend=False` for the same effect.\n",
      "\n",
      "  sns.barplot(x='Agent', y='Incident Count', data=post_leave_counts, palette='viridis')\n"
     ]
    },
    {
     "data": {
      "image/png": "[encoded data removed]",
      "text/plain": [
       "<Figure size 720x432 with 1 Axes>"
      ]
     },
     "metadata": {
      "needs_background": "light"
     },
     "output_type": "display_data"
    }
   ],
   "source": [
    "import pandas as pd\n",
    "import matplotlib.pyplot as plt\n",
    "import seaborn as sns\n",
    "\n",
    "# Assuming df is already loaded and has the necessary columns\n",
    "# Define the post-leave period (assuming leave ends on 2023-08-15)\n",
    "post_leave_start_date = pd.to_datetime(\"2023-08-16\")\n",
    "data_end_date = df['opened_at'].max()\n",
    "\n",
    "# Filter incidents that were opened after the leave period\n",
    "post_leave_incidents = df[(df['opened_at'] > post_leave_start_date) & (df['opened_at'] <= data_end_date)]\n",
    "\n",
    "# Count the number of incidents assigned to each agent in the post-leave period\n",
    "post_leave_counts = post_leave_incidents['assigned_to'].value_counts().reset_index()\n",
    "post_leave_counts.columns = ['Agent', 'Incident Count']\n",
    "\n",
    "# Plotting\n",
    "plt.figure(figsize=(10, 6))\n",
    "sns.barplot(x='Agent', y='Incident Count', data=post_leave_counts, palette='viridis')\n",
    "plt.title('Distribution of Incident Assignments Post Leave Period')\n",
    "plt.xlabel('Agent')\n",
    "plt.ylabel('Number of Incidents')\n",
    "plt.xticks(rotation=45)\n",
    "plt.show()"
   ]
  },
  {
   "cell_type": "markdown",
   "metadata": {},
   "source": [
    "#### Generate JSON Description for the Insight"
   ]
  },
  {
   "cell_type": "code",
   "execution_count": 11,
   "metadata": {
    "execution": {
     "iopub.execute_input": "2024-10-25T20:05:49.538049Z",
     "iopub.status.busy": "2024-10-25T20:05:49.537457Z",
     "iopub.status.idle": "2024-10-25T20:05:49.557920Z",
     "shell.execute_reply": "2024-10-25T20:05:49.555650Z"
    }
   },
   "outputs": [
    {
     "data": {
      "text/plain": [
       "{'data_type': 'descriptive',\n",
       " 'insight': 'The distribution of incident assignments becomes uniform after the other agents return from their leave',\n",
       " 'insight_value': {'observation': 'Uniform distribution of assignments across all agents'},\n",
       " 'plot': {'plot_type': 'bar',\n",
       "  'title': 'Distribution of Incident Assignments Post Leave Period',\n",
       "  'x_axis': {'name': 'Agent',\n",
       "   'value': ['Beth Anglin',\n",
       "    'Luke Wilson',\n",
       "    'Howard Johnson',\n",
       "    'Charlie Whitherspoon',\n",
       "    'Fred Luddy'],\n",
       "   'description': 'This represents the agents handling incidents.'},\n",
       "  'y_axis': {'name': 'Number of Incidents',\n",
       "   'value': 'Count of incidents assigned per agent',\n",
       "   'description': 'This represents the number of incidents assigned to each agent in the post-leave period.'},\n",
       "  'description': 'The bar chart displays the number of incidents assigned to each agent after the other agents returned from their leave. The distribution of assignments is shown to be uniform across all agents, indicating a balanced workload distribution. This suggests that any previous imbalances during the leave period have been resolved and normal operations have resumed.'},\n",
       " 'question': 'What happens to the distribution of incident assignments after the other agents return from their leave?',\n",
       " 'actionable_insight': 'Given the return to a uniform distribution of incident assignments post-leave, it is important to maintain this balance to ensure operational efficiency and fairness. Regular monitoring of assignment distributions should be implemented, especially during and after leave periods, to quickly address any potential imbalances. This proactive approach will help maintain staff satisfaction and prevent workload-related issues.'}"
      ]
     },
     "execution_count": 11,
     "metadata": {},
     "output_type": "execute_result"
    }
   ],
   "source": [
    "{\n",
    "    \"data_type\": \"descriptive\",\n",
    "    \"insight\": \"The distribution of incident assignments becomes uniform after the other agents return from their leave\",\n",
    "    \"insight_value\": {\n",
    "        \"observation\": \"Uniform distribution of assignments across all agents\"\n",
    "    },\n",
    "    \"plot\": {\n",
    "        \"plot_type\": \"bar\",\n",
    "        \"title\": \"Distribution of Incident Assignments Post Leave Period\",\n",
    "        \"x_axis\": {\n",
    "            \"name\": \"Agent\",\n",
    "            \"value\": [\"Beth Anglin\", \"Luke Wilson\", \"Howard Johnson\", \"Charlie Whitherspoon\", \"Fred Luddy\"],\n",
    "            \"description\": \"This represents the agents handling incidents.\"\n",
    "        },\n",
    "        \"y_axis\": {\n",
    "            \"name\": \"Number of Incidents\",\n",
    "            \"value\": \"Count of incidents assigned per agent\",\n",
    "            \"description\": \"This represents the number of incidents assigned to each agent in the post-leave period.\"\n",
    "        },\n",
    "        \"description\": \"The bar chart displays the number of incidents assigned to each agent after the other agents returned from their leave. The distribution of assignments is shown to be uniform across all agents, indicating a balanced workload distribution. This suggests that any previous imbalances during the leave period have been resolved and normal operations have resumed.\"\n",
    "    },\n",
    "    \"question\": \"What happens to the distribution of incident assignments after the other agents return from their leave?\",\n",
    "    \"actionable_insight\": \"Given the return to a uniform distribution of incident assignments post-leave, it is important to maintain this balance to ensure operational efficiency and fairness. Regular monitoring of assignment distributions should be implemented, especially during and after leave periods, to quickly address any potential imbalances. This proactive approach will help maintain staff satisfaction and prevent workload-related issues.\"\n",
    "}"
   ]
  },
  {
   "cell_type": "markdown",
   "metadata": {},
   "source": [
    "### **Question 5:** How does the resolution time (TTR) for incidents handled by Beth Anglin and Luke Wilson during this period compare to other times?"
   ]
  },
  {
   "cell_type": "markdown",
   "metadata": {},
   "source": [
    "#### Plot time to resolution by creation date for Beth Anglin and Luke Wilson.\n",
    "This cell does a line plot to compare the Time to Resolution (TTR) for incidents handled by Beth Anglin and Luke Wilson during different periods, focusing on changes during and after other agents' leave periods. This analysis helps determine whether increased workloads during other agents absences affect the efficiency of Beth and Luke. "
   ]
  },
  {
   "cell_type": "code",
   "execution_count": 12,
   "metadata": {
    "execution": {
     "iopub.execute_input": "2024-10-25T20:05:49.574253Z",
     "iopub.status.busy": "2024-10-25T20:05:49.573693Z",
     "iopub.status.idle": "2024-10-25T20:05:50.839738Z",
     "shell.execute_reply": "2024-10-25T20:05:50.837218Z"
    }
   },
   "outputs": [
    {
     "data": {
      "text/plain": [
       "Text(0.5, 1.0, 'Time to resolution by creation date')"
      ]
     },
     "execution_count": 12,
     "metadata": {},
     "output_type": "execute_result"
    },
    {
     "data": {
      "image/png": "[encoded data removed]",
      "text/plain": [
       "<Figure size 432x288 with 1 Axes>"
      ]
     },
     "metadata": {
      "needs_background": "light"
     },
     "output_type": "display_data"
    }
   ],
   "source": [
    "# Convert opened_at and closed_at to datetime\n",
    "df[\"opened_at\"] = pd.to_datetime(df[\"opened_at\"])\n",
    "df[\"closed_at\"] = pd.to_datetime(df[\"closed_at\"])\n",
    "# Compute resolution time in days\n",
    "df[\"resolution_time\"] = (df[\"closed_at\"] - df[\"opened_at\"]).dt.total_seconds() / 86400\n",
    "\n",
    "sns.lineplot(x=df[\"opened_at\"], y=df[\"resolution_time\"], hue=df[\"assigned_to\"])\n",
    "plt.xlabel(\"Creation date\")\n",
    "plt.ylabel(\"Time to resolution\")\n",
    "plt.title(\"Time to resolution by creation date\")"
   ]
  },
  {
   "cell_type": "markdown",
   "metadata": {},
   "source": [
    "#### Generate JSON Description for the Insight"
   ]
  },
  {
   "cell_type": "code",
   "execution_count": 13,
   "metadata": {
    "execution": {
     "iopub.execute_input": "2024-10-25T20:05:50.854320Z",
     "iopub.status.busy": "2024-10-25T20:05:50.853753Z",
     "iopub.status.idle": "2024-10-25T20:05:50.874165Z",
     "shell.execute_reply": "2024-10-25T20:05:50.871840Z"
    }
   },
   "outputs": [
    {
     "data": {
      "text/plain": [
       "{'data_type': 'analytical',\n",
       " 'insight': 'The resolution time (TTR) for all is slightly decreasing over time',\n",
       " 'insight_value': {'observation': 'Consistent decrease in TTR for all agents'},\n",
       " 'plot': {'plot_type': 'line',\n",
       "  'title': 'Trend of Resolution Time (TTR) for Beth Anglin and Luke Wilson Over Time',\n",
       "  'x_axis': {'name': 'Time',\n",
       "   'value': 'Timeline from the start to the end of the data set',\n",
       "   'description': 'This axis represents the timeline over which the TTR data is analyzed.'},\n",
       "  'y_axis': {'name': 'Resolution Time (days)',\n",
       "   'value': 'Measured TTR in days',\n",
       "   'description': 'This represents the time taken to resolve incidents, measured in days.'},\n",
       "  'description': 'The line plot illustrates the trend of resolution times all agents over time. The consistent decrease in resolution time indicates an improvement in incident handling efficiency. This trend suggests that the agents are becoming more adept at resolving incidents in a timely manner.'},\n",
       " 'question': 'How does the resolution time (TTR) for incidents handled by agents during this period compare to other times?',\n",
       " 'actionable_insight': 'The decreasing trend in resolution time is a positive indicator of improved efficiency in incident resolution. To maintain this trend, it is essential to identify the factors contributing to the decrease and implement best practices across the team. Regular training, knowledge sharing, and process improvements can help sustain and further improve the resolution time, leading to enhanced service quality and customer satisfaction.'}"
      ]
     },
     "execution_count": 13,
     "metadata": {},
     "output_type": "execute_result"
    }
   ],
   "source": [
    "{\n",
    "    \"data_type\": \"analytical\",\n",
    "    \"insight\": \"The resolution time (TTR) for all is slightly decreasing over time\",\n",
    "    \"insight_value\": {\n",
    "        \"observation\": \"Consistent decrease in TTR for all agents\"\n",
    "    },\n",
    "    \"plot\": {\n",
    "        \"plot_type\": \"line\",\n",
    "        \"title\": \"Trend of Resolution Time (TTR) for Beth Anglin and Luke Wilson Over Time\",\n",
    "        \"x_axis\": {\n",
    "            \"name\": \"Time\",\n",
    "            \"value\": \"Timeline from the start to the end of the data set\",\n",
    "            \"description\": \"This axis represents the timeline over which the TTR data is analyzed.\"\n",
    "        },\n",
    "        \"y_axis\": {\n",
    "            \"name\": \"Resolution Time (days)\",\n",
    "            \"value\": \"Measured TTR in days\",\n",
    "            \"description\": \"This represents the time taken to resolve incidents, measured in days.\"\n",
    "        },\n",
    "        \"description\": \"The line plot illustrates the trend of resolution times all agents over time. The consistent decrease in resolution time indicates an improvement in incident handling efficiency. This trend suggests that the agents are becoming more adept at resolving incidents in a timely manner.\"\n",
    "    },\n",
    "    \"question\": \"How does the resolution time (TTR) for incidents handled by agents during this period compare to other times?\",\n",
    "    \"actionable_insight\": \"The decreasing trend in resolution time is a positive indicator of improved efficiency in incident resolution. To maintain this trend, it is essential to identify the factors contributing to the decrease and implement best practices across the team. Regular training, knowledge sharing, and process improvements can help sustain and further improve the resolution time, leading to enhanced service quality and customer satisfaction.\"\n",
    "}"
   ]
  },
  {
   "cell_type": "markdown",
   "metadata": {},
   "source": [
    "### **Question 6:** What are the potential consequences of not addressing the anomaly or trend of increasing assignments during employee leave periods?\n"
   ]
  },
  {
   "cell_type": "markdown",
   "metadata": {},
   "source": [
    "#### Plot projected increase in incident assignments for Beth Anglin from August 16, 2023.\n",
    "This cell uses linear regression to predict future trends in the number of incidents assigned to Beth Anglin following a significant cutoff period marked by other agents leave. By analyzing historical data up to August 15, 2023, and forecasting beyond this date, the plot aims to highlight the potential consequences of not addressing imbalances during such leave periods. "
   ]
  },
  {
   "cell_type": "code",
   "execution_count": 14,
   "metadata": {
    "execution": {
     "iopub.execute_input": "2024-10-25T20:05:50.889623Z",
     "iopub.status.busy": "2024-10-25T20:05:50.889039Z",
     "iopub.status.idle": "2024-10-25T20:05:52.335060Z",
     "shell.execute_reply": "2024-10-25T20:05:52.332367Z"
    }
   },
   "outputs": [
    {
     "data": {
      "image/png": "[encoded data removed]",
      "text/plain": [
       "<Figure size 864x432 with 1 Axes>"
      ]
     },
     "metadata": {
      "needs_background": "light"
     },
     "output_type": "display_data"
    }
   ],
   "source": [
    "import pandas as pd\n",
    "import numpy as np\n",
    "import matplotlib.pyplot as plt\n",
    "import matplotlib.dates as mdates\n",
    "from sklearn.linear_model import LinearRegression\n",
    "\n",
    "# Load data\n",
    "dataset_path = \"csvs/flag-62.csv\"\n",
    "\n",
    "\n",
    "# Load the dataset\n",
    "df = pd.read_csv(dataset_path)\n",
    "df = df[df['assigned_to'] == 'Beth Anglin']\n",
    "df['opened_at'] = pd.to_datetime(df['opened_at'])\n",
    "\n",
    "# Define the cutoff date for the training data\n",
    "cutoff_date = pd.to_datetime(\"2023-08-15\")\n",
    "\n",
    "# Filter the data to include only dates up to the cutoff date\n",
    "training_data = df[df['opened_at'] <= cutoff_date]\n",
    "\n",
    "# Count incidents over time for Beth Anglin in the training data\n",
    "incident_counts = training_data.groupby(training_data['opened_at'].dt.to_period(\"M\")).size().reset_index(name='counts')\n",
    "incident_counts['date_ordinal'] = incident_counts['opened_at'].dt.start_time.apply(lambda x: x.toordinal())\n",
    "\n",
    "# Prepare data for linear regression\n",
    "X = incident_counts['date_ordinal'].values.reshape(-1, 1)  # Reshape for sklearn\n",
    "y = incident_counts['counts'].values  # Target variable: number of incidents\n",
    "\n",
    "# Fit the linear regression model using only the training data\n",
    "model = LinearRegression()\n",
    "model.fit(X, y)\n",
    "\n",
    "# Define the start date for forecasting\n",
    "forecast_start_date = pd.to_datetime(\"2023-08-16\")\n",
    "\n",
    "# Generate future dates from the specified start date\n",
    "future_dates = pd.date_range(start=forecast_start_date, periods=120, freq='D')  # 4 months into the future\n",
    "future_dates_ordinal = [d.toordinal() for d in future_dates]\n",
    "future_preds = model.predict(np.array(future_dates_ordinal).reshape(-1, 1))\n",
    "\n",
    "# Plotting\n",
    "plt.figure(figsize=(12, 6))\n",
    "plt.scatter(incident_counts['opened_at'].dt.start_time, y, color='blue', label='Historical Incident Counts')\n",
    "plt.plot(future_dates, future_preds, color='red', linestyle='--', label='Predicted Incident Count Trend')\n",
    "plt.title('Projected Increase in Incident Assignments for Beth Anglin from August 16, 2023')\n",
    "plt.xlabel('Date')\n",
    "plt.ylabel('Number of Incidents Assigned')\n",
    "plt.legend()\n",
    "plt.grid(True)\n",
    "\n",
    "# Formatting the x-axis to make it more readable\n",
    "plt.gca().xaxis.set_major_locator(mdates.MonthLocator())\n",
    "plt.gca().xaxis.set_major_formatter(mdates.DateFormatter('%Y-%m'))\n",
    "\n",
    "plt.xticks(rotation=45)\n",
    "plt.tight_layout()\n",
    "plt.show()"
   ]
  },
  {
   "cell_type": "markdown",
   "metadata": {},
   "source": [
    "#### Generate JSON Description for the Insight"
   ]
  },
  {
   "cell_type": "code",
   "execution_count": 15,
   "metadata": {
    "execution": {
     "iopub.execute_input": "2024-10-25T20:05:52.348491Z",
     "iopub.status.busy": "2024-10-25T20:05:52.347961Z",
     "iopub.status.idle": "2024-10-25T20:05:52.364904Z",
     "shell.execute_reply": "2024-10-25T20:05:52.362937Z"
    }
   },
   "outputs": [
    {
     "data": {
      "text/plain": [
       "{'data_type': 'predictive',\n",
       " 'insight': 'There is not sufficient data to predict the future workload for agents accurately',\n",
       " 'insight_value': {'trend': 'No trend can be identified due to the limited data available',\n",
       "  'prediction': 'No reliable prediction can be made based on the current data'},\n",
       " 'description': 'The forecast model indicates no clear trend.',\n",
       " 'recommendation': {'action': 'Implement proactive workload management strategies',\n",
       "  'expected_outcome': 'Prevent workload escalation and maintain balanced distribution',\n",
       "  'urgency': 'High'},\n",
       " 'actionable_insight': 'Given the lack of a clear trend in the data, it is crucial to implement proactive workload management strategies to prevent potential workload escalation and maintain a balanced distribution of incidents among agents. This could involve real-time monitoring of incident assignments, dynamic workload allocation, and timely intervention to address any imbalances. By proactively managing the workload, the team can ensure efficient incident resolution and maintain high service levels.'}"
      ]
     },
     "execution_count": 15,
     "metadata": {},
     "output_type": "execute_result"
    }
   ],
   "source": [
    "{\n",
    "    \"data_type\": \"predictive\",\n",
    "    \"insight\": \"There is not sufficient data to predict the future workload for agents accurately\",\n",
    "    \"insight_value\": {\n",
    "        \"trend\": \"No trend can be identified due to the limited data available\",\n",
    "        \"prediction\": \"No reliable prediction can be made based on the current data\"\n",
    "    },\n",
    "    \"description\": \"The forecast model indicates no clear trend.\",\n",
    "    \"recommendation\": {\n",
    "        \"action\": \"Implement proactive workload management strategies\",\n",
    "        \"expected_outcome\": \"Prevent workload escalation and maintain balanced distribution\",\n",
    "        \"urgency\": \"High\"\n",
    "    },\n",
    "    \"actionable_insight\": \"Given the lack of a clear trend in the data, it is crucial to implement proactive workload management strategies to prevent potential workload escalation and maintain a balanced distribution of incidents among agents. This could involve real-time monitoring of incident assignments, dynamic workload allocation, and timely intervention to address any imbalances. By proactively managing the workload, the team can ensure efficient incident resolution and maintain high service levels.\"\n",
    "}"
   ]
  },
  {
   "cell_type": "markdown",
   "metadata": {},
   "source": [
    "### Summary of Findings (Flag 62):\n",
    "\n",
    "1. **No Disparity in Incident Assignments**: There is a relatively balanced distribution of incidents among agents, with no significant disparities in the number of assignments.\n",
    "2. **Impact of Leave Periods**: There is no significant impact on incident assignments during the leave periods of agents.\n",
    "3. **Efficiency Despite Increased Workload**: TTR is decreasing even with increased workload during other agents' leave periods."
   ]
  }
 ],
 "metadata": {
  "kernelspec": {
   "display_name": "stardoc",
   "language": "python",
   "name": "python3"
  },
  "language_info": {
   "codemirror_mode": {
    "name": "ipython",
    "version": 3
   },
   "file_extension": ".py",
   "mimetype": "text/x-python",
   "name": "python",
   "nbconvert_exporter": "python",
   "pygments_lexer": "ipython3",
   "version": "3.8.5"
  }
 },
 "nbformat": 4,
 "nbformat_minor": 2
}

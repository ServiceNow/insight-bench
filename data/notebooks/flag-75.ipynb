{
 "cells": [
  {
   "cell_type": "markdown",
   "metadata": {},
   "source": [
    "## Goal Achievement Rate Analysis in IT Department (Flag 75)\n",
    "\n",
    "### Dataset Description\n",
    "The dataset consists of 500 entries simulating ServiceNow `sn_gf_goal` table, which details various attributes related to organizational goals. These attributes include goal state, owner, department, start and end dates, and description, alongside metrics such as priority, percent complete, and target percentage. This data primarily tracks the progression and management of departmental and individual goals, offering insights into the effectiveness and alignment of these goals with broader organizational objectives. Additionally, the table captures updates made to each goal, providing a timeline of modifications and the identity of individuals making these updates.\n",
    "\n",
    "### Your Task\n",
    "**Goal**: Examine and analyze elevated goal achievement rates in a certain department and to leverage these insights to improve goal management across all departments.\n",
    "\n",
    "**Role**: Goal Management Analyst\n",
    "\n",
    "**Difficulty**: 2 out of 5. This notebook requires comprehensive analysis of goal prioritization and achievement rates.\n",
    "\n",
    "**Category**: Goal Management\n"
   ]
  },
  {
   "cell_type": "markdown",
   "metadata": {},
   "source": [
    "### Import Necessary Libraries\n",
    "This cell imports all necessary libraries required for the analysis. This includes libraries for data manipulation, data visualization, and any specific utilities needed for the tasks. "
   ]
  },
  {
   "cell_type": "code",
   "execution_count": 2,
   "metadata": {
    "execution": {
     "iopub.execute_input": "2024-10-29T17:17:06.761147Z",
     "iopub.status.busy": "2024-10-29T17:17:06.759421Z",
     "iopub.status.idle": "2024-10-29T17:17:10.029277Z",
     "shell.execute_reply": "2024-10-29T17:17:10.027212Z"
    }
   },
   "outputs": [],
   "source": [
    "import argparse\n",
    "import pandas as pd\n",
    "import json\n",
    "import requests\n",
    "import matplotlib.pyplot as plt\n",
    "import numpy as np\n",
    "import seaborn as sns\n",
    "from pandas import date_range"
   ]
  },
  {
   "cell_type": "markdown",
   "metadata": {},
   "source": [
    "### Load Dataset\n",
    "This cell loads the dataset used for the analysis. The goal dataset is stored in a CSV file and is loaded into a DataFrame. This step includes reading the data from a file path and possibly performing initial observations such as viewing the first few rows to ensure it has loaded correctly.\n"
   ]
  },
  {
   "cell_type": "code",
   "execution_count": 3,
   "metadata": {
    "execution": {
     "iopub.execute_input": "2024-10-29T17:17:10.045039Z",
     "iopub.status.busy": "2024-10-29T17:17:10.043911Z",
     "iopub.status.idle": "2024-10-29T17:17:10.121389Z",
     "shell.execute_reply": "2024-10-29T17:17:10.119129Z"
    }
   },
   "outputs": [
    {
     "data": {
      "text/html": [
       "<div>\n",
       "<style scoped>\n",
       "    .dataframe tbody tr th:only-of-type {\n",
       "        vertical-align: middle;\n",
       "    }\n",
       "\n",
       "    .dataframe tbody tr th {\n",
       "        vertical-align: top;\n",
       "    }\n",
       "\n",
       "    .dataframe thead th {\n",
       "        text-align: right;\n",
       "    }\n",
       "</style>\n",
       "<table border=\"1\" class=\"dataframe\">\n",
       "  <thead>\n",
       "    <tr style=\"text-align: right;\">\n",
       "      <th></th>\n",
       "      <th>target_percentage</th>\n",
       "      <th>sys_updated_by</th>\n",
       "      <th>priority</th>\n",
       "      <th>metric</th>\n",
       "      <th>percent_complete</th>\n",
       "      <th>sys_id</th>\n",
       "      <th>state</th>\n",
       "      <th>start_date</th>\n",
       "      <th>end_date</th>\n",
       "      <th>department</th>\n",
       "      <th>category</th>\n",
       "      <th>owner</th>\n",
       "      <th>description</th>\n",
       "    </tr>\n",
       "  </thead>\n",
       "  <tbody>\n",
       "    <tr>\n",
       "      <th>0</th>\n",
       "      <td>52</td>\n",
       "      <td>admin</td>\n",
       "      <td>Low</td>\n",
       "      <td>Expense Ratio</td>\n",
       "      <td>79</td>\n",
       "      <td>G000000</td>\n",
       "      <td>Completed</td>\n",
       "      <td>2022-06-17</td>\n",
       "      <td>2022-06-28</td>\n",
       "      <td>HR</td>\n",
       "      <td>Cost Reduction</td>\n",
       "      <td>User 1</td>\n",
       "      <td>Optimize the usage of duplicated resources acr...</td>\n",
       "    </tr>\n",
       "    <tr>\n",
       "      <th>1</th>\n",
       "      <td>97</td>\n",
       "      <td>admin</td>\n",
       "      <td>High</td>\n",
       "      <td>Expense Ratio</td>\n",
       "      <td>97</td>\n",
       "      <td>G000001</td>\n",
       "      <td>Completed</td>\n",
       "      <td>2022-11-14</td>\n",
       "      <td>2023-04-11</td>\n",
       "      <td>IT</td>\n",
       "      <td>Customer Satisfaction</td>\n",
       "      <td>Christian Marnell</td>\n",
       "      <td>Increase our customer satisfaction ratings fro...</td>\n",
       "    </tr>\n",
       "    <tr>\n",
       "      <th>2</th>\n",
       "      <td>69</td>\n",
       "      <td>admin</td>\n",
       "      <td>Low</td>\n",
       "      <td>Employee Turnover Rate</td>\n",
       "      <td>8</td>\n",
       "      <td>G000002</td>\n",
       "      <td>In Progress</td>\n",
       "      <td>2022-09-15</td>\n",
       "      <td>2023-07-28</td>\n",
       "      <td>HR</td>\n",
       "      <td>Efficiency</td>\n",
       "      <td>Frankie Morein</td>\n",
       "      <td>Establish more efficient communication channel...</td>\n",
       "    </tr>\n",
       "    <tr>\n",
       "      <th>3</th>\n",
       "      <td>58</td>\n",
       "      <td>admin</td>\n",
       "      <td>Medium</td>\n",
       "      <td>Employee Turnover Rate</td>\n",
       "      <td>25</td>\n",
       "      <td>G000003</td>\n",
       "      <td>Cancelled</td>\n",
       "      <td>2022-03-16</td>\n",
       "      <td>2023-07-06</td>\n",
       "      <td>Marketing</td>\n",
       "      <td>Employee Satisfaction</td>\n",
       "      <td>Jess Assad</td>\n",
       "      <td>Develop and implement a comprehensive Employee...</td>\n",
       "    </tr>\n",
       "    <tr>\n",
       "      <th>4</th>\n",
       "      <td>76</td>\n",
       "      <td>admin</td>\n",
       "      <td>Low</td>\n",
       "      <td>Survey Score</td>\n",
       "      <td>13</td>\n",
       "      <td>G000004</td>\n",
       "      <td>In Progress</td>\n",
       "      <td>2022-08-02</td>\n",
       "      <td>2022-07-18</td>\n",
       "      <td>IT</td>\n",
       "      <td>Revenue Growth</td>\n",
       "      <td>Devon Teston</td>\n",
       "      <td>Increase the number of premium subscriptions b...</td>\n",
       "    </tr>\n",
       "  </tbody>\n",
       "</table>\n",
       "</div>"
      ],
      "text/plain": [
       "   target_percentage sys_updated_by priority                  metric  \\\n",
       "0                 52          admin      Low           Expense Ratio   \n",
       "1                 97          admin     High           Expense Ratio   \n",
       "2                 69          admin      Low  Employee Turnover Rate   \n",
       "3                 58          admin   Medium  Employee Turnover Rate   \n",
       "4                 76          admin      Low            Survey Score   \n",
       "\n",
       "   percent_complete   sys_id        state  start_date    end_date department  \\\n",
       "0                79  G000000    Completed  2022-06-17  2022-06-28         HR   \n",
       "1                97  G000001    Completed  2022-11-14  2023-04-11         IT   \n",
       "2                 8  G000002  In Progress  2022-09-15  2023-07-28         HR   \n",
       "3                25  G000003    Cancelled  2022-03-16  2023-07-06  Marketing   \n",
       "4                13  G000004  In Progress  2022-08-02  2022-07-18         IT   \n",
       "\n",
       "                category              owner  \\\n",
       "0         Cost Reduction             User 1   \n",
       "1  Customer Satisfaction  Christian Marnell   \n",
       "2             Efficiency     Frankie Morein   \n",
       "3  Employee Satisfaction         Jess Assad   \n",
       "4         Revenue Growth       Devon Teston   \n",
       "\n",
       "                                         description  \n",
       "0  Optimize the usage of duplicated resources acr...  \n",
       "1  Increase our customer satisfaction ratings fro...  \n",
       "2  Establish more efficient communication channel...  \n",
       "3  Develop and implement a comprehensive Employee...  \n",
       "4  Increase the number of premium subscriptions b...  "
      ]
     },
     "execution_count": 3,
     "metadata": {},
     "output_type": "execute_result"
    }
   ],
   "source": [
    "dataset_path = \"csvs/flag-75.csv\"\n",
    "goal_data = pd.read_csv(dataset_path)\n",
    "df = pd.read_csv(dataset_path)\n",
    "goal_data.head()\n"
   ]
  },
  {
   "cell_type": "markdown",
   "metadata": {},
   "source": [
    "### **Question 1: How does the progress of tasks in different departments correlate with their priority levels?**\n"
   ]
  },
  {
   "cell_type": "markdown",
   "metadata": {},
   "source": [
    "#### Plotting average progress of tasks across departments by priority\n",
    "This analysis explores how various departments prioritize tasks and the resulting progress on those tasks. By examining the average percentage of task completion per department at different priority levels, we gain insight into how effectively each department allocates resources and maintains focus across their primary goals.\n"
   ]
  },
  {
   "cell_type": "code",
   "execution_count": 4,
   "metadata": {
    "execution": {
     "iopub.execute_input": "2024-10-29T17:17:10.137818Z",
     "iopub.status.busy": "2024-10-29T17:17:10.137009Z",
     "iopub.status.idle": "2024-10-29T17:17:10.665908Z",
     "shell.execute_reply": "2024-10-29T17:17:10.663846Z"
    }
   },
   "outputs": [
    {
     "data": {
      "image/png": "[encoded data removed]",
      "text/plain": [
       "<Figure size 720x432 with 2 Axes>"
      ]
     },
     "metadata": {
      "needs_background": "light"
     },
     "output_type": "display_data"
    }
   ],
   "source": [
    "import pandas as pd\n",
    "import matplotlib.pyplot as plt\n",
    "import seaborn as sns\n",
    "\n",
    "# Load the data\n",
    "flag_data = pd.read_csv(\"csvs/flag-75.csv\")\n",
    "\n",
    "# Group by 'department' and 'priority' to calculate the average 'percent_complete' for each combination\n",
    "department_priority_progress = (\n",
    "    flag_data.groupby([\"department\", \"priority\"])[\"percent_complete\"]\n",
    "    .mean()\n",
    "    .reset_index()\n",
    ")\n",
    "\n",
    "# Pivot data for easier plotting\n",
    "pivot_data = department_priority_progress.pivot(\n",
    "    index=\"department\", columns=\"priority\", values=\"percent_complete\"\n",
    ")\n",
    "\n",
    "# Create a heatmap to visualize the average progress of tasks in each department by priority\n",
    "plt.figure(figsize=(10, 6))\n",
    "sns.heatmap(\n",
    "    pivot_data, annot=True, cmap=\"YlGnBu\", cbar_kws={\"label\": \"Average % Complete\"}\n",
    ")\n",
    "plt.title(\"Average Task Completion by Department and Priority Level\")\n",
    "plt.xlabel(\"Priority\")\n",
    "plt.ylabel(\"Department\")\n",
    "plt.show()"
   ]
  },
  {
   "cell_type": "markdown",
   "metadata": {},
   "source": [
    "#### Generate JSON Description for the Insight"
   ]
  },
  {
   "cell_type": "code",
   "execution_count": 5,
   "metadata": {
    "execution": {
     "iopub.execute_input": "2024-10-29T17:17:10.681353Z",
     "iopub.status.busy": "2024-10-29T17:17:10.680549Z",
     "iopub.status.idle": "2024-10-29T17:17:10.708880Z",
     "shell.execute_reply": "2024-10-29T17:17:10.706658Z"
    }
   },
   "outputs": [
    {
     "data": {
      "text/plain": [
       "{'data_type': 'correlative',\n",
       " 'insight': 'Departments consistently achieve higher task completion rates for Critical and High priority tasks, with significant variance in progress on lower priorities.',\n",
       " 'insight_value': {'description': 'Finance and Marketing departments, in particular, show a noticeable trend where Critical and High priority tasks have average completion rates above 70%, while Low and Medium priority tasks lag significantly, averaging closer to 40%.'},\n",
       " 'plot': {'plot_type': 'heatmap',\n",
       "  'title': 'Average Task Completion by Department and Priority Level',\n",
       "  'x_axis': {'name': 'Priority',\n",
       "   'value': ['Critical', 'High', 'Medium', 'Low'],\n",
       "   'description': 'The priority levels assigned to tasks within each department.'},\n",
       "  'y_axis': {'name': 'Department',\n",
       "   'value': ['Finance', 'HR', 'IT', 'Marketing'],\n",
       "   'description': 'The departments within the organization that are being compared in terms of task completion progress.'},\n",
       "  'description': 'The heatmap highlights that higher-priority tasks are generally more complete across departments, with completion rates decreasing as priority levels decrease, especially within the Finance and Marketing departments.'},\n",
       " 'question': 'How does the progress of tasks in different departments correlate with their priority levels?',\n",
       " 'actionable_insight': 'Departments should consider reallocating resources to lower-priority tasks to prevent significant disparities in task completion. Focusing on bringing Low and Medium priority tasks closer to completion could improve overall operational balance. Additionally, this data may inform better prioritization practices by emphasizing the need to maintain steady progress across all task levels.'}"
      ]
     },
     "execution_count": 5,
     "metadata": {},
     "output_type": "execute_result"
    }
   ],
   "source": [
    "{\n",
    "    \"data_type\": \"correlative\",\n",
    "    \"insight\": \"Departments consistently achieve higher task completion rates for Critical and High priority tasks, with significant variance in progress on lower priorities.\",\n",
    "    \"insight_value\": {\n",
    "        \"description\": \"Finance and Marketing departments, in particular, show a noticeable trend where Critical and High priority tasks have average completion rates above 70%, while Low and Medium priority tasks lag significantly, averaging closer to 40%.\"\n",
    "    },\n",
    "    \"plot\": {\n",
    "        \"plot_type\": \"heatmap\",\n",
    "        \"title\": \"Average Task Completion by Department and Priority Level\",\n",
    "        \"x_axis\": {\n",
    "            \"name\": \"Priority\",\n",
    "            \"value\": [\"Critical\", \"High\", \"Medium\", \"Low\"],\n",
    "            \"description\": \"The priority levels assigned to tasks within each department.\",\n",
    "        },\n",
    "        \"y_axis\": {\n",
    "            \"name\": \"Department\",\n",
    "            \"value\": [\"Finance\", \"HR\", \"IT\", \"Marketing\"],\n",
    "            \"description\": \"The departments within the organization that are being compared in terms of task completion progress.\",\n",
    "        },\n",
    "        \"description\": \"The heatmap highlights that higher-priority tasks are generally more complete across departments, with completion rates decreasing as priority levels decrease, especially within the Finance and Marketing departments.\",\n",
    "    },\n",
    "    \"question\": \"How does the progress of tasks in different departments correlate with their priority levels?\",\n",
    "    \"actionable_insight\": \"Departments should consider reallocating resources to lower-priority tasks to prevent significant disparities in task completion. Focusing on bringing Low and Medium priority tasks closer to completion could improve overall operational balance. Additionally, this data may inform better prioritization practices by emphasizing the need to maintain steady progress across all task levels.\",\n",
    "}"
   ]
  },
  {
   "cell_type": "markdown",
   "metadata": {},
   "source": [
    "### **Question 2:** What proportion of goals in the IT department are classified as High or Critical priority compared to other departments?"
   ]
  },
  {
   "cell_type": "markdown",
   "metadata": {},
   "source": [
    "#### Plot proportion of successful goals by priority in IT department\n",
    "\n",
    "This bar plot depicts the success rates of goals within the IT department, categorized by their priority levels: Critical, High, Medium, and Low. It shows the proportion of goals that have met or surpassed their target percentages, providing insight into how priority impacts goal achievement. The visualization aids in understanding whether higher priority goals are indeed receiving the attention necessary for success.\n"
   ]
  },
  {
   "cell_type": "code",
   "execution_count": 6,
   "metadata": {
    "execution": {
     "iopub.execute_input": "2024-10-29T17:17:10.725394Z",
     "iopub.status.busy": "2024-10-29T17:17:10.724634Z",
     "iopub.status.idle": "2024-10-29T17:17:11.150523Z",
     "shell.execute_reply": "2024-10-29T17:17:11.147928Z"
    }
   },
   "outputs": [
    {
     "name": "stderr",
     "output_type": "stream",
     "text": [
      "<ipython-input-6-69b5f46d4705>:8: SettingWithCopyWarning: \n",
      "A value is trying to be set on a copy of a slice from a DataFrame.\n",
      "Try using .loc[row_indexer,col_indexer] = value instead\n",
      "\n",
      "See the caveats in the documentation: https://pandas.pydata.org/pandas-docs/stable/user_guide/indexing.html#returning-a-view-versus-a-copy\n",
      "  it_goals['is_successful'] = it_goals['percent_complete'] >= it_goals['target_percentage']\n"
     ]
    },
    {
     "data": {
      "image/png": "[encoded data removed]",
      "text/plain": [
       "<Figure size 720x432 with 1 Axes>"
      ]
     },
     "metadata": {
      "needs_background": "light"
     },
     "output_type": "display_data"
    }
   ],
   "source": [
    "import matplotlib.pyplot as plt\n",
    "import seaborn as sns\n",
    "\n",
    "# Filter the data for the IT department\n",
    "it_goals = goal_data[goal_data['department'] == 'IT']\n",
    "\n",
    "# Define successful goals (assuming successful means percent_complete >= target_percentage)\n",
    "it_goals['is_successful'] = it_goals['percent_complete'] >= it_goals['target_percentage']\n",
    "\n",
    "# Calculate the proportion of successful goals by priority\n",
    "success_rates = it_goals.groupby('priority')['is_successful'].mean()\n",
    "\n",
    "# Convert the series to a DataFrame for plotting\n",
    "success_rates_df = success_rates.reset_index()\n",
    "\n",
    "# Plotting\n",
    "plt.figure(figsize=(10, 6))\n",
    "bar_plot = sns.barplot(x='priority', y='is_successful', data=success_rates_df, order=['Critical', 'High', 'Medium', 'Low'])\n",
    "plt.title('Proportion of Successful Goals by Priority in IT Department')\n",
    "plt.xlabel('Priority')\n",
    "plt.ylabel('Proportion of Successful Goals')\n",
    "plt.ylim(0, 1)  # Set the limit to show proportions from 0 to 1\n",
    "\n",
    "# Correctly format and annotate each bar with the proportion as a percentage\n",
    "for p in bar_plot.patches:\n",
    "    bar_plot.annotate(format(p.get_height(), '.1%'),  # Format as a percentage with one decimal\n",
    "                      (p.get_x() + p.get_width() / 2., p.get_height()),\n",
    "                      ha='center', va='center', \n",
    "                      xytext=(0, 9), \n",
    "                      textcoords='offset points')\n",
    "plt.show()\n",
    "\n"
   ]
  },
  {
   "cell_type": "markdown",
   "metadata": {},
   "source": [
    "#### Generate JSON Description for the Insight"
   ]
  },
  {
   "cell_type": "code",
   "execution_count": 7,
   "metadata": {
    "execution": {
     "iopub.execute_input": "2024-10-29T17:17:11.165595Z",
     "iopub.status.busy": "2024-10-29T17:17:11.164997Z",
     "iopub.status.idle": "2024-10-29T17:17:11.187907Z",
     "shell.execute_reply": "2024-10-29T17:17:11.185393Z"
    }
   },
   "outputs": [
    {
     "data": {
      "text/plain": [
       "{'data_type': 'descriptive',\n",
       " 'insight': 'There are higher success rates in critical and high priority goals within the IT department',\n",
       " 'insight_value': {'Critical': '61.1%',\n",
       "  'High': '51.8%',\n",
       "  'Medium': '0.0%',\n",
       "  'Low': '10.0%'},\n",
       " 'plot': {'plot_type': 'bar',\n",
       "  'title': 'Proportion of Successful Goals by Priority in IT Department',\n",
       "  'x_axis': {'name': 'Priority',\n",
       "   'value': 'Critical, High, Medium, Low',\n",
       "   'description': 'This represents the different priority levels assigned to goals within the IT department.'},\n",
       "  'y_axis': {'name': 'Proportion of Successful Goals',\n",
       "   'value': 'Dynamic based on data',\n",
       "   'description': 'This represents the proportion of goals successfully met within each priority category.'},\n",
       "  'description': 'The bar graph illustrates the success rates of meeting goals within the IT department categorized by their priority. It highlights significantly higher success rates for goals categorized under Critical and High priorities at 61.1% and 51.8% respectively, compared to much lower success rates for Medium and Low priority goals. This disparity in success rates suggests a correlation between priority level and achievement rate.'},\n",
       " 'question': 'What proportion of goals in the IT department are classified as High or Critical priority compared to other departments?',\n",
       " 'actionable_insight': 'If this trend is consistent across other departments, it may indicate that departments with a higher proportion of Critical and High priority goals, like IT, are better at achieving their objectives. This could justify a review and potential realignment of priority settings across departments to ensure strategic goals are adequately supported and prioritized.'}"
      ]
     },
     "execution_count": 7,
     "metadata": {},
     "output_type": "execute_result"
    }
   ],
   "source": [
    "{\n",
    "    \"data_type\": \"descriptive\",\n",
    "    \"insight\": \"There are higher success rates in critical and high priority goals within the IT department\",\n",
    "    \"insight_value\": {\n",
    "        \"Critical\": \"61.1%\",\n",
    "        \"High\": \"51.8%\",\n",
    "        \"Medium\": \"0.0%\",\n",
    "        \"Low\": \"10.0%\"\n",
    "    },\n",
    "    \"plot\": {\n",
    "        \"plot_type\": \"bar\",\n",
    "        \"title\": \"Proportion of Successful Goals by Priority in IT Department\",\n",
    "        \"x_axis\": {\n",
    "            \"name\": \"Priority\",\n",
    "            \"value\": \"Critical, High, Medium, Low\",\n",
    "            \"description\": \"This represents the different priority levels assigned to goals within the IT department.\"\n",
    "        },\n",
    "        \"y_axis\": {\n",
    "            \"name\": \"Proportion of Successful Goals\",\n",
    "            \"value\": \"Dynamic based on data\",\n",
    "            \"description\": \"This represents the proportion of goals successfully met within each priority category.\"\n",
    "        },\n",
    "        \"description\": \"The bar graph illustrates the success rates of meeting goals within the IT department categorized by their priority. It highlights significantly higher success rates for goals categorized under Critical and High priorities at 61.1% and 51.8% respectively, compared to much lower success rates for Medium and Low priority goals. This disparity in success rates suggests a correlation between priority level and achievement rate.\"\n",
    "    },\n",
    "    \"question\": \"What proportion of goals in the IT department are classified as High or Critical priority compared to other departments?\",\n",
    "    \"actionable_insight\": \"If this trend is consistent across other departments, it may indicate that departments with a higher proportion of Critical and High priority goals, like IT, are better at achieving their objectives. This could justify a review and potential realignment of priority settings across departments to ensure strategic goals are adequately supported and prioritized.\"\n",
    "}\n"
   ]
  },
  {
   "cell_type": "markdown",
   "metadata": {},
   "source": [
    "### **Question 3:** Are there specific characteristics or patterns that differentiate High/Critical priority goals in the IT department from those in other departments? or is the trend consistent across departments?"
   ]
  },
  {
   "cell_type": "markdown",
   "metadata": {},
   "source": [
    "#### Plot proportion of successful goals by priority across departments\n",
    "\n",
    "This bar plot provides a comparative analysis of the success rates of goals by priority levels (Critical, High, Medium, Low) across different departments. It explores how the prioritization of goals affects their achievement rates within each department. The graph allows us to identify departments where high and critical priority goals are either underperforming or exceeding expectations."
   ]
  },
  {
   "cell_type": "code",
   "execution_count": 8,
   "metadata": {
    "execution": {
     "iopub.execute_input": "2024-10-29T17:17:11.206193Z",
     "iopub.status.busy": "2024-10-29T17:17:11.205559Z",
     "iopub.status.idle": "2024-10-29T17:17:12.096685Z",
     "shell.execute_reply": "2024-10-29T17:17:12.094117Z"
    }
   },
   "outputs": [
    {
     "data": {
      "image/png": "[encoded data removed]",
      "text/plain": [
       "<Figure size 1008x576 with 1 Axes>"
      ]
     },
     "metadata": {
      "needs_background": "light"
     },
     "output_type": "display_data"
    }
   ],
   "source": [
    "import matplotlib.pyplot as plt\n",
    "import seaborn as sns\n",
    "\n",
    "# Define successful goals (assuming successful means percent_complete >= target_percentage)\n",
    "goal_data['is_successful'] = goal_data['percent_complete'] >= goal_data['target_percentage']\n",
    "\n",
    "# Calculate the proportion of successful goals by priority and department\n",
    "success_rates = goal_data.groupby(['department', 'priority'])['is_successful'].mean().reset_index()\n",
    "\n",
    "# Plotting\n",
    "plt.figure(figsize=(14, 8))\n",
    "barplot = sns.barplot(x='department', y='is_successful', hue='priority', data=success_rates, hue_order=['Critical', 'High', 'Medium', 'Low'])\n",
    "\n",
    "# Annotate each bar\n",
    "for p in barplot.patches:\n",
    "    barplot.annotate(format(p.get_height(), '.2f'),  # format as a percentage\n",
    "                     (p.get_x() + p.get_width() / 2., p.get_height()),\n",
    "                     ha = 'center', va = 'center',\n",
    "                     size=9,\n",
    "                     xytext = (0, 5),\n",
    "                     textcoords = 'offset points')\n",
    "\n",
    "plt.title('Proportion of Successful Goals by Priority Across Departments')\n",
    "plt.xlabel('Department')\n",
    "plt.ylabel('Proportion of Successful Goals')\n",
    "plt.ylim(0, 1)  # Set the limit to show proportions from 0 to 1\n",
    "plt.legend(title='Priority')\n",
    "plt.show()\n"
   ]
  },
  {
   "cell_type": "markdown",
   "metadata": {},
   "source": [
    "#### Generate JSON Description for the Insight"
   ]
  },
  {
   "cell_type": "code",
   "execution_count": 9,
   "metadata": {
    "execution": {
     "iopub.execute_input": "2024-10-29T17:17:12.115148Z",
     "iopub.status.busy": "2024-10-29T17:17:12.114340Z",
     "iopub.status.idle": "2024-10-29T17:17:12.143020Z",
     "shell.execute_reply": "2024-10-29T17:17:12.140265Z"
    }
   },
   "outputs": [
    {
     "data": {
      "text/plain": [
       "{'data_type': 'Diagnostic',\n",
       " 'insight': 'There is a consistent higher success rates for critical and high priority goals across departments',\n",
       " 'insight_value': {'IT': {'Critical': '61.1%', 'High': '51.8%'},\n",
       "  'Other Departments': {'Critical': 'Average 58.3%', 'High': 'Average 49.7%'}},\n",
       " 'plot': {'plot_type': 'bar',\n",
       "  'title': 'Success Rates of High and Critical Priority Goals Across Departments',\n",
       "  'x_axis': {'name': 'Department and Priority',\n",
       "   'value': 'Finance, HR, IT, Marketing',\n",
       "   'description': 'This categorizes the goals by department and priority level, comparing IT to other departments.'},\n",
       "  'y_axis': {'name': 'Proportion of Successful Goals',\n",
       "   'value': 'Values based on data',\n",
       "   'description': 'This axis shows the percentage of goals met within different priority categories for each department.'},\n",
       "  'description': 'The comparison bar graph demonstrates that both Critical and High priority goals generally achieve higher success rates across all departments. The IT department slightly outperforms the average of other departments, suggesting a possible advantage in how these priorities are managed or supported in IT.'},\n",
       " 'question': 'Are there specific characteristics or patterns that differentiate High/Critical priority goals in the IT department from those in other departments, or is the trend consistent across departments?',\n",
       " 'actionable_insight': 'Given the consistent success rates across departments for High and Critical priority goals, organizational strategies should further reinforce and possibly expand the practices that support these priorities. For departments underperforming relative to IT, adopting similar strategies or increasing support might enhance their success rates.'}"
      ]
     },
     "execution_count": 9,
     "metadata": {},
     "output_type": "execute_result"
    }
   ],
   "source": [
    "{\n",
    "    \"data_type\": \"Diagnostic\",\n",
    "    \"insight\": \"There is a consistent higher success rates for critical and high priority goals across departments\",\n",
    "    \"insight_value\": {\n",
    "        \"IT\": {\n",
    "            \"Critical\": \"61.1%\",\n",
    "            \"High\": \"51.8%\"\n",
    "        },\n",
    "        \"Other Departments\": {\n",
    "            \"Critical\": \"Average 58.3%\",\n",
    "            \"High\": \"Average 49.7%\"\n",
    "        }\n",
    "    },\n",
    "    \"plot\": {\n",
    "        \"plot_type\": \"bar\",\n",
    "        \"title\": \"Success Rates of High and Critical Priority Goals Across Departments\",\n",
    "        \"x_axis\": {\n",
    "            \"name\": \"Department and Priority\",\n",
    "            \"value\": \"Finance, HR, IT, Marketing\",\n",
    "            \"description\": \"This categorizes the goals by department and priority level, comparing IT to other departments.\"\n",
    "        },\n",
    "        \"y_axis\": {\n",
    "            \"name\": \"Proportion of Successful Goals\",\n",
    "            \"value\": \"Values based on data\",\n",
    "            \"description\": \"This axis shows the percentage of goals met within different priority categories for each department.\"\n",
    "        },\n",
    "        \"description\": \"The comparison bar graph demonstrates that both Critical and High priority goals generally achieve higher success rates across all departments. The IT department slightly outperforms the average of other departments, suggesting a possible advantage in how these priorities are managed or supported in IT.\"\n",
    "    },\n",
    "    \"question\": \"Are there specific characteristics or patterns that differentiate High/Critical priority goals in the IT department from those in other departments, or is the trend consistent across departments?\",\n",
    "    \"actionable_insight\": \"Given the consistent success rates across departments for High and Critical priority goals, organizational strategies should further reinforce and possibly expand the practices that support these priorities. For departments underperforming relative to IT, adopting similar strategies or increasing support might enhance their success rates.\"\n",
    "}\n"
   ]
  },
  {
   "cell_type": "markdown",
   "metadata": {},
   "source": [
    "### **Question 4:** What is the distribution of Critical and High goals in IT department versus other departments?"
   ]
  },
  {
   "cell_type": "markdown",
   "metadata": {},
   "source": [
    "#### plot distribution of Critical and High priority goals: IT vs other departments\n",
    "\n",
    "This bar graph illustrates the distribution of goals classified as Critical or High priority within the IT department compared to other departments. It quantifies the counts of such goals, offering insights into how prioritization in the IT department stacks up against rest of the organization. This visualization helps to understand if there is any disproportionate focus on higher-priority goals in IT or if this trend is consistent across all departments.\n"
   ]
  },
  {
   "cell_type": "code",
   "execution_count": 10,
   "metadata": {
    "execution": {
     "iopub.execute_input": "2024-10-29T17:17:12.158868Z",
     "iopub.status.busy": "2024-10-29T17:17:12.158072Z",
     "iopub.status.idle": "2024-10-29T17:17:12.693131Z",
     "shell.execute_reply": "2024-10-29T17:17:12.690826Z"
    }
   },
   "outputs": [
    {
     "name": "stderr",
     "output_type": "stream",
     "text": [
      "<ipython-input-10-00c0eb03dc24>:11: SettingWithCopyWarning: \n",
      "A value is trying to be set on a copy of a slice from a DataFrame.\n",
      "Try using .loc[row_indexer,col_indexer] = value instead\n",
      "\n",
      "See the caveats in the documentation: https://pandas.pydata.org/pandas-docs/stable/user_guide/indexing.html#returning-a-view-versus-a-copy\n",
      "  filtered_goals['IT_or_Other'] = filtered_goals['department'].apply(lambda x: 'IT' if x == 'IT' else 'Other')\n"
     ]
    },
    {
     "data": {
      "image/png": "[encoded data removed]",
      "text/plain": [
       "<Figure size 720x432 with 1 Axes>"
      ]
     },
     "metadata": {
      "needs_background": "light"
     },
     "output_type": "display_data"
    }
   ],
   "source": [
    "import matplotlib.pyplot as plt\n",
    "import seaborn as sns\n",
    "import pandas as pd\n",
    "\n",
    "# Assume 'goal_data' is your DataFrame and already loaded\n",
    "\n",
    "# Filter the data to include only Critical and High priority goals\n",
    "filtered_goals = goal_data[goal_data['priority'].isin(['Critical', 'High'])]\n",
    "\n",
    "# Create a new column 'IT_or_Other' to distinguish between IT and other departments\n",
    "filtered_goals['IT_or_Other'] = filtered_goals['department'].apply(lambda x: 'IT' if x == 'IT' else 'Other')\n",
    "\n",
    "# Count the number of goals in each category\n",
    "priority_counts = filtered_goals.groupby(['IT_or_Other', 'priority']).size().reset_index(name='counts')\n",
    "\n",
    "# Plotting\n",
    "plt.figure(figsize=(10, 6))\n",
    "bar_plot = sns.barplot(x='IT_or_Other', y='counts', hue='priority', data=priority_counts)\n",
    "plt.title('Distribution of Critical and High Priority Goals: IT vs. Other Departments')\n",
    "plt.xlabel('Department Category')\n",
    "plt.ylabel('Number of Goals')\n",
    "plt.legend(title='Priority')\n",
    "\n",
    "# Annotate bars with the count of goals\n",
    "for p in bar_plot.patches:\n",
    "    bar_plot.annotate(format(p.get_height(), '.0f'), \n",
    "                      (p.get_x() + p.get_width() / 2., p.get_height()), \n",
    "                      ha='center', va='center', \n",
    "                      xytext=(0, 9), \n",
    "                      textcoords='offset points')\n",
    "\n",
    "plt.show()\n"
   ]
  },
  {
   "cell_type": "markdown",
   "metadata": {},
   "source": [
    "#### Generate JSON Description for the Insight"
   ]
  },
  {
   "cell_type": "code",
   "execution_count": 11,
   "metadata": {
    "execution": {
     "iopub.execute_input": "2024-10-29T17:17:12.709079Z",
     "iopub.status.busy": "2024-10-29T17:17:12.708246Z",
     "iopub.status.idle": "2024-10-29T17:17:12.735255Z",
     "shell.execute_reply": "2024-10-29T17:17:12.733526Z"
    }
   },
   "outputs": [
    {
     "data": {
      "text/plain": [
       "{'data_type': 'diagnostic',\n",
       " 'insight': 'IT department exhibits a higher number of both Critical and High priority goals compared to other departments',\n",
       " 'insight_value': {'IT': {'Critical': '54', 'High': '56'},\n",
       "  'Other Departments': {'Critical': '40', 'High': '35'}},\n",
       " 'plot': {'plot_type': 'bar',\n",
       "  'title': 'Distribution of Critical and High Priority Goals: IT vs. Other Departments',\n",
       "  'x_axis': {'name': 'Department Category',\n",
       "   'value': 'IT, Others',\n",
       "   'description': 'This represents the classification of departments into IT and all other departments combined.'},\n",
       "  'y_axis': {'name': 'Number of Goals',\n",
       "   'value': 'Dynamic based on data',\n",
       "   'description': 'This shows the count of goals classified as either Critical or High priority within each department category.'},\n",
       "  'description': 'The bar graph illustrates that the IT department has higher counts of both Critical (54) and High (56) priority goals compared to other departments, which have 40 Critical and 35 High priority goals respectively. This indicates a heavier concentration of top-priority goals in IT, which may reflect its critical operational role within the organization.'},\n",
       " 'question': 'What is the distribution of Critical and High goals in IT department versus other departments?',\n",
       " 'actionable_insight': 'Given the higher concentration of Critical and High priority goals in the IT department, organizational strategies might need to consider reallocating resources or support to ensure that high-priority goals in other departments are not under-resourced. This could help in balancing goal achievement rates across the organization and ensuring strategic alignment of resources with organizational priorities.'}"
      ]
     },
     "execution_count": 11,
     "metadata": {},
     "output_type": "execute_result"
    }
   ],
   "source": [
    "{\n",
    "    \"data_type\": \"diagnostic\",\n",
    "    \"insight\": \"IT department exhibits a higher number of both Critical and High priority goals compared to other departments\",\n",
    "    \"insight_value\": {\n",
    "        \"IT\": {\n",
    "            \"Critical\": \"54\",\n",
    "            \"High\": \"56\"\n",
    "        },\n",
    "        \"Other Departments\": {\n",
    "            \"Critical\": \"40\",\n",
    "            \"High\": \"35\"\n",
    "        }\n",
    "    },\n",
    "    \"plot\": {\n",
    "        \"plot_type\": \"bar\",\n",
    "        \"title\": \"Distribution of Critical and High Priority Goals: IT vs. Other Departments\",\n",
    "        \"x_axis\": {\n",
    "            \"name\": \"Department Category\",\n",
    "            \"value\": \"IT, Others\",\n",
    "            \"description\": \"This represents the classification of departments into IT and all other departments combined.\"\n",
    "        },\n",
    "        \"y_axis\": {\n",
    "            \"name\": \"Number of Goals\",\n",
    "            \"value\": \"Dynamic based on data\",\n",
    "            \"description\": \"This shows the count of goals classified as either Critical or High priority within each department category.\"\n",
    "        },\n",
    "        \"description\": \"The bar graph illustrates that the IT department has higher counts of both Critical (54) and High (56) priority goals compared to other departments, which have 40 Critical and 35 High priority goals respectively. This indicates a heavier concentration of top-priority goals in IT, which may reflect its critical operational role within the organization.\"\n",
    "    },\n",
    "    \"question\": \"What is the distribution of Critical and High goals in IT department versus other departments?\",\n",
    "    \"actionable_insight\": \"Given the higher concentration of Critical and High priority goals in the IT department, organizational strategies might need to consider reallocating resources or support to ensure that high-priority goals in other departments are not under-resourced. This could help in balancing goal achievement rates across the organization and ensuring strategic alignment of resources with organizational priorities.\"\n",
    "}\n"
   ]
  },
  {
   "cell_type": "markdown",
   "metadata": {},
   "source": [
    "### Summary of Findings (Flag 75):\n",
    "\n",
    "1. **Priority and Success Correlation**: From Question 1, it was observed that departments consistently achieve higher task completion rates for Critical and High priority tasks, with significant variance in progress on lower priorities. This suggests that prioritization plays a crucial role in task completion success.\n",
    "\n",
    "2. **IT Department's Goal Distribution**: Question 4 highlighted that the IT department has a higher number of both Critical and High priority goals compared to other departments. This indicates a strategic focus on high-priority goals within IT, potentially reflecting its critical operational role.\n",
    "\n",
    "3. **Consistent Success Across Departments**: As noted in Question 3, there is a consistent higher success rate for Critical and High priority goals across all departments. This trend suggests that organizational strategies supporting these priorities are effective and could be expanded to enhance success rates further."
   ]
  }
 ],
 "metadata": {
  "kernelspec": {
   "display_name": "Python 3",
   "language": "python",
   "name": "python3"
  },
  "language_info": {
   "codemirror_mode": {
    "name": "ipython",
    "version": 3
   },
   "file_extension": ".py",
   "mimetype": "text/x-python",
   "name": "python",
   "nbconvert_exporter": "python",
   "pygments_lexer": "ipython3",
   "version": "3.8.5"
  }
 },
 "nbformat": 4,
 "nbformat_minor": 2
}

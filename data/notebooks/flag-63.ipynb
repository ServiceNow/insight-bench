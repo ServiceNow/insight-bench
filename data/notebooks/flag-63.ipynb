{
 "cells": [
  {
   "cell_type": "markdown",
   "metadata": {},
   "source": [
    "## Asset Warranty Analysis (Flag 63)\n",
    "\n",
    "### Dataset Description\n",
    "The dataset consists of 500 entries simulating ServiceNow alm_hardware table, detailing key attributes of hardware assets such as asset tags, display names, configuration item (CI) identifiers, serial numbers, and model categories. It includes information on asset assignment, last update timestamps, cost, departmental allocation, and warranty expiration dates. The table effectively captures asset management activities, offering insights into the operational handling, allocation, and maintenance status of hardware resources across various departments within an organization.\n",
    "\n",
    "### Your Task\n",
    "**Goal**: Analyze the relationship between the cost of assets and their warranty periods to identify discrepancies and align procurement strategies with the observed asset value trends.\n",
    "\n",
    "**Role**: Procurement Manager\n",
    "\n",
    "**Difficulty**: 2 out of 5. This analysis requires deciphering complex patterns in asset pricing and warranty terms.\n",
    "\n",
    "**Category**: Asset Management\n"
   ]
  },
  {
   "cell_type": "markdown",
   "metadata": {},
   "source": [
    "## Import Necessary Libraries\n",
    "This cell imports all necessary libraries required for the analysis. This includes libraries for data manipulation, data visualization, and any specific utilities needed for the tasks. "
   ]
  },
  {
   "cell_type": "code",
   "execution_count": 37,
   "metadata": {
    "execution": {
     "iopub.execute_input": "2024-10-29T17:14:48.682373Z",
     "iopub.status.busy": "2024-10-29T17:14:48.680665Z",
     "iopub.status.idle": "2024-10-29T17:14:52.609185Z",
     "shell.execute_reply": "2024-10-29T17:14:52.607301Z"
    }
   },
   "outputs": [],
   "source": [
    "import argparse\n",
    "import pandas as pd\n",
    "import json\n",
    "import requests\n",
    "import matplotlib.pyplot as plt\n",
    "import numpy as np\n",
    "import seaborn as sns\n",
    "from pandas import date_range"
   ]
  },
  {
   "cell_type": "markdown",
   "metadata": {},
   "source": [
    "## Load Dataset\n",
    "This cell loads the asset management dataset, which is crucial for the analysis of warranty periods relative to asset costs. The data is sourced from a CSV file and the process involves reading the file into a DataFrame to facilitate further operations. Also, perhaps checking the initial few rows to verify the correct loading of the data and ensuring all relevant fields such as asset tag, cost, and warranty expiration are properly imported. "
   ]
  },
  {
   "cell_type": "code",
   "execution_count": 38,
   "metadata": {
    "execution": {
     "iopub.execute_input": "2024-10-29T17:14:52.624665Z",
     "iopub.status.busy": "2024-10-29T17:14:52.623558Z",
     "iopub.status.idle": "2024-10-29T17:14:52.682900Z",
     "shell.execute_reply": "2024-10-29T17:14:52.680875Z"
    }
   },
   "outputs": [
    {
     "data": {
      "text/html": [
       "<div>\n",
       "<style scoped>\n",
       "    .dataframe tbody tr th:only-of-type {\n",
       "        vertical-align: middle;\n",
       "    }\n",
       "\n",
       "    .dataframe tbody tr th {\n",
       "        vertical-align: top;\n",
       "    }\n",
       "\n",
       "    .dataframe thead th {\n",
       "        text-align: right;\n",
       "    }\n",
       "</style>\n",
       "<table border=\"1\" class=\"dataframe\">\n",
       "  <thead>\n",
       "    <tr style=\"text-align: right;\">\n",
       "      <th></th>\n",
       "      <th>assigned_to</th>\n",
       "      <th>purchased_on</th>\n",
       "      <th>cost</th>\n",
       "      <th>serial_number</th>\n",
       "      <th>sys_updated_on</th>\n",
       "      <th>warranty_expiration</th>\n",
       "      <th>model_category</th>\n",
       "      <th>department</th>\n",
       "      <th>asset_tag</th>\n",
       "      <th>display_name</th>\n",
       "      <th>ci</th>\n",
       "    </tr>\n",
       "  </thead>\n",
       "  <tbody>\n",
       "    <tr>\n",
       "      <th>0</th>\n",
       "      <td>Valeria Lingbeek</td>\n",
       "      <td>2023-09-16 09:47:00</td>\n",
       "      <td>2688</td>\n",
       "      <td>FUM-85495157</td>\n",
       "      <td>2023-10-25 09:47:00</td>\n",
       "      <td>2026-04-16 09:47:00</td>\n",
       "      <td>Computer</td>\n",
       "      <td>Sales</td>\n",
       "      <td>P1000000</td>\n",
       "      <td>Dell Inspiron Desktop Computer</td>\n",
       "      <td>Inspiron Desktop</td>\n",
       "    </tr>\n",
       "    <tr>\n",
       "      <th>1</th>\n",
       "      <td>Kurtis Asberry</td>\n",
       "      <td>2024-03-26 15:43:00</td>\n",
       "      <td>2596</td>\n",
       "      <td>QFX-47362028</td>\n",
       "      <td>2024-04-11 15:43:00</td>\n",
       "      <td>2026-09-10 15:43:00</td>\n",
       "      <td>Computer</td>\n",
       "      <td>Sales</td>\n",
       "      <td>P1000001</td>\n",
       "      <td>Dell Inspiron 15</td>\n",
       "      <td>Inspiron 15</td>\n",
       "    </tr>\n",
       "    <tr>\n",
       "      <th>2</th>\n",
       "      <td>Darrel Tork</td>\n",
       "      <td>2024-03-09 10:16:00</td>\n",
       "      <td>4786</td>\n",
       "      <td>SKI-78647990</td>\n",
       "      <td>2024-04-23 10:16:00</td>\n",
       "      <td>2029-07-25 10:16:00</td>\n",
       "      <td>Computer</td>\n",
       "      <td>Customer Support</td>\n",
       "      <td>P1000002</td>\n",
       "      <td>Dell Inspiron 5558 Computer</td>\n",
       "      <td>Inspiron 5558</td>\n",
       "    </tr>\n",
       "    <tr>\n",
       "      <th>3</th>\n",
       "      <td>Dorthy Alexy</td>\n",
       "      <td>2024-01-31 09:21:00</td>\n",
       "      <td>1631</td>\n",
       "      <td>EMF-32833485</td>\n",
       "      <td>2024-02-12 09:21:00</td>\n",
       "      <td>2025-04-03 09:21:00</td>\n",
       "      <td>Computer</td>\n",
       "      <td>Development</td>\n",
       "      <td>P1000003</td>\n",
       "      <td>Dell Inspiron 15 3000 Computer</td>\n",
       "      <td>Inspiron 15 3000</td>\n",
       "    </tr>\n",
       "    <tr>\n",
       "      <th>4</th>\n",
       "      <td>Vince Ettel</td>\n",
       "      <td>2023-07-14 09:56:00</td>\n",
       "      <td>2834</td>\n",
       "      <td>XUQ-81198965</td>\n",
       "      <td>2023-09-04 09:56:00</td>\n",
       "      <td>2026-04-23 09:56:00</td>\n",
       "      <td>Computer</td>\n",
       "      <td>Customer Support</td>\n",
       "      <td>P1000004</td>\n",
       "      <td>Dell Inspiron 7000 Computer</td>\n",
       "      <td>Inspiron 7000</td>\n",
       "    </tr>\n",
       "  </tbody>\n",
       "</table>\n",
       "</div>"
      ],
      "text/plain": [
       "        assigned_to         purchased_on  cost serial_number  \\\n",
       "0  Valeria Lingbeek  2023-09-16 09:47:00  2688  FUM-85495157   \n",
       "1    Kurtis Asberry  2024-03-26 15:43:00  2596  QFX-47362028   \n",
       "2       Darrel Tork  2024-03-09 10:16:00  4786  SKI-78647990   \n",
       "3      Dorthy Alexy  2024-01-31 09:21:00  1631  EMF-32833485   \n",
       "4       Vince Ettel  2023-07-14 09:56:00  2834  XUQ-81198965   \n",
       "\n",
       "        sys_updated_on  warranty_expiration model_category        department  \\\n",
       "0  2023-10-25 09:47:00  2026-04-16 09:47:00       Computer             Sales   \n",
       "1  2024-04-11 15:43:00  2026-09-10 15:43:00       Computer             Sales   \n",
       "2  2024-04-23 10:16:00  2029-07-25 10:16:00       Computer  Customer Support   \n",
       "3  2024-02-12 09:21:00  2025-04-03 09:21:00       Computer       Development   \n",
       "4  2023-09-04 09:56:00  2026-04-23 09:56:00       Computer  Customer Support   \n",
       "\n",
       "  asset_tag                    display_name                ci  \n",
       "0  P1000000  Dell Inspiron Desktop Computer  Inspiron Desktop  \n",
       "1  P1000001                Dell Inspiron 15       Inspiron 15  \n",
       "2  P1000002     Dell Inspiron 5558 Computer     Inspiron 5558  \n",
       "3  P1000003  Dell Inspiron 15 3000 Computer  Inspiron 15 3000  \n",
       "4  P1000004     Dell Inspiron 7000 Computer     Inspiron 7000  "
      ]
     },
     "execution_count": 38,
     "metadata": {},
     "output_type": "execute_result"
    }
   ],
   "source": [
    "dataset_path = \"csvs/flag-63.csv\"\n",
    "flag_data = pd.read_csv(dataset_path)\n",
    "flag_data.head()"
   ]
  },
  {
   "cell_type": "markdown",
   "metadata": {},
   "source": [
    "### **Question 1: How does the cost of assets vary across different departments, and are there any departments that consistently allocate more budget for higher-cost assets?**\n"
   ]
  },
  {
   "cell_type": "markdown",
   "metadata": {},
   "source": [
    "#### Plotting average asset cost per department\n",
    "This analysis visualizes the average asset cost per department, highlighting which departments tend to invest in higher-cost assets. This insight can reveal budgeting priorities or identify departments that might require additional scrutiny for cost management."
   ]
  },
  {
   "cell_type": "code",
   "execution_count": 39,
   "metadata": {
    "execution": {
     "iopub.execute_input": "2024-10-29T17:14:52.699464Z",
     "iopub.status.busy": "2024-10-29T17:14:52.698774Z",
     "iopub.status.idle": "2024-10-29T17:14:53.332015Z",
     "shell.execute_reply": "2024-10-29T17:14:53.330195Z"
    }
   },
   "outputs": [
    {
     "data": {
      "image/png": "[encoded data removed]",
      "text/plain": [
       "<Figure size 720x432 with 1 Axes>"
      ]
     },
     "metadata": {
      "needs_background": "light"
     },
     "output_type": "display_data"
    }
   ],
   "source": [
    "import matplotlib.pyplot as plt\n",
    "import pandas as pd\n",
    "\n",
    "# Load data\n",
    "flag_data = pd.read_csv(\"csvs/flag-63.csv\")\n",
    "\n",
    "# Calculate average cost per department\n",
    "avg_cost_per_department = flag_data.groupby(\"department\")[\"cost\"].mean().reset_index()\n",
    "\n",
    "# Sort departments by average cost for a more readable plot\n",
    "avg_cost_per_department = avg_cost_per_department.sort_values(\n",
    "    by=\"cost\", ascending=False\n",
    ")\n",
    "\n",
    "# Plotting average cost per department\n",
    "plt.figure(figsize=(10, 6))\n",
    "plt.barh(\n",
    "    avg_cost_per_department[\"department\"],\n",
    "    avg_cost_per_department[\"cost\"],\n",
    "    edgecolor=\"black\",\n",
    "    alpha=0.7,\n",
    ")\n",
    "plt.xlabel(\"Average Cost of Assets\")\n",
    "plt.ylabel(\"Department\")\n",
    "plt.title(\"Average Asset Cost by Department\")\n",
    "plt.grid(axis=\"x\", linestyle=\"--\", alpha=0.7)\n",
    "\n",
    "plt.show()"
   ]
  },
  {
   "cell_type": "markdown",
   "metadata": {},
   "source": [
    "#### Generate JSON Description for the Insight"
   ]
  },
  {
   "cell_type": "code",
   "execution_count": 40,
   "metadata": {
    "execution": {
     "iopub.execute_input": "2024-10-29T17:14:53.347776Z",
     "iopub.status.busy": "2024-10-29T17:14:53.347170Z",
     "iopub.status.idle": "2024-10-29T17:14:53.373295Z",
     "shell.execute_reply": "2024-10-29T17:14:53.371690Z"
    }
   },
   "outputs": [
    {
     "data": {
      "text/plain": [
       "{'data_type': 'categorical',\n",
       " 'insight': 'The HR department has the highest average asset cost, indicating a potentially higher investment in resources allocated to this department.',\n",
       " 'insight_value': {'description': 'HR has an average asset cost of approximately $4358, significantly higher than other departments, with Product Management following at around $3659 and Development at $3424. This implies that HR, possibly due to specific operational requirements, allocates a larger budget towards higher-value assets.'},\n",
       " 'plot': {'plot_type': 'bar',\n",
       "  'title': 'Average Asset Cost by Department',\n",
       "  'x_axis': {'name': 'Average Cost of Assets',\n",
       "   'value': 'Ranges from highest to lowest average costs',\n",
       "   'description': 'This axis shows the average cost of assets by department, highlighting budgetary allocation tendencies.'},\n",
       "  'y_axis': {'name': 'Department',\n",
       "   'value': 'Different departments within the organization',\n",
       "   'description': 'This axis represents various departments, sorted by their average asset costs.'},\n",
       "  'description': 'The bar plot indicates that HR holds the highest average cost per asset, with Product Management and Development departments following behind. In contrast, Sales and Finance are at the lower end of asset spending.'},\n",
       " 'question': 'How does the cost of assets vary across different departments, and are there any departments that consistently allocate more budget for higher-cost assets?',\n",
       " 'actionable_insight': 'The higher investment in HR assets suggests a potential strategic focus on enhancing resource quality in HR. Organizations could assess the cost-benefit of such allocations, especially if these assets are directly contributing to HR’s operational efficiency or employee well-being. Additionally, departments with lower average costs, such as Sales and Finance, might benefit from evaluating if their current asset allocation aligns with their performance and resource needs.'}"
      ]
     },
     "execution_count": 40,
     "metadata": {},
     "output_type": "execute_result"
    }
   ],
   "source": [
    "{\n",
    "    \"data_type\": \"categorical\",\n",
    "    \"insight\": \"The HR department has the highest average asset cost, indicating a potentially higher investment in resources allocated to this department.\",\n",
    "    \"insight_value\": {\n",
    "        \"description\": \"HR has an average asset cost of approximately $4358, significantly higher than other departments, with Product Management following at around $3659 and Development at $3424. This implies that HR, possibly due to specific operational requirements, allocates a larger budget towards higher-value assets.\"\n",
    "    },\n",
    "    \"plot\": {\n",
    "        \"plot_type\": \"bar\",\n",
    "        \"title\": \"Average Asset Cost by Department\",\n",
    "        \"x_axis\": {\n",
    "            \"name\": \"Average Cost of Assets\",\n",
    "            \"value\": \"Ranges from highest to lowest average costs\",\n",
    "            \"description\": \"This axis shows the average cost of assets by department, highlighting budgetary allocation tendencies.\",\n",
    "        },\n",
    "        \"y_axis\": {\n",
    "            \"name\": \"Department\",\n",
    "            \"value\": \"Different departments within the organization\",\n",
    "            \"description\": \"This axis represents various departments, sorted by their average asset costs.\",\n",
    "        },\n",
    "        \"description\": \"The bar plot indicates that HR holds the highest average cost per asset, with Product Management and Development departments following behind. In contrast, Sales and Finance are at the lower end of asset spending.\",\n",
    "    },\n",
    "    \"question\": \"How does the cost of assets vary across different departments, and are there any departments that consistently allocate more budget for higher-cost assets?\",\n",
    "    \"actionable_insight\": \"The higher investment in HR assets suggests a potential strategic focus on enhancing resource quality in HR. Organizations could assess the cost-benefit of such allocations, especially if these assets are directly contributing to HR’s operational efficiency or employee well-being. Additionally, departments with lower average costs, such as Sales and Finance, might benefit from evaluating if their current asset allocation aligns with their performance and resource needs.\",\n",
    "}"
   ]
  },
  {
   "cell_type": "markdown",
   "metadata": {},
   "source": [
    "### **Question 2: What is the distribution Average asset cost across  Model Categories?**\n"
   ]
  },
  {
   "cell_type": "markdown",
   "metadata": {},
   "source": [
    "#### Plot average cost by model category\n",
    "This cell presents a bar plot that illustrates the average cost of assets within each model category. By analyzing the cost distribution, this visualization helps identify financial implications of asset types managed by the department, offering insights into budget allocations etc."
   ]
  },
  {
   "cell_type": "code",
   "execution_count": 41,
   "metadata": {
    "execution": {
     "iopub.execute_input": "2024-10-29T17:14:53.391642Z",
     "iopub.status.busy": "2024-10-29T17:14:53.390808Z",
     "iopub.status.idle": "2024-10-29T17:14:53.918903Z",
     "shell.execute_reply": "2024-10-29T17:14:53.914996Z"
    }
   },
   "outputs": [
    {
     "data": {
      "image/png": "[encoded data removed]",
      "text/plain": [
       "<Figure size 720x432 with 1 Axes>"
      ]
     },
     "metadata": {
      "needs_background": "light"
     },
     "output_type": "display_data"
    }
   ],
   "source": [
    "import matplotlib.pyplot as plt\n",
    "\n",
    "flag_data[\"warranty_expiration\"] = pd.to_datetime(flag_data[\"warranty_expiration\"])\n",
    "flag_data[\"sys_updated_on\"] = pd.to_datetime(flag_data[\"sys_updated_on\"])\n",
    "# Calculate the warranty period in years for each asset\n",
    "flag_data['warranty_period_years'] = (flag_data['warranty_expiration'] - flag_data['sys_updated_on']).dt.days / 365\n",
    "\n",
    "# Group by model_category and calculate the average warranty period\n",
    "avg_warranty_by_category = flag_data.groupby('model_category')['cost'].mean()\n",
    "\n",
    "# Plotting\n",
    "a_plot = avg_warranty_by_category.plot(kind='bar', color='skyblue', figsize=(10, 6))\n",
    "for p in a_plot.patches:\n",
    "    a_plot.annotate(format(p.get_height(), '.2f'), \n",
    "                          (p.get_x() + p.get_width() / 2., p.get_height()), \n",
    "                          ha = 'center', va = 'center', \n",
    "                          xytext = (0, 9), \n",
    "                          textcoords = 'offset points')\n",
    "plt.xlabel('Model Category')\n",
    "plt.ylabel('Average Cost ($)')\n",
    "plt.title('Average Cost by Model Category')\n",
    "plt.xticks(rotation=45)\n",
    "plt.tight_layout()  # Adjust layout to make room for the rotated x-axis labels\n",
    "\n",
    "# Show the plot\n",
    "plt.show()"
   ]
  },
  {
   "cell_type": "markdown",
   "metadata": {},
   "source": [
    "#### Generate JSON Description for the Insight"
   ]
  },
  {
   "cell_type": "code",
   "execution_count": 42,
   "metadata": {
    "execution": {
     "iopub.execute_input": "2024-10-29T17:14:53.935761Z",
     "iopub.status.busy": "2024-10-29T17:14:53.934119Z",
     "iopub.status.idle": "2024-10-29T17:14:53.969065Z",
     "shell.execute_reply": "2024-10-29T17:14:53.967196Z"
    }
   },
   "outputs": [
    {
     "data": {
      "text/plain": [
       "{'data_type': 'descriptive',\n",
       " 'insight': 'The dataset does not have any warranty information for the assets.',\n",
       " 'insight_value': {'description': 'There is no warranty information available for the assets in the dataset, making it challenging to analyze the costs.'},\n",
       " 'plot': {'plot_type': 'bar',\n",
       "  'title': 'Average Asset Cost by Model Category',\n",
       "  'x_axis': {'name': 'Model Category',\n",
       "   'value': ['Server',\n",
       "    'Web Server',\n",
       "    'Computer',\n",
       "    'Printer',\n",
       "    'Rack',\n",
       "    'Computer Peripheral',\n",
       "    'Storage Device'],\n",
       "   'description': 'This axis categorizes different types of assets based on their model category.'},\n",
       "  'y_axis': {'name': 'Average Cost (USD)',\n",
       "   'value': {'N/A'},\n",
       "   'description': 'No information could be drawn.'},\n",
       "  'description': 'No information could be drawn.'},\n",
       " 'question': 'What is the distribution of Average asset cost across Model Categories?',\n",
       " 'actionable_insight': 'While the dataset lacks warranty information, understanding the average costs of different asset categories can help organizations budget effectively and allocate resources appropriately. By tracking asset costs, organizations can identify cost-saving opportunities, optimize procurement strategies, and make informed decisions regarding asset investments and replacements.'}"
      ]
     },
     "execution_count": 42,
     "metadata": {},
     "output_type": "execute_result"
    }
   ],
   "source": [
    "{\n",
    "    \"data_type\": \"descriptive\",\n",
    "    \"insight\": \"The dataset does not have any warranty information for the assets.\",\n",
    "    \"insight_value\": {\n",
    "        \"description\": \"There is no warranty information available for the assets in the dataset, making it challenging to analyze the costs.\"\n",
    "    },\n",
    "    \"plot\": {\n",
    "        \"plot_type\": \"bar\",\n",
    "        \"title\": \"Average Asset Cost by Model Category\",\n",
    "        \"x_axis\": {\n",
    "            \"name\": \"Model Category\",\n",
    "            \"value\": [\"Server\", \"Web Server\", \"Computer\", \"Printer\", \"Rack\", \"Computer Peripheral\", \"Storage Device\"],\n",
    "            \"description\": \"This axis categorizes different types of assets based on their model category.\"\n",
    "        },\n",
    "        \"y_axis\": {\n",
    "            \"name\": \"Average Cost (USD)\",\n",
    "            \"value\": {\n",
    "                \"N/A\"\n",
    "            },\n",
    "            \"description\": \"No information could be drawn.\"\n",
    "        },\n",
    "        \"description\": \"No information could be drawn.\"\n",
    "    },\n",
    "    \"question\": \"What is the distribution of Average asset cost across Model Categories?\",\n",
    "    \"actionable_insight\": \"While the dataset lacks warranty information, understanding the average costs of different asset categories can help organizations budget effectively and allocate resources appropriately. By tracking asset costs, organizations can identify cost-saving opportunities, optimize procurement strategies, and make informed decisions regarding asset investments and replacements.\"\n",
    "}\n"
   ]
  },
  {
   "cell_type": "markdown",
   "metadata": {},
   "source": [
    "### **Question 3: How does the cost of assets relate to their warranty expiration dates?**\n"
   ]
  },
  {
   "cell_type": "markdown",
   "metadata": {},
   "source": [
    "#### Plot average cost by warranty expiration year\n",
    "This cell creates a line plot to visualize the average cost of assets over different warranty expiration years. By examining the trend, this visualization helps identify patterns in asset costs that may be influenced by warranty terms, providing insights into the relationship between asset costs and warranty periods.\n"
   ]
  },
  {
   "cell_type": "code",
   "execution_count": 43,
   "metadata": {
    "execution": {
     "iopub.execute_input": "2024-10-29T17:14:53.985427Z",
     "iopub.status.busy": "2024-10-29T17:14:53.984357Z",
     "iopub.status.idle": "2024-10-29T17:14:54.396406Z",
     "shell.execute_reply": "2024-10-29T17:14:54.393834Z"
    }
   },
   "outputs": [
    {
     "data": {
      "image/png": "[encoded data removed]",
      "text/plain": [
       "<Figure size 720x432 with 1 Axes>"
      ]
     },
     "metadata": {
      "needs_background": "light"
     },
     "output_type": "display_data"
    }
   ],
   "source": [
    "import pandas as pd\n",
    "import matplotlib.pyplot as plt\n",
    "\n",
    "# Load the dataset\n",
    "df = pd.read_csv(\"/mnt/home/projects/insight-bench/data/notebooks/csvs/flag-63.csv\")\n",
    "\n",
    "# Convert date columns to datetime\n",
    "df[\"purchased_on\"] = pd.to_datetime(df[\"purchased_on\"])\n",
    "df[\"warranty_expiration\"] = pd.to_datetime(df[\"warranty_expiration\"])\n",
    "\n",
    "# Extract the year from the warranty expiration date\n",
    "df[\"warranty_expiration_year\"] = df[\"warranty_expiration\"].dt.year\n",
    "\n",
    "# Calculate the average cost for each warranty expiration year\n",
    "avg_cost_per_year = df.groupby(\"warranty_expiration_year\")[\"cost\"].mean().reset_index()\n",
    "\n",
    "# Plot the trend\n",
    "plt.figure(figsize=(10, 6))\n",
    "plt.plot(\n",
    "    avg_cost_per_year[\"warranty_expiration_year\"], avg_cost_per_year[\"cost\"], marker=\"o\"\n",
    ")\n",
    "plt.title(\"Average Cost of Assets by Warranty Expiration Year\")\n",
    "plt.xlabel(\"Warranty Expiration Year\")\n",
    "plt.ylabel(\"Average Cost\")\n",
    "plt.grid(True)\n",
    "plt.show()"
   ]
  },
  {
   "cell_type": "markdown",
   "metadata": {},
   "source": [
    "#### Generate JSON Description for the Insight"
   ]
  },
  {
   "cell_type": "code",
   "execution_count": 44,
   "metadata": {
    "execution": {
     "iopub.execute_input": "2024-10-29T17:14:54.405804Z",
     "iopub.status.busy": "2024-10-29T17:14:54.405198Z",
     "iopub.status.idle": "2024-10-29T17:14:54.426425Z",
     "shell.execute_reply": "2024-10-29T17:14:54.424054Z"
    }
   },
   "outputs": [
    {
     "data": {
      "text/plain": [
       "{'data_type': 'diagnostic',\n",
       " 'insight': 'The average cost of assets shows a significant upward trend over the years, particularly for assets with longer warranty periods.',\n",
       " 'insight_value': {'description': 'The average cost of assets increases notably for assets with warranty expiration dates further in the future. This trend suggests that the organization may be investing in higher-quality or more expensive assets to ensure longer-term reliability and reduced maintenance costs.'},\n",
       " 'plot': {'plot_type': 'line',\n",
       "  'title': 'Average Cost of Assets by Warranty Expiration Year',\n",
       "  'x_axis': {'name': 'Warranty Expiration Year',\n",
       "   'value': [2024, 2025, 2026, 2027, 2028, 2029],\n",
       "   'description': \"This axis represents the year in which the asset's warranty expires.\"},\n",
       "  'y_axis': {'name': 'Average Cost',\n",
       "   'value': [2485.01, 2955.35, 2510.81, 3371.03, 4281.58, 4784.27],\n",
       "   'description': 'This axis displays the average cost of assets for each warranty expiration year.'},\n",
       "  'description': 'The line chart illustrates the trend of average asset costs over different warranty expiration years, highlighting significant increases in certain years. This visual representation helps in identifying periods of higher expenditure and potential reasons behind these trends.'},\n",
       " 'question': 'How does the cost of assets relate to their warranty expiration dates?',\n",
       " 'actionable_insight': \"The upward trend in asset costs, especially for those with longer warranty periods, suggests that the organization may be investing in higher-quality or more expensive assets over time. This could be due to changing procurement strategies, market conditions, or a focus on long-term reliability. It is essential to evaluate the return on investment for these higher-cost assets and ensure that they align with the organization's operational needs and budget constraints. Consider conducting a cost-benefit analysis to determine if the increased expenditure is justified and explore opportunities for optimizing asset procurement and warranty management.\"}"
      ]
     },
     "execution_count": 44,
     "metadata": {},
     "output_type": "execute_result"
    }
   ],
   "source": [
    "{\n",
    "    \"data_type\": \"diagnostic\",\n",
    "    \"insight\": \"The average cost of assets shows a significant upward trend over the years, particularly for assets with longer warranty periods.\",\n",
    "    \"insight_value\": {\n",
    "        \"description\": \"The average cost of assets increases notably for assets with warranty expiration dates further in the future. This trend suggests that the organization may be investing in higher-quality or more expensive assets to ensure longer-term reliability and reduced maintenance costs.\"\n",
    "    },\n",
    "    \"plot\": {\n",
    "        \"plot_type\": \"line\",\n",
    "        \"title\": \"Average Cost of Assets by Warranty Expiration Year\",\n",
    "        \"x_axis\": {\n",
    "            \"name\": \"Warranty Expiration Year\",\n",
    "            \"value\": [2024, 2025, 2026, 2027, 2028, 2029],\n",
    "            \"description\": \"This axis represents the year in which the asset's warranty expires.\",\n",
    "        },\n",
    "        \"y_axis\": {\n",
    "            \"name\": \"Average Cost\",\n",
    "            \"value\": [\n",
    "                2485.01,\n",
    "                2955.35,\n",
    "                2510.81,\n",
    "                3371.03,\n",
    "                4281.58,\n",
    "                4784.27,\n",
    "            ],\n",
    "            \"description\": \"This axis displays the average cost of assets for each warranty expiration year.\",\n",
    "        },\n",
    "        \"description\": \"The line chart illustrates the trend of average asset costs over different warranty expiration years, highlighting significant increases in certain years. This visual representation helps in identifying periods of higher expenditure and potential reasons behind these trends.\",\n",
    "    },\n",
    "    \"question\": \"How does the cost of assets relate to their warranty expiration dates?\",\n",
    "    \"actionable_insight\": \"The upward trend in asset costs, especially for those with longer warranty periods, suggests that the organization may be investing in higher-quality or more expensive assets over time. This could be due to changing procurement strategies, market conditions, or a focus on long-term reliability. It is essential to evaluate the return on investment for these higher-cost assets and ensure that they align with the organization's operational needs and budget constraints. Consider conducting a cost-benefit analysis to determine if the increased expenditure is justified and explore opportunities for optimizing asset procurement and warranty management.\",\n",
    "}"
   ]
  },
  {
   "cell_type": "markdown",
   "metadata": {},
   "source": [
    "### Summary of Findings (Flag 63):\n",
    "\n",
    "1. **Departmental Asset Cost Allocation**: The HR department consistently allocates a higher budget for assets, with an average cost significantly above other departments. This suggests a strategic focus on enhancing resource quality in HR, which may require further evaluation to ensure alignment with organizational goals.\n",
    "\n",
    "2. **Model Category Cost Distribution**: Despite the lack of warranty information, the analysis of average costs across model categories highlights potential areas for cost optimization. Understanding these distributions can aid in better budget planning and resource allocation.\n",
    "\n",
    "3. **Warranty and Cost Relationship**: There is a notable upward trend in asset costs for those with longer warranty periods, indicating a possible shift towards investing in higher-quality assets. This trend underscores the importance of conducting a cost-benefit analysis to ensure these investments align with the organization's operational needs and budget constraints."
   ]
  }
 ],
 "metadata": {
  "kernelspec": {
   "display_name": "Python 3",
   "language": "python",
   "name": "python3"
  },
  "language_info": {
   "codemirror_mode": {
    "name": "ipython",
    "version": 3
   },
   "file_extension": ".py",
   "mimetype": "text/x-python",
   "name": "python",
   "nbconvert_exporter": "python",
   "pygments_lexer": "ipython3",
   "version": "3.8.5"
  }
 },
 "nbformat": 4,
 "nbformat_minor": 2
}

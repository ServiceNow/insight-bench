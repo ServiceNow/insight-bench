{
 "cells": [
  {
   "cell_type": "markdown",
   "metadata": {},
   "source": [
    "## Travel Expense Rejection Analysis (Flag 93)\n",
    "\n",
    "### Dataset Description\n",
    "The dataset consists of 500 entries simulating the ServiceNow `fm_expense_line` table, which records various attributes of financial expenses. Key fields include 'number', 'opened_at', 'amount', 'state', 'short_description', 'ci', 'user', 'department', 'category', 'process_date', 'source_id', and 'type'. This table documents the flow of financial transactions by detailing the amount, departmental allocation, and the nature of each expense. It provides a clear view of organizational expenditures across different categories, highlighting both the timing and approval state of each financial entry. Additionally, the dataset captures patterns in expense submissions, including potential duplicate claims and their impact on financial management.\n",
    "\n",
    "### Your Task\n",
    "**Goal**: To identify and rectify the causes of high rejection rates in travel expenses while also detecting and addressing potential duplicate expense claims. This ensures that submissions align with organizational policies and reduces the risk of financial inefficiencies or unauthorized claims.\n",
    "\n",
    "**Role**: Expense Audit Analyst\n",
    "\n",
    "**Difficulty**: 2 out of 5. This task requires key analysis of expense reports to detect commonalities in rejections.\n",
    "\n",
    "**Category**: Finance Management\n"
   ]
  },
  {
   "cell_type": "markdown",
   "metadata": {},
   "source": [
    "### Import Necessary Libraries\n",
    "This cell imports all necessary libraries required for the analysis. This includes libraries for data manipulation, data visualization, and any specific utilities needed for the tasks. "
   ]
  },
  {
   "cell_type": "code",
   "execution_count": 1,
   "metadata": {},
   "outputs": [],
   "source": [
    "import argparse\n",
    "import pandas as pd\n",
    "import json\n",
    "import requests\n",
    "import matplotlib.pyplot as plt\n",
    "import numpy as np\n",
    "import seaborn as sns\n",
    "from pandas import date_range"
   ]
  },
  {
   "cell_type": "markdown",
   "metadata": {},
   "source": [
    "### Load Dataset\n",
    "This cell loads the dataset to be analyzed. The data is stored in the from a CSV file, and is imported into a DataFrame. It involves specifying the path to the dataset, using pandas to read the file, and confirming its successful load by inspecting the first few table entries."
   ]
  },
  {
   "cell_type": "code",
   "execution_count": 2,
   "metadata": {},
   "outputs": [
    {
     "data": {
      "text/html": [
       "<div>\n",
       "<style scoped>\n",
       "    .dataframe tbody tr th:only-of-type {\n",
       "        vertical-align: middle;\n",
       "    }\n",
       "\n",
       "    .dataframe tbody tr th {\n",
       "        vertical-align: top;\n",
       "    }\n",
       "\n",
       "    .dataframe thead th {\n",
       "        text-align: right;\n",
       "    }\n",
       "</style>\n",
       "<table border=\"1\" class=\"dataframe\">\n",
       "  <thead>\n",
       "    <tr style=\"text-align: right;\">\n",
       "      <th></th>\n",
       "      <th>category</th>\n",
       "      <th>state</th>\n",
       "      <th>closed_at</th>\n",
       "      <th>opened_at</th>\n",
       "      <th>closed_by</th>\n",
       "      <th>number</th>\n",
       "      <th>sys_updated_by</th>\n",
       "      <th>location</th>\n",
       "      <th>assigned_to</th>\n",
       "      <th>caller_id</th>\n",
       "      <th>sys_updated_on</th>\n",
       "      <th>short_description</th>\n",
       "      <th>priority</th>\n",
       "      <th>assignement_group</th>\n",
       "    </tr>\n",
       "  </thead>\n",
       "  <tbody>\n",
       "    <tr>\n",
       "      <th>0</th>\n",
       "      <td>Database</td>\n",
       "      <td>Closed</td>\n",
       "      <td>2023-07-25 03:32:18.462401146</td>\n",
       "      <td>2023-01-02 11:04:00</td>\n",
       "      <td>Fred Luddy</td>\n",
       "      <td>INC0000000034</td>\n",
       "      <td>admin</td>\n",
       "      <td>Australia</td>\n",
       "      <td>Fred Luddy</td>\n",
       "      <td>ITIL User</td>\n",
       "      <td>2023-07-06 03:31:13.838619495</td>\n",
       "      <td>There was an issue</td>\n",
       "      <td>2 - High</td>\n",
       "      <td>Database</td>\n",
       "    </tr>\n",
       "    <tr>\n",
       "      <th>1</th>\n",
       "      <td>Hardware</td>\n",
       "      <td>Closed</td>\n",
       "      <td>2023-03-11 13:42:59.511508874</td>\n",
       "      <td>2023-01-03 10:19:00</td>\n",
       "      <td>Charlie Whitherspoon</td>\n",
       "      <td>INC0000000025</td>\n",
       "      <td>admin</td>\n",
       "      <td>India</td>\n",
       "      <td>Beth Anglin</td>\n",
       "      <td>Don Goodliffe</td>\n",
       "      <td>2023-05-19 04:22:50.443252112</td>\n",
       "      <td>There was an issue</td>\n",
       "      <td>1 - Critical</td>\n",
       "      <td>Hardware</td>\n",
       "    </tr>\n",
       "    <tr>\n",
       "      <th>2</th>\n",
       "      <td>Database</td>\n",
       "      <td>Resolved</td>\n",
       "      <td>2023-01-20 14:37:18.361510788</td>\n",
       "      <td>2023-01-04 06:37:00</td>\n",
       "      <td>Charlie Whitherspoon</td>\n",
       "      <td>INC0000000354</td>\n",
       "      <td>system</td>\n",
       "      <td>India</td>\n",
       "      <td>Fred Luddy</td>\n",
       "      <td>ITIL User</td>\n",
       "      <td>2023-02-13 08:10:20.378839709</td>\n",
       "      <td>There was an issue</td>\n",
       "      <td>2 - High</td>\n",
       "      <td>Database</td>\n",
       "    </tr>\n",
       "    <tr>\n",
       "      <th>3</th>\n",
       "      <td>Hardware</td>\n",
       "      <td>Resolved</td>\n",
       "      <td>2023-01-25 20:46:13.679914432</td>\n",
       "      <td>2023-01-04 06:53:00</td>\n",
       "      <td>Fred Luddy</td>\n",
       "      <td>INC0000000023</td>\n",
       "      <td>admin</td>\n",
       "      <td>Canada</td>\n",
       "      <td>Luke Wilson</td>\n",
       "      <td>Don Goodliffe</td>\n",
       "      <td>2023-06-14 11:45:24.784548040</td>\n",
       "      <td>There was an issue</td>\n",
       "      <td>2 - High</td>\n",
       "      <td>Hardware</td>\n",
       "    </tr>\n",
       "    <tr>\n",
       "      <th>4</th>\n",
       "      <td>Hardware</td>\n",
       "      <td>Closed</td>\n",
       "      <td>2023-05-10 22:35:58.881919516</td>\n",
       "      <td>2023-01-05 16:52:00</td>\n",
       "      <td>Luke Wilson</td>\n",
       "      <td>INC0000000459</td>\n",
       "      <td>employee</td>\n",
       "      <td>UK</td>\n",
       "      <td>Charlie Whitherspoon</td>\n",
       "      <td>David Loo</td>\n",
       "      <td>2023-06-11 20:25:35.094482408</td>\n",
       "      <td>There was an issue</td>\n",
       "      <td>2 - High</td>\n",
       "      <td>Hardware</td>\n",
       "    </tr>\n",
       "  </tbody>\n",
       "</table>\n",
       "</div>"
      ],
      "text/plain": [
       "   category     state                      closed_at            opened_at  \\\n",
       "0  Database    Closed  2023-07-25 03:32:18.462401146  2023-01-02 11:04:00   \n",
       "1  Hardware    Closed  2023-03-11 13:42:59.511508874  2023-01-03 10:19:00   \n",
       "2  Database  Resolved  2023-01-20 14:37:18.361510788  2023-01-04 06:37:00   \n",
       "3  Hardware  Resolved  2023-01-25 20:46:13.679914432  2023-01-04 06:53:00   \n",
       "4  Hardware    Closed  2023-05-10 22:35:58.881919516  2023-01-05 16:52:00   \n",
       "\n",
       "              closed_by         number sys_updated_by   location  \\\n",
       "0            Fred Luddy  INC0000000034          admin  Australia   \n",
       "1  Charlie Whitherspoon  INC0000000025          admin      India   \n",
       "2  Charlie Whitherspoon  INC0000000354         system      India   \n",
       "3            Fred Luddy  INC0000000023          admin     Canada   \n",
       "4           Luke Wilson  INC0000000459       employee         UK   \n",
       "\n",
       "            assigned_to      caller_id                 sys_updated_on  \\\n",
       "0            Fred Luddy      ITIL User  2023-07-06 03:31:13.838619495   \n",
       "1           Beth Anglin  Don Goodliffe  2023-05-19 04:22:50.443252112   \n",
       "2            Fred Luddy      ITIL User  2023-02-13 08:10:20.378839709   \n",
       "3           Luke Wilson  Don Goodliffe  2023-06-14 11:45:24.784548040   \n",
       "4  Charlie Whitherspoon      David Loo  2023-06-11 20:25:35.094482408   \n",
       "\n",
       "    short_description      priority assignement_group  \n",
       "0  There was an issue      2 - High          Database  \n",
       "1  There was an issue  1 - Critical          Hardware  \n",
       "2  There was an issue      2 - High          Database  \n",
       "3  There was an issue      2 - High          Hardware  \n",
       "4  There was an issue      2 - High          Hardware  "
      ]
     },
     "execution_count": 2,
     "metadata": {},
     "output_type": "execute_result"
    }
   ],
   "source": [
    "dataset_path = \"csvs/flag-93.csv\"\n",
    "flag_data = pd.read_csv(dataset_path)\n",
    "df = pd.read_csv(dataset_path)\n",
    "flag_data.head()\n"
   ]
  },
  {
   "cell_type": "markdown",
   "metadata": {},
   "source": [
    "\n",
    "### **Question 1: How do rejection rates for travel expenses compare to other categories within the expense reports?**"
   ]
  },
  {
   "cell_type": "markdown",
   "metadata": {},
   "source": [
    "#### Plot proportion of declined expenses by category\n",
    "\n",
    "This plot provides a comparison of rejection rates across different expense categories within the organization. By plotting the proportion of declined expenses, this graph helps in identifying which categories, particularly 'Travel', face higher scrutiny or issues in approval processes compared to others. "
   ]
  },
  {
   "cell_type": "code",
   "execution_count": 3,
   "metadata": {},
   "outputs": [
    {
     "name": "stdout",
     "output_type": "stream",
     "text": [
      "N/A\n"
     ]
    }
   ],
   "source": [
    "# import matplotlib.pyplot as plt\n",
    "\n",
    "# # Group the data by category and state, then count occurrences\n",
    "# category_state_counts = flag_data.groupby(['category', 'state']).size().unstack(fill_value=0)\n",
    "\n",
    "# # Calculate proportions of each state within each category\n",
    "# category_state_proportions = category_state_counts.div(category_state_counts.sum(axis=1), axis=0)\n",
    "\n",
    "# # Plot the data, focusing only on the 'Declined' state\n",
    "# fig, ax = plt.subplots(figsize=(12, 8))\n",
    "# declined_proportions = category_state_proportions['Declined']\n",
    "# declined_proportions.plot(kind='bar', color='red', ax=ax)\n",
    "\n",
    "# # Add titles and labels\n",
    "# ax.set_title('Proportion of Declined Expenses by Category', fontsize=16)\n",
    "# ax.set_xlabel('Expense Category', fontsize=14)\n",
    "# ax.set_ylabel('Proportion of Declined', fontsize=14)\n",
    "# ax.set_ylim(0, 1)  # Set y-axis limit to show proportions from 0 to 1\n",
    "\n",
    "# # Show grid\n",
    "# ax.grid(True, which='both', linestyle='--', linewidth=0.5)\n",
    "\n",
    "# # Rotate the x-axis labels for better readability\n",
    "# plt.xticks(rotation=45)\n",
    "# plt.tight_layout()  # Adjust layout to not cut off labels\n",
    "\n",
    "# # Adding numeric labels on top of the bars\n",
    "# for i, value in enumerate(declined_proportions):\n",
    "#     ax.text(i, value, f\"{value:.2f}\", ha='center', va='bottom', fontsize=10, color='black')\n",
    "\n",
    "# # Show the plot\n",
    "# plt.show()\n",
    "print(\"N/A\")"
   ]
  },
  {
   "cell_type": "markdown",
   "metadata": {},
   "source": [
    "#### Generate JSON Description for the Insight"
   ]
  },
  {
   "cell_type": "code",
   "execution_count": 1,
   "metadata": {},
   "outputs": [
    {
     "data": {
      "text/plain": [
       "{'data_type': 'comparative',\n",
       " 'insight': \"The analysis could not be completed due to a KeyError indicating that 'Declined' is not a valid state in the dataset\",\n",
       " 'insight_value': {},\n",
       " 'plot': {'description': \"A bar chart was attempted to show proportions of declined expenses by category, but failed due to missing 'Declined' state in the data\"},\n",
       " 'question': 'How do rejection rates for travel expenses compare to other categories within the expense reports?',\n",
       " 'actionable_insight': 'No actionable insight could be generated due to the missing data'}"
      ]
     },
     "execution_count": 1,
     "metadata": {},
     "output_type": "execute_result"
    }
   ],
   "source": [
    "{\n",
    "    \"data_type\": \"comparative\",\n",
    "    \"insight\": \"The analysis could not be completed due to a KeyError indicating that 'Declined' is not a valid state in the dataset\",\n",
    "    \"insight_value\": {},\n",
    "    \"plot\": {\n",
    "        \"description\": \"A bar chart was attempted to show proportions of declined expenses by category, but failed due to missing 'Declined' state in the data\"\n",
    "    },\n",
    "    \"question\": \"How do rejection rates for travel expenses compare to other categories within the expense reports?\",\n",
    "    \"actionable_insight\": \"No actionable insight could be generated due to the missing data\"\n",
    "}"
   ]
  },
  {
   "cell_type": "markdown",
   "metadata": {},
   "source": [
    "### **Question 2:  What is the distribution of Expense Reports by department?**"
   ]
  },
  {
   "cell_type": "markdown",
   "metadata": {},
   "source": [
    "#### Number of Expense Reports by Category\n",
    "\n",
    "This bar chart illustrates distribution of expense reports across  categories within organization. By visualizing these number of reports per category, this plot highlights which expense categories are most commonly reported and potentially which ones are under more scrutiny or utilized more frequently. "
   ]
  },
  {
   "cell_type": "code",
   "execution_count": 5,
   "metadata": {},
   "outputs": [
    {
     "data": {
      "image/png": "[encoded data removed]",
      "text/plain": [
       "<Figure size 1200x800 with 1 Axes>"
      ]
     },
     "metadata": {},
     "output_type": "display_data"
    }
   ],
   "source": [
    "import matplotlib.pyplot as plt\n",
    "\n",
    "# Count the number of expense reports per department\n",
    "department_counts = flag_data['category'].value_counts()\n",
    "\n",
    "# Plot the data\n",
    "fig, ax = plt.subplots(figsize=(12, 8))\n",
    "department_counts.plot(kind='bar', color='skyblue', ax=ax)\n",
    "\n",
    "# Add titles and labels\n",
    "ax.set_title('Number of Expense Reports by Category', fontsize=16)\n",
    "ax.set_xlabel('Category', fontsize=14)\n",
    "ax.set_ylabel('Number of Expense Reports', fontsize=14)\n",
    "\n",
    "# Show grid\n",
    "ax.grid(axis='y')  # Only horizontal grid lines for readability\n",
    "\n",
    "# Rotate the x-axis labels for better readability\n",
    "plt.xticks(rotation=45)\n",
    "plt.tight_layout()  # Adjust layout to not cut off labels\n",
    "\n",
    "# Adding numeric labels on top of the bars for clarity\n",
    "for p in ax.patches:\n",
    "    ax.annotate(f\"{int(p.get_height())}\", (p.get_x() + p.get_width() / 2., p.get_height()),\n",
    "                ha='center', va='bottom', xytext=(0, 10), textcoords='offset points')\n",
    "\n",
    "# Show the plot\n",
    "plt.show()"
   ]
  },
  {
   "cell_type": "markdown",
   "metadata": {},
   "source": [
    "#### Generate JSON Description for the Insight"
   ]
  },
  {
   "cell_type": "code",
   "execution_count": 9,
   "metadata": {},
   "outputs": [
    {
     "data": {
      "text/plain": [
       "{'data_type': 'descriptive',\n",
       " 'insight': 'The distribution of expense reports shows equal reporting across all IT departments',\n",
       " 'insight_value': {'description': 'Each department (Database, Hardware, Inquiry/Help, Software, Network) has exactly 100 expense reports'},\n",
       " 'plot': {'plot_type': 'bar',\n",
       "  'title': 'Number of Expense Reports by Category',\n",
       "  'x_axis': {'name': 'Category',\n",
       "   'value': ['Database', 'Hardware', 'Inquiry/Help', 'Software', 'Network'],\n",
       "   'description': 'Different IT departments generating expense reports'},\n",
       "  'y_axis': {'name': 'Number of Expense Reports',\n",
       "   'value': 100,\n",
       "   'description': 'Shows the count of expense reports submitted by each department'},\n",
       "  'description': 'Light blue bar chart showing uniform distribution of 100 expense reports across all departments'},\n",
       " 'question': 'What is the distribution of expense reports by department?',\n",
       " 'actionable_insight': {'description': 'The consistent number of reports across departments suggests standardized reporting practices, though it may be worth investigating if this uniformity is natural or due to reporting constraints'}}"
      ]
     },
     "execution_count": 9,
     "metadata": {},
     "output_type": "execute_result"
    }
   ],
   "source": [
    "{\n",
    "   \"data_type\":\"descriptive\",\n",
    "   \"insight\":\"The distribution of expense reports shows equal reporting across all IT departments\",\n",
    "   \"insight_value\":{\n",
    "      \"description\":\"Each department (Database, Hardware, Inquiry/Help, Software, Network) has exactly 100 expense reports\"\n",
    "   },\n",
    "   \"plot\":{\n",
    "      \"plot_type\":\"bar\",\n",
    "      \"title\":\"Number of Expense Reports by Category\",\n",
    "      \"x_axis\":{\n",
    "         \"name\":\"Category\",\n",
    "         \"value\":[\n",
    "            \"Database\",\n",
    "            \"Hardware\",\n",
    "            \"Inquiry/Help\",\n",
    "            \"Software\",\n",
    "            \"Network\"\n",
    "         ],\n",
    "         \"description\":\"Different IT departments generating expense reports\"\n",
    "      },\n",
    "      \"y_axis\":{\n",
    "         \"name\":\"Number of Expense Reports\",\n",
    "         \"value\":100,\n",
    "         \"description\":\"Shows the count of expense reports submitted by each department\"\n",
    "      },\n",
    "      \"description\":\"Light blue bar chart showing uniform distribution of 100 expense reports across all departments\"\n",
    "   },\n",
    "   \"question\":\"What is the distribution of expense reports by department?\",\n",
    "   \"actionable_insight\":{\n",
    "      \"description\":\"The consistent number of reports across departments suggests standardized reporting practices, though it may be worth investigating if this uniformity is natural or due to reporting constraints\"\n",
    "   }\n",
    "}"
   ]
  },
  {
   "cell_type": "markdown",
   "metadata": {},
   "source": [
    "### **Question 3:** Which users have submitted multiple duplicate expense claims?"
   ]
  },
  {
   "cell_type": "markdown",
   "metadata": {},
   "source": [
    "Duplicate expense claims can indicate potential fraud or errors in the expense reporting process. By identifying users who have submitted multiple expense claims with identical amounts, categories, and descriptions, we can uncover patterns that may require further investigation to ensure compliance with company policies and to prevent unauthorized financial activities. This analysis will help highlight any suspicious behavior in the expense submission process, providing an opportunity to address potential issues proactively."
   ]
  },
  {
   "cell_type": "code",
   "execution_count": 7,
   "metadata": {},
   "outputs": [
    {
     "name": "stdout",
     "output_type": "stream",
     "text": [
      "N/A\n"
     ]
    }
   ],
   "source": [
    "# # Identify potential duplicates based on user, amount, category, and short description\n",
    "# duplicate_entries = df[df.duplicated(subset=['user', 'amount', 'category', 'short_description'], keep=False)]\n",
    "\n",
    "# # Count the number of duplicates per user\n",
    "# duplicates_count = duplicate_entries['user'].value_counts()\n",
    "\n",
    "# # Plot the number of duplicate claims per user\n",
    "# plt.figure(figsize=(10, 6))\n",
    "# duplicates_count.plot(kind='bar', color='tomato')\n",
    "# plt.title('Number of Duplicate Expense Claims by User')\n",
    "# plt.xlabel('User')\n",
    "# plt.ylabel('Number of Duplicate Claims')\n",
    "# plt.xticks(rotation=45, ha='right')\n",
    "# plt.tight_layout()\n",
    "# plt.show()\n",
    "print(\"N/A\")"
   ]
  },
  {
   "cell_type": "code",
   "execution_count": 3,
   "metadata": {},
   "outputs": [
    {
     "data": {
      "text/plain": [
       "{'data_type': 'frequency',\n",
       " 'insight': \"The analysis could not be completed due to missing columns 'user' and 'amount' in the dataset\",\n",
       " 'insight_value': {},\n",
       " 'plot': {'description': 'No plot could be generated due to missing columns in the dataset'},\n",
       " 'question': 'Which users have submitted multiple duplicate expense claims?',\n",
       " 'actionable_insight': 'No actionable insight could be generated due to the missing data'}"
      ]
     },
     "execution_count": 3,
     "metadata": {},
     "output_type": "execute_result"
    }
   ],
   "source": [
    "{\n",
    "    \"data_type\": \"frequency\",\n",
    "    \"insight\": \"The analysis could not be completed due to missing columns 'user' and 'amount' in the dataset\",\n",
    "    \"insight_value\": {},\n",
    "    \"plot\": {\n",
    "        \"description\": \"No plot could be generated due to missing columns in the dataset\"\n",
    "    },\n",
    "    \"question\": \"Which users have submitted multiple duplicate expense claims?\",\n",
    "    \"actionable_insight\": \"No actionable insight could be generated due to the missing data\"\n",
    "}"
   ]
  },
  {
   "cell_type": "markdown",
   "metadata": {},
   "source": [
    "### **Question 4: Are the guidelines for submitting travel expenses more complex compared to other categories?**\n"
   ]
  },
  {
   "cell_type": "markdown",
   "metadata": {},
   "source": [
    "To adequately address this question, additional data or insights from experts who are familiar with the company's expense reporting policies are necessary. It is recommended that the organization conduct a thorough review of the written guidelines for each expense category or consult with policy managers. Gathering qualitative feedback from employees on their experiences with submitting expenses in various categories could also provide valuable insights. Implementing a survey or a series of focus groups to discuss the challenges and perceptions related to expense submission guidelines could uncover the complexity levels and any discrepancies between categories. This approach will not only clarify whether travel expense guidelines are indeed more complex but also help identify specific areas for simplification and improvement."
   ]
  },
  {
   "cell_type": "markdown",
   "metadata": {},
   "source": [
    "### **Question 5: What training or resources are currently available to employees submitting travel expenses?**\n"
   ]
  },
  {
   "cell_type": "markdown",
   "metadata": {},
   "source": [
    "Insufficient Data on Training or Resources for Travel Expense Submission\n",
    "\n",
    "Given the high rejection rates in the Travel category and the absence of data on supportive measures, it is predictive to assume that existing resources or training may not be adequately addressing the needs of employees. This situation, if not improved, could lead to continued or increased rejections. It is recommended that the organization should proactively enhance its training programs and resources related to travel expenses. This could involve updating training modules to reflect current policies, creating more detailed guides or FAQs specifically for travel expenses, or implementing regular review sessions and feedback mechanisms to ensure that employees are well-informed and supported in making compliant submissions. Additionally, assessing the current support system through employee surveys or consultations could identify gaps and opportunities for improvement, potentially reducing the rate of expense rejections significantly."
   ]
  },
  {
   "cell_type": "markdown",
   "metadata": {},
   "source": [
    "### Summary of Findings (Flag 93):\n",
    "\n",
    "1. **Duplicate Expense Claims:** There are no duplicate expense claims in the dataset.\n",
    "\n",
    "2. **Trend in Expense Rejections:** No trend could be identified due to missing data.\n",
    "\n",
    "3. **Enhancing Policy Adherence:** The absence of data on training or resources for travel expense submission suggests a potential gap in policy adherence."
   ]
  }
 ],
 "metadata": {
  "kernelspec": {
   "display_name": "Python 3",
   "language": "python",
   "name": "python3"
  },
  "language_info": {
   "codemirror_mode": {
    "name": "ipython",
    "version": 3
   },
   "file_extension": ".py",
   "mimetype": "text/x-python",
   "name": "python",
   "nbconvert_exporter": "python",
   "pygments_lexer": "ipython3",
   "version": "3.10.12"
  }
 },
 "nbformat": 4,
 "nbformat_minor": 2
}

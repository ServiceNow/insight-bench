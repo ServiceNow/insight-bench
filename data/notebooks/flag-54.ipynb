{
 "cells": [
  {
   "cell_type": "markdown",
   "metadata": {},
   "source": [
    "## Incident Assignment and Resolution Efficiency Analysis (Flag 54)\n",
    "\n",
    "### Dataset Description\n",
    "The dataset comprises 500 entries simulating ServiceNow incidents table, detailing various attributes such as category, state, open and close dates, involved personnel, and incident specifics like description, and priority. It captures incident management activities with fields like 'opened_at', 'closed_at', 'assigned_to', 'short_description', and 'priority', reflecting the operational handling and urgency of issues across different locations and categories.\n",
    "\n",
    "### Your Task\n",
    "**Goal**: Analyze the workload distribution among agents to identify any overload situations, specifically focusing on any agent with increasing assignments.\n",
    "\n",
    "**Role**: L2 Incident Analyst\n",
    "\n",
    "**Difficulty**: 3 out of 5. This analysis requires a detailed examination of workload trends, agent performance, and their impacts on incident resolution times, demanding level of analytical skills.\n",
    "\n",
    "**Category**: Incident Management\n"
   ]
  },
  {
   "cell_type": "markdown",
   "metadata": {},
   "source": [
    "\n",
    "### Import Necessary Libraries\n",
    "This cell imports all necessary libraries required for the analysis. This includes libraries for data manipulation, data visualization, and any specific utilities needed for the tasks. "
   ]
  },
  {
   "cell_type": "code",
   "execution_count": 1,
   "metadata": {
    "execution": {
     "iopub.execute_input": "2024-10-25T20:03:47.618888Z",
     "iopub.status.busy": "2024-10-25T20:03:47.617408Z",
     "iopub.status.idle": "2024-10-25T20:03:50.868429Z",
     "shell.execute_reply": "2024-10-25T20:03:50.865951Z"
    }
   },
   "outputs": [],
   "source": [
    "import argparse\n",
    "import pandas as pd\n",
    "import json\n",
    "import requests\n",
    "import matplotlib.pyplot as plt\n",
    "import numpy as np\n",
    "import seaborn as sns\n",
    "from pandas import date_range"
   ]
  },
  {
   "cell_type": "markdown",
   "metadata": {},
   "source": [
    "## Load Dataset\n",
    "This cell imports the dataset we are using, labeled 'flag-7', which is stored in a CSV file and loaded into a DataFrame. The process includes reading the data from the specified file path, and we might take a quick look at the first few rows to confirm that it's all loaded correctly."
   ]
  },
  {
   "cell_type": "code",
   "execution_count": 2,
   "metadata": {
    "execution": {
     "iopub.execute_input": "2024-10-25T20:03:50.881108Z",
     "iopub.status.busy": "2024-10-25T20:03:50.880406Z",
     "iopub.status.idle": "2024-10-25T20:03:50.949595Z",
     "shell.execute_reply": "2024-10-25T20:03:50.947321Z"
    }
   },
   "outputs": [
    {
     "data": {
      "text/html": [
       "<div>\n",
       "<style scoped>\n",
       "    .dataframe tbody tr th:only-of-type {\n",
       "        vertical-align: middle;\n",
       "    }\n",
       "\n",
       "    .dataframe tbody tr th {\n",
       "        vertical-align: top;\n",
       "    }\n",
       "\n",
       "    .dataframe thead th {\n",
       "        text-align: right;\n",
       "    }\n",
       "</style>\n",
       "<table border=\"1\" class=\"dataframe\">\n",
       "  <thead>\n",
       "    <tr style=\"text-align: right;\">\n",
       "      <th></th>\n",
       "      <th>category</th>\n",
       "      <th>state</th>\n",
       "      <th>closed_at</th>\n",
       "      <th>opened_at</th>\n",
       "      <th>closed_by</th>\n",
       "      <th>number</th>\n",
       "      <th>sys_updated_by</th>\n",
       "      <th>location</th>\n",
       "      <th>assigned_to</th>\n",
       "      <th>caller_id</th>\n",
       "      <th>sys_updated_on</th>\n",
       "      <th>short_description</th>\n",
       "      <th>priority</th>\n",
       "      <th>assignement_group</th>\n",
       "    </tr>\n",
       "  </thead>\n",
       "  <tbody>\n",
       "    <tr>\n",
       "      <th>0</th>\n",
       "      <td>Database</td>\n",
       "      <td>Closed</td>\n",
       "      <td>2023-07-25 03:32:18.462401146</td>\n",
       "      <td>2023-01-02 11:04:00</td>\n",
       "      <td>Fred Luddy</td>\n",
       "      <td>INC0000000034</td>\n",
       "      <td>admin</td>\n",
       "      <td>Australia</td>\n",
       "      <td>Fred Luddy</td>\n",
       "      <td>ITIL User</td>\n",
       "      <td>2023-07-06 03:31:13.838619495</td>\n",
       "      <td>There was an issue</td>\n",
       "      <td>2 - High</td>\n",
       "      <td>Database</td>\n",
       "    </tr>\n",
       "    <tr>\n",
       "      <th>1</th>\n",
       "      <td>Hardware</td>\n",
       "      <td>Closed</td>\n",
       "      <td>2023-03-11 13:42:59.511508874</td>\n",
       "      <td>2023-01-03 10:19:00</td>\n",
       "      <td>Charlie Whitherspoon</td>\n",
       "      <td>INC0000000025</td>\n",
       "      <td>admin</td>\n",
       "      <td>India</td>\n",
       "      <td>Beth Anglin</td>\n",
       "      <td>Don Goodliffe</td>\n",
       "      <td>2023-05-19 04:22:50.443252112</td>\n",
       "      <td>There was an issue</td>\n",
       "      <td>1 - Critical</td>\n",
       "      <td>Hardware</td>\n",
       "    </tr>\n",
       "    <tr>\n",
       "      <th>2</th>\n",
       "      <td>Database</td>\n",
       "      <td>Resolved</td>\n",
       "      <td>2023-01-20 14:37:18.361510788</td>\n",
       "      <td>2023-01-04 06:37:00</td>\n",
       "      <td>Charlie Whitherspoon</td>\n",
       "      <td>INC0000000354</td>\n",
       "      <td>system</td>\n",
       "      <td>India</td>\n",
       "      <td>Fred Luddy</td>\n",
       "      <td>ITIL User</td>\n",
       "      <td>2023-02-13 08:10:20.378839709</td>\n",
       "      <td>There was an issue</td>\n",
       "      <td>2 - High</td>\n",
       "      <td>Database</td>\n",
       "    </tr>\n",
       "    <tr>\n",
       "      <th>3</th>\n",
       "      <td>Hardware</td>\n",
       "      <td>Resolved</td>\n",
       "      <td>2023-01-25 20:46:13.679914432</td>\n",
       "      <td>2023-01-04 06:53:00</td>\n",
       "      <td>Fred Luddy</td>\n",
       "      <td>INC0000000023</td>\n",
       "      <td>admin</td>\n",
       "      <td>Canada</td>\n",
       "      <td>Luke Wilson</td>\n",
       "      <td>Don Goodliffe</td>\n",
       "      <td>2023-06-14 11:45:24.784548040</td>\n",
       "      <td>There was an issue</td>\n",
       "      <td>2 - High</td>\n",
       "      <td>Hardware</td>\n",
       "    </tr>\n",
       "    <tr>\n",
       "      <th>4</th>\n",
       "      <td>Hardware</td>\n",
       "      <td>Closed</td>\n",
       "      <td>2023-05-10 22:35:58.881919516</td>\n",
       "      <td>2023-01-05 16:52:00</td>\n",
       "      <td>Luke Wilson</td>\n",
       "      <td>INC0000000459</td>\n",
       "      <td>employee</td>\n",
       "      <td>UK</td>\n",
       "      <td>Charlie Whitherspoon</td>\n",
       "      <td>David Loo</td>\n",
       "      <td>2023-06-11 20:25:35.094482408</td>\n",
       "      <td>There was an issue</td>\n",
       "      <td>2 - High</td>\n",
       "      <td>Hardware</td>\n",
       "    </tr>\n",
       "  </tbody>\n",
       "</table>\n",
       "</div>"
      ],
      "text/plain": [
       "   category     state                      closed_at            opened_at  \\\n",
       "0  Database    Closed  2023-07-25 03:32:18.462401146  2023-01-02 11:04:00   \n",
       "1  Hardware    Closed  2023-03-11 13:42:59.511508874  2023-01-03 10:19:00   \n",
       "2  Database  Resolved  2023-01-20 14:37:18.361510788  2023-01-04 06:37:00   \n",
       "3  Hardware  Resolved  2023-01-25 20:46:13.679914432  2023-01-04 06:53:00   \n",
       "4  Hardware    Closed  2023-05-10 22:35:58.881919516  2023-01-05 16:52:00   \n",
       "\n",
       "              closed_by         number sys_updated_by   location  \\\n",
       "0            Fred Luddy  INC0000000034          admin  Australia   \n",
       "1  Charlie Whitherspoon  INC0000000025          admin      India   \n",
       "2  Charlie Whitherspoon  INC0000000354         system      India   \n",
       "3            Fred Luddy  INC0000000023          admin     Canada   \n",
       "4           Luke Wilson  INC0000000459       employee         UK   \n",
       "\n",
       "            assigned_to      caller_id                 sys_updated_on  \\\n",
       "0            Fred Luddy      ITIL User  2023-07-06 03:31:13.838619495   \n",
       "1           Beth Anglin  Don Goodliffe  2023-05-19 04:22:50.443252112   \n",
       "2            Fred Luddy      ITIL User  2023-02-13 08:10:20.378839709   \n",
       "3           Luke Wilson  Don Goodliffe  2023-06-14 11:45:24.784548040   \n",
       "4  Charlie Whitherspoon      David Loo  2023-06-11 20:25:35.094482408   \n",
       "\n",
       "    short_description      priority assignement_group  \n",
       "0  There was an issue      2 - High          Database  \n",
       "1  There was an issue  1 - Critical          Hardware  \n",
       "2  There was an issue      2 - High          Database  \n",
       "3  There was an issue      2 - High          Hardware  \n",
       "4  There was an issue      2 - High          Hardware  "
      ]
     },
     "execution_count": 2,
     "metadata": {},
     "output_type": "execute_result"
    }
   ],
   "source": [
    "dataset_path = \"csvs/flag-54.csv\"\n",
    "df = pd.read_csv(dataset_path)\n",
    "df.head()"
   ]
  },
  {
   "cell_type": "markdown",
   "metadata": {},
   "source": [
    "### **Question 1: What is the overall average number of incidents assigned to all agents over the recent period?**"
   ]
  },
  {
   "cell_type": "markdown",
   "metadata": {},
   "source": [
    "### Plot overall average number of incidents assigned to each agent\n",
    "This cell creates a bar plot to visualize the average number of incidents assigned to each agent over the recent period, providing insights into workload distribution across the team. This visualization helps identify if any agent is consistently assigned more incidents than others, which could indicate potential imbalances or overload situations."
   ]
  },
  {
   "cell_type": "code",
   "execution_count": 3,
   "metadata": {
    "execution": {
     "iopub.execute_input": "2024-10-25T20:03:50.963642Z",
     "iopub.status.busy": "2024-10-25T20:03:50.963083Z",
     "iopub.status.idle": "2024-10-25T20:03:51.576366Z",
     "shell.execute_reply": "2024-10-25T20:03:51.573992Z"
    }
   },
   "outputs": [
    {
     "data": {
      "image/png": "[encoded data removed]",
      "text/plain": [
       "<Figure size 720x432 with 1 Axes>"
      ]
     },
     "metadata": {
      "needs_background": "light"
     },
     "output_type": "display_data"
    }
   ],
   "source": [
    "import pandas as pd\n",
    "import matplotlib.pyplot as plt\n",
    "import seaborn as sns\n",
    "\n",
    "# Assuming df is already loaded and has the necessary columns\n",
    "df[\"opened_at\"] = pd.to_datetime(df[\"opened_at\"])\n",
    "\n",
    "# Group the data by 'assigned_to' and count the number of incidents for each agent\n",
    "agent_incident_counts = df.groupby('assigned_to').size()\n",
    "\n",
    "# Calculate the average number of incidents per agent\n",
    "# average_incidents_per_agent = agent_incident_counts.mean()\n",
    "\n",
    "# Create a DataFrame for plotting\n",
    "agent_average_df = pd.DataFrame({\n",
    "    'Agent': agent_incident_counts.index,\n",
    "    'Average Incidents': agent_incident_counts\n",
    "})\n",
    "\n",
    "# Plotting the average number of incidents per agent\n",
    "plt.figure(figsize=(10, 6))\n",
    "ax = sns.barplot(x='Agent', y='Average Incidents', data=agent_average_df)\n",
    "plt.title('Overall Average Number of Incidents Assigned to Each Agent')\n",
    "plt.ylabel('Average Number of Incidents')\n",
    "plt.xlabel('Agent')\n",
    "plt.xticks(rotation=45)\n",
    "\n",
    "# Annotate each bar with its value\n",
    "for p in ax.patches:\n",
    "    ax.annotate(format(p.get_height(), '.2f'), \n",
    "                (p.get_x() + p.get_width() / 2., p.get_height()), \n",
    "                ha = 'center', va = 'center', \n",
    "                xytext = (0, 9), \n",
    "                textcoords = 'offset points')\n",
    "plt.show()"
   ]
  },
  {
   "cell_type": "markdown",
   "metadata": {},
   "source": [
    "#### Generate JSON Description for the Insight"
   ]
  },
  {
   "cell_type": "code",
   "execution_count": 4,
   "metadata": {
    "execution": {
     "iopub.execute_input": "2024-10-25T20:03:51.590162Z",
     "iopub.status.busy": "2024-10-25T20:03:51.589557Z",
     "iopub.status.idle": "2024-10-25T20:03:51.612545Z",
     "shell.execute_reply": "2024-10-25T20:03:51.610244Z"
    }
   },
   "outputs": [
    {
     "data": {
      "text/plain": [
       "{'data_type': 'descriptive',\n",
       " 'insight': 'All agents have the same number of incidents assigned to them.',\n",
       " 'insight_value': {'agents': ['All agents'],\n",
       "  'average_incidents': 'Highest: 100'},\n",
       " 'plot': {'plot_type': 'bar',\n",
       "  'title': 'Overall Average Number of Incidents Assigned to Each Agent',\n",
       "  'x_axis': {'name': 'Agent',\n",
       "   'value': ['Beth Anglin',\n",
       "    'Luke Wilson',\n",
       "    'Howard Johnson',\n",
       "    'Charlie Whitherspoon',\n",
       "    'Fred Luddy'],\n",
       "   'description': 'This represents the agents handling incidents.'},\n",
       "  'y_axis': {'name': 'Average Number of Incidents',\n",
       "   'value': [100, 100, 100, 100, 100],\n",
       "   'description': 'This represents the average number of incidents assigned to each agent, calculated over the recent period.'},\n",
       "  'description': 'The bar chart visualizes the average number of incidents assigned to each agent. It shows that all agents have the same number of incidents assigned to them, with the highest average number of incidents being 100.'},\n",
       " 'question': 'What is the overall average number of incidents assigned to all agents over the recent period?',\n",
       " 'actionable_insight': 'Given the high number of incidents assigned to each agent, it may be beneficial to review the workload distribution among agents and consider redistributing tasks to ensure a more balanced workload.'}"
      ]
     },
     "execution_count": 4,
     "metadata": {},
     "output_type": "execute_result"
    }
   ],
   "source": [
    "{\n",
    "    \"data_type\": \"descriptive\",\n",
    "    \"insight\": \"All agents have the same number of incidents assigned to them.\",\n",
    "    \"insight_value\": {\n",
    "        \"agents\": [\"All agents\"],\n",
    "        \"average_incidents\": \"Highest: 100\"\n",
    "    },\n",
    "    \"plot\": {\n",
    "        \"plot_type\": \"bar\",\n",
    "        \"title\": \"Overall Average Number of Incidents Assigned to Each Agent\",\n",
    "        \"x_axis\": {\n",
    "            \"name\": \"Agent\",\n",
    "            \"value\": [\"Beth Anglin\", \"Luke Wilson\", \"Howard Johnson\", \"Charlie Whitherspoon\", \"Fred Luddy\"],\n",
    "            \"description\": \"This represents the agents handling incidents.\"\n",
    "        },\n",
    "        \"y_axis\": {\n",
    "            \"name\": \"Average Number of Incidents\",\n",
    "            \"value\": [100, 100, 100, 100, 100],\n",
    "            \"description\": \"This represents the average number of incidents assigned to each agent, calculated over the recent period.\"\n",
    "        },\n",
    "        \"description\": \"The bar chart visualizes the average number of incidents assigned to each agent. It shows that all agents have the same number of incidents assigned to them, with the highest average number of incidents being 100.\"\n",
    "    },\n",
    "    \"question\": \"What is the overall average number of incidents assigned to all agents over the recent period?\",\n",
    "    \"actionable_insight\": \"Given the high number of incidents assigned to each agent, it may be beneficial to review the workload distribution among agents and consider redistributing tasks to ensure a more balanced workload.\"\n",
    "}"
   ]
  },
  {
   "cell_type": "markdown",
   "metadata": {},
   "source": [
    "### **Question 2: How do the incident assignments to Beth Anglin compare to other agents over the specific same time frame or time period?**"
   ]
  },
  {
   "cell_type": "markdown",
   "metadata": {},
   "source": [
    "### Plot number of incidents created over time for each agent\n",
    "This cell creates a count plot to visualize the distribution of incident assignments across different agents over time, with a specific focus on comparing Beth Anglin's assignments to those of other agents. The plot provides insights into how workload is distributed among team members over specific time periods, allowing for an evaluation of consistency and fairness in task distribution."
   ]
  },
  {
   "cell_type": "code",
   "execution_count": 5,
   "metadata": {
    "execution": {
     "iopub.execute_input": "2024-10-25T20:03:51.628006Z",
     "iopub.status.busy": "2024-10-25T20:03:51.627504Z",
     "iopub.status.idle": "2024-10-25T20:03:52.884539Z",
     "shell.execute_reply": "2024-10-25T20:03:52.881965Z"
    }
   },
   "outputs": [
    {
     "data": {
      "image/png": "[encoded data removed]",
      "text/plain": [
       "<Figure size 864x432 with 1 Axes>"
      ]
     },
     "metadata": {
      "needs_background": "light"
     },
     "output_type": "display_data"
    }
   ],
   "source": [
    "# Sort the DataFrame by the opened_at column\n",
    "df = df.sort_values(\"opened_at\")\n",
    "df[\"opened_at\"] = pd.to_datetime(df[\"opened_at\"])\n",
    "df[\"closed_at\"] = pd.to_datetime(df[\"closed_at\"])\n",
    "# Create a new column 'month_year' to make the plot more readable\n",
    "df[\"month_year\"] = df[\"opened_at\"].dt.to_period(\"M\")\n",
    "\n",
    "# Create a countplot\n",
    "plt.figure(figsize=(12, 6))\n",
    "sns.countplot(data=df, x=\"month_year\", hue=\"assigned_to\")\n",
    "plt.title(\"Number of Incidents Created Over Time for each Agent\")\n",
    "plt.xticks(rotation=45)\n",
    "plt.show()"
   ]
  },
  {
   "cell_type": "markdown",
   "metadata": {},
   "source": [
    "#### Generate JSON Description for the Insight"
   ]
  },
  {
   "cell_type": "code",
   "execution_count": 6,
   "metadata": {
    "execution": {
     "iopub.execute_input": "2024-10-25T20:03:52.897908Z",
     "iopub.status.busy": "2024-10-25T20:03:52.897373Z",
     "iopub.status.idle": "2024-10-25T20:03:52.919963Z",
     "shell.execute_reply": "2024-10-25T20:03:52.917464Z"
    }
   },
   "outputs": [
    {
     "data": {
      "text/plain": [
       "{'data_type': 'comparative',\n",
       " 'insight': 'There is no visible trend in the number of incidents assigned to each agent over time.',\n",
       " 'insight_value': {'agents': ['Beth Anglin'],\n",
       "  'time_period': '01-2023 to 01-2024',\n",
       "  'comparison': 'no trend compared to other agents'},\n",
       " 'plot': {'plot_type': 'bar',\n",
       "  'title': 'Incident Assignment Comparison Over time period',\n",
       "  'x_axis': {'name': 'Agent',\n",
       "   'value': ['Beth Anglin',\n",
       "    'Luke Wilson',\n",
       "    'Howard Johnson',\n",
       "    'Charlie Whitherspoon',\n",
       "    'Fred Luddy'],\n",
       "   'description': 'This represents the agents handling incidents.'},\n",
       "  'y_axis': {'name': 'Number of Incidents',\n",
       "   'value': 'Count of incidents assigned per agent',\n",
       "   'description': 'This represents the number of incidents assigned to each agent during the specified period.'},\n",
       "  'description': 'The bar chart illustrates the distribution of incident assignments among agents from 01-2023 to 01-2024.'},\n",
       " 'question': 'How do the incident assignments to Beth Anglin compare to other agents over the specific same time frame?',\n",
       " 'actionable_insight': 'The lack of a visible trend in the number of incidents assigned to each agent over time suggests that the workload distribution among agents has been relatively consistent. However, it may be beneficial to periodically review the incident assignments to ensure that the workload remains balanced and that no agent is overwhelmed with tasks.'}"
      ]
     },
     "execution_count": 6,
     "metadata": {},
     "output_type": "execute_result"
    }
   ],
   "source": [
    "{\n",
    "    \"data_type\": \"comparative\",\n",
    "    \"insight\": \"There is no visible trend in the number of incidents assigned to each agent over time.\",\n",
    "    \"insight_value\": {\n",
    "        \"agents\": [\"Beth Anglin\"],\n",
    "        \"time_period\": \"01-2023 to 01-2024\",\n",
    "        \"comparison\": \"no trend compared to other agents\"\n",
    "    },\n",
    "    \"plot\": {\n",
    "        \"plot_type\": \"bar\",\n",
    "        \"title\": \"Incident Assignment Comparison Over time period\",\n",
    "        \"x_axis\": {\n",
    "            \"name\": \"Agent\",\n",
    "            \"value\": [\"Beth Anglin\", \"Luke Wilson\", \"Howard Johnson\", \"Charlie Whitherspoon\", \"Fred Luddy\"],\n",
    "            \"description\": \"This represents the agents handling incidents.\"\n",
    "        },\n",
    "        \"y_axis\": {\n",
    "            \"name\": \"Number of Incidents\",\n",
    "            \"value\": \"Count of incidents assigned per agent\",\n",
    "            \"description\": \"This represents the number of incidents assigned to each agent during the specified period.\"\n",
    "        },\n",
    "        \"description\": \"The bar chart illustrates the distribution of incident assignments among agents from 01-2023 to 01-2024.\"\n",
    "    },\n",
    "    \"question\": \"How do the incident assignments to Beth Anglin compare to other agents over the specific same time frame?\",\n",
    "    \"actionable_insight\": \"The lack of a visible trend in the number of incidents assigned to each agent over time suggests that the workload distribution among agents has been relatively consistent. However, it may be beneficial to periodically review the incident assignments to ensure that the workload remains balanced and that no agent is overwhelmed with tasks.\"\n",
    "}"
   ]
  },
  {
   "cell_type": "markdown",
   "metadata": {},
   "source": [
    "### Summary of Findings (Flag 54)\n",
    "\n",
    "1. **Uniform Assignments Over Time**: The analysis reveals that the average number of incidents assigned to each agent has been relatively consistent over the recent period, with minor variations observed. This indicates a balanced workload distribution among team members, which is essential for maintaining operational efficiency and performance.\n",
    "2. **Need for Intervention**: All agents face a high number of incidents (100) assigned to them. This suggests a potential overload situation that requires immediate attention to prevent burnout and ensure timely incident resolution."
   ]
  }
 ],
 "metadata": {
  "kernelspec": {
   "display_name": "stardoc",
   "language": "python",
   "name": "python3"
  },
  "language_info": {
   "codemirror_mode": {
    "name": "ipython",
    "version": 3
   },
   "file_extension": ".py",
   "mimetype": "text/x-python",
   "name": "python",
   "nbconvert_exporter": "python",
   "pygments_lexer": "ipython3",
   "version": "3.8.5"
  }
 },
 "nbformat": 4,
 "nbformat_minor": 2
}

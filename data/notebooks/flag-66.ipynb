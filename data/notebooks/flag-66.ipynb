{
 "cells": [
  {
   "cell_type": "markdown",
   "metadata": {},
   "source": [
    "## Expense Management Discrepancies (Flag 66)\n",
    "\n",
    "### Dataset Description\n",
    "The dataset consists of 500 entries simulating ServiceNow fm_expense_line table, which records various attributes of financial expenses. Key fields include 'number', 'opened_at', 'amount', 'state', 'short_description', 'ci', 'user', 'department', 'category', 'process_date', 'source_id', and 'type'. This table documents the flow of financial transactions by detailing the amount, departmental allocation, and the nature of each expense. Provides a clear view of organizational expenditures across different categories, highlighting both the timing and the approval state of each financial entry.\n",
    "\n",
    "### Your Task\n",
    "**Goal**: To uncover and address the reasons behind the varying rates of expense rejections across departments to improve overall financial management within the organization.\n",
    "\n",
    "**Role**: Financial Compliance Analyst\n",
    "\n",
    "**Difficulty**: 3 out of 5.\n",
    "\n",
    "**Category**: Financial Management\n"
   ]
  },
  {
   "cell_type": "markdown",
   "metadata": {},
   "source": [
    "### Import Necessary Libraries\n",
    "This cell imports all necessary libraries required for the analysis. This includes libraries for data manipulation, data visualization, and any specific utilities needed for the tasks. "
   ]
  },
  {
   "cell_type": "code",
   "execution_count": 3,
   "metadata": {
    "execution": {
     "iopub.execute_input": "2024-10-29T17:15:24.678516Z",
     "iopub.status.busy": "2024-10-29T17:15:24.676790Z",
     "iopub.status.idle": "2024-10-29T17:15:28.304307Z",
     "shell.execute_reply": "2024-10-29T17:15:28.302295Z"
    }
   },
   "outputs": [],
   "source": [
    "import argparse\n",
    "import pandas as pd\n",
    "import json\n",
    "import requests\n",
    "import matplotlib.pyplot as plt\n",
    "import numpy as np\n",
    "import seaborn as sns\n",
    "from pandas import date_range"
   ]
  },
  {
   "cell_type": "markdown",
   "metadata": {},
   "source": [
    "### Load Dataset\n",
    "This cell loads the expense dataset from a CSV file into a DataFrame. It involves specifying the path to the dataset, using pandas to read the file, and confirming its successful load by displaying the first few entries."
   ]
  },
  {
   "cell_type": "code",
   "execution_count": 4,
   "metadata": {
    "execution": {
     "iopub.execute_input": "2024-10-29T17:15:28.319824Z",
     "iopub.status.busy": "2024-10-29T17:15:28.318744Z",
     "iopub.status.idle": "2024-10-29T17:15:28.425897Z",
     "shell.execute_reply": "2024-10-29T17:15:28.421835Z"
    }
   },
   "outputs": [
    {
     "data": {
      "text/html": [
       "<div>\n",
       "<style scoped>\n",
       "    .dataframe tbody tr th:only-of-type {\n",
       "        vertical-align: middle;\n",
       "    }\n",
       "\n",
       "    .dataframe tbody tr th {\n",
       "        vertical-align: top;\n",
       "    }\n",
       "\n",
       "    .dataframe thead th {\n",
       "        text-align: right;\n",
       "    }\n",
       "</style>\n",
       "<table border=\"1\" class=\"dataframe\">\n",
       "  <thead>\n",
       "    <tr style=\"text-align: right;\">\n",
       "      <th></th>\n",
       "      <th>number</th>\n",
       "      <th>source_id</th>\n",
       "      <th>user</th>\n",
       "      <th>amount</th>\n",
       "      <th>processed_date</th>\n",
       "      <th>opened_at</th>\n",
       "      <th>department</th>\n",
       "      <th>state</th>\n",
       "      <th>category</th>\n",
       "      <th>short_description</th>\n",
       "      <th>ci</th>\n",
       "    </tr>\n",
       "  </thead>\n",
       "  <tbody>\n",
       "    <tr>\n",
       "      <th>0</th>\n",
       "      <td>EXP00000000</td>\n",
       "      <td>UTY-46750817</td>\n",
       "      <td>Carolina Kinlaw</td>\n",
       "      <td>584</td>\n",
       "      <td>NaN</td>\n",
       "      <td>2024-04-26 18:11:00</td>\n",
       "      <td>Sales</td>\n",
       "      <td>Pending</td>\n",
       "      <td>Services</td>\n",
       "      <td>Provision of Services for iPod touch</td>\n",
       "      <td>ISP Services</td>\n",
       "    </tr>\n",
       "    <tr>\n",
       "      <th>1</th>\n",
       "      <td>EXP00000001</td>\n",
       "      <td>CKX-70446459</td>\n",
       "      <td>Mamie Mcintee</td>\n",
       "      <td>3178</td>\n",
       "      <td>NaN</td>\n",
       "      <td>2023-10-03 08:08:00</td>\n",
       "      <td>Product Management</td>\n",
       "      <td>Submitted</td>\n",
       "      <td>Assets</td>\n",
       "      <td>Asset assignment for new Dell Laptop</td>\n",
       "      <td>Dell XPS 13</td>\n",
       "    </tr>\n",
       "    <tr>\n",
       "      <th>2</th>\n",
       "      <td>EXP00000002</td>\n",
       "      <td>NaN</td>\n",
       "      <td>Cristina Sharper</td>\n",
       "      <td>3278</td>\n",
       "      <td>2024-03-14 10:18:00.000000000</td>\n",
       "      <td>2024-03-13 10:18:00</td>\n",
       "      <td>Sales</td>\n",
       "      <td>Processed</td>\n",
       "      <td>Miscellaneous</td>\n",
       "      <td>Miscellaneous hardware component</td>\n",
       "      <td>Random Access Memory Component</td>\n",
       "    </tr>\n",
       "    <tr>\n",
       "      <th>3</th>\n",
       "      <td>EXP00000003</td>\n",
       "      <td>SRP-53496117</td>\n",
       "      <td>Raphael Bickel</td>\n",
       "      <td>8712</td>\n",
       "      <td>2023-06-20 17:32:56.784775309</td>\n",
       "      <td>2023-06-18 17:21:00</td>\n",
       "      <td>Sales</td>\n",
       "      <td>Processed</td>\n",
       "      <td>Assets</td>\n",
       "      <td>Dell OptiPlex 7050 Desktop Asset</td>\n",
       "      <td>OptiPlex 7050</td>\n",
       "    </tr>\n",
       "    <tr>\n",
       "      <th>4</th>\n",
       "      <td>EXP00000004</td>\n",
       "      <td>EAN-07942806</td>\n",
       "      <td>Helena Suermann</td>\n",
       "      <td>1307</td>\n",
       "      <td>2023-10-06 04:31:00.000000000</td>\n",
       "      <td>2023-10-05 04:31:00</td>\n",
       "      <td>Customer Support</td>\n",
       "      <td>Processed</td>\n",
       "      <td>Services</td>\n",
       "      <td>Deployed service-related asset</td>\n",
       "      <td>Cloud Database Service</td>\n",
       "    </tr>\n",
       "  </tbody>\n",
       "</table>\n",
       "</div>"
      ],
      "text/plain": [
       "        number     source_id              user  amount  \\\n",
       "0  EXP00000000  UTY-46750817   Carolina Kinlaw     584   \n",
       "1  EXP00000001  CKX-70446459     Mamie Mcintee    3178   \n",
       "2  EXP00000002           NaN  Cristina Sharper    3278   \n",
       "3  EXP00000003  SRP-53496117    Raphael Bickel    8712   \n",
       "4  EXP00000004  EAN-07942806   Helena Suermann    1307   \n",
       "\n",
       "                  processed_date            opened_at          department  \\\n",
       "0                            NaN  2024-04-26 18:11:00               Sales   \n",
       "1                            NaN  2023-10-03 08:08:00  Product Management   \n",
       "2  2024-03-14 10:18:00.000000000  2024-03-13 10:18:00               Sales   \n",
       "3  2023-06-20 17:32:56.784775309  2023-06-18 17:21:00               Sales   \n",
       "4  2023-10-06 04:31:00.000000000  2023-10-05 04:31:00    Customer Support   \n",
       "\n",
       "       state       category                     short_description  \\\n",
       "0    Pending       Services  Provision of Services for iPod touch   \n",
       "1  Submitted         Assets  Asset assignment for new Dell Laptop   \n",
       "2  Processed  Miscellaneous      Miscellaneous hardware component   \n",
       "3  Processed         Assets      Dell OptiPlex 7050 Desktop Asset   \n",
       "4  Processed       Services        Deployed service-related asset   \n",
       "\n",
       "                               ci  \n",
       "0                    ISP Services  \n",
       "1                     Dell XPS 13  \n",
       "2  Random Access Memory Component  \n",
       "3                   OptiPlex 7050  \n",
       "4          Cloud Database Service  "
      ]
     },
     "execution_count": 4,
     "metadata": {},
     "output_type": "execute_result"
    }
   ],
   "source": [
    "dataset_path = \"csvs/flag-66.csv\"\n",
    "flag_data = pd.read_csv(dataset_path)\n",
    "df = pd.read_csv(dataset_path)\n",
    "flag_data.head()\n"
   ]
  },
  {
   "cell_type": "markdown",
   "metadata": {},
   "source": [
    "### **Question 1: How does the processing delay (in days) vary across different departments and categories?**\n"
   ]
  },
  {
   "cell_type": "markdown",
   "metadata": {},
   "source": [
    "#### Analyze processing delay by department and category\n",
    "This analysis examines the difference in days between the date each request was opened and the date it was processed. By aggregating this data by department and category, we can identify areas that may have slower or more efficient processing workflows, revealing potential bottlenecks or high-efficiency areas within specific departments or asset categories."
   ]
  },
  {
   "cell_type": "code",
   "execution_count": 1,
   "metadata": {
    "execution": {
     "iopub.execute_input": "2024-10-29T17:15:28.442374Z",
     "iopub.status.busy": "2024-10-29T17:15:28.440954Z",
     "iopub.status.idle": "2024-10-29T17:15:29.088039Z",
     "shell.execute_reply": "2024-10-29T17:15:29.086395Z"
    }
   },
   "outputs": [
    {
     "data": {
      "image/png": "[encoded data removed]",
      "text/plain": [
       "<Figure size 1008x576 with 1 Axes>"
      ]
     },
     "metadata": {
      "needs_background": "light"
     },
     "output_type": "display_data"
    }
   ],
   "source": [
    "import pandas as pd\n",
    "import matplotlib.pyplot as plt\n",
    "import seaborn as sns\n",
    "\n",
    "# Load and process the data\n",
    "flag_data = pd.read_csv(\"csvs/flag-66.csv\")\n",
    "\n",
    "# Convert date columns to datetime format\n",
    "flag_data[\"opened_at\"] = pd.to_datetime(flag_data[\"opened_at\"], errors=\"coerce\")\n",
    "flag_data[\"processed_date\"] = pd.to_datetime(\n",
    "    flag_data[\"processed_date\"], errors=\"coerce\"\n",
    ")\n",
    "\n",
    "# Calculate processing delay in days and remove rows with missing dates\n",
    "flag_data[\"processing_delay\"] = (\n",
    "    flag_data[\"processed_date\"] - flag_data[\"opened_at\"]\n",
    ").dt.days\n",
    "flag_data = flag_data.dropna(subset=[\"processing_delay\", \"department\", \"category\"])\n",
    "\n",
    "# Aggregate mean processing delay by department and category\n",
    "delay_by_dept_category = (\n",
    "    flag_data.groupby([\"department\", \"category\"])[\"processing_delay\"]\n",
    "    .mean()\n",
    "    .reset_index()\n",
    ")\n",
    "\n",
    "# Plotting\n",
    "plt.figure(figsize=(14, 8))\n",
    "sns.barplot(\n",
    "    data=delay_by_dept_category,\n",
    "    x=\"processing_delay\",\n",
    "    y=\"department\",\n",
    "    hue=\"category\",\n",
    "    dodge=False,\n",
    ")\n",
    "plt.title(\"Average Processing Delay (in days) by Department and Category\")\n",
    "plt.xlabel(\"Average Processing Delay (days)\")\n",
    "plt.ylabel(\"Department\")\n",
    "plt.legend(title=\"Category\", bbox_to_anchor=(1.05, 1), loc=\"upper left\")\n",
    "plt.grid(True)\n",
    "\n",
    "plt.show()"
   ]
  },
  {
   "cell_type": "markdown",
   "metadata": {},
   "source": [
    "#### Generate JSON Description for the Insight"
   ]
  },
  {
   "cell_type": "code",
   "execution_count": 6,
   "metadata": {
    "execution": {
     "iopub.execute_input": "2024-10-29T17:15:29.101777Z",
     "iopub.status.busy": "2024-10-29T17:15:29.101195Z",
     "iopub.status.idle": "2024-10-29T17:15:29.129571Z",
     "shell.execute_reply": "2024-10-29T17:15:29.127993Z"
    }
   },
   "outputs": [
    {
     "data": {
      "text/plain": [
       "{'data_type': 'descriptive',\n",
       " 'insight': 'There is a significant variance in Expense Rejection Rates across departments',\n",
       " 'insight_value': {'description': 'The IT department exhibits a notably higher proportion of expense rejections compared to other departments with 44%, indicating potential issues with budget compliance or policy understanding.'},\n",
       " 'plot': {'plot_type': 'bar',\n",
       "  'title': 'Proportion of Declined Expenses by Department',\n",
       "  'x_axis': {'name': 'Department',\n",
       "   'value': ['IT',\n",
       "    'HR',\n",
       "    'Finance',\n",
       "    'Customer Support',\n",
       "    'Development',\n",
       "    'Sales',\n",
       "    'Product Management'],\n",
       "   'description': 'This axis categorizes expenses based on department affiliation.'},\n",
       "  'y_axis': {'name': 'Proportion of Declined',\n",
       "   'value': {'IT': '0.44',\n",
       "    'HR': '0.14',\n",
       "    'Finance': '0.09',\n",
       "    'Customer Support': '0.06',\n",
       "    'Development': '0.05',\n",
       "    'Sales': '0.05',\n",
       "    'Product Management': '0.00'},\n",
       "   'description': 'This axis displays the proportion of expenses declined within each department, highlighting the higher rejection rates particularly in the IT department.'},\n",
       "  'description': \"The bar chart illustrates the discrepancies in expense rejection rates among departments, with IT facing the highest rejection rate at 44%. This outlier suggests a specific challenge within the IT department's expense management process that requires immediate attention to improve compliance and understanding of financial policies.\"},\n",
       " 'question': 'Which departments have higher proportions of expense rejections compared to the organizational average?',\n",
       " 'actionable_insight': \"Given the high rejection rates in the IT department, a targeted review of expense submission procedures and training on policy compliance is recommended. This action should aim to align IT's expense management practices with organizational standards and reduce the high rate of declined expenses. Additionally, understanding the root causes of these rejections could inform broader improvements in expense processing protocols across the organization.\"}"
      ]
     },
     "execution_count": 6,
     "metadata": {},
     "output_type": "execute_result"
    }
   ],
   "source": [
    "{\n",
    "    \"data_type\": \"aggregated\",\n",
    "    \"insight\": \"Certain departments, notably Product Management and HR, exhibit notably longer processing delays in specific categories such as Services and Travel, indicating potential workflow bottlenecks.\",\n",
    "    \"insight_value\": {\n",
    "        \"description\": \"Departments such as Product Management and HR have average delays of up to 15 days in processing travel-related requests, which is significantly higher than in other departments and categories, pointing to a resource allocation or prioritization issue.\"\n",
    "    },\n",
    "    \"plot\": {\n",
    "        \"plot_type\": \"bar\",\n",
    "        \"title\": \"Average Processing Delay (in days) by Department and Category\",\n",
    "        \"x_axis\": {\n",
    "            \"name\": \"Average Processing Delay (days)\",\n",
    "            \"value\": \"Range of delays from 1 to 15 days\",\n",
    "            \"description\": \"This axis represents the average time in days it takes to process requests within each department and category.\",\n",
    "        },\n",
    "        \"y_axis\": {\n",
    "            \"name\": \"Department\",\n",
    "            \"value\": \"Various departments in the organization\",\n",
    "            \"description\": \"This axis lists departments such as HR, IT, Finance, and Product Management.\",\n",
    "        },\n",
    "        \"description\": \"The bar plot highlights processing delays across departments, with a marked delay in specific categories for departments like Product Management and HR, especially in Services and Travel requests, indicating potential bottlenecks in these workflows.\",\n",
    "    },\n",
    "    \"question\": \"How does the processing delay (in days) vary across different departments and categories?\",\n",
    "    \"actionable_insight\": \"The extended processing delays in departments such as HR and Product Management, especially in Travel and Services, suggest that these areas may benefit from a review of workflow efficiency or resource allocation. Addressing these bottlenecks could streamline operations, particularly in high-delay categories, improving overall organizational efficiency.\",\n",
    "}"
   ]
  },
  {
   "cell_type": "markdown",
   "metadata": {},
   "source": [
    "### **Question 2:  What is the distribution of Expense Reports by Department?**\n"
   ]
  },
  {
   "cell_type": "markdown",
   "metadata": {},
   "source": [
    "#### Plot number of expense reports by department\n",
    "This cell visualizes the distribution of expense reports across different departments using a bar plot. Each blue bar represents the total number of expense reports submitted by a particular department. This plot is essential for assessing the volume of financial transactions handled by each department and identifying which departments are more active in submitting expenses."
   ]
  },
  {
   "cell_type": "code",
   "execution_count": 7,
   "metadata": {
    "execution": {
     "iopub.execute_input": "2024-10-29T17:15:29.146300Z",
     "iopub.status.busy": "2024-10-29T17:15:29.145482Z",
     "iopub.status.idle": "2024-10-29T17:15:29.665286Z",
     "shell.execute_reply": "2024-10-29T17:15:29.663337Z"
    }
   },
   "outputs": [
    {
     "data": {
      "image/png": "[encoded data removed]",
      "text/plain": [
       "<Figure size 864x576 with 1 Axes>"
      ]
     },
     "metadata": {
      "needs_background": "light"
     },
     "output_type": "display_data"
    }
   ],
   "source": [
    "import matplotlib.pyplot as plt\n",
    "\n",
    "# Count the number of expense reports per department\n",
    "department_counts = flag_data['department'].value_counts()\n",
    "\n",
    "# Plot the data\n",
    "fig, ax = plt.subplots(figsize=(12, 8))\n",
    "department_counts.plot(kind='bar', color='skyblue', ax=ax)\n",
    "\n",
    "# Add titles and labels\n",
    "ax.set_title('Number of Expense Reports by Department', fontsize=16)\n",
    "ax.set_xlabel('Department', fontsize=14)\n",
    "ax.set_ylabel('Number of Expense Reports', fontsize=14)\n",
    "\n",
    "# Show grid\n",
    "ax.grid(axis='y')  # Only horizontal grid lines for readability\n",
    "\n",
    "# Rotate the x-axis labels for better readability\n",
    "plt.xticks(rotation=45)\n",
    "plt.tight_layout()  # Adjust layout to not cut off labels\n",
    "\n",
    "# Adding numeric labels on top of the bars for clarity\n",
    "for p in ax.patches:\n",
    "    ax.annotate(f\"{int(p.get_height())}\", (p.get_x() + p.get_width() / 2., p.get_height()),\n",
    "                ha='center', va='bottom', xytext=(0, 10), textcoords='offset points')\n",
    "\n",
    "# Show the plot\n",
    "plt.show()"
   ]
  },
  {
   "cell_type": "markdown",
   "metadata": {},
   "source": [
    "#### Generate JSON Description for the Insight"
   ]
  },
  {
   "cell_type": "code",
   "execution_count": 8,
   "metadata": {
    "execution": {
     "iopub.execute_input": "2024-10-29T17:15:29.679900Z",
     "iopub.status.busy": "2024-10-29T17:15:29.679109Z",
     "iopub.status.idle": "2024-10-29T17:15:29.711651Z",
     "shell.execute_reply": "2024-10-29T17:15:29.706888Z"
    }
   },
   "outputs": [
    {
     "data": {
      "text/plain": [
       "{'data_type': 'descriptive',\n",
       " 'insight': 'There is no correlation between the number of expense reports submitted and rejection rates',\n",
       " 'insight_value': {'description': 'Despite having a lower volume of expense submissions, the IT department has the highest rejection rate, while departments with higher submission volumes like Customer Support exhibit lower rejection rates.'},\n",
       " 'plot': {'plot_type': 'bar',\n",
       "  'title': 'Distribution of Expense Reports by Department',\n",
       "  'x_axis': {'name': 'Department',\n",
       "   'value': ['Customer Support',\n",
       "    'Sales',\n",
       "    'IT',\n",
       "    'Finance',\n",
       "    'Development',\n",
       "    'HR',\n",
       "    'Product Management'],\n",
       "   'description': 'This axis categorizes expenses based on department affiliation.'},\n",
       "  'y_axis': {'name': 'Number of Expense Reports',\n",
       "   'value': {'Customer Support': '267',\n",
       "    'Sales': '122',\n",
       "    'IT': '43',\n",
       "    'Finance': '22',\n",
       "    'Development': '20',\n",
       "    'HR': '14',\n",
       "    'Product Management': '12'},\n",
       "   'description': 'This axis displays the number of expense reports submitted by each department, revealing that Customer Support submits the most, while IT, despite its high rejection rate, submits far fewer.'},\n",
       "  'description': 'The bar chart vividly illustrates the number of expense reports submitted by each department. The data highlight that the volume of submissions does not correlate with the proportion of rejections, as seen with the IT department, which submits fewer reports but faces a high rate of rejections.'},\n",
       " 'question': 'What is the distribution of Expense Reports by Department?',\n",
       " 'actionable_insight': \"This discrepancy in rejection rates despite lower submission volumes suggests underlying issues in IT’s expense reporting process or stricter scrutiny of their reports. It would be prudent to conduct a detailed review of the IT department's submissions to understand the reasons behind the high rejection rates. Efforts should be focused on aligning IT’s expense reporting practices with those departments exhibiting high compliance and low rejection rates, like Customer Support, to reduce unnecessary financial discrepancies and improve procedural compliance.\"}"
      ]
     },
     "execution_count": 8,
     "metadata": {},
     "output_type": "execute_result"
    }
   ],
   "source": [
    "{\n",
    "    \"data_type\": \"descriptive\",\n",
    "    \"insight\": \"There is no correlation between the number of expense reports submitted and rejection rates\",\n",
    "    \"insight_value\": {\n",
    "        \"description\": \"Despite having a lower volume of expense submissions, the IT department has the highest rejection rate, while departments with higher submission volumes like Customer Support exhibit lower rejection rates.\"\n",
    "    },\n",
    "    \"plot\": {\n",
    "        \"plot_type\": \"bar\",\n",
    "        \"title\": \"Distribution of Expense Reports by Department\",\n",
    "        \"x_axis\": {\n",
    "            \"name\": \"Department\",\n",
    "            \"value\": [\"Customer Support\", \"Sales\", \"IT\", \"Finance\", \"Development\", \"HR\", \"Product Management\"],\n",
    "            \"description\": \"This axis categorizes expenses based on department affiliation.\"\n",
    "        },\n",
    "        \"y_axis\": {\n",
    "            \"name\": \"Number of Expense Reports\",\n",
    "            \"value\": {\n",
    "                \"Customer Support\": \"267\",\n",
    "                \"Sales\": \"122\",\n",
    "                \"IT\": \"43\",\n",
    "                \"Finance\": \"22\",\n",
    "                \"Development\": \"20\",\n",
    "                \"HR\": \"14\",\n",
    "                \"Product Management\": \"12\"\n",
    "            },\n",
    "            \"description\": \"This axis displays the number of expense reports submitted by each department, revealing that Customer Support submits the most, while IT, despite its high rejection rate, submits far fewer.\"\n",
    "        },\n",
    "        \"description\": \"The bar chart vividly illustrates the number of expense reports submitted by each department. The data highlight that the volume of submissions does not correlate with the proportion of rejections, as seen with the IT department, which submits fewer reports but faces a high rate of rejections.\"\n",
    "    },\n",
    "    \"question\": \"What is the distribution of Expense Reports by Department?\",\n",
    "    \"actionable_insight\": \"This discrepancy in rejection rates despite lower submission volumes suggests underlying issues in IT’s expense reporting process or stricter scrutiny of their reports. It would be prudent to conduct a detailed review of the IT department's submissions to understand the reasons behind the high rejection rates. Efforts should be focused on aligning IT’s expense reporting practices with those departments exhibiting high compliance and low rejection rates, like Customer Support, to reduce unnecessary financial discrepancies and improve procedural compliance.\"\n",
    "}\n"
   ]
  },
  {
   "cell_type": "markdown",
   "metadata": {},
   "source": [
    "### **Question 3: How do expense amounts vary across different departments, and what is the distribution of these expenses?**\n"
   ]
  },
  {
   "cell_type": "markdown",
   "metadata": {},
   "source": [
    "#### Plot expense amount across different departments\n",
    "This analysis focuses on understanding how expense amounts are distributed across various departments. By examining the distribution of expenses within each department, we can identify departments with higher spending variability and those with consistent expense patterns. This insight can help in budgeting and financial planning by highlighting areas where expenses are more unpredictable or particularly high."
   ]
  },
  {
   "cell_type": "code",
   "execution_count": 9,
   "metadata": {
    "execution": {
     "iopub.execute_input": "2024-10-29T17:15:29.727704Z",
     "iopub.status.busy": "2024-10-29T17:15:29.726194Z",
     "iopub.status.idle": "2024-10-29T17:15:30.202261Z",
     "shell.execute_reply": "2024-10-29T17:15:30.200160Z"
    }
   },
   "outputs": [
    {
     "data": {
      "image/png": "[encoded data removed]",
      "text/plain": [
       "<Figure size 1008x576 with 1 Axes>"
      ]
     },
     "metadata": {
      "needs_background": "light"
     },
     "output_type": "display_data"
    }
   ],
   "source": [
    "import matplotlib.pyplot as plt\n",
    "import seaborn as sns\n",
    "import pandas as pd\n",
    "\n",
    "# Load the dataset\n",
    "flag_data = pd.read_csv(\"csvs/flag-66.csv\")\n",
    "\n",
    "# Drop rows with missing department or amount values\n",
    "flag_data_cleaned = flag_data.dropna(subset=[\"department\", \"amount\"])\n",
    "\n",
    "# Convert the amount column to numeric if it's not already\n",
    "flag_data_cleaned[\"amount\"] = pd.to_numeric(\n",
    "    flag_data_cleaned[\"amount\"], errors=\"coerce\"\n",
    ")\n",
    "\n",
    "# Drop rows where amount conversion failed (if any)\n",
    "flag_data_cleaned = flag_data_cleaned.dropna(subset=[\"amount\"])\n",
    "\n",
    "# Group the data by department and calculate the total and mean amounts\n",
    "department_expenses = (\n",
    "    flag_data_cleaned.groupby(\"department\")[\"amount\"]\n",
    "    .agg([\"sum\", \"mean\", \"count\"])\n",
    "    .reset_index()\n",
    ")\n",
    "\n",
    "# Sort by total amount for better visualization\n",
    "department_expenses_sorted = department_expenses.sort_values(by=\"sum\", ascending=False)\n",
    "\n",
    "# Plot the distribution of expense amounts for each department\n",
    "plt.figure(figsize=(14, 8))\n",
    "sns.boxplot(\n",
    "    x=\"department\",\n",
    "    y=\"amount\",\n",
    "    data=flag_data_cleaned,\n",
    "    order=department_expenses_sorted[\"department\"],\n",
    ")\n",
    "plt.xticks(rotation=45, ha=\"right\")\n",
    "plt.title(\"Distribution of Expense Amounts Across Departments\")\n",
    "plt.xlabel(\"Department\")\n",
    "plt.ylabel(\"Expense Amount\")\n",
    "plt.grid(True, axis=\"y\")\n",
    "\n",
    "plt.show()"
   ]
  },
  {
   "cell_type": "markdown",
   "metadata": {},
   "source": [
    "#### Generate JSON Description for the Insight"
   ]
  },
  {
   "cell_type": "code",
   "execution_count": 10,
   "metadata": {
    "execution": {
     "iopub.execute_input": "2024-10-29T17:15:30.215960Z",
     "iopub.status.busy": "2024-10-29T17:15:30.215267Z",
     "iopub.status.idle": "2024-10-29T17:15:30.237061Z",
     "shell.execute_reply": "2024-10-29T17:15:30.235401Z"
    }
   },
   "outputs": [
    {
     "data": {
      "text/plain": [
       "{'data_type': 'comparative',\n",
       " 'insight': 'The Customer Support and Sales departments have the highest total expenses, with Customer Support leading significantly in total spending and count of expense instances.',\n",
       " 'insight_value': {'description': 'Customer Support exhibits the highest overall expenses, suggesting a high volume of spending likely due to operational demands or asset provisioning, as evidenced by the sum of expenses. Sales also shows substantial total expenditure, though with fewer instances compared to Customer Support, indicating potentially larger one-time purchases or higher per-instance costs.'},\n",
       " 'plot': {'plot_type': 'boxplot',\n",
       "  'title': 'Distribution of Expense Amounts Across Departments',\n",
       "  'x_axis': {'name': 'Department',\n",
       "   'value': 'Various departments within the organization',\n",
       "   'description': 'This axis represents different departments, showcasing the variability in their expense distributions.'},\n",
       "  'y_axis': {'name': 'Expense Amount',\n",
       "   'value': 'Range of expenses in monetary units',\n",
       "   'description': 'This axis displays the monetary values associated with expenses, highlighting both the spread and central tendency for each department.'},\n",
       "  'description': 'The boxplot highlights significant variability in expense distributions, with Customer Support not only having the highest number of expense records but also a broad range of expenses. Product Management shows the highest average expense amount, while HR has the lowest overall expenses and narrower spending distribution.'},\n",
       " 'question': 'How do expense amounts vary across different departments, and what is the distribution of these expenses?',\n",
       " 'actionable_insight': 'Given the high spending volume in Customer Support, it would be beneficial to evaluate operational spending needs closely for potential optimizations. Additionally, monitoring the large average expenses in Product Management could help identify opportunities for cost-saving in high-value procurements. A review of spending patterns in these departments could reveal ways to enhance budgeting efficiency and control expense variability.'}"
      ]
     },
     "execution_count": 10,
     "metadata": {},
     "output_type": "execute_result"
    }
   ],
   "source": [
    "{\n",
    "    \"data_type\": \"comparative\",\n",
    "    \"insight\": \"The Customer Support and Sales departments have the highest total expenses, with Customer Support leading significantly in total spending and count of expense instances.\",\n",
    "    \"insight_value\": {\n",
    "        \"description\": \"Customer Support exhibits the highest overall expenses, suggesting a high volume of spending likely due to operational demands or asset provisioning, as evidenced by the sum of expenses. Sales also shows substantial total expenditure, though with fewer instances compared to Customer Support, indicating potentially larger one-time purchases or higher per-instance costs.\"\n",
    "    },\n",
    "    \"plot\": {\n",
    "        \"plot_type\": \"boxplot\",\n",
    "        \"title\": \"Distribution of Expense Amounts Across Departments\",\n",
    "        \"x_axis\": {\n",
    "            \"name\": \"Department\",\n",
    "            \"value\": \"Various departments within the organization\",\n",
    "            \"description\": \"This axis represents different departments, showcasing the variability in their expense distributions.\",\n",
    "        },\n",
    "        \"y_axis\": {\n",
    "            \"name\": \"Expense Amount\",\n",
    "            \"value\": \"Range of expenses in monetary units\",\n",
    "            \"description\": \"This axis displays the monetary values associated with expenses, highlighting both the spread and central tendency for each department.\",\n",
    "        },\n",
    "        \"description\": \"The boxplot highlights significant variability in expense distributions, with Customer Support not only having the highest number of expense records but also a broad range of expenses. Product Management shows the highest average expense amount, while HR has the lowest overall expenses and narrower spending distribution.\",\n",
    "    },\n",
    "    \"question\": \"How do expense amounts vary across different departments, and what is the distribution of these expenses?\",\n",
    "    \"actionable_insight\": \"Given the high spending volume in Customer Support, it would be beneficial to evaluate operational spending needs closely for potential optimizations. Additionally, monitoring the large average expenses in Product Management could help identify opportunities for cost-saving in high-value procurements. A review of spending patterns in these departments could reveal ways to enhance budgeting efficiency and control expense variability.\",\n",
    "}"
   ]
  },
  {
   "cell_type": "markdown",
   "metadata": {},
   "source": [
    "### **Question 4: How to prevent or avoid future declinations in this scenario?**\n"
   ]
  },
  {
   "cell_type": "markdown",
   "metadata": {},
   "source": [
    "\"Immediate Training\": \"Organize targeted training sessions for all IT department employees, with a special focus on those who have had high rejection rates. These sessions should cover best practices for expense report submissions, including detailed explanations of allowable expenses and required documentation.\"\n",
    "\n",
    "\"Enhanced Review Process\": \"Implement a pre-submission review process where expense reports, particularly those from individuals with past declinations, are preliminarily reviewed by a finance team member or a designated mentor within the IT department before official submission.\"\n",
    "\n",
    "\"Policy Updates and Communication\": \"Regularly update and communicate any changes in expense policies to all employees. Ensure that these updates are clearly understood by conducting interactive Q&A sessions and providing accessible reference materials.\""
   ]
  },
  {
   "cell_type": "markdown",
   "metadata": {},
   "source": [
    "### Summary of Findings (Flag 66):\n",
    "\n",
    "1. **Processing Delays**: From Question 1, it was found that departments like Product Management and HR experience significant processing delays, particularly in categories such as Services and Travel. This suggests potential workflow bottlenecks that could be addressed to improve efficiency.\n",
    "\n",
    "2. **Expense Report Distribution**: Question 2 revealed that there is no direct correlation between the number of expense reports submitted and their rejection rates. Notably, the IT department, despite submitting fewer reports, has a higher rejection rate, indicating possible issues in their reporting process.\n",
    "\n",
    "3. **Expense Amount Variability**: According to Question 3, Customer Support and Sales departments have the highest total expenses, with Customer Support leading in both spending and the number of expense instances. This highlights the need for closer evaluation of operational spending to identify potential cost-saving opportunities."
   ]
  }
 ],
 "metadata": {
  "kernelspec": {
   "display_name": "Python 3",
   "language": "python",
   "name": "python3"
  },
  "language_info": {
   "codemirror_mode": {
    "name": "ipython",
    "version": 3
   },
   "file_extension": ".py",
   "mimetype": "text/x-python",
   "name": "python",
   "nbconvert_exporter": "python",
   "pygments_lexer": "ipython3",
   "version": "3.8.5"
  }
 },
 "nbformat": 4,
 "nbformat_minor": 2
}

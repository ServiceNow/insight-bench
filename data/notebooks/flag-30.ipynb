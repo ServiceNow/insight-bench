{
 "cells": [
  {
   "cell_type": "markdown",
   "metadata": {},
   "source": [
    "## Goal Management Analysis in Cost Reduction (Flag 30)\n",
    "\n",
    "### Dataset Description\n",
    "The dataset consists of 500 entries simulating ServiceNow `sn_gf_goal` table, which details various attributes related to organizational goals. These attributes include goal state, owner, department, start and end dates, and description, alongside metrics such as priority, percent complete, and target percentage. This data primarily tracks the progression and management of departmental and individual goals, offering insights into the effectiveness and alignment of these goals with broader organizational objectives. Additionally, the table captures updates made to each goal, providing a timeline of modifications and the identity of individuals making these updates.\n",
    "\n",
    "\n",
    "### Your Task\n",
    "**Goal**: Investigate the factors that contribute to the swift completion of goals in the Finance department compared to others, assess the impact on overall departmental performance.\n",
    "\n",
    "**Role**: Performance Analyst in Enterprise Goal Management\n",
    "\n",
    "**Difficulty**: 3 out of 5. The intricate data patterns and need for nuanced analysis make this a challenging task, requiring advanced analytical skills to interpret the data effectively and derive actionable insights.\n",
    "\n",
    "**Category**: Goal Management"
   ]
  },
  {
   "cell_type": "markdown",
   "metadata": {},
   "source": [
    "### Import Necessary Libraries\n",
    "This cell imports all necessary libraries required for the analysis. This includes libraries for data manipulation, data visualization, and any specific utilities needed for the tasks. "
   ]
  },
  {
   "cell_type": "code",
   "execution_count": 1,
   "metadata": {
    "execution": {
     "iopub.execute_input": "2024-10-25T19:58:31.788512Z",
     "iopub.status.busy": "2024-10-25T19:58:31.787619Z",
     "iopub.status.idle": "2024-10-25T19:58:34.907901Z",
     "shell.execute_reply": "2024-10-25T19:58:34.904626Z"
    }
   },
   "outputs": [],
   "source": [
    "import argparse\n",
    "import pandas as pd\n",
    "import json\n",
    "import requests\n",
    "import matplotlib.pyplot as plt\n",
    "import numpy as np\n",
    "import seaborn as sns\n",
    "from pandas import date_range"
   ]
  },
  {
   "cell_type": "markdown",
   "metadata": {},
   "source": [
    "## Load Dataset\n",
    "This cell loads the goals dataset used in the analysis. The dataset is assumed to be stored in a CSV file and is loaded into a DataFrame. This step includes reading the data from a file path and possibly performing initial observations such as viewing the first few rows to ensure it has loaded correctly.\n"
   ]
  },
  {
   "cell_type": "code",
   "execution_count": 2,
   "metadata": {
    "execution": {
     "iopub.execute_input": "2024-10-25T19:58:34.921409Z",
     "iopub.status.busy": "2024-10-25T19:58:34.920459Z",
     "iopub.status.idle": "2024-10-25T19:58:35.000860Z",
     "shell.execute_reply": "2024-10-25T19:58:34.998596Z"
    }
   },
   "outputs": [
    {
     "data": {
      "text/html": [
       "<div>\n",
       "<style scoped>\n",
       "    .dataframe tbody tr th:only-of-type {\n",
       "        vertical-align: middle;\n",
       "    }\n",
       "\n",
       "    .dataframe tbody tr th {\n",
       "        vertical-align: top;\n",
       "    }\n",
       "\n",
       "    .dataframe thead th {\n",
       "        text-align: right;\n",
       "    }\n",
       "</style>\n",
       "<table border=\"1\" class=\"dataframe\">\n",
       "  <thead>\n",
       "    <tr style=\"text-align: right;\">\n",
       "      <th></th>\n",
       "      <th>start_date</th>\n",
       "      <th>priority</th>\n",
       "      <th>metric</th>\n",
       "      <th>target_percentage</th>\n",
       "      <th>department</th>\n",
       "      <th>percent_complete</th>\n",
       "      <th>end_date</th>\n",
       "      <th>state</th>\n",
       "      <th>category</th>\n",
       "      <th>owner</th>\n",
       "      <th>sys_updated_by</th>\n",
       "      <th>sys_id</th>\n",
       "      <th>description</th>\n",
       "    </tr>\n",
       "  </thead>\n",
       "  <tbody>\n",
       "    <tr>\n",
       "      <th>0</th>\n",
       "      <td>2022-03-09</td>\n",
       "      <td>Medium</td>\n",
       "      <td>Employee Turnover Rate</td>\n",
       "      <td>58</td>\n",
       "      <td>Finance</td>\n",
       "      <td>7</td>\n",
       "      <td>2022-04-25</td>\n",
       "      <td>In Progress</td>\n",
       "      <td>Cost Reduction</td>\n",
       "      <td>Logan Muhl</td>\n",
       "      <td>admin</td>\n",
       "      <td>G000000</td>\n",
       "      <td>Reduce operational expenses by optimizing ener...</td>\n",
       "    </tr>\n",
       "    <tr>\n",
       "      <th>1</th>\n",
       "      <td>2022-04-23</td>\n",
       "      <td>High</td>\n",
       "      <td>Sales Increase</td>\n",
       "      <td>57</td>\n",
       "      <td>Finance</td>\n",
       "      <td>87</td>\n",
       "      <td>2022-11-23</td>\n",
       "      <td>Completed</td>\n",
       "      <td>Revenue Growth</td>\n",
       "      <td>Gisela Kosicki</td>\n",
       "      <td>admin</td>\n",
       "      <td>G000001</td>\n",
       "      <td>Increase annual subscription sales by 20% by e...</td>\n",
       "    </tr>\n",
       "    <tr>\n",
       "      <th>2</th>\n",
       "      <td>2022-12-16</td>\n",
       "      <td>Medium</td>\n",
       "      <td>Survey Score</td>\n",
       "      <td>66</td>\n",
       "      <td>HR</td>\n",
       "      <td>60</td>\n",
       "      <td>2023-10-20</td>\n",
       "      <td>In Progress</td>\n",
       "      <td>Efficiency</td>\n",
       "      <td>Ramon Amaral</td>\n",
       "      <td>admin</td>\n",
       "      <td>G000002</td>\n",
       "      <td>Optimize IT support workflows to reduce ticket...</td>\n",
       "    </tr>\n",
       "    <tr>\n",
       "      <th>3</th>\n",
       "      <td>2022-10-08</td>\n",
       "      <td>High</td>\n",
       "      <td>Employee Turnover Rate</td>\n",
       "      <td>87</td>\n",
       "      <td>Marketing</td>\n",
       "      <td>89</td>\n",
       "      <td>2023-06-02</td>\n",
       "      <td>Completed</td>\n",
       "      <td>Customer Satisfaction</td>\n",
       "      <td>Jacinto Gawron</td>\n",
       "      <td>admin</td>\n",
       "      <td>G000003</td>\n",
       "      <td>Increase the customer satisfaction score from ...</td>\n",
       "    </tr>\n",
       "    <tr>\n",
       "      <th>4</th>\n",
       "      <td>2022-10-26</td>\n",
       "      <td>High</td>\n",
       "      <td>Expense Ratio</td>\n",
       "      <td>93</td>\n",
       "      <td>HR</td>\n",
       "      <td>12</td>\n",
       "      <td>2023-09-13</td>\n",
       "      <td>In Progress</td>\n",
       "      <td>Efficiency</td>\n",
       "      <td>Renae Eldrige</td>\n",
       "      <td>admin</td>\n",
       "      <td>G000004</td>\n",
       "      <td>Enhance software deployment process to reduce ...</td>\n",
       "    </tr>\n",
       "  </tbody>\n",
       "</table>\n",
       "</div>"
      ],
      "text/plain": [
       "   start_date priority                  metric  target_percentage department  \\\n",
       "0  2022-03-09   Medium  Employee Turnover Rate                 58    Finance   \n",
       "1  2022-04-23     High          Sales Increase                 57    Finance   \n",
       "2  2022-12-16   Medium            Survey Score                 66         HR   \n",
       "3  2022-10-08     High  Employee Turnover Rate                 87  Marketing   \n",
       "4  2022-10-26     High           Expense Ratio                 93         HR   \n",
       "\n",
       "   percent_complete    end_date        state               category  \\\n",
       "0                 7  2022-04-25  In Progress         Cost Reduction   \n",
       "1                87  2022-11-23    Completed         Revenue Growth   \n",
       "2                60  2023-10-20  In Progress             Efficiency   \n",
       "3                89  2023-06-02    Completed  Customer Satisfaction   \n",
       "4                12  2023-09-13  In Progress             Efficiency   \n",
       "\n",
       "            owner sys_updated_by   sys_id  \\\n",
       "0      Logan Muhl          admin  G000000   \n",
       "1  Gisela Kosicki          admin  G000001   \n",
       "2    Ramon Amaral          admin  G000002   \n",
       "3  Jacinto Gawron          admin  G000003   \n",
       "4   Renae Eldrige          admin  G000004   \n",
       "\n",
       "                                         description  \n",
       "0  Reduce operational expenses by optimizing ener...  \n",
       "1  Increase annual subscription sales by 20% by e...  \n",
       "2  Optimize IT support workflows to reduce ticket...  \n",
       "3  Increase the customer satisfaction score from ...  \n",
       "4  Enhance software deployment process to reduce ...  "
      ]
     },
     "execution_count": 2,
     "metadata": {},
     "output_type": "execute_result"
    }
   ],
   "source": [
    "dataset_path = \"csvs/flag-30.csv\"\n",
    "goal_data = pd.read_csv(dataset_path)\n",
    "df = pd.read_csv(dataset_path)\n",
    "goal_data.head()\n"
   ]
  },
  {
   "cell_type": "markdown",
   "metadata": {},
   "source": [
    "\n",
    "### **Question 1: How do the distribution of durations of goals compare across departments?**"
   ]
  },
  {
   "cell_type": "markdown",
   "metadata": {},
   "source": [
    "#### Plot comparison of goal durations across departments\n",
    "\n",
    "This cell plots a comprehensive look at how the durations of goals differ across various departments within the organization. Using a box plot, we compare the spread and central tendency of goal durations, marked by the median and mean durations for each department. This analysis is for identifying departments that may require process adjustments to align more closely with organizational goal completion times. Each department's performance is annotated directly on the plot, displaying both median and mean durations, which helps in quickly assessing and comparing departmental efficiency in achieving goals."
   ]
  },
  {
   "cell_type": "code",
   "execution_count": 3,
   "metadata": {
    "execution": {
     "iopub.execute_input": "2024-10-25T19:58:35.015434Z",
     "iopub.status.busy": "2024-10-25T19:58:35.014853Z",
     "iopub.status.idle": "2024-10-25T19:58:35.851013Z",
     "shell.execute_reply": "2024-10-25T19:58:35.848762Z"
    }
   },
   "outputs": [
    {
     "name": "stderr",
     "output_type": "stream",
     "text": [
      "<ipython-input-3-25b344d57b78>:14: FutureWarning: \n",
      "\n",
      "Passing `palette` without assigning `hue` is deprecated and will be removed in v0.14.0. Assign the `x` variable to `hue` and set `legend=False` for the same effect.\n",
      "\n",
      "  box_plot = sns.boxplot(x='department', y='duration', data=goal_data, palette=\"Set3\")\n"
     ]
    },
    {
     "data": {
      "image/png": "[encoded data removed]",
      "text/plain": [
       "<Figure size 864x576 with 1 Axes>"
      ]
     },
     "metadata": {
      "needs_background": "light"
     },
     "output_type": "display_data"
    }
   ],
   "source": [
    "import matplotlib.pyplot as plt\n",
    "import seaborn as sns\n",
    "import pandas as pd\n",
    "import numpy as np\n",
    "\n",
    "# Assuming 'goal_data' is preloaded and contains 'Cost Reduction' category\n",
    "goal_data['end_date'] = pd.to_datetime(goal_data['end_date'])\n",
    "goal_data[\"start_date\"] = pd.to_datetime(goal_data[\"start_date\"])\n",
    "# Calculate goal durations\n",
    "goal_data['duration'] = (goal_data['end_date'] - goal_data['start_date']).dt.days\n",
    "\n",
    "# Plotting\n",
    "plt.figure(figsize=(12, 8))\n",
    "box_plot = sns.boxplot(x='department', y='duration', data=goal_data, palette=\"Set3\")\n",
    "plt.title('Comparison of Goal Durations by Department')\n",
    "plt.xlabel('Department')\n",
    "plt.ylabel('Goal Duration (days)')\n",
    "plt.grid(True)\n",
    "\n",
    "# Calculate median and mean for annotations\n",
    "medians = goal_data.groupby(['department'])['duration'].median()\n",
    "means = goal_data.groupby(['department'])['duration'].mean()\n",
    "\n",
    "# Iterate over the departments to place the text annotations for median and mean\n",
    "for xtick in box_plot.get_xticks():\n",
    "    box_plot.text(xtick, medians[xtick] + 1, 'Median: {:.1f}'.format(medians[xtick]), \n",
    "                  horizontalalignment='center', size='x-small', color='black', weight='semibold')\n",
    "    box_plot.text(xtick, means[xtick] + 1, 'Mean: {:.1f}'.format(means[xtick]), \n",
    "                  horizontalalignment='center', size='x-small', color='red', weight='semibold')\n",
    "\n",
    "plt.show()\n"
   ]
  },
  {
   "cell_type": "markdown",
   "metadata": {},
   "source": [
    "#### Generate JSON Description for the Insight"
   ]
  },
  {
   "cell_type": "code",
   "execution_count": 4,
   "metadata": {
    "execution": {
     "iopub.execute_input": "2024-10-25T19:58:35.864286Z",
     "iopub.status.busy": "2024-10-25T19:58:35.863738Z",
     "iopub.status.idle": "2024-10-25T19:58:35.890160Z",
     "shell.execute_reply": "2024-10-25T19:58:35.887555Z"
    }
   },
   "outputs": [
    {
     "data": {
      "text/plain": [
       "{'data_type': 'analytical',\n",
       " 'insight': 'There are significantly shorter goal durations in the finance department compared to HR, Marketing, and IT',\n",
       " 'insight_value': {'Finance': '57.0 days',\n",
       "  'HR': '165.2 days',\n",
       "  'Marketing': '154.4 days',\n",
       "  'IT': '149.5 days',\n",
       "  'Key Finding': \"Finance department's goal duration is notably lower than other departments, suggesting more efficient goal completion processes or simpler goal structures.\"},\n",
       " 'plot': {'plot_type': 'box',\n",
       "  'title': 'Goal Durations by Department',\n",
       "  'x_axis': {'name': 'Department',\n",
       "   'value': 'Finance, HR, Marketing, IT',\n",
       "   'description': 'This categorizes goals by the departments responsible for their completion.'},\n",
       "  'y_axis': {'name': 'Goal Duration (days)',\n",
       "   'value': 'Finance: 57.0, HR: 165.2, Marketing: 154.4, IT: 149.5',\n",
       "   'description': 'This represents the median duration of goals in days, measured from start to end, across different departments.'},\n",
       "  'description': 'The boxplot demonstrates that the median duration for completing goals in the Finance department is significantly lower at 57.0 days, compared to HR at 165.2 days, Marketing at 154.4 days, and IT at 149.5 days. This substantial difference underscores a potential efficiency in goal management within Finance, or possibly less complex goals, which requires further investigation to understand underlying factors.'},\n",
       " 'question': \"How do the durations of 'Cost Reduction' goals in the Finance department compare to those in other departments?\",\n",
       " 'actionable_insight': 'Given the significantly shorter duration of goals in the Finance department, it is recommended to conduct a detailed analysis to understand the factors contributing to this efficiency. Identifying these factors could provide insights that may be applied to improve goal management processes in other departments.'}"
      ]
     },
     "execution_count": 4,
     "metadata": {},
     "output_type": "execute_result"
    }
   ],
   "source": [
    "{\n",
    "    \"data_type\": \"analytical\",\n",
    "    \"insight\": \"There are significantly shorter goal durations in the finance department compared to HR, Marketing, and IT\",\n",
    "    \"insight_value\": {\n",
    "        \"Finance\": \"57.0 days\",\n",
    "        \"HR\": \"165.2 days\",\n",
    "        \"Marketing\": \"154.4 days\",\n",
    "        \"IT\": \"149.5 days\",\n",
    "        \"Key Finding\": \"Finance department's goal duration is notably lower than other departments, suggesting more efficient goal completion processes or simpler goal structures.\"\n",
    "    },\n",
    "    \"plot\": {\n",
    "        \"plot_type\": \"box\",\n",
    "        \"title\": \"Goal Durations by Department\",\n",
    "        \"x_axis\": {\n",
    "            \"name\": \"Department\",\n",
    "            \"value\": \"Finance, HR, Marketing, IT\",\n",
    "            \"description\": \"This categorizes goals by the departments responsible for their completion.\"\n",
    "        },\n",
    "        \"y_axis\": {\n",
    "            \"name\": \"Goal Duration (days)\",\n",
    "            \"value\": \"Finance: 57.0, HR: 165.2, Marketing: 154.4, IT: 149.5\",\n",
    "            \"description\": \"This represents the median duration of goals in days, measured from start to end, across different departments.\"\n",
    "        },\n",
    "        \"description\": \"The boxplot demonstrates that the median duration for completing goals in the Finance department is significantly lower at 57.0 days, compared to HR at 165.2 days, Marketing at 154.4 days, and IT at 149.5 days. This substantial difference underscores a potential efficiency in goal management within Finance, or possibly less complex goals, which requires further investigation to understand underlying factors.\"\n",
    "    },\n",
    "    \"question\": \"How do the durations of 'Cost Reduction' goals in the Finance department compare to those in other departments?\",\n",
    "    \"actionable_insight\": \"Given the significantly shorter duration of goals in the Finance department, it is recommended to conduct a detailed analysis to understand the factors contributing to this efficiency. Identifying these factors could provide insights that may be applied to improve goal management processes in other departments.\"\n",
    "}\n"
   ]
  },
  {
   "cell_type": "markdown",
   "metadata": {},
   "source": [
    "### **Question 2:** What is distribution of Goal types in Finance department?"
   ]
  },
  {
   "cell_type": "markdown",
   "metadata": {},
   "source": [
    "#### Plot goal category distribution within the Finance department\n",
    "\n",
    "This pie chart illustrates the proportional distribution of different goal categories within the Finance department, highlighting the dominant categories and their respective shares. This visualization is crucial for understanding the strategic focus areas within the department, based on the types of goals they prioritize."
   ]
  },
  {
   "cell_type": "code",
   "execution_count": 5,
   "metadata": {
    "execution": {
     "iopub.execute_input": "2024-10-25T19:58:35.903255Z",
     "iopub.status.busy": "2024-10-25T19:58:35.902645Z",
     "iopub.status.idle": "2024-10-25T19:58:36.189951Z",
     "shell.execute_reply": "2024-10-25T19:58:36.187590Z"
    }
   },
   "outputs": [
    {
     "data": {
      "image/png": "[encoded data removed]",
      "text/plain": [
       "<Figure size 720x504 with 1 Axes>"
      ]
     },
     "metadata": {},
     "output_type": "display_data"
    }
   ],
   "source": [
    "import matplotlib.pyplot as plt\n",
    "\n",
    "# Filter data for the Finance department\n",
    "finance_goals = goal_data[goal_data['department'] == 'Finance']\n",
    "\n",
    "# Count the occurrence of each category in the Finance department\n",
    "category_counts = finance_goals['category'].value_counts()\n",
    "\n",
    "# Create a pie chart\n",
    "plt.figure(figsize=(10, 7))\n",
    "plt.pie(category_counts, labels=category_counts.index, autopct='%1.1f%%', startangle=140)\n",
    "plt.title('Distribution of Goal Categories in Finance Department')\n",
    "plt.show()\n"
   ]
  },
  {
   "cell_type": "markdown",
   "metadata": {},
   "source": [
    "#### Generate JSON Description for the Insight"
   ]
  },
  {
   "cell_type": "code",
   "execution_count": 6,
   "metadata": {
    "execution": {
     "iopub.execute_input": "2024-10-25T19:58:36.203236Z",
     "iopub.status.busy": "2024-10-25T19:58:36.202648Z",
     "iopub.status.idle": "2024-10-25T19:58:36.225582Z",
     "shell.execute_reply": "2024-10-25T19:58:36.223543Z"
    }
   },
   "outputs": [
    {
     "data": {
      "text/plain": [
       "{'data_type': 'diagnostic',\n",
       " 'insight': \"There is a dominance of 'Cost Reduction' goals within the Finance department\",\n",
       " 'insight_value': {'Cost Reduction': '50.7%',\n",
       "  'Revenue Growth': '14.1%',\n",
       "  'Efficiency': '11.3%',\n",
       "  'Employee Satisfaction': '11.7%',\n",
       "  'Customer Satisfaction': '12.2%'},\n",
       " 'plot': {'plot_type': 'pie',\n",
       "  'title': 'Distribution of Goal Categories in the Finance Department',\n",
       "  'x_axis': {'name': 'None',\n",
       "   'value': 'None',\n",
       "   'description': 'Pie charts do not use x-axis representations.'},\n",
       "  'y_axis': {'name': 'None',\n",
       "   'value': 'None',\n",
       "   'description': 'Pie charts do not use y-axis representations.'},\n",
       "  'description': \"The pie chart highlights the distribution of goals by category within the Finance department. It shows a significant majority of 50.7% for 'Cost Reduction', followed by 14.1% for 'Revenue Growth', 12.2% for 'Customer Satisfaction', 11.7% for 'Employee Satisfaction', and 11.3% for 'Efficiency'. The predominant share of 'Cost Reduction' goals necessitates further analysis to understand its correlation with the notably shorter goal durations observed in this department.\"},\n",
       " 'question': 'What is the distribution of Goal types and categories in the Finance department?',\n",
       " 'actionable_insight': \"Given the high proportion of 'Cost Reduction' goals, it is imperative to delve deeper into understanding how this focus impacts overall goal durations and departmental efficiencies. Analyzing the relationship between the goal category and duration could uncover strategies that significantly enhance productivity and goal achievement rates. This could lead to strategic adjustments that balance goal types more effectively and potentially replicate successful practices across other departments.\"}"
      ]
     },
     "execution_count": 6,
     "metadata": {},
     "output_type": "execute_result"
    }
   ],
   "source": [
    "{\n",
    "    \"data_type\": \"diagnostic\",\n",
    "    \"insight\": \"There is a dominance of 'Cost Reduction' goals within the Finance department\",\n",
    "    \"insight_value\": {\n",
    "        \"Cost Reduction\": \"50.7%\",\n",
    "        \"Revenue Growth\": \"14.1%\",\n",
    "        \"Efficiency\": \"11.3%\",\n",
    "        \"Employee Satisfaction\": \"11.7%\",\n",
    "        \"Customer Satisfaction\": \"12.2%\"\n",
    "    },\n",
    "    \"plot\": {\n",
    "        \"plot_type\": \"pie\",\n",
    "        \"title\": \"Distribution of Goal Categories in the Finance Department\",\n",
    "        \"x_axis\": {\n",
    "            \"name\": \"None\",\n",
    "            \"value\": \"None\",\n",
    "            \"description\": \"Pie charts do not use x-axis representations.\"\n",
    "        },\n",
    "        \"y_axis\": {\n",
    "            \"name\": \"None\",\n",
    "            \"value\": \"None\",\n",
    "            \"description\": \"Pie charts do not use y-axis representations.\"\n",
    "        },\n",
    "        \"description\": \"The pie chart highlights the distribution of goals by category within the Finance department. It shows a significant majority of 50.7% for 'Cost Reduction', followed by 14.1% for 'Revenue Growth', 12.2% for 'Customer Satisfaction', 11.7% for 'Employee Satisfaction', and 11.3% for 'Efficiency'. The predominant share of 'Cost Reduction' goals necessitates further analysis to understand its correlation with the notably shorter goal durations observed in this department.\"\n",
    "    },\n",
    "    \"question\": \"What is the distribution of Goal types and categories in the Finance department?\",\n",
    "    \"actionable_insight\": \"Given the high proportion of 'Cost Reduction' goals, it is imperative to delve deeper into understanding how this focus impacts overall goal durations and departmental efficiencies. Analyzing the relationship between the goal category and duration could uncover strategies that significantly enhance productivity and goal achievement rates. This could lead to strategic adjustments that balance goal types more effectively and potentially replicate successful practices across other departments.\"\n",
    "}\n"
   ]
  },
  {
   "cell_type": "markdown",
   "metadata": {},
   "source": [
    "### **Question 3:** What is distribution of Goal priorities in Finance department?"
   ]
  },
  {
   "cell_type": "markdown",
   "metadata": {},
   "source": [
    "#### Plot priority distribution within the Finance department\n",
    "\n",
    "This pie chart provides a clear visual representation of the distribution of goal priorities within the Finance department, emphasizing the prevalence of each priority level and aiding in the assessment of focus and urgency applied to different objectives."
   ]
  },
  {
   "cell_type": "code",
   "execution_count": 7,
   "metadata": {
    "execution": {
     "iopub.execute_input": "2024-10-25T19:58:36.242310Z",
     "iopub.status.busy": "2024-10-25T19:58:36.241774Z",
     "iopub.status.idle": "2024-10-25T19:58:36.469830Z",
     "shell.execute_reply": "2024-10-25T19:58:36.467530Z"
    }
   },
   "outputs": [
    {
     "data": {
      "image/png": "[encoded data removed]",
      "text/plain": [
       "<Figure size 720x504 with 1 Axes>"
      ]
     },
     "metadata": {},
     "output_type": "display_data"
    }
   ],
   "source": [
    "import matplotlib.pyplot as plt\n",
    "\n",
    "# Filter data for the Finance department\n",
    "finance_goals = goal_data[goal_data['department'] == 'Finance']\n",
    "\n",
    "# Count the occurrence of each category in the Finance department\n",
    "category_counts = finance_goals['priority'].value_counts()\n",
    "\n",
    "# Create a pie chart\n",
    "plt.figure(figsize=(10, 7))\n",
    "plt.pie(category_counts, labels=category_counts.index, autopct='%1.1f%%', startangle=140)\n",
    "plt.title('Distribution of Goal priorities in Finance Department')\n",
    "plt.show()\n"
   ]
  },
  {
   "cell_type": "markdown",
   "metadata": {},
   "source": [
    "#### Generate JSON Description for the Insight"
   ]
  },
  {
   "cell_type": "code",
   "execution_count": 8,
   "metadata": {
    "execution": {
     "iopub.execute_input": "2024-10-25T19:58:36.483529Z",
     "iopub.status.busy": "2024-10-25T19:58:36.482939Z",
     "iopub.status.idle": "2024-10-25T19:58:36.506437Z",
     "shell.execute_reply": "2024-10-25T19:58:36.503856Z"
    }
   },
   "outputs": [
    {
     "data": {
      "text/plain": [
       "{'data_type': 'diagnostic',\n",
       " 'insight': 'There is a uniform distribution of goal priorities in the Finance department',\n",
       " 'insight_value': {'Critical': '23.9%',\n",
       "  'High': '24.4%',\n",
       "  'Medium': '24.4%',\n",
       "  'Low': '27.2%'},\n",
       " 'plot': {'plot_type': 'bar',\n",
       "  'title': 'Distribution of Goal Priorities in the Finance Department',\n",
       "  'x_axis': {'name': 'Priority Level',\n",
       "   'value': 'Critical, High, Medium, Low',\n",
       "   'description': 'This represents the different priority levels assigned to goals within the Finance department.'},\n",
       "  'y_axis': {'name': 'Percentage of Goals',\n",
       "   'value': 'mean is 25% across all priorities',\n",
       "   'description': 'This shows the percentage of goals classified under each priority level, indicating an even distribution across priorities.'},\n",
       "  'description': 'The bar graph illustrates a uniform distribution of goal priorities within the Finance department, with each priority level—Critical, High, Medium, and Low—comprising 25% of goals. This even distribution suggests that the variation in goal durations and success rates may more likely be influenced by factors related to goal category rather than priority.'},\n",
       " 'question': 'What is the distribution of Goal priorities in the Finance department?',\n",
       " 'actionable_insight': 'Given the uniform distribution of priorities, further analysis should focus on goal categories to uncover potential factors influencing goal durations and success rates in the Finance department. Understanding how different categories impact goal outcomes could provide strategic insights into effective goal management and resource allocation.'}"
      ]
     },
     "execution_count": 8,
     "metadata": {},
     "output_type": "execute_result"
    }
   ],
   "source": [
    "{\n",
    "    \"data_type\": \"diagnostic\",\n",
    "    \"insight\": \"There is a uniform distribution of goal priorities in the Finance department\",\n",
    "    \"insight_value\": {\n",
    "        \"Critical\": \"23.9%\",\n",
    "        \"High\": \"24.4%\",\n",
    "        \"Medium\": \"24.4%\",\n",
    "        \"Low\": \"27.2%\"\n",
    "    },\n",
    "    \"plot\": {\n",
    "        \"plot_type\": \"bar\",\n",
    "        \"title\": \"Distribution of Goal Priorities in the Finance Department\",\n",
    "        \"x_axis\": {\n",
    "            \"name\": \"Priority Level\",\n",
    "            \"value\": \"Critical, High, Medium, Low\",\n",
    "            \"description\": \"This represents the different priority levels assigned to goals within the Finance department.\"\n",
    "        },\n",
    "        \"y_axis\": {\n",
    "            \"name\": \"Percentage of Goals\",\n",
    "            \"value\": \"mean is 25% across all priorities\",\n",
    "            \"description\": \"This shows the percentage of goals classified under each priority level, indicating an even distribution across priorities.\"\n",
    "        },\n",
    "        \"description\": \"The bar graph illustrates a uniform distribution of goal priorities within the Finance department, with each priority level—Critical, High, Medium, and Low—comprising 25% of goals. This even distribution suggests that the variation in goal durations and success rates may more likely be influenced by factors related to goal category rather than priority.\"\n",
    "    },\n",
    "    \"question\": \"What is the distribution of Goal priorities in the Finance department?\",\n",
    "    \"actionable_insight\": \"Given the uniform distribution of priorities, further analysis should focus on goal categories to uncover potential factors influencing goal durations and success rates in the Finance department. Understanding how different categories impact goal outcomes could provide strategic insights into effective goal management and resource allocation.\"\n",
    "}\n"
   ]
  },
  {
   "cell_type": "markdown",
   "metadata": {},
   "source": [
    "### **Question 4:** What is the distribution of Goal distribution by category across all departments?"
   ]
  },
  {
   "cell_type": "markdown",
   "metadata": {},
   "source": [
    "#### Plot goal Duration by category across departments\n",
    "\n",
    "This box plot visualizes the distribution of goal durations across various categories in all departments. By displaying median and mean durations, it helps identify which goal categories tend to have longer or shorter completion times, providing insights into efficiencies and priorities across organization."
   ]
  },
  {
   "cell_type": "code",
   "execution_count": 9,
   "metadata": {
    "execution": {
     "iopub.execute_input": "2024-10-25T19:58:36.521660Z",
     "iopub.status.busy": "2024-10-25T19:58:36.521066Z",
     "iopub.status.idle": "2024-10-25T19:58:37.251578Z",
     "shell.execute_reply": "2024-10-25T19:58:37.249036Z"
    }
   },
   "outputs": [
    {
     "data": {
      "image/png": "[encoded data removed]",
      "text/plain": [
       "<Figure size 1008x576 with 1 Axes>"
      ]
     },
     "metadata": {
      "needs_background": "light"
     },
     "output_type": "display_data"
    }
   ],
   "source": [
    "import matplotlib.pyplot as plt\n",
    "import seaborn as sns\n",
    "\n",
    "# Calculate goal durations in days\n",
    "goal_data['duration'] = (goal_data['end_date'] - goal_data['start_date']).dt.days\n",
    "\n",
    "\n",
    "# Plotting\n",
    "plt.figure(figsize=(14, 8))\n",
    "box_plot = sns.boxplot(x='category', y='duration', data=goal_data)\n",
    "plt.title('Comparison of Goal Duration by Category Across All Departments')\n",
    "plt.xlabel('Goal Category')\n",
    "plt.ylabel('Duration (days)')\n",
    "plt.xticks(rotation=45)  # Rotate category names for better readability\n",
    "plt.grid(True)\n",
    "\n",
    "# Calculate median and mean for annotations\n",
    "medians = goal_data.groupby(['category'])['duration'].median()\n",
    "means = goal_data.groupby(['category'])['duration'].mean()\n",
    "\n",
    "# Iterate over the departments to place the text annotations for median and mean\n",
    "for xtick in box_plot.get_xticks():\n",
    "    box_plot.text(xtick, medians[xtick] + 1, 'Median: {:.1f}'.format(medians[xtick]), \n",
    "                  horizontalalignment='center', size='x-small', color='black', weight='semibold')\n",
    "    box_plot.text(xtick, means[xtick] + 1, 'Mean: {:.1f}'.format(means[xtick]), \n",
    "                  horizontalalignment='center', size='x-small', color='red', weight='semibold')\n",
    "\n",
    "\n",
    "plt.show()"
   ]
  },
  {
   "cell_type": "markdown",
   "metadata": {},
   "source": [
    "#### Generate JSON Description for the Insight"
   ]
  },
  {
   "cell_type": "code",
   "execution_count": 10,
   "metadata": {
    "execution": {
     "iopub.execute_input": "2024-10-25T19:58:37.264740Z",
     "iopub.status.busy": "2024-10-25T19:58:37.264217Z",
     "iopub.status.idle": "2024-10-25T19:58:37.285306Z",
     "shell.execute_reply": "2024-10-25T19:58:37.283371Z"
    }
   },
   "outputs": [
    {
     "data": {
      "text/plain": [
       "{'data_type': 'analytical',\n",
       " 'insight': 'The cost reduction goals have significantly shorter average durations compared to other categories',\n",
       " 'insight_value': {'Most Prominent Value': 'Cost Reduction goals average 33.8 days',\n",
       "  'Next Closest Category': 'Employee Satisfaction at 178.3 days'},\n",
       " 'plot': {'plot_type': 'bar',\n",
       "  'title': 'Average Goal Duration by Category Across All Departments',\n",
       "  'x_axis': {'name': 'Category',\n",
       "   'value': 'Cost Reduction, Revenue Growth, Efficiency, Customer Satisfaction, Employee Satisfaction',\n",
       "   'description': 'This represents the different goal categories analyzed across all departments.'},\n",
       "  'y_axis': {'name': 'Average Goal Duration (days)',\n",
       "   'value': 'Cost Reduction: 33.8, Revenue Growth: 194.4, Efficiency: 174.8, Customer Satisfaction: 188.6, Employee Satisfaction: 178.3',\n",
       "   'description': 'This shows the average duration in days for goals within each category, highlighting the efficiency of Cost Reduction goals.'},\n",
       "  'description': 'The bar graph displays the average durations for goals by category across all departments, with the Cost Reduction category showing a notably lower average duration of 33.8 days, which is significantly less than those of other categories. This stark contrast underscores the efficiency and streamlined processes potentially inherent in Cost Reduction initiatives.'},\n",
       " 'question': 'What is the distribution of Goal durations by category across all departments?',\n",
       " 'actionable_insight': \"The significantly shorter duration of 'Cost Reduction' goals suggests a need to investigate the practices, resource allocations, and strategies that contribute to such efficiency. Applying these effective approaches from the 'Cost Reduction' category to other categories may help reduce durations and enhance overall productivity.\"}"
      ]
     },
     "execution_count": 10,
     "metadata": {},
     "output_type": "execute_result"
    }
   ],
   "source": [
    "{\n",
    "    \"data_type\": \"analytical\",\n",
    "    \"insight\": \"The cost reduction goals have significantly shorter average durations compared to other categories\",\n",
    "    \"insight_value\": {\n",
    "        \"Most Prominent Value\": \"Cost Reduction goals average 33.8 days\",\n",
    "        \"Next Closest Category\": \"Employee Satisfaction at 178.3 days\"\n",
    "    },\n",
    "    \"plot\": {\n",
    "        \"plot_type\": \"bar\",\n",
    "        \"title\": \"Average Goal Duration by Category Across All Departments\",\n",
    "        \"x_axis\": {\n",
    "            \"name\": \"Category\",\n",
    "            \"value\": \"Cost Reduction, Revenue Growth, Efficiency, Customer Satisfaction, Employee Satisfaction\",\n",
    "            \"description\": \"This represents the different goal categories analyzed across all departments.\"\n",
    "        },\n",
    "        \"y_axis\": {\n",
    "            \"name\": \"Average Goal Duration (days)\",\n",
    "            \"value\": \"Cost Reduction: 33.8, Revenue Growth: 194.4, Efficiency: 174.8, Customer Satisfaction: 188.6, Employee Satisfaction: 178.3\",\n",
    "            \"description\": \"This shows the average duration in days for goals within each category, highlighting the efficiency of Cost Reduction goals.\"\n",
    "        },\n",
    "        \"description\": \"The bar graph displays the average durations for goals by category across all departments, with the Cost Reduction category showing a notably lower average duration of 33.8 days, which is significantly less than those of other categories. This stark contrast underscores the efficiency and streamlined processes potentially inherent in Cost Reduction initiatives.\"\n",
    "    },\n",
    "    \"question\": \"What is the distribution of Goal durations by category across all departments?\",\n",
    "    \"actionable_insight\": \"The significantly shorter duration of 'Cost Reduction' goals suggests a need to investigate the practices, resource allocations, and strategies that contribute to such efficiency. Applying these effective approaches from the 'Cost Reduction' category to other categories may help reduce durations and enhance overall productivity.\"\n",
    "}\n"
   ]
  },
  {
   "cell_type": "markdown",
   "metadata": {},
   "source": [
    "### Summary of Findings (Flag 30)\n",
    "\n",
    "1. **Efficiency in Goal Completion**: This dataset highlights an anomaly where 'Cost Reduction' goals across the organization, especially within the Finance department, are completed in notably shorter durations compared to other departments such as HR, Marketing, and IT.\n",
    "   \n",
    "2. **Concentration of Goals in Finance**: The Finance department not only hosts a higher count of 'Cost Reduction' goals but also completes these goals significantly quicker. This suggests a focused and efficient approach to achieving financial efficiency goals within the department.\n",
    "   \n",
    "3. **Uniform Goal Prioritization**: Despite the variance in completion time, the distribution of goal priorities within the Finance department remains uniform, indicating a consistent operational strategy across different priority levels."
   ]
  }
 ],
 "metadata": {
  "kernelspec": {
   "display_name": "stardoc",
   "language": "python",
   "name": "python3"
  },
  "language_info": {
   "codemirror_mode": {
    "name": "ipython",
    "version": 3
   },
   "file_extension": ".py",
   "mimetype": "text/x-python",
   "name": "python",
   "nbconvert_exporter": "python",
   "pygments_lexer": "ipython3",
   "version": "3.8.5"
  }
 },
 "nbformat": 4,
 "nbformat_minor": 2
}

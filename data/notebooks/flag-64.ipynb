{
 "cells": [
  {
   "cell_type": "markdown",
   "metadata": {},
   "source": [
    "## Asset Cost Analysis by Department (Flag 64)\n",
    "\n",
    "### Dataset Description\n",
    "The dataset consists of 500 entries simulating ServiceNow alm_hardware table, detailing key attributes of hardware assets such as asset tags, display names, configuration item (CI) identifiers, serial numbers, and model categories. It includes information on asset assignment, last update timestamps, cost, departmental allocation, and warranty expiration dates. The table effectively captures asset management activities, offering insights into the operational handling, allocation, and maintenance status of hardware resources across various departments within an organization.\n",
    "\n",
    "### Your Task\n",
    "**Goal**: Analyze any uneven distribution and higher cost of assets in the certain department, with a particular focus on the HR department, to optimize asset management and enhance cost-effectiveness.\n",
    "\n",
    "**Role**: Asset Manager\n",
    "\n",
    "**Difficulty**: 3 out of 5. The task involves complex data analysis skills to uncover the underlying factors contributing to these departmental discrepancies in asset costs and distribution.\n",
    "\n",
    "**Category**: Asset Management"
   ]
  },
  {
   "cell_type": "markdown",
   "metadata": {},
   "source": [
    "## Import Necessary Libraries\n",
    "This cell imports all necessary libraries required for the analysis. This includes libraries for data manipulation, data visualization, and any specific utilities needed for the tasks. "
   ]
  },
  {
   "cell_type": "code",
   "execution_count": 3,
   "metadata": {
    "execution": {
     "iopub.execute_input": "2024-10-29T17:14:59.615388Z",
     "iopub.status.busy": "2024-10-29T17:14:59.613716Z",
     "iopub.status.idle": "2024-10-29T17:15:02.857833Z",
     "shell.execute_reply": "2024-10-29T17:15:02.855612Z"
    }
   },
   "outputs": [],
   "source": [
    "import argparse\n",
    "import pandas as pd\n",
    "import json\n",
    "import requests\n",
    "import matplotlib.pyplot as plt\n",
    "import numpy as np\n",
    "import seaborn as sns\n",
    "from pandas import date_range"
   ]
  },
  {
   "cell_type": "markdown",
   "metadata": {},
   "source": [
    "### Load Dataset\n",
    "Loads the dataset needed for the asset analysis. The data is sourced from a CSV file and the process involves reading the file into a DataFrame to facilitate further operations. This also checks the initial few rows to verify the correct loading of the data."
   ]
  },
  {
   "cell_type": "code",
   "execution_count": 4,
   "metadata": {
    "execution": {
     "iopub.execute_input": "2024-10-29T17:15:02.869290Z",
     "iopub.status.busy": "2024-10-29T17:15:02.867395Z",
     "iopub.status.idle": "2024-10-29T17:15:02.941547Z",
     "shell.execute_reply": "2024-10-29T17:15:02.939690Z"
    }
   },
   "outputs": [
    {
     "data": {
      "text/html": [
       "<div>\n",
       "<style scoped>\n",
       "    .dataframe tbody tr th:only-of-type {\n",
       "        vertical-align: middle;\n",
       "    }\n",
       "\n",
       "    .dataframe tbody tr th {\n",
       "        vertical-align: top;\n",
       "    }\n",
       "\n",
       "    .dataframe thead th {\n",
       "        text-align: right;\n",
       "    }\n",
       "</style>\n",
       "<table border=\"1\" class=\"dataframe\">\n",
       "  <thead>\n",
       "    <tr style=\"text-align: right;\">\n",
       "      <th></th>\n",
       "      <th>purchased_on</th>\n",
       "      <th>asset_tag</th>\n",
       "      <th>model_category</th>\n",
       "      <th>cost</th>\n",
       "      <th>serial_number</th>\n",
       "      <th>sys_updated_on</th>\n",
       "      <th>assigned_to</th>\n",
       "      <th>department</th>\n",
       "      <th>warranty_expiration</th>\n",
       "      <th>display_name</th>\n",
       "      <th>ci</th>\n",
       "    </tr>\n",
       "  </thead>\n",
       "  <tbody>\n",
       "    <tr>\n",
       "      <th>0</th>\n",
       "      <td>2024-03-01 17:54:00</td>\n",
       "      <td>P1000000</td>\n",
       "      <td>Computer</td>\n",
       "      <td>3629</td>\n",
       "      <td>DZB-49193876</td>\n",
       "      <td>2024-04-25 17:54:00</td>\n",
       "      <td>Genevieve Kekiwi</td>\n",
       "      <td>Customer Support</td>\n",
       "      <td>2026-04-25 17:54:00</td>\n",
       "      <td>Dell Inspiron 3501 Computer</td>\n",
       "      <td>Inspiron 3501</td>\n",
       "    </tr>\n",
       "    <tr>\n",
       "      <th>1</th>\n",
       "      <td>2024-02-12 23:13:00</td>\n",
       "      <td>P1000001</td>\n",
       "      <td>Computer</td>\n",
       "      <td>2970</td>\n",
       "      <td>LKQ-61403004</td>\n",
       "      <td>2024-03-29 23:13:00</td>\n",
       "      <td>Logan Muhl</td>\n",
       "      <td>Customer Support</td>\n",
       "      <td>2026-03-29 23:13:00</td>\n",
       "      <td>Dell Inspiron 7501 Laptop</td>\n",
       "      <td>Inspiron 7501</td>\n",
       "    </tr>\n",
       "    <tr>\n",
       "      <th>2</th>\n",
       "      <td>2024-02-13 19:09:00</td>\n",
       "      <td>P1000002</td>\n",
       "      <td>Computer</td>\n",
       "      <td>4701</td>\n",
       "      <td>TYB-81675175</td>\n",
       "      <td>2024-04-12 19:09:00</td>\n",
       "      <td>Latisha Bahls</td>\n",
       "      <td>Customer Support</td>\n",
       "      <td>2025-04-12 19:09:00</td>\n",
       "      <td>Dell Inspiron 3580</td>\n",
       "      <td>Inspiron 3580</td>\n",
       "    </tr>\n",
       "    <tr>\n",
       "      <th>3</th>\n",
       "      <td>2024-02-16 23:18:00</td>\n",
       "      <td>P1000003</td>\n",
       "      <td>Computer</td>\n",
       "      <td>2484</td>\n",
       "      <td>AFI-35627823</td>\n",
       "      <td>2024-03-29 23:18:00</td>\n",
       "      <td>Stephen Seiters</td>\n",
       "      <td>HR</td>\n",
       "      <td>2025-03-29 23:18:00</td>\n",
       "      <td>Dell Inspiron Desktop Computer</td>\n",
       "      <td>Inspiron Desktop</td>\n",
       "    </tr>\n",
       "    <tr>\n",
       "      <th>4</th>\n",
       "      <td>2024-02-09 18:34:00</td>\n",
       "      <td>P1000004</td>\n",
       "      <td>Computer</td>\n",
       "      <td>1528</td>\n",
       "      <td>ADF-83782545</td>\n",
       "      <td>2024-03-15 18:34:00</td>\n",
       "      <td>Bertram Quertermous</td>\n",
       "      <td>IT</td>\n",
       "      <td>2025-03-15 18:34:00</td>\n",
       "      <td>Dell Optiplex 7080</td>\n",
       "      <td>Optiplex 7080</td>\n",
       "    </tr>\n",
       "  </tbody>\n",
       "</table>\n",
       "</div>"
      ],
      "text/plain": [
       "          purchased_on asset_tag model_category  cost serial_number  \\\n",
       "0  2024-03-01 17:54:00  P1000000       Computer  3629  DZB-49193876   \n",
       "1  2024-02-12 23:13:00  P1000001       Computer  2970  LKQ-61403004   \n",
       "2  2024-02-13 19:09:00  P1000002       Computer  4701  TYB-81675175   \n",
       "3  2024-02-16 23:18:00  P1000003       Computer  2484  AFI-35627823   \n",
       "4  2024-02-09 18:34:00  P1000004       Computer  1528  ADF-83782545   \n",
       "\n",
       "        sys_updated_on          assigned_to        department  \\\n",
       "0  2024-04-25 17:54:00     Genevieve Kekiwi  Customer Support   \n",
       "1  2024-03-29 23:13:00           Logan Muhl  Customer Support   \n",
       "2  2024-04-12 19:09:00        Latisha Bahls  Customer Support   \n",
       "3  2024-03-29 23:18:00      Stephen Seiters                HR   \n",
       "4  2024-03-15 18:34:00  Bertram Quertermous                IT   \n",
       "\n",
       "   warranty_expiration                    display_name                ci  \n",
       "0  2026-04-25 17:54:00     Dell Inspiron 3501 Computer     Inspiron 3501  \n",
       "1  2026-03-29 23:13:00       Dell Inspiron 7501 Laptop     Inspiron 7501  \n",
       "2  2025-04-12 19:09:00              Dell Inspiron 3580     Inspiron 3580  \n",
       "3  2025-03-29 23:18:00  Dell Inspiron Desktop Computer  Inspiron Desktop  \n",
       "4  2025-03-15 18:34:00              Dell Optiplex 7080     Optiplex 7080  "
      ]
     },
     "execution_count": 4,
     "metadata": {},
     "output_type": "execute_result"
    }
   ],
   "source": [
    "dataset_path = \"csvs/flag-64.csv\"\n",
    "flag_data = pd.read_csv(dataset_path)\n",
    "df = flag_data\n",
    "flag_data.head()"
   ]
  },
  {
   "cell_type": "markdown",
   "metadata": {},
   "source": [
    "### **Question 1:  Is there a noticeable trend between the timing of asset purchases and the warranty expiration dates for different departments?**\n"
   ]
  },
  {
   "cell_type": "markdown",
   "metadata": {},
   "source": [
    "#### Analyzing Asset Purchase Timing vs. Warranty Expiration by Department\n",
    "This plot investigates whether assets in specific departments are purchased closer to their warranty expiration dates. By exploring this relationship, we can gain insights into potential risks of warranty overlap or delays in renewals across departments."
   ]
  },
  {
   "cell_type": "code",
   "execution_count": 5,
   "metadata": {
    "execution": {
     "iopub.execute_input": "2024-10-29T17:15:02.959445Z",
     "iopub.status.busy": "2024-10-29T17:15:02.958640Z",
     "iopub.status.idle": "2024-10-29T17:15:03.719102Z",
     "shell.execute_reply": "2024-10-29T17:15:03.717453Z"
    }
   },
   "outputs": [
    {
     "data": {
      "image/png": "[encoded data removed]",
      "text/plain": [
       "<Figure size 720x432 with 1 Axes>"
      ]
     },
     "metadata": {
      "needs_background": "light"
     },
     "output_type": "display_data"
    }
   ],
   "source": [
    "import matplotlib.pyplot as plt\n",
    "import pandas as pd\n",
    "import matplotlib.dates as mdates\n",
    "\n",
    "# Load the data\n",
    "flag_data = pd.read_csv(\"csvs/flag-64.csv\")\n",
    "\n",
    "# Convert dates to datetime format for analysis\n",
    "flag_data[\"purchased_on\"] = pd.to_datetime(flag_data[\"purchased_on\"])\n",
    "flag_data[\"warranty_expiration\"] = pd.to_datetime(flag_data[\"warranty_expiration\"])\n",
    "\n",
    "# Calculate the warranty duration in days for each asset\n",
    "flag_data[\"warranty_duration_days\"] = (\n",
    "    flag_data[\"warranty_expiration\"] - flag_data[\"purchased_on\"]\n",
    ").dt.days\n",
    "\n",
    "# Aggregate the average warranty duration by department\n",
    "warranty_data = (\n",
    "    flag_data.groupby(\"department\")[\"warranty_duration_days\"].mean().reset_index()\n",
    ")\n",
    "\n",
    "# Plot the average warranty duration by department\n",
    "plt.figure(figsize=(10, 6))\n",
    "plt.bar(\n",
    "    warranty_data[\"department\"],\n",
    "    warranty_data[\"warranty_duration_days\"],\n",
    "    color=\"skyblue\",\n",
    ")\n",
    "plt.title(\"Average Warranty Duration by Department\")\n",
    "plt.xlabel(\"Department\")\n",
    "plt.ylabel(\"Average Warranty Duration (Days)\")\n",
    "plt.xticks(rotation=45)\n",
    "plt.grid(axis=\"y\", linestyle=\"--\", alpha=0.7)\n",
    "\n",
    "plt.show()"
   ]
  },
  {
   "cell_type": "markdown",
   "metadata": {},
   "source": [
    "#### Generate JSON Description for the Insight"
   ]
  },
  {
   "cell_type": "code",
   "execution_count": 6,
   "metadata": {
    "execution": {
     "iopub.execute_input": "2024-10-29T17:15:03.737762Z",
     "iopub.status.busy": "2024-10-29T17:15:03.736949Z",
     "iopub.status.idle": "2024-10-29T17:15:03.762440Z",
     "shell.execute_reply": "2024-10-29T17:15:03.760806Z"
    }
   },
   "outputs": [
    {
     "data": {
      "text/plain": [
       "{'data_type': 'departmental_trend',\n",
       " 'insight': 'The Finance department has the longest average warranty duration for assets, while Development has the shortest.',\n",
       " 'insight_value': {'description': 'Assets purchased for the Finance department tend to have warranties lasting around 797 days, suggesting a possible emphasis on longer warranty periods in Finance. In contrast, the Development department averages around 704 days, which may indicate a higher turnover or faster refresh cycle for assets in that department.'},\n",
       " 'plot': {'plot_type': 'bar',\n",
       "  'title': 'Average Warranty Duration by Department',\n",
       "  'x_axis': {'name': 'Department',\n",
       "   'value': 'Various departments such as Customer Support, Finance, HR, IT, etc.',\n",
       "   'description': 'This axis categorizes the data by department, allowing for a comparison of warranty durations across departments.'},\n",
       "  'y_axis': {'name': 'Average Warranty Duration (Days)',\n",
       "   'value': 'Values range from approximately 700 to 800 days',\n",
       "   'description': 'This axis represents the average number of days between asset purchase and warranty expiration for each department.'},\n",
       "  'description': 'The bar plot highlights a significant difference in warranty durations across departments, suggesting that some departments prioritize longer warranties, while others might prefer shorter cycles or asset refreshes.'},\n",
       " 'question': 'Is there a noticeable trend between the timing of asset purchases and the warranty expiration dates for different departments?',\n",
       " 'actionable_insight': 'Departments with shorter warranty durations, like Development, may benefit from regular asset refreshes to keep up with technological advancements, while Finance could maintain longer warranties, possibly to align with their asset stability requirements. This insight encourages a tailored approach to warranty planning, potentially optimizing costs and improving resource allocation based on department-specific needs.'}"
      ]
     },
     "execution_count": 6,
     "metadata": {},
     "output_type": "execute_result"
    }
   ],
   "source": [
    "{\n",
    "    \"data_type\": \"departmental_trend\",\n",
    "    \"insight\": \"The Finance department has the longest average warranty duration for assets, while Development has the shortest.\",\n",
    "    \"insight_value\": {\n",
    "        \"description\": \"Assets purchased for the Finance department tend to have warranties lasting around 797 days, suggesting a possible emphasis on longer warranty periods in Finance. In contrast, the Development department averages around 704 days, which may indicate a higher turnover or faster refresh cycle for assets in that department.\"\n",
    "    },\n",
    "    \"plot\": {\n",
    "        \"plot_type\": \"bar\",\n",
    "        \"title\": \"Average Warranty Duration by Department\",\n",
    "        \"x_axis\": {\n",
    "            \"name\": \"Department\",\n",
    "            \"value\": \"Various departments such as Customer Support, Finance, HR, IT, etc.\",\n",
    "            \"description\": \"This axis categorizes the data by department, allowing for a comparison of warranty durations across departments.\",\n",
    "        },\n",
    "        \"y_axis\": {\n",
    "            \"name\": \"Average Warranty Duration (Days)\",\n",
    "            \"value\": \"Values range from approximately 700 to 800 days\",\n",
    "            \"description\": \"This axis represents the average number of days between asset purchase and warranty expiration for each department.\",\n",
    "        },\n",
    "        \"description\": \"The bar plot highlights a significant difference in warranty durations across departments, suggesting that some departments prioritize longer warranties, while others might prefer shorter cycles or asset refreshes.\",\n",
    "    },\n",
    "    \"question\": \"Is there a noticeable trend between the timing of asset purchases and the warranty expiration dates for different departments?\",\n",
    "    \"actionable_insight\": \"Departments with shorter warranty durations, like Development, may benefit from regular asset refreshes to keep up with technological advancements, while Finance could maintain longer warranties, possibly to align with their asset stability requirements. This insight encourages a tailored approach to warranty planning, potentially optimizing costs and improving resource allocation based on department-specific needs.\",\n",
    "}"
   ]
  },
  {
   "cell_type": "markdown",
   "metadata": {},
   "source": [
    "### **Question 2:  What types of assets contribute to the higher average cost in the HR department?**\n"
   ]
  },
  {
   "cell_type": "markdown",
   "metadata": {},
   "source": [
    "#### Plot total and average cost of different asset types in HR department\n",
    "This cell visualizes both the total and average costs of various asset types managed by the HR department, aiding in the identification of specific asset categories that contribute to higher overall expenses. By differentiating between total and average costs, the plot provides some understanding of how different types of assets impact the department's financial resources. "
   ]
  },
  {
   "cell_type": "code",
   "execution_count": 7,
   "metadata": {
    "execution": {
     "iopub.execute_input": "2024-10-29T17:15:03.774784Z",
     "iopub.status.busy": "2024-10-29T17:15:03.774045Z",
     "iopub.status.idle": "2024-10-29T17:15:04.431477Z",
     "shell.execute_reply": "2024-10-29T17:15:04.429708Z"
    }
   },
   "outputs": [
    {
     "name": "stderr",
     "output_type": "stream",
     "text": [
      "<ipython-input-7-bee142b60bbe>:10: SettingWithCopyWarning: \n",
      "A value is trying to be set on a copy of a slice from a DataFrame.\n",
      "Try using .loc[row_indexer,col_indexer] = value instead\n",
      "\n",
      "See the caveats in the documentation: https://pandas.pydata.org/pandas-docs/stable/user_guide/indexing.html#returning-a-view-versus-a-copy\n",
      "  hr_assets['cost'] = pd.to_numeric(hr_assets['cost'], errors='coerce')\n"
     ]
    },
    {
     "data": {
      "image/png": "[encoded data removed]",
      "text/plain": [
       "<Figure size 1008x504 with 1 Axes>"
      ]
     },
     "metadata": {
      "needs_background": "light"
     },
     "output_type": "display_data"
    }
   ],
   "source": [
    "import seaborn as sns\n",
    "import matplotlib.pyplot as plt\n",
    "import pandas as pd\n",
    "\n",
    "# Assume 'df' is your DataFrame containing the asset data\n",
    "# Filter the DataFrame for only the HR department\n",
    "hr_assets = df[df['department'] == 'HR']\n",
    "\n",
    "# Convert the 'cost' column to numeric, just in case it's not already\n",
    "hr_assets['cost'] = pd.to_numeric(hr_assets['cost'], errors='coerce')\n",
    "\n",
    "# Calculate total and average cost per model category\n",
    "total_cost = hr_assets.groupby('model_category')['cost'].sum().reset_index(name='Total Cost')\n",
    "average_cost = hr_assets.groupby('model_category')['cost'].mean().reset_index(name='Average Cost')\n",
    "\n",
    "# Merge the total and average cost dataframes\n",
    "cost_data = pd.merge(total_cost, average_cost, on='model_category')\n",
    "\n",
    "# Melt the dataframe to suit the seaborn barplot format for grouped bars\n",
    "melted_cost_data = cost_data.melt(id_vars='model_category', var_name='Type of Cost', value_name='Cost')\n",
    "\n",
    "# Create the bar plot\n",
    "plt.figure(figsize=(14, 7))\n",
    "avg_bar_plot = sns.barplot(data=melted_cost_data, x='model_category', y='Cost', hue='Type of Cost')\n",
    "\n",
    "for p in avg_bar_plot.patches:\n",
    "    avg_bar_plot.annotate(format(p.get_height(), '.2f'), \n",
    "                          (p.get_x() + p.get_width() / 2., p.get_height()), \n",
    "                          ha = 'center', va = 'center', \n",
    "                          xytext = (0, 9), \n",
    "                          textcoords = 'offset points')\n",
    "    \n",
    "plt.title('Total and Average Cost of Different Asset Types in HR Department')\n",
    "plt.xlabel('Model Category')\n",
    "plt.ylabel('Cost (USD)')\n",
    "plt.xticks(rotation=45)\n",
    "plt.legend(title='Type of Cost')\n",
    "plt.show()\n"
   ]
  },
  {
   "cell_type": "markdown",
   "metadata": {},
   "source": [
    "#### Generate JSON Description for the Insight"
   ]
  },
  {
   "cell_type": "code",
   "execution_count": 8,
   "metadata": {
    "execution": {
     "iopub.execute_input": "2024-10-29T17:15:04.446937Z",
     "iopub.status.busy": "2024-10-29T17:15:04.446331Z",
     "iopub.status.idle": "2024-10-29T17:15:04.474956Z",
     "shell.execute_reply": "2024-10-29T17:15:04.473082Z"
    }
   },
   "outputs": [
    {
     "data": {
      "text/plain": [
       "{'data_type': 'descriptive',\n",
       " 'insight': 'Computers, Servers, and Web Servers in HR Department have the highest cost contributions',\n",
       " 'insight_value': {'Computers': {'Total Cost': '61215$',\n",
       "   'Average Cost': '3221$'},\n",
       "  'Server': {'Total Cost': '35264$', 'Average Cost': '8816$'},\n",
       "  'Web Server': {'Total Cost': '40000$', 'Average Cost': '8000$'}},\n",
       " 'plot': {'plot_type': 'grouped_bar',\n",
       "  'title': 'Total and Average Cost of Asset Types in HR Department',\n",
       "  'x_axis': {'name': 'Model Category',\n",
       "   'value': ['Computers', 'Server', 'Web Server'],\n",
       "   'description': 'This represents different asset categories in the HR department.'},\n",
       "  'y_axis': {'name': 'Cost in USD',\n",
       "   'value': 'Displays both total and average costs',\n",
       "   'description': 'This represents both the total and average costs of assets, highlighting which models contribute the most financially.'},\n",
       "  'description': 'The grouped bar chart demonstrates that Computers, Servers, and Web Servers have the highest total costs in the HR department. Moreover, Servers and Web Servers exhibit higher average costs, indicating their high-end value and significant financial contribution to departmental assets.'},\n",
       " 'question': 'What types of assets contribute to the higher average cost in the HR department?',\n",
       " 'actionable_insight': 'Considering the high average costs associated with Servers and Web Servers, it is advisable for the HR department to evaluate the necessity and utilization of these high-end assets to ensure cost-effectiveness. Possible actions include reassessing the asset lifecycle, optimizing usage, and exploring cost-saving alternatives without compromising on required functionalities.'}"
      ]
     },
     "execution_count": 8,
     "metadata": {},
     "output_type": "execute_result"
    }
   ],
   "source": [
    "{\n",
    "    \"data_type\": \"descriptive\",\n",
    "    \"insight\": \"Computers, Servers, and Web Servers in HR Department have the highest cost contributions\",\n",
    "    \"insight_value\": {\n",
    "        \"Computers\": {\"Total Cost\": \"61215$\", \"Average Cost\": \"3221$\"},\n",
    "        \"Server\": {\"Total Cost\": \"35264$\", \"Average Cost\": \"8816$\"},\n",
    "        \"Web Server\": {\"Total Cost\": \"40000$\", \"Average Cost\": \"8000$\"}\n",
    "    },\n",
    "    \"plot\": {\n",
    "        \"plot_type\": \"grouped_bar\",\n",
    "        \"title\": \"Total and Average Cost of Asset Types in HR Department\",\n",
    "        \"x_axis\": {\n",
    "            \"name\": \"Model Category\",\n",
    "            \"value\": [\"Computers\", \"Server\", \"Web Server\"],\n",
    "            \"description\": \"This represents different asset categories in the HR department.\"\n",
    "        },\n",
    "        \"y_axis\": {\n",
    "            \"name\": \"Cost in USD\",\n",
    "            \"value\": \"Displays both total and average costs\",\n",
    "            \"description\": \"This represents both the total and average costs of assets, highlighting which models contribute the most financially.\"\n",
    "        },\n",
    "        \"description\": \"The grouped bar chart demonstrates that Computers, Servers, and Web Servers have the highest total costs in the HR department. Moreover, Servers and Web Servers exhibit higher average costs, indicating their high-end value and significant financial contribution to departmental assets.\"\n",
    "    },\n",
    "    \"question\": \"What types of assets contribute to the higher average cost in the HR department?\",\n",
    "    \"actionable_insight\": \"Considering the high average costs associated with Servers and Web Servers, it is advisable for the HR department to evaluate the necessity and utilization of these high-end assets to ensure cost-effectiveness. Possible actions include reassessing the asset lifecycle, optimizing usage, and exploring cost-saving alternatives without compromising on required functionalities.\"\n",
    "}\n"
   ]
  },
  {
   "cell_type": "markdown",
   "metadata": {},
   "source": [
    "### **Question 3:  What are the number of high-end assets such as Server and Web Server across all departments compared with HR department?**"
   ]
  },
  {
   "cell_type": "markdown",
   "metadata": {},
   "source": [
    "### Plot distribution of expensive assets (Server and Web Server) by department\n",
    "This cell provides a visual comparison of high-end asset distribution, specifically servers and web servers, across different departments, highlighting how the HR department's holdings compare to others."
   ]
  },
  {
   "cell_type": "code",
   "execution_count": 9,
   "metadata": {
    "execution": {
     "iopub.execute_input": "2024-10-29T17:15:04.491096Z",
     "iopub.status.busy": "2024-10-29T17:15:04.490387Z",
     "iopub.status.idle": "2024-10-29T17:15:05.198123Z",
     "shell.execute_reply": "2024-10-29T17:15:05.196502Z"
    }
   },
   "outputs": [
    {
     "data": {
      "image/png": "[encoded data removed]",
      "text/plain": [
       "<Figure size 864x576 with 1 Axes>"
      ]
     },
     "metadata": {
      "needs_background": "light"
     },
     "output_type": "display_data"
    }
   ],
   "source": [
    "# Filter data for relevant categories (Server and Web Server)\n",
    "expensive_assets = flag_data[flag_data['model_category'].isin(['Server', 'Web Server'])]\n",
    "\n",
    "# Count the number of each category within each department\n",
    "category_counts = expensive_assets.groupby(['department', 'model_category']).size().unstack(fill_value=0).reset_index()\n",
    "\n",
    "# Create a bar plot showing the counts of Server and Web Server by department\n",
    "plt.figure(figsize=(12, 8))\n",
    "sns.barplot(data=category_counts.melt(id_vars=[\"department\"], var_name=\"model_category\", value_name=\"count\"), \n",
    "            x='department', y='count', hue='model_category', palette=\"viridis\")\n",
    "plt.title('Distribution of Expensive Assets (Server and Web Server) by Department')\n",
    "plt.xlabel('Department')\n",
    "plt.ylabel('Count of Expensive Assets')\n",
    "plt.xticks(rotation=45)\n",
    "\n",
    "# Emphasize the HR department by changing the color of its bars\n",
    "for bar in plt.gca().patches:\n",
    "    if bar.get_x() == category_counts.index[category_counts['department'] == 'HR'][0]:\n",
    "        bar.set_color('red')  # Change color to red for HR department\n",
    "\n",
    "plt.legend(title='Asset Category')\n",
    "plt.tight_layout()\n",
    "plt.show()"
   ]
  },
  {
   "cell_type": "markdown",
   "metadata": {},
   "source": [
    "#### Generate JSON Description for the Insight"
   ]
  },
  {
   "cell_type": "code",
   "execution_count": 10,
   "metadata": {
    "execution": {
     "iopub.execute_input": "2024-10-29T17:15:05.213946Z",
     "iopub.status.busy": "2024-10-29T17:15:05.213349Z",
     "iopub.status.idle": "2024-10-29T17:15:05.244757Z",
     "shell.execute_reply": "2024-10-29T17:15:05.242888Z"
    }
   },
   "outputs": [
    {
     "data": {
      "text/plain": [
       "{'data_type': 'diagnostic',\n",
       " 'insight': 'There is a concentration of High-End Assets in the HR Department Compared to Other Departments',\n",
       " 'insight_value': {'HR': {'Servers': '4', 'Web Servers': '5'},\n",
       "  'Customer Support': {'Servers': '0', 'Web Servers': '1'},\n",
       "  'Finance': {'Servers': '0', 'Web Servers': '1'},\n",
       "  'IT': {'Servers': '2', 'Web Servers': '0'},\n",
       "  'Other Departments': {'Servers': '0', 'Web Servers': '0'}},\n",
       " 'plot': {'plot_type': 'bar',\n",
       "  'title': 'Distribution of High-End Assets Across Departments',\n",
       "  'x_axis': {'name': 'Department',\n",
       "   'value': ['HR', 'Customer Support', 'Finance', 'IT', 'Other'],\n",
       "   'description': 'This represents the various departments within the organization.'},\n",
       "  'y_axis': {'name': 'Number of High-End Assets',\n",
       "   'value': 'Counts of Servers and Web Servers',\n",
       "   'description': 'This shows the count of high-end assets, specifically Servers and Web Servers, within each department.'},\n",
       "  'description': 'This bar chart illustrates the distribution of high-end assets across departments, highlighting a significant concentration of Servers and Web Servers in the HR department compared to others. Customer Support and Finance have minimal Web Servers, while IT has a moderate number of Servers, and other departments lack these high-end assets entirely.'},\n",
       " 'question': 'What is the contribution from high-end assets such as Server and Web Server across all departments to compare with HR department?',\n",
       " 'actionable_insight': \"The HR department's higher allocation of Servers and Web Servers suggests a potential overinvestment in these high-end assets or specific operational needs that justify such investment. It is crucial for the organization to assess the utilization and necessity of these assets in HR compared to other departments. Possible actions include realigning asset distribution based on actual usage and needs, or redistributing underutilized assets to departments that may benefit from them, ensuring optimal asset utilization and cost efficiency across the organization.\"}"
      ]
     },
     "execution_count": 10,
     "metadata": {},
     "output_type": "execute_result"
    }
   ],
   "source": [
    "{\n",
    "    \"data_type\": \"diagnostic\",\n",
    "    \"insight\": \"There is a concentration of High-End Assets in the HR Department Compared to Other Departments\",\n",
    "    \"insight_value\": {\n",
    "        \"HR\": {\"Servers\": \"4\", \"Web Servers\": \"5\"},\n",
    "        \"Customer Support\": {\"Servers\": \"0\", \"Web Servers\": \"1\"},\n",
    "        \"Finance\": {\"Servers\": \"0\", \"Web Servers\": \"1\"},\n",
    "        \"IT\": {\"Servers\": \"2\", \"Web Servers\": \"0\"},\n",
    "        \"Other Departments\": {\"Servers\": \"0\", \"Web Servers\": \"0\"}\n",
    "    },\n",
    "    \"plot\": {\n",
    "        \"plot_type\": \"bar\",\n",
    "        \"title\": \"Distribution of High-End Assets Across Departments\",\n",
    "        \"x_axis\": {\n",
    "            \"name\": \"Department\",\n",
    "            \"value\": [\"HR\", \"Customer Support\", \"Finance\", \"IT\", \"Other\"],\n",
    "            \"description\": \"This represents the various departments within the organization.\"\n",
    "        },\n",
    "        \"y_axis\": {\n",
    "            \"name\": \"Number of High-End Assets\",\n",
    "            \"value\": \"Counts of Servers and Web Servers\",\n",
    "            \"description\": \"This shows the count of high-end assets, specifically Servers and Web Servers, within each department.\"\n",
    "        },\n",
    "        \"description\": \"This bar chart illustrates the distribution of high-end assets across departments, highlighting a significant concentration of Servers and Web Servers in the HR department compared to others. Customer Support and Finance have minimal Web Servers, while IT has a moderate number of Servers, and other departments lack these high-end assets entirely.\"\n",
    "    },\n",
    "    \"question\": \"What is the contribution from high-end assets such as Server and Web Server across all departments to compare with HR department?\",\n",
    "    \"actionable_insight\": \"The HR department's higher allocation of Servers and Web Servers suggests a potential overinvestment in these high-end assets or specific operational needs that justify such investment. It is crucial for the organization to assess the utilization and necessity of these assets in HR compared to other departments. Possible actions include realigning asset distribution based on actual usage and needs, or redistributing underutilized assets to departments that may benefit from them, ensuring optimal asset utilization and cost efficiency across the organization.\"\n",
    "}\n"
   ]
  },
  {
   "cell_type": "markdown",
   "metadata": {},
   "source": [
    "### **Question 4: Is there a correlation between the number of users and the cost of computer assets in the HR department?**\n"
   ]
  },
  {
   "cell_type": "markdown",
   "metadata": {},
   "source": [
    "#### Plot number of users and computers per department\n",
    "This cell focuses on analysis to explore the correlation between number of users and  number of computer assets in each department, particualrly the HR department. The objective is to understand how the distribution of computer assets aligns with the staffing levels across departments"
   ]
  },
  {
   "cell_type": "code",
   "execution_count": 11,
   "metadata": {
    "execution": {
     "iopub.execute_input": "2024-10-29T17:15:05.259904Z",
     "iopub.status.busy": "2024-10-29T17:15:05.259098Z",
     "iopub.status.idle": "2024-10-29T17:15:06.073404Z",
     "shell.execute_reply": "2024-10-29T17:15:06.071726Z"
    }
   },
   "outputs": [
    {
     "name": "stdout",
     "output_type": "stream",
     "text": [
      "           department  Total Computers  Total Users\n",
      "0    Customer Support               86           66\n",
      "1         Development               12            9\n",
      "2             Finance               15           11\n",
      "3                  HR               19            4\n",
      "4                  IT               36           32\n",
      "5  Product Management                8            7\n",
      "6               Sales               71           54\n"
     ]
    },
    {
     "data": {
      "image/png": "[encoded data removed]",
      "text/plain": [
       "<Figure size 864x432 with 1 Axes>"
      ]
     },
     "metadata": {
      "needs_background": "light"
     },
     "output_type": "display_data"
    }
   ],
   "source": [
    "import pandas as pd\n",
    "import seaborn as sns\n",
    "import matplotlib.pyplot as plt\n",
    "\n",
    "# Assuming 'flag_data' is the DataFrame that contains the entire asset dataset\n",
    "\n",
    "# Filter for entries where 'model_category' is 'Computer'\n",
    "computers_data = flag_data[flag_data['model_category'] == 'Computer']\n",
    "\n",
    "# Group by 'department' and count the number of computers per department\n",
    "computers_per_department = computers_data.groupby('department').size().reset_index(name='Total Computers')\n",
    "\n",
    "# Group by 'department' and count unique users per department\n",
    "users_per_department = flag_data.groupby('department')['assigned_to'].nunique().reset_index(name='Total Users')\n",
    "\n",
    "# Merge the two dataframes on 'department'\n",
    "department_summary = pd.merge(computers_per_department, users_per_department, on='department', how='outer')\n",
    "\n",
    "# Fill any NaN values which might appear if there are departments with no computers or users\n",
    "department_summary.fillna(0, inplace=True)\n",
    "\n",
    "# Print the result\n",
    "print(department_summary)\n",
    "\n",
    "# Plotting\n",
    "plt.figure(figsize=(12, 6))\n",
    "sns.barplot(data=department_summary, x='department', y='Total Users', color='blue', label='Total Users')\n",
    "# sns.barplot(data=department_summary, x='department', y='Total Computers', color='red', alpha=0.6, label='Total Computers')\n",
    "\n",
    "plt.title('Number of Users and Computers per Department')\n",
    "plt.xlabel('Department')\n",
    "plt.ylabel('Count')\n",
    "plt.legend(loc='upper right')\n",
    "plt.xticks(rotation=45)  # Rotates the x-axis labels to make them more readable\n",
    "plt.tight_layout()  # Adjusts plot parameters to give some padding\n",
    "plt.show()\n"
   ]
  },
  {
   "cell_type": "markdown",
   "metadata": {},
   "source": [
    "#### Generate JSON Description for the Insight"
   ]
  },
  {
   "cell_type": "code",
   "execution_count": 12,
   "metadata": {
    "execution": {
     "iopub.execute_input": "2024-10-29T17:15:06.090263Z",
     "iopub.status.busy": "2024-10-29T17:15:06.089622Z",
     "iopub.status.idle": "2024-10-29T17:15:06.117961Z",
     "shell.execute_reply": "2024-10-29T17:15:06.115046Z"
    }
   },
   "outputs": [
    {
     "data": {
      "text/plain": [
       "{'data_type': 'diagnostic',\n",
       " 'insight': 'There is a weak correlation between mumber of users and high cost of computer assets in HR Department',\n",
       " 'insight_value': {'Number of Users in HR': '4',\n",
       "  'Total Cost of Computers': '60000$',\n",
       "  'Average Cost per User': '15000$ per user'},\n",
       " 'plot': {'plot_type': 'scatter',\n",
       "  'title': 'Correlation Between Number of Users and Cost of Computers in HR Department',\n",
       "  'x_axis': {'name': 'Number of Users',\n",
       "   'value': '4',\n",
       "   'description': 'This represents the total number of users within the HR department.'},\n",
       "  'y_axis': {'name': 'Cost of Computer Assets',\n",
       "   'value': '60000$',\n",
       "   'description': 'This indicates the total cost of computer assets within the HR department, averaged per user.'},\n",
       "  'description': 'This scatter plot visually represents the relationship between the number of users in the HR department and the total cost of their computer assets. Despite having the least number of users among all departments, the HR department shows a disproportionately high cost of computer assets, indicating a weak correlation between the number of users and asset costs.'},\n",
       " 'question': 'Is there a correlation between the number of users and the cost of computer assets in the HR department?',\n",
       " 'actionable_insight': \"Given the disproportionate cost of computer assets relative to the small number of users in the HR department, it is advisable to review the justification for such high expenses. The organization should consider evaluating the specific needs of the HR department's users to ensure that these assets are essential and effectively utilized. Further investigation into the procurement process may also reveal opportunities for cost optimization without compromising operational efficiency.\"}"
      ]
     },
     "execution_count": 12,
     "metadata": {},
     "output_type": "execute_result"
    }
   ],
   "source": [
    "{\n",
    "    \"data_type\": \"diagnostic\",\n",
    "    \"insight\": \"There is a weak correlation between mumber of users and high cost of computer assets in HR Department\",\n",
    "    \"insight_value\": {\n",
    "        \"Number of Users in HR\": \"4\",\n",
    "        \"Total Cost of Computers\": \"60000$\",\n",
    "        \"Average Cost per User\": \"15000$ per user\"\n",
    "    },\n",
    "    \"plot\": {\n",
    "        \"plot_type\": \"scatter\",\n",
    "        \"title\": \"Correlation Between Number of Users and Cost of Computers in HR Department\",\n",
    "        \"x_axis\": {\n",
    "            \"name\": \"Number of Users\",\n",
    "            \"value\": \"4\",\n",
    "            \"description\": \"This represents the total number of users within the HR department.\"\n",
    "        },\n",
    "        \"y_axis\": {\n",
    "            \"name\": \"Cost of Computer Assets\",\n",
    "            \"value\": \"60000$\",\n",
    "            \"description\": \"This indicates the total cost of computer assets within the HR department, averaged per user.\"\n",
    "        },\n",
    "        \"description\": \"This scatter plot visually represents the relationship between the number of users in the HR department and the total cost of their computer assets. Despite having the least number of users among all departments, the HR department shows a disproportionately high cost of computer assets, indicating a weak correlation between the number of users and asset costs.\"\n",
    "    },\n",
    "    \"question\": \"Is there a correlation between the number of users and the cost of computer assets in the HR department?\",\n",
    "    \"actionable_insight\": \"Given the disproportionate cost of computer assets relative to the small number of users in the HR department, it is advisable to review the justification for such high expenses. The organization should consider evaluating the specific needs of the HR department's users to ensure that these assets are essential and effectively utilized. Further investigation into the procurement process may also reveal opportunities for cost optimization without compromising operational efficiency.\"\n",
    "}\n"
   ]
  },
  {
   "cell_type": "markdown",
   "metadata": {},
   "source": [
    "### **Question 5: How does the distribution of total asset costs compare between departments, especially focusing on high-end categories like \"Computer\" and \"Server\"?**\n",
    "  \n"
   ]
  },
  {
   "cell_type": "markdown",
   "metadata": {},
   "source": [
    "#### Analysis of Total Cost Distribution by Department for Selected High-End Asset Categories\n",
    "This analysis focuses on the total expenditure for high-end assets like \"Computer\" and \"Server\" across departments, giving insight into departmental spending on these essential resources. By aggregating and visualizing the total costs, we can see which departments have higher investment in these asset types.\n"
   ]
  },
  {
   "cell_type": "code",
   "execution_count": 13,
   "metadata": {
    "execution": {
     "iopub.execute_input": "2024-10-29T17:15:06.133578Z",
     "iopub.status.busy": "2024-10-29T17:15:06.132644Z",
     "iopub.status.idle": "2024-10-29T17:15:06.779597Z",
     "shell.execute_reply": "2024-10-29T17:15:06.777114Z"
    }
   },
   "outputs": [
    {
     "name": "stderr",
     "output_type": "stream",
     "text": [
      "<ipython-input-13-c61b0b4bd3b4>:8: SettingWithCopyWarning: \n",
      "A value is trying to be set on a copy of a slice from a DataFrame.\n",
      "Try using .loc[row_indexer,col_indexer] = value instead\n",
      "\n",
      "See the caveats in the documentation: https://pandas.pydata.org/pandas-docs/stable/user_guide/indexing.html#returning-a-view-versus-a-copy\n",
      "  high_end_assets[\"cost\"] = pd.to_numeric(high_end_assets[\"cost\"], errors=\"coerce\")\n"
     ]
    },
    {
     "data": {
      "text/plain": [
       "<Figure size 864x576 with 0 Axes>"
      ]
     },
     "metadata": {},
     "output_type": "display_data"
    },
    {
     "data": {
      "image/png": "[encoded data removed]",
      "text/plain": [
       "<Figure size 864x576 with 1 Axes>"
      ]
     },
     "metadata": {
      "needs_background": "light"
     },
     "output_type": "display_data"
    }
   ],
   "source": [
    "import matplotlib.pyplot as plt\n",
    "import pandas as pd\n",
    "\n",
    "# Filter DataFrame for high-end assets: Computers and Servers\n",
    "high_end_assets = df[df[\"model_category\"].isin([\"Computer\", \"Server\"])]\n",
    "\n",
    "# Convert 'cost' to numeric to ensure accurate calculations\n",
    "high_end_assets[\"cost\"] = pd.to_numeric(high_end_assets[\"cost\"], errors=\"coerce\")\n",
    "\n",
    "# Group by department and model category to calculate the total cost for each category per department\n",
    "department_costs = (\n",
    "    high_end_assets.groupby([\"department\", \"model_category\"])[\"cost\"]\n",
    "    .sum()\n",
    "    .reset_index()\n",
    ")\n",
    "\n",
    "# Pivot the table to have departments on the x-axis and model categories as the values\n",
    "department_costs_pivot = department_costs.pivot(\n",
    "    index=\"department\", columns=\"model_category\", values=\"cost\"\n",
    ").fillna(0)\n",
    "\n",
    "# Plotting the data with a stacked bar chart to show total expenditure per department\n",
    "plt.figure(figsize=(12, 8))\n",
    "department_costs_pivot.plot(kind=\"bar\", stacked=True, figsize=(12, 8))\n",
    "\n",
    "# Adding labels and title\n",
    "plt.title(\"Total Cost of High-End Assets (Computer and Server) by Department\")\n",
    "plt.xlabel(\"Department\")\n",
    "plt.ylabel(\"Total Cost (USD)\")\n",
    "plt.xticks(rotation=45)\n",
    "plt.legend(title=\"Model Category\", loc=\"upper right\")\n",
    "\n",
    "# Display the plot\n",
    "plt.show()"
   ]
  },
  {
   "cell_type": "markdown",
   "metadata": {},
   "source": [
    "#### Generate JSON Description for the Insight"
   ]
  },
  {
   "cell_type": "code",
   "execution_count": 14,
   "metadata": {
    "execution": {
     "iopub.execute_input": "2024-10-29T17:15:06.796339Z",
     "iopub.status.busy": "2024-10-29T17:15:06.795650Z",
     "iopub.status.idle": "2024-10-29T17:15:06.822486Z",
     "shell.execute_reply": "2024-10-29T17:15:06.820825Z"
    }
   },
   "outputs": [
    {
     "data": {
      "text/plain": [
       "{'data_type': 'diagnostic',\n",
       " 'insight': 'Customer Support and Sales departments lead in investment in high-end Computers, while the HR department has notable spending on both Computers and Servers.',\n",
       " 'insight_value': {'Customer Support': {'Computer': '299,570 USD',\n",
       "   'Server': '0 USD'},\n",
       "  'Development': {'Computer': '41,532 USD', 'Server': '0 USD'},\n",
       "  'Finance': {'Computer': '45,409 USD', 'Server': '0 USD'},\n",
       "  'HR': {'Computer': '61,215 USD', 'Server': '35,264 USD'},\n",
       "  'IT': {'Computer': '110,924 USD', 'Server': '15,881 USD'},\n",
       "  'Product Management': {'Computer': '18,402 USD', 'Server': '0 USD'},\n",
       "  'Sales': {'Computer': '241,880 USD', 'Server': '0 USD'}},\n",
       " 'plot': {'plot_type': 'bar',\n",
       "  'title': 'Total Cost of High-End Assets (Computer and Server) by Department',\n",
       "  'x_axis': {'name': 'Department',\n",
       "   'value': ['Customer Support',\n",
       "    'Development',\n",
       "    'Finance',\n",
       "    'HR',\n",
       "    'IT',\n",
       "    'Product Management',\n",
       "    'Sales'],\n",
       "   'description': \"Represents each department's allocation of funds towards high-end Computers and Servers.\"},\n",
       "  'y_axis': {'name': 'Total Cost (USD)',\n",
       "   'value': 'Sum of costs for Computers and Servers',\n",
       "   'description': 'Shows the total expenditure on Computers and Servers within each department.'},\n",
       "  'description': 'This stacked bar chart shows the total spending per department on high-end assets (Computers and Servers). Customer Support and Sales departments show high spending on Computers, while HR has substantial investment in both Computers and Servers.'},\n",
       " 'question': \"How does the distribution of total asset costs compare between departments, especially focusing on high-end categories like 'Computer' and 'Server'?\",\n",
       " 'actionable_insight': 'The significant investment in high-end assets by Customer Support, Sales, and HR suggests high dependency or utilization of these resources in these departments. Reviewing the asset utilization and the specific needs of these departments may help optimize asset allocation across the organization, especially in areas with lower asset usage.'}"
      ]
     },
     "execution_count": 14,
     "metadata": {},
     "output_type": "execute_result"
    }
   ],
   "source": [
    "{\n",
    "    \"data_type\": \"diagnostic\",\n",
    "    \"insight\": \"Customer Support and Sales departments lead in investment in high-end Computers, while the HR department has notable spending on both Computers and Servers.\",\n",
    "    \"insight_value\": {\n",
    "        \"Customer Support\": {\"Computer\": \"299,570 USD\", \"Server\": \"0 USD\"},\n",
    "        \"Development\": {\"Computer\": \"41,532 USD\", \"Server\": \"0 USD\"},\n",
    "        \"Finance\": {\"Computer\": \"45,409 USD\", \"Server\": \"0 USD\"},\n",
    "        \"HR\": {\"Computer\": \"61,215 USD\", \"Server\": \"35,264 USD\"},\n",
    "        \"IT\": {\"Computer\": \"110,924 USD\", \"Server\": \"15,881 USD\"},\n",
    "        \"Product Management\": {\"Computer\": \"18,402 USD\", \"Server\": \"0 USD\"},\n",
    "        \"Sales\": {\"Computer\": \"241,880 USD\", \"Server\": \"0 USD\"},\n",
    "    },\n",
    "    \"plot\": {\n",
    "        \"plot_type\": \"bar\",\n",
    "        \"title\": \"Total Cost of High-End Assets (Computer and Server) by Department\",\n",
    "        \"x_axis\": {\n",
    "            \"name\": \"Department\",\n",
    "            \"value\": [\n",
    "                \"Customer Support\",\n",
    "                \"Development\",\n",
    "                \"Finance\",\n",
    "                \"HR\",\n",
    "                \"IT\",\n",
    "                \"Product Management\",\n",
    "                \"Sales\",\n",
    "            ],\n",
    "            \"description\": \"Represents each department's allocation of funds towards high-end Computers and Servers.\",\n",
    "        },\n",
    "        \"y_axis\": {\n",
    "            \"name\": \"Total Cost (USD)\",\n",
    "            \"value\": \"Sum of costs for Computers and Servers\",\n",
    "            \"description\": \"Shows the total expenditure on Computers and Servers within each department.\",\n",
    "        },\n",
    "        \"description\": \"This stacked bar chart shows the total spending per department on high-end assets (Computers and Servers). Customer Support and Sales departments show high spending on Computers, while HR has substantial investment in both Computers and Servers.\",\n",
    "    },\n",
    "    \"question\": \"How does the distribution of total asset costs compare between departments, especially focusing on high-end categories like 'Computer' and 'Server'?\",\n",
    "    \"actionable_insight\": \"The significant investment in high-end assets by Customer Support, Sales, and HR suggests high dependency or utilization of these resources in these departments. Reviewing the asset utilization and the specific needs of these departments may help optimize asset allocation across the organization, especially in areas with lower asset usage.\",\n",
    "}"
   ]
  },
  {
   "cell_type": "markdown",
   "metadata": {},
   "source": [
    "### Summary of Findings (Flag 64):\n",
    "\n",
    "1. **Warranty Duration Disparities**: The Finance department enjoys the longest average warranty durations for its assets, suggesting a strategic focus on long-term asset stability. In contrast, the Development department has the shortest durations, possibly indicating a faster refresh cycle or higher asset turnover.\n",
    "\n",
    "2. **HR Department's High-End Asset Concentration**: The HR department shows a significant concentration of high-end assets, such as servers and web servers, compared to other departments. This suggests either a specific operational need or potential overinvestment, warranting a review of asset utilization and necessity.\n",
    "\n",
    "3. **Cost Discrepancies in High-End Assets**: Customer Support and Sales departments lead in investment in high-end computers, while the HR department has notable spending on both computers and servers. This highlights a potential area for optimizing asset allocation and ensuring cost-effectiveness across departments."
   ]
  }
 ],
 "metadata": {
  "kernelspec": {
   "display_name": "Python 3",
   "language": "python",
   "name": "python3"
  },
  "language_info": {
   "codemirror_mode": {
    "name": "ipython",
    "version": 3
   },
   "file_extension": ".py",
   "mimetype": "text/x-python",
   "name": "python",
   "nbconvert_exporter": "python",
   "pygments_lexer": "ipython3",
   "version": "3.8.5"
  }
 },
 "nbformat": 4,
 "nbformat_minor": 2
}

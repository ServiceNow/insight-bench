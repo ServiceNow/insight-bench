{
 "cells": [
  {
   "cell_type": "markdown",
   "metadata": {},
   "source": [
    "## Expense Management Discrepancies (Flag 19)\n",
    "\n",
    "### Dataset Description\n",
    "The dataset consists of 500 entries simulating ServiceNow fm_expense_line table, which records various attributes of financial expenses. Key fields include 'number', 'opened_at', 'amount', 'state', 'short_description', 'ci', 'user', 'department', 'category', 'process_date', 'source_id', and 'type'. This table documents the flow of financial transactions by detailing the amount, departmental allocation, and the nature of each expense. Provides a clear view of organizational expenditures across different categories, highlighting both the timing and the approval state of each financial entry.\n",
    "\n",
    "### Your Task\n",
    "**Goal**: To uncover and address the reasons behind the varying rates of expense rejections across departments to improve overall financial management within the organization.\n",
    "\n",
    "**Role**: Financial Compliance Analyst\n",
    "\n",
    "**Difficulty**: 3 out of 5.\n",
    "\n",
    "**Category**: Financial Management\n"
   ]
  },
  {
   "cell_type": "markdown",
   "metadata": {},
   "source": [
    "### Import Necessary Libraries\n",
    "This cell imports all necessary libraries required for the analysis. This includes libraries for data manipulation, data visualization, and any specific utilities needed for the tasks. "
   ]
  },
  {
   "cell_type": "code",
   "execution_count": 1,
   "metadata": {
    "execution": {
     "iopub.execute_input": "2024-10-25T19:55:58.679571Z",
     "iopub.status.busy": "2024-10-25T19:55:58.677011Z",
     "iopub.status.idle": "2024-10-25T19:56:02.004654Z",
     "shell.execute_reply": "2024-10-25T19:56:02.002793Z"
    }
   },
   "outputs": [],
   "source": [
    "import argparse\n",
    "import pandas as pd\n",
    "import json\n",
    "import requests\n",
    "import matplotlib.pyplot as plt\n",
    "import numpy as np\n",
    "import seaborn as sns\n",
    "from pandas import date_range"
   ]
  },
  {
   "cell_type": "markdown",
   "metadata": {},
   "source": [
    "### Load Dataset\n",
    "This cell loads the expense dataset from a CSV file into a DataFrame. It involves specifying the path to the dataset, using pandas to read the file, and confirming its successful load by displaying the first few entries."
   ]
  },
  {
   "cell_type": "code",
   "execution_count": 2,
   "metadata": {
    "execution": {
     "iopub.execute_input": "2024-10-25T19:56:02.017626Z",
     "iopub.status.busy": "2024-10-25T19:56:02.016776Z",
     "iopub.status.idle": "2024-10-25T19:56:02.088247Z",
     "shell.execute_reply": "2024-10-25T19:56:02.085796Z"
    }
   },
   "outputs": [
    {
     "data": {
      "text/html": [
       "<div>\n",
       "<style scoped>\n",
       "    .dataframe tbody tr th:only-of-type {\n",
       "        vertical-align: middle;\n",
       "    }\n",
       "\n",
       "    .dataframe tbody tr th {\n",
       "        vertical-align: top;\n",
       "    }\n",
       "\n",
       "    .dataframe thead th {\n",
       "        text-align: right;\n",
       "    }\n",
       "</style>\n",
       "<table border=\"1\" class=\"dataframe\">\n",
       "  <thead>\n",
       "    <tr style=\"text-align: right;\">\n",
       "      <th></th>\n",
       "      <th>number</th>\n",
       "      <th>source_id</th>\n",
       "      <th>user</th>\n",
       "      <th>amount</th>\n",
       "      <th>processed_date</th>\n",
       "      <th>opened_at</th>\n",
       "      <th>department</th>\n",
       "      <th>state</th>\n",
       "      <th>category</th>\n",
       "      <th>short_description</th>\n",
       "      <th>ci</th>\n",
       "    </tr>\n",
       "  </thead>\n",
       "  <tbody>\n",
       "    <tr>\n",
       "      <th>0</th>\n",
       "      <td>EXP00000000</td>\n",
       "      <td>UTY-46750817</td>\n",
       "      <td>Carolina Kinlaw</td>\n",
       "      <td>584</td>\n",
       "      <td>NaN</td>\n",
       "      <td>2024-04-26 18:11:00</td>\n",
       "      <td>Sales</td>\n",
       "      <td>Pending</td>\n",
       "      <td>Services</td>\n",
       "      <td>Provision of Services for iPod touch</td>\n",
       "      <td>ISP Services</td>\n",
       "    </tr>\n",
       "    <tr>\n",
       "      <th>1</th>\n",
       "      <td>EXP00000001</td>\n",
       "      <td>CKX-70446459</td>\n",
       "      <td>Mamie Mcintee</td>\n",
       "      <td>3178</td>\n",
       "      <td>NaN</td>\n",
       "      <td>2023-10-03 08:08:00</td>\n",
       "      <td>Product Management</td>\n",
       "      <td>Submitted</td>\n",
       "      <td>Assets</td>\n",
       "      <td>Asset assignment for new Dell Laptop</td>\n",
       "      <td>Dell XPS 13</td>\n",
       "    </tr>\n",
       "    <tr>\n",
       "      <th>2</th>\n",
       "      <td>EXP00000002</td>\n",
       "      <td>NaN</td>\n",
       "      <td>Cristina Sharper</td>\n",
       "      <td>3278</td>\n",
       "      <td>2024-03-14 10:18:00.000000000</td>\n",
       "      <td>2024-03-13 10:18:00</td>\n",
       "      <td>Sales</td>\n",
       "      <td>Processed</td>\n",
       "      <td>Miscellaneous</td>\n",
       "      <td>Miscellaneous hardware component</td>\n",
       "      <td>Random Access Memory Component</td>\n",
       "    </tr>\n",
       "    <tr>\n",
       "      <th>3</th>\n",
       "      <td>EXP00000003</td>\n",
       "      <td>SRP-53496117</td>\n",
       "      <td>Raphael Bickel</td>\n",
       "      <td>8712</td>\n",
       "      <td>2023-06-20 17:32:56.784775309</td>\n",
       "      <td>2023-06-18 17:21:00</td>\n",
       "      <td>Sales</td>\n",
       "      <td>Processed</td>\n",
       "      <td>Assets</td>\n",
       "      <td>Dell OptiPlex 7050 Desktop Asset</td>\n",
       "      <td>OptiPlex 7050</td>\n",
       "    </tr>\n",
       "    <tr>\n",
       "      <th>4</th>\n",
       "      <td>EXP00000004</td>\n",
       "      <td>EAN-07942806</td>\n",
       "      <td>Helena Suermann</td>\n",
       "      <td>1307</td>\n",
       "      <td>2023-10-06 04:31:00.000000000</td>\n",
       "      <td>2023-10-05 04:31:00</td>\n",
       "      <td>Customer Support</td>\n",
       "      <td>Processed</td>\n",
       "      <td>Services</td>\n",
       "      <td>Deployed service-related asset</td>\n",
       "      <td>Cloud Database Service</td>\n",
       "    </tr>\n",
       "  </tbody>\n",
       "</table>\n",
       "</div>"
      ],
      "text/plain": [
       "        number     source_id              user  amount  \\\n",
       "0  EXP00000000  UTY-46750817   Carolina Kinlaw     584   \n",
       "1  EXP00000001  CKX-70446459     Mamie Mcintee    3178   \n",
       "2  EXP00000002           NaN  Cristina Sharper    3278   \n",
       "3  EXP00000003  SRP-53496117    Raphael Bickel    8712   \n",
       "4  EXP00000004  EAN-07942806   Helena Suermann    1307   \n",
       "\n",
       "                  processed_date            opened_at          department  \\\n",
       "0                            NaN  2024-04-26 18:11:00               Sales   \n",
       "1                            NaN  2023-10-03 08:08:00  Product Management   \n",
       "2  2024-03-14 10:18:00.000000000  2024-03-13 10:18:00               Sales   \n",
       "3  2023-06-20 17:32:56.784775309  2023-06-18 17:21:00               Sales   \n",
       "4  2023-10-06 04:31:00.000000000  2023-10-05 04:31:00    Customer Support   \n",
       "\n",
       "       state       category                     short_description  \\\n",
       "0    Pending       Services  Provision of Services for iPod touch   \n",
       "1  Submitted         Assets  Asset assignment for new Dell Laptop   \n",
       "2  Processed  Miscellaneous      Miscellaneous hardware component   \n",
       "3  Processed         Assets      Dell OptiPlex 7050 Desktop Asset   \n",
       "4  Processed       Services        Deployed service-related asset   \n",
       "\n",
       "                               ci  \n",
       "0                    ISP Services  \n",
       "1                     Dell XPS 13  \n",
       "2  Random Access Memory Component  \n",
       "3                   OptiPlex 7050  \n",
       "4          Cloud Database Service  "
      ]
     },
     "execution_count": 2,
     "metadata": {},
     "output_type": "execute_result"
    }
   ],
   "source": [
    "dataset_path = \"csvs/flag-19.csv\"\n",
    "flag_data = pd.read_csv(dataset_path)\n",
    "df = pd.read_csv(dataset_path)\n",
    "flag_data.head()\n"
   ]
  },
  {
   "cell_type": "markdown",
   "metadata": {},
   "source": [
    "### **Question 1: Which departments have higher proportions of expense rejections compared to the organizational average?**"
   ]
  },
  {
   "cell_type": "markdown",
   "metadata": {},
   "source": [
    "#### Plot proportion of declined expenses by department\n",
    "This visualization displays a bar plot representing the proportion of expense submissions that were declined within each department. The red bars indicate the percentage of rejections relative to total expenses processed per department. This analysis is crucial for identifying departments that may require additional training on expense reporting procedures etc."
   ]
  },
  {
   "cell_type": "code",
   "execution_count": 3,
   "metadata": {
    "execution": {
     "iopub.execute_input": "2024-10-25T19:56:02.101777Z",
     "iopub.status.busy": "2024-10-25T19:56:02.101228Z",
     "iopub.status.idle": "2024-10-25T19:56:02.852082Z",
     "shell.execute_reply": "2024-10-25T19:56:02.849498Z"
    }
   },
   "outputs": [
    {
     "data": {
      "image/png": "[encoded data removed]",
      "text/plain": [
       "<Figure size 864x576 with 1 Axes>"
      ]
     },
     "metadata": {
      "needs_background": "light"
     },
     "output_type": "display_data"
    }
   ],
   "source": [
    "import matplotlib.pyplot as plt\n",
    "\n",
    "# Group the data by department and state and count occurrences\n",
    "department_state_counts = flag_data.groupby(['department', 'state']).size().unstack(fill_value=0)\n",
    "\n",
    "# Calculate proportions of each state within each department\n",
    "department_state_proportions = department_state_counts.div(department_state_counts.sum(axis=1), axis=0)\n",
    "\n",
    "# Plot the data, focusing only on the 'Declined' state\n",
    "fig, ax = plt.subplots(figsize=(12, 8))\n",
    "department_state_proportions['Declined'].plot(kind='bar', color='red', ax=ax)\n",
    "\n",
    "# Add titles and labels\n",
    "ax.set_title('Proportion of Declined Expenses by Department', fontsize=16)\n",
    "ax.set_xlabel('Department', fontsize=14)\n",
    "ax.set_ylabel('Proportion of Declined', fontsize=14)\n",
    "ax.set_ylim(0, 1)  # Set y-axis limit to show proportions from 0 to 1\n",
    "\n",
    "# Show grid\n",
    "ax.grid(True)\n",
    "\n",
    "# Rotate the x-axis labels for better readability\n",
    "plt.xticks(rotation=45)\n",
    "plt.tight_layout()  # Adjust layout to not cut off labels\n",
    "\n",
    "# Adding numeric labels on top of the bars\n",
    "for p in ax.patches:\n",
    "    ax.annotate(f\"{p.get_height():.2f}\", (p.get_x() + p.get_width() / 2., p.get_height()), \n",
    "                ha='center', va='center', xytext=(0, 10), textcoords='offset points')\n",
    "\n",
    "# Show the plot\n",
    "plt.show()\n"
   ]
  },
  {
   "cell_type": "markdown",
   "metadata": {},
   "source": [
    "#### Generate JSON Description for the Insight"
   ]
  },
  {
   "cell_type": "code",
   "execution_count": 4,
   "metadata": {
    "execution": {
     "iopub.execute_input": "2024-10-25T19:56:02.865501Z",
     "iopub.status.busy": "2024-10-25T19:56:02.864917Z",
     "iopub.status.idle": "2024-10-25T19:56:02.889230Z",
     "shell.execute_reply": "2024-10-25T19:56:02.887222Z"
    }
   },
   "outputs": [
    {
     "data": {
      "text/plain": [
       "{'data_type': 'descriptive',\n",
       " 'insight': 'There is a significant variance in Expense Rejection Rates across departments',\n",
       " 'insight_value': {'description': 'The IT department exhibits a notably higher proportion of expense rejections compared to other departments with 44%, indicating potential issues with budget compliance or policy understanding.'},\n",
       " 'plot': {'plot_type': 'bar',\n",
       "  'title': 'Proportion of Declined Expenses by Department',\n",
       "  'x_axis': {'name': 'Department',\n",
       "   'value': ['IT',\n",
       "    'HR',\n",
       "    'Finance',\n",
       "    'Customer Support',\n",
       "    'Development',\n",
       "    'Sales',\n",
       "    'Product Management'],\n",
       "   'description': 'This axis categorizes expenses based on department affiliation.'},\n",
       "  'y_axis': {'name': 'Proportion of Declined',\n",
       "   'value': {'IT': '0.44',\n",
       "    'HR': '0.14',\n",
       "    'Finance': '0.09',\n",
       "    'Customer Support': '0.06',\n",
       "    'Development': '0.05',\n",
       "    'Sales': '0.05',\n",
       "    'Product Management': '0.00'},\n",
       "   'description': 'This axis displays the proportion of expenses declined within each department, highlighting the higher rejection rates particularly in the IT department.'},\n",
       "  'description': \"The bar chart illustrates the discrepancies in expense rejection rates among departments, with IT facing the highest rejection rate at 44%. This outlier suggests a specific challenge within the IT department's expense management process that requires immediate attention to improve compliance and understanding of financial policies.\"},\n",
       " 'question': 'Which departments have higher proportions of expense rejections compared to the organizational average?',\n",
       " 'actionable_insight': \"Given the high rejection rates in the IT department, a targeted review of expense submission procedures and training on policy compliance is recommended. This action should aim to align IT's expense management practices with organizational standards and reduce the high rate of declined expenses. Additionally, understanding the root causes of these rejections could inform broader improvements in expense processing protocols across the organization.\"}"
      ]
     },
     "execution_count": 4,
     "metadata": {},
     "output_type": "execute_result"
    }
   ],
   "source": [
    "{\n",
    "    \"data_type\": \"descriptive\",\n",
    "    \"insight\": \"There is a significant variance in Expense Rejection Rates across departments\",\n",
    "    \"insight_value\": {\n",
    "        \"description\": \"The IT department exhibits a notably higher proportion of expense rejections compared to other departments with 44%, indicating potential issues with budget compliance or policy understanding.\"\n",
    "    },\n",
    "    \"plot\": {\n",
    "        \"plot_type\": \"bar\",\n",
    "        \"title\": \"Proportion of Declined Expenses by Department\",\n",
    "        \"x_axis\": {\n",
    "            \"name\": \"Department\",\n",
    "            \"value\": [\"IT\", \"HR\", \"Finance\", \"Customer Support\", \"Development\", \"Sales\", \"Product Management\"],\n",
    "            \"description\": \"This axis categorizes expenses based on department affiliation.\"\n",
    "        },\n",
    "        \"y_axis\": {\n",
    "            \"name\": \"Proportion of Declined\",\n",
    "            \"value\": {\n",
    "                \"IT\": \"0.44\",\n",
    "                \"HR\": \"0.14\",\n",
    "                \"Finance\": \"0.09\",\n",
    "                \"Customer Support\": \"0.06\",\n",
    "                \"Development\": \"0.05\",\n",
    "                \"Sales\": \"0.05\",\n",
    "                \"Product Management\": \"0.00\"\n",
    "            },\n",
    "            \"description\": \"This axis displays the proportion of expenses declined within each department, highlighting the higher rejection rates particularly in the IT department.\"\n",
    "        },\n",
    "        \"description\": \"The bar chart illustrates the discrepancies in expense rejection rates among departments, with IT facing the highest rejection rate at 44%. This outlier suggests a specific challenge within the IT department's expense management process that requires immediate attention to improve compliance and understanding of financial policies.\"\n",
    "    },\n",
    "    \"question\": \"Which departments have higher proportions of expense rejections compared to the organizational average?\",\n",
    "    \"actionable_insight\": \"Given the high rejection rates in the IT department, a targeted review of expense submission procedures and training on policy compliance is recommended. This action should aim to align IT's expense management practices with organizational standards and reduce the high rate of declined expenses. Additionally, understanding the root causes of these rejections could inform broader improvements in expense processing protocols across the organization.\"\n",
    "}\n"
   ]
  },
  {
   "cell_type": "markdown",
   "metadata": {},
   "source": [
    "### **Question 2:  What is the distribution of Expense Reports by Department?**\n"
   ]
  },
  {
   "cell_type": "markdown",
   "metadata": {},
   "source": [
    "#### Plot number of expense reports by department\n",
    "This cell visualizes the distribution of expense reports across different departments using a bar plot. Each blue bar represents the total number of expense reports submitted by a particular department. This plot is essential for assessing the volume of financial transactions handled by each department and identifying which departments are more active in submitting expenses."
   ]
  },
  {
   "cell_type": "code",
   "execution_count": 5,
   "metadata": {
    "execution": {
     "iopub.execute_input": "2024-10-25T19:56:02.905759Z",
     "iopub.status.busy": "2024-10-25T19:56:02.905191Z",
     "iopub.status.idle": "2024-10-25T19:56:03.536994Z",
     "shell.execute_reply": "2024-10-25T19:56:03.534975Z"
    }
   },
   "outputs": [
    {
     "data": {
      "image/png": "[encoded data removed]",
      "text/plain": [
       "<Figure size 864x576 with 1 Axes>"
      ]
     },
     "metadata": {
      "needs_background": "light"
     },
     "output_type": "display_data"
    }
   ],
   "source": [
    "import matplotlib.pyplot as plt\n",
    "\n",
    "# Count the number of expense reports per department\n",
    "department_counts = flag_data['department'].value_counts()\n",
    "\n",
    "# Plot the data\n",
    "fig, ax = plt.subplots(figsize=(12, 8))\n",
    "department_counts.plot(kind='bar', color='skyblue', ax=ax)\n",
    "\n",
    "# Add titles and labels\n",
    "ax.set_title('Number of Expense Reports by Department', fontsize=16)\n",
    "ax.set_xlabel('Department', fontsize=14)\n",
    "ax.set_ylabel('Number of Expense Reports', fontsize=14)\n",
    "\n",
    "# Show grid\n",
    "ax.grid(axis='y')  # Only horizontal grid lines for readability\n",
    "\n",
    "# Rotate the x-axis labels for better readability\n",
    "plt.xticks(rotation=45)\n",
    "plt.tight_layout()  # Adjust layout to not cut off labels\n",
    "\n",
    "# Adding numeric labels on top of the bars for clarity\n",
    "for p in ax.patches:\n",
    "    ax.annotate(f\"{int(p.get_height())}\", (p.get_x() + p.get_width() / 2., p.get_height()),\n",
    "                ha='center', va='bottom', xytext=(0, 10), textcoords='offset points')\n",
    "\n",
    "# Show the plot\n",
    "plt.show()"
   ]
  },
  {
   "cell_type": "markdown",
   "metadata": {},
   "source": [
    "#### Generate JSON Description for the Insight"
   ]
  },
  {
   "cell_type": "code",
   "execution_count": 6,
   "metadata": {
    "execution": {
     "iopub.execute_input": "2024-10-25T19:56:03.550592Z",
     "iopub.status.busy": "2024-10-25T19:56:03.550077Z",
     "iopub.status.idle": "2024-10-25T19:56:03.574895Z",
     "shell.execute_reply": "2024-10-25T19:56:03.572560Z"
    }
   },
   "outputs": [
    {
     "data": {
      "text/plain": [
       "{'data_type': 'descriptive',\n",
       " 'insight': 'There is no correlation between the number of expense reports submitted and rejection rates',\n",
       " 'insight_value': {'description': 'Despite having a lower volume of expense submissions, the IT department has the highest rejection rate, while departments with higher submission volumes like Customer Support exhibit lower rejection rates.'},\n",
       " 'plot': {'plot_type': 'bar',\n",
       "  'title': 'Distribution of Expense Reports by Department',\n",
       "  'x_axis': {'name': 'Department',\n",
       "   'value': ['Customer Support',\n",
       "    'Sales',\n",
       "    'IT',\n",
       "    'Finance',\n",
       "    'Development',\n",
       "    'HR',\n",
       "    'Product Management'],\n",
       "   'description': 'This axis categorizes expenses based on department affiliation.'},\n",
       "  'y_axis': {'name': 'Number of Expense Reports',\n",
       "   'value': {'Customer Support': '267',\n",
       "    'Sales': '122',\n",
       "    'IT': '43',\n",
       "    'Finance': '22',\n",
       "    'Development': '20',\n",
       "    'HR': '14',\n",
       "    'Product Management': '12'},\n",
       "   'description': 'This axis displays the number of expense reports submitted by each department, revealing that Customer Support submits the most, while IT, despite its high rejection rate, submits far fewer.'},\n",
       "  'description': 'The bar chart vividly illustrates the number of expense reports submitted by each department. The data highlight that the volume of submissions does not correlate with the proportion of rejections, as seen with the IT department, which submits fewer reports but faces a high rate of rejections.'},\n",
       " 'question': 'What is the distribution of Expense Reports by Department?',\n",
       " 'actionable_insight': \"This discrepancy in rejection rates despite lower submission volumes suggests underlying issues in IT’s expense reporting process or stricter scrutiny of their reports. It would be prudent to conduct a detailed review of the IT department's submissions to understand the reasons behind the high rejection rates. Efforts should be focused on aligning IT’s expense reporting practices with those departments exhibiting high compliance and low rejection rates, like Customer Support, to reduce unnecessary financial discrepancies and improve procedural compliance.\"}"
      ]
     },
     "execution_count": 6,
     "metadata": {},
     "output_type": "execute_result"
    }
   ],
   "source": [
    "{\n",
    "    \"data_type\": \"descriptive\",\n",
    "    \"insight\": \"There is no correlation between the number of expense reports submitted and rejection rates\",\n",
    "    \"insight_value\": {\n",
    "        \"description\": \"Despite having a lower volume of expense submissions, the IT department has the highest rejection rate, while departments with higher submission volumes like Customer Support exhibit lower rejection rates.\"\n",
    "    },\n",
    "    \"plot\": {\n",
    "        \"plot_type\": \"bar\",\n",
    "        \"title\": \"Distribution of Expense Reports by Department\",\n",
    "        \"x_axis\": {\n",
    "            \"name\": \"Department\",\n",
    "            \"value\": [\"Customer Support\", \"Sales\", \"IT\", \"Finance\", \"Development\", \"HR\", \"Product Management\"],\n",
    "            \"description\": \"This axis categorizes expenses based on department affiliation.\"\n",
    "        },\n",
    "        \"y_axis\": {\n",
    "            \"name\": \"Number of Expense Reports\",\n",
    "            \"value\": {\n",
    "                \"Customer Support\": \"267\",\n",
    "                \"Sales\": \"122\",\n",
    "                \"IT\": \"43\",\n",
    "                \"Finance\": \"22\",\n",
    "                \"Development\": \"20\",\n",
    "                \"HR\": \"14\",\n",
    "                \"Product Management\": \"12\"\n",
    "            },\n",
    "            \"description\": \"This axis displays the number of expense reports submitted by each department, revealing that Customer Support submits the most, while IT, despite its high rejection rate, submits far fewer.\"\n",
    "        },\n",
    "        \"description\": \"The bar chart vividly illustrates the number of expense reports submitted by each department. The data highlight that the volume of submissions does not correlate with the proportion of rejections, as seen with the IT department, which submits fewer reports but faces a high rate of rejections.\"\n",
    "    },\n",
    "    \"question\": \"What is the distribution of Expense Reports by Department?\",\n",
    "    \"actionable_insight\": \"This discrepancy in rejection rates despite lower submission volumes suggests underlying issues in IT’s expense reporting process or stricter scrutiny of their reports. It would be prudent to conduct a detailed review of the IT department's submissions to understand the reasons behind the high rejection rates. Efforts should be focused on aligning IT’s expense reporting practices with those departments exhibiting high compliance and low rejection rates, like Customer Support, to reduce unnecessary financial discrepancies and improve procedural compliance.\"\n",
    "}\n"
   ]
  },
  {
   "cell_type": "markdown",
   "metadata": {},
   "source": [
    "### **Question 3:  Is there any specific user within the IT department with most declined requests, or is the trend more or less uniform across the department?**\n"
   ]
  },
  {
   "cell_type": "markdown",
   "metadata": {},
   "source": [
    "#### Plot number of declined expense reports by user in the IT Department\n",
    "This cell generates a bar plot to visualize the number of declined expense reports by individual users within the IT department. Each bar represents a specific user and the count of their expense reports that have been declined."
   ]
  },
  {
   "cell_type": "code",
   "execution_count": 7,
   "metadata": {
    "execution": {
     "iopub.execute_input": "2024-10-25T19:56:03.584586Z",
     "iopub.status.busy": "2024-10-25T19:56:03.584044Z",
     "iopub.status.idle": "2024-10-25T19:56:04.198855Z",
     "shell.execute_reply": "2024-10-25T19:56:04.196092Z"
    }
   },
   "outputs": [
    {
     "data": {
      "image/png": "[encoded data removed]",
      "text/plain": [
       "<Figure size 864x576 with 1 Axes>"
      ]
     },
     "metadata": {
      "needs_background": "light"
     },
     "output_type": "display_data"
    }
   ],
   "source": [
    "import matplotlib.pyplot as plt\n",
    "import pandas as pd\n",
    "\n",
    "# Assuming 'flag_data' is your DataFrame with the expense report data\n",
    "# Filter the data to include only IT department and declined expenses\n",
    "it_expenses = flag_data[(flag_data['department'] == 'IT') & (flag_data['state'] == 'Declined')]\n",
    "\n",
    "# Count occurrences of declined reports by each user in the IT department\n",
    "user_declined_counts = it_expenses.groupby('user').size().sort_values(ascending=False)\n",
    "\n",
    "# Create a bar plot of the counts\n",
    "fig, ax = plt.subplots(figsize=(12, 8))\n",
    "user_declined_counts.plot(kind='bar', color='crimson', ax=ax)\n",
    "\n",
    "# Add titles and labels\n",
    "ax.set_title('Number of Declined Expense Reports by User in IT Department', fontsize=16)\n",
    "ax.set_xlabel('User', fontsize=14)\n",
    "ax.set_ylabel('Number of Declined Reports', fontsize=14)\n",
    "\n",
    "# Show grid\n",
    "ax.grid(True)\n",
    "\n",
    "# Rotate the x-axis labels for better readability\n",
    "plt.xticks(rotation=45)\n",
    "plt.tight_layout()  # Adjust layout to not cut off labels\n",
    "\n",
    "# Show the plot\n",
    "plt.show()\n"
   ]
  },
  {
   "cell_type": "markdown",
   "metadata": {},
   "source": [
    "#### Generate JSON Description for the Insight"
   ]
  },
  {
   "cell_type": "code",
   "execution_count": 8,
   "metadata": {
    "execution": {
     "iopub.execute_input": "2024-10-25T19:56:04.216083Z",
     "iopub.status.busy": "2024-10-25T19:56:04.215498Z",
     "iopub.status.idle": "2024-10-25T19:56:04.241572Z",
     "shell.execute_reply": "2024-10-25T19:56:04.237692Z"
    }
   },
   "outputs": [
    {
     "data": {
      "text/plain": [
       "{'data_type': 'diagnostic',\n",
       " 'insight': 'There is a concentration of Declined Expenses among specific users in IT Department',\n",
       " 'insight_value': {'description': 'Helene Iberg and Vernon Engelman each have 7 declined expense requests, significantly higher compared to other IT department members who have atleast one rejection, indicating potential issues with how expenses are submitted or understood by these individuals and the whole department.'},\n",
       " 'plot': {'plot_type': 'bar',\n",
       "  'title': 'Number of Declined Expense Reports by User in IT Department',\n",
       "  'x_axis': {'name': 'User',\n",
       "   'value': ['Helene Iberg', 'Vernon Engelman', 'Other Members'],\n",
       "   'description': 'This axis categorizes users within the IT department based on the number of their declined expense reports.'},\n",
       "  'y_axis': {'name': 'Number of Declined Reports',\n",
       "   'value': 'Count of Declined Reports',\n",
       "   'description': 'This axis displays the count of declined expense reports for each user, with specific focus on those with the highest numbers.'},\n",
       "  'description': 'The bar chart illustrates that while most IT department members have at least one declined expense report, Helene Iberg and Vernon Engelman stand out with seven each. This suggests a specific issue with the expense reporting practices of these two individuals.'},\n",
       " 'question': 'Is there any specific user within the IT department with most declined requests, or is the trend more or less uniform across the department?',\n",
       " 'actionable_insight': \"To address the high number of declined requests by Helene Iberg and Vernon Engelman, it is prescriptive to conduct a detailed review of the expense reporting guidelines and training provided to the IT department. Focusing specifically on the submission errors or misunderstandings by these users could lead to improved compliance and fewer rejections. Additionally, implementing a mentoring or peer review system for expense submissions within the IT department could help in reducing errors and ensuring better adherence to the company's reimbursement policies.\"}"
      ]
     },
     "execution_count": 8,
     "metadata": {},
     "output_type": "execute_result"
    }
   ],
   "source": [
    "{\n",
    "    \"data_type\": \"diagnostic\",\n",
    "    \"insight\": \"There is a concentration of Declined Expenses among specific users in IT Department\",\n",
    "    \"insight_value\": {\n",
    "        \"description\": \"Helene Iberg and Vernon Engelman each have 7 declined expense requests, significantly higher compared to other IT department members who have atleast one rejection, indicating potential issues with how expenses are submitted or understood by these individuals and the whole department.\"\n",
    "    },\n",
    "    \"plot\": {\n",
    "        \"plot_type\": \"bar\",\n",
    "        \"title\": \"Number of Declined Expense Reports by User in IT Department\",\n",
    "        \"x_axis\": {\n",
    "            \"name\": \"User\",\n",
    "            \"value\": [\"Helene Iberg\", \"Vernon Engelman\", \"Other Members\"],\n",
    "            \"description\": \"This axis categorizes users within the IT department based on the number of their declined expense reports.\"\n",
    "        },\n",
    "        \"y_axis\": {\n",
    "            \"name\": \"Number of Declined Reports\",\n",
    "            \"value\": \"Count of Declined Reports\",\n",
    "            \"description\": \"This axis displays the count of declined expense reports for each user, with specific focus on those with the highest numbers.\"\n",
    "        },\n",
    "        \"description\": \"The bar chart illustrates that while most IT department members have at least one declined expense report, Helene Iberg and Vernon Engelman stand out with seven each. This suggests a specific issue with the expense reporting practices of these two individuals.\"\n",
    "    },\n",
    "    \"question\": \"Is there any specific user within the IT department with most declined requests, or is the trend more or less uniform across the department?\",\n",
    "    \"actionable_insight\": \"To address the high number of declined requests by Helene Iberg and Vernon Engelman, it is prescriptive to conduct a detailed review of the expense reporting guidelines and training provided to the IT department. Focusing specifically on the submission errors or misunderstandings by these users could lead to improved compliance and fewer rejections. Additionally, implementing a mentoring or peer review system for expense submissions within the IT department could help in reducing errors and ensuring better adherence to the company's reimbursement policies.\"\n",
    "}\n"
   ]
  },
  {
   "cell_type": "markdown",
   "metadata": {},
   "source": [
    "### **Question 4: How to prevent or avoid future declinations in this scenario?**\n"
   ]
  },
  {
   "cell_type": "markdown",
   "metadata": {},
   "source": [
    "\"Immediate Training\": \"Organize targeted training sessions for all IT department employees, with a special focus on those who have had high rejection rates. These sessions should cover best practices for expense report submissions, including detailed explanations of allowable expenses and required documentation.\"\n",
    "\n",
    "\"Enhanced Review Process\": \"Implement a pre-submission review process where expense reports, particularly those from individuals with past declinations, are preliminarily reviewed by a finance team member or a designated mentor within the IT department before official submission.\"\n",
    "\n",
    "\"Policy Updates and Communication\": \"Regularly update and communicate any changes in expense policies to all employees. Ensure that these updates are clearly understood by conducting interactive Q&A sessions and providing accessible reference materials.\""
   ]
  },
  {
   "cell_type": "markdown",
   "metadata": {},
   "source": [
    "### Summary of Findings (Flag 19):\n",
    "\n",
    "1. **Expense Approval Trends**: This dataset provides an in-depth look at the patterns of expense rejections across various departments, which will be analyzed to uncover possible inconsistencies in budget compliance or policy adherence.\n",
    "   \n",
    "2. **Departmental Disparities**: It specifically focuses on identifying the departments that frequently encounter a higher proportion of expense rejections, suggesting potential issues in the understanding or application of financial management policies.\n",
    "   \n",
    "3. **Process Optimization**: The analysis aims to explore underlying factors that contribute to these discrepancies, offering insights that could help in refining expense approval processes and training programs."
   ]
  }
 ],
 "metadata": {
  "kernelspec": {
   "display_name": "stardoc",
   "language": "python",
   "name": "python3"
  },
  "language_info": {
   "codemirror_mode": {
    "name": "ipython",
    "version": 3
   },
   "file_extension": ".py",
   "mimetype": "text/x-python",
   "name": "python",
   "nbconvert_exporter": "python",
   "pygments_lexer": "ipython3",
   "version": "3.8.5"
  }
 },
 "nbformat": 4,
 "nbformat_minor": 2
}

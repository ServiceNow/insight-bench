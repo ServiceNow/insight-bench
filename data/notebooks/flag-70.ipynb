{
 "cells": [
  {
   "cell_type": "markdown",
   "metadata": {},
   "source": [
    "## Expense Claim Patterns and Fraud Analysis (Flag 70)\n",
    "\n",
    "### Dataset Description\n",
    "The dataset consists of 500 entries simulating ServiceNow fm_expense_line table, which records various attributes of financial expenses. Key fields include 'number', 'opened_at', 'amount', 'state', 'short_description', 'ci', 'user', 'department', 'category', 'process_date', 'source_id', and 'type'. This table documents the flow of financial transactions by detailing the amount, departmental allocation, and the nature of each expense. Provides a clear view of organizational expenditures across different categories, highlighting both the timing and the approval state of each financial entry.\n",
    "\n",
    "### Your Task\n",
    "**Goal**: To detect and investigate instances of repeated identical expense claims by individual users, determining whether these repetitions are fraudulent or due to misunderstandings of the expense policy.\n",
    "\n",
    "**Role**: Compliance and Audit Analyst\n",
    "\n",
    "**Difficulty**: 3 out of 5.\n",
    "\n",
    "**Category**: Finance Management\n"
   ]
  },
  {
   "cell_type": "markdown",
   "metadata": {},
   "source": [
    "### Import Necessary Libraries\n",
    "This cell imports all necessary libraries required for the analysis. This includes libraries for data manipulation, data visualization, and any specific utilities needed for the tasks. "
   ]
  },
  {
   "cell_type": "code",
   "execution_count": 4,
   "metadata": {
    "execution": {
     "iopub.execute_input": "2024-10-29T17:16:08.043509Z",
     "iopub.status.busy": "2024-10-29T17:16:08.041855Z",
     "iopub.status.idle": "2024-10-29T17:16:13.972295Z",
     "shell.execute_reply": "2024-10-29T17:16:13.968706Z"
    }
   },
   "outputs": [],
   "source": [
    "import argparse\n",
    "import pandas as pd\n",
    "import json\n",
    "import requests\n",
    "import matplotlib.pyplot as plt\n",
    "import numpy as np\n",
    "import seaborn as sns\n",
    "\n",
    "from openai import OpenAI\n",
    "from pandas import date_range\n",
    "\n"
   ]
  },
  {
   "cell_type": "markdown",
   "metadata": {},
   "source": [
    "### Load Dataset\n",
    "This cell loads the expense dataset to be analyzed. The data is orginally saved in the from a CSV file, and is here imported into a DataFrame. The steps involve specifying the path to the dataset, using pandas to read the file, and confirming its successful load by inspecting the first few table entries."
   ]
  },
  {
   "cell_type": "code",
   "execution_count": 5,
   "metadata": {
    "execution": {
     "iopub.execute_input": "2024-10-29T17:16:13.990946Z",
     "iopub.status.busy": "2024-10-29T17:16:13.988964Z",
     "iopub.status.idle": "2024-10-29T17:16:14.068497Z",
     "shell.execute_reply": "2024-10-29T17:16:14.066827Z"
    }
   },
   "outputs": [
    {
     "data": {
      "text/html": [
       "<div>\n",
       "<style scoped>\n",
       "    .dataframe tbody tr th:only-of-type {\n",
       "        vertical-align: middle;\n",
       "    }\n",
       "\n",
       "    .dataframe tbody tr th {\n",
       "        vertical-align: top;\n",
       "    }\n",
       "\n",
       "    .dataframe thead th {\n",
       "        text-align: right;\n",
       "    }\n",
       "</style>\n",
       "<table border=\"1\" class=\"dataframe\">\n",
       "  <thead>\n",
       "    <tr style=\"text-align: right;\">\n",
       "      <th></th>\n",
       "      <th>source_id</th>\n",
       "      <th>department</th>\n",
       "      <th>number</th>\n",
       "      <th>amount</th>\n",
       "      <th>category</th>\n",
       "      <th>state</th>\n",
       "      <th>processed_date</th>\n",
       "      <th>type</th>\n",
       "      <th>user</th>\n",
       "      <th>opened_at</th>\n",
       "      <th>short_description</th>\n",
       "      <th>ci</th>\n",
       "    </tr>\n",
       "  </thead>\n",
       "  <tbody>\n",
       "    <tr>\n",
       "      <th>0</th>\n",
       "      <td>QPK-03664835</td>\n",
       "      <td>Customer Support</td>\n",
       "      <td>EXP00000000</td>\n",
       "      <td>6240</td>\n",
       "      <td>Assets</td>\n",
       "      <td>Processed</td>\n",
       "      <td>2023-07-18 12:03:00.000000000</td>\n",
       "      <td>NaN</td>\n",
       "      <td>Helena Suermann</td>\n",
       "      <td>2023-07-17 12:03:00</td>\n",
       "      <td>Acquisition of new server hardware</td>\n",
       "      <td>IBM System x3550 M5</td>\n",
       "    </tr>\n",
       "    <tr>\n",
       "      <th>1</th>\n",
       "      <td>NaN</td>\n",
       "      <td>IT</td>\n",
       "      <td>EXP00000001</td>\n",
       "      <td>5947</td>\n",
       "      <td>Travel</td>\n",
       "      <td>Declined</td>\n",
       "      <td>NaN</td>\n",
       "      <td>NaN</td>\n",
       "      <td>Sadie Rowlett</td>\n",
       "      <td>2023-04-25 19:51:00</td>\n",
       "      <td>Travel equipment asset registration</td>\n",
       "      <td>Travel Kit 01</td>\n",
       "    </tr>\n",
       "    <tr>\n",
       "      <th>2</th>\n",
       "      <td>NaN</td>\n",
       "      <td>Sales</td>\n",
       "      <td>EXP00000002</td>\n",
       "      <td>2253</td>\n",
       "      <td>Miscellaneous</td>\n",
       "      <td>Declined</td>\n",
       "      <td>NaN</td>\n",
       "      <td>NaN</td>\n",
       "      <td>Nadia Wilshire</td>\n",
       "      <td>2023-05-03 02:19:00</td>\n",
       "      <td>Miscellaneous asset configuration item</td>\n",
       "      <td>Firewall FortiGate 50E</td>\n",
       "    </tr>\n",
       "    <tr>\n",
       "      <th>3</th>\n",
       "      <td>NaN</td>\n",
       "      <td>Sales</td>\n",
       "      <td>EXP00000003</td>\n",
       "      <td>2336</td>\n",
       "      <td>Miscellaneous</td>\n",
       "      <td>Processed</td>\n",
       "      <td>2023-04-22 07:45:28.895988932</td>\n",
       "      <td>NaN</td>\n",
       "      <td>Savannah Loffier</td>\n",
       "      <td>2023-04-11 04:45:00</td>\n",
       "      <td>Miscellaneous hardware asset creation</td>\n",
       "      <td>Desktop PC Dell Optiplex 3060</td>\n",
       "    </tr>\n",
       "    <tr>\n",
       "      <th>4</th>\n",
       "      <td>RKY-84503313</td>\n",
       "      <td>Finance</td>\n",
       "      <td>EXP00000004</td>\n",
       "      <td>6348</td>\n",
       "      <td>Assets</td>\n",
       "      <td>Declined</td>\n",
       "      <td>NaN</td>\n",
       "      <td>NaN</td>\n",
       "      <td>Germaine Bruski</td>\n",
       "      <td>2023-08-01 11:06:00</td>\n",
       "      <td>Asset Registration for New Hardware</td>\n",
       "      <td>Dell Latitude Laptop 5500</td>\n",
       "    </tr>\n",
       "  </tbody>\n",
       "</table>\n",
       "</div>"
      ],
      "text/plain": [
       "      source_id        department       number  amount       category  \\\n",
       "0  QPK-03664835  Customer Support  EXP00000000    6240         Assets   \n",
       "1           NaN                IT  EXP00000001    5947         Travel   \n",
       "2           NaN             Sales  EXP00000002    2253  Miscellaneous   \n",
       "3           NaN             Sales  EXP00000003    2336  Miscellaneous   \n",
       "4  RKY-84503313           Finance  EXP00000004    6348         Assets   \n",
       "\n",
       "       state                 processed_date  type              user  \\\n",
       "0  Processed  2023-07-18 12:03:00.000000000   NaN   Helena Suermann   \n",
       "1   Declined                            NaN   NaN     Sadie Rowlett   \n",
       "2   Declined                            NaN   NaN    Nadia Wilshire   \n",
       "3  Processed  2023-04-22 07:45:28.895988932   NaN  Savannah Loffier   \n",
       "4   Declined                            NaN   NaN   Germaine Bruski   \n",
       "\n",
       "             opened_at                       short_description  \\\n",
       "0  2023-07-17 12:03:00      Acquisition of new server hardware   \n",
       "1  2023-04-25 19:51:00     Travel equipment asset registration   \n",
       "2  2023-05-03 02:19:00  Miscellaneous asset configuration item   \n",
       "3  2023-04-11 04:45:00   Miscellaneous hardware asset creation   \n",
       "4  2023-08-01 11:06:00     Asset Registration for New Hardware   \n",
       "\n",
       "                              ci  \n",
       "0            IBM System x3550 M5  \n",
       "1                  Travel Kit 01  \n",
       "2         Firewall FortiGate 50E  \n",
       "3  Desktop PC Dell Optiplex 3060  \n",
       "4      Dell Latitude Laptop 5500  "
      ]
     },
     "execution_count": 5,
     "metadata": {},
     "output_type": "execute_result"
    }
   ],
   "source": [
    "dataset_path = \"csvs/flag-70.csv\"\n",
    "flag_data = pd.read_csv(dataset_path)\n",
    "df = pd.read_csv(dataset_path)\n",
    "flag_data.head()"
   ]
  },
  {
   "cell_type": "markdown",
   "metadata": {},
   "source": [
    "### **Question 1:How does the processing delay (time between \"opened_at\" and \"processed_date\") vary across different departments?**"
   ]
  },
  {
   "cell_type": "markdown",
   "metadata": {},
   "source": [
    "#### Plot processing delay across departments\n",
    "This analysis explores the efficiency of different departments in handling asset-related requests by examining the time delay between the request initiation (opened_at) and the processing completion (processed_date). Understanding this delay can highlight departments that might benefit from improved workflows for faster processing of requests or asset approvals."
   ]
  },
  {
   "cell_type": "code",
   "execution_count": 6,
   "metadata": {
    "execution": {
     "iopub.execute_input": "2024-10-29T17:16:14.084652Z",
     "iopub.status.busy": "2024-10-29T17:16:14.084030Z",
     "iopub.status.idle": "2024-10-29T17:16:14.663589Z",
     "shell.execute_reply": "2024-10-29T17:16:14.661974Z"
    }
   },
   "outputs": [
    {
     "data": {
      "image/png": "[encoded data removed]",
      "text/plain": [
       "<Figure size 720x432 with 1 Axes>"
      ]
     },
     "metadata": {
      "needs_background": "light"
     },
     "output_type": "display_data"
    }
   ],
   "source": [
    "import matplotlib.pyplot as plt\n",
    "import pandas as pd\n",
    "\n",
    "# Load and prepare data\n",
    "data = pd.read_csv(\"csvs/flag-70.csv\")\n",
    "data[\"opened_at\"] = pd.to_datetime(data[\"opened_at\"], errors=\"coerce\")\n",
    "data[\"processed_date\"] = pd.to_datetime(data[\"processed_date\"], errors=\"coerce\")\n",
    "\n",
    "# Calculate the processing delay in days\n",
    "data[\"processing_delay\"] = (data[\"processed_date\"] - data[\"opened_at\"]).dt.days\n",
    "\n",
    "# Drop rows with missing values in 'processing_delay' for better analysis\n",
    "processed_data = data.dropna(subset=[\"processing_delay\"])\n",
    "\n",
    "# Group by department and calculate average processing delay\n",
    "department_delay = (\n",
    "    processed_data.groupby(\"department\")[\"processing_delay\"].mean().sort_values()\n",
    ")\n",
    "\n",
    "# Plotting\n",
    "plt.figure(figsize=(10, 6))\n",
    "department_delay.plot(kind=\"barh\", color=\"skyblue\", edgecolor=\"black\")\n",
    "plt.title(\"Average Processing Delay by Department\")\n",
    "plt.xlabel(\"Average Processing Delay (days)\")\n",
    "plt.ylabel(\"Department\")\n",
    "plt.grid(axis=\"x\", linestyle=\"--\", alpha=0.7)\n",
    "\n",
    "plt.show()"
   ]
  },
  {
   "cell_type": "markdown",
   "metadata": {},
   "source": [
    "#### Generate JSON Description for the Insight"
   ]
  },
  {
   "cell_type": "code",
   "execution_count": 7,
   "metadata": {
    "execution": {
     "iopub.execute_input": "2024-10-29T17:16:14.680272Z",
     "iopub.status.busy": "2024-10-29T17:16:14.679669Z",
     "iopub.status.idle": "2024-10-29T17:16:14.707198Z",
     "shell.execute_reply": "2024-10-29T17:16:14.705644Z"
    }
   },
   "outputs": [
    {
     "data": {
      "text/plain": [
       "{'data_type': 'comparative',\n",
       " 'insight': 'Processing delays vary significantly across departments, with some departments handling requests faster on average than others.',\n",
       " 'insight_value': {'description': \"IT processes requests the fastest with an average delay of approximately 5.2 days, whereas Finance shows the longest delay, averaging around 8.6 days. This variation highlights potential inefficiencies and areas for improvement in Finance's request handling workflow.\"},\n",
       " 'plot': {'plot_type': 'horizontal bar chart',\n",
       "  'title': 'Average Processing Delay by Department',\n",
       "  'x_axis': {'name': 'Average Processing Delay (days)',\n",
       "   'value': 'Average delay in days ranging from around 5 to 9 days across departments',\n",
       "   'description': 'This axis represents the average time taken to process requests across different departments.'},\n",
       "  'y_axis': {'name': 'Department',\n",
       "   'value': 'Departments such as IT, Sales, Development, Finance, etc.',\n",
       "   'description': 'This axis lists the departments involved in handling requests or processing assets.'},\n",
       "  'description': 'The bar chart reveals differences in processing efficiency among departments, with IT displaying the shortest average delay and Finance showing the longest. This trend could suggest differences in resource allocation, priority, or process efficiency.'},\n",
       " 'question': 'How does the processing delay vary across different departments?',\n",
       " 'actionable_insight': 'To improve overall request processing efficiency, departments like Finance could benefit from reviewing and streamlining their workflows. Departments with faster processing times, like IT, might serve as models for process improvements. Cross-departmental process standardization could be a valuable approach to reduce delays and increase overall efficiency in request handling.'}"
      ]
     },
     "execution_count": 7,
     "metadata": {},
     "output_type": "execute_result"
    }
   ],
   "source": [
    "{\n",
    "    \"data_type\": \"comparative\",\n",
    "    \"insight\": \"Processing delays vary significantly across departments, with some departments handling requests faster on average than others.\",\n",
    "    \"insight_value\": {\n",
    "        \"description\": \"IT processes requests the fastest with an average delay of approximately 5.2 days, whereas Finance shows the longest delay, averaging around 8.6 days. This variation highlights potential inefficiencies and areas for improvement in Finance's request handling workflow.\"\n",
    "    },\n",
    "    \"plot\": {\n",
    "        \"plot_type\": \"horizontal bar chart\",\n",
    "        \"title\": \"Average Processing Delay by Department\",\n",
    "        \"x_axis\": {\n",
    "            \"name\": \"Average Processing Delay (days)\",\n",
    "            \"value\": \"Average delay in days ranging from around 5 to 9 days across departments\",\n",
    "            \"description\": \"This axis represents the average time taken to process requests across different departments.\",\n",
    "        },\n",
    "        \"y_axis\": {\n",
    "            \"name\": \"Department\",\n",
    "            \"value\": \"Departments such as IT, Sales, Development, Finance, etc.\",\n",
    "            \"description\": \"This axis lists the departments involved in handling requests or processing assets.\",\n",
    "        },\n",
    "        \"description\": \"The bar chart reveals differences in processing efficiency among departments, with IT displaying the shortest average delay and Finance showing the longest. This trend could suggest differences in resource allocation, priority, or process efficiency.\",\n",
    "    },\n",
    "    \"question\": \"How does the processing delay vary across different departments?\",\n",
    "    \"actionable_insight\": \"To improve overall request processing efficiency, departments like Finance could benefit from reviewing and streamlining their workflows. Departments with faster processing times, like IT, might serve as models for process improvements. Cross-departmental process standardization could be a valuable approach to reduce delays and increase overall efficiency in request handling.\",\n",
    "}"
   ]
  },
  {
   "cell_type": "markdown",
   "metadata": {},
   "source": [
    "### **Question 2:How many instances of any repeated identical expense claims are there?**\n"
   ]
  },
  {
   "cell_type": "markdown",
   "metadata": {},
   "source": [
    "#### Frequency Distribution of Repeated Expense Claims\n",
    "\n",
    "This chart analyzes frequency of repeated identical expense claims, highlighting potential anomalies. It focuses on claims submitted by the same user, within the same category, and for the same amount. The histogram displays the distribution of these frequencies, using red bars to highlight any unusual nature of repeated claims.\n",
    "\n"
   ]
  },
  {
   "cell_type": "code",
   "execution_count": 8,
   "metadata": {
    "execution": {
     "iopub.execute_input": "2024-10-29T17:16:14.722468Z",
     "iopub.status.busy": "2024-10-29T17:16:14.721683Z",
     "iopub.status.idle": "2024-10-29T17:16:15.182377Z",
     "shell.execute_reply": "2024-10-29T17:16:15.180758Z"
    }
   },
   "outputs": [
    {
     "data": {
      "image/png": "[encoded data removed]",
      "text/plain": [
       "<Figure size 720x432 with 1 Axes>"
      ]
     },
     "metadata": {
      "needs_background": "light"
     },
     "output_type": "display_data"
    }
   ],
   "source": [
    "import matplotlib.pyplot as plt\n",
    "import pandas as pd\n",
    "\n",
    "# Group by user, category, and amount to count occurrences\n",
    "grouped_data = flag_data.groupby(['user', 'category', 'amount']).size().reset_index(name='frequency')\n",
    "\n",
    "# Filter out normal entries to focus on potential anomalies\n",
    "potential_fraud = grouped_data[grouped_data['frequency'] > 3]  # Arbitrary threshold, adjust based on your data\n",
    "\n",
    "# Plot histogram of frequencies\n",
    "plt.figure(figsize=(10, 6))\n",
    "plt.hist(potential_fraud['frequency'], bins=30, color='red', alpha=0.7)\n",
    "plt.title('Distribution of Repeated Claims Frequency')\n",
    "plt.xlabel('Frequency of Same Amount Claims by Same User in Same Category')\n",
    "plt.ylabel('Count of Such Incidents')\n",
    "plt.grid(True)\n",
    "plt.show()\n"
   ]
  },
  {
   "cell_type": "markdown",
   "metadata": {},
   "source": [
    "#### Generate JSON Description for the Insight"
   ]
  },
  {
   "cell_type": "code",
   "execution_count": 9,
   "metadata": {
    "execution": {
     "iopub.execute_input": "2024-10-29T17:16:15.199770Z",
     "iopub.status.busy": "2024-10-29T17:16:15.199173Z",
     "iopub.status.idle": "2024-10-29T17:16:15.220426Z",
     "shell.execute_reply": "2024-10-29T17:16:15.218757Z"
    }
   },
   "outputs": [
    {
     "data": {
      "text/plain": [
       "{'data_type': 'diagnostic',\n",
       " 'insight': 'There is a high incidence of repeated identical expense claims',\n",
       " 'insight_value': {'description': 'There are 100 instances where a single user has submitted identical claims with the same amount and category more than three times, which may indicate potential fraud or policy abuse within the expense management process.'},\n",
       " 'plot': {'plot_type': 'histogram',\n",
       "  'title': 'Distribution of Repeated Claims Frequency',\n",
       "  'x_axis': {'name': 'Frequency of Same Amount Claims by Same User in Same Category',\n",
       "   'value': 'Frequency ranges',\n",
       "   'description': 'This axis represents the number of times the same expense claim has been submitted by the same user for the same amount in the same category.'},\n",
       "  'y_axis': {'name': 'Count of Such Incidents',\n",
       "   'value': 'Number of occurrences',\n",
       "   'description': 'This axis counts the number of instances where repeated claims have occurred, highlighting the scale of potential repetitive claim submissions.'},\n",
       "  'description': 'The histogram illustrates the frequency distribution of repeated expense claims, with a notable peak indicating 100 instances where claims have been repeatedly filed by the same user. This suggests a possible oversight or exploitation of the expense reporting system that warrants further investigation.'},\n",
       " 'question': 'How many instances of repeated identical expense claims are there?',\n",
       " 'actionable_insight': {'description': 'Given the significant number of repeated claims, it is crucial for the organization to undertake a thorough review of these incidents to confirm their legitimacy and to determine if they reflect a pattern of fraud or abuse. Enhancing monitoring mechanisms, such as implementing automated flags for duplicate entries and conducting regular audits, could help prevent such behaviors. Training sessions emphasizing ethical practices and the consequences of policy violations should also be conducted to reinforce the seriousness of such actions. If fraudulent activities are confirmed, appropriate disciplinary measures should be enforced to maintain the integrity of the expense management system.'}}"
      ]
     },
     "execution_count": 9,
     "metadata": {},
     "output_type": "execute_result"
    }
   ],
   "source": [
    "{\n",
    "    \"data_type\": \"diagnostic\",\n",
    "    \"insight\": \"There is a high incidence of repeated identical expense claims\",\n",
    "    \"insight_value\": {\n",
    "        \"description\": \"There are 100 instances where a single user has submitted identical claims with the same amount and category more than three times, which may indicate potential fraud or policy abuse within the expense management process.\"\n",
    "    },\n",
    "    \"plot\": {\n",
    "        \"plot_type\": \"histogram\",\n",
    "        \"title\": \"Distribution of Repeated Claims Frequency\",\n",
    "        \"x_axis\": {\n",
    "            \"name\": \"Frequency of Same Amount Claims by Same User in Same Category\",\n",
    "            \"value\": \"Frequency ranges\",\n",
    "            \"description\": \"This axis represents the number of times the same expense claim has been submitted by the same user for the same amount in the same category.\"\n",
    "        },\n",
    "        \"y_axis\": {\n",
    "            \"name\": \"Count of Such Incidents\",\n",
    "            \"value\": \"Number of occurrences\",\n",
    "            \"description\": \"This axis counts the number of instances where repeated claims have occurred, highlighting the scale of potential repetitive claim submissions.\"\n",
    "        },\n",
    "        \"description\": \"The histogram illustrates the frequency distribution of repeated expense claims, with a notable peak indicating 100 instances where claims have been repeatedly filed by the same user. This suggests a possible oversight or exploitation of the expense reporting system that warrants further investigation.\"\n",
    "    },\n",
    "    \"question\": \"How many instances of repeated identical expense claims are there?\",\n",
    "    \"actionable_insight\": {\n",
    "        \"description\": \"Given the significant number of repeated claims, it is crucial for the organization to undertake a thorough review of these incidents to confirm their legitimacy and to determine if they reflect a pattern of fraud or abuse. Enhancing monitoring mechanisms, such as implementing automated flags for duplicate entries and conducting regular audits, could help prevent such behaviors. Training sessions emphasizing ethical practices and the consequences of policy violations should also be conducted to reinforce the seriousness of such actions. If fraudulent activities are confirmed, appropriate disciplinary measures should be enforced to maintain the integrity of the expense management system.\"\n",
    "    }\n",
    "}\n"
   ]
  },
  {
   "cell_type": "markdown",
   "metadata": {},
   "source": [
    "### **Question 3:  Which users are involved in the frequent cases?**\n"
   ]
  },
  {
   "cell_type": "markdown",
   "metadata": {},
   "source": [
    "#### Plot repeated expense claims by user and category\n",
    "\n",
    "This plot visualizes repeated expense claims across various categories, highlighting users involved in frequent submissions. Each dot represents a unique combination of user, category, and expense amount, with the size of the dot proportional to the frequency of claims.\n"
   ]
  },
  {
   "cell_type": "code",
   "execution_count": 10,
   "metadata": {
    "execution": {
     "iopub.execute_input": "2024-10-29T17:16:15.237132Z",
     "iopub.status.busy": "2024-10-29T17:16:15.236195Z",
     "iopub.status.idle": "2024-10-29T17:16:15.683150Z",
     "shell.execute_reply": "2024-10-29T17:16:15.681537Z"
    }
   },
   "outputs": [
    {
     "data": {
      "image/png": "[encoded data removed]",
      "text/plain": [
       "<Figure size 1008x576 with 1 Axes>"
      ]
     },
     "metadata": {
      "needs_background": "light"
     },
     "output_type": "display_data"
    }
   ],
   "source": [
    "import matplotlib.pyplot as plt\n",
    "\n",
    "# Assume flag_data includes 'user', 'amount', 'category' columns\n",
    "# Group data by user, category, and amount to count frequencies\n",
    "grouped_data = flag_data.groupby(['user', 'category', 'amount']).size().reset_index(name='count')\n",
    "\n",
    "# Filter to only include cases with more than one claim (to highlight potential fraud)\n",
    "repeated_claims = grouped_data[grouped_data['count'] > 1]\n",
    "\n",
    "# Create a scatter plot with sizes proportional to the count of claims\n",
    "plt.figure(figsize=(14, 8))\n",
    "colors = {'Travel': 'blue', 'Meals': 'green', 'Accommodation': 'red', 'Miscellaneous': 'purple'}  # Add more categories as needed\n",
    "for ct in repeated_claims['category'].unique():\n",
    "    subset = repeated_claims[repeated_claims['category'] == ct]\n",
    "    plt.scatter(subset['user'], subset['amount'], s=subset['count'] * 100,  # Increased size factor for better visibility\n",
    "                color=colors.get(ct, 'gray'), label=f'Category: {ct}', alpha=0.6)\n",
    "\n",
    "# Customizing the plot\n",
    "plt.title('Repeated Expense Claims by User and Category')\n",
    "plt.xlabel('User')\n",
    "plt.ylabel('Amount ($)')\n",
    "plt.legend(title='Expense Categories')\n",
    "plt.xticks(rotation=45)  # Rotate x-axis labels for better readability\n",
    "plt.grid(True, which='both', linestyle='--', linewidth=0.5, alpha=0.7)\n",
    "\n",
    "# Highlighting significant cases\n",
    "# Let's annotate the specific user found in your description\n",
    "for i, row in repeated_claims.iterrows():\n",
    "    if row['user'] == 'Mamie Mcintee' and row['amount'] == 8000:\n",
    "        plt.annotate(f\"{row['user']} (${row['amount']})\", (row['user'], row['amount']),\n",
    "                     textcoords=\"offset points\", xytext=(0,10), ha='center', fontsize=9, color='darkred')\n",
    "\n",
    "# Show plot\n",
    "plt.show()\n"
   ]
  },
  {
   "cell_type": "markdown",
   "metadata": {},
   "source": [
    "#### Generate JSON Description for the Insight"
   ]
  },
  {
   "cell_type": "code",
   "execution_count": 11,
   "metadata": {
    "execution": {
     "iopub.execute_input": "2024-10-29T17:16:15.700437Z",
     "iopub.status.busy": "2024-10-29T17:16:15.699622Z",
     "iopub.status.idle": "2024-10-29T17:16:15.723290Z",
     "shell.execute_reply": "2024-10-29T17:16:15.721701Z"
    }
   },
   "outputs": [
    {
     "data": {
      "text/plain": [
       "{'data_type': 'diagnostic',\n",
       " 'insight': 'There is a significant repetition in expense claims by a single user',\n",
       " 'insight_value': {'description': 'A user named Mamie Mcintee has repeatedly submitted identical claims for $8000, suggesting potential issues of policy abuse or fraudulent behavior.'},\n",
       " 'plot': {'plot_type': 'scatter',\n",
       "  'title': 'Repeated Expense Claims by User and Category',\n",
       "  'x_axis': {'name': 'User',\n",
       "   'value': 'Unique user identifiers',\n",
       "   'description': 'This axis represents the users who have submitted expense claims.'},\n",
       "  'y_axis': {'name': 'Amount ($)',\n",
       "   'value': 'Amount of each expense claim',\n",
       "   'description': 'This axis displays the monetary amount of the claims, highlighting repeated identical submissions by certain users.'},\n",
       "  'description': 'The scatter plot visualizes the frequency and distribution of repeated expense claims, with emphasis on specific users like Mamie Mcintee who have submitted multiple identical claims. The use of different colors for categories and the annotations provide a clear visual indication of the problematic patterns that may require further investigation.'},\n",
       " 'question': 'Which users are involved in the frequent cases?',\n",
       " 'actionable_insight': {'description': 'The consistent pattern of repeated identical high-value claims by a particular user warrants a thorough investigation to determine the legitimacy of these submissions. The organization should review the related documents and approval processes involved with these claims. Enhanced monitoring mechanisms and possibly revising the expense submission guidelines or training could prevent such potentially abusive practices. If fraudulent activity is confirmed, appropriate disciplinary actions should be taken to deter such behavior and uphold the integrity of the expense management process.'}}"
      ]
     },
     "execution_count": 11,
     "metadata": {},
     "output_type": "execute_result"
    }
   ],
   "source": [
    "{\n",
    "    \"data_type\": \"diagnostic\",\n",
    "    \"insight\": \"There is a significant repetition in expense claims by a single user\",\n",
    "    \"insight_value\": {\n",
    "        \"description\": \"A user named Mamie Mcintee has repeatedly submitted identical claims for $8000, suggesting potential issues of policy abuse or fraudulent behavior.\"\n",
    "    },\n",
    "    \"plot\": {\n",
    "        \"plot_type\": \"scatter\",\n",
    "        \"title\": \"Repeated Expense Claims by User and Category\",\n",
    "        \"x_axis\": {\n",
    "            \"name\": \"User\",\n",
    "            \"value\": \"Unique user identifiers\",\n",
    "            \"description\": \"This axis represents the users who have submitted expense claims.\"\n",
    "        },\n",
    "        \"y_axis\": {\n",
    "            \"name\": \"Amount ($)\",\n",
    "            \"value\": \"Amount of each expense claim\",\n",
    "            \"description\": \"This axis displays the monetary amount of the claims, highlighting repeated identical submissions by certain users.\"\n",
    "        },\n",
    "        \"description\": \"The scatter plot visualizes the frequency and distribution of repeated expense claims, with emphasis on specific users like Mamie Mcintee who have submitted multiple identical claims. The use of different colors for categories and the annotations provide a clear visual indication of the problematic patterns that may require further investigation.\"\n",
    "    },\n",
    "    \"question\": \"Which users are involved in the frequent cases?\",\n",
    "    \"actionable_insight\": {\n",
    "        \"description\": \"The consistent pattern of repeated identical high-value claims by a particular user warrants a thorough investigation to determine the legitimacy of these submissions. The organization should review the related documents and approval processes involved with these claims. Enhanced monitoring mechanisms and possibly revising the expense submission guidelines or training could prevent such potentially abusive practices. If fraudulent activity is confirmed, appropriate disciplinary actions should be taken to deter such behavior and uphold the integrity of the expense management process.\"\n",
    "    }\n",
    "}\n"
   ]
  },
  {
   "cell_type": "markdown",
   "metadata": {},
   "source": [
    "### **Question 4:  What department and categories are most commonly involved in these repeated claims?**\n"
   ]
  },
  {
   "cell_type": "markdown",
   "metadata": {},
   "source": [
    "#### Plot distribution of expense claims by department and category for Mamie Mcintee\n",
    "\n",
    "This bar graph displays the distribution of Mamie Mcintee's expense claims across different departments and categories, illustrating the specific areas where repeated claims are most frequent. One color represents a different expense category, allowing for a clear view of which combinations are most problematic.\n"
   ]
  },
  {
   "cell_type": "code",
   "execution_count": 12,
   "metadata": {
    "execution": {
     "iopub.execute_input": "2024-10-29T17:16:15.738159Z",
     "iopub.status.busy": "2024-10-29T17:16:15.737545Z",
     "iopub.status.idle": "2024-10-29T17:16:16.120171Z",
     "shell.execute_reply": "2024-10-29T17:16:16.118546Z"
    }
   },
   "outputs": [
    {
     "data": {
      "text/plain": [
       "<Figure size 864x504 with 0 Axes>"
      ]
     },
     "metadata": {},
     "output_type": "display_data"
    },
    {
     "data": {
      "image/png": "[encoded data removed]",
      "text/plain": [
       "<Figure size 432x288 with 1 Axes>"
      ]
     },
     "metadata": {
      "needs_background": "light"
     },
     "output_type": "display_data"
    }
   ],
   "source": [
    "import matplotlib.pyplot as plt\n",
    "import pandas as pd\n",
    "\n",
    "# Assuming 'flag_data' includes 'user', 'department', 'amount', 'category' columns\n",
    "# and it's already loaded with the data\n",
    "\n",
    "# Filter for the specific user\n",
    "user_data = flag_data[flag_data['user'] == 'Mamie Mcintee']\n",
    "\n",
    "# Group data by department and category to count frequencies\n",
    "department_category_counts = user_data.groupby(['department', 'category']).size().unstack(fill_value=0)\n",
    "\n",
    "# Plotting\n",
    "plt.figure(figsize=(12, 7))\n",
    "department_category_counts.plot(kind='bar', stacked=True, color=['blue', 'green', 'red', 'purple', 'orange'], alpha=0.7)\n",
    "plt.title('Distribution of Expense Claims by Department and Category for Mamie Mcintee')\n",
    "plt.xlabel('Department')\n",
    "plt.ylabel('Number of Claims')\n",
    "plt.xticks(rotation=0)  # Keep the department names horizontal for better readability\n",
    "plt.legend(title='Expense Categories')\n",
    "plt.grid(True, which='both', linestyle='--', linewidth=0.5)\n",
    "plt.show()\n"
   ]
  },
  {
   "cell_type": "markdown",
   "metadata": {},
   "source": [
    "#### Generate JSON Description for the Insight"
   ]
  },
  {
   "cell_type": "code",
   "execution_count": 13,
   "metadata": {
    "execution": {
     "iopub.execute_input": "2024-10-29T17:16:16.137518Z",
     "iopub.status.busy": "2024-10-29T17:16:16.136934Z",
     "iopub.status.idle": "2024-10-29T17:16:16.158569Z",
     "shell.execute_reply": "2024-10-29T17:16:16.156546Z"
    }
   },
   "outputs": [
    {
     "data": {
      "text/plain": [
       "{'data_type': 'Descriptive',\n",
       " 'insight': 'There is a concentration of repeated claims in the Travel category',\n",
       " 'insight_value': {'description': 'Mamie Mcintee’s repeated identical expense claims are not only submitted under her department but are specifically concentrated in the Travel category, raising concerns about potential policy abuse or fraudulent activities within this particular expense category.'},\n",
       " 'plot': {'plot_type': 'bar',\n",
       "  'title': 'Expense Claims by Department and Category for Mamie Mcintee',\n",
       "  'x_axis': {'name': 'Department',\n",
       "   'value': 'Identified department(s)',\n",
       "   'description': 'This axis displays the department under which Mamie Mcintee has submitted her claims, with a focus on the Travel category.'},\n",
       "  'y_axis': {'name': 'Number of Claims',\n",
       "   'value': 'Total claims segmented by category, highlighting Travel',\n",
       "   'description': 'This axis counts the claims, specifically highlighting the frequency of claims within the Travel category, demonstrating a significant focus in this area.'},\n",
       "  'description': \"The stacked bar chart clearly illustrates that Mamie Mcintee's repeated expense claims are primarily within the Travel category. This specific concentration suggests a pattern that may require further investigation to ensure these claims are legitimate and within company policies.\"},\n",
       " 'question': 'Confirm that these expenses are submitted under the department?',\n",
       " 'actionable_insight': {'description': 'Given the concentration of repeated claims in the Travel category, it is advisable for the organization to conduct an in-depth review of all Travel-related expense submissions by Mamie Mcintee. This review should include verifying the authenticity of the claims and assessing compliance with the travel expense policies. Implementing more stringent controls and possibly providing additional training on appropriate expense reporting for travel could help mitigate the risk of fraud and ensure that such patterns do not indicate policy abuse. Regular audits and real-time monitoring of expense submissions in high-risk categories like Travel are also recommended to maintain the integrity of the expense management system.'}}"
      ]
     },
     "execution_count": 13,
     "metadata": {},
     "output_type": "execute_result"
    }
   ],
   "source": [
    "{\n",
    "    \"data_type\": \"Descriptive\",\n",
    "    \"insight\": \"There is a concentration of repeated claims in the Travel category\",\n",
    "    \"insight_value\": {\n",
    "        \"description\": \"Mamie Mcintee’s repeated identical expense claims are not only submitted under her department but are specifically concentrated in the Travel category, raising concerns about potential policy abuse or fraudulent activities within this particular expense category.\"\n",
    "    },\n",
    "    \"plot\": {\n",
    "        \"plot_type\": \"bar\",\n",
    "        \"title\": \"Expense Claims by Department and Category for Mamie Mcintee\",\n",
    "        \"x_axis\": {\n",
    "            \"name\": \"Department\",\n",
    "            \"value\": \"Identified department(s)\",\n",
    "            \"description\": \"This axis displays the department under which Mamie Mcintee has submitted her claims, with a focus on the Travel category.\"\n",
    "        },\n",
    "        \"y_axis\": {\n",
    "            \"name\": \"Number of Claims\",\n",
    "            \"value\": \"Total claims segmented by category, highlighting Travel\",\n",
    "            \"description\": \"This axis counts the claims, specifically highlighting the frequency of claims within the Travel category, demonstrating a significant focus in this area.\"\n",
    "        },\n",
    "        \"description\": \"The stacked bar chart clearly illustrates that Mamie Mcintee's repeated expense claims are primarily within the Travel category. This specific concentration suggests a pattern that may require further investigation to ensure these claims are legitimate and within company policies.\"\n",
    "    },\n",
    "    \"question\": \"Confirm that these expenses are submitted under the department?\",\n",
    "    \"actionable_insight\": {\n",
    "        \"description\": \"Given the concentration of repeated claims in the Travel category, it is advisable for the organization to conduct an in-depth review of all Travel-related expense submissions by Mamie Mcintee. This review should include verifying the authenticity of the claims and assessing compliance with the travel expense policies. Implementing more stringent controls and possibly providing additional training on appropriate expense reporting for travel could help mitigate the risk of fraud and ensure that such patterns do not indicate policy abuse. Regular audits and real-time monitoring of expense submissions in high-risk categories like Travel are also recommended to maintain the integrity of the expense management system.\"\n",
    "    }\n",
    "}\n"
   ]
  },
  {
   "cell_type": "markdown",
   "metadata": {},
   "source": [
    "### Summary of Findings (Flag 70):\n",
    "\n",
    "1. **Processing Delays Across Departments**: From Question 1, it was found that processing delays vary significantly across departments. IT processes requests the fastest, while Finance shows the longest delays, indicating potential inefficiencies in Finance's workflow.\n",
    "\n",
    "2. **Repeated Identical Claims**: Question 2 highlighted a high incidence of repeated identical expense claims, with 100 instances where a single user submitted identical claims more than three times. This suggests potential fraud or policy abuse.\n",
    "\n",
    "3. **User-Specific Anomalies**: Question 3 revealed that a user named Mamie Mcintee has repeatedly submitted identical claims for $8000, particularly in the Travel category. This pattern suggests possible policy abuse or fraudulent behavior that requires further investigation."
   ]
  }
 ],
 "metadata": {
  "kernelspec": {
   "display_name": "Python 3",
   "language": "python",
   "name": "python3"
  },
  "language_info": {
   "codemirror_mode": {
    "name": "ipython",
    "version": 3
   },
   "file_extension": ".py",
   "mimetype": "text/x-python",
   "name": "python",
   "nbconvert_exporter": "python",
   "pygments_lexer": "ipython3",
   "version": "3.8.5"
  }
 },
 "nbformat": 4,
 "nbformat_minor": 2
}

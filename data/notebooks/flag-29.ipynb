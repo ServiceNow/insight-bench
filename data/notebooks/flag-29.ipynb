{
 "cells": [
  {
   "cell_type": "markdown",
   "metadata": {},
   "source": [
    "## Goal Management Analysis Category Focus (Flag 29)\n",
    "\n",
    "### Dataset Description\n",
    "The dataset consists of 500 entries simulating ServiceNow `sn_gf_goal` table, which details various attributes related to organizational goals. These attributes include goal state, owner, department, start and end dates, and description, alongside metrics such as priority, percent complete, and target percentage. This data primarily tracks the progression and management of departmental and individual goals, offering insights into the effectiveness and alignment of these goals with broader organizational objectives. Additionally, the table captures updates made to each goal, providing a timeline of modifications and the identity of individuals making these updates.\n",
    "\n",
    "### Your Task\n",
    "**Goal**: Analyze any unexpected high success rates of Low and Medium priority 'Cost Reduction' goals and apply these insights to enhance goal management effectiveness across all goal categories.\n",
    "\n",
    "**Role**: Operational Efficiency Analyst\n",
    "\n",
    "**Difficulty**: 2 out of 5. The analysis requires sophisticated data manipulation and interpretation skills to uncover underlying patterns and propose actionable strategies, representing a challenging yet insightful endeavor.\n",
    "\n",
    "**Category**: Goal Management"
   ]
  },
  {
   "cell_type": "markdown",
   "metadata": {},
   "source": [
    "### Import Necessary Libraries\n",
    "This cell imports all necessary libraries required for the analysis. This includes libraries for data manipulation, data visualization, and any specific utilities needed for the tasks. "
   ]
  },
  {
   "cell_type": "code",
   "execution_count": 1,
   "metadata": {
    "execution": {
     "iopub.execute_input": "2024-10-25T19:58:11.028373Z",
     "iopub.status.busy": "2024-10-25T19:58:11.025851Z",
     "iopub.status.idle": "2024-10-25T19:58:14.322161Z",
     "shell.execute_reply": "2024-10-25T19:58:14.319641Z"
    }
   },
   "outputs": [],
   "source": [
    "import argparse\n",
    "import pandas as pd\n",
    "import json\n",
    "import requests\n",
    "import matplotlib.pyplot as plt\n",
    "import numpy as np\n",
    "import seaborn as sns\n",
    "from pandas import date_range"
   ]
  },
  {
   "cell_type": "markdown",
   "metadata": {},
   "source": [
    "### Load Dataset\n",
    "This cell loads the dataset used for the analysis. The goal dataset is stored in a CSV file and is loaded into a DataFrame. This step includes reading the data from a file path and possibly performing initial observations such as viewing the first few rows to ensure it has loaded correctly.\n"
   ]
  },
  {
   "cell_type": "code",
   "execution_count": 2,
   "metadata": {
    "execution": {
     "iopub.execute_input": "2024-10-25T19:58:14.335289Z",
     "iopub.status.busy": "2024-10-25T19:58:14.334548Z",
     "iopub.status.idle": "2024-10-25T19:58:14.411714Z",
     "shell.execute_reply": "2024-10-25T19:58:14.409568Z"
    }
   },
   "outputs": [
    {
     "data": {
      "text/html": [
       "<div>\n",
       "<style scoped>\n",
       "    .dataframe tbody tr th:only-of-type {\n",
       "        vertical-align: middle;\n",
       "    }\n",
       "\n",
       "    .dataframe tbody tr th {\n",
       "        vertical-align: top;\n",
       "    }\n",
       "\n",
       "    .dataframe thead th {\n",
       "        text-align: right;\n",
       "    }\n",
       "</style>\n",
       "<table border=\"1\" class=\"dataframe\">\n",
       "  <thead>\n",
       "    <tr style=\"text-align: right;\">\n",
       "      <th></th>\n",
       "      <th>department</th>\n",
       "      <th>state</th>\n",
       "      <th>percent_complete</th>\n",
       "      <th>priority</th>\n",
       "      <th>target_percentage</th>\n",
       "      <th>category</th>\n",
       "      <th>sys_id</th>\n",
       "      <th>sys_updated_by</th>\n",
       "      <th>metric</th>\n",
       "      <th>end_date</th>\n",
       "      <th>start_date</th>\n",
       "      <th>owner</th>\n",
       "      <th>description</th>\n",
       "    </tr>\n",
       "  </thead>\n",
       "  <tbody>\n",
       "    <tr>\n",
       "      <th>0</th>\n",
       "      <td>IT</td>\n",
       "      <td>Completed</td>\n",
       "      <td>95</td>\n",
       "      <td>Medium</td>\n",
       "      <td>93</td>\n",
       "      <td>Cost Reduction</td>\n",
       "      <td>G000000</td>\n",
       "      <td>admin</td>\n",
       "      <td>Expense Ratio</td>\n",
       "      <td>2022-12-25</td>\n",
       "      <td>2022-10-06</td>\n",
       "      <td>Ross Spurger</td>\n",
       "      <td>Reduce overall software licensing costs by neg...</td>\n",
       "    </tr>\n",
       "    <tr>\n",
       "      <th>1</th>\n",
       "      <td>HR</td>\n",
       "      <td>Completed</td>\n",
       "      <td>82</td>\n",
       "      <td>Medium</td>\n",
       "      <td>80</td>\n",
       "      <td>Efficiency</td>\n",
       "      <td>G000001</td>\n",
       "      <td>admin</td>\n",
       "      <td>Survey Score</td>\n",
       "      <td>2023-05-03</td>\n",
       "      <td>2022-08-11</td>\n",
       "      <td>Denice Nordlinger</td>\n",
       "      <td>Optimize IT support workflows to achieve a 20%...</td>\n",
       "    </tr>\n",
       "    <tr>\n",
       "      <th>2</th>\n",
       "      <td>Finance</td>\n",
       "      <td>Completed</td>\n",
       "      <td>61</td>\n",
       "      <td>High</td>\n",
       "      <td>59</td>\n",
       "      <td>Customer Satisfaction</td>\n",
       "      <td>G000002</td>\n",
       "      <td>admin</td>\n",
       "      <td>Expense Ratio</td>\n",
       "      <td>2023-02-26</td>\n",
       "      <td>2022-02-16</td>\n",
       "      <td>Cristopher Wiget</td>\n",
       "      <td>Develop and implement a new customer feedback ...</td>\n",
       "    </tr>\n",
       "    <tr>\n",
       "      <th>3</th>\n",
       "      <td>Marketing</td>\n",
       "      <td>In Progress</td>\n",
       "      <td>82</td>\n",
       "      <td>Low</td>\n",
       "      <td>92</td>\n",
       "      <td>Employee Satisfaction</td>\n",
       "      <td>G000003</td>\n",
       "      <td>admin</td>\n",
       "      <td>Expense Ratio</td>\n",
       "      <td>2022-10-31</td>\n",
       "      <td>2022-04-12</td>\n",
       "      <td>Logan Muhl</td>\n",
       "      <td>Develop and implement a quarterly employee fee...</td>\n",
       "    </tr>\n",
       "    <tr>\n",
       "      <th>4</th>\n",
       "      <td>IT</td>\n",
       "      <td>Completed</td>\n",
       "      <td>52</td>\n",
       "      <td>High</td>\n",
       "      <td>52</td>\n",
       "      <td>Employee Satisfaction</td>\n",
       "      <td>G000004</td>\n",
       "      <td>admin</td>\n",
       "      <td>Expense Ratio</td>\n",
       "      <td>2022-06-04</td>\n",
       "      <td>2022-03-11</td>\n",
       "      <td>Eva Seahorn</td>\n",
       "      <td>Increase the annual employee satisfaction scor...</td>\n",
       "    </tr>\n",
       "  </tbody>\n",
       "</table>\n",
       "</div>"
      ],
      "text/plain": [
       "  department        state  percent_complete priority  target_percentage  \\\n",
       "0         IT    Completed                95   Medium                 93   \n",
       "1         HR    Completed                82   Medium                 80   \n",
       "2    Finance    Completed                61     High                 59   \n",
       "3  Marketing  In Progress                82      Low                 92   \n",
       "4         IT    Completed                52     High                 52   \n",
       "\n",
       "                category   sys_id sys_updated_by         metric    end_date  \\\n",
       "0         Cost Reduction  G000000          admin  Expense Ratio  2022-12-25   \n",
       "1             Efficiency  G000001          admin   Survey Score  2023-05-03   \n",
       "2  Customer Satisfaction  G000002          admin  Expense Ratio  2023-02-26   \n",
       "3  Employee Satisfaction  G000003          admin  Expense Ratio  2022-10-31   \n",
       "4  Employee Satisfaction  G000004          admin  Expense Ratio  2022-06-04   \n",
       "\n",
       "   start_date              owner  \\\n",
       "0  2022-10-06       Ross Spurger   \n",
       "1  2022-08-11  Denice Nordlinger   \n",
       "2  2022-02-16   Cristopher Wiget   \n",
       "3  2022-04-12         Logan Muhl   \n",
       "4  2022-03-11        Eva Seahorn   \n",
       "\n",
       "                                         description  \n",
       "0  Reduce overall software licensing costs by neg...  \n",
       "1  Optimize IT support workflows to achieve a 20%...  \n",
       "2  Develop and implement a new customer feedback ...  \n",
       "3  Develop and implement a quarterly employee fee...  \n",
       "4  Increase the annual employee satisfaction scor...  "
      ]
     },
     "execution_count": 2,
     "metadata": {},
     "output_type": "execute_result"
    }
   ],
   "source": [
    "dataset_path = \"csvs/flag-29.csv\"\n",
    "goal_data = pd.read_csv(dataset_path)\n",
    "df = pd.read_csv(dataset_path)\n",
    "goal_data.head()\n"
   ]
  },
  {
   "cell_type": "markdown",
   "metadata": {},
   "source": [
    "### **Question 1: How does the success rate of goals met across different categories compare?**"
   ]
  },
  {
   "cell_type": "markdown",
   "metadata": {},
   "source": [
    "#### Plot percentage of target goals achieved by category\n",
    "\n",
    "This plot visualizes the percentage of target goals achieved across different categories or topics, providing  insight into the success rate of goal management. This helps in identifying which kind of goals are succeeding at meeting and which areas or categories improvements might be necessary."
   ]
  },
  {
   "cell_type": "code",
   "execution_count": 3,
   "metadata": {
    "execution": {
     "iopub.execute_input": "2024-10-25T19:58:14.425711Z",
     "iopub.status.busy": "2024-10-25T19:58:14.425184Z",
     "iopub.status.idle": "2024-10-25T19:58:15.122310Z",
     "shell.execute_reply": "2024-10-25T19:58:15.120283Z"
    }
   },
   "outputs": [
    {
     "name": "stderr",
     "output_type": "stream",
     "text": [
      "<ipython-input-3-344261a495f9>:22: FutureWarning: \n",
      "\n",
      "Passing `palette` without assigning `hue` is deprecated and will be removed in v0.14.0. Assign the `x` variable to `hue` and set `legend=False` for the same effect.\n",
      "\n",
      "  bar_plot = sns.barplot(x='Category', y='Percentage of Goals Met', data=department_goal_achievement, palette='viridis')\n"
     ]
    },
    {
     "data": {
      "image/png": "[encoded data removed]",
      "text/plain": [
       "<Figure size 720x432 with 1 Axes>"
      ]
     },
     "metadata": {
      "needs_background": "light"
     },
     "output_type": "display_data"
    }
   ],
   "source": [
    "import matplotlib.pyplot as plt\n",
    "import seaborn as sns\n",
    "import pandas as pd\n",
    "import numpy as np\n",
    "\n",
    "# Assuming 'goal_data' is the DataFrame created from the previous code\n",
    "\n",
    "# Calculate if each goal met its target percentage\n",
    "goal_data['goal_met'] = goal_data.apply(lambda row: row['percent_complete'] >= row['target_percentage'], axis=1)\n",
    "\n",
    "# Group by department and calculate the percentage of goals met\n",
    "department_goal_achievement = goal_data.groupby('category')['goal_met'].mean() * 100\n",
    "\n",
    "# Reset index to turn the series into a DataFrame\n",
    "department_goal_achievement = department_goal_achievement.reset_index()\n",
    "\n",
    "# Rename columns for better readability in the plot\n",
    "department_goal_achievement.columns = ['Category', 'Percentage of Goals Met']\n",
    "\n",
    "# Create a bar plot\n",
    "plt.figure(figsize=(10, 6))\n",
    "bar_plot = sns.barplot(x='Category', y='Percentage of Goals Met', data=department_goal_achievement, palette='viridis')\n",
    "plt.title('Percentage of Target Goals Achieved in a Category')\n",
    "plt.xlabel('Category')\n",
    "plt.ylabel('Percentage of Goals Met')\n",
    "plt.ylim(0, 100)  # Set y-axis limits to make differences more evident\n",
    "for p in bar_plot.patches:\n",
    "    bar_plot.annotate(format(p.get_height(), '.0f'), \n",
    "                      (p.get_x() + p.get_width() / 2., p.get_height()), \n",
    "                      ha = 'center', va = 'center', \n",
    "                      xytext = (0, 9), \n",
    "                      textcoords = 'offset points')\n",
    "plt.show()\n"
   ]
  },
  {
   "cell_type": "markdown",
   "metadata": {},
   "source": [
    "#### Generate JSON Description for the Insight"
   ]
  },
  {
   "cell_type": "code",
   "execution_count": 4,
   "metadata": {
    "execution": {
     "iopub.execute_input": "2024-10-25T19:58:15.136260Z",
     "iopub.status.busy": "2024-10-25T19:58:15.135736Z",
     "iopub.status.idle": "2024-10-25T19:58:15.158246Z",
     "shell.execute_reply": "2024-10-25T19:58:15.156113Z"
    }
   },
   "outputs": [
    {
     "data": {
      "text/plain": [
       "{'data_type': 'comparative',\n",
       " 'insight': 'Cost reduction goals achieve significantly higher success rates compared to other categories',\n",
       " 'insight_value': {'Cost Reduction': '82%',\n",
       "  'Customer Satisfaction': '24%',\n",
       "  'Efficiency': '34%',\n",
       "  'Employee Satisfaction': '24%',\n",
       "  'Revenue Growth': '23%'},\n",
       " 'plot': {'plot_type': 'bar',\n",
       "  'title': 'Success Rates of Goals Met Across Different Categories',\n",
       "  'x_axis': {'name': 'Category',\n",
       "   'value': 'Cost Reduction, Customer Satisfaction, Efficiency, Employee Satisfaction, Revenue Growth',\n",
       "   'description': 'This represents the different goal categories within the organization.'},\n",
       "  'y_axis': {'name': 'Percentage of Goals Met',\n",
       "   'value': '82%, 24%, 34%, 24%, 23%',\n",
       "   'description': 'This represents the percentage of goals successfully met within each category, highlighting the exceptional performance of Cost Reduction goals.'},\n",
       "  'description': 'The bar graph displays the success rates for goals met in various categories, showing a stark contrast where Cost Reduction goals have an 82% success rate, significantly outperforming other categories like Customer Satisfaction, Efficiency, Employee Satisfaction, and Revenue Growth, which range from 23% to 34%. This anomaly suggests that Cost Reduction goals might be more effectively supported or inherently less complex, allowing for higher achievement rates.'},\n",
       " 'question': 'How does the success rate of goals met across different categories compare?',\n",
       " 'actionable_insight': 'The disparity in success rates across categories suggests a potential re-evaluation of how goals are prioritized and resourced within the organization. Management might consider reallocating resources or revising goal-setting practices to enhance success rates in underperforming categories, leveraging strategies proven effective in the Cost Reduction category.'}"
      ]
     },
     "execution_count": 4,
     "metadata": {},
     "output_type": "execute_result"
    }
   ],
   "source": [
    "{\n",
    "    \"data_type\": \"comparative\",\n",
    "    \"insight\": \"Cost reduction goals achieve significantly higher success rates compared to other categories\",\n",
    "    \"insight_value\": {\n",
    "        \"Cost Reduction\": \"82%\",\n",
    "        \"Customer Satisfaction\": \"24%\",\n",
    "        \"Efficiency\": \"34%\",\n",
    "        \"Employee Satisfaction\": \"24%\",\n",
    "        \"Revenue Growth\": \"23%\"\n",
    "    },\n",
    "    \"plot\": {\n",
    "        \"plot_type\": \"bar\",\n",
    "        \"title\": \"Success Rates of Goals Met Across Different Categories\",\n",
    "        \"x_axis\": {\n",
    "            \"name\": \"Category\",\n",
    "            \"value\": \"Cost Reduction, Customer Satisfaction, Efficiency, Employee Satisfaction, Revenue Growth\",\n",
    "            \"description\": \"This represents the different goal categories within the organization.\"\n",
    "        },\n",
    "        \"y_axis\": {\n",
    "            \"name\": \"Percentage of Goals Met\",\n",
    "            \"value\": \"82%, 24%, 34%, 24%, 23%\",\n",
    "            \"description\": \"This represents the percentage of goals successfully met within each category, highlighting the exceptional performance of Cost Reduction goals.\"\n",
    "        },\n",
    "        \"description\": \"The bar graph displays the success rates for goals met in various categories, showing a stark contrast where Cost Reduction goals have an 82% success rate, significantly outperforming other categories like Customer Satisfaction, Efficiency, Employee Satisfaction, and Revenue Growth, which range from 23% to 34%. This anomaly suggests that Cost Reduction goals might be more effectively supported or inherently less complex, allowing for higher achievement rates.\"\n",
    "    },\n",
    "    \"question\": \"How does the success rate of goals met across different categories compare?\",\n",
    "    \"actionable_insight\": \"The disparity in success rates across categories suggests a potential re-evaluation of how goals are prioritized and resourced within the organization. Management might consider reallocating resources or revising goal-setting practices to enhance success rates in underperforming categories, leveraging strategies proven effective in the Cost Reduction category.\"\n",
    "}\n"
   ]
  },
  {
   "cell_type": "markdown",
   "metadata": {},
   "source": [
    "### **Question 2:** How are 'Cost Reduction' goals distributed by priority compared to goals in other categories?"
   ]
  },
  {
   "cell_type": "markdown",
   "metadata": {},
   "source": [
    "#### Plot proportion of successful goals by priority in Cost Reduction category\n",
    "\n",
    "This bar plot depicts the success rates of goals within the Cost Reduction category, categorized by their priority levels: Critical, High, Medium, and Low. It shows the proportion of goals that have met or surpassed their target percentages, providing insight into how priority impacts goal achievement. The visualization aids in understanding whether higher priority goals are indeed receiving the attention necessary for success."
   ]
  },
  {
   "cell_type": "code",
   "execution_count": 5,
   "metadata": {
    "execution": {
     "iopub.execute_input": "2024-10-25T19:58:15.174277Z",
     "iopub.status.busy": "2024-10-25T19:58:15.173700Z",
     "iopub.status.idle": "2024-10-25T19:58:15.684341Z",
     "shell.execute_reply": "2024-10-25T19:58:15.681969Z"
    }
   },
   "outputs": [
    {
     "name": "stderr",
     "output_type": "stream",
     "text": [
      "<ipython-input-5-259cf6dcca39>:8: SettingWithCopyWarning: \n",
      "A value is trying to be set on a copy of a slice from a DataFrame.\n",
      "Try using .loc[row_indexer,col_indexer] = value instead\n",
      "\n",
      "See the caveats in the documentation: https://pandas.pydata.org/pandas-docs/stable/user_guide/indexing.html#returning-a-view-versus-a-copy\n",
      "  it_goals['is_successful'] = it_goals['percent_complete'] >= it_goals['target_percentage']\n"
     ]
    },
    {
     "data": {
      "image/png": "[encoded data removed]",
      "text/plain": [
       "<Figure size 720x432 with 1 Axes>"
      ]
     },
     "metadata": {
      "needs_background": "light"
     },
     "output_type": "display_data"
    }
   ],
   "source": [
    "import matplotlib.pyplot as plt\n",
    "import seaborn as sns\n",
    "\n",
    "# Filter the data for the IT department\n",
    "it_goals = goal_data[goal_data['category'] == 'Cost Reduction']\n",
    "\n",
    "# Define successful goals (assuming successful means percent_complete >= target_percentage)\n",
    "it_goals['is_successful'] = it_goals['percent_complete'] >= it_goals['target_percentage']\n",
    "\n",
    "# Calculate the proportion of successful goals by priority\n",
    "success_rates = it_goals.groupby('priority')['is_successful'].mean()\n",
    "\n",
    "# Convert the series to a DataFrame for plotting\n",
    "success_rates_df = success_rates.reset_index()\n",
    "\n",
    "# Plotting\n",
    "plt.figure(figsize=(10, 6))\n",
    "bar_plot = sns.barplot(x='priority', y='is_successful', data=success_rates_df, order=['Critical', 'High', 'Medium', 'Low'])\n",
    "plt.title('Proportion of Successful Goals by Priority in Cost reduction Category')\n",
    "plt.xlabel('Priority')\n",
    "plt.ylabel('Proportion of Successful Goals')\n",
    "plt.ylim(0, 1)  # Set the limit to show proportions from 0 to 1\n",
    "for p in bar_plot.patches:\n",
    "    bar_plot.annotate(format(p.get_height(), '.1%'),  # Format as a percentage with one decimal\n",
    "                      (p.get_x() + p.get_width() / 2., p.get_height()),\n",
    "                      ha='center', va='center', \n",
    "                      xytext=(0, 9), \n",
    "                      textcoords='offset points')\n",
    "plt.show()\n"
   ]
  },
  {
   "cell_type": "markdown",
   "metadata": {},
   "source": [
    "#### Generate JSON Description for the Insight"
   ]
  },
  {
   "cell_type": "code",
   "execution_count": 6,
   "metadata": {
    "execution": {
     "iopub.execute_input": "2024-10-25T19:58:15.697522Z",
     "iopub.status.busy": "2024-10-25T19:58:15.696936Z",
     "iopub.status.idle": "2024-10-25T19:58:15.718547Z",
     "shell.execute_reply": "2024-10-25T19:58:15.716541Z"
    }
   },
   "outputs": [
    {
     "data": {
      "text/plain": [
       "{'data_type': 'descriptive',\n",
       " 'insight': \"Unusually high success rates for low and medium priority 'Cost Reduction' goals compared to High and Critical\",\n",
       " 'insight_value': {'Low': '87.3%',\n",
       "  'Medium': '91.5%',\n",
       "  'High': '40.0%',\n",
       "  'Critical': '0.0%'},\n",
       " 'plot': {'plot_type': 'bar',\n",
       "  'title': \"Success Rates of 'Cost Reduction' Goals by Priority\",\n",
       "  'x_axis': {'name': 'Priority Level',\n",
       "   'value': 'Low, Medium, High, Critical',\n",
       "   'description': \"This axis categorizes goals by their assigned priority levels within the 'Cost Reduction' category.\"},\n",
       "  'y_axis': {'name': 'Percentage of Goals Successfully Met',\n",
       "   'value': '87.3%, 91.5%, 40.0%, 0.0%',\n",
       "   'description': 'This axis shows the success rates of goals within each priority level, highlighting an unusual trend where lower priorities have higher success rates.'},\n",
       "  'description': \"The bar graph demonstrates that 'Cost Reduction' goals classified as Low and Medium priority exhibit significantly higher success rates of 87.3% and 91.5%, respectively, compared to High and Critical priorities which show much lower success rates at 40.0% and 0.0%. This suggests an anomaly in the typical expectation that higher priority goals would naturally achieve higher success rates.\"},\n",
       " 'question': \"How are 'Cost Reduction' goals distributed by priority compared to goals in other categories?\",\n",
       " 'actionable_insight': \"This unusual distribution of success by priority in the 'Cost Reduction' category may indicate that if this trend continues across other categories, the perceived importance of priority levels may need reassessment. A plausible explanation for the higher success rates in 'Cost Reduction' could be the larger number of goals categorized at Low and Medium priorities, which are unusually effective. Reevaluating how priorities are set across all categories could help align success rates more evenly and ensure that high-priority goals are given adequate attention and resources to improve their success rates.\"}"
      ]
     },
     "execution_count": 6,
     "metadata": {},
     "output_type": "execute_result"
    }
   ],
   "source": [
    "{\n",
    "    \"data_type\": \"descriptive\",\n",
    "    \"insight\": \"Unusually high success rates for low and medium priority 'Cost Reduction' goals compared to High and Critical\",\n",
    "    \"insight_value\": {\n",
    "        \"Low\": \"87.3%\",\n",
    "        \"Medium\": \"91.5%\",\n",
    "        \"High\": \"40.0%\",\n",
    "        \"Critical\": \"0.0%\"\n",
    "    },\n",
    "    \"plot\": {\n",
    "        \"plot_type\": \"bar\",\n",
    "        \"title\": \"Success Rates of 'Cost Reduction' Goals by Priority\",\n",
    "        \"x_axis\": {\n",
    "            \"name\": \"Priority Level\",\n",
    "            \"value\": \"Low, Medium, High, Critical\",\n",
    "            \"description\": \"This axis categorizes goals by their assigned priority levels within the 'Cost Reduction' category.\"\n",
    "        },\n",
    "        \"y_axis\": {\n",
    "            \"name\": \"Percentage of Goals Successfully Met\",\n",
    "            \"value\": \"87.3%, 91.5%, 40.0%, 0.0%\",\n",
    "            \"description\": \"This axis shows the success rates of goals within each priority level, highlighting an unusual trend where lower priorities have higher success rates.\"\n",
    "        },\n",
    "        \"description\": \"The bar graph demonstrates that 'Cost Reduction' goals classified as Low and Medium priority exhibit significantly higher success rates of 87.3% and 91.5%, respectively, compared to High and Critical priorities which show much lower success rates at 40.0% and 0.0%. This suggests an anomaly in the typical expectation that higher priority goals would naturally achieve higher success rates.\"\n",
    "    },\n",
    "    \"question\": \"How are 'Cost Reduction' goals distributed by priority compared to goals in other categories?\",\n",
    "    \"actionable_insight\": \"This unusual distribution of success by priority in the 'Cost Reduction' category may indicate that if this trend continues across other categories, the perceived importance of priority levels may need reassessment. A plausible explanation for the higher success rates in 'Cost Reduction' could be the larger number of goals categorized at Low and Medium priorities, which are unusually effective. Reevaluating how priorities are set across all categories could help align success rates more evenly and ensure that high-priority goals are given adequate attention and resources to improve their success rates.\"\n",
    "}\n"
   ]
  },
  {
   "cell_type": "markdown",
   "metadata": {},
   "source": [
    "### **Question 3:** Is this unusual trend of low and medium priority goals seen in the Cost Reduction category also observed across other categories??"
   ]
  },
  {
   "cell_type": "markdown",
   "metadata": {},
   "source": [
    "#### Plot proportion of successful goals by priority across categories\n",
    "\n",
    "This bar plot provides a comparative analysis of the success rates of goals by priority levels (Critical, High, Medium, Low) across different category of goals. It analyses how the prioritization of goals affects their achievement rates within each topic. The graph allows us to identify departments where Low and Medium priority goals are either underperforming or exceeding expectations."
   ]
  },
  {
   "cell_type": "code",
   "execution_count": 7,
   "metadata": {
    "execution": {
     "iopub.execute_input": "2024-10-25T19:58:15.736924Z",
     "iopub.status.busy": "2024-10-25T19:58:15.736397Z",
     "iopub.status.idle": "2024-10-25T19:58:16.932745Z",
     "shell.execute_reply": "2024-10-25T19:58:16.930023Z"
    }
   },
   "outputs": [
    {
     "data": {
      "image/png": "[encoded data removed]",
      "text/plain": [
       "<Figure size 1008x576 with 1 Axes>"
      ]
     },
     "metadata": {
      "needs_background": "light"
     },
     "output_type": "display_data"
    }
   ],
   "source": [
    "import matplotlib.pyplot as plt\n",
    "import seaborn as sns\n",
    "\n",
    "# Define successful goals (assuming successful means percent_complete >= target_percentage)\n",
    "goal_data['is_successful'] = goal_data['percent_complete'] >= goal_data['target_percentage']\n",
    "\n",
    "# Calculate the proportion of successful goals by priority and department\n",
    "success_rates = goal_data.groupby(['category', 'priority'])['is_successful'].mean().reset_index()\n",
    "\n",
    "# Plotting\n",
    "plt.figure(figsize=(14, 8))\n",
    "barplot = sns.barplot(x='category', y='is_successful', hue='priority', data=success_rates, hue_order=['Critical', 'High', 'Medium', 'Low'])\n",
    "\n",
    "# Annotate each bar\n",
    "for p in barplot.patches:\n",
    "    barplot.annotate(format(p.get_height(), '.2f'),  # format as a percentage\n",
    "                     (p.get_x() + p.get_width() / 2., p.get_height()),\n",
    "                     ha = 'center', va = 'center',\n",
    "                     size=9,\n",
    "                     xytext = (0, 5),\n",
    "                     textcoords = 'offset points')\n",
    "\n",
    "plt.title('Proportion of Successful Goals by Priority Across categoriess')\n",
    "plt.xlabel('Category')\n",
    "plt.ylabel('Proportion of Successful Goals')\n",
    "plt.ylim(0, 1)  # Set the limit to show proportions from 0 to 1\n",
    "plt.legend(title='Priority')\n",
    "plt.show()\n"
   ]
  },
  {
   "cell_type": "markdown",
   "metadata": {},
   "source": [
    "#### Generate JSON Description for the Insight"
   ]
  },
  {
   "cell_type": "code",
   "execution_count": 8,
   "metadata": {
    "execution": {
     "iopub.execute_input": "2024-10-25T19:58:16.951777Z",
     "iopub.status.busy": "2024-10-25T19:58:16.951182Z",
     "iopub.status.idle": "2024-10-25T19:58:16.973243Z",
     "shell.execute_reply": "2024-10-25T19:58:16.971257Z"
    }
   },
   "outputs": [
    {
     "data": {
      "text/plain": [
       "{'data_type': 'diagnostic',\n",
       " 'insight': 'Widespread high success rates for Low and Medium priority goals across all categories',\n",
       " 'insight_value': {'Low': 'Average 85%',\n",
       "  'Medium': 'Average 80%',\n",
       "  'High': 'Average 12%',\n",
       "  'Critical': 'Average 14%'},\n",
       " 'plot': {'plot_type': 'bar',\n",
       "  'title': 'Success Rates by Priority Across All Categories',\n",
       "  'x_axis': {'name': 'Priority Level',\n",
       "   'value': 'Low, Medium, High, Critical',\n",
       "   'description': 'This represents the different priority levels for goals across all categories.'},\n",
       "  'y_axis': {'name': 'Percentage of Goals Successfully Met',\n",
       "   'value': 'significantly high for low/medium categories, low for high/critical categories',\n",
       "   'description': 'This shows the success rates for goals within each priority level across all categories, illustrating a trend where lower priorities unexpectedly have higher success rates.'},\n",
       "  'description': 'The bar graph indicates that Low and Medium priority goals across all categories consistently achieve higher success rates (75% and 70% respectively) compared to High and Critical priority goals (45% and 30% respectively). This trend challenges the conventional expectation that higher priority goals would typically have better success rates.'},\n",
       " 'question': 'Is this unusual trend of low and medium priority goals seen in the Cost Reduction category also observed across other categories?',\n",
       " 'actionable_insight': 'Given that lower priority goals are achieving higher success rates across various categories, this may suggest a need for a thorough review of how goals are prioritized and managed. Organizations might consider reassessing priority assignment processes to ensure that resources are aligned with the actual requirements for achieving success, potentially leading to strategic adjustments in goal setting and resource allocation.'}"
      ]
     },
     "execution_count": 8,
     "metadata": {},
     "output_type": "execute_result"
    }
   ],
   "source": [
    "{\n",
    "    \"data_type\": \"diagnostic\",\n",
    "    \"insight\": \"Widespread high success rates for Low and Medium priority goals across all categories\",\n",
    "    \"insight_value\": {\n",
    "        \"Low\": \"Average 85%\",\n",
    "        \"Medium\": \"Average 80%\",\n",
    "        \"High\": \"Average 12%\",\n",
    "        \"Critical\": \"Average 14%\"\n",
    "    },\n",
    "    \"plot\": {\n",
    "        \"plot_type\": \"bar\",\n",
    "        \"title\": \"Success Rates by Priority Across All Categories\",\n",
    "        \"x_axis\": {\n",
    "            \"name\": \"Priority Level\",\n",
    "            \"value\": \"Low, Medium, High, Critical\",\n",
    "            \"description\": \"This represents the different priority levels for goals across all categories.\"\n",
    "        },\n",
    "        \"y_axis\": {\n",
    "            \"name\": \"Percentage of Goals Successfully Met\",\n",
    "            \"value\": \"significantly high for low/medium categories, low for high/critical categories\",\n",
    "            \"description\": \"This shows the success rates for goals within each priority level across all categories, illustrating a trend where lower priorities unexpectedly have higher success rates.\"\n",
    "        },\n",
    "        \"description\": \"The bar graph indicates that Low and Medium priority goals across all categories consistently achieve higher success rates (75% and 70% respectively) compared to High and Critical priority goals (45% and 30% respectively). This trend challenges the conventional expectation that higher priority goals would typically have better success rates.\"\n",
    "    },\n",
    "    \"question\": \"Is this unusual trend of low and medium priority goals seen in the Cost Reduction category also observed across other categories?\",\n",
    "    \"actionable_insight\": \"Given that lower priority goals are achieving higher success rates across various categories, this may suggest a need for a thorough review of how goals are prioritized and managed. Organizations might consider reassessing priority assignment processes to ensure that resources are aligned with the actual requirements for achieving success, potentially leading to strategic adjustments in goal setting and resource allocation.\"\n",
    "}\n"
   ]
  },
  {
   "cell_type": "markdown",
   "metadata": {},
   "source": [
    "### **Question 4:** What is the distribution of Low and Medium priority goals in Cost Reduction versus other categories?"
   ]
  },
  {
   "cell_type": "markdown",
   "metadata": {},
   "source": [
    "#### Plot distribution of Low and Medium priority goals in Cost Reduction vs other categories\n",
    "\n",
    "This bar graph illustrates the distribution of goals classified as Low or Medium priority within the Cost Reduction categories compared to other categories. It quantifies the counts of such goals, offering insights into how prioritization influences. This visualization helps to understand if there is any disproportionate focus on lower-priority goals consistent across all categories."
   ]
  },
  {
   "cell_type": "code",
   "execution_count": 9,
   "metadata": {
    "execution": {
     "iopub.execute_input": "2024-10-25T19:58:16.991094Z",
     "iopub.status.busy": "2024-10-25T19:58:16.990527Z",
     "iopub.status.idle": "2024-10-25T19:58:17.613038Z",
     "shell.execute_reply": "2024-10-25T19:58:17.611246Z"
    }
   },
   "outputs": [
    {
     "name": "stderr",
     "output_type": "stream",
     "text": [
      "<ipython-input-9-5b3aa7f40e5c>:11: SettingWithCopyWarning: \n",
      "A value is trying to be set on a copy of a slice from a DataFrame.\n",
      "Try using .loc[row_indexer,col_indexer] = value instead\n",
      "\n",
      "See the caveats in the documentation: https://pandas.pydata.org/pandas-docs/stable/user_guide/indexing.html#returning-a-view-versus-a-copy\n",
      "  filtered_goals['CR_or_Other'] = filtered_goals['category'].apply(lambda x: 'Cost Reduction' if x == 'Cost Reduction' else 'Other')\n"
     ]
    },
    {
     "data": {
      "image/png": "[encoded data removed]",
      "text/plain": [
       "<Figure size 720x432 with 1 Axes>"
      ]
     },
     "metadata": {
      "needs_background": "light"
     },
     "output_type": "display_data"
    }
   ],
   "source": [
    "import matplotlib.pyplot as plt\n",
    "import seaborn as sns\n",
    "import pandas as pd\n",
    "\n",
    "# Assume 'goal_data' is your DataFrame and already loaded\n",
    "\n",
    "# Filter the data to include only Critical and High priority goals\n",
    "filtered_goals = goal_data[goal_data['priority'].isin(['Low', 'Medium'])]\n",
    "\n",
    "# Create a new column 'IT_or_Other' to distinguish between IT and other departments\n",
    "filtered_goals['CR_or_Other'] = filtered_goals['category'].apply(lambda x: 'Cost Reduction' if x == 'Cost Reduction' else 'Other')\n",
    "\n",
    "# Count the number of goals in each category\n",
    "priority_counts = filtered_goals.groupby(['CR_or_Other', 'priority']).size().reset_index(name='counts')\n",
    "\n",
    "# Plotting\n",
    "plt.figure(figsize=(10, 6))\n",
    "bar_plot = sns.barplot(x='CR_or_Other', y='counts', hue='priority', data=priority_counts)\n",
    "plt.title('Distribution of Low and Medium Priority Goals: Cost Reduction vs. Other Categories')\n",
    "plt.xlabel('Category')\n",
    "plt.ylabel('Number of Goals')\n",
    "plt.legend(title='Priority')\n",
    "\n",
    "# Annotate bars with the count of goals\n",
    "for p in bar_plot.patches:\n",
    "    bar_plot.annotate(format(p.get_height(), '.0f'), \n",
    "                      (p.get_x() + p.get_width() / 2., p.get_height()), \n",
    "                      ha='center', va='center', \n",
    "                      xytext=(0, 9), \n",
    "                      textcoords='offset points')\n",
    "\n",
    "plt.show()\n"
   ]
  },
  {
   "cell_type": "markdown",
   "metadata": {},
   "source": [
    "#### Generate JSON Description for the Insight"
   ]
  },
  {
   "cell_type": "code",
   "execution_count": 10,
   "metadata": {
    "execution": {
     "iopub.execute_input": "2024-10-25T19:58:17.627035Z",
     "iopub.status.busy": "2024-10-25T19:58:17.626453Z",
     "iopub.status.idle": "2024-10-25T19:58:17.649102Z",
     "shell.execute_reply": "2024-10-25T19:58:17.646822Z"
    }
   },
   "outputs": [
    {
     "data": {
      "text/plain": [
       "{'data_type': 'diagnostic',\n",
       " 'insight': \"Higher number of Low and Medium priority goals in 'Cost Reduction' compared to other categories\",\n",
       " 'insight_value': {'Cost Reduction': {'Low': '55', 'Medium': '47'},\n",
       "  'Other Categories': {'Low': '41', 'Medium': '46'}},\n",
       " 'plot': {'plot_type': 'bar',\n",
       "  'title': 'Distribution of Low and Medium Priority Goals in Cost Reduction vs. Other Categories',\n",
       "  'x_axis': {'name': 'Category and Priority',\n",
       "   'value': 'Cost Reduction, Other Categories',\n",
       "   'description': \"This categorizes goals by priority level within 'Cost Reduction' and combines all other categories for comparison.\"},\n",
       "  'y_axis': {'name': 'Number of Goals',\n",
       "   'value': 'Dynamic based on data',\n",
       "   'description': 'This shows the count of goals classified as Low and Medium priority within each category group.'},\n",
       "  'description': \"The bar graph shows that the 'Cost Reduction' category has a higher number of Low (55) and Medium (47) priority goals compared to other categories, which have 41 Low and 46 Medium priority goals respectively. This distribution underlines why the 'Cost Reduction' category might exhibit higher success rates, as it has more goals in categories typically associated with higher success rates.\"},\n",
       " 'question': 'What is the distribution of Low and Medium priority goals in Cost Reduction versus other categories?',\n",
       " 'actionable_insight': \"The disproportionate number of Low and Medium priority goals in 'Cost Reduction' suggests a strategic focus that effectively leverages these levels for success. Other categories might benefit from a realignment of priorities or a review of goal setting practices to enhance their own success rates, potentially adopting some of the effective strategies used in 'Cost Reduction'.\"}"
      ]
     },
     "execution_count": 10,
     "metadata": {},
     "output_type": "execute_result"
    }
   ],
   "source": [
    "{\n",
    "    \"data_type\": \"diagnostic\",\n",
    "    \"insight\": \"Higher number of Low and Medium priority goals in 'Cost Reduction' compared to other categories\",\n",
    "    \"insight_value\": {\n",
    "        \"Cost Reduction\": {\n",
    "            \"Low\": \"55\",\n",
    "            \"Medium\": \"47\"\n",
    "        },\n",
    "        \"Other Categories\": {\n",
    "            \"Low\": \"41\",\n",
    "            \"Medium\": \"46\"\n",
    "        }\n",
    "    },\n",
    "    \"plot\": {\n",
    "        \"plot_type\": \"bar\",\n",
    "        \"title\": \"Distribution of Low and Medium Priority Goals in Cost Reduction vs. Other Categories\",\n",
    "        \"x_axis\": {\n",
    "            \"name\": \"Category and Priority\",\n",
    "            \"value\": \"Cost Reduction, Other Categories\",\n",
    "            \"description\": \"This categorizes goals by priority level within 'Cost Reduction' and combines all other categories for comparison.\"\n",
    "        },\n",
    "        \"y_axis\": {\n",
    "            \"name\": \"Number of Goals\",\n",
    "            \"value\": \"Dynamic based on data\",\n",
    "            \"description\": \"This shows the count of goals classified as Low and Medium priority within each category group.\"\n",
    "        },\n",
    "        \"description\": \"The bar graph shows that the 'Cost Reduction' category has a higher number of Low (55) and Medium (47) priority goals compared to other categories, which have 41 Low and 46 Medium priority goals respectively. This distribution underlines why the 'Cost Reduction' category might exhibit higher success rates, as it has more goals in categories typically associated with higher success rates.\"\n",
    "    },\n",
    "    \"question\": \"What is the distribution of Low and Medium priority goals in Cost Reduction versus other categories?\",\n",
    "    \"actionable_insight\": \"The disproportionate number of Low and Medium priority goals in 'Cost Reduction' suggests a strategic focus that effectively leverages these levels for success. Other categories might benefit from a realignment of priorities or a review of goal setting practices to enhance their own success rates, potentially adopting some of the effective strategies used in 'Cost Reduction'.\"\n",
    "}\n"
   ]
  },
  {
   "cell_type": "markdown",
   "metadata": {},
   "source": [
    "### **Question 5:** Are there identifiable trends or patterns in resource allocation for 'Cost Reduction' goals that could explain their higher success rates?"
   ]
  },
  {
   "cell_type": "markdown",
   "metadata": {},
   "source": [
    "Insufficient data to identify trends in resource allocation for 'Cost Reduction' goals\n",
    "\n",
    "To better understand the impact of resource allocation on the success rates of 'Cost Reduction' goals, it is recommended that future datasets include detailed resource allocation metrics. This additional data would enable a more targeted analysis and could potentially reveal strategic insights that are currently obscured due to data limitations."
   ]
  },
  {
   "cell_type": "markdown",
   "metadata": {},
   "source": [
    "### Summary of Findings (Flag 29)\n",
    "\n",
    "1. **Anomaly in Success Rates**: The dataset captures an unusual trend where 'Cost Reduction' goals, predominantly classified under Low and Medium priorities, achieve higher success rates. This contrasts with typical goal management where higher priority goals usually see better success rates.\n",
    "   \n",
    "2. **Unique Operational Efficiencies**: The analysis delves into why these goals defy the usual priority-success correlation, suggesting unique operational strategies or efficiencies that may be at play within the organization.\n",
    "   \n",
    "3. **Broad Success across Categories**: Despite their lower priority status, 'Cost Reduction' goals not only outperform in their category but also show widespread higher success rates across all categories at similar priority levels."
   ]
  }
 ],
 "metadata": {
  "kernelspec": {
   "display_name": "stardoc",
   "language": "python",
   "name": "python3"
  },
  "language_info": {
   "codemirror_mode": {
    "name": "ipython",
    "version": 3
   },
   "file_extension": ".py",
   "mimetype": "text/x-python",
   "name": "python",
   "nbconvert_exporter": "python",
   "pygments_lexer": "ipython3",
   "version": "3.8.5"
  }
 },
 "nbformat": 4,
 "nbformat_minor": 2
}

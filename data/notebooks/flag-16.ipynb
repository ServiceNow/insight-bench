{
 "cells": [
  {
   "cell_type": "markdown",
   "metadata": {},
   "source": [
    "## Asset Warranty Analysis (Flag 16)\n",
    "\n",
    "### Dataset Description\n",
    "The dataset consists of 500 entries simulating ServiceNow alm_hardware table, detailing key attributes of hardware assets such as asset tags, display names, configuration item (CI) identifiers, serial numbers, and model categories. It includes information on asset assignment, last update timestamps, cost, departmental allocation, and warranty expiration dates. The table effectively captures asset management activities, offering insights into the operational handling, allocation, and maintenance status of hardware resources across various departments within an organization.\n",
    "\n",
    "### Your Task\n",
    "**Goal**: Analyze the relationship between the cost of assets and their warranty periods to identify discrepancies and align procurement strategies with the observed asset value trends.\n",
    "\n",
    "**Role**: Procurement Manager\n",
    "\n",
    "**Difficulty**: 2 out of 5. This analysis requires deciphering complex patterns in asset pricing and warranty terms.\n",
    "\n",
    "**Category**: Asset Management\n"
   ]
  },
  {
   "cell_type": "markdown",
   "metadata": {},
   "source": [
    "## Import Necessary Libraries\n",
    "This cell imports all necessary libraries required for the analysis. This includes libraries for data manipulation, data visualization, and any specific utilities needed for the tasks. "
   ]
  },
  {
   "cell_type": "code",
   "execution_count": 1,
   "metadata": {
    "execution": {
     "iopub.execute_input": "2024-10-25T19:55:24.249154Z",
     "iopub.status.busy": "2024-10-25T19:55:24.248426Z",
     "iopub.status.idle": "2024-10-25T19:55:27.413996Z",
     "shell.execute_reply": "2024-10-25T19:55:27.411992Z"
    }
   },
   "outputs": [],
   "source": [
    "import argparse\n",
    "import pandas as pd\n",
    "import json\n",
    "import requests\n",
    "import matplotlib.pyplot as plt\n",
    "import numpy as np\n",
    "import seaborn as sns\n",
    "from pandas import date_range"
   ]
  },
  {
   "cell_type": "markdown",
   "metadata": {},
   "source": [
    "## Load Dataset\n",
    "This cell loads the asset management dataset, which is crucial for the analysis of warranty periods relative to asset costs. The data is sourced from a CSV file and the process involves reading the file into a DataFrame to facilitate further operations. Also, perhaps checking the initial few rows to verify the correct loading of the data and ensuring all relevant fields such as asset tag, cost, and warranty expiration are properly imported. "
   ]
  },
  {
   "cell_type": "code",
   "execution_count": 2,
   "metadata": {
    "execution": {
     "iopub.execute_input": "2024-10-25T19:55:27.427574Z",
     "iopub.status.busy": "2024-10-25T19:55:27.426435Z",
     "iopub.status.idle": "2024-10-25T19:55:27.496796Z",
     "shell.execute_reply": "2024-10-25T19:55:27.494583Z"
    }
   },
   "outputs": [
    {
     "data": {
      "text/html": [
       "<div>\n",
       "<style scoped>\n",
       "    .dataframe tbody tr th:only-of-type {\n",
       "        vertical-align: middle;\n",
       "    }\n",
       "\n",
       "    .dataframe tbody tr th {\n",
       "        vertical-align: top;\n",
       "    }\n",
       "\n",
       "    .dataframe thead th {\n",
       "        text-align: right;\n",
       "    }\n",
       "</style>\n",
       "<table border=\"1\" class=\"dataframe\">\n",
       "  <thead>\n",
       "    <tr style=\"text-align: right;\">\n",
       "      <th></th>\n",
       "      <th>assigned_to</th>\n",
       "      <th>purchased_on</th>\n",
       "      <th>cost</th>\n",
       "      <th>serial_number</th>\n",
       "      <th>sys_updated_on</th>\n",
       "      <th>warranty_expiration</th>\n",
       "      <th>model_category</th>\n",
       "      <th>department</th>\n",
       "      <th>asset_tag</th>\n",
       "      <th>display_name</th>\n",
       "      <th>ci</th>\n",
       "    </tr>\n",
       "  </thead>\n",
       "  <tbody>\n",
       "    <tr>\n",
       "      <th>0</th>\n",
       "      <td>Valeria Lingbeek</td>\n",
       "      <td>2023-09-16 09:47:00</td>\n",
       "      <td>2688</td>\n",
       "      <td>FUM-85495157</td>\n",
       "      <td>2023-10-25 09:47:00</td>\n",
       "      <td>2026-04-16 09:47:00</td>\n",
       "      <td>Computer</td>\n",
       "      <td>Sales</td>\n",
       "      <td>P1000000</td>\n",
       "      <td>Dell Inspiron Desktop Computer</td>\n",
       "      <td>Inspiron Desktop</td>\n",
       "    </tr>\n",
       "    <tr>\n",
       "      <th>1</th>\n",
       "      <td>Kurtis Asberry</td>\n",
       "      <td>2024-03-26 15:43:00</td>\n",
       "      <td>2596</td>\n",
       "      <td>QFX-47362028</td>\n",
       "      <td>2024-04-11 15:43:00</td>\n",
       "      <td>2026-09-10 15:43:00</td>\n",
       "      <td>Computer</td>\n",
       "      <td>Sales</td>\n",
       "      <td>P1000001</td>\n",
       "      <td>Dell Inspiron 15</td>\n",
       "      <td>Inspiron 15</td>\n",
       "    </tr>\n",
       "    <tr>\n",
       "      <th>2</th>\n",
       "      <td>Darrel Tork</td>\n",
       "      <td>2024-03-09 10:16:00</td>\n",
       "      <td>4786</td>\n",
       "      <td>SKI-78647990</td>\n",
       "      <td>2024-04-23 10:16:00</td>\n",
       "      <td>2029-07-25 10:16:00</td>\n",
       "      <td>Computer</td>\n",
       "      <td>Customer Support</td>\n",
       "      <td>P1000002</td>\n",
       "      <td>Dell Inspiron 5558 Computer</td>\n",
       "      <td>Inspiron 5558</td>\n",
       "    </tr>\n",
       "    <tr>\n",
       "      <th>3</th>\n",
       "      <td>Dorthy Alexy</td>\n",
       "      <td>2024-01-31 09:21:00</td>\n",
       "      <td>1631</td>\n",
       "      <td>EMF-32833485</td>\n",
       "      <td>2024-02-12 09:21:00</td>\n",
       "      <td>2025-04-03 09:21:00</td>\n",
       "      <td>Computer</td>\n",
       "      <td>Development</td>\n",
       "      <td>P1000003</td>\n",
       "      <td>Dell Inspiron 15 3000 Computer</td>\n",
       "      <td>Inspiron 15 3000</td>\n",
       "    </tr>\n",
       "    <tr>\n",
       "      <th>4</th>\n",
       "      <td>Vince Ettel</td>\n",
       "      <td>2023-07-14 09:56:00</td>\n",
       "      <td>2834</td>\n",
       "      <td>XUQ-81198965</td>\n",
       "      <td>2023-09-04 09:56:00</td>\n",
       "      <td>2026-04-23 09:56:00</td>\n",
       "      <td>Computer</td>\n",
       "      <td>Customer Support</td>\n",
       "      <td>P1000004</td>\n",
       "      <td>Dell Inspiron 7000 Computer</td>\n",
       "      <td>Inspiron 7000</td>\n",
       "    </tr>\n",
       "  </tbody>\n",
       "</table>\n",
       "</div>"
      ],
      "text/plain": [
       "        assigned_to         purchased_on  cost serial_number  \\\n",
       "0  Valeria Lingbeek  2023-09-16 09:47:00  2688  FUM-85495157   \n",
       "1    Kurtis Asberry  2024-03-26 15:43:00  2596  QFX-47362028   \n",
       "2       Darrel Tork  2024-03-09 10:16:00  4786  SKI-78647990   \n",
       "3      Dorthy Alexy  2024-01-31 09:21:00  1631  EMF-32833485   \n",
       "4       Vince Ettel  2023-07-14 09:56:00  2834  XUQ-81198965   \n",
       "\n",
       "        sys_updated_on  warranty_expiration model_category        department  \\\n",
       "0  2023-10-25 09:47:00  2026-04-16 09:47:00       Computer             Sales   \n",
       "1  2024-04-11 15:43:00  2026-09-10 15:43:00       Computer             Sales   \n",
       "2  2024-04-23 10:16:00  2029-07-25 10:16:00       Computer  Customer Support   \n",
       "3  2024-02-12 09:21:00  2025-04-03 09:21:00       Computer       Development   \n",
       "4  2023-09-04 09:56:00  2026-04-23 09:56:00       Computer  Customer Support   \n",
       "\n",
       "  asset_tag                    display_name                ci  \n",
       "0  P1000000  Dell Inspiron Desktop Computer  Inspiron Desktop  \n",
       "1  P1000001                Dell Inspiron 15       Inspiron 15  \n",
       "2  P1000002     Dell Inspiron 5558 Computer     Inspiron 5558  \n",
       "3  P1000003  Dell Inspiron 15 3000 Computer  Inspiron 15 3000  \n",
       "4  P1000004     Dell Inspiron 7000 Computer     Inspiron 7000  "
      ]
     },
     "execution_count": 2,
     "metadata": {},
     "output_type": "execute_result"
    }
   ],
   "source": [
    "dataset_path = \"csvs/flag-16.csv\"\n",
    "flag_data = pd.read_csv(dataset_path)\n",
    "flag_data.head()"
   ]
  },
  {
   "cell_type": "markdown",
   "metadata": {},
   "source": [
    "### **Question 1: What is the distribution Average Warranty Period across  Model Categories?**"
   ]
  },
  {
   "cell_type": "markdown",
   "metadata": {},
   "source": [
    "#### Plot average warranty period by model category\n",
    "\n",
    "This cell creates a bar plot to visualize the average warranty periods for different model categories of hardware assets. By examining the warranty duration associated with each category, this visualization aims to identify trends and discrepancies in warranty coverage that could influence procurement and asset amangement decisions"
   ]
  },
  {
   "cell_type": "code",
   "execution_count": 3,
   "metadata": {
    "execution": {
     "iopub.execute_input": "2024-10-25T19:55:27.511763Z",
     "iopub.status.busy": "2024-10-25T19:55:27.511189Z",
     "iopub.status.idle": "2024-10-25T19:55:28.294484Z",
     "shell.execute_reply": "2024-10-25T19:55:28.292302Z"
    }
   },
   "outputs": [
    {
     "data": {
      "image/png": "[encoded data removed]",
      "text/plain": [
       "<Figure size 720x432 with 1 Axes>"
      ]
     },
     "metadata": {
      "needs_background": "light"
     },
     "output_type": "display_data"
    }
   ],
   "source": [
    "import matplotlib.pyplot as plt\n",
    "\n",
    "flag_data[\"warranty_expiration\"] = pd.to_datetime(flag_data[\"warranty_expiration\"])\n",
    "flag_data[\"sys_updated_on\"] = pd.to_datetime(flag_data[\"sys_updated_on\"])\n",
    "# Calculate the warranty period in years for each asset\n",
    "flag_data['warranty_period_years'] = (flag_data['warranty_expiration'] - flag_data['sys_updated_on']).dt.days / 365\n",
    "\n",
    "# Group by model_category and calculate the average warranty period\n",
    "avg_warranty_by_category = flag_data.groupby('model_category')['warranty_period_years'].mean()\n",
    "\n",
    "# Plotting\n",
    "a_plot = avg_warranty_by_category.plot(kind='bar', color='skyblue', figsize=(10, 6))\n",
    "for p in a_plot.patches:\n",
    "    a_plot.annotate(format(p.get_height(), '.2f'), \n",
    "                          (p.get_x() + p.get_width() / 2., p.get_height()), \n",
    "                          ha = 'center', va = 'center', \n",
    "                          xytext = (0, 9), \n",
    "                          textcoords = 'offset points')\n",
    "plt.xlabel('Model Category')\n",
    "plt.ylabel('Average Warranty Period (Years)')\n",
    "plt.title('Average Warranty Period by Model Category')\n",
    "plt.xticks(rotation=45)\n",
    "plt.tight_layout()  # Adjust layout to make room for the rotated x-axis labels\n",
    "\n",
    "# Show the plot\n",
    "plt.show()"
   ]
  },
  {
   "cell_type": "markdown",
   "metadata": {},
   "source": [
    "#### Generate JSON Description for the Insight"
   ]
  },
  {
   "cell_type": "code",
   "execution_count": 4,
   "metadata": {
    "execution": {
     "iopub.execute_input": "2024-10-25T19:55:28.308383Z",
     "iopub.status.busy": "2024-10-25T19:55:28.307866Z",
     "iopub.status.idle": "2024-10-25T19:55:28.332905Z",
     "shell.execute_reply": "2024-10-25T19:55:28.330704Z"
    }
   },
   "outputs": [
    {
     "data": {
      "text/plain": [
       "{'data_type': 'descriptive',\n",
       " 'insight': 'Computers exhibit significantly longer warranty periods compared to other asset categories, which may reflect their higher cost and complexity.',\n",
       " 'insight_value': {'description': 'The average warranty period for Computers is markedly higher than for other asset categories, suggesting a strategic emphasis on longer warranties for more expensive and complex equipment.'},\n",
       " 'plot': {'plot_type': 'bar',\n",
       "  'title': 'Average Warranty Period by Asset Model Category',\n",
       "  'x_axis': {'name': 'Model Category',\n",
       "   'value': ['Computer',\n",
       "    'Computer Peripheral',\n",
       "    'Printer',\n",
       "    'Rack',\n",
       "    'Server',\n",
       "    'Storage Device',\n",
       "    'Web Server'],\n",
       "   'description': 'This axis categorizes different types of assets based on their model category.'},\n",
       "  'y_axis': {'name': 'Average Warranty Period (years)',\n",
       "   'value': {'Computer': '3.28 years',\n",
       "    'Computer Peripheral': '2.09 years',\n",
       "    'Printer': '1.90 years',\n",
       "    'Rack': '1.75 years',\n",
       "    'Server': '1.92 years',\n",
       "    'Storage Device': '2.11 years',\n",
       "    'Web Server': '1.85 years'},\n",
       "   'description': 'This axis displays the average warranty period for each model category, clearly showing the variation in warranty terms across different asset types.'},\n",
       "  'description': 'The bar chart visually represents the average warranty periods across various asset model categories. It highlights that Computers have a significantly longer average warranty of 3.31 years, emphasizing their importance and value within the organization compared to other categories with shorter warranty periods.'},\n",
       " 'question': 'What is the distribution of Average Warranty Period across Model Categories?',\n",
       " 'actionable_insight': 'The longer warranty period for Computers underlines the need for detailed scrutiny of procurement contracts for these assets. Organizations should consider leveraging this data to negotiate extended warranty periods for other high-value asset categories to ensure better return on investment and reduced maintenance costs.'}"
      ]
     },
     "execution_count": 4,
     "metadata": {},
     "output_type": "execute_result"
    }
   ],
   "source": [
    "{\n",
    "    \"data_type\": \"descriptive\",\n",
    "    \"insight\": \"Computers exhibit significantly longer warranty periods compared to other asset categories, which may reflect their higher cost and complexity.\",\n",
    "    \"insight_value\": {\n",
    "        \"description\": \"The average warranty period for Computers is markedly higher than for other asset categories, suggesting a strategic emphasis on longer warranties for more expensive and complex equipment.\"\n",
    "    },\n",
    "    \"plot\": {\n",
    "        \"plot_type\": \"bar\",\n",
    "        \"title\": \"Average Warranty Period by Asset Model Category\",\n",
    "        \"x_axis\": {\n",
    "            \"name\": \"Model Category\",\n",
    "            \"value\": [\"Computer\", \"Computer Peripheral\", \"Printer\", \"Rack\", \"Server\", \"Storage Device\", \"Web Server\"],\n",
    "            \"description\": \"This axis categorizes different types of assets based on their model category.\"\n",
    "        },\n",
    "        \"y_axis\": {\n",
    "            \"name\": \"Average Warranty Period (years)\",\n",
    "            \"value\": {\n",
    "                \"Computer\": \"3.28 years\",\n",
    "                \"Computer Peripheral\": \"2.09 years\",\n",
    "                \"Printer\": \"1.90 years\",\n",
    "                \"Rack\": \"1.75 years\",\n",
    "                \"Server\": \"1.92 years\",\n",
    "                \"Storage Device\": \"2.11 years\",\n",
    "                \"Web Server\": \"1.85 years\"\n",
    "            },\n",
    "            \"description\": \"This axis displays the average warranty period for each model category, clearly showing the variation in warranty terms across different asset types.\"\n",
    "        },\n",
    "        \"description\": \"The bar chart visually represents the average warranty periods across various asset model categories. It highlights that Computers have a significantly longer average warranty of 3.31 years, emphasizing their importance and value within the organization compared to other categories with shorter warranty periods.\"\n",
    "    },\n",
    "    \"question\": \"What is the distribution of Average Warranty Period across Model Categories?\",\n",
    "    \"actionable_insight\": \"The longer warranty period for Computers underlines the need for detailed scrutiny of procurement contracts for these assets. Organizations should consider leveraging this data to negotiate extended warranty periods for other high-value asset categories to ensure better return on investment and reduced maintenance costs.\"\n",
    "}\n"
   ]
  },
  {
   "cell_type": "markdown",
   "metadata": {},
   "source": [
    "### **Question 2: What is the distribution Average asset cost across  Model Categories?**\n"
   ]
  },
  {
   "cell_type": "markdown",
   "metadata": {},
   "source": [
    "#### Plot average cost by model category\n",
    "This cell presents a bar plot that illustrates the average cost of assets within each model category. By analyzing the cost distribution, this visualization helps identify financial implications of asset types managed by the department, offering insights into budget allocations etc."
   ]
  },
  {
   "cell_type": "code",
   "execution_count": 5,
   "metadata": {
    "execution": {
     "iopub.execute_input": "2024-10-25T19:55:28.348445Z",
     "iopub.status.busy": "2024-10-25T19:55:28.347933Z",
     "iopub.status.idle": "2024-10-25T19:55:28.965699Z",
     "shell.execute_reply": "2024-10-25T19:55:28.963414Z"
    }
   },
   "outputs": [
    {
     "data": {
      "image/png": "[encoded data removed]",
      "text/plain": [
       "<Figure size 720x432 with 1 Axes>"
      ]
     },
     "metadata": {
      "needs_background": "light"
     },
     "output_type": "display_data"
    }
   ],
   "source": [
    "import matplotlib.pyplot as plt\n",
    "\n",
    "flag_data[\"warranty_expiration\"] = pd.to_datetime(flag_data[\"warranty_expiration\"])\n",
    "flag_data[\"sys_updated_on\"] = pd.to_datetime(flag_data[\"sys_updated_on\"])\n",
    "# Calculate the warranty period in years for each asset\n",
    "flag_data['warranty_period_years'] = (flag_data['warranty_expiration'] - flag_data['sys_updated_on']).dt.days / 365\n",
    "\n",
    "# Group by model_category and calculate the average warranty period\n",
    "avg_warranty_by_category = flag_data.groupby('model_category')['cost'].mean()\n",
    "\n",
    "# Plotting\n",
    "a_plot = avg_warranty_by_category.plot(kind='bar', color='skyblue', figsize=(10, 6))\n",
    "for p in a_plot.patches:\n",
    "    a_plot.annotate(format(p.get_height(), '.2f'), \n",
    "                          (p.get_x() + p.get_width() / 2., p.get_height()), \n",
    "                          ha = 'center', va = 'center', \n",
    "                          xytext = (0, 9), \n",
    "                          textcoords = 'offset points')\n",
    "plt.xlabel('Model Category')\n",
    "plt.ylabel('Average Cost ($)')\n",
    "plt.title('Average Cost by Model Category')\n",
    "plt.xticks(rotation=45)\n",
    "plt.tight_layout()  # Adjust layout to make room for the rotated x-axis labels\n",
    "\n",
    "# Show the plot\n",
    "plt.show()"
   ]
  },
  {
   "cell_type": "markdown",
   "metadata": {},
   "source": [
    "#### Generate JSON Description for the Insight"
   ]
  },
  {
   "cell_type": "code",
   "execution_count": 6,
   "metadata": {
    "execution": {
     "iopub.execute_input": "2024-10-25T19:55:28.978808Z",
     "iopub.status.busy": "2024-10-25T19:55:28.978281Z",
     "iopub.status.idle": "2024-10-25T19:55:29.002498Z",
     "shell.execute_reply": "2024-10-25T19:55:29.000235Z"
    }
   },
   "outputs": [
    {
     "data": {
      "text/plain": [
       "{'data_type': 'descriptive',\n",
       " 'insight': 'Servers and Web Servers are the most expensive asset categories on average, followed by computers.',\n",
       " 'insight_value': {'description': 'Average costs vary significantly across model categories, with Servers and Web Servers leading in terms of investment required.'},\n",
       " 'plot': {'plot_type': 'bar',\n",
       "  'title': 'Average Asset Cost by Model Category',\n",
       "  'x_axis': {'name': 'Model Category',\n",
       "   'value': ['Server',\n",
       "    'Web Server',\n",
       "    'Computer',\n",
       "    'Printer',\n",
       "    'Rack',\n",
       "    'Computer Peripheral',\n",
       "    'Storage Device'],\n",
       "   'description': 'This axis categorizes different types of assets based on their model category.'},\n",
       "  'y_axis': {'name': 'Average Cost (USD)',\n",
       "   'value': {'Server': '8775.90$',\n",
       "    'Web Server': '8000$',\n",
       "    'Computer': '3274.48$',\n",
       "    'Printer': '1478.14$',\n",
       "    'Rack': '400.0$',\n",
       "    'Computer Peripheral': '331.27$',\n",
       "    'Storage Device': '299.9$'},\n",
       "   'description': 'This axis displays the average cost for each asset model category, highlighting the substantial cost disparities among different asset types.'},\n",
       "  'description': 'The bar chart clearly illustrates the average costs associated with different asset model categories within the organization. It underscores that Servers and Web Servers are notably more expensive on average than other categories such as Computers, Printers, and more peripheral equipment.'},\n",
       " 'question': 'What is the distribution of Average asset cost across Model Categories?',\n",
       " 'actionable_insight': \"Given the higher average costs associated with Servers and Web Servers, it's essential for the organization to carefully consider the lifecycle costs and benefits of these investments. Prioritizing maintenance and potentially exploring bulk purchasing agreements or extended warranties for these high-cost items could yield significant cost savings over time.\"}"
      ]
     },
     "execution_count": 6,
     "metadata": {},
     "output_type": "execute_result"
    }
   ],
   "source": [
    "{\n",
    "    \"data_type\": \"descriptive\",\n",
    "    \"insight\": \"Servers and Web Servers are the most expensive asset categories on average, followed by computers.\",\n",
    "    \"insight_value\": {\n",
    "        \"description\": \"Average costs vary significantly across model categories, with Servers and Web Servers leading in terms of investment required.\"\n",
    "    },\n",
    "    \"plot\": {\n",
    "        \"plot_type\": \"bar\",\n",
    "        \"title\": \"Average Asset Cost by Model Category\",\n",
    "        \"x_axis\": {\n",
    "            \"name\": \"Model Category\",\n",
    "            \"value\": [\"Server\", \"Web Server\", \"Computer\", \"Printer\", \"Rack\", \"Computer Peripheral\", \"Storage Device\"],\n",
    "            \"description\": \"This axis categorizes different types of assets based on their model category.\"\n",
    "        },\n",
    "        \"y_axis\": {\n",
    "            \"name\": \"Average Cost (USD)\",\n",
    "            \"value\": {\n",
    "                \"Server\": \"8775.90$\",\n",
    "                \"Web Server\": \"8000$\",\n",
    "                \"Computer\": \"3274.48$\",\n",
    "                \"Printer\": \"1478.14$\",\n",
    "                \"Rack\": \"400.0$\",\n",
    "                \"Computer Peripheral\": \"331.27$\",\n",
    "                \"Storage Device\": \"299.9$\"\n",
    "            },\n",
    "            \"description\": \"This axis displays the average cost for each asset model category, highlighting the substantial cost disparities among different asset types.\"\n",
    "        },\n",
    "        \"description\": \"The bar chart clearly illustrates the average costs associated with different asset model categories within the organization. It underscores that Servers and Web Servers are notably more expensive on average than other categories such as Computers, Printers, and more peripheral equipment.\"\n",
    "    },\n",
    "    \"question\": \"What is the distribution of Average asset cost across Model Categories?\",\n",
    "    \"actionable_insight\": \"Given the higher average costs associated with Servers and Web Servers, it's essential for the organization to carefully consider the lifecycle costs and benefits of these investments. Prioritizing maintenance and potentially exploring bulk purchasing agreements or extended warranties for these high-cost items could yield significant cost savings over time.\"\n",
    "}\n"
   ]
  },
  {
   "cell_type": "markdown",
   "metadata": {},
   "source": [
    "### **Question 3: What is the correlation between the cost of computer assets and their warranty periods?**\n"
   ]
  },
  {
   "cell_type": "markdown",
   "metadata": {},
   "source": [
    "#### Plot correlation between cost and warranty period of computers\n",
    "This cell creates a scatter plot to visualize the relationship between the cost of computer assets and their warranty periods within 'Computer' model category. By plotting cost against warranty duration, this plot aims to explore whether more expensive computer assets come with longer warranties perhaps indicating higher quality or confidence from manufacturers."
   ]
  },
  {
   "cell_type": "code",
   "execution_count": 7,
   "metadata": {
    "execution": {
     "iopub.execute_input": "2024-10-25T19:55:29.018633Z",
     "iopub.status.busy": "2024-10-25T19:55:29.018130Z",
     "iopub.status.idle": "2024-10-25T19:55:29.513193Z",
     "shell.execute_reply": "2024-10-25T19:55:29.510765Z"
    }
   },
   "outputs": [
    {
     "data": {
      "image/png": "[encoded data removed]",
      "text/plain": [
       "<Figure size 432x288 with 1 Axes>"
      ]
     },
     "metadata": {
      "needs_background": "light"
     },
     "output_type": "display_data"
    }
   ],
   "source": [
    "import seaborn as sns\n",
    "import matplotlib.pyplot as plt\n",
    "\n",
    "flag_data[\"warranty_expiration\"] = pd.to_datetime(flag_data[\"warranty_expiration\"])\n",
    "flag_data[\"purchased_on\"] = pd.to_datetime(flag_data[\"purchased_on\"])\n",
    "\n",
    "computer_data = flag_data[flag_data['model_category'] == 'Computer']\n",
    "plt.scatter(computer_data['cost'], (computer_data['warranty_expiration'] - computer_data['purchased_on']).dt.days / 365)\n",
    "plt.xlabel('Cost ($)')\n",
    "plt.ylabel('Warranty Period (Years)')\n",
    "plt.title('Correlation between Cost and Warranty Period of Computers')\n",
    "plt.show()"
   ]
  },
  {
   "cell_type": "markdown",
   "metadata": {},
   "source": [
    "#### Generate JSON Description for the Insight"
   ]
  },
  {
   "cell_type": "code",
   "execution_count": 8,
   "metadata": {
    "execution": {
     "iopub.execute_input": "2024-10-25T19:55:29.526125Z",
     "iopub.status.busy": "2024-10-25T19:55:29.525561Z",
     "iopub.status.idle": "2024-10-25T19:55:29.544847Z",
     "shell.execute_reply": "2024-10-25T19:55:29.542932Z"
    }
   },
   "outputs": [
    {
     "data": {
      "text/plain": [
       "{'data_type': 'correlative',\n",
       " 'insight': 'Strong positive correlation between the cost of computer assets and their warranty periods.',\n",
       " 'insight_value': {'description': 'More expensive computer assets tend to have longer warranty periods, suggesting that higher costs are associated with extended warranty provisions.'},\n",
       " 'plot': {'plot_type': 'scatter',\n",
       "  'title': 'Correlation Between Cost of Computers and Their Warranty Periods',\n",
       "  'x_axis': {'name': 'Cost of Computer Assets (USD)',\n",
       "   'value': 'Continuously variable cost amounts',\n",
       "   'description': 'This axis represents the cost of computer assets, highlighting a range from lower to higher priced models.'},\n",
       "  'y_axis': {'name': 'Warranty Period (years)',\n",
       "   'value': 'Continuously variable warranty durations',\n",
       "   'description': 'This axis displays the warranty periods associated with each cost level, illustrating how warranty durations increase with asset cost.'},\n",
       "  'description': \"The scatter plot demonstrates a clear linear correlation between the cost of computer assets and their warranty periods. This trend confirms that more expensive computers not only cost more but also come with longer warranties, possibly reflecting a manufacturer's confidence in their high-value products.\"},\n",
       " 'question': 'What is the correlation between the cost of computer assets and their warranty periods?',\n",
       " 'actionable_insight': 'This observed correlation suggests that investing in more expensive computer assets could be beneficial for the organization in terms of receiving longer warranty periods, which might translate to lower long-term maintenance costs and greater asset reliability. It is advisable for procurement teams to factor in warranty durations when assessing the total cost of ownership for high-end computer assets.'}"
      ]
     },
     "execution_count": 8,
     "metadata": {},
     "output_type": "execute_result"
    }
   ],
   "source": [
    "{\n",
    "    \"data_type\": \"correlative\",\n",
    "    \"insight\": \"Strong positive correlation between the cost of computer assets and their warranty periods.\",\n",
    "    \"insight_value\": {\n",
    "        \"description\": \"More expensive computer assets tend to have longer warranty periods, suggesting that higher costs are associated with extended warranty provisions.\"\n",
    "    },\n",
    "    \"plot\": {\n",
    "        \"plot_type\": \"scatter\",\n",
    "        \"title\": \"Correlation Between Cost of Computers and Their Warranty Periods\",\n",
    "        \"x_axis\": {\n",
    "            \"name\": \"Cost of Computer Assets (USD)\",\n",
    "            \"value\": \"Continuously variable cost amounts\",\n",
    "            \"description\": \"This axis represents the cost of computer assets, highlighting a range from lower to higher priced models.\"\n",
    "        },\n",
    "        \"y_axis\": {\n",
    "            \"name\": \"Warranty Period (years)\",\n",
    "            \"value\": \"Continuously variable warranty durations\",\n",
    "            \"description\": \"This axis displays the warranty periods associated with each cost level, illustrating how warranty durations increase with asset cost.\"\n",
    "        },\n",
    "        \"description\": \"The scatter plot demonstrates a clear linear correlation between the cost of computer assets and their warranty periods. This trend confirms that more expensive computers not only cost more but also come with longer warranties, possibly reflecting a manufacturer's confidence in their high-value products.\"\n",
    "    },\n",
    "    \"question\": \"What is the correlation between the cost of computer assets and their warranty periods?\",\n",
    "    \"actionable_insight\": \"This observed correlation suggests that investing in more expensive computer assets could be beneficial for the organization in terms of receiving longer warranty periods, which might translate to lower long-term maintenance costs and greater asset reliability. It is advisable for procurement teams to factor in warranty durations when assessing the total cost of ownership for high-end computer assets.\"\n",
    "}\n"
   ]
  },
  {
   "cell_type": "markdown",
   "metadata": {},
   "source": [
    "**Question 4: What implications does the correlation between cost and warranty period have for asset lifecycle management?\n"
   ]
  },
  {
   "cell_type": "markdown",
   "metadata": {},
   "source": [
    "Given the established correlation between the cost of computer assets and their warranty periods, the implications for asset lifecycle management cpould be significant:\n",
    "1. **Strategic Procurement**: Organizations can strategize their procurement practices by opting for higher-cost assets that come with longer warranties. This approach could reduce long-term maintenance costs. \n",
    "2. **Budget Planning**: Understanding the correlation helps in forecasting budget allocations more accurately. Longer warranty periods on more expensive assets might initially raise procurement costs but can decrease the total cost of ownership by lowering post-warranty repair and replacement expenses.\n",
    "3. **Risk Management**: By choosing assets with longer warranties, organizations can mitigate the risk associated with equipment failures.\n",
    "In essence, the correlation between asset cost and warranty duration informs a more thoughtful, cost-effective approach to managing the lifecycle of technology assets, aligning procurement strategies with long-term operational and financial planning."
   ]
  },
  {
   "cell_type": "markdown",
   "metadata": {},
   "source": [
    "### Summary of Findings (Flag 16):\n",
    "\n",
    "1. **Data Insights**: The dataset comprises entries from the ServiceNow alm_hardware table, detailing attributes like asset tags, costs, and warranty expiration dates. \n",
    "\n",
    "2. **Trend Observation**: The dataset captures a trend where the warranty period of computer assets increases as their cost increases. This suggests that more expensive assets may come with longer warranties, potentially reflecting higher confidence from manufacturers in their more advanced or higher-quality products.\n",
    "\n",
    "3. **Strategic Implications**: Understanding these trends is crucial for strategic asset management, offering insights that can inform procurement decisions and asset lifecycle planning."
   ]
  }
 ],
 "metadata": {
  "kernelspec": {
   "display_name": "stardoc",
   "language": "python",
   "name": "python3"
  },
  "language_info": {
   "codemirror_mode": {
    "name": "ipython",
    "version": 3
   },
   "file_extension": ".py",
   "mimetype": "text/x-python",
   "name": "python",
   "nbconvert_exporter": "python",
   "pygments_lexer": "ipython3",
   "version": "3.8.5"
  }
 },
 "nbformat": 4,
 "nbformat_minor": 2
}

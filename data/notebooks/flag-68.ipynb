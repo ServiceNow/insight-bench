{
 "cells": [
  {
   "cell_type": "markdown",
   "metadata": {},
   "source": [
    "## Expense Rejection Trends for New Employees (Flag 68)\n",
    "\n",
    "### Dataset Description\n",
    "The dataset comprises two key tables simulating ServiceNow platform: the `sys_user` table and the `fm_expense_line`. The fm_expense_line dataset consists of 500 entries from, which records various attributes of financial expenses. Key fields include 'number', 'opened_at', 'amount', 'state', 'short_description', 'ci', 'user', 'department', 'category', 'process_date', 'source_id', and 'type'. This table documents the flow of financial transactions by detailing the amount, departmental allocation, and the nature of each expense. Provides a clear view of organizational expenditures across different categories, highlighting both the timing and the approval state of each financial entry. The `sys_user` table, on the other hand, contains user-related information, focusing on the details of employees or system users. This includes fields such as 'user_id', 'name', 'title', 'email', 'start_date', and 'department', providing insights into the user profiles managed within the ServiceNow system.\n",
    "\n",
    "### Your Task\n",
    "**Goal**: To determine how employment duration influences expense submission errors and rejections, with the aim of enhancing policy compliance and understanding among newer employees.\n",
    "\n",
    "**Role**: HR Data Analyst\n",
    "\n",
    "**Difficulty**: 2 out of 5. This analysis involves a detailed investigation into employee behavior patterns and policy adherence, requiring data manipulation and to also suggest actionable_insights.\n",
    "\n",
    "**Category**: Finance Management and User Management"
   ]
  },
  {
   "cell_type": "markdown",
   "metadata": {},
   "source": [
    "### Import Necessary Libraries\n",
    "This cell imports all necessary libraries required for the analysis. This includes libraries for data manipulation, data visualization, and any specific utilities needed for the tasks. "
   ]
  },
  {
   "cell_type": "code",
   "execution_count": 4,
   "metadata": {
    "execution": {
     "iopub.execute_input": "2024-10-29T17:15:44.239879Z",
     "iopub.status.busy": "2024-10-29T17:15:44.238208Z",
     "iopub.status.idle": "2024-10-29T17:15:48.026762Z",
     "shell.execute_reply": "2024-10-29T17:15:48.024956Z"
    }
   },
   "outputs": [],
   "source": [
    "import argparse\n",
    "import pandas as pd\n",
    "import json\n",
    "import requests\n",
    "import matplotlib.pyplot as plt\n",
    "import numpy as np\n",
    "import seaborn as sns\n",
    "from pandas import date_range"
   ]
  },
  {
   "cell_type": "markdown",
   "metadata": {},
   "source": [
    "### Load Dataset\n",
    "This cell loads the dataset to be analyzed. The data is stored in the from a CSV file, and is imported into a DataFrame. It involves specifying the path to the dataset, using pandas to read the file, and confirming its successful load by inspecting the first few table entries."
   ]
  },
  {
   "cell_type": "code",
   "execution_count": 5,
   "metadata": {
    "execution": {
     "iopub.execute_input": "2024-10-29T17:15:48.041819Z",
     "iopub.status.busy": "2024-10-29T17:15:48.040977Z",
     "iopub.status.idle": "2024-10-29T17:15:48.114017Z",
     "shell.execute_reply": "2024-10-29T17:15:48.112421Z"
    }
   },
   "outputs": [
    {
     "data": {
      "text/html": [
       "<div>\n",
       "<style scoped>\n",
       "    .dataframe tbody tr th:only-of-type {\n",
       "        vertical-align: middle;\n",
       "    }\n",
       "\n",
       "    .dataframe tbody tr th {\n",
       "        vertical-align: top;\n",
       "    }\n",
       "\n",
       "    .dataframe thead th {\n",
       "        text-align: right;\n",
       "    }\n",
       "</style>\n",
       "<table border=\"1\" class=\"dataframe\">\n",
       "  <thead>\n",
       "    <tr style=\"text-align: right;\">\n",
       "      <th></th>\n",
       "      <th>user</th>\n",
       "      <th>category</th>\n",
       "      <th>source_id</th>\n",
       "      <th>number</th>\n",
       "      <th>amount</th>\n",
       "      <th>opened_at</th>\n",
       "      <th>department</th>\n",
       "      <th>state</th>\n",
       "      <th>type</th>\n",
       "      <th>processed_date</th>\n",
       "      <th>short_description</th>\n",
       "      <th>ci</th>\n",
       "    </tr>\n",
       "  </thead>\n",
       "  <tbody>\n",
       "    <tr>\n",
       "      <th>0</th>\n",
       "      <td>Marcie Shulz</td>\n",
       "      <td>Services</td>\n",
       "      <td>MFI-20723923</td>\n",
       "      <td>EXP00000000</td>\n",
       "      <td>1299</td>\n",
       "      <td>2023-08-11 00:13:00</td>\n",
       "      <td>Customer Support</td>\n",
       "      <td>Processed</td>\n",
       "      <td>NaN</td>\n",
       "      <td>2023-08-12 00:13:00.000000000</td>\n",
       "      <td>Configuration for Service Asset</td>\n",
       "      <td>Enterprise Cloud Service</td>\n",
       "    </tr>\n",
       "    <tr>\n",
       "      <th>1</th>\n",
       "      <td>Valerie Pou</td>\n",
       "      <td>Travel</td>\n",
       "      <td>NaN</td>\n",
       "      <td>EXP00000001</td>\n",
       "      <td>1074</td>\n",
       "      <td>2023-07-02 10:47:00</td>\n",
       "      <td>Customer Support</td>\n",
       "      <td>Declined</td>\n",
       "      <td>NaN</td>\n",
       "      <td>NaN</td>\n",
       "      <td>Travel equipment allocation</td>\n",
       "      <td>Travel Kit - Nikon DSLR camera</td>\n",
       "    </tr>\n",
       "    <tr>\n",
       "      <th>2</th>\n",
       "      <td>Germaine Bruski</td>\n",
       "      <td>Assets</td>\n",
       "      <td>HMD-81762205</td>\n",
       "      <td>EXP00000002</td>\n",
       "      <td>5188</td>\n",
       "      <td>2023-10-10 22:33:00</td>\n",
       "      <td>Finance</td>\n",
       "      <td>Processed</td>\n",
       "      <td>NaN</td>\n",
       "      <td>2023-10-16 23:44:01.956103185</td>\n",
       "      <td>Asset registration: HP EliteBook 840 G6</td>\n",
       "      <td>HP EliteBook 840 G6</td>\n",
       "    </tr>\n",
       "    <tr>\n",
       "      <th>3</th>\n",
       "      <td>Howard Johnson</td>\n",
       "      <td>Travel</td>\n",
       "      <td>NaN</td>\n",
       "      <td>EXP00000003</td>\n",
       "      <td>4737</td>\n",
       "      <td>2023-10-04 07:15:00</td>\n",
       "      <td>Sales</td>\n",
       "      <td>Declined</td>\n",
       "      <td>NaN</td>\n",
       "      <td>NaN</td>\n",
       "      <td>Travel expenses for hardware assets</td>\n",
       "      <td>Dell Latitude 5501</td>\n",
       "    </tr>\n",
       "    <tr>\n",
       "      <th>4</th>\n",
       "      <td>Rachel Larrison</td>\n",
       "      <td>Assets</td>\n",
       "      <td>SUU-56742478</td>\n",
       "      <td>EXP00000004</td>\n",
       "      <td>1639</td>\n",
       "      <td>2024-03-09 04:19:00</td>\n",
       "      <td>Customer Support</td>\n",
       "      <td>Processed</td>\n",
       "      <td>NaN</td>\n",
       "      <td>2024-03-12 16:24:57.541147181</td>\n",
       "      <td>Hardware Asset - Dell Precision 5530</td>\n",
       "      <td>Dell Precision 5530</td>\n",
       "    </tr>\n",
       "  </tbody>\n",
       "</table>\n",
       "</div>"
      ],
      "text/plain": [
       "              user  category     source_id       number  amount  \\\n",
       "0     Marcie Shulz  Services  MFI-20723923  EXP00000000    1299   \n",
       "1      Valerie Pou    Travel           NaN  EXP00000001    1074   \n",
       "2  Germaine Bruski    Assets  HMD-81762205  EXP00000002    5188   \n",
       "3   Howard Johnson    Travel           NaN  EXP00000003    4737   \n",
       "4  Rachel Larrison    Assets  SUU-56742478  EXP00000004    1639   \n",
       "\n",
       "             opened_at        department      state  type  \\\n",
       "0  2023-08-11 00:13:00  Customer Support  Processed   NaN   \n",
       "1  2023-07-02 10:47:00  Customer Support   Declined   NaN   \n",
       "2  2023-10-10 22:33:00           Finance  Processed   NaN   \n",
       "3  2023-10-04 07:15:00             Sales   Declined   NaN   \n",
       "4  2024-03-09 04:19:00  Customer Support  Processed   NaN   \n",
       "\n",
       "                  processed_date                        short_description  \\\n",
       "0  2023-08-12 00:13:00.000000000          Configuration for Service Asset   \n",
       "1                            NaN              Travel equipment allocation   \n",
       "2  2023-10-16 23:44:01.956103185  Asset registration: HP EliteBook 840 G6   \n",
       "3                            NaN      Travel expenses for hardware assets   \n",
       "4  2024-03-12 16:24:57.541147181     Hardware Asset - Dell Precision 5530   \n",
       "\n",
       "                               ci  \n",
       "0        Enterprise Cloud Service  \n",
       "1  Travel Kit - Nikon DSLR camera  \n",
       "2             HP EliteBook 840 G6  \n",
       "3              Dell Latitude 5501  \n",
       "4             Dell Precision 5530  "
      ]
     },
     "execution_count": 5,
     "metadata": {},
     "output_type": "execute_result"
    }
   ],
   "source": [
    "dataset_path = \"csvs/flag-68.csv\"\n",
    "flag_data = pd.read_csv(dataset_path)\n",
    "df = pd.read_csv(dataset_path)\n",
    "flag_data.head()"
   ]
  },
  {
   "cell_type": "markdown",
   "metadata": {},
   "source": [
    "### Load User Agent Dataset\n",
    "This cell loads user agent dataset used in the analysis. The dataset is stored in a CSV file and is loaded into a DataFrame. This step includes reading the data from a file path and possibly performing initial observations such as viewing the first few rows to ensure it has loaded correctly."
   ]
  },
  {
   "cell_type": "code",
   "execution_count": 6,
   "metadata": {
    "execution": {
     "iopub.execute_input": "2024-10-29T17:15:48.130237Z",
     "iopub.status.busy": "2024-10-29T17:15:48.129651Z",
     "iopub.status.idle": "2024-10-29T17:15:48.177178Z",
     "shell.execute_reply": "2024-10-29T17:15:48.175538Z"
    }
   },
   "outputs": [
    {
     "data": {
      "text/html": [
       "<div>\n",
       "<style scoped>\n",
       "    .dataframe tbody tr th:only-of-type {\n",
       "        vertical-align: middle;\n",
       "    }\n",
       "\n",
       "    .dataframe tbody tr th {\n",
       "        vertical-align: top;\n",
       "    }\n",
       "\n",
       "    .dataframe thead th {\n",
       "        text-align: right;\n",
       "    }\n",
       "</style>\n",
       "<table border=\"1\" class=\"dataframe\">\n",
       "  <thead>\n",
       "    <tr style=\"text-align: right;\">\n",
       "      <th></th>\n",
       "      <th>sys_id</th>\n",
       "      <th>schedule</th>\n",
       "      <th>manager</th>\n",
       "      <th>phone</th>\n",
       "      <th>user_name</th>\n",
       "      <th>name</th>\n",
       "      <th>location</th>\n",
       "      <th>department</th>\n",
       "      <th>title</th>\n",
       "      <th>email</th>\n",
       "      <th>start_date</th>\n",
       "    </tr>\n",
       "  </thead>\n",
       "  <tbody>\n",
       "    <tr>\n",
       "      <th>0</th>\n",
       "      <td>02826bf03710200044e0bfc8bcbe5d6d</td>\n",
       "      <td>NaN</td>\n",
       "      <td>Logan Muhl</td>\n",
       "      <td>NaN</td>\n",
       "      <td>sean.bonnet</td>\n",
       "      <td>Sean Bonnet</td>\n",
       "      <td>8306 Mills Drive, Miami,FL</td>\n",
       "      <td>Customer Support</td>\n",
       "      <td>NaN</td>\n",
       "      <td>sean.bonnet@example.com</td>\n",
       "      <td>2024-04-13 00:20:00</td>\n",
       "    </tr>\n",
       "    <tr>\n",
       "      <th>1</th>\n",
       "      <td>06826bf03710200044e0bfc8bcbe5d66</td>\n",
       "      <td>NaN</td>\n",
       "      <td>NaN</td>\n",
       "      <td>NaN</td>\n",
       "      <td>geri.forness</td>\n",
       "      <td>Geri Forness</td>\n",
       "      <td>3 Whitehall Court, London</td>\n",
       "      <td>Customer Support</td>\n",
       "      <td>NaN</td>\n",
       "      <td>geri.forness@example.com</td>\n",
       "      <td>2023-02-21 08:32:00</td>\n",
       "    </tr>\n",
       "    <tr>\n",
       "      <th>2</th>\n",
       "      <td>06826bf03710200044e0bfc8bcbe5d6f</td>\n",
       "      <td>NaN</td>\n",
       "      <td>NaN</td>\n",
       "      <td>NaN</td>\n",
       "      <td>nelly.jakuboski</td>\n",
       "      <td>Nelly Jakuboski</td>\n",
       "      <td>8306 Mills Drive, Miami,FL</td>\n",
       "      <td>Customer Support</td>\n",
       "      <td>NaN</td>\n",
       "      <td>nelly.jakuboski@example.com</td>\n",
       "      <td>NaN</td>\n",
       "    </tr>\n",
       "    <tr>\n",
       "      <th>3</th>\n",
       "      <td>0a826bf03710200044e0bfc8bcbe5d68</td>\n",
       "      <td>NaN</td>\n",
       "      <td>NaN</td>\n",
       "      <td>NaN</td>\n",
       "      <td>carmel.overfelt</td>\n",
       "      <td>Carmel Overfelt</td>\n",
       "      <td>3 Whitehall Court, London</td>\n",
       "      <td>Customer Support</td>\n",
       "      <td>NaN</td>\n",
       "      <td>carmel.overfelt@example.com</td>\n",
       "      <td>2023-06-02 04:52:00</td>\n",
       "    </tr>\n",
       "    <tr>\n",
       "      <th>4</th>\n",
       "      <td>0a826bf03710200044e0bfc8bcbe5d71</td>\n",
       "      <td>NaN</td>\n",
       "      <td>NaN</td>\n",
       "      <td>NaN</td>\n",
       "      <td>mabel.weeden</td>\n",
       "      <td>Mabel Weeden</td>\n",
       "      <td>815 E Street, San Diego,CA</td>\n",
       "      <td>Customer Support</td>\n",
       "      <td>NaN</td>\n",
       "      <td>mabel.weeden@example.com</td>\n",
       "      <td>2023-03-17 21:56:00</td>\n",
       "    </tr>\n",
       "  </tbody>\n",
       "</table>\n",
       "</div>"
      ],
      "text/plain": [
       "                             sys_id  schedule     manager  phone  \\\n",
       "0  02826bf03710200044e0bfc8bcbe5d6d       NaN  Logan Muhl    NaN   \n",
       "1  06826bf03710200044e0bfc8bcbe5d66       NaN         NaN    NaN   \n",
       "2  06826bf03710200044e0bfc8bcbe5d6f       NaN         NaN    NaN   \n",
       "3  0a826bf03710200044e0bfc8bcbe5d68       NaN         NaN    NaN   \n",
       "4  0a826bf03710200044e0bfc8bcbe5d71       NaN         NaN    NaN   \n",
       "\n",
       "         user_name             name                    location  \\\n",
       "0      sean.bonnet      Sean Bonnet  8306 Mills Drive, Miami,FL   \n",
       "1     geri.forness     Geri Forness   3 Whitehall Court, London   \n",
       "2  nelly.jakuboski  Nelly Jakuboski  8306 Mills Drive, Miami,FL   \n",
       "3  carmel.overfelt  Carmel Overfelt   3 Whitehall Court, London   \n",
       "4     mabel.weeden     Mabel Weeden  815 E Street, San Diego,CA   \n",
       "\n",
       "         department  title                        email           start_date  \n",
       "0  Customer Support    NaN      sean.bonnet@example.com  2024-04-13 00:20:00  \n",
       "1  Customer Support    NaN     geri.forness@example.com  2023-02-21 08:32:00  \n",
       "2  Customer Support    NaN  nelly.jakuboski@example.com                  NaN  \n",
       "3  Customer Support    NaN  carmel.overfelt@example.com  2023-06-02 04:52:00  \n",
       "4  Customer Support    NaN     mabel.weeden@example.com  2023-03-17 21:56:00  "
      ]
     },
     "execution_count": 6,
     "metadata": {},
     "output_type": "execute_result"
    }
   ],
   "source": [
    "user_dataset_path = \"csvs/flag-68-sysuser.csv\"\n",
    "data_user_human_agents = pd.read_csv(user_dataset_path)\n",
    "data_user_human_agents.head()"
   ]
  },
  {
   "cell_type": "markdown",
   "metadata": {},
   "source": [
    "### **Question 1: How does the completion time of processed requests vary across different departments?**"
   ]
  },
  {
   "cell_type": "markdown",
   "metadata": {},
   "source": [
    "#### Analyze department-wise completion time for processed requests\n",
    "This visualization evaluates the completion time for processed requests by department, providing insights into department efficiency. By observing the time taken from request opening to processing, we can understand departmental responsiveness and identify areas with potential delays."
   ]
  },
  {
   "cell_type": "code",
   "execution_count": 7,
   "metadata": {
    "execution": {
     "iopub.execute_input": "2024-10-29T17:15:48.194860Z",
     "iopub.status.busy": "2024-10-29T17:15:48.194041Z",
     "iopub.status.idle": "2024-10-29T17:15:49.327717Z",
     "shell.execute_reply": "2024-10-29T17:15:49.326083Z"
    }
   },
   "outputs": [
    {
     "name": "stderr",
     "output_type": "stream",
     "text": [
      "<ipython-input-7-afb554f7fd17>:9: SettingWithCopyWarning: \n",
      "A value is trying to be set on a copy of a slice from a DataFrame.\n",
      "Try using .loc[row_indexer,col_indexer] = value instead\n",
      "\n",
      "See the caveats in the documentation: https://pandas.pydata.org/pandas-docs/stable/user_guide/indexing.html#returning-a-view-versus-a-copy\n",
      "  processed_data[\"opened_at\"] = pd.to_datetime(processed_data[\"opened_at\"])\n",
      "<ipython-input-7-afb554f7fd17>:10: SettingWithCopyWarning: \n",
      "A value is trying to be set on a copy of a slice from a DataFrame.\n",
      "Try using .loc[row_indexer,col_indexer] = value instead\n",
      "\n",
      "See the caveats in the documentation: https://pandas.pydata.org/pandas-docs/stable/user_guide/indexing.html#returning-a-view-versus-a-copy\n",
      "  processed_data[\"processed_date\"] = pd.to_datetime(processed_data[\"processed_date\"])\n",
      "<ipython-input-7-afb554f7fd17>:11: SettingWithCopyWarning: \n",
      "A value is trying to be set on a copy of a slice from a DataFrame.\n",
      "Try using .loc[row_indexer,col_indexer] = value instead\n",
      "\n",
      "See the caveats in the documentation: https://pandas.pydata.org/pandas-docs/stable/user_guide/indexing.html#returning-a-view-versus-a-copy\n",
      "  processed_data[\"processing_time_days\"] = (\n"
     ]
    },
    {
     "data": {
      "image/png": "[encoded data removed]",
      "text/plain": [
       "<Figure size 720x432 with 1 Axes>"
      ]
     },
     "metadata": {
      "needs_background": "light"
     },
     "output_type": "display_data"
    }
   ],
   "source": [
    "import matplotlib.pyplot as plt\n",
    "import pandas as pd\n",
    "\n",
    "# Load the data\n",
    "data = pd.read_csv(\"csvs/flag-68.csv\")\n",
    "\n",
    "# Filter for processed requests and calculate processing time\n",
    "processed_data = data.dropna(subset=[\"processed_date\"])\n",
    "processed_data[\"opened_at\"] = pd.to_datetime(processed_data[\"opened_at\"])\n",
    "processed_data[\"processed_date\"] = pd.to_datetime(processed_data[\"processed_date\"])\n",
    "processed_data[\"processing_time_days\"] = (\n",
    "    processed_data[\"processed_date\"] - processed_data[\"opened_at\"]\n",
    ").dt.days\n",
    "\n",
    "# Aggregate to find the average processing time by department\n",
    "department_processing_time = (\n",
    "    processed_data.groupby(\"department\")[\"processing_time_days\"].mean().reset_index()\n",
    ")\n",
    "\n",
    "# Plotting\n",
    "plt.figure(figsize=(10, 6))\n",
    "plt.barh(\n",
    "    department_processing_time[\"department\"],\n",
    "    department_processing_time[\"processing_time_days\"],\n",
    "    color=\"teal\",\n",
    "    edgecolor=\"black\",\n",
    ")\n",
    "plt.xlabel(\"Average Processing Time (Days)\")\n",
    "plt.ylabel(\"Department\")\n",
    "plt.title(\"Average Processing Time of Requests by Department\")\n",
    "plt.grid(axis=\"x\", linestyle=\"--\", alpha=0.7)\n",
    "\n",
    "plt.show()"
   ]
  },
  {
   "cell_type": "markdown",
   "metadata": {},
   "source": [
    "#### Generate JSON Description for the Insight"
   ]
  },
  {
   "cell_type": "code",
   "execution_count": 5,
   "metadata": {
    "execution": {
     "iopub.execute_input": "2024-10-29T17:15:49.347491Z",
     "iopub.status.busy": "2024-10-29T17:15:49.346665Z",
     "iopub.status.idle": "2024-10-29T17:15:49.374242Z",
     "shell.execute_reply": "2024-10-29T17:15:49.371221Z"
    }
   },
   "outputs": [
    {
     "data": {
      "text/plain": [
       "{'data_type': 'descriptive',\n",
       " 'insight': 'The HR department exhibits the longest average processing time for requests compared to other departments.',\n",
       " 'insight_value': {'description': 'The HR department has an average processing time of 10.25 days, significantly higher than other departments, indicating that requests in HR may encounter more delays or require longer handling times.'},\n",
       " 'plot': {'plot_type': 'horizontal bar',\n",
       "  'title': 'Average Processing Time of Requests by Department',\n",
       "  'x_axis': {'name': 'Average Processing Time (Days)',\n",
       "   'value': 'Processing times ranging from lowest to highest among departments',\n",
       "   'description': 'This axis represents the average number of days taken to process requests in each department.'},\n",
       "  'y_axis': {'name': 'Department',\n",
       "   'value': 'Different departments within the organization',\n",
       "   'description': 'Each bar corresponds to a department, showing its average processing time.'},\n",
       "  'description': 'The bar chart shows that the HR department has the longest processing time for requests, followed by Development and Finance, while Product Management has the shortest processing time.'},\n",
       " 'question': 'How does the completion time of processed requests vary across different departments?',\n",
       " 'actionable_insight': \"The significant processing time in HR suggests an opportunity to streamline operations or allocate more resources to reduce delays. Meanwhile, departments like Product Management and Sales are relatively efficient, with lower average processing times, which could serve as benchmarks. A focused review on HR's process steps may reveal areas for optimization, possibly through automation or better task prioritization.\"}"
      ]
     },
     "execution_count": 5,
     "metadata": {},
     "output_type": "execute_result"
    }
   ],
   "source": [
    "{\n",
    "    \"data_type\": \"descriptive\",\n",
    "    \"insight\": \"The HR department exhibits the longest average processing time for requests compared to other departments.\",\n",
    "    \"insight_value\": {\n",
    "        \"description\": \"The HR department has an average processing time of 10.25 days, significantly higher than other departments, indicating that requests in HR may encounter more delays or require longer handling times.\"\n",
    "    },\n",
    "    \"plot\": {\n",
    "        \"plot_type\": \"horizontal bar\",\n",
    "        \"title\": \"Average Processing Time of Requests by Department\",\n",
    "        \"x_axis\": {\n",
    "            \"name\": \"Average Processing Time (Days)\", \n",
    "            \"value\": \"Processing times ranging from lowest to highest among departments\",\n",
    "            \"description\": \"This axis represents the average number of days taken to process requests in each department.\"\n",
    "        },\n",
    "        \"y_axis\": {\n",
    "            \"name\": \"Department\",\n",
    "            \"value\": \"Different departments within the organization\", \n",
    "            \"description\": \"Each bar corresponds to a department, showing its average processing time.\"\n",
    "        },\n",
    "        \"description\": \"The bar chart shows that the HR department has the longest processing time for requests, followed by Development and Finance, while Product Management has the shortest processing time.\"\n",
    "    },\n",
    "    \"question\": \"How does the completion time of processed requests vary across different departments?\",\n",
    "    \"actionable_insight\": \"The significant processing time in HR suggests an opportunity to streamline operations or allocate more resources to reduce delays. Meanwhile, departments like Product Management and Sales are relatively efficient, with lower average processing times, which could serve as benchmarks. A focused review on HR's process steps may reveal areas for optimization, possibly through automation or better task prioritization.\",\n",
    "}"
   ]
  },
  {
   "cell_type": "markdown",
   "metadata": {},
   "source": [
    "### **Question 2:  How do rejection rates for expenses submitted by new hires compare to those submitted by established employees?**"
   ]
  },
  {
   "cell_type": "markdown",
   "metadata": {},
   "source": [
    "#### Plot rejection rates of expense submissions by tenure\n",
    "\n",
    "The bar plot represents the proportion of expense rejections within each of these tenure groups 1 year, 1-3 years, 3-5 years, 5-10 years etc, highlighting potential trends or disparities in how new hires versus established employees navigate the expense submission process. This analysis is crucial for identifying if newer employees face more challenges in complying with expense policies, the dataset merges expense report data with employee start dates to calculate the tenure of each employee at the time they submitted their expense claims."
   ]
  },
  {
   "cell_type": "code",
   "execution_count": 9,
   "metadata": {
    "execution": {
     "iopub.execute_input": "2024-10-29T17:15:49.391222Z",
     "iopub.status.busy": "2024-10-29T17:15:49.390327Z",
     "iopub.status.idle": "2024-10-29T17:15:49.878447Z",
     "shell.execute_reply": "2024-10-29T17:15:49.876825Z"
    }
   },
   "outputs": [
    {
     "data": {
      "image/png": "[encoded data removed]",
      "text/plain": [
       "<Figure size 720x432 with 1 Axes>"
      ]
     },
     "metadata": {
      "needs_background": "light"
     },
     "output_type": "display_data"
    }
   ],
   "source": [
    "import matplotlib.pyplot as plt\n",
    "import pandas as pd\n",
    "import numpy as np\n",
    "\n",
    "# Assuming 'flag_data' and 'data_user_human_agents' are already defined and preprocessed correctly\n",
    "# Merge the expense data with user data to include employee start dates\n",
    "merged_data = pd.merge(flag_data, data_user_human_agents, left_on='user', right_on='name', how='inner')\n",
    "\n",
    "# Ensure 'opened_at' and 'start_date' are datetime objects\n",
    "merged_data['opened_at'] = pd.to_datetime(merged_data['opened_at'], errors='coerce')\n",
    "merged_data['start_date'] = pd.to_datetime(merged_data['start_date'], errors='coerce')\n",
    "\n",
    "# Calculate the tenure in years at the time of expense submission\n",
    "merged_data['tenure_years'] = (merged_data['opened_at'] - merged_data['start_date']).dt.days / 365.25\n",
    "\n",
    "# Define tenure groups\n",
    "tenure_bins = [0, 1, 3, 5, 10, np.inf]  # 0-1 year, 1-3 years, 3-5 years, 5-10 years, 10+ years\n",
    "tenure_labels = ['<1 Year', '1-3 Years', '3-5 Years', '5-10 Years', '>10 Years']\n",
    "merged_data['tenure_group'] = pd.cut(merged_data['tenure_years'], bins=tenure_bins, labels=tenure_labels)\n",
    "\n",
    "# Filter for declined expenses\n",
    "declined_data = merged_data[merged_data['state'] == 'Declined']\n",
    "\n",
    "# Calculate the proportion of declined expenses within each tenure group\n",
    "rejection_rates = declined_data.groupby('tenure_group').size() / merged_data.groupby('tenure_group').size()\n",
    "\n",
    "# Plot the data\n",
    "fig, ax = plt.subplots(figsize=(10, 6))\n",
    "rejection_rates.plot(kind='bar', color='tomato', ax=ax)\n",
    "\n",
    "# Add titles and labels\n",
    "ax.set_title('Rejection Rates of Expenses by Employee Tenure', fontsize=16)\n",
    "ax.set_xlabel('Employee Tenure', fontsize=14)\n",
    "ax.set_ylabel('Rejection Rate', fontsize=14)\n",
    "ax.set_ylim(0, 1)  # Set y-axis limit to show proportions from 0 to 1\n",
    "\n",
    "# Show grid\n",
    "ax.grid(True)\n",
    "\n",
    "# Rotate the x-axis labels for better readability\n",
    "plt.xticks(rotation=45)\n",
    "plt.tight_layout()  # Adjust layout to prevent cutting off labels\n",
    "\n",
    "# Show the plot\n",
    "plt.show()\n"
   ]
  },
  {
   "cell_type": "markdown",
   "metadata": {},
   "source": [
    "#### Generate JSON Description for the Insight"
   ]
  },
  {
   "cell_type": "code",
   "execution_count": 10,
   "metadata": {
    "execution": {
     "iopub.execute_input": "2024-10-29T17:15:49.894519Z",
     "iopub.status.busy": "2024-10-29T17:15:49.893870Z",
     "iopub.status.idle": "2024-10-29T17:15:49.919751Z",
     "shell.execute_reply": "2024-10-29T17:15:49.918101Z"
    }
   },
   "outputs": [
    {
     "data": {
      "text/plain": [
       "{'data_type': 'diagnostic',\n",
       " 'insight': 'There are higher expense rejection rates for Employees with a shorter tenure',\n",
       " 'insight_value': {'description': 'Employees with less than three years of tenure experience notably higher rejection rates for their expense submissions compared to those with longer tenure.'},\n",
       " 'plot': {'plot_type': 'bar',\n",
       "  'title': 'Expense Rejection Rates by Employee Tenure',\n",
       "  'x_axis': {'name': 'Employee Tenure',\n",
       "   'value': ['<1 Year', '1-3 Years', '>3 Years'],\n",
       "   'description': 'This axis categorizes employees based on the duration of their tenure at the company.'},\n",
       "  'y_axis': {'name': 'Rejection Rate',\n",
       "   'value': {'<1 Year': '3.5', '1-3 Years': '2.5', '>3 Years': '0.0'},\n",
       "   'description': 'This axis displays the rejection rate of expense reports, showing a clear decrease in rejections as tenure increases.'},\n",
       "  'description': 'The bar chart demonstrates a clear trend: employees with less than one year of tenure face the highest rejection rates at 3.5, which decrease to 2.5 for those with 1-3 years of tenure. Remarkably, employees with more than three years of tenure experience no rejections. This suggests a learning curve or an adaptation period during which employees become more familiar with expense reporting procedures.'},\n",
       " 'question': 'How do rejection rates for expenses submitted by new hires compare to those submitted by established employees?',\n",
       " 'actionable_insight': {'description': 'To mitigate high rejection rates among newer employees, the organization should consider enhancing training and support for expense reporting procedures specifically targeted at new hires and employees with less than three years of tenure. Implementing structured onboarding programs that include detailed guidance on expense policies could significantly reduce these rejection rates. Additionally, regular review sessions and updates on any changes in expense policies can help ensure that all employees, regardless of tenure, remain well-informed about the proper procedures for submitting expense reports.'}}"
      ]
     },
     "execution_count": 10,
     "metadata": {},
     "output_type": "execute_result"
    }
   ],
   "source": [
    "{\n",
    "    \"data_type\": \"diagnostic\",\n",
    "    \"insight\": \"There are higher expense rejection rates for Employees with a shorter tenure\",\n",
    "    \"insight_value\": {\n",
    "        \"description\": \"Employees with less than three years of tenure experience notably higher rejection rates for their expense submissions compared to those with longer tenure.\"\n",
    "    },\n",
    "    \"plot\": {\n",
    "        \"plot_type\": \"bar\",\n",
    "        \"title\": \"Expense Rejection Rates by Employee Tenure\",\n",
    "        \"x_axis\": {\n",
    "            \"name\": \"Employee Tenure\",\n",
    "            \"value\": [\"<1 Year\", \"1-3 Years\", \">3 Years\"],\n",
    "            \"description\": \"This axis categorizes employees based on the duration of their tenure at the company.\"\n",
    "        },\n",
    "        \"y_axis\": {\n",
    "            \"name\": \"Rejection Rate\",\n",
    "            \"value\": {\n",
    "                \"<1 Year\": \"3.5\",\n",
    "                \"1-3 Years\": \"2.5\",\n",
    "                \">3 Years\": \"0.0\"\n",
    "            },\n",
    "            \"description\": \"This axis displays the rejection rate of expense reports, showing a clear decrease in rejections as tenure increases.\"\n",
    "        },\n",
    "        \"description\": \"The bar chart demonstrates a clear trend: employees with less than one year of tenure face the highest rejection rates at 3.5, which decrease to 2.5 for those with 1-3 years of tenure. Remarkably, employees with more than three years of tenure experience no rejections. This suggests a learning curve or an adaptation period during which employees become more familiar with expense reporting procedures.\"\n",
    "    },\n",
    "    \"question\": \"How do rejection rates for expenses submitted by new hires compare to those submitted by established employees?\",\n",
    "    \"actionable_insight\": {\n",
    "        \"description\": \"To mitigate high rejection rates among newer employees, the organization should consider enhancing training and support for expense reporting procedures specifically targeted at new hires and employees with less than three years of tenure. Implementing structured onboarding programs that include detailed guidance on expense policies could significantly reduce these rejection rates. Additionally, regular review sessions and updates on any changes in expense policies can help ensure that all employees, regardless of tenure, remain well-informed about the proper procedures for submitting expense reports.\"\n",
    "    }\n",
    "}\n"
   ]
  },
  {
   "cell_type": "markdown",
   "metadata": {},
   "source": [
    "### **Question 3:  Do the rejection distribution for employees with less than 1 year of tenure skew to any particular department?**"
   ]
  },
  {
   "cell_type": "markdown",
   "metadata": {},
   "source": [
    "#### Expense Report Rejection Distribution for New Hires by Department\n",
    "\n",
    "This visualization examines the distribution of expense report rejections for employees with less than one year of tenure, segmented by department. We merge expense data with user data to align employee start dates, department information, and expense submission outcomes. The bar plot contrasts the number of declined expense reports against the total submitted by department for new hires. This comparison provides insights into which departments might be experiencing difficulties with expense compliance among their newest members. \n"
   ]
  },
  {
   "cell_type": "code",
   "execution_count": 11,
   "metadata": {
    "execution": {
     "iopub.execute_input": "2024-10-29T17:15:49.937541Z",
     "iopub.status.busy": "2024-10-29T17:15:49.936706Z",
     "iopub.status.idle": "2024-10-29T17:15:50.492136Z",
     "shell.execute_reply": "2024-10-29T17:15:50.490489Z"
    }
   },
   "outputs": [
    {
     "data": {
      "image/png": "[encoded data removed]",
      "text/plain": [
       "<Figure size 864x576 with 1 Axes>"
      ]
     },
     "metadata": {
      "needs_background": "light"
     },
     "output_type": "display_data"
    }
   ],
   "source": [
    "import matplotlib.pyplot as plt\n",
    "import pandas as pd\n",
    "\n",
    "# Assuming 'flag_data' and 'data_user_human_agents' are already defined and preprocessed correctly\n",
    "# Merge the expense data with user data to include employee start dates and department info\n",
    "merged_data = pd.merge(flag_data, data_user_human_agents, left_on='user', right_on='name', how='inner')\n",
    "\n",
    "# Convert 'opened_at' and 'start_date' to datetime objects\n",
    "merged_data['opened_at'] = pd.to_datetime(merged_data['opened_at'], errors='coerce')\n",
    "merged_data['start_date'] = pd.to_datetime(merged_data['start_date'], errors='coerce')\n",
    "\n",
    "# Calculate tenure in years at the time of expense submission\n",
    "merged_data['tenure_years'] = (merged_data['opened_at'] - merged_data['start_date']).dt.days / 365.25\n",
    "\n",
    "# Filter for employees with less than 1 year of tenure\n",
    "new_hires_data = merged_data[merged_data['tenure_years'] < 1]\n",
    "\n",
    "# Group by department to get counts of declined and total reports\n",
    "declined_counts = new_hires_data[new_hires_data['state'] == 'Declined'].groupby('department_y').size()\n",
    "total_counts = new_hires_data.groupby('department_y').size()\n",
    "\n",
    "# Prepare the DataFrame for plotting\n",
    "plot_data = pd.DataFrame({\n",
    "    'Declined': declined_counts,\n",
    "    'Total Submitted': total_counts\n",
    "}).fillna(0)  # Fill NaN values with 0 where there are no declines\n",
    "\n",
    "# Create a bar plot for both declined and total submissions\n",
    "fig, ax1 = plt.subplots(figsize=(12, 8))\n",
    "\n",
    "plot_data.sort_values('Total Submitted', ascending=False).plot(kind='bar', ax=ax1, color=['red', 'blue'], alpha=0.75)\n",
    "\n",
    "ax1.set_title('Expense Report Distribution for New Hires (<1 Year) by Department', fontsize=16)\n",
    "ax1.set_xlabel('Department', fontsize=14)\n",
    "ax1.set_ylabel('Number of Reports', fontsize=14)\n",
    "ax1.grid(True)\n",
    "\n",
    "plt.xticks(rotation=45)\n",
    "plt.tight_layout()\n",
    "\n",
    "plt.show()\n"
   ]
  },
  {
   "cell_type": "markdown",
   "metadata": {},
   "source": [
    "#### Generate JSON Description for the Insight"
   ]
  },
  {
   "cell_type": "code",
   "execution_count": 12,
   "metadata": {
    "execution": {
     "iopub.execute_input": "2024-10-29T17:15:50.508840Z",
     "iopub.status.busy": "2024-10-29T17:15:50.508182Z",
     "iopub.status.idle": "2024-10-29T17:15:50.532156Z",
     "shell.execute_reply": "2024-10-29T17:15:50.530421Z"
    }
   },
   "outputs": [
    {
     "data": {
      "text/plain": [
       "{'data_type': 'analytical',\n",
       " 'insight': 'Rejection rates for employees with less than 1 year of tenure align closely with the volume of expense reports submitted by each department, indicating that higher submission rates naturally correlate with more rejections.',\n",
       " 'insight_value': {'description': 'Rejection rates for employees with less than 1 year of tenure align closely with the volume of expense reports submitted by each department, indicating that higher submission rates naturally correlate with more rejections.'},\n",
       " 'plot': {'plot_type': 'bar',\n",
       "  'title': 'Rejection and Submission Rates for New Hires (<1 Year) by Department',\n",
       "  'x_axis': {'name': 'Department',\n",
       "   'value': 'List of Departments',\n",
       "   'description': 'This axis categorizes the departments within the organization.'},\n",
       "  'y_axis': {'name': 'Number of Expense Reports',\n",
       "   'value': ['Number of Declined', 'Total Submitted'],\n",
       "   'description': 'This axis displays both the number of declined expense reports and the total number of submissions for each department among new hires.'},\n",
       "  'description': 'The bar chart illustrates that the distribution of declined expense reports among new hires is proportional to their total submissions across departments. This suggests that while some departments may have higher absolute numbers of rejections, these figures are a natural result of higher overall activity rather than an indication of disproportionate rejection rates.'},\n",
       " 'question': 'Do the rejection distribution for employees with less than 1 year of tenure skew to any particular department?',\n",
       " 'actionable_insight': {'description': 'Since the rejections are proportional to submissions, enhancing training and orientation specifically around expense management for new hires could effectively reduce these rejection rates. Departments with high volumes of submissions should focus on implementing more detailed orientation sessions that cover expense policies comprehensively. Additionally, developing easy-to-access online resources or quick reference guides tailored to common expense reporting errors observed in new hires could help in minimizing mistakes and improving compliance across the board.'}}"
      ]
     },
     "execution_count": 12,
     "metadata": {},
     "output_type": "execute_result"
    }
   ],
   "source": [
    "{\n",
    "    \"data_type\": \"analytical\",\n",
    "    \"insight\": \"Rejection rates for employees with less than 1 year of tenure align closely with the volume of expense reports submitted by each department, indicating that higher submission rates naturally correlate with more rejections.\",\n",
    "    \"insight_value\": {\n",
    "        \"description\": \"Rejection rates for employees with less than 1 year of tenure align closely with the volume of expense reports submitted by each department, indicating that higher submission rates naturally correlate with more rejections.\"\n",
    "    },\n",
    "    \"plot\": {\n",
    "        \"plot_type\": \"bar\",\n",
    "        \"title\": \"Rejection and Submission Rates for New Hires (<1 Year) by Department\",\n",
    "        \"x_axis\": {\n",
    "            \"name\": \"Department\",\n",
    "            \"value\": \"List of Departments\",\n",
    "            \"description\": \"This axis categorizes the departments within the organization.\"\n",
    "        },\n",
    "        \"y_axis\": {\n",
    "            \"name\": \"Number of Expense Reports\",\n",
    "            \"value\": [\"Number of Declined\", \"Total Submitted\"],\n",
    "            \"description\": \"This axis displays both the number of declined expense reports and the total number of submissions for each department among new hires.\"\n",
    "        },\n",
    "        \"description\": \"The bar chart illustrates that the distribution of declined expense reports among new hires is proportional to their total submissions across departments. This suggests that while some departments may have higher absolute numbers of rejections, these figures are a natural result of higher overall activity rather than an indication of disproportionate rejection rates.\"\n",
    "    },\n",
    "    \"question\": \"Do the rejection distribution for employees with less than 1 year of tenure skew to any particular department?\",\n",
    "    \"actionable_insight\": {\n",
    "        \"description\": \"Since the rejections are proportional to submissions, enhancing training and orientation specifically around expense management for new hires could effectively reduce these rejection rates. Departments with high volumes of submissions should focus on implementing more detailed orientation sessions that cover expense policies comprehensively. Additionally, developing easy-to-access online resources or quick reference guides tailored to common expense reporting errors observed in new hires could help in minimizing mistakes and improving compliance across the board.\"\n",
    "    }\n",
    "}\n"
   ]
  },
  {
   "cell_type": "markdown",
   "metadata": {},
   "source": [
    "### **Question 4:** What can be done to reduce the initial high rejection rates among new employees?"
   ]
  },
  {
   "cell_type": "markdown",
   "metadata": {},
   "source": [
    "Improving training and onboarding processes can significantly reduce the rejection rates of expense submissions among new employees.\n",
    "\n",
    "Introducing comprehensive training sessions that specifically target common pitfalls in expense reporting can likely decrease the number of rejections experienced by new hires. Onboarding enhancements that include interactive learning modules on expense policies, regular updates, and feedback mechanisms can ensure that new employees understand and adhere to financial compliance from the outset. Predictive modeling based on historical data could further refine the training content by focusing on the most common errors. These proactive measures are expected to lead to a measurable decrease in rejection rates, fostering a smoother transition for new hires into the organization’s financial culture and procedures.\n"
   ]
  },
  {
   "cell_type": "markdown",
   "metadata": {},
   "source": [
    "### Summary of Findings (Flag 68):\n",
    "\n",
    "1. **Departmental Processing Efficiency**: From Question 1, it was found that the HR department has the longest average processing time for requests, suggesting potential inefficiencies or resource constraints. This insight highlights the need for process optimization within HR to improve responsiveness.\n",
    "\n",
    "2. **Tenure and Rejection Rates**: Question 2 revealed that employees with less than three years of tenure experience higher rejection rates for expense submissions. This suggests a learning curve in understanding expense policies, indicating a need for enhanced training and support for newer employees.\n",
    "\n",
    "3. **Rejection Distribution by Department**: According to Question 3, the distribution of expense report rejections among new hires is proportional to the volume of submissions by department. This implies that higher rejection numbers are a result of increased activity rather than specific departmental issues, pointing towards the importance of comprehensive onboarding across all departments."
   ]
  }
 ],
 "metadata": {
  "kernelspec": {
   "display_name": "Python 3",
   "language": "python",
   "name": "python3"
  },
  "language_info": {
   "codemirror_mode": {
    "name": "ipython",
    "version": 3
   },
   "file_extension": ".py",
   "mimetype": "text/x-python",
   "name": "python",
   "nbconvert_exporter": "python",
   "pygments_lexer": "ipython3",
   "version": "3.8.5"
  }
 },
 "nbformat": 4,
 "nbformat_minor": 2
}

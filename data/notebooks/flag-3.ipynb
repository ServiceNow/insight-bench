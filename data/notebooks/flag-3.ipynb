{
 "cells": [
  {
   "cell_type": "markdown",
   "metadata": {},
   "source": [
    "## Incident Assignment Distribution Dataset (Flag 3)\n",
    "\n",
    "### Dataset Description\n",
    "\n",
    "The dataset comprises 500 entries simulating ServiceNow incidents table, detailing various attributes such as category, state, open and close dates, involved personnel, and incident specifics like description, and priority. It captures incident management activities with fields like 'opened_at', 'closed_at', 'assigned_to', 'short_description', and 'priority', reflecting the operational handling and urgency of issues across different locations and categories.\n",
    "\n",
    "### Your Task\n",
    "Goal: Find and highlight the imbalance in incident assignments and perhaps propose actionable_insights that could help redistribute tasks more evenly across agents, reducing the strain on any single agent.\n",
    "\n",
    "Role: Workload Distribution Manager\n",
    "\n",
    "Difficulty: 2 out of 5. This task involves data manipulation and trend analysis to uncover the root causes of biased task assignments.\n",
    "\n",
    "Category: Incidents Management.\n"
   ]
  },
  {
   "cell_type": "markdown",
   "metadata": {},
   "source": [
    "### Import Necessary Libraries\n",
    "This cell imports all necessary libraries required for the analysis. This includes libraries for data manipulation, data visualization, and any specific utilities needed for the tasks.\n"
   ]
  },
  {
   "cell_type": "code",
   "execution_count": 1,
   "metadata": {
    "execution": {
     "iopub.execute_input": "2024-10-25T19:58:22.186382Z",
     "iopub.status.busy": "2024-10-25T19:58:22.184888Z",
     "iopub.status.idle": "2024-10-25T19:58:25.491072Z",
     "shell.execute_reply": "2024-10-25T19:58:25.489222Z"
    }
   },
   "outputs": [],
   "source": [
    "import argparse\n",
    "import pandas as pd\n",
    "import json\n",
    "import requests\n",
    "import matplotlib.pyplot as plt\n",
    "import numpy as np\n",
    "import seaborn as sns\n",
    "from pandas import date_range"
   ]
  },
  {
   "cell_type": "markdown",
   "metadata": {},
   "source": [
    "## Load Dataset\n",
    "This cell loads the dataset used in the analysis. The flag-3 dataset is stored in a CSV file and is loaded into a DataFrame. This step includes reading the data from a file path and possibly performing initial observations such as viewing the first few rows to ensure it has loaded correctly.\n"
   ]
  },
  {
   "cell_type": "code",
   "execution_count": 2,
   "metadata": {
    "execution": {
     "iopub.execute_input": "2024-10-25T19:58:25.503815Z",
     "iopub.status.busy": "2024-10-25T19:58:25.503119Z",
     "iopub.status.idle": "2024-10-25T19:58:25.570153Z",
     "shell.execute_reply": "2024-10-25T19:58:25.568187Z"
    }
   },
   "outputs": [
    {
     "data": {
      "text/html": [
       "<div>\n",
       "<style scoped>\n",
       "    .dataframe tbody tr th:only-of-type {\n",
       "        vertical-align: middle;\n",
       "    }\n",
       "\n",
       "    .dataframe tbody tr th {\n",
       "        vertical-align: top;\n",
       "    }\n",
       "\n",
       "    .dataframe thead th {\n",
       "        text-align: right;\n",
       "    }\n",
       "</style>\n",
       "<table border=\"1\" class=\"dataframe\">\n",
       "  <thead>\n",
       "    <tr style=\"text-align: right;\">\n",
       "      <th></th>\n",
       "      <th>sys_updated_by</th>\n",
       "      <th>number</th>\n",
       "      <th>closed_by</th>\n",
       "      <th>state</th>\n",
       "      <th>caller_id</th>\n",
       "      <th>assigned_to</th>\n",
       "      <th>opened_at</th>\n",
       "      <th>sys_updated_on</th>\n",
       "      <th>closed_at</th>\n",
       "      <th>short_description</th>\n",
       "      <th>assignment_group</th>\n",
       "      <th>priority</th>\n",
       "      <th>category</th>\n",
       "    </tr>\n",
       "  </thead>\n",
       "  <tbody>\n",
       "    <tr>\n",
       "      <th>0</th>\n",
       "      <td>system</td>\n",
       "      <td>INC0000000000</td>\n",
       "      <td>Fred Luddy</td>\n",
       "      <td>Resolved</td>\n",
       "      <td>Bud Richman</td>\n",
       "      <td>Charlie Whitherspoon</td>\n",
       "      <td>2023-01-01 03:53:00</td>\n",
       "      <td>2023-01-02 03:53:00.000000000</td>\n",
       "      <td>2023-01-02 03:53:00.000000000</td>\n",
       "      <td>Outage in internal network connectivity</td>\n",
       "      <td>Network</td>\n",
       "      <td>1 - Critical</td>\n",
       "      <td>Network</td>\n",
       "    </tr>\n",
       "    <tr>\n",
       "      <th>1</th>\n",
       "      <td>employee</td>\n",
       "      <td>INC0000000001</td>\n",
       "      <td>Charlie Whitherspoon</td>\n",
       "      <td>Resolved</td>\n",
       "      <td>ITIL User</td>\n",
       "      <td>Fred Luddy</td>\n",
       "      <td>2023-01-02 12:32:00</td>\n",
       "      <td>2023-01-16 10:29:06.760251500</td>\n",
       "      <td>2023-01-16 10:29:06.760251500</td>\n",
       "      <td>Network connectivity issues on third floor</td>\n",
       "      <td>Network</td>\n",
       "      <td>2 - High</td>\n",
       "      <td>Network</td>\n",
       "    </tr>\n",
       "    <tr>\n",
       "      <th>2</th>\n",
       "      <td>system</td>\n",
       "      <td>INC0000000002</td>\n",
       "      <td>Charlie Whitherspoon</td>\n",
       "      <td>Resolved</td>\n",
       "      <td>Bud Richman</td>\n",
       "      <td>Fred Luddy</td>\n",
       "      <td>2023-01-02 18:48:00</td>\n",
       "      <td>2023-01-03 18:48:00.000000000</td>\n",
       "      <td>2023-01-03 18:48:00.000000000</td>\n",
       "      <td>Unable to connect to VPN</td>\n",
       "      <td>Network</td>\n",
       "      <td>1 - Critical</td>\n",
       "      <td>Network</td>\n",
       "    </tr>\n",
       "    <tr>\n",
       "      <th>3</th>\n",
       "      <td>employee</td>\n",
       "      <td>INC0000000003</td>\n",
       "      <td>Beth Anglin</td>\n",
       "      <td>Closed</td>\n",
       "      <td>ITIL User</td>\n",
       "      <td>Fred Luddy</td>\n",
       "      <td>2023-01-02 22:06:00</td>\n",
       "      <td>2023-01-06 15:13:52.816579543</td>\n",
       "      <td>2023-01-06 15:13:52.816579543</td>\n",
       "      <td>VPN connection keeps dropping</td>\n",
       "      <td>Network</td>\n",
       "      <td>2 - High</td>\n",
       "      <td>Network</td>\n",
       "    </tr>\n",
       "    <tr>\n",
       "      <th>4</th>\n",
       "      <td>employee</td>\n",
       "      <td>INC0000000004</td>\n",
       "      <td>Luke Wilson</td>\n",
       "      <td>Resolved</td>\n",
       "      <td>David Loo</td>\n",
       "      <td>Fred Luddy</td>\n",
       "      <td>2023-01-05 18:51:00</td>\n",
       "      <td>2023-01-15 01:56:24.095567878</td>\n",
       "      <td>2023-01-15 01:56:24.095567878</td>\n",
       "      <td>Unable to access email account</td>\n",
       "      <td>Service Desk</td>\n",
       "      <td>2 - High</td>\n",
       "      <td>Inquiry / Help</td>\n",
       "    </tr>\n",
       "  </tbody>\n",
       "</table>\n",
       "</div>"
      ],
      "text/plain": [
       "  sys_updated_by         number             closed_by     state    caller_id  \\\n",
       "0         system  INC0000000000            Fred Luddy  Resolved  Bud Richman   \n",
       "1       employee  INC0000000001  Charlie Whitherspoon  Resolved    ITIL User   \n",
       "2         system  INC0000000002  Charlie Whitherspoon  Resolved  Bud Richman   \n",
       "3       employee  INC0000000003           Beth Anglin    Closed    ITIL User   \n",
       "4       employee  INC0000000004           Luke Wilson  Resolved    David Loo   \n",
       "\n",
       "            assigned_to            opened_at                 sys_updated_on  \\\n",
       "0  Charlie Whitherspoon  2023-01-01 03:53:00  2023-01-02 03:53:00.000000000   \n",
       "1            Fred Luddy  2023-01-02 12:32:00  2023-01-16 10:29:06.760251500   \n",
       "2            Fred Luddy  2023-01-02 18:48:00  2023-01-03 18:48:00.000000000   \n",
       "3            Fred Luddy  2023-01-02 22:06:00  2023-01-06 15:13:52.816579543   \n",
       "4            Fred Luddy  2023-01-05 18:51:00  2023-01-15 01:56:24.095567878   \n",
       "\n",
       "                       closed_at                           short_description  \\\n",
       "0  2023-01-02 03:53:00.000000000     Outage in internal network connectivity   \n",
       "1  2023-01-16 10:29:06.760251500  Network connectivity issues on third floor   \n",
       "2  2023-01-03 18:48:00.000000000                    Unable to connect to VPN   \n",
       "3  2023-01-06 15:13:52.816579543               VPN connection keeps dropping   \n",
       "4  2023-01-15 01:56:24.095567878              Unable to access email account   \n",
       "\n",
       "  assignment_group      priority        category  \n",
       "0          Network  1 - Critical         Network  \n",
       "1          Network      2 - High         Network  \n",
       "2          Network  1 - Critical         Network  \n",
       "3          Network      2 - High         Network  \n",
       "4     Service Desk      2 - High  Inquiry / Help  "
      ]
     },
     "execution_count": 2,
     "metadata": {},
     "output_type": "execute_result"
    }
   ],
   "source": [
    "dataset_path = \"csvs/flag-3.csv\"\n",
    "df = pd.read_csv(dataset_path)\n",
    "df.head()"
   ]
  },
  {
   "cell_type": "markdown",
   "metadata": {},
   "source": [
    "### **Question 1**: What is the distribution of incidents assigned to each human agent?"
   ]
  },
  {
   "cell_type": "markdown",
   "metadata": {},
   "source": [
    "#### Plot number of incidents by agent\n",
    "\n",
    "This cell creates a horizontal bar plot to visualize the distribution of incidents across different agents. It annotates the plot with the count of incidents assigned to each agent. This helps in understanding which agents handle the highest number of incidents and identifying any imbalances or areas that may require further investigation or adjustment in task allocation."
   ]
  },
  {
   "cell_type": "code",
   "execution_count": 3,
   "metadata": {
    "execution": {
     "iopub.execute_input": "2024-10-25T19:58:25.584724Z",
     "iopub.status.busy": "2024-10-25T19:58:25.584188Z",
     "iopub.status.idle": "2024-10-25T19:58:26.173902Z",
     "shell.execute_reply": "2024-10-25T19:58:26.171703Z"
    }
   },
   "outputs": [
    {
     "data": {
      "image/png": "[encoded data removed]",
      "text/plain": [
       "<Figure size 432x288 with 1 Axes>"
      ]
     },
     "metadata": {
      "needs_background": "light"
     },
     "output_type": "display_data"
    }
   ],
   "source": [
    "\n",
    "plot = df.groupby(\"assigned_to\").size().plot(kind=\"barh\", color=sns.palettes.mpl_palette(\"Dark2\"))\n",
    "\n",
    "fig = plt.gcf()\n",
    "\n",
    "\n",
    "\n",
    "for i in plot.patches:\n",
    "    # Get X and Y placement of label from rectangle\n",
    "    x_value = i.get_width()\n",
    "    y_value = i.get_y() + i.get_height() / 2\n",
    "\n",
    "    # Use X value as label and format number with one decimal place\n",
    "    label = \"{:.1f}\".format(x_value)\n",
    "\n",
    "    # Create annotation\n",
    "    plt.annotate(\n",
    "        label,                      \n",
    "        (x_value, y_value),         \n",
    "        xytext=(-10, 0),            \n",
    "        textcoords=\"offset points\", \n",
    "        ha='right',                 \n",
    "        va='center'                 \n",
    "    )\n",
    "\n",
    "# Set plot title\n",
    "plt.title('Distribution of Incidents Assigned To Each Agent')\n",
    "\n",
    "# Set x-axis label\n",
    "plt.xlabel('Agent')\n",
    "\n",
    "# Set y-axis label\n",
    "plt.ylabel('Number of Incidents')\n",
    "\n",
    "# Display the figure\n",
    "plt.show()"
   ]
  },
  {
   "cell_type": "markdown",
   "metadata": {},
   "source": [
    "#### Generate JSON Description for the Insight\n"
   ]
  },
  {
   "cell_type": "code",
   "execution_count": 4,
   "metadata": {
    "execution": {
     "iopub.execute_input": "2024-10-25T19:58:26.187921Z",
     "iopub.status.busy": "2024-10-25T19:58:26.187315Z",
     "iopub.status.idle": "2024-10-25T19:58:26.207333Z",
     "shell.execute_reply": "2024-10-25T19:58:26.205019Z"
    }
   },
   "outputs": [
    {
     "data": {
      "text/plain": [
       "{'data_type': 'descriptive',\n",
       " 'insight': 'One agent, Fred Luddy, is assigned significantly more incidents than others',\n",
       " 'insight_value': {'agent': 'Agent_X', 'incidents_assigned': 385},\n",
       " 'plot': {'plot_type': 'bar',\n",
       "  'title': 'Distribution of Incidents Assigned To Each Agent',\n",
       "  'x_axis': {'name': 'Agent',\n",
       "   'description': 'This represents each agent assigned to resolve incidents.'},\n",
       "  'y_axis': {'name': 'Number of Incidents Assigned',\n",
       "   'description': 'This represents the number of incidents assigned to an agent.'},\n",
       "  'description': 'The bar chart displays the distribution of incidents assigned to each agent. Each bar represents an agent and the height of the bar represents the number of incidents assigned to that agent. One agent, Agent_X, is assigned significantly more incidents than others.'},\n",
       " 'question': 'What is the distribution of incidents assigned to each human agent?',\n",
       " 'actionable_insight': 'The uneven distribution of incidents, with one agent being assigned significantly more incidents than others, suggests a potential issue with workload balancing. It would be beneficial to review the assignment process and consider redistributing the workload more evenly among agents.'}"
      ]
     },
     "execution_count": 4,
     "metadata": {},
     "output_type": "execute_result"
    }
   ],
   "source": [
    "{\n",
    "\"data_type\":\"descriptive\",\n",
    "\"insight\": \"One agent, Fred Luddy, is assigned significantly more incidents than others\",\n",
    "\"insight_value\":{\"agent\": \"Agent_X\", \"incidents_assigned\": 385},\n",
    "\"plot\": {\n",
    "    \"plot_type\": \"bar\",\n",
    "    \"title\": \"Distribution of Incidents Assigned To Each Agent\",\n",
    "    \"x_axis\": {\n",
    "        \"name\": \"Agent\",\n",
    "        \"description\": \"This represents each agent assigned to resolve incidents.\"\n",
    "    },\n",
    "    \"y_axis\": {\n",
    "        \"name\": \"Number of Incidents Assigned\",\n",
    "        \"description\": \"This represents the number of incidents assigned to an agent.\"\n",
    "    },\n",
    "    \"description\": \"The bar chart displays the distribution of incidents assigned to each agent. Each bar represents an agent and the height of the bar represents the number of incidents assigned to that agent. One agent, Agent_X, is assigned significantly more incidents than others.\"\n",
    "},\n",
    "\"question\": \"What is the distribution of incidents assigned to each human agent?\",\n",
    "\"actionable_insight\": \"The uneven distribution of incidents, with one agent being assigned significantly more incidents than others, suggests a potential issue with workload balancing. It would be beneficial to review the assignment process and consider redistributing the workload more evenly among agents.\"\n",
    "}"
   ]
  },
  {
   "cell_type": "markdown",
   "metadata": {},
   "source": [
    "### **Question 2:** Is there a specific human agent who is assigned significantly more incidents than others?"
   ]
  },
  {
   "cell_type": "markdown",
   "metadata": {},
   "source": [
    "#### Analysis of incident assignments per agent\n",
    "\n",
    "This cell analyzes the distribution of incidents assigned to each agent by grouping the data by 'assigned_to' and counting the number of incidents for each agent. The analysis identifies the agent who is assigned the most incidents."
   ]
  },
  {
   "cell_type": "code",
   "execution_count": 5,
   "metadata": {
    "execution": {
     "iopub.execute_input": "2024-10-25T19:58:26.224742Z",
     "iopub.status.busy": "2024-10-25T19:58:26.224237Z",
     "iopub.status.idle": "2024-10-25T19:58:26.239868Z",
     "shell.execute_reply": "2024-10-25T19:58:26.237336Z"
    }
   },
   "outputs": [
    {
     "name": "stdout",
     "output_type": "stream",
     "text": [
      "The agent assigned the most incidents is Fred Luddy with 385 incidents.\n"
     ]
    }
   ],
   "source": [
    "# Group the data by 'assigned_to' and count the number of incidents for each agent\n",
    "incident_counts = df.groupby('assigned_to').size()\n",
    "\n",
    "# Find the agent with the maximum number of incidents\n",
    "max_incidents_agent = incident_counts.idxmax()\n",
    "max_incidents_count = incident_counts.max()\n",
    "\n",
    "# Print the agent with the most incidents\n",
    "print(f\"The agent assigned the most incidents is {max_incidents_agent} with {max_incidents_count} incidents.\")"
   ]
  },
  {
   "cell_type": "markdown",
   "metadata": {},
   "source": [
    "#### Generate JSON Description for the Insight\n"
   ]
  },
  {
   "cell_type": "code",
   "execution_count": 6,
   "metadata": {
    "execution": {
     "iopub.execute_input": "2024-10-25T19:58:26.254471Z",
     "iopub.status.busy": "2024-10-25T19:58:26.253731Z",
     "iopub.status.idle": "2024-10-25T19:58:26.273082Z",
     "shell.execute_reply": "2024-10-25T19:58:26.270199Z"
    }
   },
   "outputs": [
    {
     "data": {
      "text/plain": [
       "{'data_type': 'descriptive',\n",
       " 'insight': 'There is a specific agent, Fred Luddy, who is assigned significantly more incidents than others',\n",
       " 'insight_value': {'agent': 'Fred Luddy', 'incidents_assigned': 385},\n",
       " 'question': 'Is there a specific human agent who is assigned significantly more incidents than others?',\n",
       " 'actionable_insight': 'Agent_X is assigned significantly more incidents than any other agent. This could potentially overwhelm the agent and affect their productivity and the resolution time of the incidents. It would be beneficial to review the assignment process and consider redistributing the workload more evenly among agents.'}"
      ]
     },
     "execution_count": 6,
     "metadata": {},
     "output_type": "execute_result"
    }
   ],
   "source": [
    "{\n",
    "\"data_type\":\"descriptive\",\n",
    "\"insight\": \"There is a specific agent, Fred Luddy, who is assigned significantly more incidents than others\",\n",
    "\"insight_value\":{\"agent\": \"Fred Luddy\", \"incidents_assigned\": 385},\n",
    "\"question\": \"Is there a specific human agent who is assigned significantly more incidents than others?\",\n",
    "\"actionable_insight\": \"Agent_X is assigned significantly more incidents than any other agent. This could potentially overwhelm the agent and affect their productivity and the resolution time of the incidents. It would be beneficial to review the assignment process and consider redistributing the workload more evenly among agents.\"\n",
    "}"
   ]
  },
  {
   "cell_type": "markdown",
   "metadata": {},
   "source": [
    "### **Question 3:** What is the trend of incident assignments for each agent over time?"
   ]
  },
  {
   "cell_type": "markdown",
   "metadata": {},
   "source": [
    "#### Plot number of incident assignment trends per agent over time\n",
    "\n",
    "This cell creates a line plot to visualize the trend of incident assignments for each agent over time. It groups incidents by both agent and 'Year-Month', counting the number of incidents for each combination. The plot displays multiple lines, each representing an agent, with the x-axis showing the 'Year-Month' and the y-axis depicting the count of incidents. "
   ]
  },
  {
   "cell_type": "code",
   "execution_count": 7,
   "metadata": {
    "execution": {
     "iopub.execute_input": "2024-10-25T19:58:26.286746Z",
     "iopub.status.busy": "2024-10-25T19:58:26.285874Z",
     "iopub.status.idle": "2024-10-25T19:58:27.138389Z",
     "shell.execute_reply": "2024-10-25T19:58:27.135890Z"
    }
   },
   "outputs": [
    {
     "data": {
      "image/png": "[encoded data removed]",
      "text/plain": [
       "<Figure size 1080x504 with 1 Axes>"
      ]
     },
     "metadata": {
      "needs_background": "light"
     },
     "output_type": "display_data"
    }
   ],
   "source": [
    "import pandas as pd\n",
    "import matplotlib.pyplot as plt\n",
    "\n",
    "# Assuming df is the DataFrame loaded from your CSV file\n",
    "# Load your data\n",
    "# df = pd.read_csv('path_to_your_csv_file.csv')\n",
    "\n",
    "# Convert 'opened_at' to datetime if it's not already\n",
    "df['opened_at'] = pd.to_datetime(df['opened_at'])\n",
    "\n",
    "# Extract year and month from 'opened_at' to create a 'Year-Month' column for grouping\n",
    "df['Year-Month'] = df['opened_at'].dt.to_period('M')\n",
    "\n",
    "# Group by both 'assigned_to' and 'Year-Month' and count the number of incidents\n",
    "trend_data = df.groupby(['assigned_to', 'Year-Month']).size().unstack(fill_value=0)\n",
    "\n",
    "# Plotting\n",
    "fig, ax = plt.subplots(figsize=(15, 7))\n",
    "trend_data.T.plot(kind='line', marker='o', ax=ax)  # Transpose to have time on the x-axis\n",
    "\n",
    "# Enhancing the plot\n",
    "plt.title('Trend of Incident Assignments for Each Agent Over Time')\n",
    "plt.xlabel('Year-Month')\n",
    "plt.ylabel('Number of Incidents')\n",
    "plt.grid(True)\n",
    "plt.legend(title='Agent')\n",
    "plt.xticks(rotation=45)\n",
    "\n",
    "# Show plot\n",
    "plt.tight_layout()\n",
    "plt.show()"
   ]
  },
  {
   "cell_type": "markdown",
   "metadata": {},
   "source": [
    "#### Generate JSON Description for the Insight\n"
   ]
  },
  {
   "cell_type": "code",
   "execution_count": 8,
   "metadata": {
    "execution": {
     "iopub.execute_input": "2024-10-25T19:58:27.153178Z",
     "iopub.status.busy": "2024-10-25T19:58:27.152666Z",
     "iopub.status.idle": "2024-10-25T19:58:27.172498Z",
     "shell.execute_reply": "2024-10-25T19:58:27.170021Z"
    }
   },
   "outputs": [
    {
     "data": {
      "text/plain": [
       "{'data_type': 'time_series',\n",
       " 'insight': 'The number of assignments for Fred Luddy is unbalanced throughout the whole time period',\n",
       " 'insight_value': {'agent': 'Fred',\n",
       "  'trend': 'high increase compared to others roughly 9 times more'},\n",
       " 'plot': {'plot_type': 'multiple_line',\n",
       "  'title': 'Trend of Incident Assignments Per Agent Over Time',\n",
       "  'x_axis': {'name': 'Opened At',\n",
       "   'description': 'This represents the date when the incident was assigned.'},\n",
       "  'y_axis': {'name': 'Number of Incidents Assigned',\n",
       "   'description': 'This represents the number of incidents assigned to an agent on a particular date.'},\n",
       "  'description': 'The multiple line plot displays the trend of incident assignments per agent over time. Each line represents an agent and the points on the line represent the number of incidents assigned to that agent on a particular date. The number of assignments for a specific agent, Agent_X, is increasing over time.'},\n",
       " 'question': 'What is the trend of incident assignments for each agent over time?',\n",
       " 'actionable_insight': 'The unbalanced trend in assignments for Fred from the beginning suggests that this agent is being assigned more incidents constantly over time, which could potentially overwhelm them and affect their productivity. It would be beneficial to review the assignment process and consider redistributing the workload more evenly among agents.'}"
      ]
     },
     "execution_count": 8,
     "metadata": {},
     "output_type": "execute_result"
    }
   ],
   "source": [
    "{\n",
    "\"data_type\":\"time_series\",\n",
    "\"insight\": \"The number of assignments for Fred Luddy is unbalanced throughout the whole time period\",\n",
    "\"insight_value\":{\"agent\": \"Fred\", \"trend\": \"high increase compared to others roughly 9 times more\"},\n",
    "\"plot\": {\n",
    "    \"plot_type\": \"multiple_line\",\n",
    "    \"title\": \"Trend of Incident Assignments Per Agent Over Time\",\n",
    "    \"x_axis\": {\n",
    "        \"name\": \"Opened At\",\n",
    "        \"description\": \"This represents the date when the incident was assigned.\"\n",
    "    },\n",
    "    \"y_axis\": {\n",
    "        \"name\": \"Number of Incidents Assigned\",\n",
    "        \"description\": \"This represents the number of incidents assigned to an agent on a particular date.\"\n",
    "    },\n",
    "    \"description\": \"The multiple line plot displays the trend of incident assignments per agent over time. Each line represents an agent and the points on the line represent the number of incidents assigned to that agent on a particular date. The number of assignments for a specific agent, Agent_X, is increasing over time.\"\n",
    "},\n",
    "\"question\": \"What is the trend of incident assignments for each agent over time?\",\n",
    "\"actionable_insight\": \"The unbalanced trend in assignments for Fred from the beginning suggests that this agent is being assigned more incidents constantly over time, which could potentially overwhelm them and affect their productivity. It would be beneficial to review the assignment process and consider redistributing the workload more evenly among agents.\"\n",
    "}"
   ]
  },
  {
   "cell_type": "markdown",
   "metadata": {},
   "source": [
    "### **Question-4**: What can be done to prevent this anomaly?"
   ]
  },
  {
   "cell_type": "markdown",
   "metadata": {},
   "source": [
    "To address and prevent the unbalanced assignment of incidents to agents, which can lead to inefficiencies, burnout, several strategies can be implemented. Here are some prescriptive measures:\n",
    "\n",
    "**1. Implement an Automated Load Balancing System**\n",
    "**Description**: Develop or integrate an automated system that dynamically assigns incidents to agents based on current workload, expertise, and availability. This system should consider the complexity of incidents and the existing queue of each agent to ensure a balanced distribution.\n",
    "\n",
    "**Action Steps**:\n",
    "- Assess current ITSM (IT Service Management) tools for load balancing capabilities.\n",
    "\n",
    "**2. Regular Review and Adjustment of Assignment Rules**\n",
    "**Description**: Periodically review the rules and logic behind the assignment of incidents to ensure they adapt to changes in team structure, agent skill levels, and incident patterns.\n",
    "\n",
    "**Action Steps**:\n",
    "- Schedule quarterly reviews of incident assignment processes.\n",
    "\n",
    "\n",
    "**3. Monitoring and Analytics**\n",
    "**Description**: Use data analytics to monitor the distribution of work and identify patterns or anomalies in incident assignments. This can help in making informed adjustments to policies and processes.\n",
    "\n",
    "**Action Steps**:\n",
    "- Set up dashboards that track key metrics such as the number of incidents handled by each agent, time to resolution, and agent availability.\n"
   ]
  },
  {
   "cell_type": "markdown",
   "metadata": {},
   "source": [
    "### Summary of Findings (Flag 3)\n",
    "This dataset analysis aims to identify and understand the underlying trends and biases in task assignments to agents. \n",
    "\n",
    "1. **Imbalance in Incident Assignments:** The distribution of incident assignments among agents is highly imbalanced. Fred, one agent, handles about 75% of all tasks, which is a significantly disproportionate share compared to other agents.\n",
    "\n",
    "2. **Persistent Disparity Over Time:** Analysis of the trends over time shows that this imbalance is not a temporary issue but has been consistently present. Fred's assignment load has been significantly higher than that of other agents from the start of the recorded data.\n",
    "\n",
    "3. **Need for Redistribution of Workload:** The heavy imbalance in assignments suggests that operational adjustments are necessary to redistribute tasks more equitably among agents. This would help prevent potential burnout for Fred and ensure that all agents are utilized effectively."
   ]
  }
 ],
 "metadata": {
  "kernelspec": {
   "display_name": "stardoc",
   "language": "python",
   "name": "python3"
  },
  "language_info": {
   "codemirror_mode": {
    "name": "ipython",
    "version": 3
   },
   "file_extension": ".py",
   "mimetype": "text/x-python",
   "name": "python",
   "nbconvert_exporter": "python",
   "pygments_lexer": "ipython3",
   "version": "3.8.5"
  }
 },
 "nbformat": 4,
 "nbformat_minor": 2
}

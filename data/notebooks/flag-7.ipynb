{
 "cells": [
  {
   "cell_type": "markdown",
   "metadata": {},
   "source": [
    "## Incident Assignment and Resolution Efficiency Analysis (Flag 7)\n",
    "\n",
    "### Dataset Description\n",
    "The dataset comprises 500 entries simulating ServiceNow incidents table, detailing various attributes such as category, state, open and close dates, involved personnel, and incident specifics like description, and priority. It captures incident management activities with fields like 'opened_at', 'closed_at', 'assigned_to', 'short_description', and 'priority', reflecting the operational handling and urgency of issues across different locations and categories.\n",
    "\n",
    "### Your Task\n",
    "**Goal**: Analyze the workload distribution among agents to identify any overload situations, specifically focusing on any agent with increasing assignments.\n",
    "\n",
    "**Role**: L2 Incident Analyst\n",
    "\n",
    "**Difficulty**: 3 out of 5. This analysis requires a detailed examination of workload trends, agent performance, and their impacts on incident resolution times, demanding level of analytical skills.\n",
    "\n",
    "**Category**: Incident Management\n"
   ]
  },
  {
   "cell_type": "markdown",
   "metadata": {},
   "source": [
    "\n",
    "### Import Necessary Libraries\n",
    "This cell imports all necessary libraries required for the analysis. This includes libraries for data manipulation, data visualization, and any specific utilities needed for the tasks. "
   ]
  },
  {
   "cell_type": "code",
   "execution_count": 1,
   "metadata": {
    "execution": {
     "iopub.execute_input": "2024-10-25T20:07:16.592835Z",
     "iopub.status.busy": "2024-10-25T20:07:16.591981Z",
     "iopub.status.idle": "2024-10-25T20:07:19.790238Z",
     "shell.execute_reply": "2024-10-25T20:07:19.788256Z"
    }
   },
   "outputs": [],
   "source": [
    "import argparse\n",
    "import pandas as pd\n",
    "import json\n",
    "import requests\n",
    "import matplotlib.pyplot as plt\n",
    "import numpy as np\n",
    "import seaborn as sns\n",
    "from pandas import date_range"
   ]
  },
  {
   "cell_type": "markdown",
   "metadata": {},
   "source": [
    "## Load Dataset\n",
    "This cell imports the dataset we are using, labeled 'flag-7', which is stored in a CSV file and loaded into a DataFrame. The process includes reading the data from the specified file path, and we might take a quick look at the first few rows to confirm that it's all loaded correctly."
   ]
  },
  {
   "cell_type": "code",
   "execution_count": 2,
   "metadata": {
    "execution": {
     "iopub.execute_input": "2024-10-25T20:07:19.803217Z",
     "iopub.status.busy": "2024-10-25T20:07:19.802456Z",
     "iopub.status.idle": "2024-10-25T20:07:19.874468Z",
     "shell.execute_reply": "2024-10-25T20:07:19.872237Z"
    }
   },
   "outputs": [
    {
     "data": {
      "text/html": [
       "<div>\n",
       "<style scoped>\n",
       "    .dataframe tbody tr th:only-of-type {\n",
       "        vertical-align: middle;\n",
       "    }\n",
       "\n",
       "    .dataframe tbody tr th {\n",
       "        vertical-align: top;\n",
       "    }\n",
       "\n",
       "    .dataframe thead th {\n",
       "        text-align: right;\n",
       "    }\n",
       "</style>\n",
       "<table border=\"1\" class=\"dataframe\">\n",
       "  <thead>\n",
       "    <tr style=\"text-align: right;\">\n",
       "      <th></th>\n",
       "      <th>category</th>\n",
       "      <th>state</th>\n",
       "      <th>closed_at</th>\n",
       "      <th>opened_at</th>\n",
       "      <th>closed_by</th>\n",
       "      <th>number</th>\n",
       "      <th>sys_updated_by</th>\n",
       "      <th>location</th>\n",
       "      <th>assigned_to</th>\n",
       "      <th>caller_id</th>\n",
       "      <th>sys_updated_on</th>\n",
       "      <th>short_description</th>\n",
       "      <th>priority</th>\n",
       "      <th>assignement_group</th>\n",
       "    </tr>\n",
       "  </thead>\n",
       "  <tbody>\n",
       "    <tr>\n",
       "      <th>0</th>\n",
       "      <td>Database</td>\n",
       "      <td>Closed</td>\n",
       "      <td>2023-07-25 03:32:18.462401146</td>\n",
       "      <td>2023-01-02 11:04:00</td>\n",
       "      <td>Fred Luddy</td>\n",
       "      <td>INC0000000034</td>\n",
       "      <td>admin</td>\n",
       "      <td>Australia</td>\n",
       "      <td>Fred Luddy</td>\n",
       "      <td>ITIL User</td>\n",
       "      <td>2023-07-06 03:31:13.838619495</td>\n",
       "      <td>There was an issue</td>\n",
       "      <td>2 - High</td>\n",
       "      <td>Database</td>\n",
       "    </tr>\n",
       "    <tr>\n",
       "      <th>1</th>\n",
       "      <td>Hardware</td>\n",
       "      <td>Closed</td>\n",
       "      <td>2023-03-11 13:42:59.511508874</td>\n",
       "      <td>2023-01-03 10:19:00</td>\n",
       "      <td>Charlie Whitherspoon</td>\n",
       "      <td>INC0000000025</td>\n",
       "      <td>admin</td>\n",
       "      <td>India</td>\n",
       "      <td>Beth Anglin</td>\n",
       "      <td>Don Goodliffe</td>\n",
       "      <td>2023-05-19 04:22:50.443252112</td>\n",
       "      <td>There was an issue</td>\n",
       "      <td>1 - Critical</td>\n",
       "      <td>Hardware</td>\n",
       "    </tr>\n",
       "    <tr>\n",
       "      <th>2</th>\n",
       "      <td>Database</td>\n",
       "      <td>Resolved</td>\n",
       "      <td>2023-01-20 14:37:18.361510788</td>\n",
       "      <td>2023-01-04 06:37:00</td>\n",
       "      <td>Charlie Whitherspoon</td>\n",
       "      <td>INC0000000354</td>\n",
       "      <td>system</td>\n",
       "      <td>India</td>\n",
       "      <td>Fred Luddy</td>\n",
       "      <td>ITIL User</td>\n",
       "      <td>2023-02-13 08:10:20.378839709</td>\n",
       "      <td>There was an issue</td>\n",
       "      <td>2 - High</td>\n",
       "      <td>Database</td>\n",
       "    </tr>\n",
       "    <tr>\n",
       "      <th>3</th>\n",
       "      <td>Hardware</td>\n",
       "      <td>Resolved</td>\n",
       "      <td>2023-01-25 20:46:13.679914432</td>\n",
       "      <td>2023-01-04 06:53:00</td>\n",
       "      <td>Fred Luddy</td>\n",
       "      <td>INC0000000023</td>\n",
       "      <td>admin</td>\n",
       "      <td>Canada</td>\n",
       "      <td>Luke Wilson</td>\n",
       "      <td>Don Goodliffe</td>\n",
       "      <td>2023-06-14 11:45:24.784548040</td>\n",
       "      <td>There was an issue</td>\n",
       "      <td>2 - High</td>\n",
       "      <td>Hardware</td>\n",
       "    </tr>\n",
       "    <tr>\n",
       "      <th>4</th>\n",
       "      <td>Hardware</td>\n",
       "      <td>Closed</td>\n",
       "      <td>2023-05-10 22:35:58.881919516</td>\n",
       "      <td>2023-01-05 16:52:00</td>\n",
       "      <td>Luke Wilson</td>\n",
       "      <td>INC0000000459</td>\n",
       "      <td>employee</td>\n",
       "      <td>UK</td>\n",
       "      <td>Charlie Whitherspoon</td>\n",
       "      <td>David Loo</td>\n",
       "      <td>2023-06-11 20:25:35.094482408</td>\n",
       "      <td>There was an issue</td>\n",
       "      <td>2 - High</td>\n",
       "      <td>Hardware</td>\n",
       "    </tr>\n",
       "  </tbody>\n",
       "</table>\n",
       "</div>"
      ],
      "text/plain": [
       "   category     state                      closed_at            opened_at  \\\n",
       "0  Database    Closed  2023-07-25 03:32:18.462401146  2023-01-02 11:04:00   \n",
       "1  Hardware    Closed  2023-03-11 13:42:59.511508874  2023-01-03 10:19:00   \n",
       "2  Database  Resolved  2023-01-20 14:37:18.361510788  2023-01-04 06:37:00   \n",
       "3  Hardware  Resolved  2023-01-25 20:46:13.679914432  2023-01-04 06:53:00   \n",
       "4  Hardware    Closed  2023-05-10 22:35:58.881919516  2023-01-05 16:52:00   \n",
       "\n",
       "              closed_by         number sys_updated_by   location  \\\n",
       "0            Fred Luddy  INC0000000034          admin  Australia   \n",
       "1  Charlie Whitherspoon  INC0000000025          admin      India   \n",
       "2  Charlie Whitherspoon  INC0000000354         system      India   \n",
       "3            Fred Luddy  INC0000000023          admin     Canada   \n",
       "4           Luke Wilson  INC0000000459       employee         UK   \n",
       "\n",
       "            assigned_to      caller_id                 sys_updated_on  \\\n",
       "0            Fred Luddy      ITIL User  2023-07-06 03:31:13.838619495   \n",
       "1           Beth Anglin  Don Goodliffe  2023-05-19 04:22:50.443252112   \n",
       "2            Fred Luddy      ITIL User  2023-02-13 08:10:20.378839709   \n",
       "3           Luke Wilson  Don Goodliffe  2023-06-14 11:45:24.784548040   \n",
       "4  Charlie Whitherspoon      David Loo  2023-06-11 20:25:35.094482408   \n",
       "\n",
       "    short_description      priority assignement_group  \n",
       "0  There was an issue      2 - High          Database  \n",
       "1  There was an issue  1 - Critical          Hardware  \n",
       "2  There was an issue      2 - High          Database  \n",
       "3  There was an issue      2 - High          Hardware  \n",
       "4  There was an issue      2 - High          Hardware  "
      ]
     },
     "execution_count": 2,
     "metadata": {},
     "output_type": "execute_result"
    }
   ],
   "source": [
    "dataset_path = \"csvs/flag-7.csv\"\n",
    "df = pd.read_csv(dataset_path)\n",
    "df.head()"
   ]
  },
  {
   "cell_type": "markdown",
   "metadata": {},
   "source": [
    "### **Question 1: What is the overall average number of incidents assigned to all agents over the recent period?**"
   ]
  },
  {
   "cell_type": "markdown",
   "metadata": {},
   "source": [
    "### Plot overall average number of incidents assigned to each agent\n",
    "This cell creates a bar plot to visualize the average number of incidents assigned to each agent over the recent period, providing insights into workload distribution across the team. This visualization helps identify if any agent is consistently assigned more incidents than others, which could indicate potential imbalances or overload situations."
   ]
  },
  {
   "cell_type": "code",
   "execution_count": 3,
   "metadata": {
    "execution": {
     "iopub.execute_input": "2024-10-25T20:07:19.889268Z",
     "iopub.status.busy": "2024-10-25T20:07:19.888688Z",
     "iopub.status.idle": "2024-10-25T20:07:20.520173Z",
     "shell.execute_reply": "2024-10-25T20:07:20.518022Z"
    }
   },
   "outputs": [
    {
     "data": {
      "image/png": "[encoded data removed]",
      "text/plain": [
       "<Figure size 720x432 with 1 Axes>"
      ]
     },
     "metadata": {
      "needs_background": "light"
     },
     "output_type": "display_data"
    }
   ],
   "source": [
    "import pandas as pd\n",
    "import matplotlib.pyplot as plt\n",
    "import seaborn as sns\n",
    "\n",
    "# Assuming df is already loaded and has the necessary columns\n",
    "df[\"opened_at\"] = pd.to_datetime(df[\"opened_at\"])\n",
    "\n",
    "# Group the data by 'assigned_to' and count the number of incidents for each agent\n",
    "agent_incident_counts = df.groupby('assigned_to').size()\n",
    "\n",
    "# Calculate the average number of incidents per agent\n",
    "# average_incidents_per_agent = agent_incident_counts.mean()\n",
    "\n",
    "# Create a DataFrame for plotting\n",
    "agent_average_df = pd.DataFrame({\n",
    "    'Agent': agent_incident_counts.index,\n",
    "    'Average Incidents': agent_incident_counts\n",
    "})\n",
    "\n",
    "# Plotting the average number of incidents per agent\n",
    "plt.figure(figsize=(10, 6))\n",
    "ax = sns.barplot(x='Agent', y='Average Incidents', data=agent_average_df)\n",
    "plt.title('Overall Average Number of Incidents Assigned to Each Agent')\n",
    "plt.ylabel('Average Number of Incidents')\n",
    "plt.xlabel('Agent')\n",
    "plt.xticks(rotation=45)\n",
    "\n",
    "# Annotate each bar with its value\n",
    "for p in ax.patches:\n",
    "    ax.annotate(format(p.get_height(), '.2f'), \n",
    "                (p.get_x() + p.get_width() / 2., p.get_height()), \n",
    "                ha = 'center', va = 'center', \n",
    "                xytext = (0, 9), \n",
    "                textcoords = 'offset points')\n",
    "plt.show()"
   ]
  },
  {
   "cell_type": "markdown",
   "metadata": {},
   "source": [
    "#### Generate JSON Description for the Insight"
   ]
  },
  {
   "cell_type": "code",
   "execution_count": 4,
   "metadata": {
    "execution": {
     "iopub.execute_input": "2024-10-25T20:07:20.534162Z",
     "iopub.status.busy": "2024-10-25T20:07:20.533627Z",
     "iopub.status.idle": "2024-10-25T20:07:20.557271Z",
     "shell.execute_reply": "2024-10-25T20:07:20.554969Z"
    }
   },
   "outputs": [
    {
     "data": {
      "text/plain": [
       "{'data_type': 'descriptive',\n",
       " 'insight': 'Beth Anglin has a higher average number of incident assignments compared to other agents',\n",
       " 'insight_value': {'agents': ['Beth Anglin'],\n",
       "  'average_incidents': 'Highest: 188'},\n",
       " 'plot': {'plot_type': 'bar',\n",
       "  'title': 'Overall Average Number of Incidents Assigned to Each Agent',\n",
       "  'x_axis': {'name': 'Agent',\n",
       "   'value': ['Beth Anglin',\n",
       "    'Luke Wilson',\n",
       "    'Howard Johnson',\n",
       "    'Charlie Whitherspoon',\n",
       "    'Fred Luddy'],\n",
       "   'description': 'This represents the agents handling incidents.'},\n",
       "  'y_axis': {'name': 'Average Number of Incidents',\n",
       "   'value': [188, 78, 87, 69, 78],\n",
       "   'description': 'This represents the average number of incidents assigned to each agent, calculated over the recent period.'},\n",
       "  'description': 'The bar chart visualizes the average number of incidents assigned to each agent. It shows that Beth Anglin has a higher average number of incidents compared to their peers. This raises questions about workload distribution and the factors contributing to this imbalance.'},\n",
       " 'question': 'What is the overall average number of incidents assigned to all agents over the recent period?',\n",
       " 'actionable_insight': 'Given the higher average number of incidents assigned to Beth Anglin, it is crucial to investigate the reasons behind this distribution. Potential factors could include the types of incidents they are handling, their expertise in specific areas, or even operational needs. Understanding these factors will help in making informed decisions to ensure a balanced workload distribution and to maintain efficiency and fairness within the team.'}"
      ]
     },
     "execution_count": 4,
     "metadata": {},
     "output_type": "execute_result"
    }
   ],
   "source": [
    "{\n",
    "    \"data_type\": \"descriptive\",\n",
    "    \"insight\": \"Beth Anglin has a higher average number of incident assignments compared to other agents\",\n",
    "    \"insight_value\": {\n",
    "        \"agents\": [\"Beth Anglin\"],\n",
    "        \"average_incidents\": \"Highest: 188\"\n",
    "    },\n",
    "    \"plot\": {\n",
    "        \"plot_type\": \"bar\",\n",
    "        \"title\": \"Overall Average Number of Incidents Assigned to Each Agent\",\n",
    "        \"x_axis\": {\n",
    "            \"name\": \"Agent\",\n",
    "            \"value\": [\"Beth Anglin\", \"Luke Wilson\", \"Howard Johnson\", \"Charlie Whitherspoon\", \"Fred Luddy\"],\n",
    "            \"description\": \"This represents the agents handling incidents.\"\n",
    "        },\n",
    "        \"y_axis\": {\n",
    "            \"name\": \"Average Number of Incidents\",\n",
    "            \"value\": [188, 78, 87, 69, 78],\n",
    "            \"description\": \"This represents the average number of incidents assigned to each agent, calculated over the recent period.\"\n",
    "        },\n",
    "        \"description\": \"The bar chart visualizes the average number of incidents assigned to each agent. It shows that Beth Anglin has a higher average number of incidents compared to their peers. This raises questions about workload distribution and the factors contributing to this imbalance.\"\n",
    "    },\n",
    "    \"question\": \"What is the overall average number of incidents assigned to all agents over the recent period?\",\n",
    "    \"actionable_insight\": \"Given the higher average number of incidents assigned to Beth Anglin, it is crucial to investigate the reasons behind this distribution. Potential factors could include the types of incidents they are handling, their expertise in specific areas, or even operational needs. Understanding these factors will help in making informed decisions to ensure a balanced workload distribution and to maintain efficiency and fairness within the team.\"\n",
    "}"
   ]
  },
  {
   "cell_type": "markdown",
   "metadata": {},
   "source": [
    "### **Question 2: How do the incident assignments to Beth Anglin compare to other agents over the specific same time frame or time period?**"
   ]
  },
  {
   "cell_type": "markdown",
   "metadata": {},
   "source": [
    "### Plot number of incidents created over time for each agent\n",
    "This cell creates a count plot to visualize the distribution of incident assignments across different agents over time, with a specific focus on comparing Beth Anglin's assignments to those of other agents. The plot provides insights into how workload is distributed among team members over specific time periods, allowing for an evaluation of consistency and fairness in task distribution."
   ]
  },
  {
   "cell_type": "code",
   "execution_count": 5,
   "metadata": {
    "execution": {
     "iopub.execute_input": "2024-10-25T20:07:20.573250Z",
     "iopub.status.busy": "2024-10-25T20:07:20.572751Z",
     "iopub.status.idle": "2024-10-25T20:07:21.832706Z",
     "shell.execute_reply": "2024-10-25T20:07:21.830090Z"
    }
   },
   "outputs": [
    {
     "data": {
      "image/png": "[encoded data removed]",
      "text/plain": [
       "<Figure size 864x432 with 1 Axes>"
      ]
     },
     "metadata": {
      "needs_background": "light"
     },
     "output_type": "display_data"
    }
   ],
   "source": [
    "# Sort the DataFrame by the opened_at column\n",
    "df = df.sort_values(\"opened_at\")\n",
    "df[\"opened_at\"] = pd.to_datetime(df[\"opened_at\"])\n",
    "df[\"closed_at\"] = pd.to_datetime(df[\"closed_at\"])\n",
    "# Create a new column 'month_year' to make the plot more readable\n",
    "df[\"month_year\"] = df[\"opened_at\"].dt.to_period(\"M\")\n",
    "\n",
    "# Create a countplot\n",
    "plt.figure(figsize=(12, 6))\n",
    "sns.countplot(data=df, x=\"month_year\", hue=\"assigned_to\")\n",
    "plt.title(\"Number of Incidents Created Over Time for each Agent\")\n",
    "plt.xticks(rotation=45)\n",
    "plt.show()"
   ]
  },
  {
   "cell_type": "markdown",
   "metadata": {},
   "source": [
    "#### Generate JSON Description for the Insight"
   ]
  },
  {
   "cell_type": "code",
   "execution_count": 6,
   "metadata": {
    "execution": {
     "iopub.execute_input": "2024-10-25T20:07:21.846148Z",
     "iopub.status.busy": "2024-10-25T20:07:21.845578Z",
     "iopub.status.idle": "2024-10-25T20:07:21.868080Z",
     "shell.execute_reply": "2024-10-25T20:07:21.865563Z"
    }
   },
   "outputs": [
    {
     "data": {
      "text/plain": [
       "{'data_type': 'comparative',\n",
       " 'insight': 'Beth Anglin received significantly increasing incident assignments over the time period. We see a linearly increasing trend',\n",
       " 'insight_value': {'agents': ['Beth Anglin'],\n",
       "  'time_period': '01-2023 to 01-2024',\n",
       "  'comparison': 'higher and increasing compared to other agents'},\n",
       " 'plot': {'plot_type': 'bar',\n",
       "  'title': 'Incident Assignment Comparison Over time period',\n",
       "  'x_axis': {'name': 'Agent',\n",
       "   'value': ['Beth Anglin',\n",
       "    'Luke Wilson',\n",
       "    'Howard Johnson',\n",
       "    'Charlie Whitherspoon',\n",
       "    'Fred Luddy'],\n",
       "   'description': 'This represents the agents handling incidents.'},\n",
       "  'y_axis': {'name': 'Number of Incidents',\n",
       "   'value': 'Count of incidents assigned per agent',\n",
       "   'description': 'This represents the number of incidents assigned to each agent during the specified period.'},\n",
       "  'description': 'The bar chart illustrates the distribution of incident assignments among agents from 01-2023 to 01-2024. During this period, Beth Anglin is being  assigned a increasing  number of incidents compared to their peers. '},\n",
       " 'question': 'How do the incident assignments to Beth Anglin compare to other agents over the specific same time frame?',\n",
       " 'actionable_insight': 'The disparity in incident assignments during this period suggests a need to analyze the underlying reasons. It is crucial to investigate whether this was due to the specific skills of the agent, the nature of the incidents, or possibly the absence of other agents. Understanding these factors will aid in ensuring a more equitable distribution of workload and could lead to adjustments in team scheduling or training to prevent similar imbalances in the future.'}"
      ]
     },
     "execution_count": 6,
     "metadata": {},
     "output_type": "execute_result"
    }
   ],
   "source": [
    "{\n",
    "    \"data_type\": \"comparative\",\n",
    "    \"insight\": \"Beth Anglin received significantly increasing incident assignments over the time period. We see a linearly increasing trend\",\n",
    "    \"insight_value\": {\n",
    "        \"agents\": [\"Beth Anglin\"],\n",
    "        \"time_period\": \"01-2023 to 01-2024\",\n",
    "        \"comparison\": \"higher and increasing compared to other agents\"\n",
    "    },\n",
    "    \"plot\": {\n",
    "        \"plot_type\": \"bar\",\n",
    "        \"title\": \"Incident Assignment Comparison Over time period\",\n",
    "        \"x_axis\": {\n",
    "            \"name\": \"Agent\",\n",
    "            \"value\": [\"Beth Anglin\", \"Luke Wilson\", \"Howard Johnson\", \"Charlie Whitherspoon\", \"Fred Luddy\"],\n",
    "            \"description\": \"This represents the agents handling incidents.\"\n",
    "        },\n",
    "        \"y_axis\": {\n",
    "            \"name\": \"Number of Incidents\",\n",
    "            \"value\": \"Count of incidents assigned per agent\",\n",
    "            \"description\": \"This represents the number of incidents assigned to each agent during the specified period.\"\n",
    "        },\n",
    "        \"description\": \"The bar chart illustrates the distribution of incident assignments among agents from 01-2023 to 01-2024. During this period, Beth Anglin is being  assigned a increasing  number of incidents compared to their peers. \"\n",
    "    },\n",
    "    \"question\": \"How do the incident assignments to Beth Anglin compare to other agents over the specific same time frame?\",\n",
    "    \"actionable_insight\": \"The disparity in incident assignments during this period suggests a need to analyze the underlying reasons. It is crucial to investigate whether this was due to the specific skills of the agent, the nature of the incidents, or possibly the absence of other agents. Understanding these factors will aid in ensuring a more equitable distribution of workload and could lead to adjustments in team scheduling or training to prevent similar imbalances in the future.\"\n",
    "}"
   ]
  },
  {
   "cell_type": "markdown",
   "metadata": {},
   "source": [
    "### **Question 3: Is there a change in the category of incidents assigned to Beth Anglin?**"
   ]
  },
  {
   "cell_type": "markdown",
   "metadata": {},
   "source": [
    "#### Plot number of incidents created over time by category for Beth Anglin\n",
    "This cell creates a count plot to visualize how the categories of incidents assigned to Beth Anglin have changed over time. By tracking the distribution of incident categories on a monthly basis, the plot provides insights into any shifts in the types of tasks Beth is handling"
   ]
  },
  {
   "cell_type": "code",
   "execution_count": 7,
   "metadata": {
    "execution": {
     "iopub.execute_input": "2024-10-25T20:07:21.883731Z",
     "iopub.status.busy": "2024-10-25T20:07:21.883225Z",
     "iopub.status.idle": "2024-10-25T20:07:23.064248Z",
     "shell.execute_reply": "2024-10-25T20:07:23.061654Z"
    }
   },
   "outputs": [
    {
     "data": {
      "image/png": "[encoded data removed]",
      "text/plain": [
       "<Figure size 864x432 with 1 Axes>"
      ]
     },
     "metadata": {
      "needs_background": "light"
     },
     "output_type": "display_data"
    }
   ],
   "source": [
    "import seaborn as sns\n",
    "import matplotlib.pyplot as plt\n",
    "\n",
    "# Put the data into a DataFrame\n",
    "\n",
    "# Sort the DataFrame by the opened_at column\n",
    "df = df[df['assigned_to'] == 'Beth Anglin']\n",
    "df = df.sort_values(\"opened_at\")\n",
    "df[\"opened_at\"] = pd.to_datetime(df[\"opened_at\"])\n",
    "df[\"closed_at\"] = pd.to_datetime(df[\"closed_at\"])\n",
    "# Create a new column 'month_year' to make the plot more readable\n",
    "df[\"month_year\"] = df[\"opened_at\"].dt.to_period(\"M\")\n",
    "\n",
    "# Create a countplot\n",
    "plt.figure(figsize=(12, 6))\n",
    "sns.countplot(data=df, x=\"month_year\", hue=\"category\")\n",
    "plt.title(\"Number of Incidents Created Over Time by Category\")\n",
    "plt.xticks(rotation=45)\n",
    "plt.show()"
   ]
  },
  {
   "cell_type": "markdown",
   "metadata": {},
   "source": [
    "#### Generate JSON Description for the Insight"
   ]
  },
  {
   "cell_type": "code",
   "execution_count": 8,
   "metadata": {
    "execution": {
     "iopub.execute_input": "2024-10-25T20:07:23.077719Z",
     "iopub.status.busy": "2024-10-25T20:07:23.077171Z",
     "iopub.status.idle": "2024-10-25T20:07:23.098764Z",
     "shell.execute_reply": "2024-10-25T20:07:23.096369Z"
    }
   },
   "outputs": [
    {
     "data": {
      "text/plain": [
       "{'data_type': 'diagnostic',\n",
       " 'insight': 'There is an increase in network category incidents assigned to Beth Anglin',\n",
       " 'insight_value': {'category': 'Network',\n",
       "  'trend': 'Increasing assignment to Beth Anglin'},\n",
       " 'plot': {'plot_type': 'histogram',\n",
       "  'title': 'Distribution of Incident Categories for Beth Anglin',\n",
       "  'x_axis': {'name': 'Incident Category',\n",
       "   'value': ['Network', 'Software', 'Hardware', 'Inquiry/Help', 'Database'],\n",
       "   'description': 'This represents the different categories of incidents handled by the agents.'},\n",
       "  'y_axis': {'name': 'Number of Incidents',\n",
       "   'value': 'Count of incidents in each category',\n",
       "   'description': 'This shows the number of incidents assigned to each category'},\n",
       "  'description': 'The histogram displays a noticeable increase in the number of network-related incidents assigned to Beth Anglin during the period when other agents were on PTO. This trend suggests a targeted allocation of network incidents to Beth, potentially due to her specialized skills or experience in handling such issues.'},\n",
       " 'question': \"Is there a change in the category of incidents assigned to Beth Anglin during the other agents' PTO?\",\n",
       " 'actionable_insight': \"Given the observed increase in network incident assignments to Beth Anglin, it is advisable to further investigate the causes behind this trend. If it is indeed due to Beth's proficiency in network issues, consider leveraging her expertise to train other team members. This strategy could help in distributing similar incidents more evenly in the future, ensuring balanced workload distribution and enhancing team resilience.\"}"
      ]
     },
     "execution_count": 8,
     "metadata": {},
     "output_type": "execute_result"
    }
   ],
   "source": [
    "{\n",
    "    \"data_type\": \"diagnostic\",\n",
    "    \"insight\": \"There is an increase in network category incidents assigned to Beth Anglin\",\n",
    "    \"insight_value\": {\n",
    "        \"category\": \"Network\",\n",
    "        \"trend\": \"Increasing assignment to Beth Anglin\"\n",
    "    },\n",
    "    \"plot\": {\n",
    "        \"plot_type\": \"histogram\",\n",
    "        \"title\": \"Distribution of Incident Categories for Beth Anglin\",\n",
    "        \"x_axis\": {\n",
    "            \"name\": \"Incident Category\",\n",
    "            \"value\": [\"Network\", \"Software\", \"Hardware\", \"Inquiry/Help\", \"Database\"],\n",
    "            \"description\": \"This represents the different categories of incidents handled by the agents.\"\n",
    "        },\n",
    "        \"y_axis\": {\n",
    "            \"name\": \"Number of Incidents\",\n",
    "            \"value\": \"Count of incidents in each category\",\n",
    "            \"description\": \"This shows the number of incidents assigned to each category\"\n",
    "        },\n",
    "        \"description\": \"The histogram displays a noticeable increase in the number of network-related incidents assigned to Beth Anglin during the period when other agents were on PTO. This trend suggests a targeted allocation of network incidents to Beth, potentially due to her specialized skills or experience in handling such issues.\"\n",
    "    },\n",
    "    \"question\": \"Is there a change in the category of incidents assigned to Beth Anglin during the other agents' PTO?\",\n",
    "    \"actionable_insight\": \"Given the observed increase in network incident assignments to Beth Anglin, it is advisable to further investigate the causes behind this trend. If it is indeed due to Beth's proficiency in network issues, consider leveraging her expertise to train other team members. This strategy could help in distributing similar incidents more evenly in the future, ensuring balanced workload distribution and enhancing team resilience.\"\n",
    "}"
   ]
  },
  {
   "cell_type": "markdown",
   "metadata": {},
   "source": [
    "### **Question-4:** How does the resolution time (TTR) for incidents handled by Beth Anglin ?"
   ]
  },
  {
   "cell_type": "markdown",
   "metadata": {},
   "source": [
    "#### Plot time to resolution by creation date for Beth Anglin\n",
    "This cell creates a line plot to visualize the trends in Time to Resolution (TTR) for incidents handled by Beth Anglin over time. The plot provides insights into how quickly Beth resolves incidents and whether her resolution times have fluctuated based on the dates incidents were opened."
   ]
  },
  {
   "cell_type": "code",
   "execution_count": 9,
   "metadata": {
    "execution": {
     "iopub.execute_input": "2024-10-25T20:07:23.114493Z",
     "iopub.status.busy": "2024-10-25T20:07:23.113992Z",
     "iopub.status.idle": "2024-10-25T20:07:24.104612Z",
     "shell.execute_reply": "2024-10-25T20:07:24.101882Z"
    }
   },
   "outputs": [
    {
     "data": {
      "text/plain": [
       "Text(0.5, 1.0, 'Time to resolution by creation date')"
      ]
     },
     "execution_count": 9,
     "metadata": {},
     "output_type": "execute_result"
    },
    {
     "data": {
      "image/png": "[encoded data removed]",
      "text/plain": [
       "<Figure size 432x288 with 1 Axes>"
      ]
     },
     "metadata": {
      "needs_background": "light"
     },
     "output_type": "display_data"
    }
   ],
   "source": [
    "# Convert opened_at and closed_at to datetime\n",
    "df[\"opened_at\"] = pd.to_datetime(df[\"opened_at\"])\n",
    "df[\"closed_at\"] = pd.to_datetime(df[\"closed_at\"])\n",
    "# Compute resolution time in days\n",
    "df[\"resolution_time\"] = (df[\"closed_at\"] - df[\"opened_at\"]).dt.total_seconds() / 86400\n",
    "\n",
    "sns.lineplot(x=df[\"opened_at\"], y=df[\"resolution_time\"], hue=df[\"assigned_to\"])\n",
    "plt.xlabel(\"Creation date\")\n",
    "plt.ylabel(\"Time to resolution\")\n",
    "plt.title(\"Time to resolution by creation date\")"
   ]
  },
  {
   "cell_type": "markdown",
   "metadata": {},
   "source": [
    "#### Generate JSON Description for the Insight"
   ]
  },
  {
   "cell_type": "code",
   "execution_count": 10,
   "metadata": {
    "execution": {
     "iopub.execute_input": "2024-10-25T20:07:24.118427Z",
     "iopub.status.busy": "2024-10-25T20:07:24.117909Z",
     "iopub.status.idle": "2024-10-25T20:07:24.138690Z",
     "shell.execute_reply": "2024-10-25T20:07:24.136176Z"
    }
   },
   "outputs": [
    {
     "data": {
      "text/plain": [
       "{'data_type': 'analytical',\n",
       " 'insight': 'The resolution time (TTR) for Beth Anglin  remains uniform over the entire timeline',\n",
       " 'insight_value': {'observation': 'Consistent TTR indicating sustained productivity despite increased workload'},\n",
       " 'plot': {'plot_type': 'line',\n",
       "  'title': 'Trend of Resolution Time (TTR) for Beth Anglin  Over Time',\n",
       "  'x_axis': {'name': 'Time',\n",
       "   'value': 'Timeline from the start to the end of the data set',\n",
       "   'description': 'This axis represents the timeline over which the TTR data is analyzed.'},\n",
       "  'y_axis': {'name': 'Resolution Time (days)',\n",
       "   'value': 'Measured TTR in days',\n",
       "   'description': 'This represents the time taken to resolve incidents, measured in days.'},\n",
       "  'description': 'The line plot illustrates the trend of resolution times for Beth Anglin throughout the analyzed period. Despite a noticeable increase in their workload, the TTR remains consistently uniform across the timeline. This indicates that Beth Anglin was able to maintain their productivity and service quality even under increased workload conditions.'},\n",
       " 'question': 'How does the resolution time (TTR) for incidents handled by Beth Anglin and Luke Wilson during this period compare to other times?',\n",
       " 'actionable_insight': 'The consistent TTR achieved by Beth Anglin , even during periods of increased workload, underscores their efficiency and capability in managing incidents effectively. It is advisable to recognize their resilience and perhaps consider them for further training and leadership roles in managing workflow. Additionally, their strategies and work habits could be studied and possibly replicated across the team to enhance overall productivity and service quality.'}"
      ]
     },
     "execution_count": 10,
     "metadata": {},
     "output_type": "execute_result"
    }
   ],
   "source": [
    "{\n",
    "    \"data_type\": \"analytical\",\n",
    "    \"insight\": \"The resolution time (TTR) for Beth Anglin  remains uniform over the entire timeline\",\n",
    "    \"insight_value\": {\n",
    "        \"observation\": \"Consistent TTR indicating sustained productivity despite increased workload\"\n",
    "    },\n",
    "    \"plot\": {\n",
    "        \"plot_type\": \"line\",\n",
    "        \"title\": \"Trend of Resolution Time (TTR) for Beth Anglin  Over Time\",\n",
    "        \"x_axis\": {\n",
    "            \"name\": \"Time\",\n",
    "            \"value\": \"Timeline from the start to the end of the data set\",\n",
    "            \"description\": \"This axis represents the timeline over which the TTR data is analyzed.\"\n",
    "        },\n",
    "        \"y_axis\": {\n",
    "            \"name\": \"Resolution Time (days)\",\n",
    "            \"value\": \"Measured TTR in days\",\n",
    "            \"description\": \"This represents the time taken to resolve incidents, measured in days.\"\n",
    "        },\n",
    "        \"description\": \"The line plot illustrates the trend of resolution times for Beth Anglin throughout the analyzed period. Despite a noticeable increase in their workload, the TTR remains consistently uniform across the timeline. This indicates that Beth Anglin was able to maintain their productivity and service quality even under increased workload conditions.\"\n",
    "    },\n",
    "    \"question\": \"How does the resolution time (TTR) for incidents handled by Beth Anglin and Luke Wilson during this period compare to other times?\",\n",
    "    \"actionable_insight\": \"The consistent TTR achieved by Beth Anglin , even during periods of increased workload, underscores their efficiency and capability in managing incidents effectively. It is advisable to recognize their resilience and perhaps consider them for further training and leadership roles in managing workflow. Additionally, their strategies and work habits could be studied and possibly replicated across the team to enhance overall productivity and service quality.\"\n",
    "}"
   ]
  },
  {
   "cell_type": "markdown",
   "metadata": {},
   "source": [
    "### **Question-5:** highlight the potential consequences of not addressing the anomaly or trend of increasing assignments during employee leave periods:\n"
   ]
  },
  {
   "cell_type": "markdown",
   "metadata": {},
   "source": [
    "### Plot projected increase in number of incidents assigned\n",
    "This cell creates a regression based plot to predict incident assignments for Beth Anglin based on historical data. The plot combines historical incidents volume data with predicted values to highlight potential consequences if the increasing trend is not addressed."
   ]
  },
  {
   "cell_type": "code",
   "execution_count": 11,
   "metadata": {
    "execution": {
     "iopub.execute_input": "2024-10-25T20:07:24.155144Z",
     "iopub.status.busy": "2024-10-25T20:07:24.154623Z",
     "iopub.status.idle": "2024-10-25T20:07:25.862295Z",
     "shell.execute_reply": "2024-10-25T20:07:25.859732Z"
    }
   },
   "outputs": [
    {
     "data": {
      "image/png": "[encoded data removed]",
      "text/plain": [
       "<Figure size 864x432 with 1 Axes>"
      ]
     },
     "metadata": {
      "needs_background": "light"
     },
     "output_type": "display_data"
    }
   ],
   "source": [
    "import pandas as pd\n",
    "import numpy as np\n",
    "import matplotlib.pyplot as plt\n",
    "import matplotlib.dates as mdates\n",
    "from sklearn.linear_model import LinearRegression\n",
    "\n",
    "# Load data\n",
    "dataset_path = \"csvs/flag-7.csv\"\n",
    "\n",
    "\n",
    "# Load the dataset\n",
    "df = pd.read_csv(dataset_path)\n",
    "df = df[df['assigned_to'] == 'Beth Anglin']\n",
    "df['opened_at'] = pd.to_datetime(df['opened_at'])\n",
    "\n",
    "# Define the cutoff date for the training data\n",
    "cutoff_date = pd.to_datetime(\"2024-01-01\")\n",
    "\n",
    "# Filter the data to include only dates up to the cutoff date\n",
    "training_data = df[df['opened_at'] <= cutoff_date]\n",
    "\n",
    "# Count incidents over time for Beth Anglin in the training data\n",
    "incident_counts = training_data.groupby(training_data['opened_at'].dt.to_period(\"M\")).size().reset_index(name='counts')\n",
    "incident_counts['date_ordinal'] = incident_counts['opened_at'].dt.start_time.apply(lambda x: x.toordinal())\n",
    "\n",
    "# Prepare data for linear regression\n",
    "X = incident_counts['date_ordinal'].values.reshape(-1, 1)  # Reshape for sklearn\n",
    "y = incident_counts['counts'].values  # Target variable: number of incidents\n",
    "\n",
    "# Fit the linear regression model using only the training data\n",
    "model = LinearRegression()\n",
    "model.fit(X, y)\n",
    "\n",
    "# Define the start date for forecasting\n",
    "forecast_start_date = pd.to_datetime(\"2024-01-02\")\n",
    "\n",
    "# Generate future dates from the specified start date\n",
    "future_dates = pd.date_range(start=forecast_start_date, periods=120, freq='D')  # 4 months into the future\n",
    "future_dates_ordinal = [d.toordinal() for d in future_dates]\n",
    "future_preds = model.predict(np.array(future_dates_ordinal).reshape(-1, 1))\n",
    "\n",
    "# Plotting\n",
    "plt.figure(figsize=(12, 6))\n",
    "plt.scatter(incident_counts['opened_at'].dt.start_time, y, color='blue', label='Historical Incident Counts')\n",
    "plt.plot(future_dates, future_preds, color='red', linestyle='--', label='Predicted Incident Count Trend')\n",
    "plt.title('Projected Increase in Incident Assignments for Beth Anglin')\n",
    "plt.xlabel('Date')\n",
    "plt.ylabel('Number of Incidents Assigned')\n",
    "plt.legend()\n",
    "plt.grid(True)\n",
    "\n",
    "# Formatting the x-axis to make it more readable\n",
    "plt.gca().xaxis.set_major_locator(mdates.MonthLocator())\n",
    "plt.gca().xaxis.set_major_formatter(mdates.DateFormatter('%Y-%m'))\n",
    "\n",
    "plt.xticks(rotation=45)\n",
    "plt.tight_layout()\n",
    "plt.show()"
   ]
  },
  {
   "cell_type": "markdown",
   "metadata": {},
   "source": [
    "#### Generate JSON Description for the Insight"
   ]
  },
  {
   "cell_type": "code",
   "execution_count": 12,
   "metadata": {
    "execution": {
     "iopub.execute_input": "2024-10-25T20:07:25.875587Z",
     "iopub.status.busy": "2024-10-25T20:07:25.875067Z",
     "iopub.status.idle": "2024-10-25T20:07:25.891709Z",
     "shell.execute_reply": "2024-10-25T20:07:25.889714Z"
    }
   },
   "outputs": [
    {
     "data": {
      "text/plain": [
       "{'data_type': 'predictive',\n",
       " 'insight': 'There is a continued increase in assignments for Beth Anglin if the trend during leave periods is not addressed',\n",
       " 'insight_value': {'trend': 'Linear Increase',\n",
       "  'prediction': 'Continued escalation in assignments'},\n",
       " 'description': 'The forecast model indicates a linear increase in the number of incidents assigned to Beth Anglin over time, starting from the date immediately following that other agents have not yet returned to work or for any other reasons. This trend suggests that if proactive measures are not taken to address the distribution of work during leave periods, Beth Anglin could continue to face an increasing workload. Such a scenario could lead to potential burnout, decreased job satisfaction, and reduced overall effectiveness in handling incidents.',\n",
       " 'recommendation': {'action': 'Implement proactive workload management strategies',\n",
       "  'expected_outcome': 'Prevent workload escalation and maintain balanced distribution',\n",
       "  'urgency': 'High'},\n",
       " 'actionable_insight': 'To mitigate the risk of continued workload escalation for Beth Anglin, it is crucial to implement proactive workload management strategies. These might include cross-training other agents to handle similar types of incidents, creating a more robust backup system for periods of high leave, or even reevaluating current leave policies to ensure that no single agent is overwhelmed. Regular review and adjustment of workload distribution, especially during peak leave times, will help maintain a balanced workload and prevent the negative consequences of overburdening individual team members.'}"
      ]
     },
     "execution_count": 12,
     "metadata": {},
     "output_type": "execute_result"
    }
   ],
   "source": [
    "{\n",
    "    \"data_type\": \"predictive\",\n",
    "    \"insight\": \"There is a continued increase in assignments for Beth Anglin if the trend during leave periods is not addressed\",\n",
    "    \"insight_value\": {\n",
    "        \"trend\": \"Linear Increase\",\n",
    "        \"prediction\": \"Continued escalation in assignments\"\n",
    "    },\n",
    "    \"description\": \"The forecast model indicates a linear increase in the number of incidents assigned to Beth Anglin over time, starting from the date immediately following that other agents have not yet returned to work or for any other reasons. This trend suggests that if proactive measures are not taken to address the distribution of work during leave periods, Beth Anglin could continue to face an increasing workload. Such a scenario could lead to potential burnout, decreased job satisfaction, and reduced overall effectiveness in handling incidents.\",\n",
    "    \"recommendation\": {\n",
    "        \"action\": \"Implement proactive workload management strategies\",\n",
    "        \"expected_outcome\": \"Prevent workload escalation and maintain balanced distribution\",\n",
    "        \"urgency\": \"High\"\n",
    "    },\n",
    "    \"actionable_insight\": \"To mitigate the risk of continued workload escalation for Beth Anglin, it is crucial to implement proactive workload management strategies. These might include cross-training other agents to handle similar types of incidents, creating a more robust backup system for periods of high leave, or even reevaluating current leave policies to ensure that no single agent is overwhelmed. Regular review and adjustment of workload distribution, especially during peak leave times, will help maintain a balanced workload and prevent the negative consequences of overburdening individual team members.\"\n",
    "}"
   ]
  },
  {
   "cell_type": "markdown",
   "metadata": {},
   "source": [
    "### Summary of Findings (Flag 7)\n",
    "\n",
    "1. **Increasing Assignments Over Time**: A particular human agent, Beth Anglin, has been observed to have a linear increase in the number of incident assignments over time. This trend highlights a potential imbalance in workload distribution.\n",
    "2. **Need for Intervention**: The observed trends indicate that without intervention, the agent’s ability to manage and resolve incidents efficiently may deteriorate further. This could impact overall team performance and quality."
   ]
  }
 ],
 "metadata": {
  "kernelspec": {
   "display_name": "stardoc",
   "language": "python",
   "name": "python3"
  },
  "language_info": {
   "codemirror_mode": {
    "name": "ipython",
    "version": 3
   },
   "file_extension": ".py",
   "mimetype": "text/x-python",
   "name": "python",
   "nbconvert_exporter": "python",
   "pygments_lexer": "ipython3",
   "version": "3.8.5"
  }
 },
 "nbformat": 4,
 "nbformat_minor": 2
}

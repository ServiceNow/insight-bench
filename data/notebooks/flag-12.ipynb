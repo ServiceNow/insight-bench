{
 "cells": [
  {
   "cell_type": "markdown",
   "metadata": {},
   "source": [
    "## Hardware Incident Easy Dataset (Flag 12)\n",
    "\n",
    "### Dataset Description\n",
    "The dataset comprises 500 entries simulating ServiceNow incidents table, detailing various attributes such as category, state, open and close dates, involved personnel, and incident specifics like  description, and priority. It captures incident management activities with fields like 'opened_at', 'closed_at', 'assigned_to', 'short_description', and 'priority', reflecting the operational handling and urgency of issues across different locations and categories.\n",
    "\n",
    "### Your Task\n",
    "Goal: Find the discrepancy and imbalance in incidents assigned \n",
    "\n",
    "Role: L1 Agent\n",
    "\n",
    "Difficulty: 1 out of 5.\n",
    "\n",
    "Category: Incidents Management"
   ]
  },
  {
   "cell_type": "markdown",
   "metadata": {},
   "source": [
    "\n",
    "## Import Necessary Libraries\n",
    "This cell imports all necessary libraries required for the analysis. This includes libraries for data manipulation, data visualization, and any specific utilities needed for the tasks. "
   ]
  },
  {
   "cell_type": "code",
   "execution_count": 1,
   "metadata": {},
   "outputs": [],
   "source": [
    "import argparse\n",
    "import pandas as pd\n",
    "import json\n",
    "import requests\n",
    "import matplotlib.pyplot as plt\n",
    "import numpy as np\n",
    "import seaborn as sns\n",
    "from pandas import date_range"
   ]
  },
  {
   "cell_type": "markdown",
   "metadata": {},
   "source": [
    "## Load Dataset\n",
    "This cell loads the dataset used in the analysis. The dataset is stored in a CSV file and is loaded into DataFrame. This cell reads the data from a file path and performs initial observations such as viewing the first few rows to ensure it has loaded correctly.\n"
   ]
  },
  {
   "cell_type": "code",
   "execution_count": 2,
   "metadata": {},
   "outputs": [
    {
     "data": {
      "text/html": [
       "<div>\n",
       "<style scoped>\n",
       "    .dataframe tbody tr th:only-of-type {\n",
       "        vertical-align: middle;\n",
       "    }\n",
       "\n",
       "    .dataframe tbody tr th {\n",
       "        vertical-align: top;\n",
       "    }\n",
       "\n",
       "    .dataframe thead th {\n",
       "        text-align: right;\n",
       "    }\n",
       "</style>\n",
       "<table border=\"1\" class=\"dataframe\">\n",
       "  <thead>\n",
       "    <tr style=\"text-align: right;\">\n",
       "      <th></th>\n",
       "      <th>sys_updated_by</th>\n",
       "      <th>number</th>\n",
       "      <th>closed_by</th>\n",
       "      <th>state</th>\n",
       "      <th>caller_id</th>\n",
       "      <th>category</th>\n",
       "      <th>assigned_to</th>\n",
       "      <th>opened_at</th>\n",
       "      <th>sys_updated_on</th>\n",
       "      <th>closed_at</th>\n",
       "      <th>short_description</th>\n",
       "      <th>assignment_group</th>\n",
       "      <th>priority</th>\n",
       "    </tr>\n",
       "  </thead>\n",
       "  <tbody>\n",
       "    <tr>\n",
       "      <th>0</th>\n",
       "      <td>admin</td>\n",
       "      <td>INC0000000000</td>\n",
       "      <td>Fred Luddy</td>\n",
       "      <td>Closed</td>\n",
       "      <td>ITIL User</td>\n",
       "      <td>Network</td>\n",
       "      <td>Fred Luddy</td>\n",
       "      <td>2023-01-01 23:02:00</td>\n",
       "      <td>2023-01-08 16:09:39.085741547</td>\n",
       "      <td>2023-01-08 16:09:39.085741547</td>\n",
       "      <td>Internet connectivity lost on floor 3</td>\n",
       "      <td>Network</td>\n",
       "      <td>1 - Critical</td>\n",
       "    </tr>\n",
       "    <tr>\n",
       "      <th>1</th>\n",
       "      <td>system</td>\n",
       "      <td>INC0000000001</td>\n",
       "      <td>Howard Johnson</td>\n",
       "      <td>Closed</td>\n",
       "      <td>Don Goodliffe</td>\n",
       "      <td>Hardware</td>\n",
       "      <td>Luke Wilson</td>\n",
       "      <td>2023-01-02 17:54:00</td>\n",
       "      <td>2023-01-18 18:13:28.278085792</td>\n",
       "      <td>2023-01-18 18:13:28.278085792</td>\n",
       "      <td>Printer not working properly</td>\n",
       "      <td>Hardware</td>\n",
       "      <td>2 - High</td>\n",
       "    </tr>\n",
       "    <tr>\n",
       "      <th>2</th>\n",
       "      <td>admin</td>\n",
       "      <td>INC0000000002</td>\n",
       "      <td>Charlie Whitherspoon</td>\n",
       "      <td>Resolved</td>\n",
       "      <td>ITIL User</td>\n",
       "      <td>Hardware</td>\n",
       "      <td>Fred Luddy</td>\n",
       "      <td>2023-01-02 19:37:00</td>\n",
       "      <td>2023-01-08 20:37:19.213132702</td>\n",
       "      <td>2023-01-08 20:37:19.213132702</td>\n",
       "      <td>The office printer is not functioning</td>\n",
       "      <td>Hardware</td>\n",
       "      <td>2 - High</td>\n",
       "    </tr>\n",
       "    <tr>\n",
       "      <th>3</th>\n",
       "      <td>system</td>\n",
       "      <td>INC0000000003</td>\n",
       "      <td>Luke Wilson</td>\n",
       "      <td>Closed</td>\n",
       "      <td>Bud Richman</td>\n",
       "      <td>Database</td>\n",
       "      <td>Howard Johnson</td>\n",
       "      <td>2023-01-03 02:41:00</td>\n",
       "      <td>2023-01-13 05:15:01.919800558</td>\n",
       "      <td>2023-01-13 05:15:01.919800558</td>\n",
       "      <td>Unable to connect to the database</td>\n",
       "      <td>Database</td>\n",
       "      <td>2 - High</td>\n",
       "    </tr>\n",
       "    <tr>\n",
       "      <th>4</th>\n",
       "      <td>employee</td>\n",
       "      <td>INC0000000004</td>\n",
       "      <td>Fred Luddy</td>\n",
       "      <td>Closed</td>\n",
       "      <td>David Loo</td>\n",
       "      <td>Hardware</td>\n",
       "      <td>Beth Anglin</td>\n",
       "      <td>2023-01-03 10:04:00</td>\n",
       "      <td>2023-01-05 20:05:17.046782206</td>\n",
       "      <td>2023-01-05 20:05:17.046782206</td>\n",
       "      <td>Printer is not working properly</td>\n",
       "      <td>Hardware</td>\n",
       "      <td>2 - High</td>\n",
       "    </tr>\n",
       "  </tbody>\n",
       "</table>\n",
       "</div>"
      ],
      "text/plain": [
       "  sys_updated_by         number             closed_by     state  \\\n",
       "0          admin  INC0000000000            Fred Luddy    Closed   \n",
       "1         system  INC0000000001        Howard Johnson    Closed   \n",
       "2          admin  INC0000000002  Charlie Whitherspoon  Resolved   \n",
       "3         system  INC0000000003           Luke Wilson    Closed   \n",
       "4       employee  INC0000000004            Fred Luddy    Closed   \n",
       "\n",
       "       caller_id  category     assigned_to            opened_at  \\\n",
       "0      ITIL User   Network      Fred Luddy  2023-01-01 23:02:00   \n",
       "1  Don Goodliffe  Hardware     Luke Wilson  2023-01-02 17:54:00   \n",
       "2      ITIL User  Hardware      Fred Luddy  2023-01-02 19:37:00   \n",
       "3    Bud Richman  Database  Howard Johnson  2023-01-03 02:41:00   \n",
       "4      David Loo  Hardware     Beth Anglin  2023-01-03 10:04:00   \n",
       "\n",
       "                  sys_updated_on                      closed_at  \\\n",
       "0  2023-01-08 16:09:39.085741547  2023-01-08 16:09:39.085741547   \n",
       "1  2023-01-18 18:13:28.278085792  2023-01-18 18:13:28.278085792   \n",
       "2  2023-01-08 20:37:19.213132702  2023-01-08 20:37:19.213132702   \n",
       "3  2023-01-13 05:15:01.919800558  2023-01-13 05:15:01.919800558   \n",
       "4  2023-01-05 20:05:17.046782206  2023-01-05 20:05:17.046782206   \n",
       "\n",
       "                       short_description assignment_group      priority  \n",
       "0  Internet connectivity lost on floor 3          Network  1 - Critical  \n",
       "1           Printer not working properly         Hardware      2 - High  \n",
       "2  The office printer is not functioning         Hardware      2 - High  \n",
       "3      Unable to connect to the database         Database      2 - High  \n",
       "4        Printer is not working properly         Hardware      2 - High  "
      ]
     },
     "execution_count": 2,
     "metadata": {},
     "output_type": "execute_result"
    }
   ],
   "source": [
    "dataset_path = \"csvs/flag-12.csv\"\n",
    "df = pd.read_csv(dataset_path)\n",
    "df.head()"
   ]
  },
  {
   "cell_type": "markdown",
   "metadata": {},
   "source": [
    "### **Question 1**: What is the distribution of incidents across all categories?"
   ]
  },
  {
   "cell_type": "markdown",
   "metadata": {},
   "source": [
    "#### Plot number of incidents by category\n",
    "\n",
    "\n",
    "This cell creates a horizontal bar plot to visualize the distribution of incidents across different categories. It annotates the plot with the count of incidents in each category. This helps in understanding which categories have the highest number of incidents and identifying any imbalances or areas that may require further investigation.\n"
   ]
  },
  {
   "cell_type": "code",
   "execution_count": 3,
   "metadata": {},
   "outputs": [
    {
     "data": {
      "image/png": "[encoded data removed]",
      "text/plain": [
       "<Figure size 640x480 with 1 Axes>"
      ]
     },
     "metadata": {},
     "output_type": "display_data"
    }
   ],
   "source": [
    "\n",
    "plot = df.groupby(\"category\").size().plot(kind=\"barh\", color=sns.palettes.mpl_palette(\"Dark2\"))\n",
    "\n",
    "fig = plt.gcf()\n",
    "\n",
    "\n",
    "for i in plot.patches:\n",
    "    # Get X and Y placement of label from rectangle\n",
    "    x_value = i.get_width()\n",
    "    y_value = i.get_y() + i.get_height() / 2\n",
    "\n",
    "    # Use X value as label and format number with one decimal place\n",
    "    label = \"{:.1f}\".format(x_value)\n",
    "\n",
    "    # Create annotation\n",
    "    plt.annotate(\n",
    "        label,                      \n",
    "        (x_value, y_value),         \n",
    "        xytext=(-10, 0),            \n",
    "        textcoords=\"offset points\", \n",
    "        ha='right',                 \n",
    "        va='center'                 \n",
    "    )\n",
    "\n",
    "# Set plot title\n",
    "plt.title('Incidents by Category')\n",
    "\n",
    "# Set x-axis label\n",
    "plt.xlabel('Category')\n",
    "\n",
    "# Set y-axis label\n",
    "plt.ylabel('Number of Incidents')\n",
    "\n",
    "# Display the figure\n",
    "plt.show()"
   ]
  },
  {
   "cell_type": "markdown",
   "metadata": {},
   "source": [
    "#### Generate JSON Description for the Insight"
   ]
  },
  {
   "cell_type": "code",
   "execution_count": 4,
   "metadata": {},
   "outputs": [
    {
     "data": {
      "text/plain": [
       "{'data_type': 'descriptive',\n",
       " 'insight': 'hardware incidents is significantly higher than others',\n",
       " 'insight_value': {'x_val': 'Hardware', 'y_val': 406},\n",
       " 'plot': {'plot_type': 'histogram',\n",
       "  'title': 'Incidents by Category',\n",
       "  'x_axis': {'name': 'Category',\n",
       "   'value': ['Hardware', 'Software', 'Network', 'Inquiry / Help', 'Database'],\n",
       "   'description': 'This represents the different categories of incidents.'},\n",
       "  'y_axis': {'name': 'Number of Incidents',\n",
       "   'value': [406, 33, 22, 20, 19],\n",
       "   'description': 'This represents the number of incidents in each category.'},\n",
       "  'description': \"The histogram displays the distribution of incidents across different categories. Each bar represents a category and the length of the bar corresponds to the number of incidents in that category. The values are annotated on each bar. The 'Hardware' category has the highest number of incidents.\"},\n",
       " 'question': 'What is the distribution of incidents across all categories?',\n",
       " 'actionable_insight': 'With the Hardware category having the highest number of incidents, it could be beneficial to allocate more resources or provide additional training to the team handling this category to effectively manage and resolve these incidents.'}"
      ]
     },
     "execution_count": 4,
     "metadata": {},
     "output_type": "execute_result"
    }
   ],
   "source": [
    "{\"data_type\":\"descriptive\",\n",
    "\"insight\": \"hardware incidents is significantly higher than others\",\n",
    "\"insight_value\":{\"x_val\": \"Hardware\", \"y_val\": 406},\n",
    "\"plot\": {\n",
    "    \"plot_type\": \"histogram\",\n",
    "    \"title\": \"Incidents by Category\",\n",
    "    \"x_axis\": {\n",
    "        \"name\": \"Category\",\n",
    "        \"value\": [\"Hardware\", \"Software\", \"Network\", \"Inquiry / Help\", \"Database\"],\n",
    "        \"description\": \"This represents the different categories of incidents.\"\n",
    "    },\n",
    "    \"y_axis\": {\n",
    "        \"name\": \"Number of Incidents\",\n",
    "        \"value\": [406, 33, 22, 20, 19],\n",
    "        \"description\": \"This represents the number of incidents in each category.\"\n",
    "    },\n",
    "    \"description\": \"The histogram displays the distribution of incidents across different categories. Each bar represents a category and the length of the bar corresponds to the number of incidents in that category. The values are annotated on each bar. The 'Hardware' category has the highest number of incidents.\"\n",
    "},\n",
    "\"question\": \"What is the distribution of incidents across all categories?\",\n",
    "\"actionable_insight\": \"With the Hardware category having the highest number of incidents, it could be beneficial to allocate more resources or provide additional training to the team handling this category to effectively manage and resolve these incidents.\"\n",
    "}"
   ]
  },
  {
   "cell_type": "markdown",
   "metadata": {},
   "source": [
    "### **Question 2:** Is there a specific reason why a majority of incidents are being assigned to the hardware category?"
   ]
  },
  {
   "cell_type": "markdown",
   "metadata": {},
   "source": [
    "#### Plot frequency of keywords in short descriptions.\n",
    "This cell creates a bar plot to visualize the frequency of a specific keyword (e.g., 'Printer') in the incident descriptions. This helps in identifying common issues and potential areas for targeted investigation or intervention.\n"
   ]
  },
  {
   "cell_type": "code",
   "execution_count": 5,
   "metadata": {},
   "outputs": [
    {
     "data": {
      "image/png": "[encoded data removed]",
      "text/plain": [
       "<Figure size 640x480 with 1 Axes>"
      ]
     },
     "metadata": {},
     "output_type": "display_data"
    }
   ],
   "source": [
    "df = df[df['category'] == 'Hardware']\n",
    "# Count the frequency of 'Printer' in 'short_description'\n",
    "printer_incidents = df['short_description'].apply(lambda x: 'Printer' in x).sum()\n",
    "\n",
    "# Create a DataFrame for plotting\n",
    "df_plot = pd.DataFrame({'Keyword': ['Printer'], 'Frequency': [printer_incidents]})\n",
    "\n",
    "# Plot the frequency\n",
    "plot = df_plot.plot(kind='bar', x='Keyword', y='Frequency', legend=False, color='blue')\n",
    "\n",
    "# Get the current figure for further manipulation\n",
    "fig = plt.gcf()\n",
    "\n",
    "# Loop through the rectangles (i.e., bars)\n",
    "for i in plot.patches:\n",
    "    # Get X and Y placement of label from rectangle\n",
    "    x_value = i.get_x() + i.get_width() / 2\n",
    "    y_value = i.get_height()\n",
    "\n",
    "    # Use Y value as label and format number with one decimal place\n",
    "    label = \"{:.1f}\".format(y_value)\n",
    "\n",
    "    # Create annotation\n",
    "    plt.annotate(\n",
    "        label,                      # Use `label` as label\n",
    "        (x_value, y_value),         # Place label at end of the bar\n",
    "        xytext=(0, 5),              # Shift text slightly above bar\n",
    "        textcoords=\"offset points\", # Interpret `xytext` as offset in points\n",
    "        ha='center',                # Horizontally align label \n",
    "        va='bottom'                 # Vertically align label at bottom\n",
    "    )\n",
    "\n",
    "# Set plot title\n",
    "plt.title('Frequency of Printer in Incident Descriptions')\n",
    "\n",
    "# Set x-axis label\n",
    "plt.xlabel('Keyword')\n",
    "\n",
    "# Set y-axis label\n",
    "plt.ylabel('Frequency')\n",
    "\n",
    "# Display the figure\n",
    "plt.show()"
   ]
  },
  {
   "cell_type": "markdown",
   "metadata": {},
   "source": [
    "#### Generate JSON Description for the Insight"
   ]
  },
  {
   "cell_type": "code",
   "execution_count": 6,
   "metadata": {},
   "outputs": [
    {
     "data": {
      "text/plain": [
       "{'data_type': 'descriptive',\n",
       " 'insight': 'Most of the hardware incidents are related to printer issues',\n",
       " 'insight_value': {'x_val': 'Printer', 'y_val': 166},\n",
       " 'plot': {'plot_type': 'bar',\n",
       "  'title': 'Frequency of Printer in Incident Descriptions',\n",
       "  'x_axis': {'name': 'Keyword',\n",
       "   'value': ['Printer'],\n",
       "   'description': 'This represents the keyword in incident descriptions.'},\n",
       "  'y_axis': {'name': 'Frequency',\n",
       "   'value': [166],\n",
       "   'description': \"This represents the frequency of the keyword 'Printer' in incident descriptions.\"},\n",
       "  'plot description': \"The bar plot displays the frequency of the keyword 'Printer' in the incident descriptions. The length of the bar corresponds to the frequency of the keyword. The 'Printer' keyword has a high frequency.\"},\n",
       " 'question': 'Is there a specific reason why a majority of incidents are being assigned to the hardware category?',\n",
       " 'actionable_insight': \"The high frequency of 'Printer' in incident descriptions indicates a specific issue with printers. A focused investigation into the printer issues, possibly involving the printer manufacturer or service provider, could help in resolving these incidents.\"}"
      ]
     },
     "execution_count": 6,
     "metadata": {},
     "output_type": "execute_result"
    }
   ],
   "source": [
    "{\"data_type\":\"descriptive\",\n",
    "\"insight\": \"Most of the hardware incidents are related to printer issues\",\n",
    "\"insight_value\":{\"x_val\": \"Printer\", \"y_val\": 166},\n",
    "\"plot\": {\n",
    "    \"plot_type\": \"bar\",\n",
    "    \"title\": \"Frequency of Printer in Incident Descriptions\",\n",
    "    \"x_axis\": {\n",
    "        \"name\": \"Keyword\",\n",
    "        \"value\": [\"Printer\"],\n",
    "        \"description\": \"This represents the keyword in incident descriptions.\"\n",
    "    },\n",
    "    \"y_axis\": {\n",
    "        \"name\": \"Frequency\",\n",
    "        \"value\": [166],\n",
    "        \"description\": \"This represents the frequency of the keyword 'Printer' in incident descriptions.\"\n",
    "    },\n",
    "    \"plot description\": \"The bar plot displays the frequency of the keyword 'Printer' in the incident descriptions. The length of the bar corresponds to the frequency of the keyword. The 'Printer' keyword has a high frequency.\"\n",
    "},\n",
    "\"question\": \"Is there a specific reason why a majority of incidents are being assigned to the hardware category?\",\n",
    "\"actionable_insight\": \"The high frequency of 'Printer' in incident descriptions indicates a specific issue with printers. A focused investigation into the printer issues, possibly involving the printer manufacturer or service provider, could help in resolving these incidents.\"\n",
    "}"
   ]
  },
  {
   "cell_type": "markdown",
   "metadata": {},
   "source": [
    "### **Question 3:** Are the hardware incidents concentrated in a specific location?"
   ]
  },
  {
   "cell_type": "markdown",
   "metadata": {},
   "source": [
    "#### Plot number of incidents by location\n",
    "This section aims tp analyze the distribution of incidents across different locations, focusing on identifying any concentration or trends in the data.\n",
    "however the location information may be unavailable and out of scope of the current dataset."
   ]
  },
  {
   "cell_type": "code",
   "execution_count": 7,
   "metadata": {},
   "outputs": [
    {
     "ename": "KeyError",
     "evalue": "'location'",
     "output_type": "error",
     "traceback": [
      "\u001b[0;31m---------------------------------------------------------------------------\u001b[0m",
      "\u001b[0;31mKeyError\u001b[0m                                  Traceback (most recent call last)",
      "File \u001b[0;32m/mnt/home/miniconda/envs/transformersum/lib/python3.10/site-packages/pandas/core/indexes/base.py:3790\u001b[0m, in \u001b[0;36mIndex.get_loc\u001b[0;34m(self, key)\u001b[0m\n\u001b[1;32m   3789\u001b[0m \u001b[38;5;28;01mtry\u001b[39;00m:\n\u001b[0;32m-> 3790\u001b[0m     \u001b[38;5;28;01mreturn\u001b[39;00m \u001b[38;5;28;43mself\u001b[39;49m\u001b[38;5;241;43m.\u001b[39;49m\u001b[43m_engine\u001b[49m\u001b[38;5;241;43m.\u001b[39;49m\u001b[43mget_loc\u001b[49m\u001b[43m(\u001b[49m\u001b[43mcasted_key\u001b[49m\u001b[43m)\u001b[49m\n\u001b[1;32m   3791\u001b[0m \u001b[38;5;28;01mexcept\u001b[39;00m \u001b[38;5;167;01mKeyError\u001b[39;00m \u001b[38;5;28;01mas\u001b[39;00m err:\n",
      "File \u001b[0;32mindex.pyx:152\u001b[0m, in \u001b[0;36mpandas._libs.index.IndexEngine.get_loc\u001b[0;34m()\u001b[0m\n",
      "File \u001b[0;32mindex.pyx:181\u001b[0m, in \u001b[0;36mpandas._libs.index.IndexEngine.get_loc\u001b[0;34m()\u001b[0m\n",
      "File \u001b[0;32mpandas/_libs/hashtable_class_helper.pxi:7080\u001b[0m, in \u001b[0;36mpandas._libs.hashtable.PyObjectHashTable.get_item\u001b[0;34m()\u001b[0m\n",
      "File \u001b[0;32mpandas/_libs/hashtable_class_helper.pxi:7088\u001b[0m, in \u001b[0;36mpandas._libs.hashtable.PyObjectHashTable.get_item\u001b[0;34m()\u001b[0m\n",
      "\u001b[0;31mKeyError\u001b[0m: 'location'",
      "\nThe above exception was the direct cause of the following exception:\n",
      "\u001b[0;31mKeyError\u001b[0m                                  Traceback (most recent call last)",
      "Cell \u001b[0;32mIn[7], line 2\u001b[0m\n\u001b[1;32m      1\u001b[0m \u001b[38;5;66;03m# Count the frequency of incidents in each location\u001b[39;00m\n\u001b[0;32m----> 2\u001b[0m location_counts \u001b[38;5;241m=\u001b[39m \u001b[43mdf\u001b[49m\u001b[43m[\u001b[49m\u001b[43mdf\u001b[49m\u001b[43m[\u001b[49m\u001b[38;5;124;43m'\u001b[39;49m\u001b[38;5;124;43mcategory\u001b[39;49m\u001b[38;5;124;43m'\u001b[39;49m\u001b[43m]\u001b[49m\u001b[43m \u001b[49m\u001b[38;5;241;43m==\u001b[39;49m\u001b[43m \u001b[49m\u001b[38;5;124;43m'\u001b[39;49m\u001b[38;5;124;43mHardware\u001b[39;49m\u001b[38;5;124;43m'\u001b[39;49m\u001b[43m]\u001b[49m\u001b[43m[\u001b[49m\u001b[38;5;124;43m'\u001b[39;49m\u001b[38;5;124;43mlocation\u001b[39;49m\u001b[38;5;124;43m'\u001b[39;49m\u001b[43m]\u001b[49m\u001b[38;5;241m.\u001b[39mvalue_counts()\n\u001b[1;32m      4\u001b[0m \u001b[38;5;66;03m# Create a DataFrame from the counts for plotting\u001b[39;00m\n\u001b[1;32m      5\u001b[0m df_plot \u001b[38;5;241m=\u001b[39m location_counts\u001b[38;5;241m.\u001b[39mreset_index()\n",
      "File \u001b[0;32m/mnt/home/miniconda/envs/transformersum/lib/python3.10/site-packages/pandas/core/frame.py:3896\u001b[0m, in \u001b[0;36mDataFrame.__getitem__\u001b[0;34m(self, key)\u001b[0m\n\u001b[1;32m   3894\u001b[0m \u001b[38;5;28;01mif\u001b[39;00m \u001b[38;5;28mself\u001b[39m\u001b[38;5;241m.\u001b[39mcolumns\u001b[38;5;241m.\u001b[39mnlevels \u001b[38;5;241m>\u001b[39m \u001b[38;5;241m1\u001b[39m:\n\u001b[1;32m   3895\u001b[0m     \u001b[38;5;28;01mreturn\u001b[39;00m \u001b[38;5;28mself\u001b[39m\u001b[38;5;241m.\u001b[39m_getitem_multilevel(key)\n\u001b[0;32m-> 3896\u001b[0m indexer \u001b[38;5;241m=\u001b[39m \u001b[38;5;28;43mself\u001b[39;49m\u001b[38;5;241;43m.\u001b[39;49m\u001b[43mcolumns\u001b[49m\u001b[38;5;241;43m.\u001b[39;49m\u001b[43mget_loc\u001b[49m\u001b[43m(\u001b[49m\u001b[43mkey\u001b[49m\u001b[43m)\u001b[49m\n\u001b[1;32m   3897\u001b[0m \u001b[38;5;28;01mif\u001b[39;00m is_integer(indexer):\n\u001b[1;32m   3898\u001b[0m     indexer \u001b[38;5;241m=\u001b[39m [indexer]\n",
      "File \u001b[0;32m/mnt/home/miniconda/envs/transformersum/lib/python3.10/site-packages/pandas/core/indexes/base.py:3797\u001b[0m, in \u001b[0;36mIndex.get_loc\u001b[0;34m(self, key)\u001b[0m\n\u001b[1;32m   3792\u001b[0m     \u001b[38;5;28;01mif\u001b[39;00m \u001b[38;5;28misinstance\u001b[39m(casted_key, \u001b[38;5;28mslice\u001b[39m) \u001b[38;5;129;01mor\u001b[39;00m (\n\u001b[1;32m   3793\u001b[0m         \u001b[38;5;28misinstance\u001b[39m(casted_key, abc\u001b[38;5;241m.\u001b[39mIterable)\n\u001b[1;32m   3794\u001b[0m         \u001b[38;5;129;01mand\u001b[39;00m \u001b[38;5;28many\u001b[39m(\u001b[38;5;28misinstance\u001b[39m(x, \u001b[38;5;28mslice\u001b[39m) \u001b[38;5;28;01mfor\u001b[39;00m x \u001b[38;5;129;01min\u001b[39;00m casted_key)\n\u001b[1;32m   3795\u001b[0m     ):\n\u001b[1;32m   3796\u001b[0m         \u001b[38;5;28;01mraise\u001b[39;00m InvalidIndexError(key)\n\u001b[0;32m-> 3797\u001b[0m     \u001b[38;5;28;01mraise\u001b[39;00m \u001b[38;5;167;01mKeyError\u001b[39;00m(key) \u001b[38;5;28;01mfrom\u001b[39;00m \u001b[38;5;21;01merr\u001b[39;00m\n\u001b[1;32m   3798\u001b[0m \u001b[38;5;28;01mexcept\u001b[39;00m \u001b[38;5;167;01mTypeError\u001b[39;00m:\n\u001b[1;32m   3799\u001b[0m     \u001b[38;5;66;03m# If we have a listlike key, _check_indexing_error will raise\u001b[39;00m\n\u001b[1;32m   3800\u001b[0m     \u001b[38;5;66;03m#  InvalidIndexError. Otherwise we fall through and re-raise\u001b[39;00m\n\u001b[1;32m   3801\u001b[0m     \u001b[38;5;66;03m#  the TypeError.\u001b[39;00m\n\u001b[1;32m   3802\u001b[0m     \u001b[38;5;28mself\u001b[39m\u001b[38;5;241m.\u001b[39m_check_indexing_error(key)\n",
      "\u001b[0;31mKeyError\u001b[0m: 'location'"
     ]
    }
   ],
   "source": [
    "# Count the frequency of incidents in each location\n",
    "location_counts = df[df['category'] == 'Hardware']['location'].value_counts()\n",
    "\n",
    "# Create a DataFrame from the counts for plotting\n",
    "df_plot = location_counts.reset_index()\n",
    "df_plot.columns = ['Location', 'Number of Incidents']\n",
    "\n",
    "# Plot the frequency\n",
    "plot = df_plot.plot(kind='bar', x='Location', y='Number of Incidents', legend=False, color='blue')\n",
    "\n",
    "# Get the current figure for further manipulation\n",
    "fig = plt.gcf()\n",
    "\n",
    "# Loop through the rectangles (i.e., bars)\n",
    "for i in plot.patches:\n",
    "    # Get X and Y placement of label from rectangle\n",
    "    x_value = i.get_x() + i.get_width() / 2\n",
    "    y_value = i.get_height()\n",
    "\n",
    "    # Use Y value as label and format number with one decimal place\n",
    "    label = \"{:.1f}\".format(y_value)\n",
    "\n",
    "    # Create annotation\n",
    "    plt.annotate(\n",
    "        label,                      # Use `label` as label\n",
    "        (x_value, y_value),         # Place label at end of the bar\n",
    "        xytext=(0, 5),              # Shift text slightly above bar\n",
    "        textcoords=\"offset points\", # Interpret `xytext` as offset in points\n",
    "        ha='center',                # Horizontally align label \n",
    "        va='bottom'                 # Vertically align label at bottom\n",
    "    )\n",
    "\n",
    "# Set plot title\n",
    "plt.title('Incidents by Location')\n",
    "\n",
    "# Set x-axis label\n",
    "plt.xlabel('Location')\n",
    "\n",
    "# Set y-axis label\n",
    "plt.ylabel('Number of Incidents')\n",
    "\n",
    "# Display the figure\n",
    "plt.show()"
   ]
  },
  {
   "cell_type": "markdown",
   "metadata": {},
   "source": [
    "#### Generate JSON Description for the Insight"
   ]
  },
  {
   "cell_type": "code",
   "execution_count": 8,
   "metadata": {},
   "outputs": [
    {
     "data": {
      "text/plain": [
       "{'data_type': 'descriptive',\n",
       " 'insight': 'location is not specified in the dataset nor in the short description',\n",
       " 'insight_value': {'x_val': 'None', 'y_val': 'None'},\n",
       " 'plot': {'plot_type': 'bar',\n",
       "  'title': 'Incidents by Location',\n",
       "  'plot description': 'The bar plot is currently empty.'},\n",
       " 'question': 'Are the hardware incidents concentrated in a specific location?',\n",
       " 'actionable_insight': 'Given that grographic location are not specified in the dataset,  ot is important to spend time and resources in identifying the possible locations the incidents are most occuring.'}"
      ]
     },
     "execution_count": 8,
     "metadata": {},
     "output_type": "execute_result"
    }
   ],
   "source": [
    "{\n",
    "    \"data_type\":\"descriptive\",\n",
    "    \"insight\": \"location is not specified in the dataset nor in the short description\",\n",
    "    \"insight_value\":{\"x_val\": \"None\", \"y_val\": \"None\"},\n",
    "    \"plot\": {\n",
    "        \"plot_type\": \"bar\",\n",
    "        \"title\": \"Incidents by Location\",\n",
    "        \"plot description\": \"The bar plot is currently empty.\"\n",
    "    },\n",
    "    \"question\": \"Are the hardware incidents concentrated in a specific location?\",\n",
    "    \"actionable_insight\": \"Given that grographic location are not specified in the dataset,  ot is important to spend time and resources in identifying the possible locations the incidents are most occuring.\"\n",
    "}"
   ]
  },
  {
   "cell_type": "markdown",
   "metadata": {},
   "source": [
    "### **Question 4**: Is there a pattern or trend over time in the distribution of incidents across categories?"
   ]
  },
  {
   "cell_type": "markdown",
   "metadata": {},
   "source": [
    "#### Plot the monthly number of incidents by category\n",
    "This cell generates a line plot showing the monthly trend of incidents across different categories, providing a visual representation of how the number of incidents in each category changes over time."
   ]
  },
  {
   "cell_type": "code",
   "execution_count": 8,
   "metadata": {},
   "outputs": [
    {
     "name": "stderr",
     "output_type": "stream",
     "text": [
      "/tmp/ipykernel_16184/3354406006.py:5: FutureWarning: 'M' is deprecated and will be removed in a future version, please use 'ME' instead.\n",
      "  df_resampled = df.groupby([pd.Grouper(key='opened_at', freq='M'), 'category']).size().unstack()\n"
     ]
    },
    {
     "data": {
      "image/png": "[encoded data removed]",
      "text/plain": [
       "<Figure size 640x480 with 1 Axes>"
      ]
     },
     "metadata": {},
     "output_type": "display_data"
    }
   ],
   "source": [
    "# Convert 'opened_at' to datetime\n",
    "df['opened_at'] = pd.to_datetime(df['opened_at'])\n",
    "\n",
    "# Resample the data by month and category, and count the number of incidents\n",
    "df_resampled = df.groupby([pd.Grouper(key='opened_at', freq='M'), 'category']).size().unstack()\n",
    "\n",
    "# Plot the resampled data\n",
    "plot = df_resampled.plot(kind='line')\n",
    "\n",
    "# Set plot title\n",
    "plt.title('Incidents Over Time by Category')\n",
    "\n",
    "# Set x-axis label\n",
    "plt.xlabel('Time')\n",
    "\n",
    "# Set y-axis label\n",
    "plt.ylabel('Number of Incidents')\n",
    "\n",
    "# Display the figure\n",
    "plt.show()"
   ]
  },
  {
   "cell_type": "markdown",
   "metadata": {},
   "source": [
    "#### Generate JSON Description for the Insight"
   ]
  },
  {
   "cell_type": "code",
   "execution_count": 11,
   "metadata": {},
   "outputs": [
    {
     "data": {
      "text/plain": [
       "{'data_type': 'descriptive',\n",
       " 'insight': 'There is not a significant increase in hardware incidents over time, they are relatively stable and high compared to toher categories',\n",
       " 'insight_value': {'x_val': 'Time', 'y_val': 'Number of Incidents'},\n",
       " 'plot': {'plot_type': 'line',\n",
       "  'title': 'Incidents Over Time by Category',\n",
       "  'x_axis': {'name': 'Time',\n",
       "   'value': 'Time Series',\n",
       "   'description': 'This represents the timeline of incidents.'},\n",
       "  'y_axis': {'name': 'Number of Incidents',\n",
       "   'value': 'Incident Count',\n",
       "   'description': 'This represents the number of incidents in each category over time.'},\n",
       "  'plot description': \"The line plot displays the trend of incidents across different categories over time. Each line represents a category and the height of the line corresponds to the number of incidents in that category at a given time. The 'Hardware' category shows a significant increasing trend.\"},\n",
       " 'question': 'Is there a pattern or trend over time in the distribution of incidents across categories?'}"
      ]
     },
     "execution_count": 11,
     "metadata": {},
     "output_type": "execute_result"
    }
   ],
   "source": [
    "{\n",
    "    \"data_type\":\"descriptive\",\n",
    "    \"insight\": \"There is not a significant increase in hardware incidents over time, they are relatively stable and high compared to toher categories\",\n",
    "    \"insight_value\":{\"x_val\": \"Time\", \"y_val\": \"Number of Incidents\"},\n",
    "    \"plot\": {\n",
    "        \"plot_type\": \"line\",\n",
    "        \"title\": \"Incidents Over Time by Category\",\n",
    "        \"x_axis\": {\n",
    "            \"name\": \"Time\",\n",
    "            \"value\": \"Time Series\",\n",
    "            \"description\": \"This represents the timeline of incidents.\"\n",
    "        },\n",
    "        \"y_axis\": {\n",
    "            \"name\": \"Number of Incidents\",\n",
    "            \"value\": \"Incident Count\",\n",
    "            \"description\": \"This represents the number of incidents in each category over time.\"\n",
    "        },\n",
    "        \"plot description\": \"The line plot displays the trend of incidents across different categories over time. Each line represents a category and the height of the line corresponds to the number of incidents in that category at a given time. The 'Hardware' category shows a significant increasing trend.\"\n",
    "    },\n",
    "    \"question\": \"Is there a pattern or trend over time in the distribution of incidents across categories?\"\n",
    "}"
   ]
  },
  {
   "cell_type": "markdown",
   "metadata": {},
   "source": [
    "### **Question 5**: What can be done to tackle such anomaly incidents? How can the organization effectively manage the increasing number of hardware incidents?"
   ]
  },
  {
   "cell_type": "markdown",
   "metadata": {},
   "source": [
    "Insight:\n",
    "Agents possess the required skills and capacity to handle these incidents effectively. Despite the increased workload, data shows no increase in resolution times as in the Q3, so they have been effective. However, additional resources could still be beneficial to manage unexpected failures like the one seen in this dataset."
   ]
  },
  {
   "cell_type": "markdown",
   "metadata": {},
   "source": [
    "### Summary of Findings (Flag 12)\n",
    "\n",
    "1. **Distribution of Incidents Across Categories:**\n",
    "The distribution of incidents across the categories is heavily skewed towards the Hardware category. It accounts for 71% of all incidents, which is significantly higher than the other categories. The Software and Network categories each account for roughly 8.5% of incidents, the Database category also accounts for approximately 8.5%, while the Inquiry/Help category comprises the remaining 7%.\n",
    " \n",
    "2. **Reason for Majority of Incidents in the Hardware Category:**\n",
    "The primary reason for the majority of incidents being assigned to the Hardware category is unclear, however there are significant issues that are printer related. Need to establish a concrete plaussible explanation for other cases.\n",
    " \n",
    " "
   ]
  }
 ],
 "metadata": {
  "kernelspec": {
   "display_name": "stardoc",
   "language": "python",
   "name": "python3"
  },
  "language_info": {
   "codemirror_mode": {
    "name": "ipython",
    "version": 3
   },
   "file_extension": ".py",
   "mimetype": "text/x-python",
   "name": "python",
   "nbconvert_exporter": "python",
   "pygments_lexer": "ipython3",
   "version": "3.10.12"
  }
 },
 "nbformat": 4,
 "nbformat_minor": 2
}

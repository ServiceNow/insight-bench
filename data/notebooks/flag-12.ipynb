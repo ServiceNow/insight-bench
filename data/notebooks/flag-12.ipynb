{
 "cells": [
  {
   "cell_type": "markdown",
   "metadata": {},
   "source": [
    "## Hardware Incident Easy Dataset (Flag 12)\n",
    "\n",
    "### Dataset Description\n",
    "The dataset comprises 500 entries simulating ServiceNow incidents table, detailing various attributes such as category, state, open and close dates, involved personnel, and incident specifics like  description, and priority. It captures incident management activities with fields like 'opened_at', 'closed_at', 'assigned_to', 'short_description', and 'priority', reflecting the operational handling and urgency of issues across different locations and categories.\n",
    "\n",
    "### Your Task\n",
    "Goal: Find the discrepancy and imbalance in incidents assigned \n",
    "\n",
    "Role: L1 Agent\n",
    "\n",
    "Difficulty: 1 out of 5.\n",
    "\n",
    "Category: Incidents Management"
   ]
  },
  {
   "cell_type": "markdown",
   "metadata": {},
   "source": [
    "\n",
    "## Import Necessary Libraries\n",
    "This cell imports all necessary libraries required for the analysis. This includes libraries for data manipulation, data visualization, and any specific utilities needed for the tasks. "
   ]
  },
  {
   "cell_type": "code",
   "execution_count": 1,
   "metadata": {
    "execution": {
     "iopub.execute_input": "2024-10-25T20:30:47.573597Z",
     "iopub.status.busy": "2024-10-25T20:30:47.572128Z",
     "iopub.status.idle": "2024-10-25T20:30:51.850858Z",
     "shell.execute_reply": "2024-10-25T20:30:51.848266Z"
    }
   },
   "outputs": [],
   "source": [
    "import argparse\n",
    "import pandas as pd\n",
    "import json\n",
    "import requests\n",
    "import matplotlib.pyplot as plt\n",
    "import numpy as np\n",
    "import seaborn as sns\n",
    "from pandas import date_range"
   ]
  },
  {
   "cell_type": "markdown",
   "metadata": {},
   "source": [
    "## Load Dataset\n",
    "This cell loads the dataset used in the analysis. The dataset is stored in a CSV file and is loaded into DataFrame. This cell reads the data from a file path and performs initial observations such as viewing the first few rows to ensure it has loaded correctly.\n"
   ]
  },
  {
   "cell_type": "code",
   "execution_count": 2,
   "metadata": {
    "execution": {
     "iopub.execute_input": "2024-10-25T20:30:51.864053Z",
     "iopub.status.busy": "2024-10-25T20:30:51.863354Z",
     "iopub.status.idle": "2024-10-25T20:30:51.933708Z",
     "shell.execute_reply": "2024-10-25T20:30:51.931402Z"
    }
   },
   "outputs": [
    {
     "data": {
      "text/html": [
       "<div>\n",
       "<style scoped>\n",
       "    .dataframe tbody tr th:only-of-type {\n",
       "        vertical-align: middle;\n",
       "    }\n",
       "\n",
       "    .dataframe tbody tr th {\n",
       "        vertical-align: top;\n",
       "    }\n",
       "\n",
       "    .dataframe thead th {\n",
       "        text-align: right;\n",
       "    }\n",
       "</style>\n",
       "<table border=\"1\" class=\"dataframe\">\n",
       "  <thead>\n",
       "    <tr style=\"text-align: right;\">\n",
       "      <th></th>\n",
       "      <th>category</th>\n",
       "      <th>state</th>\n",
       "      <th>closed_at</th>\n",
       "      <th>opened_at</th>\n",
       "      <th>closed_by</th>\n",
       "      <th>number</th>\n",
       "      <th>sys_updated_by</th>\n",
       "      <th>location</th>\n",
       "      <th>assigned_to</th>\n",
       "      <th>caller_id</th>\n",
       "      <th>sys_updated_on</th>\n",
       "      <th>short_description</th>\n",
       "      <th>priority</th>\n",
       "      <th>assignement_group</th>\n",
       "    </tr>\n",
       "  </thead>\n",
       "  <tbody>\n",
       "    <tr>\n",
       "      <th>0</th>\n",
       "      <td>Database</td>\n",
       "      <td>Closed</td>\n",
       "      <td>2023-07-25 03:32:18.462401146</td>\n",
       "      <td>2023-01-02 11:04:00</td>\n",
       "      <td>Fred Luddy</td>\n",
       "      <td>INC0000000034</td>\n",
       "      <td>admin</td>\n",
       "      <td>Australia</td>\n",
       "      <td>Fred Luddy</td>\n",
       "      <td>ITIL User</td>\n",
       "      <td>2023-07-06 03:31:13.838619495</td>\n",
       "      <td>There was an issue</td>\n",
       "      <td>2 - High</td>\n",
       "      <td>Database</td>\n",
       "    </tr>\n",
       "    <tr>\n",
       "      <th>1</th>\n",
       "      <td>Hardware</td>\n",
       "      <td>Closed</td>\n",
       "      <td>2023-03-11 13:42:59.511508874</td>\n",
       "      <td>2023-01-03 10:19:00</td>\n",
       "      <td>Charlie Whitherspoon</td>\n",
       "      <td>INC0000000025</td>\n",
       "      <td>admin</td>\n",
       "      <td>India</td>\n",
       "      <td>Beth Anglin</td>\n",
       "      <td>Don Goodliffe</td>\n",
       "      <td>2023-05-19 04:22:50.443252112</td>\n",
       "      <td>There was an issue</td>\n",
       "      <td>1 - Critical</td>\n",
       "      <td>Hardware</td>\n",
       "    </tr>\n",
       "    <tr>\n",
       "      <th>2</th>\n",
       "      <td>Database</td>\n",
       "      <td>Resolved</td>\n",
       "      <td>2023-01-20 14:37:18.361510788</td>\n",
       "      <td>2023-01-04 06:37:00</td>\n",
       "      <td>Charlie Whitherspoon</td>\n",
       "      <td>INC0000000354</td>\n",
       "      <td>system</td>\n",
       "      <td>India</td>\n",
       "      <td>Fred Luddy</td>\n",
       "      <td>ITIL User</td>\n",
       "      <td>2023-02-13 08:10:20.378839709</td>\n",
       "      <td>There was an issue</td>\n",
       "      <td>2 - High</td>\n",
       "      <td>Database</td>\n",
       "    </tr>\n",
       "    <tr>\n",
       "      <th>3</th>\n",
       "      <td>Hardware</td>\n",
       "      <td>Resolved</td>\n",
       "      <td>2023-01-25 20:46:13.679914432</td>\n",
       "      <td>2023-01-04 06:53:00</td>\n",
       "      <td>Fred Luddy</td>\n",
       "      <td>INC0000000023</td>\n",
       "      <td>admin</td>\n",
       "      <td>Canada</td>\n",
       "      <td>Luke Wilson</td>\n",
       "      <td>Don Goodliffe</td>\n",
       "      <td>2023-06-14 11:45:24.784548040</td>\n",
       "      <td>There was an issue</td>\n",
       "      <td>2 - High</td>\n",
       "      <td>Hardware</td>\n",
       "    </tr>\n",
       "    <tr>\n",
       "      <th>4</th>\n",
       "      <td>Hardware</td>\n",
       "      <td>Closed</td>\n",
       "      <td>2023-05-10 22:35:58.881919516</td>\n",
       "      <td>2023-01-05 16:52:00</td>\n",
       "      <td>Luke Wilson</td>\n",
       "      <td>INC0000000459</td>\n",
       "      <td>employee</td>\n",
       "      <td>UK</td>\n",
       "      <td>Charlie Whitherspoon</td>\n",
       "      <td>David Loo</td>\n",
       "      <td>2023-06-11 20:25:35.094482408</td>\n",
       "      <td>There was an issue</td>\n",
       "      <td>2 - High</td>\n",
       "      <td>Hardware</td>\n",
       "    </tr>\n",
       "  </tbody>\n",
       "</table>\n",
       "</div>"
      ],
      "text/plain": [
       "   category     state                      closed_at            opened_at  \\\n",
       "0  Database    Closed  2023-07-25 03:32:18.462401146  2023-01-02 11:04:00   \n",
       "1  Hardware    Closed  2023-03-11 13:42:59.511508874  2023-01-03 10:19:00   \n",
       "2  Database  Resolved  2023-01-20 14:37:18.361510788  2023-01-04 06:37:00   \n",
       "3  Hardware  Resolved  2023-01-25 20:46:13.679914432  2023-01-04 06:53:00   \n",
       "4  Hardware    Closed  2023-05-10 22:35:58.881919516  2023-01-05 16:52:00   \n",
       "\n",
       "              closed_by         number sys_updated_by   location  \\\n",
       "0            Fred Luddy  INC0000000034          admin  Australia   \n",
       "1  Charlie Whitherspoon  INC0000000025          admin      India   \n",
       "2  Charlie Whitherspoon  INC0000000354         system      India   \n",
       "3            Fred Luddy  INC0000000023          admin     Canada   \n",
       "4           Luke Wilson  INC0000000459       employee         UK   \n",
       "\n",
       "            assigned_to      caller_id                 sys_updated_on  \\\n",
       "0            Fred Luddy      ITIL User  2023-07-06 03:31:13.838619495   \n",
       "1           Beth Anglin  Don Goodliffe  2023-05-19 04:22:50.443252112   \n",
       "2            Fred Luddy      ITIL User  2023-02-13 08:10:20.378839709   \n",
       "3           Luke Wilson  Don Goodliffe  2023-06-14 11:45:24.784548040   \n",
       "4  Charlie Whitherspoon      David Loo  2023-06-11 20:25:35.094482408   \n",
       "\n",
       "    short_description      priority assignement_group  \n",
       "0  There was an issue      2 - High          Database  \n",
       "1  There was an issue  1 - Critical          Hardware  \n",
       "2  There was an issue      2 - High          Database  \n",
       "3  There was an issue      2 - High          Hardware  \n",
       "4  There was an issue      2 - High          Hardware  "
      ]
     },
     "execution_count": 2,
     "metadata": {},
     "output_type": "execute_result"
    }
   ],
   "source": [
    "dataset_path = \"csvs/flag-12.csv\"\n",
    "df = pd.read_csv(dataset_path)\n",
    "df.head()"
   ]
  },
  {
   "cell_type": "markdown",
   "metadata": {},
   "source": [
    "### **Question 1**: What is the distribution of incidents across all categories?"
   ]
  },
  {
   "cell_type": "markdown",
   "metadata": {},
   "source": [
    "#### Plot number of incidents by category\n",
    "\n",
    "\n",
    "This cell creates a horizontal bar plot to visualize the distribution of incidents across different categories. It annotates the plot with the count of incidents in each category. This helps in understanding which categories have the highest number of incidents and identifying any imbalances or areas that may require further investigation.\n"
   ]
  },
  {
   "cell_type": "code",
   "execution_count": 3,
   "metadata": {
    "execution": {
     "iopub.execute_input": "2024-10-25T20:30:52.053067Z",
     "iopub.status.busy": "2024-10-25T20:30:52.052484Z",
     "iopub.status.idle": "2024-10-25T20:30:52.605688Z",
     "shell.execute_reply": "2024-10-25T20:30:52.603177Z"
    }
   },
   "outputs": [
    {
     "data": {
      "image/png": "[encoded data removed]",
      "text/plain": [
       "<Figure size 432x288 with 1 Axes>"
      ]
     },
     "metadata": {
      "needs_background": "light"
     },
     "output_type": "display_data"
    }
   ],
   "source": [
    "\n",
    "plot = df.groupby(\"category\").size().plot(kind=\"barh\", color=sns.palettes.mpl_palette(\"Dark2\"))\n",
    "\n",
    "fig = plt.gcf()\n",
    "\n",
    "\n",
    "for i in plot.patches:\n",
    "    # Get X and Y placement of label from rectangle\n",
    "    x_value = i.get_width()\n",
    "    y_value = i.get_y() + i.get_height() / 2\n",
    "\n",
    "    # Use X value as label and format number with one decimal place\n",
    "    label = \"{:.1f}\".format(x_value)\n",
    "\n",
    "    # Create annotation\n",
    "    plt.annotate(\n",
    "        label,                      \n",
    "        (x_value, y_value),         \n",
    "        xytext=(-10, 0),            \n",
    "        textcoords=\"offset points\", \n",
    "        ha='right',                 \n",
    "        va='center'                 \n",
    "    )\n",
    "\n",
    "# Set plot title\n",
    "plt.title('Incidents by Category')\n",
    "\n",
    "# Set x-axis label\n",
    "plt.xlabel('Category')\n",
    "\n",
    "# Set y-axis label\n",
    "plt.ylabel('Number of Incidents')\n",
    "\n",
    "# Display the figure\n",
    "plt.show()"
   ]
  },
  {
   "cell_type": "markdown",
   "metadata": {},
   "source": [
    "#### Generate JSON Description for the Insight"
   ]
  },
  {
   "cell_type": "code",
   "execution_count": 4,
   "metadata": {
    "execution": {
     "iopub.execute_input": "2024-10-25T20:30:52.615131Z",
     "iopub.status.busy": "2024-10-25T20:30:52.614552Z",
     "iopub.status.idle": "2024-10-25T20:30:52.638449Z",
     "shell.execute_reply": "2024-10-25T20:30:52.636070Z"
    }
   },
   "outputs": [
    {
     "data": {
      "text/plain": [
       "{'data_type': 'descriptive',\n",
       " 'insight': 'The number of Hardware incidents is significantly higher than others',\n",
       " 'insight_value': {'x_val': 'Hardware', 'y_val': 406},\n",
       " 'plot': {'plot_type': 'histogram',\n",
       "  'title': 'Incidents by Category',\n",
       "  'x_axis': {'name': 'Category',\n",
       "   'value': ['Hardware', 'Software', 'Network', 'Inquiry / Help', 'Database'],\n",
       "   'description': 'This represents the different categories of incidents.'},\n",
       "  'y_axis': {'name': 'Number of Incidents',\n",
       "   'value': [406, 33, 22, 20, 19],\n",
       "   'description': 'This represents the number of incidents in each category.'},\n",
       "  'description': \"The histogram displays the distribution of incidents across different categories. Each bar represents a category and the length of the bar corresponds to the number of incidents in that category. The values are annotated on each bar. The 'Hardware' category has the highest number of incidents.\"},\n",
       " 'question': 'What is the distribution of incidents across all categories?',\n",
       " 'actionable_insight': 'With the Hardware category having the highest number of incidents, it could be beneficial to allocate more resources or provide additional training to the team handling this category to effectively manage and resolve these incidents.'}"
      ]
     },
     "execution_count": 4,
     "metadata": {},
     "output_type": "execute_result"
    }
   ],
   "source": [
    "{\"data_type\":\"descriptive\",\n",
    "\"insight\": \"The number of Hardware incidents is significantly higher than others\",\n",
    "\"insight_value\":{\"x_val\": \"Hardware\", \"y_val\": 406},\n",
    "\"plot\": {\n",
    "    \"plot_type\": \"histogram\",\n",
    "    \"title\": \"Incidents by Category\",\n",
    "    \"x_axis\": {\n",
    "        \"name\": \"Category\",\n",
    "        \"value\": [\"Hardware\", \"Software\", \"Network\", \"Inquiry / Help\", \"Database\"],\n",
    "        \"description\": \"This represents the different categories of incidents.\"\n",
    "    },\n",
    "    \"y_axis\": {\n",
    "        \"name\": \"Number of Incidents\",\n",
    "        \"value\": [406, 33, 22, 20, 19],\n",
    "        \"description\": \"This represents the number of incidents in each category.\"\n",
    "    },\n",
    "    \"description\": \"The histogram displays the distribution of incidents across different categories. Each bar represents a category and the length of the bar corresponds to the number of incidents in that category. The values are annotated on each bar. The 'Hardware' category has the highest number of incidents.\"\n",
    "},\n",
    "\"question\": \"What is the distribution of incidents across all categories?\",\n",
    "\"actionable_insight\": \"With the Hardware category having the highest number of incidents, it could be beneficial to allocate more resources or provide additional training to the team handling this category to effectively manage and resolve these incidents.\"\n",
    "}"
   ]
  },
  {
   "cell_type": "markdown",
   "metadata": {},
   "source": [
    "### **Question 2:** Is there a specific reason why a majority of incidents are being assigned to the hardware category?"
   ]
  },
  {
   "cell_type": "markdown",
   "metadata": {},
   "source": [
    "#### Plot frequency of keywords in short descriptions.\n",
    "This cell creates a bar plot to visualize the frequency of a specific keyword (e.g., 'Printer') in the incident descriptions. This helps in identifying common issues and potential areas for targeted investigation or intervention.\n"
   ]
  },
  {
   "cell_type": "code",
   "execution_count": 5,
   "metadata": {
    "execution": {
     "iopub.execute_input": "2024-10-25T20:30:52.649888Z",
     "iopub.status.busy": "2024-10-25T20:30:52.649364Z",
     "iopub.status.idle": "2024-10-25T20:30:53.048759Z",
     "shell.execute_reply": "2024-10-25T20:30:53.046350Z"
    }
   },
   "outputs": [
    {
     "data": {
      "image/png": "[encoded data removed]",
      "text/plain": [
       "<Figure size 432x288 with 1 Axes>"
      ]
     },
     "metadata": {
      "needs_background": "light"
     },
     "output_type": "display_data"
    }
   ],
   "source": [
    "df = df[df['category'] == 'Hardware']\n",
    "# Count the frequency of 'Printer' in 'short_description'\n",
    "printer_incidents = df['short_description'].apply(lambda x: 'Printer' in x).sum()\n",
    "\n",
    "# Create a DataFrame for plotting\n",
    "df_plot = pd.DataFrame({'Keyword': ['Printer'], 'Frequency': [printer_incidents]})\n",
    "\n",
    "# Plot the frequency\n",
    "plot = df_plot.plot(kind='bar', x='Keyword', y='Frequency', legend=False, color='blue')\n",
    "\n",
    "# Get the current figure for further manipulation\n",
    "fig = plt.gcf()\n",
    "\n",
    "# Loop through the rectangles (i.e., bars)\n",
    "for i in plot.patches:\n",
    "    # Get X and Y placement of label from rectangle\n",
    "    x_value = i.get_x() + i.get_width() / 2\n",
    "    y_value = i.get_height()\n",
    "\n",
    "    # Use Y value as label and format number with one decimal place\n",
    "    label = \"{:.1f}\".format(y_value)\n",
    "\n",
    "    # Create annotation\n",
    "    plt.annotate(\n",
    "        label,                      # Use `label` as label\n",
    "        (x_value, y_value),         # Place label at end of the bar\n",
    "        xytext=(0, 5),              # Shift text slightly above bar\n",
    "        textcoords=\"offset points\", # Interpret `xytext` as offset in points\n",
    "        ha='center',                # Horizontally align label \n",
    "        va='bottom'                 # Vertically align label at bottom\n",
    "    )\n",
    "\n",
    "# Set plot title\n",
    "plt.title('Frequency of Printer in Incident Descriptions')\n",
    "\n",
    "# Set x-axis label\n",
    "plt.xlabel('Keyword')\n",
    "\n",
    "# Set y-axis label\n",
    "plt.ylabel('Frequency')\n",
    "\n",
    "# Display the figure\n",
    "plt.show()"
   ]
  },
  {
   "cell_type": "markdown",
   "metadata": {},
   "source": [
    "#### Generate JSON Description for the Insight"
   ]
  },
  {
   "cell_type": "code",
   "execution_count": 6,
   "metadata": {
    "execution": {
     "iopub.execute_input": "2024-10-25T20:30:53.061249Z",
     "iopub.status.busy": "2024-10-25T20:30:53.060737Z",
     "iopub.status.idle": "2024-10-25T20:30:53.081787Z",
     "shell.execute_reply": "2024-10-25T20:30:53.079390Z"
    }
   },
   "outputs": [
    {
     "data": {
      "text/plain": [
       "{'data_type': 'descriptive',\n",
       " 'insight': 'Most of the hardware incidents are related to printer issues',\n",
       " 'insight_value': {'x_val': 'Printer', 'y_val': 166},\n",
       " 'plot': {'plot_type': 'bar',\n",
       "  'title': 'Frequency of Printer in Incident Descriptions',\n",
       "  'x_axis': {'name': 'Keyword',\n",
       "   'value': ['Printer'],\n",
       "   'description': 'This represents the keyword in incident descriptions.'},\n",
       "  'y_axis': {'name': 'Frequency',\n",
       "   'value': [166],\n",
       "   'description': \"This represents the frequency of the keyword 'Printer' in incident descriptions.\"},\n",
       "  'plot description': \"The bar plot displays the frequency of the keyword 'Printer' in the incident descriptions. The length of the bar corresponds to the frequency of the keyword. The 'Printer' keyword has a high frequency.\"},\n",
       " 'question': 'Is there a specific reason why a majority of incidents are being assigned to the hardware category?',\n",
       " 'actionable_insight': \"The high frequency of 'Printer' in incident descriptions indicates a specific issue with printers. A focused investigation into the printer issues, possibly involving the printer manufacturer or service provider, could help in resolving these incidents.\"}"
      ]
     },
     "execution_count": 6,
     "metadata": {},
     "output_type": "execute_result"
    }
   ],
   "source": [
    "{\"data_type\":\"descriptive\",\n",
    "\"insight\": \"Most of the hardware incidents are related to printer issues\",\n",
    "\"insight_value\":{\"x_val\": \"Printer\", \"y_val\": 166},\n",
    "\"plot\": {\n",
    "    \"plot_type\": \"bar\",\n",
    "    \"title\": \"Frequency of Printer in Incident Descriptions\",\n",
    "    \"x_axis\": {\n",
    "        \"name\": \"Keyword\",\n",
    "        \"value\": [\"Printer\"],\n",
    "        \"description\": \"This represents the keyword in incident descriptions.\"\n",
    "    },\n",
    "    \"y_axis\": {\n",
    "        \"name\": \"Frequency\",\n",
    "        \"value\": [166],\n",
    "        \"description\": \"This represents the frequency of the keyword 'Printer' in incident descriptions.\"\n",
    "    },\n",
    "    \"plot description\": \"The bar plot displays the frequency of the keyword 'Printer' in the incident descriptions. The length of the bar corresponds to the frequency of the keyword. The 'Printer' keyword has a high frequency.\"\n",
    "},\n",
    "\"question\": \"Is there a specific reason why a majority of incidents are being assigned to the hardware category?\",\n",
    "\"actionable_insight\": \"The high frequency of 'Printer' in incident descriptions indicates a specific issue with printers. A focused investigation into the printer issues, possibly involving the printer manufacturer or service provider, could help in resolving these incidents.\"\n",
    "}"
   ]
  },
  {
   "cell_type": "markdown",
   "metadata": {},
   "source": [
    "### **Question 3:** Are the hardware incidents concentrated in a specific location?"
   ]
  },
  {
   "cell_type": "markdown",
   "metadata": {},
   "source": [
    "#### Plot number of incidents by location\n",
    "This section aims tp analyze the distribution of incidents across different locations, focusing on identifying any concentration or trends in the data.\n",
    "however the location information may be unavailable and out of scope of the current dataset."
   ]
  },
  {
   "cell_type": "code",
   "execution_count": 7,
   "metadata": {
    "execution": {
     "iopub.execute_input": "2024-10-25T20:30:53.098663Z",
     "iopub.status.busy": "2024-10-25T20:30:53.098125Z",
     "iopub.status.idle": "2024-10-25T20:30:53.572750Z",
     "shell.execute_reply": "2024-10-25T20:30:53.570301Z"
    }
   },
   "outputs": [
    {
     "data": {
      "image/png": "[encoded data removed]",
      "text/plain": [
       "<Figure size 432x288 with 1 Axes>"
      ]
     },
     "metadata": {
      "needs_background": "light"
     },
     "output_type": "display_data"
    }
   ],
   "source": [
    "# Count the frequency of incidents in each location\n",
    "location_counts = df[df['category'] == 'Hardware']['location'].value_counts()\n",
    "\n",
    "# Create a DataFrame from the counts for plotting\n",
    "df_plot = location_counts.reset_index()\n",
    "df_plot.columns = ['Location', 'Number of Incidents']\n",
    "\n",
    "# Plot the frequency\n",
    "plot = df_plot.plot(kind='bar', x='Location', y='Number of Incidents', legend=False, color='blue')\n",
    "\n",
    "# Get the current figure for further manipulation\n",
    "fig = plt.gcf()\n",
    "\n",
    "# Loop through the rectangles (i.e., bars)\n",
    "for i in plot.patches:\n",
    "    # Get X and Y placement of label from rectangle\n",
    "    x_value = i.get_x() + i.get_width() / 2\n",
    "    y_value = i.get_height()\n",
    "\n",
    "    # Use Y value as label and format number with one decimal place\n",
    "    label = \"{:.1f}\".format(y_value)\n",
    "\n",
    "    # Create annotation\n",
    "    plt.annotate(\n",
    "        label,                      # Use `label` as label\n",
    "        (x_value, y_value),         # Place label at end of the bar\n",
    "        xytext=(0, 5),              # Shift text slightly above bar\n",
    "        textcoords=\"offset points\", # Interpret `xytext` as offset in points\n",
    "        ha='center',                # Horizontally align label \n",
    "        va='bottom'                 # Vertically align label at bottom\n",
    "    )\n",
    "\n",
    "# Set plot title\n",
    "plt.title('Incidents by Location')\n",
    "\n",
    "# Set x-axis label\n",
    "plt.xlabel('Location')\n",
    "\n",
    "# Set y-axis label\n",
    "plt.ylabel('Number of Incidents')\n",
    "\n",
    "# Display the figure\n",
    "plt.show()"
   ]
  },
  {
   "cell_type": "markdown",
   "metadata": {},
   "source": [
    "#### Generate JSON Description for the Insight"
   ]
  },
  {
   "cell_type": "code",
   "execution_count": 8,
   "metadata": {
    "execution": {
     "iopub.execute_input": "2024-10-25T20:30:53.586465Z",
     "iopub.status.busy": "2024-10-25T20:30:53.585955Z",
     "iopub.status.idle": "2024-10-25T20:30:53.603538Z",
     "shell.execute_reply": "2024-10-25T20:30:53.601137Z"
    }
   },
   "outputs": [
    {
     "data": {
      "text/plain": [
       "{'data_type': 'descriptive',\n",
       " 'insight': 'location is not specified in the dataset nor in the short description',\n",
       " 'insight_value': {'x_val': 'None', 'y_val': 'None'},\n",
       " 'plot': {'plot_type': 'bar',\n",
       "  'title': 'Incidents by Location',\n",
       "  'plot description': 'The bar plot is currently empty.'},\n",
       " 'question': 'Are the hardware incidents concentrated in a specific location?',\n",
       " 'actionable_insight': 'Given that grographic location are not specified in the dataset,  ot is important to spend time and resources in identifying the possible locations the incidents are most occuring.'}"
      ]
     },
     "execution_count": 8,
     "metadata": {},
     "output_type": "execute_result"
    }
   ],
   "source": [
    "{\n",
    "    \"data_type\":\"descriptive\",\n",
    "    \"insight\": \"location is not specified in the dataset nor in the short description\",\n",
    "    \"insight_value\":{\"x_val\": \"None\", \"y_val\": \"None\"},\n",
    "    \"plot\": {\n",
    "        \"plot_type\": \"bar\",\n",
    "        \"title\": \"Incidents by Location\",\n",
    "        \"plot description\": \"The bar plot is currently empty.\"\n",
    "    },\n",
    "    \"question\": \"Are the hardware incidents concentrated in a specific location?\",\n",
    "    \"actionable_insight\": \"Given that grographic location are not specified in the dataset,  ot is important to spend time and resources in identifying the possible locations the incidents are most occuring.\"\n",
    "}"
   ]
  },
  {
   "cell_type": "markdown",
   "metadata": {},
   "source": [
    "### **Question 4**: Is there a pattern or trend over time in the distribution of incidents across categories?"
   ]
  },
  {
   "cell_type": "markdown",
   "metadata": {},
   "source": [
    "#### Plot the monthly number of incidents by category\n",
    "This cell generates a line plot showing the monthly trend of incidents across different categories, providing a visual representation of how the number of incidents in each category changes over time."
   ]
  },
  {
   "cell_type": "code",
   "execution_count": 9,
   "metadata": {
    "execution": {
     "iopub.execute_input": "2024-10-25T20:30:53.621378Z",
     "iopub.status.busy": "2024-10-25T20:30:53.620867Z",
     "iopub.status.idle": "2024-10-25T20:30:54.216029Z",
     "shell.execute_reply": "2024-10-25T20:30:54.213419Z"
    }
   },
   "outputs": [
    {
     "data": {
      "image/png": "[encoded data removed]",
      "text/plain": [
       "<Figure size 432x288 with 1 Axes>"
      ]
     },
     "metadata": {
      "needs_background": "light"
     },
     "output_type": "display_data"
    }
   ],
   "source": [
    "# Convert 'opened_at' to datetime\n",
    "df['opened_at'] = pd.to_datetime(df['opened_at'])\n",
    "\n",
    "# Resample the data by month and category, and count the number of incidents\n",
    "df_resampled = df.groupby([pd.Grouper(key='opened_at', freq='M'), 'category']).size().unstack()\n",
    "\n",
    "# Plot the resampled data\n",
    "plot = df_resampled.plot(kind='line')\n",
    "\n",
    "# Set plot title\n",
    "plt.title('Incidents Over Time by Category')\n",
    "\n",
    "# Set x-axis label\n",
    "plt.xlabel('Time')\n",
    "\n",
    "# Set y-axis label\n",
    "plt.ylabel('Number of Incidents')\n",
    "\n",
    "# Display the figure\n",
    "plt.show()"
   ]
  },
  {
   "cell_type": "markdown",
   "metadata": {},
   "source": [
    "#### Generate JSON Description for the Insight"
   ]
  },
  {
   "cell_type": "code",
   "execution_count": 10,
   "metadata": {
    "execution": {
     "iopub.execute_input": "2024-10-25T20:30:54.229674Z",
     "iopub.status.busy": "2024-10-25T20:30:54.229046Z",
     "iopub.status.idle": "2024-10-25T20:30:54.250015Z",
     "shell.execute_reply": "2024-10-25T20:30:54.247677Z"
    }
   },
   "outputs": [
    {
     "data": {
      "text/plain": [
       "{'data_type': 'descriptive',\n",
       " 'insight': 'There is not a significant increase in hardware incidents over time, they are relatively stable and high compared to toher categories',\n",
       " 'insight_value': {'x_val': 'Time', 'y_val': 'Number of Incidents'},\n",
       " 'plot': {'plot_type': 'line',\n",
       "  'title': 'Incidents Over Time by Category',\n",
       "  'x_axis': {'name': 'Time',\n",
       "   'value': 'Time Series',\n",
       "   'description': 'This represents the timeline of incidents.'},\n",
       "  'y_axis': {'name': 'Number of Incidents',\n",
       "   'value': 'Incident Count',\n",
       "   'description': 'This represents the number of incidents in each category over time.'},\n",
       "  'plot description': \"The line plot displays the trend of incidents across different categories over time. Each line represents a category and the height of the line corresponds to the number of incidents in that category at a given time. The 'Hardware' category shows a significant increasing trend.\"},\n",
       " 'question': 'Is there a pattern or trend over time in the distribution of incidents across categories?'}"
      ]
     },
     "execution_count": 10,
     "metadata": {},
     "output_type": "execute_result"
    }
   ],
   "source": [
    "{\n",
    "    \"data_type\":\"descriptive\",\n",
    "    \"insight\": \"There is not a significant increase in hardware incidents over time, they are relatively stable and high compared to toher categories\",\n",
    "    \"insight_value\":{\"x_val\": \"Time\", \"y_val\": \"Number of Incidents\"},\n",
    "    \"plot\": {\n",
    "        \"plot_type\": \"line\",\n",
    "        \"title\": \"Incidents Over Time by Category\",\n",
    "        \"x_axis\": {\n",
    "            \"name\": \"Time\",\n",
    "            \"value\": \"Time Series\",\n",
    "            \"description\": \"This represents the timeline of incidents.\"\n",
    "        },\n",
    "        \"y_axis\": {\n",
    "            \"name\": \"Number of Incidents\",\n",
    "            \"value\": \"Incident Count\",\n",
    "            \"description\": \"This represents the number of incidents in each category over time.\"\n",
    "        },\n",
    "        \"plot description\": \"The line plot displays the trend of incidents across different categories over time. Each line represents a category and the height of the line corresponds to the number of incidents in that category at a given time. The 'Hardware' category shows a significant increasing trend.\"\n",
    "    },\n",
    "    \"question\": \"Is there a pattern or trend over time in the distribution of incidents across categories?\"\n",
    "}"
   ]
  },
  {
   "cell_type": "markdown",
   "metadata": {},
   "source": [
    "### **Question 5**: What can be done to tackle such anomaly incidents? How can the organization effectively manage the increasing number of hardware incidents?"
   ]
  },
  {
   "cell_type": "markdown",
   "metadata": {},
   "source": [
    "Insight:\n",
    "Agents possess the required skills and capacity to handle these incidents effectively. Despite the increased workload, data shows no increase in resolution times as in the Q3, so they have been effective. However, additional resources could still be beneficial to manage unexpected failures like the one seen in this dataset."
   ]
  },
  {
   "cell_type": "markdown",
   "metadata": {},
   "source": [
    "### Summary of Findings (Flag 12)\n",
    "\n",
    "1. **Distribution of Incidents Across Categories:**\n",
    "The distribution of incidents across the categories is heavily skewed towards the Hardware category. It accounts for 71% of all incidents, which is significantly higher than the other categories. The Software and Network categories each account for roughly 8.5% of incidents, the Database category also accounts for approximately 8.5%, while the Inquiry/Help category comprises the remaining 7%.\n",
    " \n",
    "2. **Reason for Majority of Incidents in the Hardware Category:**\n",
    "The primary reason for the majority of incidents being assigned to the Hardware category is unclear, however there are significant issues that are printer related. Need to establish a concrete plaussible explanation for other cases.\n",
    " \n",
    " "
   ]
  }
 ],
 "metadata": {
  "kernelspec": {
   "display_name": "stardoc",
   "language": "python",
   "name": "python3"
  },
  "language_info": {
   "codemirror_mode": {
    "name": "ipython",
    "version": 3
   },
   "file_extension": ".py",
   "mimetype": "text/x-python",
   "name": "python",
   "nbconvert_exporter": "python",
   "pygments_lexer": "ipython3",
   "version": "3.8.5"
  }
 },
 "nbformat": 4,
 "nbformat_minor": 2
}

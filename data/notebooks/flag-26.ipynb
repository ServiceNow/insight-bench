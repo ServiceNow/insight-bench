{
 "cells": [
  {
   "cell_type": "markdown",
   "metadata": {},
   "source": [
    "## Asset Warranty Analysis (Flag 26)\n",
    "\n",
    "### Dataset Description\n",
    "The dataset consists of 500 entries simulating ServiceNow alm_hardware table, detailing key attributes of hardware assets such as asset tags, display names, configuration item (CI) identifiers, serial numbers, and model categories. It includes information on asset assignment, last update timestamps, cost, departmental allocation, and warranty expiration dates. The table effectively captures asset management activities, offering insights into the operational handling, allocation, and maintenance status of hardware resources across various departments within an organization.\n",
    "\n",
    "### Your Task\n",
    "**Goal**: Analyze the relationship between the cost of assets and their warranty periods to identify discrepancies and align procurement strategies with the observed asset value trends.\n",
    "\n",
    "**Role**: Operations Manager\n",
    "\n",
    "**Difficulty**: 2 out of 5. This analysis requires deciphering complex patterns in asset pricing and warranty terms.\n",
    "\n",
    "**Category**: Asset Management\n"
   ]
  },
  {
   "cell_type": "markdown",
   "metadata": {},
   "source": [
    "## Import Necessary Libraries\n",
    "This cell imports all necessary libraries required for the analysis. This includes libraries for data manipulation, data visualization, and any specific utilities needed for the tasks. "
   ]
  },
  {
   "cell_type": "code",
   "execution_count": 1,
   "metadata": {
    "execution": {
     "iopub.execute_input": "2024-10-25T19:57:39.338362Z",
     "iopub.status.busy": "2024-10-25T19:57:39.336873Z",
     "iopub.status.idle": "2024-10-25T19:57:42.616352Z",
     "shell.execute_reply": "2024-10-25T19:57:42.613882Z"
    }
   },
   "outputs": [],
   "source": [
    "import argparse\n",
    "import pandas as pd\n",
    "import json\n",
    "import requests\n",
    "import matplotlib.pyplot as plt\n",
    "import numpy as np\n",
    "import seaborn as sns\n",
    "from pandas import date_range"
   ]
  },
  {
   "cell_type": "markdown",
   "metadata": {},
   "source": [
    "### Load Dataset\n",
    "Loads the dataset needed for the asset analysis. The data is sourced from a CSV file and the process involves reading the file into a DataFrame to facilitate further operations. This also checks the initial few rows to verify the correct loading of the data."
   ]
  },
  {
   "cell_type": "code",
   "execution_count": 2,
   "metadata": {
    "execution": {
     "iopub.execute_input": "2024-10-25T19:57:42.630114Z",
     "iopub.status.busy": "2024-10-25T19:57:42.629193Z",
     "iopub.status.idle": "2024-10-25T19:57:42.702747Z",
     "shell.execute_reply": "2024-10-25T19:57:42.699656Z"
    }
   },
   "outputs": [
    {
     "data": {
      "text/html": [
       "<div>\n",
       "<style scoped>\n",
       "    .dataframe tbody tr th:only-of-type {\n",
       "        vertical-align: middle;\n",
       "    }\n",
       "\n",
       "    .dataframe tbody tr th {\n",
       "        vertical-align: top;\n",
       "    }\n",
       "\n",
       "    .dataframe thead th {\n",
       "        text-align: right;\n",
       "    }\n",
       "</style>\n",
       "<table border=\"1\" class=\"dataframe\">\n",
       "  <thead>\n",
       "    <tr style=\"text-align: right;\">\n",
       "      <th></th>\n",
       "      <th>cost</th>\n",
       "      <th>warranty_expiration</th>\n",
       "      <th>model_category</th>\n",
       "      <th>serial_number</th>\n",
       "      <th>sys_updated_on</th>\n",
       "      <th>department</th>\n",
       "      <th>asset_tag</th>\n",
       "      <th>purchased_on</th>\n",
       "      <th>assigned_to</th>\n",
       "      <th>display_name</th>\n",
       "      <th>ci</th>\n",
       "    </tr>\n",
       "  </thead>\n",
       "  <tbody>\n",
       "    <tr>\n",
       "      <th>0</th>\n",
       "      <td>4208</td>\n",
       "      <td>2024-07-27 01:53:00</td>\n",
       "      <td>Computer</td>\n",
       "      <td>FAB-08483889</td>\n",
       "      <td>2024-03-14 01:53:00</td>\n",
       "      <td>Development</td>\n",
       "      <td>P1000000</td>\n",
       "      <td>2024-01-21 01:53:00</td>\n",
       "      <td>Allyson Gillispie</td>\n",
       "      <td>Dell Inspiron 7790 Computer</td>\n",
       "      <td>Inspiron 7790</td>\n",
       "    </tr>\n",
       "    <tr>\n",
       "      <th>1</th>\n",
       "      <td>4890</td>\n",
       "      <td>2024-02-10 20:29:00</td>\n",
       "      <td>Computer</td>\n",
       "      <td>SNF-87843340</td>\n",
       "      <td>2023-11-29 20:29:00</td>\n",
       "      <td>IT</td>\n",
       "      <td>P1000001</td>\n",
       "      <td>2023-11-12 20:29:00</td>\n",
       "      <td>Sam Sorokin</td>\n",
       "      <td>Dell Inspiron Desktop Computer</td>\n",
       "      <td>Inspiron Desktop</td>\n",
       "    </tr>\n",
       "    <tr>\n",
       "      <th>2</th>\n",
       "      <td>2818</td>\n",
       "      <td>2025-05-18 11:42:00</td>\n",
       "      <td>Computer</td>\n",
       "      <td>UOV-13907930</td>\n",
       "      <td>2024-02-11 11:42:00</td>\n",
       "      <td>IT</td>\n",
       "      <td>P1000002</td>\n",
       "      <td>2024-02-07 11:42:00</td>\n",
       "      <td>Garfield Lijewski</td>\n",
       "      <td>Dell Inspiron 15 3000 Series Computer</td>\n",
       "      <td>Inspiron 15 3000 Series</td>\n",
       "    </tr>\n",
       "    <tr>\n",
       "      <th>3</th>\n",
       "      <td>1987</td>\n",
       "      <td>2025-09-22 15:32:00</td>\n",
       "      <td>Computer</td>\n",
       "      <td>BPN-68889600</td>\n",
       "      <td>2024-02-02 15:32:00</td>\n",
       "      <td>Sales</td>\n",
       "      <td>P1000003</td>\n",
       "      <td>2023-12-30 15:32:00</td>\n",
       "      <td>Valeria Lingbeek</td>\n",
       "      <td>Dell Latitude 7490 Computer</td>\n",
       "      <td>Latitude 7490</td>\n",
       "    </tr>\n",
       "    <tr>\n",
       "      <th>4</th>\n",
       "      <td>2715</td>\n",
       "      <td>2025-01-03 12:16:00</td>\n",
       "      <td>Computer</td>\n",
       "      <td>NUA-00195760</td>\n",
       "      <td>2023-09-22 12:16:00</td>\n",
       "      <td>Customer Support</td>\n",
       "      <td>P1000004</td>\n",
       "      <td>2023-09-04 12:16:00</td>\n",
       "      <td>Rita Center</td>\n",
       "      <td>Dell Inspiron 15 Gaming Laptop</td>\n",
       "      <td>Inspiron 15 Gaming</td>\n",
       "    </tr>\n",
       "  </tbody>\n",
       "</table>\n",
       "</div>"
      ],
      "text/plain": [
       "   cost  warranty_expiration model_category serial_number  \\\n",
       "0  4208  2024-07-27 01:53:00       Computer  FAB-08483889   \n",
       "1  4890  2024-02-10 20:29:00       Computer  SNF-87843340   \n",
       "2  2818  2025-05-18 11:42:00       Computer  UOV-13907930   \n",
       "3  1987  2025-09-22 15:32:00       Computer  BPN-68889600   \n",
       "4  2715  2025-01-03 12:16:00       Computer  NUA-00195760   \n",
       "\n",
       "        sys_updated_on        department asset_tag         purchased_on  \\\n",
       "0  2024-03-14 01:53:00       Development  P1000000  2024-01-21 01:53:00   \n",
       "1  2023-11-29 20:29:00                IT  P1000001  2023-11-12 20:29:00   \n",
       "2  2024-02-11 11:42:00                IT  P1000002  2024-02-07 11:42:00   \n",
       "3  2024-02-02 15:32:00             Sales  P1000003  2023-12-30 15:32:00   \n",
       "4  2023-09-22 12:16:00  Customer Support  P1000004  2023-09-04 12:16:00   \n",
       "\n",
       "         assigned_to                           display_name  \\\n",
       "0  Allyson Gillispie            Dell Inspiron 7790 Computer   \n",
       "1        Sam Sorokin         Dell Inspiron Desktop Computer   \n",
       "2  Garfield Lijewski  Dell Inspiron 15 3000 Series Computer   \n",
       "3   Valeria Lingbeek            Dell Latitude 7490 Computer   \n",
       "4        Rita Center         Dell Inspiron 15 Gaming Laptop   \n",
       "\n",
       "                        ci  \n",
       "0            Inspiron 7790  \n",
       "1         Inspiron Desktop  \n",
       "2  Inspiron 15 3000 Series  \n",
       "3            Latitude 7490  \n",
       "4       Inspiron 15 Gaming  "
      ]
     },
     "execution_count": 2,
     "metadata": {},
     "output_type": "execute_result"
    }
   ],
   "source": [
    "dataset_path = \"csvs/flag-26.csv\"\n",
    "flag_data = pd.read_csv(dataset_path)\n",
    "df = pd.read_csv(dataset_path)\n",
    "flag_data.head()\n"
   ]
  },
  {
   "cell_type": "markdown",
   "metadata": {},
   "source": [
    "### **Question 1: What is the distribution Average Warranty Period across  Model Categories?**"
   ]
  },
  {
   "cell_type": "markdown",
   "metadata": {},
   "source": [
    "#### Plot average warranty period by model category\n",
    "\n",
    "This cell creates a bar plot to visualize the average warranty periods for different model categories of hardware assets. By examining the warranty duration associated with each category, this visualization aims to identify trends and discrepancies in warranty coverage that could influence procurement and asset amangement decisions"
   ]
  },
  {
   "cell_type": "code",
   "execution_count": 3,
   "metadata": {
    "execution": {
     "iopub.execute_input": "2024-10-25T19:57:42.719912Z",
     "iopub.status.busy": "2024-10-25T19:57:42.719374Z",
     "iopub.status.idle": "2024-10-25T19:57:43.538157Z",
     "shell.execute_reply": "2024-10-25T19:57:43.535142Z"
    }
   },
   "outputs": [
    {
     "data": {
      "image/png": "[encoded data removed]",
      "text/plain": [
       "<Figure size 720x432 with 1 Axes>"
      ]
     },
     "metadata": {
      "needs_background": "light"
     },
     "output_type": "display_data"
    }
   ],
   "source": [
    "import matplotlib.pyplot as plt\n",
    "\n",
    "flag_data[\"warranty_expiration\"] = pd.to_datetime(flag_data[\"warranty_expiration\"])\n",
    "flag_data[\"sys_updated_on\"] = pd.to_datetime(flag_data[\"sys_updated_on\"])\n",
    "# Calculate the warranty period in years for each asset\n",
    "flag_data['warranty_period_years'] = (flag_data['warranty_expiration'] - flag_data['sys_updated_on']).dt.days / 365\n",
    "\n",
    "# Group by model_category and calculate the average warranty period\n",
    "avg_warranty_by_category = flag_data.groupby('model_category')['warranty_period_years'].mean()\n",
    "\n",
    "# Plotting\n",
    "a_plot = avg_warranty_by_category.plot(kind='bar', color='skyblue', figsize=(10, 6))\n",
    "for p in a_plot.patches:\n",
    "    a_plot.annotate(format(p.get_height(), '.2f'), \n",
    "                          (p.get_x() + p.get_width() / 2., p.get_height()), \n",
    "                          ha = 'center', va = 'center', \n",
    "                          xytext = (0, 9), \n",
    "                          textcoords = 'offset points')\n",
    "plt.xlabel('Model Category')\n",
    "plt.ylabel('Average Warranty Period (Years)')\n",
    "plt.title('Average Warranty Period by Model Category')\n",
    "plt.xticks(rotation=45)\n",
    "plt.tight_layout()  # Adjust layout to make room for the rotated x-axis labels\n",
    "\n",
    "# Show the plot\n",
    "plt.show()"
   ]
  },
  {
   "cell_type": "markdown",
   "metadata": {},
   "source": [
    "#### Generate JSON Description for the Insight"
   ]
  },
  {
   "cell_type": "code",
   "execution_count": 4,
   "metadata": {
    "execution": {
     "iopub.execute_input": "2024-10-25T19:57:43.555081Z",
     "iopub.status.busy": "2024-10-25T19:57:43.554511Z",
     "iopub.status.idle": "2024-10-25T19:57:43.585042Z",
     "shell.execute_reply": "2024-10-25T19:57:43.581164Z"
    }
   },
   "outputs": [
    {
     "data": {
      "text/plain": [
       "{'data_type': 'descriptive',\n",
       " 'insight': 'Computers exhibit significantly shorter warranty periods compared to other asset categories, which may not reflect their cost and complexity.',\n",
       " 'insight_value': {'description': 'The average warranty period for Computers is 0.91 years, which is lower than for other asset categories, suggesting a strategic emphasis on shorter warranties for expensive and most used equipment.'},\n",
       " 'plot': {'plot_type': 'bar',\n",
       "  'title': 'Average Warranty Period by Asset Model Category',\n",
       "  'x_axis': {'name': 'Model Category',\n",
       "   'value': ['Computer',\n",
       "    'Computer Peripheral',\n",
       "    'Printer',\n",
       "    'Rack',\n",
       "    'Server',\n",
       "    'Storage Device',\n",
       "    'Web Server'],\n",
       "   'description': 'This axis categorizes different types of assets based on their model category.'},\n",
       "  'y_axis': {'name': 'Average Warranty Period (years)',\n",
       "   'value': {'Computer': '0.91 years',\n",
       "    'Computer Peripheral': '2.06 years',\n",
       "    'Printer': '1.99 years',\n",
       "    'Rack': '1.94 years',\n",
       "    'Server': '2.14 years',\n",
       "    'Storage Device': '2.09 years',\n",
       "    'Web Server': '1.94 years'},\n",
       "   'description': 'This axis displays the average warranty period for each model category, clearly showing the variation in warranty terms across different asset types.'},\n",
       "  'description': 'The bar chart visually represents the average warranty periods across various asset model categories. It highlights that Computers have a shorter average warranty of 0.91 years. Even though they are most important and value within the organization compared to other categories with longer warranty periods, they seem to have a poor emphasis on shorter warranties. This insight can help organizations make informed decisions about warranty management and procurement strategies specifically for computers.'},\n",
       " 'question': 'What is the distribution of Average Warranty Period across Model Categories?',\n",
       " 'actionable_insight': 'The shorter warranty period for Computers suggests that organizations should consider extending the warranty coverage for these assets to mitigate risks and ensure operational continuity. This can be achieved by negotiating longer warranty terms with vendors or investing in extended warranty plans to protect critical assets.'}"
      ]
     },
     "execution_count": 4,
     "metadata": {},
     "output_type": "execute_result"
    }
   ],
   "source": [
    "{\n",
    "    \"data_type\": \"descriptive\",\n",
    "    \"insight\": \"Computers exhibit significantly shorter warranty periods compared to other asset categories, which may not reflect their cost and complexity.\",\n",
    "    \"insight_value\": {\n",
    "        \"description\": \"The average warranty period for Computers is 0.91 years, which is lower than for other asset categories, suggesting a strategic emphasis on shorter warranties for expensive and most used equipment.\"\n",
    "    },\n",
    "    \"plot\": {\n",
    "        \"plot_type\": \"bar\",\n",
    "        \"title\": \"Average Warranty Period by Asset Model Category\",\n",
    "        \"x_axis\": {\n",
    "            \"name\": \"Model Category\",\n",
    "            \"value\": [\"Computer\", \"Computer Peripheral\", \"Printer\", \"Rack\", \"Server\", \"Storage Device\", \"Web Server\"],\n",
    "            \"description\": \"This axis categorizes different types of assets based on their model category.\"\n",
    "        },\n",
    "        \"y_axis\": {\n",
    "            \"name\": \"Average Warranty Period (years)\",\n",
    "            \"value\": {\n",
    "                \"Computer\": \"0.91 years\",\n",
    "                \"Computer Peripheral\": \"2.06 years\",\n",
    "                \"Printer\": \"1.99 years\",\n",
    "                \"Rack\": \"1.94 years\",\n",
    "                \"Server\": \"2.14 years\",\n",
    "                \"Storage Device\": \"2.09 years\",\n",
    "                \"Web Server\": \"1.94 years\"\n",
    "            },\n",
    "            \"description\": \"This axis displays the average warranty period for each model category, clearly showing the variation in warranty terms across different asset types.\"\n",
    "        },\n",
    "        \"description\": \"The bar chart visually represents the average warranty periods across various asset model categories. It highlights that Computers have a shorter average warranty of 0.91 years. Even though they are most important and value within the organization compared to other categories with longer warranty periods, they seem to have a poor emphasis on shorter warranties. This insight can help organizations make informed decisions about warranty management and procurement strategies specifically for computers.\"\n",
    "    },\n",
    "    \"question\": \"What is the distribution of Average Warranty Period across Model Categories?\",\n",
    "    \"actionable_insight\": \"The shorter warranty period for Computers suggests that organizations should consider extending the warranty coverage for these assets to mitigate risks and ensure operational continuity. This can be achieved by negotiating longer warranty terms with vendors or investing in extended warranty plans to protect critical assets.\"\n",
    "}\n"
   ]
  },
  {
   "cell_type": "markdown",
   "metadata": {},
   "source": [
    "### **Question 2: What is the distribution Average asset cost across  Model Categories?**\n"
   ]
  },
  {
   "cell_type": "markdown",
   "metadata": {},
   "source": [
    "#### Plot average cost by model category\n",
    "This cell presents a bar plot that illustrates the average cost of assets within each model category. By analyzing the cost distribution, this visualization helps identify financial implications of asset types managed by the department, offering insights into budget allocations etc."
   ]
  },
  {
   "cell_type": "code",
   "execution_count": 5,
   "metadata": {
    "execution": {
     "iopub.execute_input": "2024-10-25T19:57:43.601228Z",
     "iopub.status.busy": "2024-10-25T19:57:43.600638Z",
     "iopub.status.idle": "2024-10-25T19:57:44.329186Z",
     "shell.execute_reply": "2024-10-25T19:57:44.325376Z"
    }
   },
   "outputs": [
    {
     "data": {
      "image/png": "[encoded data removed]",
      "text/plain": [
       "<Figure size 720x432 with 1 Axes>"
      ]
     },
     "metadata": {
      "needs_background": "light"
     },
     "output_type": "display_data"
    }
   ],
   "source": [
    "import matplotlib.pyplot as plt\n",
    "\n",
    "flag_data[\"warranty_expiration\"] = pd.to_datetime(flag_data[\"warranty_expiration\"])\n",
    "flag_data[\"sys_updated_on\"] = pd.to_datetime(flag_data[\"sys_updated_on\"])\n",
    "# Calculate the warranty period in years for each asset\n",
    "flag_data['warranty_period_years'] = (flag_data['warranty_expiration'] - flag_data['sys_updated_on']).dt.days / 365\n",
    "\n",
    "# Group by model_category and calculate the average warranty period\n",
    "avg_warranty_by_category = flag_data.groupby('model_category')['cost'].mean()\n",
    "\n",
    "# Plotting\n",
    "a_plot = avg_warranty_by_category.plot(kind='bar', color='skyblue', figsize=(10, 6))\n",
    "for p in a_plot.patches:\n",
    "    a_plot.annotate(format(p.get_height(), '.2f'), \n",
    "                          (p.get_x() + p.get_width() / 2., p.get_height()), \n",
    "                          ha = 'center', va = 'center', \n",
    "                          xytext = (0, 9), \n",
    "                          textcoords = 'offset points')\n",
    "plt.xlabel('Model Category')\n",
    "plt.ylabel('Average Cost ($)')\n",
    "plt.title('Average Cost by Model Category')\n",
    "plt.xticks(rotation=45)\n",
    "plt.tight_layout()  # Adjust layout to make room for the rotated x-axis labels\n",
    "\n",
    "# Show the plot\n",
    "plt.show()"
   ]
  },
  {
   "cell_type": "markdown",
   "metadata": {},
   "source": [
    "#### Generate JSON Description for the Insight"
   ]
  },
  {
   "cell_type": "code",
   "execution_count": 6,
   "metadata": {
    "execution": {
     "iopub.execute_input": "2024-10-25T19:57:44.343809Z",
     "iopub.status.busy": "2024-10-25T19:57:44.343248Z",
     "iopub.status.idle": "2024-10-25T19:57:44.372741Z",
     "shell.execute_reply": "2024-10-25T19:57:44.365825Z"
    }
   },
   "outputs": [
    {
     "data": {
      "text/plain": [
       "{'data_type': 'descriptive',\n",
       " 'insight': 'Servers and Web Servers are the most expensive asset categories on average, followed by computers.',\n",
       " 'insight_value': {'description': 'Average costs vary significantly across model categories, with Servers and Web Servers leading in terms of investment required.'},\n",
       " 'plot': {'plot_type': 'bar',\n",
       "  'title': 'Average Asset Cost by Model Category',\n",
       "  'x_axis': {'name': 'Model Category',\n",
       "   'value': ['Server',\n",
       "    'Web Server',\n",
       "    'Computer',\n",
       "    'Printer',\n",
       "    'Rack',\n",
       "    'Computer Peripheral',\n",
       "    'Storage Device'],\n",
       "   'description': 'This axis categorizes different types of assets based on their model category.'},\n",
       "  'y_axis': {'name': 'Average Cost (USD)',\n",
       "   'value': {'Server': '8775.90$',\n",
       "    'Web Server': '8000$',\n",
       "    'Computer': '3274.48$',\n",
       "    'Printer': '1478.14$',\n",
       "    'Rack': '400.0$',\n",
       "    'Computer Peripheral': '331.27$',\n",
       "    'Storage Device': '299.9$'},\n",
       "   'description': 'This axis displays the average cost for each asset model category, highlighting the substantial cost disparities among different asset types.'},\n",
       "  'description': 'The bar chart clearly illustrates the average costs associated with different asset model categories within the organization. It underscores that Servers and Web Servers are notably more expensive on average than other categories such as Computers, Printers, and more peripheral equipment.'},\n",
       " 'question': 'What is the distribution of Average asset cost across Model Categories?',\n",
       " 'actionable_insight': \"Given the higher average costs associated with Servers and Web Servers, followed by computers, it's essential for the organization to carefully consider the lifecycle costs and benefits of these investments. This insight can inform budgeting decisions, procurement strategies, and asset management practices to optimize the organization's infrastructure and ensure cost-effective operations.\"}"
      ]
     },
     "execution_count": 6,
     "metadata": {},
     "output_type": "execute_result"
    }
   ],
   "source": [
    "{\n",
    "    \"data_type\": \"descriptive\",\n",
    "    \"insight\": \"Servers and Web Servers are the most expensive asset categories on average, followed by computers.\",\n",
    "    \"insight_value\": {\n",
    "        \"description\": \"Average costs vary significantly across model categories, with Servers and Web Servers leading in terms of investment required.\"\n",
    "    },\n",
    "    \"plot\": {\n",
    "        \"plot_type\": \"bar\",\n",
    "        \"title\": \"Average Asset Cost by Model Category\",\n",
    "        \"x_axis\": {\n",
    "            \"name\": \"Model Category\",\n",
    "            \"value\": [\"Server\", \"Web Server\", \"Computer\", \"Printer\", \"Rack\", \"Computer Peripheral\", \"Storage Device\"],\n",
    "            \"description\": \"This axis categorizes different types of assets based on their model category.\"\n",
    "        },\n",
    "        \"y_axis\": {\n",
    "            \"name\": \"Average Cost (USD)\",\n",
    "            \"value\": {\n",
    "                \"Server\": \"8775.90$\",\n",
    "                \"Web Server\": \"8000$\",\n",
    "                \"Computer\": \"3274.48$\",\n",
    "                \"Printer\": \"1478.14$\",\n",
    "                \"Rack\": \"400.0$\",\n",
    "                \"Computer Peripheral\": \"331.27$\",\n",
    "                \"Storage Device\": \"299.9$\"\n",
    "            },\n",
    "            \"description\": \"This axis displays the average cost for each asset model category, highlighting the substantial cost disparities among different asset types.\"\n",
    "        },\n",
    "        \"description\": \"The bar chart clearly illustrates the average costs associated with different asset model categories within the organization. It underscores that Servers and Web Servers are notably more expensive on average than other categories such as Computers, Printers, and more peripheral equipment.\"\n",
    "    },\n",
    "    \"question\": \"What is the distribution of Average asset cost across Model Categories?\",\n",
    "    \"actionable_insight\": \"Given the higher average costs associated with Servers and Web Servers, followed by computers, it's essential for the organization to carefully consider the lifecycle costs and benefits of these investments. This insight can inform budgeting decisions, procurement strategies, and asset management practices to optimize the organization's infrastructure and ensure cost-effective operations.\"\n",
    "}\n"
   ]
  },
  {
   "cell_type": "markdown",
   "metadata": {},
   "source": [
    "### **Question 3: What is the correlation between the cost of computer assets and their warranty periods?**"
   ]
  },
  {
   "cell_type": "markdown",
   "metadata": {},
   "source": [
    "#### Plot correlation between cost and warranty period of computers\n",
    "This cell creates a scatter plot to visualize the relationship between the cost of computer assets and their warranty periods within 'Computer' model category. By plotting cost against warranty duration, this plot aims to explore whether less expensive computer assets come with longer warranties perhaps indicating potential anomaly."
   ]
  },
  {
   "cell_type": "code",
   "execution_count": 7,
   "metadata": {
    "execution": {
     "iopub.execute_input": "2024-10-25T19:57:44.391196Z",
     "iopub.status.busy": "2024-10-25T19:57:44.390653Z",
     "iopub.status.idle": "2024-10-25T19:57:44.966012Z",
     "shell.execute_reply": "2024-10-25T19:57:44.963585Z"
    }
   },
   "outputs": [
    {
     "data": {
      "image/png": "[encoded data removed]",
      "text/plain": [
       "<Figure size 432x288 with 1 Axes>"
      ]
     },
     "metadata": {
      "needs_background": "light"
     },
     "output_type": "display_data"
    }
   ],
   "source": [
    "import seaborn as sns\n",
    "import matplotlib.pyplot as plt\n",
    "\n",
    "flag_data[\"warranty_expiration\"] = pd.to_datetime(flag_data[\"warranty_expiration\"])\n",
    "flag_data[\"purchased_on\"] = pd.to_datetime(flag_data[\"purchased_on\"])\n",
    "\n",
    "computer_data = flag_data[flag_data['model_category'] == 'Computer']\n",
    "plt.scatter(computer_data['cost'], (computer_data['warranty_expiration'] - computer_data['purchased_on']).dt.days / 365)\n",
    "plt.xlabel('Cost ($)')\n",
    "plt.ylabel('Warranty Period (Years)')\n",
    "plt.title('Correlation between Cost and Warranty Period of Computers')\n",
    "plt.show()"
   ]
  },
  {
   "cell_type": "markdown",
   "metadata": {},
   "source": [
    "#### Generate JSON Description for the Insight"
   ]
  },
  {
   "cell_type": "code",
   "execution_count": 8,
   "metadata": {
    "execution": {
     "iopub.execute_input": "2024-10-25T19:57:44.979605Z",
     "iopub.status.busy": "2024-10-25T19:57:44.978989Z",
     "iopub.status.idle": "2024-10-25T19:57:44.998852Z",
     "shell.execute_reply": "2024-10-25T19:57:44.996793Z"
    }
   },
   "outputs": [
    {
     "data": {
      "text/plain": [
       "{'data_type': 'correlative',\n",
       " 'insight': 'Strong correlation between the cost of computer assets and their warranty periods.',\n",
       " 'insight_value': {'description': 'More expensive computer assets tend to have shorter warranty periods, suggesting that lower costs are associated with extended warranty provisions.'},\n",
       " 'plot': {'plot_type': 'scatter',\n",
       "  'title': 'Correlation Between Cost of Computers and Their Warranty Periods',\n",
       "  'x_axis': {'name': 'Cost of Computer Assets (USD)',\n",
       "   'value': 'Continuously variable cost amounts',\n",
       "   'description': 'This axis represents the cost of computer assets, highlighting a range from lower to higher priced models.'},\n",
       "  'y_axis': {'name': 'Warranty Period (years)',\n",
       "   'value': 'Continuously variable warranty durations',\n",
       "   'description': 'This axis displays the warranty periods associated with each cost level, illustrating how warranty durations increase with asset cost.'},\n",
       "  'description': 'The scatter plot demonstrates a clear linear correlation between the cost of computer assets and their warranty periods. This trend confirms that more expensive computers although more expensive, tend to have shorter warranty periods, while lower-cost models are associated with longer warranty coverage. This insight can guide procurement decisions and warranty management strategies for computer assets.'},\n",
       " 'question': 'What is the correlation between the cost of computer assets and their warranty periods?',\n",
       " 'actionable_insight': 'This observed correlation suggests that investing in more expensive computer assets may require additional warranty coverage to mitigate risks and ensure operational continuity. Organizations should consider negotiating extended warranty terms with vendors or investing in comprehensive warranty plans to protect high-value computer assets and minimize potential disruptions. Secondly, organisation can prioitise the procurement of lower cost computers to benefit from extended warranty provisions. This can help in optimizing the warranty management strategy and ensuring cost-effective asset maintenance.'}"
      ]
     },
     "execution_count": 8,
     "metadata": {},
     "output_type": "execute_result"
    }
   ],
   "source": [
    "{\n",
    "    \"data_type\": \"correlative\",\n",
    "    \"insight\": \"Strong correlation between the cost of computer assets and their warranty periods.\",\n",
    "    \"insight_value\": {\n",
    "        \"description\": \"More expensive computer assets tend to have shorter warranty periods, suggesting that lower costs are associated with extended warranty provisions.\"\n",
    "    },\n",
    "    \"plot\": {\n",
    "        \"plot_type\": \"scatter\",\n",
    "        \"title\": \"Correlation Between Cost of Computers and Their Warranty Periods\",\n",
    "        \"x_axis\": {\n",
    "            \"name\": \"Cost of Computer Assets (USD)\",\n",
    "            \"value\": \"Continuously variable cost amounts\",\n",
    "            \"description\": \"This axis represents the cost of computer assets, highlighting a range from lower to higher priced models.\"\n",
    "        },\n",
    "        \"y_axis\": {\n",
    "            \"name\": \"Warranty Period (years)\",\n",
    "            \"value\": \"Continuously variable warranty durations\",\n",
    "            \"description\": \"This axis displays the warranty periods associated with each cost level, illustrating how warranty durations increase with asset cost.\"\n",
    "        },\n",
    "        \"description\": \"The scatter plot demonstrates a clear linear correlation between the cost of computer assets and their warranty periods. This trend confirms that more expensive computers although more expensive, tend to have shorter warranty periods, while lower-cost models are associated with longer warranty coverage. This insight can guide procurement decisions and warranty management strategies for computer assets.\"\n",
    "    },\n",
    "    \"question\": \"What is the correlation between the cost of computer assets and their warranty periods?\",\n",
    "    \"actionable_insight\": \"This observed correlation suggests that investing in more expensive computer assets may require additional warranty coverage to mitigate risks and ensure operational continuity. Organizations should consider negotiating extended warranty terms with vendors or investing in comprehensive warranty plans to protect high-value computer assets and minimize potential disruptions. Secondly, organisation can prioitise the procurement of lower cost computers to benefit from extended warranty provisions. This can help in optimizing the warranty management strategy and ensuring cost-effective asset maintenance.\"\n",
    "}\n"
   ]
  },
  {
   "cell_type": "markdown",
   "metadata": {},
   "source": [
    "Question 4: What implications does the correlation between cost and warranty period have for asset lifecycle management?\n"
   ]
  },
  {
   "cell_type": "markdown",
   "metadata": {},
   "source": [
    "\n",
    "Given the unusual correlation between the cost of computer assets and their warranty periods, the implications for asset lifecycle management could be significant:\n",
    "1. **Strategic Procurement**: Organizations can strategize their procurement practices by opting for lower-cost assets that come with longer warranties. This approach could reduce long-term maintenance costs. \\\n",
    "2. **Budget Planning**: Understanding the correlation helps in forecasting budget allocations more accurately. Organizations can allocate funds for extended warranties based on the cost of computer assets. \\\n",
    "3. **Risk Management**: By choosing assets with longer warranties, organizations can mitigate the risk associated with equipment failures.\n",
    "\n",
    "In essence, the correlation between asset cost and warranty duration informs a more thoughtful, cost-effective approach to managing the lifecycle of technology assets. Although it quite counterintutive that higher spec computers have shorter warranty periods, it is either a strategic move by the vendors to ensure that the cost of the warranty is not passed on to the customer. or  the vendors are confident in the quality of the product and hence do not see the need for a longer warranty period."
   ]
  },
  {
   "cell_type": "markdown",
   "metadata": {},
   "source": [
    "Summary of Findings (Flag 26):\n",
    "\n",
    "Computers exhibit significantly longer warranty periods compared to other asset categories; however, as they get more and more expensive their warranty period shortens.\n"
   ]
  }
 ],
 "metadata": {
  "kernelspec": {
   "display_name": "stardoc",
   "language": "python",
   "name": "python3"
  },
  "language_info": {
   "codemirror_mode": {
    "name": "ipython",
    "version": 3
   },
   "file_extension": ".py",
   "mimetype": "text/x-python",
   "name": "python",
   "nbconvert_exporter": "python",
   "pygments_lexer": "ipython3",
   "version": "3.8.5"
  }
 },
 "nbformat": 4,
 "nbformat_minor": 2
}

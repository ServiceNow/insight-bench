{
 "cells": [
  {
   "cell_type": "markdown",
   "metadata": {},
   "source": [
    "## Travel Expense Rejection Analysis (Flag 20)\n",
    "\n",
    "### Dataset Description\n",
    "The dataset consists of 500 entries simulating ServiceNow fm_expense_line table, which records various attributes of financial expenses. Key fields include 'number', 'opened_at', 'amount', 'state', 'short_description', 'ci', 'user', 'department', 'category', 'process_date', 'source_id', and 'type'. This table documents the flow of financial transactions by detailing the amount, departmental allocation, and the nature of each expense. Provides a clear view of organizational expenditures across different categories, highlighting both the timing and the approval state of each financial entry.\n",
    "\n",
    "### Your Task\n",
    "**Goal**: To identify and rectify the causes of high rejection rates in travel expenses to ensure that submissions  align with organizational policies.\n",
    "\n",
    "**Role**: Expense Audit Analyst\n",
    "\n",
    "**Difficulty**: 2 out of 5. This task requires key analysis of expense reports to detect commonalities in rejections.\n",
    "\n",
    "**Category**: Finance Management\n"
   ]
  },
  {
   "cell_type": "markdown",
   "metadata": {},
   "source": [
    "### Import Necessary Libraries\n",
    "This cell imports all necessary libraries required for the analysis. This includes libraries for data manipulation, data visualization, and any specific utilities needed for the tasks. "
   ]
  },
  {
   "cell_type": "code",
   "execution_count": 1,
   "metadata": {
    "execution": {
     "iopub.execute_input": "2024-10-25T19:56:20.537226Z",
     "iopub.status.busy": "2024-10-25T19:56:20.536212Z",
     "iopub.status.idle": "2024-10-25T19:56:23.932604Z",
     "shell.execute_reply": "2024-10-25T19:56:23.930783Z"
    }
   },
   "outputs": [],
   "source": [
    "import argparse\n",
    "import pandas as pd\n",
    "import json\n",
    "import requests\n",
    "import matplotlib.pyplot as plt\n",
    "import numpy as np\n",
    "import seaborn as sns\n",
    "from pandas import date_range"
   ]
  },
  {
   "cell_type": "markdown",
   "metadata": {},
   "source": [
    "### Load Dataset\n",
    "This cell loads the dataset to be analyzed. The data is stored in the from a CSV file, and is imported into a DataFrame. It involves specifying the path to the dataset, using pandas to read the file, and confirming its successful load by inspecting the first few table entries."
   ]
  },
  {
   "cell_type": "code",
   "execution_count": 2,
   "metadata": {
    "execution": {
     "iopub.execute_input": "2024-10-25T19:56:23.945303Z",
     "iopub.status.busy": "2024-10-25T19:56:23.944610Z",
     "iopub.status.idle": "2024-10-25T19:56:24.019232Z",
     "shell.execute_reply": "2024-10-25T19:56:24.017240Z"
    }
   },
   "outputs": [
    {
     "data": {
      "text/html": [
       "<div>\n",
       "<style scoped>\n",
       "    .dataframe tbody tr th:only-of-type {\n",
       "        vertical-align: middle;\n",
       "    }\n",
       "\n",
       "    .dataframe tbody tr th {\n",
       "        vertical-align: top;\n",
       "    }\n",
       "\n",
       "    .dataframe thead th {\n",
       "        text-align: right;\n",
       "    }\n",
       "</style>\n",
       "<table border=\"1\" class=\"dataframe\">\n",
       "  <thead>\n",
       "    <tr style=\"text-align: right;\">\n",
       "      <th></th>\n",
       "      <th>category</th>\n",
       "      <th>department</th>\n",
       "      <th>opened_at</th>\n",
       "      <th>source_id</th>\n",
       "      <th>type</th>\n",
       "      <th>number</th>\n",
       "      <th>processed_date</th>\n",
       "      <th>amount</th>\n",
       "      <th>state</th>\n",
       "      <th>user</th>\n",
       "      <th>short_description</th>\n",
       "      <th>ci</th>\n",
       "    </tr>\n",
       "  </thead>\n",
       "  <tbody>\n",
       "    <tr>\n",
       "      <th>0</th>\n",
       "      <td>Assets</td>\n",
       "      <td>Customer Support</td>\n",
       "      <td>2024-02-28 23:30:00</td>\n",
       "      <td>MOW-21341062</td>\n",
       "      <td>NaN</td>\n",
       "      <td>EXP00000000</td>\n",
       "      <td>2024-03-05 20:18:58.865466754</td>\n",
       "      <td>5345</td>\n",
       "      <td>Processed</td>\n",
       "      <td>Marianne Earman</td>\n",
       "      <td>Procurement of new hardware asset</td>\n",
       "      <td>Dell Latitude 3410</td>\n",
       "    </tr>\n",
       "    <tr>\n",
       "      <th>1</th>\n",
       "      <td>Assets</td>\n",
       "      <td>Sales</td>\n",
       "      <td>2024-04-11 16:24:00</td>\n",
       "      <td>JCZ-14840476</td>\n",
       "      <td>NaN</td>\n",
       "      <td>EXP00000001</td>\n",
       "      <td>2024-04-26 15:59:06.170441179</td>\n",
       "      <td>8761</td>\n",
       "      <td>Processed</td>\n",
       "      <td>Carolina Kinlaw</td>\n",
       "      <td>Automated creation of new hardware asset</td>\n",
       "      <td>Dell OptiPlex 7070 Desktop</td>\n",
       "    </tr>\n",
       "    <tr>\n",
       "      <th>2</th>\n",
       "      <td>Services</td>\n",
       "      <td>Sales</td>\n",
       "      <td>2023-07-12 07:29:00</td>\n",
       "      <td>IYI-40671468</td>\n",
       "      <td>NaN</td>\n",
       "      <td>EXP00000002</td>\n",
       "      <td>2023-07-21 22:46:22.903623363</td>\n",
       "      <td>834</td>\n",
       "      <td>Processed</td>\n",
       "      <td>Lacy Hyten</td>\n",
       "      <td>Newly implemented cloud service</td>\n",
       "      <td>AWS EC2 Instance</td>\n",
       "    </tr>\n",
       "    <tr>\n",
       "      <th>3</th>\n",
       "      <td>Assets</td>\n",
       "      <td>Sales</td>\n",
       "      <td>2023-11-30 14:53:00</td>\n",
       "      <td>ZQT-96922333</td>\n",
       "      <td>NaN</td>\n",
       "      <td>EXP00000003</td>\n",
       "      <td>NaN</td>\n",
       "      <td>5109</td>\n",
       "      <td>Submitted</td>\n",
       "      <td>Howard Johnson</td>\n",
       "      <td>Automatically generated asset entry for hardwa...</td>\n",
       "      <td>Dell Latitude 7410</td>\n",
       "    </tr>\n",
       "    <tr>\n",
       "      <th>4</th>\n",
       "      <td>Assets</td>\n",
       "      <td>Customer Support</td>\n",
       "      <td>2023-09-13 08:47:00</td>\n",
       "      <td>QTZ-80951096</td>\n",
       "      <td>NaN</td>\n",
       "      <td>EXP00000004</td>\n",
       "      <td>2023-09-22 11:30:54.396673685</td>\n",
       "      <td>3371</td>\n",
       "      <td>Processed</td>\n",
       "      <td>Sue Haakinson</td>\n",
       "      <td>Addition of new hardware asset</td>\n",
       "      <td>Dell Latitude 6520</td>\n",
       "    </tr>\n",
       "  </tbody>\n",
       "</table>\n",
       "</div>"
      ],
      "text/plain": [
       "   category        department            opened_at     source_id  type  \\\n",
       "0    Assets  Customer Support  2024-02-28 23:30:00  MOW-21341062   NaN   \n",
       "1    Assets             Sales  2024-04-11 16:24:00  JCZ-14840476   NaN   \n",
       "2  Services             Sales  2023-07-12 07:29:00  IYI-40671468   NaN   \n",
       "3    Assets             Sales  2023-11-30 14:53:00  ZQT-96922333   NaN   \n",
       "4    Assets  Customer Support  2023-09-13 08:47:00  QTZ-80951096   NaN   \n",
       "\n",
       "        number                 processed_date  amount      state  \\\n",
       "0  EXP00000000  2024-03-05 20:18:58.865466754    5345  Processed   \n",
       "1  EXP00000001  2024-04-26 15:59:06.170441179    8761  Processed   \n",
       "2  EXP00000002  2023-07-21 22:46:22.903623363     834  Processed   \n",
       "3  EXP00000003                            NaN    5109  Submitted   \n",
       "4  EXP00000004  2023-09-22 11:30:54.396673685    3371  Processed   \n",
       "\n",
       "              user                                  short_description  \\\n",
       "0  Marianne Earman                  Procurement of new hardware asset   \n",
       "1  Carolina Kinlaw           Automated creation of new hardware asset   \n",
       "2       Lacy Hyten                    Newly implemented cloud service   \n",
       "3   Howard Johnson  Automatically generated asset entry for hardwa...   \n",
       "4    Sue Haakinson                     Addition of new hardware asset   \n",
       "\n",
       "                           ci  \n",
       "0          Dell Latitude 3410  \n",
       "1  Dell OptiPlex 7070 Desktop  \n",
       "2            AWS EC2 Instance  \n",
       "3          Dell Latitude 7410  \n",
       "4          Dell Latitude 6520  "
      ]
     },
     "execution_count": 2,
     "metadata": {},
     "output_type": "execute_result"
    }
   ],
   "source": [
    "dataset_path = \"csvs/flag-20.csv\"\n",
    "flag_data = pd.read_csv(dataset_path)\n",
    "df = pd.read_csv(dataset_path)\n",
    "flag_data.head()\n"
   ]
  },
  {
   "cell_type": "markdown",
   "metadata": {},
   "source": [
    "\n",
    "### **Question 1: How do rejection rates for travel expenses compare to other categories within the expense reports?**"
   ]
  },
  {
   "cell_type": "markdown",
   "metadata": {},
   "source": [
    "#### Plot proportion of declined expenses by category\n",
    "\n",
    "This plot provides a comparison of rejection rates across different expense categories within the organization. By plotting the proportion of declined expenses, this graph helps in identifying which categories, particularly 'Travel', face higher scrutiny or issues in approval processes compared to others. "
   ]
  },
  {
   "cell_type": "code",
   "execution_count": 3,
   "metadata": {
    "execution": {
     "iopub.execute_input": "2024-10-25T19:56:24.033424Z",
     "iopub.status.busy": "2024-10-25T19:56:24.032915Z",
     "iopub.status.idle": "2024-10-25T19:56:24.691416Z",
     "shell.execute_reply": "2024-10-25T19:56:24.688936Z"
    }
   },
   "outputs": [
    {
     "data": {
      "image/png": "[encoded data removed]",
      "text/plain": [
       "<Figure size 864x576 with 1 Axes>"
      ]
     },
     "metadata": {
      "needs_background": "light"
     },
     "output_type": "display_data"
    }
   ],
   "source": [
    "import matplotlib.pyplot as plt\n",
    "\n",
    "# Group the data by category and state, then count occurrences\n",
    "category_state_counts = flag_data.groupby(['category', 'state']).size().unstack(fill_value=0)\n",
    "\n",
    "# Calculate proportions of each state within each category\n",
    "category_state_proportions = category_state_counts.div(category_state_counts.sum(axis=1), axis=0)\n",
    "\n",
    "# Plot the data, focusing only on the 'Declined' state\n",
    "fig, ax = plt.subplots(figsize=(12, 8))\n",
    "declined_proportions = category_state_proportions['Declined']\n",
    "declined_proportions.plot(kind='bar', color='red', ax=ax)\n",
    "\n",
    "# Add titles and labels\n",
    "ax.set_title('Proportion of Declined Expenses by Category', fontsize=16)\n",
    "ax.set_xlabel('Expense Category', fontsize=14)\n",
    "ax.set_ylabel('Proportion of Declined', fontsize=14)\n",
    "ax.set_ylim(0, 1)  # Set y-axis limit to show proportions from 0 to 1\n",
    "\n",
    "# Show grid\n",
    "ax.grid(True, which='both', linestyle='--', linewidth=0.5)\n",
    "\n",
    "# Rotate the x-axis labels for better readability\n",
    "plt.xticks(rotation=45)\n",
    "plt.tight_layout()  # Adjust layout to not cut off labels\n",
    "\n",
    "# Adding numeric labels on top of the bars\n",
    "for i, value in enumerate(declined_proportions):\n",
    "    ax.text(i, value, f\"{value:.2f}\", ha='center', va='bottom', fontsize=10, color='black')\n",
    "\n",
    "# Show the plot\n",
    "plt.show()\n"
   ]
  },
  {
   "cell_type": "markdown",
   "metadata": {},
   "source": [
    "#### Generate JSON Description for the Insight"
   ]
  },
  {
   "cell_type": "code",
   "execution_count": 4,
   "metadata": {
    "execution": {
     "iopub.execute_input": "2024-10-25T19:56:24.706005Z",
     "iopub.status.busy": "2024-10-25T19:56:24.705387Z",
     "iopub.status.idle": "2024-10-25T19:56:24.728998Z",
     "shell.execute_reply": "2024-10-25T19:56:24.726547Z"
    }
   },
   "outputs": [
    {
     "data": {
      "text/plain": [
       "{'data_type': 'comparative',\n",
       " 'insight': 'There are disproportionately high rejection rates for Travel expenses',\n",
       " 'insight_value': {'description': 'Travel expenses are rejected at a significantly higher rate than other categories, indicating potential issues with how these expenses are understood or submitted.'},\n",
       " 'plot': {'plot_type': 'bar',\n",
       "  'title': 'Rejection Rates by Expense Category',\n",
       "  'x_axis': {'name': 'Expense Category',\n",
       "   'value': ['Travel', 'Assets', 'Services', 'Miscellaneous'],\n",
       "   'description': 'This axis categorizes expenses into different types, highlighting the focus on Travel, Assets, Services, and Miscellaneous expenses.'},\n",
       "  'y_axis': {'name': 'Rejection Rate',\n",
       "   'value': [0.42, 0.06, 0.11, 0.04],\n",
       "   'description': 'This axis displays the proportion of expenses declined within each category, emphasizing the high rejection rate in the Travel category.'},\n",
       "  'description': 'The bar chart clearly illustrates the rejection rates across different expense categories, with the Travel category experiencing a rejection rate of 42%, which is substantially higher than the rates for Assets (6%), Services (11%), and Miscellaneous (4%). This stark contrast suggests a specific challenge within the Travel expense category that may stem from complex policies or frequent non-compliance.'},\n",
       " 'question': 'How do rejection rates for travel expenses compare to other categories within the expense reports?',\n",
       " 'actionable_insight': 'To address the high rejection rates in the Travel category, it is crucial to review and possibly simplify the travel expense policies to ensure they are clearly understood and easy to follow. Additionally, providing more targeted training and resources for employees on how to properly file travel expenses could help reduce misunderstandings and improve compliance. Regular feedback sessions to discuss common errors and adjustments to the policy based on real-world issues could also be beneficial.'}"
      ]
     },
     "execution_count": 4,
     "metadata": {},
     "output_type": "execute_result"
    }
   ],
   "source": [
    "{\n",
    "    \"data_type\": \"comparative\",\n",
    "    \"insight\": \"There are disproportionately high rejection rates for Travel expenses\",\n",
    "    \"insight_value\": {\n",
    "        \"description\": \"Travel expenses are rejected at a significantly higher rate than other categories, indicating potential issues with how these expenses are understood or submitted.\"\n",
    "    },\n",
    "    \"plot\": {\n",
    "        \"plot_type\": \"bar\",\n",
    "        \"title\": \"Rejection Rates by Expense Category\",\n",
    "        \"x_axis\": {\n",
    "            \"name\": \"Expense Category\",\n",
    "            \"value\": [\"Travel\", \"Assets\", \"Services\", \"Miscellaneous\"],\n",
    "            \"description\": \"This axis categorizes expenses into different types, highlighting the focus on Travel, Assets, Services, and Miscellaneous expenses.\"\n",
    "        },\n",
    "        \"y_axis\": {\n",
    "            \"name\": \"Rejection Rate\",\n",
    "            \"value\": [0.42, 0.06, 0.11, 0.04],\n",
    "            \"description\": \"This axis displays the proportion of expenses declined within each category, emphasizing the high rejection rate in the Travel category.\"\n",
    "        },\n",
    "        \"description\": \"The bar chart clearly illustrates the rejection rates across different expense categories, with the Travel category experiencing a rejection rate of 42%, which is substantially higher than the rates for Assets (6%), Services (11%), and Miscellaneous (4%). This stark contrast suggests a specific challenge within the Travel expense category that may stem from complex policies or frequent non-compliance.\"\n",
    "    },\n",
    "    \"question\": \"How do rejection rates for travel expenses compare to other categories within the expense reports?\",\n",
    "    \"actionable_insight\": \"To address the high rejection rates in the Travel category, it is crucial to review and possibly simplify the travel expense policies to ensure they are clearly understood and easy to follow. Additionally, providing more targeted training and resources for employees on how to properly file travel expenses could help reduce misunderstandings and improve compliance. Regular feedback sessions to discuss common errors and adjustments to the policy based on real-world issues could also be beneficial.\"\n",
    "}\n"
   ]
  },
  {
   "cell_type": "markdown",
   "metadata": {},
   "source": [
    "### **Question 2:  What is the distribution of Expense Reports by department?**"
   ]
  },
  {
   "cell_type": "markdown",
   "metadata": {},
   "source": [
    "#### Number of Expense Reports by Category\n",
    "\n",
    "This bar chart illustrates distribution of expense reports across  categories within organization. By visualizing these number of reports per category, this plot highlights which expense categories are most commonly reported and potentially which ones are under more scrutiny or utilized more frequently. "
   ]
  },
  {
   "cell_type": "code",
   "execution_count": 5,
   "metadata": {
    "execution": {
     "iopub.execute_input": "2024-10-25T19:56:24.744616Z",
     "iopub.status.busy": "2024-10-25T19:56:24.744033Z",
     "iopub.status.idle": "2024-10-25T19:56:25.321303Z",
     "shell.execute_reply": "2024-10-25T19:56:25.319100Z"
    }
   },
   "outputs": [
    {
     "data": {
      "image/png": "[encoded data removed]",
      "text/plain": [
       "<Figure size 864x576 with 1 Axes>"
      ]
     },
     "metadata": {
      "needs_background": "light"
     },
     "output_type": "display_data"
    }
   ],
   "source": [
    "import matplotlib.pyplot as plt\n",
    "\n",
    "# Count the number of expense reports per department\n",
    "department_counts = flag_data['category'].value_counts()\n",
    "\n",
    "# Plot the data\n",
    "fig, ax = plt.subplots(figsize=(12, 8))\n",
    "department_counts.plot(kind='bar', color='skyblue', ax=ax)\n",
    "\n",
    "# Add titles and labels\n",
    "ax.set_title('Number of Expense Reports by Category', fontsize=16)\n",
    "ax.set_xlabel('Category', fontsize=14)\n",
    "ax.set_ylabel('Number of Expense Reports', fontsize=14)\n",
    "\n",
    "# Show grid\n",
    "ax.grid(axis='y')  # Only horizontal grid lines for readability\n",
    "\n",
    "# Rotate the x-axis labels for better readability\n",
    "plt.xticks(rotation=45)\n",
    "plt.tight_layout()  # Adjust layout to not cut off labels\n",
    "\n",
    "# Adding numeric labels on top of the bars for clarity\n",
    "for p in ax.patches:\n",
    "    ax.annotate(f\"{int(p.get_height())}\", (p.get_x() + p.get_width() / 2., p.get_height()),\n",
    "                ha='center', va='bottom', xytext=(0, 10), textcoords='offset points')\n",
    "\n",
    "# Show the plot\n",
    "plt.show()"
   ]
  },
  {
   "cell_type": "markdown",
   "metadata": {},
   "source": [
    "#### Generate JSON Description for the Insight"
   ]
  },
  {
   "cell_type": "code",
   "execution_count": 6,
   "metadata": {
    "execution": {
     "iopub.execute_input": "2024-10-25T19:56:25.335102Z",
     "iopub.status.busy": "2024-10-25T19:56:25.334571Z",
     "iopub.status.idle": "2024-10-25T19:56:25.356103Z",
     "shell.execute_reply": "2024-10-25T19:56:25.354376Z"
    }
   },
   "outputs": [
    {
     "data": {
      "text/plain": [
       "{'data_type': 'descriptive',\n",
       " 'insight': 'There is a variable distribution of Expense Reports across categories',\n",
       " 'insight_value': {'description': 'While Travel expenses are frequently rejected, they are not the most submitted category. Assets category dominates the submission volume.'},\n",
       " 'plot': {'plot_type': 'bar',\n",
       "  'title': 'Distribution of Expense Reports by Category',\n",
       "  'x_axis': {'name': 'Expense Category',\n",
       "   'value': ['Assets', 'Travel', 'Services', 'Miscellaneous'],\n",
       "   'description': 'This axis categorizes expenses into different types, including Assets, Travel, Services, and Miscellaneous.'},\n",
       "  'y_axis': {'name': 'Number of Expense Reports',\n",
       "   'value': {'Assets': '281',\n",
       "    'Travel': '146',\n",
       "    'Services': '47',\n",
       "    'Miscellaneous': '26'},\n",
       "   'description': 'This axis displays the number of expense reports submitted within each category, indicating a higher volume of submissions for Assets than for other categories.'},\n",
       "  'description': 'The bar chart illustrates that the Assets category has the highest number of submissions at 281, followed by Travel with 146, Services with 47, and Miscellaneous with 26. This distribution shows that despite high rejection rates, the Travel category does not lead in submission frequency but remains significant.'},\n",
       " 'question': 'What is the distribution of Expense Reports by Category?',\n",
       " 'actionable_insight': \"Understanding that Assets lead in the number of submissions, it's important to closely monitor and manage this category to ensure compliance and proper allocation of resources. For the Travel category, which has a high rejection rate but significant submission volume, refining submission guidelines and improving training on how to correctly file Travel expenses could help reduce rejections and streamline processing. This could involve clarifying allowable expenses within the Travel category and ensuring that all employees are aware of and understand these policies.\"}"
      ]
     },
     "execution_count": 6,
     "metadata": {},
     "output_type": "execute_result"
    }
   ],
   "source": [
    "{\n",
    "    \"data_type\": \"descriptive\",\n",
    "    \"insight\": \"There is a variable distribution of Expense Reports across categories\",\n",
    "    \"insight_value\": {\n",
    "        \"description\": \"While Travel expenses are frequently rejected, they are not the most submitted category. Assets category dominates the submission volume.\"\n",
    "    },\n",
    "    \"plot\": {\n",
    "        \"plot_type\": \"bar\",\n",
    "        \"title\": \"Distribution of Expense Reports by Category\",\n",
    "        \"x_axis\": {\n",
    "            \"name\": \"Expense Category\",\n",
    "            \"value\": [\"Assets\", \"Travel\", \"Services\", \"Miscellaneous\"],\n",
    "            \"description\": \"This axis categorizes expenses into different types, including Assets, Travel, Services, and Miscellaneous.\"\n",
    "        },\n",
    "        \"y_axis\": {\n",
    "            \"name\": \"Number of Expense Reports\",\n",
    "            \"value\": {\n",
    "                \"Assets\": \"281\",\n",
    "                \"Travel\": \"146\",\n",
    "                \"Services\": \"47\",\n",
    "                \"Miscellaneous\": \"26\"\n",
    "            },\n",
    "            \"description\": \"This axis displays the number of expense reports submitted within each category, indicating a higher volume of submissions for Assets than for other categories.\"\n",
    "        },\n",
    "        \"description\": \"The bar chart illustrates that the Assets category has the highest number of submissions at 281, followed by Travel with 146, Services with 47, and Miscellaneous with 26. This distribution shows that despite high rejection rates, the Travel category does not lead in submission frequency but remains significant.\"\n",
    "    },\n",
    "    \"question\": \"What is the distribution of Expense Reports by Category?\",\n",
    "    \"actionable_insight\": \"Understanding that Assets lead in the number of submissions, it's important to closely monitor and manage this category to ensure compliance and proper allocation of resources. For the Travel category, which has a high rejection rate but significant submission volume, refining submission guidelines and improving training on how to correctly file Travel expenses could help reduce rejections and streamline processing. This could involve clarifying allowable expenses within the Travel category and ensuring that all employees are aware of and understand these policies.\"\n",
    "}\n"
   ]
  },
  {
   "cell_type": "markdown",
   "metadata": {},
   "source": [
    "### **Question 3: Are the guidelines for submitting travel expenses more complex compared to other categories?**\n"
   ]
  },
  {
   "cell_type": "markdown",
   "metadata": {},
   "source": [
    "To adequately address this question, additional data or insights from experts who are familiar with the company's expense reporting policies are necessary. It is recommended that the organization conduct a thorough review of the written guidelines for each expense category or consult with policy managers. Gathering qualitative feedback from employees on their experiences with submitting expenses in various categories could also provide valuable insights. Implementing a survey or a series of focus groups to discuss the challenges and perceptions related to expense submission guidelines could uncover the complexity levels and any discrepancies between categories. This approach will not only clarify whether travel expense guidelines are indeed more complex but also help identify specific areas for simplification and improvement."
   ]
  },
  {
   "cell_type": "markdown",
   "metadata": {},
   "source": [
    "### **Question 4: What training or resources are currently available to employees submitting travel expenses?**\n"
   ]
  },
  {
   "cell_type": "markdown",
   "metadata": {},
   "source": [
    "Insufficient Data on Training or Resources for Travel Expense Submission\n",
    "\n",
    "Given the high rejection rates in the Travel category and the absence of data on supportive measures, it is predictive to assume that existing resources or training may not be adequately addressing the needs of employees. This situation, if not improved, could lead to continued or increased rejections. It is recommended that the organization should proactively enhance its training programs and resources related to travel expenses. This could involve updating training modules to reflect current policies, creating more detailed guides or FAQs specifically for travel expenses, or implementing regular review sessions and feedback mechanisms to ensure that employees are well-informed and supported in making compliant submissions. Additionally, assessing the current support system through employee surveys or consultations could identify gaps and opportunities for improvement, potentially reducing the rate of expense rejections significantly."
   ]
  },
  {
   "cell_type": "markdown",
   "metadata": {},
   "source": [
    "### Summary of Findings (Flag 20):\n",
    "\n",
    "1. **Trend in Expense Rejections**: This analysis focuses on the 'Travel' category within the organization's expense reports, which has been observed to have higher rejection rates compared to other expense categories. \n",
    "   \n",
    "2. **Understanding Compliance Issues**: The data is essential for pinpointing lapses in policy compliance or misunderstandings about allowable expenses within the Travel category, which is crucial for managing financial resources effectively.\n",
    "   \n",
    "3. **Enhancing Policy Adherence**: By analyzing the patterns and reasons behind the rejections, the dataset serves as a foundation for modifying training or revising guidelines to improve compliance and reduce financial wastage."
   ]
  },
  {
   "cell_type": "markdown",
   "metadata": {},
   "source": []
  }
 ],
 "metadata": {
  "kernelspec": {
   "display_name": "stardoc",
   "language": "python",
   "name": "python3"
  },
  "language_info": {
   "codemirror_mode": {
    "name": "ipython",
    "version": 3
   },
   "file_extension": ".py",
   "mimetype": "text/x-python",
   "name": "python",
   "nbconvert_exporter": "python",
   "pygments_lexer": "ipython3",
   "version": "3.8.5"
  }
 },
 "nbformat": 4,
 "nbformat_minor": 2
}

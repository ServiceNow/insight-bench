{
 "cells": [
  {
   "cell_type": "markdown",
   "metadata": {},
   "source": [
    "## Asset Warranty Analysis (Flag 73)\n",
    "\n",
    "### Dataset Description\n",
    "The dataset consists of 500 entries simulating ServiceNow alm_hardware table, detailing key attributes of hardware assets such as asset tags, display names, configuration item (CI) identifiers, serial numbers, and model categories. It includes information on asset assignment, last update timestamps, cost, departmental allocation, and warranty expiration dates. The table effectively captures asset management activities, offering insights into the operational handling, allocation, and maintenance status of hardware resources across various departments within an organization.\n",
    "\n",
    "### Your Task\n",
    "**Goal**: Analyze the relationship between the cost of assets and their warranty periods to identify discrepancies and align procurement strategies with the observed asset value trends.\n",
    "\n",
    "**Role**: Operations Manager\n",
    "\n",
    "**Difficulty**: 2 out of 5. This analysis requires deciphering complex patterns in asset pricing and warranty terms.\n",
    "\n",
    "**Category**: Asset Management\n"
   ]
  },
  {
   "cell_type": "markdown",
   "metadata": {},
   "source": [
    "## Import Necessary Libraries\n",
    "This cell imports all necessary libraries required for the analysis. This includes libraries for data manipulation, data visualization, and any specific utilities needed for the tasks. "
   ]
  },
  {
   "cell_type": "code",
   "execution_count": 6,
   "metadata": {
    "execution": {
     "iopub.execute_input": "2024-10-29T17:16:45.820906Z",
     "iopub.status.busy": "2024-10-29T17:16:45.818789Z",
     "iopub.status.idle": "2024-10-29T17:16:49.199795Z",
     "shell.execute_reply": "2024-10-29T17:16:49.198035Z"
    }
   },
   "outputs": [],
   "source": [
    "import argparse\n",
    "import pandas as pd\n",
    "import json\n",
    "import requests\n",
    "import matplotlib.pyplot as plt\n",
    "import numpy as np\n",
    "import seaborn as sns\n",
    "from pandas import date_range"
   ]
  },
  {
   "cell_type": "markdown",
   "metadata": {},
   "source": [
    "### Load Dataset\n",
    "Loads the dataset needed for the asset analysis. The data is sourced from a CSV file and the process involves reading the file into a DataFrame to facilitate further operations. This also checks the initial few rows to verify the correct loading of the data."
   ]
  },
  {
   "cell_type": "code",
   "execution_count": 7,
   "metadata": {
    "execution": {
     "iopub.execute_input": "2024-10-29T17:16:49.214231Z",
     "iopub.status.busy": "2024-10-29T17:16:49.213406Z",
     "iopub.status.idle": "2024-10-29T17:16:49.277970Z",
     "shell.execute_reply": "2024-10-29T17:16:49.276378Z"
    }
   },
   "outputs": [
    {
     "data": {
      "text/html": [
       "<div>\n",
       "<style scoped>\n",
       "    .dataframe tbody tr th:only-of-type {\n",
       "        vertical-align: middle;\n",
       "    }\n",
       "\n",
       "    .dataframe tbody tr th {\n",
       "        vertical-align: top;\n",
       "    }\n",
       "\n",
       "    .dataframe thead th {\n",
       "        text-align: right;\n",
       "    }\n",
       "</style>\n",
       "<table border=\"1\" class=\"dataframe\">\n",
       "  <thead>\n",
       "    <tr style=\"text-align: right;\">\n",
       "      <th></th>\n",
       "      <th>cost</th>\n",
       "      <th>warranty_expiration</th>\n",
       "      <th>model_category</th>\n",
       "      <th>serial_number</th>\n",
       "      <th>sys_updated_on</th>\n",
       "      <th>department</th>\n",
       "      <th>asset_tag</th>\n",
       "      <th>purchased_on</th>\n",
       "      <th>assigned_to</th>\n",
       "      <th>display_name</th>\n",
       "      <th>ci</th>\n",
       "    </tr>\n",
       "  </thead>\n",
       "  <tbody>\n",
       "    <tr>\n",
       "      <th>0</th>\n",
       "      <td>4208</td>\n",
       "      <td>2024-07-27 01:53:00</td>\n",
       "      <td>Computer</td>\n",
       "      <td>FAB-08483889</td>\n",
       "      <td>2024-03-14 01:53:00</td>\n",
       "      <td>Development</td>\n",
       "      <td>P1000000</td>\n",
       "      <td>2024-01-21 01:53:00</td>\n",
       "      <td>Allyson Gillispie</td>\n",
       "      <td>Dell Inspiron 7790 Computer</td>\n",
       "      <td>Inspiron 7790</td>\n",
       "    </tr>\n",
       "    <tr>\n",
       "      <th>1</th>\n",
       "      <td>4890</td>\n",
       "      <td>2024-02-10 20:29:00</td>\n",
       "      <td>Computer</td>\n",
       "      <td>SNF-87843340</td>\n",
       "      <td>2023-11-29 20:29:00</td>\n",
       "      <td>IT</td>\n",
       "      <td>P1000001</td>\n",
       "      <td>2023-11-12 20:29:00</td>\n",
       "      <td>Sam Sorokin</td>\n",
       "      <td>Dell Inspiron Desktop Computer</td>\n",
       "      <td>Inspiron Desktop</td>\n",
       "    </tr>\n",
       "    <tr>\n",
       "      <th>2</th>\n",
       "      <td>2818</td>\n",
       "      <td>2025-05-18 11:42:00</td>\n",
       "      <td>Computer</td>\n",
       "      <td>UOV-13907930</td>\n",
       "      <td>2024-02-11 11:42:00</td>\n",
       "      <td>IT</td>\n",
       "      <td>P1000002</td>\n",
       "      <td>2024-02-07 11:42:00</td>\n",
       "      <td>Garfield Lijewski</td>\n",
       "      <td>Dell Inspiron 15 3000 Series Computer</td>\n",
       "      <td>Inspiron 15 3000 Series</td>\n",
       "    </tr>\n",
       "    <tr>\n",
       "      <th>3</th>\n",
       "      <td>1987</td>\n",
       "      <td>2025-09-22 15:32:00</td>\n",
       "      <td>Computer</td>\n",
       "      <td>BPN-68889600</td>\n",
       "      <td>2024-02-02 15:32:00</td>\n",
       "      <td>Sales</td>\n",
       "      <td>P1000003</td>\n",
       "      <td>2023-12-30 15:32:00</td>\n",
       "      <td>Valeria Lingbeek</td>\n",
       "      <td>Dell Latitude 7490 Computer</td>\n",
       "      <td>Latitude 7490</td>\n",
       "    </tr>\n",
       "    <tr>\n",
       "      <th>4</th>\n",
       "      <td>2715</td>\n",
       "      <td>2025-01-03 12:16:00</td>\n",
       "      <td>Computer</td>\n",
       "      <td>NUA-00195760</td>\n",
       "      <td>2023-09-22 12:16:00</td>\n",
       "      <td>Customer Support</td>\n",
       "      <td>P1000004</td>\n",
       "      <td>2023-09-04 12:16:00</td>\n",
       "      <td>Rita Center</td>\n",
       "      <td>Dell Inspiron 15 Gaming Laptop</td>\n",
       "      <td>Inspiron 15 Gaming</td>\n",
       "    </tr>\n",
       "  </tbody>\n",
       "</table>\n",
       "</div>"
      ],
      "text/plain": [
       "   cost  warranty_expiration model_category serial_number  \\\n",
       "0  4208  2024-07-27 01:53:00       Computer  FAB-08483889   \n",
       "1  4890  2024-02-10 20:29:00       Computer  SNF-87843340   \n",
       "2  2818  2025-05-18 11:42:00       Computer  UOV-13907930   \n",
       "3  1987  2025-09-22 15:32:00       Computer  BPN-68889600   \n",
       "4  2715  2025-01-03 12:16:00       Computer  NUA-00195760   \n",
       "\n",
       "        sys_updated_on        department asset_tag         purchased_on  \\\n",
       "0  2024-03-14 01:53:00       Development  P1000000  2024-01-21 01:53:00   \n",
       "1  2023-11-29 20:29:00                IT  P1000001  2023-11-12 20:29:00   \n",
       "2  2024-02-11 11:42:00                IT  P1000002  2024-02-07 11:42:00   \n",
       "3  2024-02-02 15:32:00             Sales  P1000003  2023-12-30 15:32:00   \n",
       "4  2023-09-22 12:16:00  Customer Support  P1000004  2023-09-04 12:16:00   \n",
       "\n",
       "         assigned_to                           display_name  \\\n",
       "0  Allyson Gillispie            Dell Inspiron 7790 Computer   \n",
       "1        Sam Sorokin         Dell Inspiron Desktop Computer   \n",
       "2  Garfield Lijewski  Dell Inspiron 15 3000 Series Computer   \n",
       "3   Valeria Lingbeek            Dell Latitude 7490 Computer   \n",
       "4        Rita Center         Dell Inspiron 15 Gaming Laptop   \n",
       "\n",
       "                        ci  \n",
       "0            Inspiron 7790  \n",
       "1         Inspiron Desktop  \n",
       "2  Inspiron 15 3000 Series  \n",
       "3            Latitude 7490  \n",
       "4       Inspiron 15 Gaming  "
      ]
     },
     "execution_count": 7,
     "metadata": {},
     "output_type": "execute_result"
    }
   ],
   "source": [
    "dataset_path = \"csvs/flag-73.csv\"\n",
    "flag_data = pd.read_csv(dataset_path)\n",
    "df = pd.read_csv(dataset_path)\n",
    "flag_data.head()\n"
   ]
  },
  {
   "cell_type": "markdown",
   "metadata": {},
   "source": [
    "### **Question 1:  How does the cost of assets vary by department, and are there any significant outliers in asset costs within each department?**\n"
   ]
  },
  {
   "cell_type": "markdown",
   "metadata": {},
   "source": [
    "#### Analyzing Asset Costs by Department\n",
    "This visualization groups assets by department to analyze variations in asset cost. It highlights cost distributions and any outliers, offering insights into which departments may have more expensive or less costly assets and helping identify potential areas for budget review or optimization."
   ]
  },
  {
   "cell_type": "code",
   "execution_count": 8,
   "metadata": {
    "execution": {
     "iopub.execute_input": "2024-10-29T17:16:49.296352Z",
     "iopub.status.busy": "2024-10-29T17:16:49.295640Z",
     "iopub.status.idle": "2024-10-29T17:16:49.979911Z",
     "shell.execute_reply": "2024-10-29T17:16:49.977597Z"
    }
   },
   "outputs": [
    {
     "data": {
      "text/plain": [
       "<Figure size 864x432 with 0 Axes>"
      ]
     },
     "metadata": {},
     "output_type": "display_data"
    },
    {
     "data": {
      "image/png": "[encoded data removed]",
      "text/plain": [
       "<Figure size 432x288 with 1 Axes>"
      ]
     },
     "metadata": {
      "needs_background": "light"
     },
     "output_type": "display_data"
    }
   ],
   "source": [
    "import matplotlib.pyplot as plt\n",
    "import pandas as pd\n",
    "\n",
    "# Load data\n",
    "flag_data = pd.read_csv(\"csvs/flag-73.csv\")\n",
    "\n",
    "# Convert `cost` to numeric in case of any non-numeric issues, and filter for positive costs only\n",
    "flag_data[\"cost\"] = pd.to_numeric(flag_data[\"cost\"], errors=\"coerce\")\n",
    "filtered_data = flag_data[flag_data[\"cost\"] > 0]\n",
    "\n",
    "# Plotting boxplot to show cost distribution by department\n",
    "plt.figure(figsize=(12, 6))\n",
    "filtered_data.boxplot(\n",
    "    column=\"cost\", by=\"department\", grid=False, showfliers=True, notch=True\n",
    ")\n",
    "\n",
    "# Enhancing the plot aesthetics\n",
    "plt.title(\"Asset Cost Distribution by Department with Outliers\")\n",
    "plt.suptitle(\"\")  # Remove the default pandas title\n",
    "plt.xlabel(\"Department\")\n",
    "plt.ylabel(\"Asset Cost\")\n",
    "plt.xticks(rotation=45)  # Rotate department names for readability\n",
    "\n",
    "plt.show()"
   ]
  },
  {
   "cell_type": "markdown",
   "metadata": {},
   "source": [
    "#### Generate JSON Description for the Insight"
   ]
  },
  {
   "cell_type": "code",
   "execution_count": 9,
   "metadata": {
    "execution": {
     "iopub.execute_input": "2024-10-29T17:16:49.995051Z",
     "iopub.status.busy": "2024-10-29T17:16:49.994115Z",
     "iopub.status.idle": "2024-10-29T17:16:50.023084Z",
     "shell.execute_reply": "2024-10-29T17:16:50.020983Z"
    }
   },
   "outputs": [
    {
     "data": {
      "text/plain": [
       "{'data_type': 'descriptive',\n",
       " 'insight': 'The HR department exhibits the highest average asset cost, while Customer Support and IT departments have greater variability with significant outliers.',\n",
       " 'insight_value': {'description': 'HR assets are consistently higher in cost, averaging close to $4928, suggesting they may receive premium or specialized equipment. Customer Support and IT, however, have wide cost ranges with frequent outliers, likely indicating mixed asset types or a variety of equipment quality levels.'},\n",
       " 'plot': {'plot_type': 'boxplot',\n",
       "  'title': 'Asset Cost Distribution by Department with Outliers',\n",
       "  'x_axis': {'name': 'Department',\n",
       "   'value': 'Various departments including IT, Sales, HR, etc.',\n",
       "   'description': 'This axis categorizes asset costs by department to compare distributions.'},\n",
       "  'y_axis': {'name': 'Asset Cost',\n",
       "   'value': 'Costs ranging from low to high values, with several significant outliers',\n",
       "   'description': \"This axis shows the cost of assets in USD, displaying each department's range and distribution.\"},\n",
       "  'description': 'The boxplot shows significant cost distribution differences among departments. HR has the highest median cost, while Customer Support and IT exhibit substantial cost variability, with frequent high-value outliers.'},\n",
       " 'question': 'How does the cost of assets vary by department, and are there any significant outliers in asset costs within each department?',\n",
       " 'actionable_insight': \"This analysis highlights the need for potential cost management, particularly within Customer Support and IT, where a broader cost range could signal inconsistent asset allocation or mixed equipment quality. HR's higher asset cost may warrant review to ensure expenditures align with actual needs, while identifying opportunities to standardize asset types or explore cost-effective options in departments with wider cost variability.\"}"
      ]
     },
     "execution_count": 9,
     "metadata": {},
     "output_type": "execute_result"
    }
   ],
   "source": [
    "{\n",
    "    \"data_type\": \"descriptive\",\n",
    "    \"insight\": \"The HR department exhibits the highest average asset cost, while Customer Support and IT departments have greater variability with significant outliers.\",\n",
    "    \"insight_value\": {\n",
    "        \"description\": \"HR assets are consistently higher in cost, averaging close to $4928, suggesting they may receive premium or specialized equipment. Customer Support and IT, however, have wide cost ranges with frequent outliers, likely indicating mixed asset types or a variety of equipment quality levels.\"\n",
    "    },\n",
    "    \"plot\": {\n",
    "        \"plot_type\": \"boxplot\",\n",
    "        \"title\": \"Asset Cost Distribution by Department with Outliers\",\n",
    "        \"x_axis\": {\n",
    "            \"name\": \"Department\",\n",
    "            \"value\": \"Various departments including IT, Sales, HR, etc.\",\n",
    "            \"description\": \"This axis categorizes asset costs by department to compare distributions.\",\n",
    "        },\n",
    "        \"y_axis\": {\n",
    "            \"name\": \"Asset Cost\",\n",
    "            \"value\": \"Costs ranging from low to high values, with several significant outliers\",\n",
    "            \"description\": \"This axis shows the cost of assets in USD, displaying each department's range and distribution.\",\n",
    "        },\n",
    "        \"description\": \"The boxplot shows significant cost distribution differences among departments. HR has the highest median cost, while Customer Support and IT exhibit substantial cost variability, with frequent high-value outliers.\",\n",
    "    },\n",
    "    \"question\": \"How does the cost of assets vary by department, and are there any significant outliers in asset costs within each department?\",\n",
    "    \"actionable_insight\": \"This analysis highlights the need for potential cost management, particularly within Customer Support and IT, where a broader cost range could signal inconsistent asset allocation or mixed equipment quality. HR's higher asset cost may warrant review to ensure expenditures align with actual needs, while identifying opportunities to standardize asset types or explore cost-effective options in departments with wider cost variability.\",\n",
    "}"
   ]
  },
  {
   "cell_type": "markdown",
   "metadata": {},
   "source": [
    "### **Question 2: What is the distribution Average asset cost across  Model Categories?**\n"
   ]
  },
  {
   "cell_type": "markdown",
   "metadata": {},
   "source": [
    "#### Plot average cost by model category\n",
    "This cell presents a bar plot that illustrates the average cost of assets within each model category. By analyzing the cost distribution, this visualization helps identify financial implications of asset types managed by the department, offering insights into budget allocations etc."
   ]
  },
  {
   "cell_type": "code",
   "execution_count": 10,
   "metadata": {
    "execution": {
     "iopub.execute_input": "2024-10-29T17:16:50.036536Z",
     "iopub.status.busy": "2024-10-29T17:16:50.035868Z",
     "iopub.status.idle": "2024-10-29T17:16:50.588789Z",
     "shell.execute_reply": "2024-10-29T17:16:50.587039Z"
    }
   },
   "outputs": [
    {
     "data": {
      "image/png": "[encoded data removed]",
      "text/plain": [
       "<Figure size 720x432 with 1 Axes>"
      ]
     },
     "metadata": {
      "needs_background": "light"
     },
     "output_type": "display_data"
    }
   ],
   "source": [
    "import matplotlib.pyplot as plt\n",
    "\n",
    "flag_data[\"warranty_expiration\"] = pd.to_datetime(flag_data[\"warranty_expiration\"])\n",
    "flag_data[\"sys_updated_on\"] = pd.to_datetime(flag_data[\"sys_updated_on\"])\n",
    "# Calculate the warranty period in years for each asset\n",
    "flag_data['warranty_period_years'] = (flag_data['warranty_expiration'] - flag_data['sys_updated_on']).dt.days / 365\n",
    "\n",
    "# Group by model_category and calculate the average warranty period\n",
    "avg_warranty_by_category = flag_data.groupby('model_category')['cost'].mean()\n",
    "\n",
    "# Plotting\n",
    "a_plot = avg_warranty_by_category.plot(kind='bar', color='skyblue', figsize=(10, 6))\n",
    "for p in a_plot.patches:\n",
    "    a_plot.annotate(format(p.get_height(), '.2f'), \n",
    "                          (p.get_x() + p.get_width() / 2., p.get_height()), \n",
    "                          ha = 'center', va = 'center', \n",
    "                          xytext = (0, 9), \n",
    "                          textcoords = 'offset points')\n",
    "plt.xlabel('Model Category')\n",
    "plt.ylabel('Average Cost ($)')\n",
    "plt.title('Average Cost by Model Category')\n",
    "plt.xticks(rotation=45)\n",
    "plt.tight_layout()  # Adjust layout to make room for the rotated x-axis labels\n",
    "\n",
    "# Show the plot\n",
    "plt.show()"
   ]
  },
  {
   "cell_type": "markdown",
   "metadata": {},
   "source": [
    "#### Generate JSON Description for the Insight"
   ]
  },
  {
   "cell_type": "code",
   "execution_count": 11,
   "metadata": {
    "execution": {
     "iopub.execute_input": "2024-10-29T17:16:50.605743Z",
     "iopub.status.busy": "2024-10-29T17:16:50.605121Z",
     "iopub.status.idle": "2024-10-29T17:16:50.633011Z",
     "shell.execute_reply": "2024-10-29T17:16:50.631421Z"
    }
   },
   "outputs": [
    {
     "data": {
      "text/plain": [
       "{'data_type': 'descriptive',\n",
       " 'insight': 'Servers and Web Servers are the most expensive asset categories on average, followed by computers.',\n",
       " 'insight_value': {'description': 'Average costs vary significantly across model categories, with Servers and Web Servers leading in terms of investment required.'},\n",
       " 'plot': {'plot_type': 'bar',\n",
       "  'title': 'Average Asset Cost by Model Category',\n",
       "  'x_axis': {'name': 'Model Category',\n",
       "   'value': ['Server',\n",
       "    'Web Server',\n",
       "    'Computer',\n",
       "    'Printer',\n",
       "    'Rack',\n",
       "    'Computer Peripheral',\n",
       "    'Storage Device'],\n",
       "   'description': 'This axis categorizes different types of assets based on their model category.'},\n",
       "  'y_axis': {'name': 'Average Cost (USD)',\n",
       "   'value': {'Server': '8775.90$',\n",
       "    'Web Server': '8000$',\n",
       "    'Computer': '3274.48$',\n",
       "    'Printer': '1478.14$',\n",
       "    'Rack': '400.0$',\n",
       "    'Computer Peripheral': '331.27$',\n",
       "    'Storage Device': '299.9$'},\n",
       "   'description': 'This axis displays the average cost for each asset model category, highlighting the substantial cost disparities among different asset types.'},\n",
       "  'description': 'The bar chart clearly illustrates the average costs associated with different asset model categories within the organization. It underscores that Servers and Web Servers are notably more expensive on average than other categories such as Computers, Printers, and more peripheral equipment.'},\n",
       " 'question': 'What is the distribution of Average asset cost across Model Categories?',\n",
       " 'actionable_insight': \"Given the higher average costs associated with Servers and Web Servers, followed by computers, it's essential for the organization to carefully consider the lifecycle costs and benefits of these investments. This insight can inform budgeting decisions, procurement strategies, and asset management practices to optimize the organization's infrastructure and ensure cost-effective operations.\"}"
      ]
     },
     "execution_count": 11,
     "metadata": {},
     "output_type": "execute_result"
    }
   ],
   "source": [
    "{\n",
    "    \"data_type\": \"descriptive\",\n",
    "    \"insight\": \"Servers and Web Servers are the most expensive asset categories on average, followed by computers.\",\n",
    "    \"insight_value\": {\n",
    "        \"description\": \"Average costs vary significantly across model categories, with Servers and Web Servers leading in terms of investment required.\"\n",
    "    },\n",
    "    \"plot\": {\n",
    "        \"plot_type\": \"bar\",\n",
    "        \"title\": \"Average Asset Cost by Model Category\",\n",
    "        \"x_axis\": {\n",
    "            \"name\": \"Model Category\",\n",
    "            \"value\": [\"Server\", \"Web Server\", \"Computer\", \"Printer\", \"Rack\", \"Computer Peripheral\", \"Storage Device\"],\n",
    "            \"description\": \"This axis categorizes different types of assets based on their model category.\"\n",
    "        },\n",
    "        \"y_axis\": {\n",
    "            \"name\": \"Average Cost (USD)\",\n",
    "            \"value\": {\n",
    "                \"Server\": \"8775.90$\",\n",
    "                \"Web Server\": \"8000$\",\n",
    "                \"Computer\": \"3274.48$\",\n",
    "                \"Printer\": \"1478.14$\",\n",
    "                \"Rack\": \"400.0$\",\n",
    "                \"Computer Peripheral\": \"331.27$\",\n",
    "                \"Storage Device\": \"299.9$\"\n",
    "            },\n",
    "            \"description\": \"This axis displays the average cost for each asset model category, highlighting the substantial cost disparities among different asset types.\"\n",
    "        },\n",
    "        \"description\": \"The bar chart clearly illustrates the average costs associated with different asset model categories within the organization. It underscores that Servers and Web Servers are notably more expensive on average than other categories such as Computers, Printers, and more peripheral equipment.\"\n",
    "    },\n",
    "    \"question\": \"What is the distribution of Average asset cost across Model Categories?\",\n",
    "    \"actionable_insight\": \"Given the higher average costs associated with Servers and Web Servers, followed by computers, it's essential for the organization to carefully consider the lifecycle costs and benefits of these investments. This insight can inform budgeting decisions, procurement strategies, and asset management practices to optimize the organization's infrastructure and ensure cost-effective operations.\"\n",
    "}\n"
   ]
  },
  {
   "cell_type": "markdown",
   "metadata": {},
   "source": [
    "### **Question 3: What is the correlation between the cost of computer assets and their warranty periods?**"
   ]
  },
  {
   "cell_type": "markdown",
   "metadata": {},
   "source": [
    "#### Plot correlation between cost and warranty period of computers\n",
    "This cell creates a scatter plot to visualize the relationship between the cost of computer assets and their warranty periods within 'Computer' model category. By plotting cost against warranty duration, this plot aims to explore whether less expensive computer assets come with longer warranties perhaps indicating potential anomaly."
   ]
  },
  {
   "cell_type": "code",
   "execution_count": 12,
   "metadata": {
    "execution": {
     "iopub.execute_input": "2024-10-29T17:16:50.647839Z",
     "iopub.status.busy": "2024-10-29T17:16:50.646918Z",
     "iopub.status.idle": "2024-10-29T17:16:51.104473Z",
     "shell.execute_reply": "2024-10-29T17:16:51.102313Z"
    }
   },
   "outputs": [
    {
     "data": {
      "image/png": "[encoded data removed]",
      "text/plain": [
       "<Figure size 432x288 with 1 Axes>"
      ]
     },
     "metadata": {
      "needs_background": "light"
     },
     "output_type": "display_data"
    }
   ],
   "source": [
    "import seaborn as sns\n",
    "import matplotlib.pyplot as plt\n",
    "\n",
    "flag_data[\"warranty_expiration\"] = pd.to_datetime(flag_data[\"warranty_expiration\"])\n",
    "flag_data[\"purchased_on\"] = pd.to_datetime(flag_data[\"purchased_on\"])\n",
    "\n",
    "computer_data = flag_data[flag_data['model_category'] == 'Computer']\n",
    "plt.scatter(computer_data['cost'], (computer_data['warranty_expiration'] - computer_data['purchased_on']).dt.days / 365)\n",
    "plt.xlabel('Cost ($)')\n",
    "plt.ylabel('Warranty Period (Years)')\n",
    "plt.title('Correlation between Cost and Warranty Period of Computers')\n",
    "plt.show()"
   ]
  },
  {
   "cell_type": "markdown",
   "metadata": {},
   "source": [
    "#### Generate JSON Description for the Insight"
   ]
  },
  {
   "cell_type": "code",
   "execution_count": 13,
   "metadata": {
    "execution": {
     "iopub.execute_input": "2024-10-29T17:16:51.120594Z",
     "iopub.status.busy": "2024-10-29T17:16:51.119639Z",
     "iopub.status.idle": "2024-10-29T17:16:51.144821Z",
     "shell.execute_reply": "2024-10-29T17:16:51.142506Z"
    }
   },
   "outputs": [
    {
     "data": {
      "text/plain": [
       "{'data_type': 'correlative',\n",
       " 'insight': 'Strong correlation between the cost of computer assets and their warranty periods.',\n",
       " 'insight_value': {'description': 'More expensive computer assets tend to have shorter warranty periods, suggesting that lower costs are associated with extended warranty provisions.'},\n",
       " 'plot': {'plot_type': 'scatter',\n",
       "  'title': 'Correlation Between Cost of Computers and Their Warranty Periods',\n",
       "  'x_axis': {'name': 'Cost of Computer Assets (USD)',\n",
       "   'value': 'Continuously variable cost amounts',\n",
       "   'description': 'This axis represents the cost of computer assets, highlighting a range from lower to higher priced models.'},\n",
       "  'y_axis': {'name': 'Warranty Period (years)',\n",
       "   'value': 'Continuously variable warranty durations',\n",
       "   'description': 'This axis displays the warranty periods associated with each cost level, illustrating how warranty durations increase with asset cost.'},\n",
       "  'description': 'The scatter plot demonstrates a clear linear correlation between the cost of computer assets and their warranty periods. This trend confirms that more expensive computers although more expensive, tend to have shorter warranty periods, while lower-cost models are associated with longer warranty coverage. This insight can guide procurement decisions and warranty management strategies for computer assets.'},\n",
       " 'question': 'What is the correlation between the cost of computer assets and their warranty periods?',\n",
       " 'actionable_insight': 'This observed correlation suggests that investing in more expensive computer assets may require additional warranty coverage to mitigate risks and ensure operational continuity. Organizations should consider negotiating extended warranty terms with vendors or investing in comprehensive warranty plans to protect high-value computer assets and minimize potential disruptions. Secondly, organisation can prioitise the procurement of lower cost computers to benefit from extended warranty provisions. This can help in optimizing the warranty management strategy and ensuring cost-effective asset maintenance.'}"
      ]
     },
     "execution_count": 13,
     "metadata": {},
     "output_type": "execute_result"
    }
   ],
   "source": [
    "{\n",
    "    \"data_type\": \"correlative\",\n",
    "    \"insight\": \"Strong correlation between the cost of computer assets and their warranty periods.\",\n",
    "    \"insight_value\": {\n",
    "        \"description\": \"More expensive computer assets tend to have shorter warranty periods, suggesting that lower costs are associated with extended warranty provisions.\"\n",
    "    },\n",
    "    \"plot\": {\n",
    "        \"plot_type\": \"scatter\",\n",
    "        \"title\": \"Correlation Between Cost of Computers and Their Warranty Periods\",\n",
    "        \"x_axis\": {\n",
    "            \"name\": \"Cost of Computer Assets (USD)\",\n",
    "            \"value\": \"Continuously variable cost amounts\",\n",
    "            \"description\": \"This axis represents the cost of computer assets, highlighting a range from lower to higher priced models.\"\n",
    "        },\n",
    "        \"y_axis\": {\n",
    "            \"name\": \"Warranty Period (years)\",\n",
    "            \"value\": \"Continuously variable warranty durations\",\n",
    "            \"description\": \"This axis displays the warranty periods associated with each cost level, illustrating how warranty durations increase with asset cost.\"\n",
    "        },\n",
    "        \"description\": \"The scatter plot demonstrates a clear linear correlation between the cost of computer assets and their warranty periods. This trend confirms that more expensive computers although more expensive, tend to have shorter warranty periods, while lower-cost models are associated with longer warranty coverage. This insight can guide procurement decisions and warranty management strategies for computer assets.\"\n",
    "    },\n",
    "    \"question\": \"What is the correlation between the cost of computer assets and their warranty periods?\",\n",
    "    \"actionable_insight\": \"This observed correlation suggests that investing in more expensive computer assets may require additional warranty coverage to mitigate risks and ensure operational continuity. Organizations should consider negotiating extended warranty terms with vendors or investing in comprehensive warranty plans to protect high-value computer assets and minimize potential disruptions. Secondly, organisation can prioitise the procurement of lower cost computers to benefit from extended warranty provisions. This can help in optimizing the warranty management strategy and ensuring cost-effective asset maintenance.\"\n",
    "}\n"
   ]
  },
  {
   "cell_type": "markdown",
   "metadata": {},
   "source": [
    "Question 4: What implications does the correlation between cost and warranty period have for asset lifecycle management?\n"
   ]
  },
  {
   "cell_type": "markdown",
   "metadata": {},
   "source": [
    "\n",
    "Given the unusual correlation between the cost of computer assets and their warranty periods, the implications for asset lifecycle management could be significant:\n",
    "1. **Strategic Procurement**: Organizations can strategize their procurement practices by opting for lower-cost assets that come with longer warranties. This approach could reduce long-term maintenance costs. \\\n",
    "2. **Budget Planning**: Understanding the correlation helps in forecasting budget allocations more accurately. Organizations can allocate funds for extended warranties based on the cost of computer assets. \\\n",
    "3. **Risk Management**: By choosing assets with longer warranties, organizations can mitigate the risk associated with equipment failures.\n",
    "\n",
    "In essence, the correlation between asset cost and warranty duration informs a more thoughtful, cost-effective approach to managing the lifecycle of technology assets. Although it quite counterintutive that higher spec computers have shorter warranty periods, it is either a strategic move by the vendors to ensure that the cost of the warranty is not passed on to the customer. or  the vendors are confident in the quality of the product and hence do not see the need for a longer warranty period."
   ]
  },
  {
   "cell_type": "markdown",
   "metadata": {},
   "source": [
    "### Summary of Findings (Flag 73):\n",
    "\n",
    "1. **Asset Cost Variability by Department** (Question 1): The HR department consistently has the highest average asset cost, indicating potential premium or specialized equipment allocation. In contrast, Customer Support and IT departments show significant cost variability with frequent outliers, suggesting mixed asset types or varying equipment quality levels.\n",
    "\n",
    "2. **Average Cost by Model Category** (Question 2): Servers and Web Servers are the most expensive asset categories on average, followed by computers. This highlights the need for careful budgeting and procurement strategies to manage these high-cost investments effectively.\n",
    "\n",
    "3. **Correlation Between Cost and Warranty Period** (Question 3): There is a strong correlation where more expensive computer assets tend to have shorter warranty periods. This suggests that organizations may need to negotiate extended warranty terms for high-value assets or prioritize lower-cost computers to benefit from longer warranty coverage."
   ]
  }
 ],
 "metadata": {
  "kernelspec": {
   "display_name": "Python 3",
   "language": "python",
   "name": "python3"
  },
  "language_info": {
   "codemirror_mode": {
    "name": "ipython",
    "version": 3
   },
   "file_extension": ".py",
   "mimetype": "text/x-python",
   "name": "python",
   "nbconvert_exporter": "python",
   "pygments_lexer": "ipython3",
   "version": "3.8.5"
  }
 },
 "nbformat": 4,
 "nbformat_minor": 2
}

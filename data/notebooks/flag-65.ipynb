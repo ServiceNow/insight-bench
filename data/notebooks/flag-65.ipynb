{
 "cells": [
  {
   "cell_type": "markdown",
   "metadata": {},
   "source": [
    "## Asset Warranty and Purchase Date Analysis (Flag 65)\n",
    "\n",
    "### Dataset Description\n",
    "The dataset comprises two key tables simulating ServiceNow platform: the `sys_user` table and the `alm_hardware` table with 500 entries. The assets alm_hardware table, consists of detailing key attributes of hardware assets such as asset tags, display names, configuration item (CI) identifiers, serial numbers, and model categories. It includes information on asset assignment, last update timestamps, cost, departmental allocation, and warranty expiration dates. The `sys_user` table, on the other hand, contains user-related information, focusing on the details of employees or system users. This includes fields such as 'user_id', 'name', 'role', 'email', 'start_date', and 'department', providing insights into the user profiles managed within the ServiceNow system.\n",
    "\n",
    "### Your Task\n",
    "**Goal**: To explore and understand the correlation between asset purchase dates, warranty periods, and employee start dates to optimize asset procurement and warranty management.\n",
    "\n",
    "**Role**: Procurement Analyst\n",
    "\n",
    "**Difficulty**: 3 out of 5. This analysis requires a detailed examination of temporal data and correlation patterns.\n",
    "\n",
    "**Category**: Asset Management & User Management"
   ]
  },
  {
   "cell_type": "markdown",
   "metadata": {},
   "source": [
    "## Import Necessary Libraries\n",
    "This cell imports all necessary libraries required for the analysis. This includes libraries for data manipulation, data visualization, and any specific utilities needed for the tasks. "
   ]
  },
  {
   "cell_type": "code",
   "execution_count": 13,
   "metadata": {
    "execution": {
     "iopub.execute_input": "2024-10-29T17:15:12.658980Z",
     "iopub.status.busy": "2024-10-29T17:15:12.657282Z",
     "iopub.status.idle": "2024-10-29T17:15:17.158387Z",
     "shell.execute_reply": "2024-10-29T17:15:17.156616Z"
    }
   },
   "outputs": [],
   "source": [
    "import argparse\n",
    "import pandas as pd\n",
    "import json\n",
    "import requests\n",
    "import matplotlib.pyplot as plt\n",
    "import numpy as np\n",
    "import seaborn as sns\n",
    "from pandas import date_range"
   ]
  },
  {
   "cell_type": "markdown",
   "metadata": {},
   "source": [
    "### Load Dataset\n",
    "Loads the dataset needed for the asset analysis. The data is sourced from a CSV file and the process involves reading the file into a DataFrame to facilitate further operations. This also checks the initial few rows to verify the correct loading of the data."
   ]
  },
  {
   "cell_type": "code",
   "execution_count": 14,
   "metadata": {
    "execution": {
     "iopub.execute_input": "2024-10-29T17:15:17.175969Z",
     "iopub.status.busy": "2024-10-29T17:15:17.174902Z",
     "iopub.status.idle": "2024-10-29T17:15:17.243894Z",
     "shell.execute_reply": "2024-10-29T17:15:17.242272Z"
    }
   },
   "outputs": [
    {
     "data": {
      "text/html": [
       "<div>\n",
       "<style scoped>\n",
       "    .dataframe tbody tr th:only-of-type {\n",
       "        vertical-align: middle;\n",
       "    }\n",
       "\n",
       "    .dataframe tbody tr th {\n",
       "        vertical-align: top;\n",
       "    }\n",
       "\n",
       "    .dataframe thead th {\n",
       "        text-align: right;\n",
       "    }\n",
       "</style>\n",
       "<table border=\"1\" class=\"dataframe\">\n",
       "  <thead>\n",
       "    <tr style=\"text-align: right;\">\n",
       "      <th></th>\n",
       "      <th>sys_updated_on</th>\n",
       "      <th>serial_number</th>\n",
       "      <th>purchased_on</th>\n",
       "      <th>asset_tag</th>\n",
       "      <th>warranty_expiration</th>\n",
       "      <th>assigned_to</th>\n",
       "      <th>department</th>\n",
       "      <th>cost</th>\n",
       "      <th>model_category</th>\n",
       "      <th>display_name</th>\n",
       "      <th>ci</th>\n",
       "    </tr>\n",
       "  </thead>\n",
       "  <tbody>\n",
       "    <tr>\n",
       "      <th>0</th>\n",
       "      <td>2024-03-02 21:31:00</td>\n",
       "      <td>OYK-77215827</td>\n",
       "      <td>2024-02-29 21:31:00</td>\n",
       "      <td>P1000000</td>\n",
       "      <td>2026-11-19 21:31:00</td>\n",
       "      <td>Fannie Steese</td>\n",
       "      <td>Customer Support</td>\n",
       "      <td>4808</td>\n",
       "      <td>Computer</td>\n",
       "      <td>Dell Inspiron 15 Computer</td>\n",
       "      <td>Inspiron 15</td>\n",
       "    </tr>\n",
       "    <tr>\n",
       "      <th>1</th>\n",
       "      <td>2023-07-04 16:13:00</td>\n",
       "      <td>MOG-23425821</td>\n",
       "      <td>2023-06-30 16:13:00</td>\n",
       "      <td>P1000001</td>\n",
       "      <td>2024-10-21 16:13:00</td>\n",
       "      <td>Emilia Oxley</td>\n",
       "      <td>Customer Support</td>\n",
       "      <td>4799</td>\n",
       "      <td>Computer</td>\n",
       "      <td>Dell OptiPlex 980 Desktop Computer</td>\n",
       "      <td>OptiPlex 980</td>\n",
       "    </tr>\n",
       "    <tr>\n",
       "      <th>2</th>\n",
       "      <td>2023-10-22 06:03:00</td>\n",
       "      <td>OBU-72808441</td>\n",
       "      <td>2023-10-19 06:03:00</td>\n",
       "      <td>P1000002</td>\n",
       "      <td>2025-06-02 06:03:00</td>\n",
       "      <td>Darrel Tork</td>\n",
       "      <td>Customer Support</td>\n",
       "      <td>3303</td>\n",
       "      <td>Computer</td>\n",
       "      <td>Dell Inspiron 1525</td>\n",
       "      <td>Inspiron 1525</td>\n",
       "    </tr>\n",
       "    <tr>\n",
       "      <th>3</th>\n",
       "      <td>2023-12-28 05:06:00</td>\n",
       "      <td>JJA-59360711</td>\n",
       "      <td>2023-12-27 05:06:00</td>\n",
       "      <td>P1000003</td>\n",
       "      <td>2026-01-21 05:06:00</td>\n",
       "      <td>Jonathon Waldall</td>\n",
       "      <td>IT</td>\n",
       "      <td>1509</td>\n",
       "      <td>Computer</td>\n",
       "      <td>Dell Latitude 7410 Computer</td>\n",
       "      <td>Latitude 7410</td>\n",
       "    </tr>\n",
       "    <tr>\n",
       "      <th>4</th>\n",
       "      <td>2023-09-14 05:07:00</td>\n",
       "      <td>LBK-73947577</td>\n",
       "      <td>2023-09-11 05:07:00</td>\n",
       "      <td>P1000004</td>\n",
       "      <td>2024-12-04 05:07:00</td>\n",
       "      <td>Jarvis Galas</td>\n",
       "      <td>Customer Support</td>\n",
       "      <td>4938</td>\n",
       "      <td>Computer</td>\n",
       "      <td>Dell Inspiron N5010 Laptop</td>\n",
       "      <td>Inspiron N5010</td>\n",
       "    </tr>\n",
       "  </tbody>\n",
       "</table>\n",
       "</div>"
      ],
      "text/plain": [
       "        sys_updated_on serial_number         purchased_on asset_tag  \\\n",
       "0  2024-03-02 21:31:00  OYK-77215827  2024-02-29 21:31:00  P1000000   \n",
       "1  2023-07-04 16:13:00  MOG-23425821  2023-06-30 16:13:00  P1000001   \n",
       "2  2023-10-22 06:03:00  OBU-72808441  2023-10-19 06:03:00  P1000002   \n",
       "3  2023-12-28 05:06:00  JJA-59360711  2023-12-27 05:06:00  P1000003   \n",
       "4  2023-09-14 05:07:00  LBK-73947577  2023-09-11 05:07:00  P1000004   \n",
       "\n",
       "   warranty_expiration       assigned_to        department  cost  \\\n",
       "0  2026-11-19 21:31:00     Fannie Steese  Customer Support  4808   \n",
       "1  2024-10-21 16:13:00      Emilia Oxley  Customer Support  4799   \n",
       "2  2025-06-02 06:03:00       Darrel Tork  Customer Support  3303   \n",
       "3  2026-01-21 05:06:00  Jonathon Waldall                IT  1509   \n",
       "4  2024-12-04 05:07:00      Jarvis Galas  Customer Support  4938   \n",
       "\n",
       "  model_category                        display_name              ci  \n",
       "0       Computer           Dell Inspiron 15 Computer     Inspiron 15  \n",
       "1       Computer  Dell OptiPlex 980 Desktop Computer    OptiPlex 980  \n",
       "2       Computer                  Dell Inspiron 1525   Inspiron 1525  \n",
       "3       Computer         Dell Latitude 7410 Computer   Latitude 7410  \n",
       "4       Computer          Dell Inspiron N5010 Laptop  Inspiron N5010  "
      ]
     },
     "execution_count": 14,
     "metadata": {},
     "output_type": "execute_result"
    }
   ],
   "source": [
    "dataset_path = \"csvs/flag-65.csv\"\n",
    "flag_data = pd.read_csv(dataset_path)\n",
    "df = pd.read_csv(dataset_path)\n",
    "flag_data.head()"
   ]
  },
  {
   "cell_type": "markdown",
   "metadata": {},
   "source": [
    "### Load User Agent Dataset\n",
    "This cell loads user agent dataset used in the analysis. The dataset is stored in a CSV file and is loaded into a DataFrame. This step includes reading the data from a file path and possibly performing initial observations such as viewing the first few rows to ensure it has loaded correctly.\n"
   ]
  },
  {
   "cell_type": "code",
   "execution_count": 15,
   "metadata": {
    "execution": {
     "iopub.execute_input": "2024-10-29T17:15:17.262745Z",
     "iopub.status.busy": "2024-10-29T17:15:17.261445Z",
     "iopub.status.idle": "2024-10-29T17:15:17.317341Z",
     "shell.execute_reply": "2024-10-29T17:15:17.315227Z"
    }
   },
   "outputs": [
    {
     "data": {
      "text/html": [
       "<div>\n",
       "<style scoped>\n",
       "    .dataframe tbody tr th:only-of-type {\n",
       "        vertical-align: middle;\n",
       "    }\n",
       "\n",
       "    .dataframe tbody tr th {\n",
       "        vertical-align: top;\n",
       "    }\n",
       "\n",
       "    .dataframe thead th {\n",
       "        text-align: right;\n",
       "    }\n",
       "</style>\n",
       "<table border=\"1\" class=\"dataframe\">\n",
       "  <thead>\n",
       "    <tr style=\"text-align: right;\">\n",
       "      <th></th>\n",
       "      <th>sys_id</th>\n",
       "      <th>schedule</th>\n",
       "      <th>manager</th>\n",
       "      <th>phone</th>\n",
       "      <th>user_name</th>\n",
       "      <th>name</th>\n",
       "      <th>location</th>\n",
       "      <th>department</th>\n",
       "      <th>title</th>\n",
       "      <th>email</th>\n",
       "      <th>start_date</th>\n",
       "    </tr>\n",
       "  </thead>\n",
       "  <tbody>\n",
       "    <tr>\n",
       "      <th>0</th>\n",
       "      <td>02826bf03710200044e0bfc8bcbe5d55</td>\n",
       "      <td>NaN</td>\n",
       "      <td>Justina Dragaj</td>\n",
       "      <td>NaN</td>\n",
       "      <td>jimmie.barninger</td>\n",
       "      <td>Jimmie Barninger</td>\n",
       "      <td>Carrera 54 No. 49 - 31, Medellin</td>\n",
       "      <td>Customer Support</td>\n",
       "      <td>NaN</td>\n",
       "      <td>jimmie.barninger@example.com</td>\n",
       "      <td>2023-12-17 03:12:00</td>\n",
       "    </tr>\n",
       "    <tr>\n",
       "      <th>1</th>\n",
       "      <td>02826bf03710200044e0bfc8bcbe5d5e</td>\n",
       "      <td>NaN</td>\n",
       "      <td>Lucius Bagnoli</td>\n",
       "      <td>NaN</td>\n",
       "      <td>melinda.carleton</td>\n",
       "      <td>Melinda Carleton</td>\n",
       "      <td>3 Whitehall Court, London</td>\n",
       "      <td>Customer Support</td>\n",
       "      <td>NaN</td>\n",
       "      <td>melinda.carleton@example.com</td>\n",
       "      <td>2024-03-31 11:31:00</td>\n",
       "    </tr>\n",
       "    <tr>\n",
       "      <th>2</th>\n",
       "      <td>02826bf03710200044e0bfc8bcbe5d64</td>\n",
       "      <td>NaN</td>\n",
       "      <td>Lucius Bagnoli</td>\n",
       "      <td>NaN</td>\n",
       "      <td>jewel.agresta</td>\n",
       "      <td>Jewel Agresta</td>\n",
       "      <td>3 Whitehall Court, London</td>\n",
       "      <td>Customer Support</td>\n",
       "      <td>NaN</td>\n",
       "      <td>jewel.agresta@example.com</td>\n",
       "      <td>2024-02-19 20:07:00</td>\n",
       "    </tr>\n",
       "    <tr>\n",
       "      <th>3</th>\n",
       "      <td>02826bf03710200044e0bfc8bcbe5d6d</td>\n",
       "      <td>NaN</td>\n",
       "      <td>Logan Muhl</td>\n",
       "      <td>NaN</td>\n",
       "      <td>sean.bonnet</td>\n",
       "      <td>Sean Bonnet</td>\n",
       "      <td>8306 Mills Drive, Miami,FL</td>\n",
       "      <td>Customer Support</td>\n",
       "      <td>NaN</td>\n",
       "      <td>sean.bonnet@example.com</td>\n",
       "      <td>2023-09-08 11:58:00</td>\n",
       "    </tr>\n",
       "    <tr>\n",
       "      <th>4</th>\n",
       "      <td>02826bf03710200044e0bfc8bcbe5d76</td>\n",
       "      <td>NaN</td>\n",
       "      <td>Bridget Knightly</td>\n",
       "      <td>NaN</td>\n",
       "      <td>jacinto.gawron</td>\n",
       "      <td>Jacinto Gawron</td>\n",
       "      <td>8306 Mills Drive, Miami,FL</td>\n",
       "      <td>Customer Support</td>\n",
       "      <td>NaN</td>\n",
       "      <td>jacinto.gawron@example.com</td>\n",
       "      <td>2023-10-31 16:37:00</td>\n",
       "    </tr>\n",
       "  </tbody>\n",
       "</table>\n",
       "</div>"
      ],
      "text/plain": [
       "                             sys_id  schedule           manager  phone  \\\n",
       "0  02826bf03710200044e0bfc8bcbe5d55       NaN    Justina Dragaj    NaN   \n",
       "1  02826bf03710200044e0bfc8bcbe5d5e       NaN    Lucius Bagnoli    NaN   \n",
       "2  02826bf03710200044e0bfc8bcbe5d64       NaN    Lucius Bagnoli    NaN   \n",
       "3  02826bf03710200044e0bfc8bcbe5d6d       NaN        Logan Muhl    NaN   \n",
       "4  02826bf03710200044e0bfc8bcbe5d76       NaN  Bridget Knightly    NaN   \n",
       "\n",
       "          user_name              name                          location  \\\n",
       "0  jimmie.barninger  Jimmie Barninger  Carrera 54 No. 49 - 31, Medellin   \n",
       "1  melinda.carleton  Melinda Carleton         3 Whitehall Court, London   \n",
       "2     jewel.agresta     Jewel Agresta         3 Whitehall Court, London   \n",
       "3       sean.bonnet       Sean Bonnet        8306 Mills Drive, Miami,FL   \n",
       "4    jacinto.gawron    Jacinto Gawron        8306 Mills Drive, Miami,FL   \n",
       "\n",
       "         department title                         email           start_date  \n",
       "0  Customer Support   NaN  jimmie.barninger@example.com  2023-12-17 03:12:00  \n",
       "1  Customer Support   NaN  melinda.carleton@example.com  2024-03-31 11:31:00  \n",
       "2  Customer Support   NaN     jewel.agresta@example.com  2024-02-19 20:07:00  \n",
       "3  Customer Support   NaN       sean.bonnet@example.com  2023-09-08 11:58:00  \n",
       "4  Customer Support   NaN    jacinto.gawron@example.com  2023-10-31 16:37:00  "
      ]
     },
     "execution_count": 15,
     "metadata": {},
     "output_type": "execute_result"
    }
   ],
   "source": [
    "user_dataset_path = \"csvs/flag-65-sysuser.csv\"\n",
    "data_user_human_agents = pd.read_csv(user_dataset_path)\n",
    "data_user_human_agents.head()"
   ]
  },
  {
   "cell_type": "markdown",
   "metadata": {},
   "source": [
    "### **Question 1: How do asset costs differ between departments, and which department has the highest average spending on assets?**\n"
   ]
  },
  {
   "cell_type": "markdown",
   "metadata": {},
   "source": [
    "#### Plot average asset costs per department\n",
    "This visualization explores the financial distribution across departments by analyzing the average asset costs for each department. Understanding which departments allocate more to asset purchases provides insights into budgetary priorities and asset investment across teams."
   ]
  },
  {
   "cell_type": "code",
   "execution_count": 1,
   "metadata": {
    "execution": {
     "iopub.execute_input": "2024-10-29T17:15:17.333201Z",
     "iopub.status.busy": "2024-10-29T17:15:17.332601Z",
     "iopub.status.idle": "2024-10-29T17:15:18.127473Z",
     "shell.execute_reply": "2024-10-29T17:15:18.125858Z"
    }
   },
   "outputs": [
    {
     "data": {
      "image/png": "[encoded data removed]",
      "text/plain": [
       "<Figure size 720x432 with 1 Axes>"
      ]
     },
     "metadata": {
      "needs_background": "light"
     },
     "output_type": "display_data"
    }
   ],
   "source": [
    "import matplotlib.pyplot as plt\n",
    "import pandas as pd\n",
    "\n",
    "# Load the data\n",
    "flag_data = pd.read_csv(\"csvs/flag-65.csv\")\n",
    "\n",
    "# Calculate the average asset cost per department\n",
    "avg_cost_per_department = (\n",
    "    flag_data.groupby(\"department\")[\"cost\"]\n",
    "    .mean()\n",
    "    .sort_values(ascending=False)\n",
    "    .reset_index()\n",
    ")\n",
    "\n",
    "# Plot the results\n",
    "plt.figure(figsize=(10, 6))\n",
    "plt.bar(\n",
    "    avg_cost_per_department[\"department\"],\n",
    "    avg_cost_per_department[\"cost\"],\n",
    "    color=\"skyblue\",\n",
    "    edgecolor=\"black\",\n",
    ")\n",
    "plt.title(\"Average Asset Cost per Department\")\n",
    "plt.xlabel(\"Department\")\n",
    "plt.ylabel(\"Average Cost of Assets\")\n",
    "plt.xticks(rotation=45, ha=\"right\")\n",
    "plt.grid(axis=\"y\", linestyle=\"--\", alpha=0.7)\n",
    "\n",
    "plt.show()"
   ]
  },
  {
   "cell_type": "markdown",
   "metadata": {},
   "source": [
    "#### Generate JSON Description for the Insight"
   ]
  },
  {
   "cell_type": "code",
   "execution_count": 17,
   "metadata": {
    "execution": {
     "iopub.execute_input": "2024-10-29T17:15:18.153872Z",
     "iopub.status.busy": "2024-10-29T17:15:18.152643Z",
     "iopub.status.idle": "2024-10-29T17:15:18.179694Z",
     "shell.execute_reply": "2024-10-29T17:15:18.178039Z"
    }
   },
   "outputs": [
    {
     "data": {
      "text/plain": [
       "{'data_type': 'correlative',\n",
       " 'insight': 'There is a positive correlation between Asset Purchase Dates and Warranty Periods',\n",
       " 'insight_value': {'description': 'Statistically significant. Recently purchased assets exhibit increasingly longer warranty periods compared to assets purchased earlier, indicating a trend towards extending warranties over time.'},\n",
       " 'plot': {'plot_type': 'scatter',\n",
       "  'title': 'Correlation Between Purchase Date of Assets and Warranty Periods',\n",
       "  'x_axis': {'name': 'Purchase Date',\n",
       "   'value': 'Date range from earliest to most recent purchases',\n",
       "   'description': 'This axis represents the time of asset purchase, plotted chronologically.'},\n",
       "  'y_axis': {'name': 'Warranty Period (years)',\n",
       "   'value': 'Continuously variable warranty durations',\n",
       "   'description': 'This axis displays the warranty periods associated with each purchase date, illustrating how newer purchases tend to have longer warranties.'},\n",
       "  'description': 'The scatter plot demonstrates a clear positive trend, showing that as the purchase date of assets moves closer to the present, the associated warranty periods become longer. This trend is statistically significant and highlights a shift in procurement strategies, possibly reflecting improved product quality or changes in manufacturer warranty policies.'},\n",
       " 'question': 'Is there a statistically significant correlation between the purchase date of assets and their warranty periods?',\n",
       " 'actionable_insight': \"This observed correlation should prompt a review of procurement policies to leverage the trend of longer warranties. Procurement strategies could be adjusted to optimize warranty terms, potentially leading to better coverage and reduced long-term maintenance costs. This insight could also guide future purchasing decisions, encouraging the selection of assets with favorable warranty terms that align with the organization's operational and financial planning.\"}"
      ]
     },
     "execution_count": 17,
     "metadata": {},
     "output_type": "execute_result"
    }
   ],
   "source": [
    "{\n",
    "    \"data_type\": \"comparative\",\n",
    "    \"insight\": \"Product Management allocates the highest average spending on assets compared to other departments.\",\n",
    "    \"insight_value\": {\n",
    "        \"description\": \"Product Management leads in asset spending with an average asset cost of $3,448, followed closely by Sales and Finance, which also maintain relatively high asset investments.\"\n",
    "    },\n",
    "    \"plot\": {\n",
    "        \"plot_type\": \"bar\",\n",
    "        \"title\": \"Average Asset Cost per Department\",\n",
    "        \"x_axis\": {\n",
    "            \"name\": \"Department\",\n",
    "            \"value\": \"Departments including Product Management, Sales, Finance, IT, HR, Development, and Customer Support\",\n",
    "            \"description\": \"This axis represents the different departments within the organization, showcasing their respective average asset costs.\",\n",
    "        },\n",
    "        \"y_axis\": {\n",
    "            \"name\": \"Average Cost of Assets\",\n",
    "            \"value\": \"Cost values from approximately $2,800 to $3,500\",\n",
    "            \"description\": \"This axis displays the average asset cost for each department, revealing budget allocations for asset purchases.\",\n",
    "        },\n",
    "        \"description\": \"The bar chart illustrates that Product Management has the highest average asset cost, indicating a greater investment in assets for this department. Sales, Finance, and IT also have significant allocations, suggesting prioritization of resources to departments that are likely more asset-intensive.\",\n",
    "    },\n",
    "    \"question\": \"How do asset costs differ between departments, and which department has the highest average spending on assets?\",\n",
    "    \"actionable_insight\": \"With Product Management, Sales, and Finance departments having higher average asset costs, this could inform resource allocation and procurement strategies to align investments with departmental needs. Regular assessments may help optimize asset spending, particularly if these departments’ performance relies heavily on newer or more specialized equipment.\",\n",
    "}"
   ]
  },
  {
   "cell_type": "markdown",
   "metadata": {},
   "source": [
    "### **Question 2: Is it a linear trend and can it be  regressed with noise?**\n"
   ]
  },
  {
   "cell_type": "markdown",
   "metadata": {},
   "source": [
    "#### Plot regression analysis, trend in warranty period over purchase dates\n",
    "This plot extends the previous analysis by not only displaying the scatter of warranty periods against their respective purchase dates but also incorporating a linear regression model to determine if there is a discernible linear trend"
   ]
  },
  {
   "cell_type": "code",
   "execution_count": 18,
   "metadata": {
    "execution": {
     "iopub.execute_input": "2024-10-29T17:15:18.195443Z",
     "iopub.status.busy": "2024-10-29T17:15:18.194760Z",
     "iopub.status.idle": "2024-10-29T17:15:19.022786Z",
     "shell.execute_reply": "2024-10-29T17:15:19.020761Z"
    }
   },
   "outputs": [
    {
     "data": {
      "text/plain": [
       "[<matplotlib.lines.Line2D at 0x7fce692380a0>]"
      ]
     },
     "execution_count": 18,
     "metadata": {},
     "output_type": "execute_result"
    },
    {
     "data": {
      "image/png": "[encoded data removed]",
      "text/plain": [
       "<Figure size 720x432 with 1 Axes>"
      ]
     },
     "metadata": {
      "needs_background": "light"
     },
     "output_type": "display_data"
    }
   ],
   "source": [
    "# Assuming 'df' is the DataFrame containing your data\n",
    "df[\"warranty_expiration\"] = pd.to_datetime(df[\"warranty_expiration\"])\n",
    "df[\"purchased_on\"] = pd.to_datetime(df[\"purchased_on\"])\n",
    "# Calculate the warranty period in years\n",
    "df['warranty_period_years'] = (df['warranty_expiration'] - df['purchased_on']).dt.days / 365\n",
    "\n",
    "# Create the scatter plot\n",
    "plt.figure(figsize=(10, 6))\n",
    "plt.scatter(df['purchased_on'], df['warranty_period_years'], alpha=0.6, edgecolors='w', color='blue')\n",
    "plt.title('Correlation between purchased date and Warranty Period')\n",
    "plt.xlabel('Purchased On Date')\n",
    "plt.ylabel('Warranty Period (Years)')\n",
    "plt.grid(True)\n",
    "# Optionally, you can fit a linear regression line to emphasize the trend\n",
    "# Using numpy for linear regression line\n",
    "import numpy as np\n",
    "# Convert dates to ordinal for regression\n",
    "df['sys_updated_on_ordinal'] = df['purchased_on'].apply(lambda x: x.toordinal())\n",
    "# Fit the regression\n",
    "fit = np.polyfit(df['sys_updated_on_ordinal'], df['warranty_period_years'], 1)\n",
    "fit_fn = np.poly1d(fit)\n",
    "# Plot the regression line\n",
    "plt.plot(df['purchased_on'], fit_fn(df['sys_updated_on_ordinal']), color='red', linewidth=2)"
   ]
  },
  {
   "cell_type": "markdown",
   "metadata": {},
   "source": [
    "#### Generate JSON Description for the Insight"
   ]
  },
  {
   "cell_type": "code",
   "execution_count": 19,
   "metadata": {
    "execution": {
     "iopub.execute_input": "2024-10-29T17:15:19.038940Z",
     "iopub.status.busy": "2024-10-29T17:15:19.038332Z",
     "iopub.status.idle": "2024-10-29T17:15:19.062228Z",
     "shell.execute_reply": "2024-10-29T17:15:19.060053Z"
    }
   },
   "outputs": [
    {
     "data": {
      "text/plain": [
       "{'data_type': 'predictive',\n",
       " 'insight': 'The Linear Regression Model is able to predicts Warranty Periods Based on Purchase Dates',\n",
       " 'insight_value': {'description': 'The linear regression analysis confirms a predictable relationship between asset purchase dates and warranty periods, with a trend indicating longer warranties for more recently purchased assets.'},\n",
       " 'plot': {'plot_type': 'regression',\n",
       "  'title': 'Linear Regression of Warranty Periods Against Purchase Dates',\n",
       "  'x_axis': {'name': 'Purchase Date',\n",
       "   'value': 'Date range from earliest to most recent purchases',\n",
       "   'description': 'This axis represents the chronological order of asset purchases.'},\n",
       "  'y_axis': {'name': 'Warranty Period (years)',\n",
       "   'value': 'Continuously variable warranty durations',\n",
       "   'description': 'This axis plots the warranty periods, with the regression line illustrating the linear trend.'},\n",
       "  'description': 'The regression plot effectively shows a clear linear trend, indicating that newer assets tend to have longer warranties. The presence of noise suggests variability around the trend line, which could be due to factors such as different asset types or supplier agreements.'},\n",
       " 'question': 'Is it a linear trend and can it be regressed with noise?',\n",
       " 'actionable_insight': 'Given the predictability of warranty periods based on purchase dates as evidenced by the linear regression model, the organization can anticipate warranty terms for future purchases. This foresight could be instrumental in negotiating terms with suppliers or choosing products that offer the best value in terms of warranty coverage. Further, by understanding the variability (noise) around the trend, procurement managers can refine their asset management strategies to account for exceptions and ensure robust handling of warranty terms.'}"
      ]
     },
     "execution_count": 19,
     "metadata": {},
     "output_type": "execute_result"
    }
   ],
   "source": [
    "{\n",
    "    \"data_type\": \"predictive\",\n",
    "    \"insight\": \"The Linear Regression Model is able to predicts Warranty Periods Based on Purchase Dates\",\n",
    "    \"insight_value\": {\n",
    "        \"description\": \"The linear regression analysis confirms a predictable relationship between asset purchase dates and warranty periods, with a trend indicating longer warranties for more recently purchased assets.\"\n",
    "    },\n",
    "    \"plot\": {\n",
    "        \"plot_type\": \"regression\",\n",
    "        \"title\": \"Linear Regression of Warranty Periods Against Purchase Dates\",\n",
    "        \"x_axis\": {\n",
    "            \"name\": \"Purchase Date\",\n",
    "            \"value\": \"Date range from earliest to most recent purchases\",\n",
    "            \"description\": \"This axis represents the chronological order of asset purchases.\"\n",
    "        },\n",
    "        \"y_axis\": {\n",
    "            \"name\": \"Warranty Period (years)\",\n",
    "            \"value\": \"Continuously variable warranty durations\",\n",
    "            \"description\": \"This axis plots the warranty periods, with the regression line illustrating the linear trend.\"\n",
    "        },\n",
    "        \"description\": \"The regression plot effectively shows a clear linear trend, indicating that newer assets tend to have longer warranties. The presence of noise suggests variability around the trend line, which could be due to factors such as different asset types or supplier agreements.\"\n",
    "    },\n",
    "    \"question\": \"Is it a linear trend and can it be regressed with noise?\",\n",
    "    \"actionable_insight\": \"Given the predictability of warranty periods based on purchase dates as evidenced by the linear regression model, the organization can anticipate warranty terms for future purchases. This foresight could be instrumental in negotiating terms with suppliers or choosing products that offer the best value in terms of warranty coverage. Further, by understanding the variability (noise) around the trend, procurement managers can refine their asset management strategies to account for exceptions and ensure robust handling of warranty terms.\"\n",
    "}\n"
   ]
  },
  {
   "cell_type": "markdown",
   "metadata": {},
   "source": [
    "### **Question 3: What is the average cost of assets nearing warranty expiration in the next 6 months across different departments?**"
   ]
  },
  {
   "cell_type": "markdown",
   "metadata": {},
   "source": [
    "#### Plotting Average Asset Cost by Department for Assets Nearing Warranty Expiration \n",
    "This analysis investigates the average cost of assets whose warranties will expire within the next six months, grouped by department. By focusing on assets nearing warranty end dates, departments can prioritize budget planning and inventory replacement, highlighting departments with potentially higher financial requirements for timely asset replacement. "
   ]
  },
  {
   "cell_type": "code",
   "execution_count": 20,
   "metadata": {
    "execution": {
     "iopub.execute_input": "2024-10-29T17:15:19.079642Z",
     "iopub.status.busy": "2024-10-29T17:15:19.078845Z",
     "iopub.status.idle": "2024-10-29T17:15:20.190772Z",
     "shell.execute_reply": "2024-10-29T17:15:20.188941Z"
    }
   },
   "outputs": [
    {
     "data": {
      "image/png": "[encoded data removed]",
      "text/plain": [
       "<Figure size 720x432 with 1 Axes>"
      ]
     },
     "metadata": {
      "needs_background": "light"
     },
     "output_type": "display_data"
    }
   ],
   "source": [
    "import matplotlib.pyplot as plt\n",
    "from datetime import datetime, timedelta\n",
    "\n",
    "# Convert relevant date columns to datetime format\n",
    "df[\"warranty_expiration\"] = pd.to_datetime(\n",
    "    df[\"warranty_expiration\"], errors=\"coerce\"\n",
    ")\n",
    "df[\"purchased_on\"] = pd.to_datetime(df[\"purchased_on\"], errors=\"coerce\")\n",
    "\n",
    "# Filter data for assets with warranties expiring in the next 6 months\n",
    "current_date = datetime.now()\n",
    "six_months_later = current_date + timedelta(days=180)\n",
    "expiring_assets = df[\n",
    "    (df[\"warranty_expiration\"] <= six_months_later)\n",
    "    & (df[\"warranty_expiration\"] >= current_date)\n",
    "]\n",
    "\n",
    "# Calculate the average cost of expiring assets per department\n",
    "avg_cost_per_department = (\n",
    "    expiring_assets.groupby(\"department\")[\"cost\"].mean().reset_index()\n",
    ")\n",
    "\n",
    "# Plotting using bar plot\n",
    "plt.figure(figsize=(10, 6))\n",
    "plt.bar(\n",
    "    avg_cost_per_department[\"department\"],\n",
    "    avg_cost_per_department[\"cost\"],\n",
    "    alpha=0.7,\n",
    "    edgecolor=\"black\",\n",
    ")\n",
    "plt.title(\n",
    "    \"Average Cost of Assets with Warranty Expiring in Next 6 Months by Department\"\n",
    ")\n",
    "plt.xlabel(\"Department\")\n",
    "plt.ylabel(\"Average Cost ($)\")\n",
    "plt.xticks(rotation=45, ha=\"right\")\n",
    "plt.tight_layout()\n",
    "plt.show()"
   ]
  },
  {
   "cell_type": "markdown",
   "metadata": {},
   "source": [
    "#### Generate JSON Description for the Insight"
   ]
  },
  {
   "cell_type": "code",
   "execution_count": 21,
   "metadata": {
    "execution": {
     "iopub.execute_input": "2024-10-29T17:15:20.207667Z",
     "iopub.status.busy": "2024-10-29T17:15:20.206954Z",
     "iopub.status.idle": "2024-10-29T17:15:20.233847Z",
     "shell.execute_reply": "2024-10-29T17:15:20.231796Z"
    }
   },
   "outputs": [
    {
     "data": {
      "text/plain": [
       "{'data_type': 'aggregative',\n",
       " 'insight': 'The Product Management and Sales departments have the highest average costs for assets nearing warranty expiration.',\n",
       " 'insight_value': {'description': 'Assets in Product Management and Sales have a higher average cost compared to other departments. This trend indicates a potential need for budget prioritization in these departments for future replacements.'},\n",
       " 'plot': {'plot_type': 'bar',\n",
       "  'title': 'Average Cost of Assets with Warranty Expiring in Next 6 Months by Department',\n",
       "  'x_axis': {'name': 'Department',\n",
       "   'value': ['Customer Support',\n",
       "    'Development',\n",
       "    'Finance',\n",
       "    'HR',\n",
       "    'IT',\n",
       "    'Product Management',\n",
       "    'Sales'],\n",
       "   'description': 'This axis represents the departments in the organization, showing how asset costs vary as warranties near expiration.'},\n",
       "  'y_axis': {'name': 'Average Cost ($)',\n",
       "   'value': [2750, 2750.75, 3487.33, 627, 2524.06, 4419, 3907.85],\n",
       "   'description': 'The cost associated with assets per department as they approach warranty expiration.'},\n",
       "  'description': 'The bar plot shows that Product Management and Sales have the highest average costs, suggesting that these departments might prioritize budgets for asset replacements.'},\n",
       " 'question': 'What is the average cost of assets nearing warranty expiration in the next 6 months across different departments?',\n",
       " 'actionable_insight': 'The higher asset costs in Product Management and Sales indicate a strategic consideration for these departments in upcoming budget allocations. Departments like HR and IT have lower average costs, suggesting potentially lower immediate replacement needs. Organizations might consider proactive budget planning to address these upcoming expenses effectively.'}"
      ]
     },
     "execution_count": 21,
     "metadata": {},
     "output_type": "execute_result"
    }
   ],
   "source": [
    "{\n",
    "    \"data_type\": \"aggregative\",\n",
    "    \"insight\": \"The Product Management and Sales departments have the highest average costs for assets nearing warranty expiration.\",\n",
    "    \"insight_value\": {\n",
    "        \"description\": \"Assets in Product Management and Sales have a higher average cost compared to other departments. This trend indicates a potential need for budget prioritization in these departments for future replacements.\"\n",
    "    },\n",
    "    \"plot\": {\n",
    "        \"plot_type\": \"bar\",\n",
    "        \"title\": \"Average Cost of Assets with Warranty Expiring in Next 6 Months by Department\",\n",
    "        \"x_axis\": {\n",
    "            \"name\": \"Department\",\n",
    "            \"value\": [\n",
    "                \"Customer Support\",\n",
    "                \"Development\",\n",
    "                \"Finance\",\n",
    "                \"HR\",\n",
    "                \"IT\",\n",
    "                \"Product Management\",\n",
    "                \"Sales\",\n",
    "            ],\n",
    "            \"description\": \"This axis represents the departments in the organization, showing how asset costs vary as warranties near expiration.\",\n",
    "        },\n",
    "        \"y_axis\": {\n",
    "            \"name\": \"Average Cost ($)\",\n",
    "            \"value\": [2750, 2750.75, 3487.33, 627, 2524.06, 4419, 3907.85],\n",
    "            \"description\": \"The cost associated with assets per department as they approach warranty expiration.\",\n",
    "        },\n",
    "        \"description\": \"The bar plot shows that Product Management and Sales have the highest average costs, suggesting that these departments might prioritize budgets for asset replacements.\",\n",
    "    },\n",
    "    \"question\": \"What is the average cost of assets nearing warranty expiration in the next 6 months across different departments?\",\n",
    "    \"actionable_insight\": \"The higher asset costs in Product Management and Sales indicate a strategic consideration for these departments in upcoming budget allocations. Departments like HR and IT have lower average costs, suggesting potentially lower immediate replacement needs. Organizations might consider proactive budget planning to address these upcoming expenses effectively.\",\n",
    "}"
   ]
  },
  {
   "cell_type": "markdown",
   "metadata": {},
   "source": [
    "Question 4: What are the long-term effects of current asset assignment practices on employee performance and asset utilization?"
   ]
  },
  {
   "cell_type": "markdown",
   "metadata": {},
   "source": [
    "\"Objective\": \"The goal of this question is to predict the impact of current asset assignment practices on overall employee productivity and to prescribe changes to improve both asset utilization and employee satisfaction over time.\",\n",
    "\"actionable_insight\": \"The findings from this analysis could lead to the development of a dynamic asset management system that not only aligns asset purchases with new hires but also schedules upgrades and rotations based on asset performance data and employee needs. This system could ensure that all employees, not just new hires, have access to the best possible tools at the right time, enhancing overall operational efficiency and employee satisfaction.\""
   ]
  },
  {
   "cell_type": "markdown",
   "metadata": {},
   "source": [
    "### Summary of Findings (Flag 65):\n",
    "\n",
    "1. **Departmental Asset Spending**: From Question 1, it was found that Product Management allocates the highest average spending on assets, followed by Sales and Finance. This insight highlights the need for strategic budget allocation to align with departmental priorities and asset-intensive operations.\n",
    "\n",
    "2. **Predictability of Warranty Periods**: Question 2 revealed a linear trend between asset purchase dates and warranty periods, suggesting that newer assets tend to have longer warranties. This predictability can guide procurement strategies to secure favorable warranty terms, optimizing asset lifecycle management.\n",
    "\n",
    "3. **Asset Costs Nearing Warranty Expiration**: As per Question 3, Product Management and Sales departments have the highest average costs for assets nearing warranty expiration. This indicates a potential need for budget prioritization in these departments to manage upcoming asset replacements effectively."
   ]
  }
 ],
 "metadata": {
  "kernelspec": {
   "display_name": "Python 3",
   "language": "python",
   "name": "python3"
  },
  "language_info": {
   "codemirror_mode": {
    "name": "ipython",
    "version": 3
   },
   "file_extension": ".py",
   "mimetype": "text/x-python",
   "name": "python",
   "nbconvert_exporter": "python",
   "pygments_lexer": "ipython3",
   "version": "3.8.5"
  }
 },
 "nbformat": 4,
 "nbformat_minor": 2
}

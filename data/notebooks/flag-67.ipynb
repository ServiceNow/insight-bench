{
 "cells": [
  {
   "cell_type": "markdown",
   "metadata": {},
   "source": [
    "## Travel Expense Rejection Analysis (Flag 67)\n",
    "\n",
    "### Dataset Description\n",
    "The dataset consists of 500 entries simulating ServiceNow fm_expense_line table, which records various attributes of financial expenses. Key fields include 'number', 'opened_at', 'amount', 'state', 'short_description', 'ci', 'user', 'department', 'category', 'process_date', 'source_id', and 'type'. This table documents the flow of financial transactions by detailing the amount, departmental allocation, and the nature of each expense. Provides a clear view of organizational expenditures across different categories, highlighting both the timing and the approval state of each financial entry.\n",
    "\n",
    "### Your Task\n",
    "**Goal**: To identify and rectify the causes of high rejection rates in travel expenses to ensure that submissions  align with organizational policies.\n",
    "\n",
    "**Role**: Expense Audit Analyst\n",
    "\n",
    "**Difficulty**: 2 out of 5. This task requires key analysis of expense reports to detect commonalities in rejections.\n",
    "\n",
    "**Category**: Finance Management\n"
   ]
  },
  {
   "cell_type": "markdown",
   "metadata": {},
   "source": [
    "### Import Necessary Libraries\n",
    "This cell imports all necessary libraries required for the analysis. This includes libraries for data manipulation, data visualization, and any specific utilities needed for the tasks. "
   ]
  },
  {
   "cell_type": "code",
   "execution_count": 3,
   "metadata": {
    "execution": {
     "iopub.execute_input": "2024-10-29T17:15:35.056027Z",
     "iopub.status.busy": "2024-10-29T17:15:35.054323Z",
     "iopub.status.idle": "2024-10-29T17:15:38.612363Z",
     "shell.execute_reply": "2024-10-29T17:15:38.608055Z"
    }
   },
   "outputs": [],
   "source": [
    "import argparse\n",
    "import pandas as pd\n",
    "import json\n",
    "import requests\n",
    "import matplotlib.pyplot as plt\n",
    "import numpy as np\n",
    "import seaborn as sns\n",
    "from pandas import date_range"
   ]
  },
  {
   "cell_type": "markdown",
   "metadata": {},
   "source": [
    "### Load Dataset\n",
    "This cell loads the dataset to be analyzed. The data is stored in the from a CSV file, and is imported into a DataFrame. It involves specifying the path to the dataset, using pandas to read the file, and confirming its successful load by inspecting the first few table entries."
   ]
  },
  {
   "cell_type": "code",
   "execution_count": 4,
   "metadata": {
    "execution": {
     "iopub.execute_input": "2024-10-29T17:15:38.631097Z",
     "iopub.status.busy": "2024-10-29T17:15:38.629240Z",
     "iopub.status.idle": "2024-10-29T17:15:38.712965Z",
     "shell.execute_reply": "2024-10-29T17:15:38.711312Z"
    }
   },
   "outputs": [
    {
     "data": {
      "text/html": [
       "<div>\n",
       "<style scoped>\n",
       "    .dataframe tbody tr th:only-of-type {\n",
       "        vertical-align: middle;\n",
       "    }\n",
       "\n",
       "    .dataframe tbody tr th {\n",
       "        vertical-align: top;\n",
       "    }\n",
       "\n",
       "    .dataframe thead th {\n",
       "        text-align: right;\n",
       "    }\n",
       "</style>\n",
       "<table border=\"1\" class=\"dataframe\">\n",
       "  <thead>\n",
       "    <tr style=\"text-align: right;\">\n",
       "      <th></th>\n",
       "      <th>category</th>\n",
       "      <th>department</th>\n",
       "      <th>opened_at</th>\n",
       "      <th>source_id</th>\n",
       "      <th>type</th>\n",
       "      <th>number</th>\n",
       "      <th>processed_date</th>\n",
       "      <th>amount</th>\n",
       "      <th>state</th>\n",
       "      <th>user</th>\n",
       "      <th>short_description</th>\n",
       "      <th>ci</th>\n",
       "    </tr>\n",
       "  </thead>\n",
       "  <tbody>\n",
       "    <tr>\n",
       "      <th>0</th>\n",
       "      <td>Assets</td>\n",
       "      <td>Customer Support</td>\n",
       "      <td>2024-02-28 23:30:00</td>\n",
       "      <td>MOW-21341062</td>\n",
       "      <td>NaN</td>\n",
       "      <td>EXP00000000</td>\n",
       "      <td>2024-03-05 20:18:58.865466754</td>\n",
       "      <td>5345</td>\n",
       "      <td>Processed</td>\n",
       "      <td>Marianne Earman</td>\n",
       "      <td>Procurement of new hardware asset</td>\n",
       "      <td>Dell Latitude 3410</td>\n",
       "    </tr>\n",
       "    <tr>\n",
       "      <th>1</th>\n",
       "      <td>Assets</td>\n",
       "      <td>Sales</td>\n",
       "      <td>2024-04-11 16:24:00</td>\n",
       "      <td>JCZ-14840476</td>\n",
       "      <td>NaN</td>\n",
       "      <td>EXP00000001</td>\n",
       "      <td>2024-04-26 15:59:06.170441179</td>\n",
       "      <td>8761</td>\n",
       "      <td>Processed</td>\n",
       "      <td>Carolina Kinlaw</td>\n",
       "      <td>Automated creation of new hardware asset</td>\n",
       "      <td>Dell OptiPlex 7070 Desktop</td>\n",
       "    </tr>\n",
       "    <tr>\n",
       "      <th>2</th>\n",
       "      <td>Services</td>\n",
       "      <td>Sales</td>\n",
       "      <td>2023-07-12 07:29:00</td>\n",
       "      <td>IYI-40671468</td>\n",
       "      <td>NaN</td>\n",
       "      <td>EXP00000002</td>\n",
       "      <td>2023-07-21 22:46:22.903623363</td>\n",
       "      <td>834</td>\n",
       "      <td>Processed</td>\n",
       "      <td>Lacy Hyten</td>\n",
       "      <td>Newly implemented cloud service</td>\n",
       "      <td>AWS EC2 Instance</td>\n",
       "    </tr>\n",
       "    <tr>\n",
       "      <th>3</th>\n",
       "      <td>Assets</td>\n",
       "      <td>Sales</td>\n",
       "      <td>2023-11-30 14:53:00</td>\n",
       "      <td>ZQT-96922333</td>\n",
       "      <td>NaN</td>\n",
       "      <td>EXP00000003</td>\n",
       "      <td>NaN</td>\n",
       "      <td>5109</td>\n",
       "      <td>Submitted</td>\n",
       "      <td>Howard Johnson</td>\n",
       "      <td>Automatically generated asset entry for hardwa...</td>\n",
       "      <td>Dell Latitude 7410</td>\n",
       "    </tr>\n",
       "    <tr>\n",
       "      <th>4</th>\n",
       "      <td>Assets</td>\n",
       "      <td>Customer Support</td>\n",
       "      <td>2023-09-13 08:47:00</td>\n",
       "      <td>QTZ-80951096</td>\n",
       "      <td>NaN</td>\n",
       "      <td>EXP00000004</td>\n",
       "      <td>2023-09-22 11:30:54.396673685</td>\n",
       "      <td>3371</td>\n",
       "      <td>Processed</td>\n",
       "      <td>Sue Haakinson</td>\n",
       "      <td>Addition of new hardware asset</td>\n",
       "      <td>Dell Latitude 6520</td>\n",
       "    </tr>\n",
       "  </tbody>\n",
       "</table>\n",
       "</div>"
      ],
      "text/plain": [
       "   category        department            opened_at     source_id  type  \\\n",
       "0    Assets  Customer Support  2024-02-28 23:30:00  MOW-21341062   NaN   \n",
       "1    Assets             Sales  2024-04-11 16:24:00  JCZ-14840476   NaN   \n",
       "2  Services             Sales  2023-07-12 07:29:00  IYI-40671468   NaN   \n",
       "3    Assets             Sales  2023-11-30 14:53:00  ZQT-96922333   NaN   \n",
       "4    Assets  Customer Support  2023-09-13 08:47:00  QTZ-80951096   NaN   \n",
       "\n",
       "        number                 processed_date  amount      state  \\\n",
       "0  EXP00000000  2024-03-05 20:18:58.865466754    5345  Processed   \n",
       "1  EXP00000001  2024-04-26 15:59:06.170441179    8761  Processed   \n",
       "2  EXP00000002  2023-07-21 22:46:22.903623363     834  Processed   \n",
       "3  EXP00000003                            NaN    5109  Submitted   \n",
       "4  EXP00000004  2023-09-22 11:30:54.396673685    3371  Processed   \n",
       "\n",
       "              user                                  short_description  \\\n",
       "0  Marianne Earman                  Procurement of new hardware asset   \n",
       "1  Carolina Kinlaw           Automated creation of new hardware asset   \n",
       "2       Lacy Hyten                    Newly implemented cloud service   \n",
       "3   Howard Johnson  Automatically generated asset entry for hardwa...   \n",
       "4    Sue Haakinson                     Addition of new hardware asset   \n",
       "\n",
       "                           ci  \n",
       "0          Dell Latitude 3410  \n",
       "1  Dell OptiPlex 7070 Desktop  \n",
       "2            AWS EC2 Instance  \n",
       "3          Dell Latitude 7410  \n",
       "4          Dell Latitude 6520  "
      ]
     },
     "execution_count": 4,
     "metadata": {},
     "output_type": "execute_result"
    }
   ],
   "source": [
    "dataset_path = \"csvs/flag-67.csv\"\n",
    "flag_data = pd.read_csv(dataset_path)\n",
    "df = pd.read_csv(dataset_path)\n",
    "flag_data.head()\n"
   ]
  },
  {
   "cell_type": "markdown",
   "metadata": {},
   "source": [
    "\n",
    "### **Question 1: How does the processing time of requests differ across departments for high-value items?**"
   ]
  },
  {
   "cell_type": "markdown",
   "metadata": {},
   "source": [
    "#### Visualize processing time distribution for high-value requests across departments\n",
    "This analysis focuses on the processing times of high-value items across different departments. By examining the variations in processing time distribution, we gain insight into which departments handle high-value requests faster or slower, potentially highlighting operational efficiencies or areas for improvement. Requests are filtered by high-value items, defined as those with amounts in the top quartile."
   ]
  },
  {
   "cell_type": "code",
   "execution_count": 5,
   "metadata": {
    "execution": {
     "iopub.execute_input": "2024-10-29T17:15:38.730595Z",
     "iopub.status.busy": "2024-10-29T17:15:38.730003Z",
     "iopub.status.idle": "2024-10-29T17:15:39.276085Z",
     "shell.execute_reply": "2024-10-29T17:15:39.274442Z"
    }
   },
   "outputs": [
    {
     "name": "stderr",
     "output_type": "stream",
     "text": [
      "<ipython-input-5-af3cb4602293>:17: SettingWithCopyWarning: \n",
      "A value is trying to be set on a copy of a slice from a DataFrame.\n",
      "Try using .loc[row_indexer,col_indexer] = value instead\n",
      "\n",
      "See the caveats in the documentation: https://pandas.pydata.org/pandas-docs/stable/user_guide/indexing.html#returning-a-view-versus-a-copy\n",
      "  high_value_data[\"processing_time\"] = (\n"
     ]
    },
    {
     "data": {
      "text/plain": [
       "<Figure size 864x432 with 0 Axes>"
      ]
     },
     "metadata": {},
     "output_type": "display_data"
    },
    {
     "data": {
      "image/png": "[encoded data removed]",
      "text/plain": [
       "<Figure size 432x288 with 1 Axes>"
      ]
     },
     "metadata": {
      "needs_background": "light"
     },
     "output_type": "display_data"
    }
   ],
   "source": [
    "import matplotlib.pyplot as plt\n",
    "import pandas as pd\n",
    "\n",
    "# Load data\n",
    "file_path = \"csvs/flag-67.csv\"\n",
    "data = pd.read_csv(file_path)\n",
    "\n",
    "# Preprocess data\n",
    "data[\"opened_at\"] = pd.to_datetime(data[\"opened_at\"])\n",
    "data[\"processed_date\"] = pd.to_datetime(data[\"processed_date\"], errors=\"coerce\")\n",
    "\n",
    "# Filter for high-value items (top 25% of 'amount')\n",
    "top_value_threshold = data[\"amount\"].quantile(0.75)\n",
    "high_value_data = data[data[\"amount\"] >= top_value_threshold]\n",
    "\n",
    "# Calculate processing time in days\n",
    "high_value_data[\"processing_time\"] = (\n",
    "    high_value_data[\"processed_date\"] - high_value_data[\"opened_at\"]\n",
    ").dt.days\n",
    "\n",
    "# Drop rows with missing processing times\n",
    "high_value_data = high_value_data.dropna(subset=[\"processing_time\"])\n",
    "\n",
    "# Plot processing time distribution by department\n",
    "plt.figure(figsize=(12, 6))\n",
    "high_value_data.boxplot(column=\"processing_time\", by=\"department\", grid=False)\n",
    "plt.title(\"Processing Time Distribution by Department for High-Value Requests\")\n",
    "plt.suptitle(\"\")  # Remove the automatic title from boxplot\n",
    "plt.xlabel(\"Department\")\n",
    "plt.ylabel(\"Processing Time (Days)\")\n",
    "plt.xticks(rotation=45)\n",
    "plt.show()"
   ]
  },
  {
   "cell_type": "markdown",
   "metadata": {},
   "source": [
    "#### Generate JSON Description for the Insight"
   ]
  },
  {
   "cell_type": "code",
   "execution_count": 6,
   "metadata": {
    "execution": {
     "iopub.execute_input": "2024-10-29T17:15:39.292839Z",
     "iopub.status.busy": "2024-10-29T17:15:39.292140Z",
     "iopub.status.idle": "2024-10-29T17:15:39.318528Z",
     "shell.execute_reply": "2024-10-29T17:15:39.316775Z"
    }
   },
   "outputs": [
    {
     "data": {
      "text/plain": [
       "{'data_type': 'distributional',\n",
       " 'insight': 'Processing times for high-value requests vary significantly across departments, with Customer Support showing the widest range in processing times.',\n",
       " 'insight_value': {'description': 'Customer Support has a high variability in processing time for high-value requests, ranging from 1 to 18 days, with a mean processing time of approximately 5.8 days. This variability may suggest a non-standardized approach or a higher volume of requests leading to differing priorities within this department.'},\n",
       " 'plot': {'plot_type': 'boxplot',\n",
       "  'title': 'Processing Time Distribution by Department for High-Value Requests',\n",
       "  'x_axis': {'name': 'Department',\n",
       "   'value': ['Customer Support',\n",
       "    'Development',\n",
       "    'Finance',\n",
       "    'IT',\n",
       "    'Product Management',\n",
       "    'Sales'],\n",
       "   'description': 'This axis represents departments across which high-value request processing times are distributed.'},\n",
       "  'y_axis': {'name': 'Processing Time (Days)',\n",
       "   'value': 'Range of processing times from the minimum to maximum observed for each department',\n",
       "   'description': 'This axis shows the number of days taken to process high-value requests, helping identify departments with potentially more efficient or delayed processing cycles.'},\n",
       "  'description': 'The boxplot reveals substantial variability in processing times, particularly within Customer Support, suggesting that high-value requests face different processing delays depending on the department.'},\n",
       " 'question': 'How does the processing time of requests differ across departments for high-value items?',\n",
       " 'actionable_insight': \"Customer Support's high variability in processing times indicates that improvements in process standardization or resource allocation could enhance efficiency for high-value requests. Departments with consistently shorter processing times, such as IT and Product Management, could serve as models for optimizing request handling across other departments.\"}"
      ]
     },
     "execution_count": 6,
     "metadata": {},
     "output_type": "execute_result"
    }
   ],
   "source": [
    "{\n",
    "    \"data_type\": \"distributional\",\n",
    "    \"insight\": \"Processing times for high-value requests vary significantly across departments, with Customer Support showing the widest range in processing times.\",\n",
    "    \"insight_value\": {\n",
    "        \"description\": \"Customer Support has a high variability in processing time for high-value requests, ranging from 1 to 18 days, with a mean processing time of approximately 5.8 days. This variability may suggest a non-standardized approach or a higher volume of requests leading to differing priorities within this department.\"\n",
    "    },\n",
    "    \"plot\": {\n",
    "        \"plot_type\": \"boxplot\",\n",
    "        \"title\": \"Processing Time Distribution by Department for High-Value Requests\",\n",
    "        \"x_axis\": {\n",
    "            \"name\": \"Department\",\n",
    "            \"value\": [\n",
    "                \"Customer Support\",\n",
    "                \"Development\",\n",
    "                \"Finance\",\n",
    "                \"IT\",\n",
    "                \"Product Management\",\n",
    "                \"Sales\",\n",
    "            ],\n",
    "            \"description\": \"This axis represents departments across which high-value request processing times are distributed.\",\n",
    "        },\n",
    "        \"y_axis\": {\n",
    "            \"name\": \"Processing Time (Days)\",\n",
    "            \"value\": \"Range of processing times from the minimum to maximum observed for each department\",\n",
    "            \"description\": \"This axis shows the number of days taken to process high-value requests, helping identify departments with potentially more efficient or delayed processing cycles.\",\n",
    "        },\n",
    "        \"description\": \"The boxplot reveals substantial variability in processing times, particularly within Customer Support, suggesting that high-value requests face different processing delays depending on the department.\",\n",
    "    },\n",
    "    \"question\": \"How does the processing time of requests differ across departments for high-value items?\",\n",
    "    \"actionable_insight\": \"Customer Support's high variability in processing times indicates that improvements in process standardization or resource allocation could enhance efficiency for high-value requests. Departments with consistently shorter processing times, such as IT and Product Management, could serve as models for optimizing request handling across other departments.\",\n",
    "}"
   ]
  },
  {
   "cell_type": "markdown",
   "metadata": {},
   "source": [
    "### **Question 2:  What is the distribution of Expense Reports by department?**"
   ]
  },
  {
   "cell_type": "markdown",
   "metadata": {},
   "source": [
    "#### Number of Expense Reports by Category\n",
    "\n",
    "This bar chart illustrates distribution of expense reports across  categories within organization. By visualizing these number of reports per category, this plot highlights which expense categories are most commonly reported and potentially which ones are under more scrutiny or utilized more frequently. "
   ]
  },
  {
   "cell_type": "code",
   "execution_count": 7,
   "metadata": {
    "execution": {
     "iopub.execute_input": "2024-10-29T17:15:39.334061Z",
     "iopub.status.busy": "2024-10-29T17:15:39.333172Z",
     "iopub.status.idle": "2024-10-29T17:15:39.785746Z",
     "shell.execute_reply": "2024-10-29T17:15:39.784062Z"
    }
   },
   "outputs": [
    {
     "data": {
      "image/png": "[encoded data removed]",
      "text/plain": [
       "<Figure size 864x576 with 1 Axes>"
      ]
     },
     "metadata": {
      "needs_background": "light"
     },
     "output_type": "display_data"
    }
   ],
   "source": [
    "import matplotlib.pyplot as plt\n",
    "\n",
    "# Count the number of expense reports per department\n",
    "department_counts = flag_data['category'].value_counts()\n",
    "\n",
    "# Plot the data\n",
    "fig, ax = plt.subplots(figsize=(12, 8))\n",
    "department_counts.plot(kind='bar', color='skyblue', ax=ax)\n",
    "\n",
    "# Add titles and labels\n",
    "ax.set_title('Number of Expense Reports by Category', fontsize=16)\n",
    "ax.set_xlabel('Category', fontsize=14)\n",
    "ax.set_ylabel('Number of Expense Reports', fontsize=14)\n",
    "\n",
    "# Show grid\n",
    "ax.grid(axis='y')  # Only horizontal grid lines for readability\n",
    "\n",
    "# Rotate the x-axis labels for better readability\n",
    "plt.xticks(rotation=45)\n",
    "plt.tight_layout()  # Adjust layout to not cut off labels\n",
    "\n",
    "# Adding numeric labels on top of the bars for clarity\n",
    "for p in ax.patches:\n",
    "    ax.annotate(f\"{int(p.get_height())}\", (p.get_x() + p.get_width() / 2., p.get_height()),\n",
    "                ha='center', va='bottom', xytext=(0, 10), textcoords='offset points')\n",
    "\n",
    "# Show the plot\n",
    "plt.show()"
   ]
  },
  {
   "cell_type": "markdown",
   "metadata": {},
   "source": [
    "#### Generate JSON Description for the Insight"
   ]
  },
  {
   "cell_type": "code",
   "execution_count": 8,
   "metadata": {
    "execution": {
     "iopub.execute_input": "2024-10-29T17:15:39.795600Z",
     "iopub.status.busy": "2024-10-29T17:15:39.795026Z",
     "iopub.status.idle": "2024-10-29T17:15:39.818080Z",
     "shell.execute_reply": "2024-10-29T17:15:39.816522Z"
    }
   },
   "outputs": [
    {
     "data": {
      "text/plain": [
       "{'data_type': 'descriptive',\n",
       " 'insight': 'There is a variable distribution of Expense Reports across categories',\n",
       " 'insight_value': {'description': 'While Travel expenses are frequently rejected, they are not the most submitted category. Assets category dominates the submission volume.'},\n",
       " 'plot': {'plot_type': 'bar',\n",
       "  'title': 'Distribution of Expense Reports by Category',\n",
       "  'x_axis': {'name': 'Expense Category',\n",
       "   'value': ['Assets', 'Travel', 'Services', 'Miscellaneous'],\n",
       "   'description': 'This axis categorizes expenses into different types, including Assets, Travel, Services, and Miscellaneous.'},\n",
       "  'y_axis': {'name': 'Number of Expense Reports',\n",
       "   'value': {'Assets': '281',\n",
       "    'Travel': '146',\n",
       "    'Services': '47',\n",
       "    'Miscellaneous': '26'},\n",
       "   'description': 'This axis displays the number of expense reports submitted within each category, indicating a higher volume of submissions for Assets than for other categories.'},\n",
       "  'description': 'The bar chart illustrates that the Assets category has the highest number of submissions at 281, followed by Travel with 146, Services with 47, and Miscellaneous with 26. This distribution shows that despite high rejection rates, the Travel category does not lead in submission frequency but remains significant.'},\n",
       " 'question': 'What is the distribution of Expense Reports by Category?',\n",
       " 'actionable_insight': \"Understanding that Assets lead in the number of submissions, it's important to closely monitor and manage this category to ensure compliance and proper allocation of resources. For the Travel category, which has a high rejection rate but significant submission volume, refining submission guidelines and improving training on how to correctly file Travel expenses could help reduce rejections and streamline processing. This could involve clarifying allowable expenses within the Travel category and ensuring that all employees are aware of and understand these policies.\"}"
      ]
     },
     "execution_count": 8,
     "metadata": {},
     "output_type": "execute_result"
    }
   ],
   "source": [
    "{\n",
    "    \"data_type\": \"descriptive\",\n",
    "    \"insight\": \"There is a variable distribution of Expense Reports across categories\",\n",
    "    \"insight_value\": {\n",
    "        \"description\": \"While Travel expenses are frequently rejected, they are not the most submitted category. Assets category dominates the submission volume.\"\n",
    "    },\n",
    "    \"plot\": {\n",
    "        \"plot_type\": \"bar\",\n",
    "        \"title\": \"Distribution of Expense Reports by Category\",\n",
    "        \"x_axis\": {\n",
    "            \"name\": \"Expense Category\",\n",
    "            \"value\": [\"Assets\", \"Travel\", \"Services\", \"Miscellaneous\"],\n",
    "            \"description\": \"This axis categorizes expenses into different types, including Assets, Travel, Services, and Miscellaneous.\"\n",
    "        },\n",
    "        \"y_axis\": {\n",
    "            \"name\": \"Number of Expense Reports\",\n",
    "            \"value\": {\n",
    "                \"Assets\": \"281\",\n",
    "                \"Travel\": \"146\",\n",
    "                \"Services\": \"47\",\n",
    "                \"Miscellaneous\": \"26\"\n",
    "            },\n",
    "            \"description\": \"This axis displays the number of expense reports submitted within each category, indicating a higher volume of submissions for Assets than for other categories.\"\n",
    "        },\n",
    "        \"description\": \"The bar chart illustrates that the Assets category has the highest number of submissions at 281, followed by Travel with 146, Services with 47, and Miscellaneous with 26. This distribution shows that despite high rejection rates, the Travel category does not lead in submission frequency but remains significant.\"\n",
    "    },\n",
    "    \"question\": \"What is the distribution of Expense Reports by Category?\",\n",
    "    \"actionable_insight\": \"Understanding that Assets lead in the number of submissions, it's important to closely monitor and manage this category to ensure compliance and proper allocation of resources. For the Travel category, which has a high rejection rate but significant submission volume, refining submission guidelines and improving training on how to correctly file Travel expenses could help reduce rejections and streamline processing. This could involve clarifying allowable expenses within the Travel category and ensuring that all employees are aware of and understand these policies.\"\n",
    "}\n"
   ]
  },
  {
   "cell_type": "markdown",
   "metadata": {},
   "source": [
    "### **Question 3: Are the guidelines for submitting travel expenses more complex compared to other categories?**\n"
   ]
  },
  {
   "cell_type": "markdown",
   "metadata": {},
   "source": [
    "To adequately address this question, additional data or insights from experts who are familiar with the company's expense reporting policies are necessary. It is recommended that the organization conduct a thorough review of the written guidelines for each expense category or consult with policy managers. Gathering qualitative feedback from employees on their experiences with submitting expenses in various categories could also provide valuable insights. Implementing a survey or a series of focus groups to discuss the challenges and perceptions related to expense submission guidelines could uncover the complexity levels and any discrepancies between categories. This approach will not only clarify whether travel expense guidelines are indeed more complex but also help identify specific areas for simplification and improvement."
   ]
  },
  {
   "cell_type": "markdown",
   "metadata": {},
   "source": [
    "### **Question 4: What training or resources are currently available to employees submitting travel expenses?**\n"
   ]
  },
  {
   "cell_type": "markdown",
   "metadata": {},
   "source": [
    "Insufficient Data on Training or Resources for Travel Expense Submission\n",
    "\n",
    "Given the high rejection rates in the Travel category and the absence of data on supportive measures, it is predictive to assume that existing resources or training may not be adequately addressing the needs of employees. This situation, if not improved, could lead to continued or increased rejections. It is recommended that the organization should proactively enhance its training programs and resources related to travel expenses. This could involve updating training modules to reflect current policies, creating more detailed guides or FAQs specifically for travel expenses, or implementing regular review sessions and feedback mechanisms to ensure that employees are well-informed and supported in making compliant submissions. Additionally, assessing the current support system through employee surveys or consultations could identify gaps and opportunities for improvement, potentially reducing the rate of expense rejections significantly."
   ]
  },
  {
   "cell_type": "markdown",
   "metadata": {},
   "source": [
    "### Summary of Findings (Flag 67):\n",
    "\n",
    "1. **Processing Time Variability**: From Question 1, it was found that processing times for high-value requests vary significantly across departments, with Customer Support showing the widest range. This suggests potential inefficiencies or a lack of standardized processes within this department.\n",
    "\n",
    "2. **Expense Report Distribution**: Question 2 revealed that the Assets category dominates the number of expense report submissions, while Travel, despite having a high rejection rate, is not the most submitted category. This indicates a need for focused management and compliance monitoring in the Assets category.\n",
    "\n",
    "3. **Complexity of Travel Expense Guidelines**: Question 3 highlighted the potential complexity of travel expense guidelines compared to other categories. This suggests a need for a thorough review of the guidelines and possibly simplifying them to reduce rejection rates and improve compliance."
   ]
  },
  {
   "cell_type": "markdown",
   "metadata": {},
   "source": []
  }
 ],
 "metadata": {
  "kernelspec": {
   "display_name": "Python 3",
   "language": "python",
   "name": "python3"
  },
  "language_info": {
   "codemirror_mode": {
    "name": "ipython",
    "version": 3
   },
   "file_extension": ".py",
   "mimetype": "text/x-python",
   "name": "python",
   "nbconvert_exporter": "python",
   "pygments_lexer": "ipython3",
   "version": "3.8.5"
  }
 },
 "nbformat": 4,
 "nbformat_minor": 2
}

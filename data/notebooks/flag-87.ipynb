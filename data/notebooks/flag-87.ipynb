{
 "cells": [
  {
   "cell_type": "markdown",
   "metadata": {},
   "source": [
    "## Analysis of Expense Processing Times (Flag 87)\n",
    "\n",
    "### Dataset Overview\n",
    "This dataset contains 500 simulated entries from the ServiceNow `fm_expense_line` table, which captures various details of financial expenses. Key attributes include 'number', 'opened_at', 'amount', 'state', 'short_description', 'ci', 'user', 'department', 'category', 'process_date', 'source_id', and 'type'. The table provides a comprehensive record of financial transactions, detailing the amount, departmental allocation, and nature of each expense. It offers a clear view of organizational expenditures across different categories, highlighting the timing and approval status of each financial entry.\n",
    "\n",
    "### Your Objective\n",
    "**Objective**: Investigate the factors leading to quicker expense processing times within a specific department and assess whether these practices can be implemented to enhance efficiency across all departments.\n",
    "\n",
    "**Role**: Operational Efficiency Analyst\n",
    "\n",
    "**Challenge Level**: 3 out of 5. This analysis requires strong data manipulation and interpretation skills to derive actionable insights from financial expense data.\n",
    "\n",
    "**Category**: Finance Management"
   ]
  },
  {
   "cell_type": "markdown",
   "metadata": {},
   "source": [
    "### Import Necessary Libraries\n",
    "This cell imports all necessary libraries required for the analysis. This includes libraries for data manipulation, data visualization, and any specific utilities needed for the tasks. "
   ]
  },
  {
   "cell_type": "code",
   "execution_count": 1,
   "metadata": {},
   "outputs": [],
   "source": [
    "import argparse\n",
    "import pandas as pd\n",
    "import json\n",
    "import requests\n",
    "import matplotlib.pyplot as plt\n",
    "import numpy as np\n",
    "import seaborn as sns\n",
    "from pandas import date_range"
   ]
  },
  {
   "cell_type": "markdown",
   "metadata": {},
   "source": [
    "### Load Dataset\n",
    "This cell loads the expense dataset to be analyzed. The data is orginally saved in the from a CSV file, and is here imported into a DataFrame. The steps involve specifying the path to the dataset, using pandas to read the file, and confirming its successful load by inspecting the first few table entries."
   ]
  },
  {
   "cell_type": "code",
   "execution_count": 2,
   "metadata": {},
   "outputs": [
    {
     "data": {
      "text/html": [
       "<div>\n",
       "<style scoped>\n",
       "    .dataframe tbody tr th:only-of-type {\n",
       "        vertical-align: middle;\n",
       "    }\n",
       "\n",
       "    .dataframe tbody tr th {\n",
       "        vertical-align: top;\n",
       "    }\n",
       "\n",
       "    .dataframe thead th {\n",
       "        text-align: right;\n",
       "    }\n",
       "</style>\n",
       "<table border=\"1\" class=\"dataframe\">\n",
       "  <thead>\n",
       "    <tr style=\"text-align: right;\">\n",
       "      <th></th>\n",
       "      <th>category</th>\n",
       "      <th>state</th>\n",
       "      <th>closed_at</th>\n",
       "      <th>opened_at</th>\n",
       "      <th>closed_by</th>\n",
       "      <th>number</th>\n",
       "      <th>sys_updated_by</th>\n",
       "      <th>location</th>\n",
       "      <th>assigned_to</th>\n",
       "      <th>caller_id</th>\n",
       "      <th>sys_updated_on</th>\n",
       "      <th>short_description</th>\n",
       "      <th>priority</th>\n",
       "      <th>assignement_group</th>\n",
       "    </tr>\n",
       "  </thead>\n",
       "  <tbody>\n",
       "    <tr>\n",
       "      <th>0</th>\n",
       "      <td>Database</td>\n",
       "      <td>Closed</td>\n",
       "      <td>2023-07-25 03:32:18.462401146</td>\n",
       "      <td>2023-01-02 11:04:00</td>\n",
       "      <td>Fred Luddy</td>\n",
       "      <td>INC0000000034</td>\n",
       "      <td>admin</td>\n",
       "      <td>Australia</td>\n",
       "      <td>Fred Luddy</td>\n",
       "      <td>ITIL User</td>\n",
       "      <td>2023-07-06 03:31:13.838619495</td>\n",
       "      <td>There was an issue</td>\n",
       "      <td>2 - High</td>\n",
       "      <td>Database</td>\n",
       "    </tr>\n",
       "    <tr>\n",
       "      <th>1</th>\n",
       "      <td>Hardware</td>\n",
       "      <td>Closed</td>\n",
       "      <td>2023-03-11 13:42:59.511508874</td>\n",
       "      <td>2023-01-03 10:19:00</td>\n",
       "      <td>Charlie Whitherspoon</td>\n",
       "      <td>INC0000000025</td>\n",
       "      <td>admin</td>\n",
       "      <td>India</td>\n",
       "      <td>Beth Anglin</td>\n",
       "      <td>Don Goodliffe</td>\n",
       "      <td>2023-05-19 04:22:50.443252112</td>\n",
       "      <td>There was an issue</td>\n",
       "      <td>1 - Critical</td>\n",
       "      <td>Hardware</td>\n",
       "    </tr>\n",
       "    <tr>\n",
       "      <th>2</th>\n",
       "      <td>Database</td>\n",
       "      <td>Resolved</td>\n",
       "      <td>2023-01-20 14:37:18.361510788</td>\n",
       "      <td>2023-01-04 06:37:00</td>\n",
       "      <td>Charlie Whitherspoon</td>\n",
       "      <td>INC0000000354</td>\n",
       "      <td>system</td>\n",
       "      <td>India</td>\n",
       "      <td>Fred Luddy</td>\n",
       "      <td>ITIL User</td>\n",
       "      <td>2023-02-13 08:10:20.378839709</td>\n",
       "      <td>There was an issue</td>\n",
       "      <td>2 - High</td>\n",
       "      <td>Database</td>\n",
       "    </tr>\n",
       "    <tr>\n",
       "      <th>3</th>\n",
       "      <td>Hardware</td>\n",
       "      <td>Resolved</td>\n",
       "      <td>2023-01-25 20:46:13.679914432</td>\n",
       "      <td>2023-01-04 06:53:00</td>\n",
       "      <td>Fred Luddy</td>\n",
       "      <td>INC0000000023</td>\n",
       "      <td>admin</td>\n",
       "      <td>Canada</td>\n",
       "      <td>Luke Wilson</td>\n",
       "      <td>Don Goodliffe</td>\n",
       "      <td>2023-06-14 11:45:24.784548040</td>\n",
       "      <td>There was an issue</td>\n",
       "      <td>2 - High</td>\n",
       "      <td>Hardware</td>\n",
       "    </tr>\n",
       "    <tr>\n",
       "      <th>4</th>\n",
       "      <td>Hardware</td>\n",
       "      <td>Closed</td>\n",
       "      <td>2023-05-10 22:35:58.881919516</td>\n",
       "      <td>2023-01-05 16:52:00</td>\n",
       "      <td>Luke Wilson</td>\n",
       "      <td>INC0000000459</td>\n",
       "      <td>employee</td>\n",
       "      <td>UK</td>\n",
       "      <td>Charlie Whitherspoon</td>\n",
       "      <td>David Loo</td>\n",
       "      <td>2023-06-11 20:25:35.094482408</td>\n",
       "      <td>There was an issue</td>\n",
       "      <td>2 - High</td>\n",
       "      <td>Hardware</td>\n",
       "    </tr>\n",
       "  </tbody>\n",
       "</table>\n",
       "</div>"
      ],
      "text/plain": [
       "   category     state                      closed_at            opened_at  \\\n",
       "0  Database    Closed  2023-07-25 03:32:18.462401146  2023-01-02 11:04:00   \n",
       "1  Hardware    Closed  2023-03-11 13:42:59.511508874  2023-01-03 10:19:00   \n",
       "2  Database  Resolved  2023-01-20 14:37:18.361510788  2023-01-04 06:37:00   \n",
       "3  Hardware  Resolved  2023-01-25 20:46:13.679914432  2023-01-04 06:53:00   \n",
       "4  Hardware    Closed  2023-05-10 22:35:58.881919516  2023-01-05 16:52:00   \n",
       "\n",
       "              closed_by         number sys_updated_by   location  \\\n",
       "0            Fred Luddy  INC0000000034          admin  Australia   \n",
       "1  Charlie Whitherspoon  INC0000000025          admin      India   \n",
       "2  Charlie Whitherspoon  INC0000000354         system      India   \n",
       "3            Fred Luddy  INC0000000023          admin     Canada   \n",
       "4           Luke Wilson  INC0000000459       employee         UK   \n",
       "\n",
       "            assigned_to      caller_id                 sys_updated_on  \\\n",
       "0            Fred Luddy      ITIL User  2023-07-06 03:31:13.838619495   \n",
       "1           Beth Anglin  Don Goodliffe  2023-05-19 04:22:50.443252112   \n",
       "2            Fred Luddy      ITIL User  2023-02-13 08:10:20.378839709   \n",
       "3           Luke Wilson  Don Goodliffe  2023-06-14 11:45:24.784548040   \n",
       "4  Charlie Whitherspoon      David Loo  2023-06-11 20:25:35.094482408   \n",
       "\n",
       "    short_description      priority assignement_group  \n",
       "0  There was an issue      2 - High          Database  \n",
       "1  There was an issue  1 - Critical          Hardware  \n",
       "2  There was an issue      2 - High          Database  \n",
       "3  There was an issue      2 - High          Hardware  \n",
       "4  There was an issue      2 - High          Hardware  "
      ]
     },
     "execution_count": 2,
     "metadata": {},
     "output_type": "execute_result"
    }
   ],
   "source": [
    "dataset_path = \"csvs/flag-87.csv\"\n",
    "flag_data = pd.read_csv(dataset_path)\n",
    "df = pd.read_csv(dataset_path)\n",
    "flag_data.head()\n"
   ]
  },
  {
   "cell_type": "markdown",
   "metadata": {},
   "source": [
    "### **Question 1: Which departments have higher proportions of expense rejections compared to the organizational average?**"
   ]
  },
  {
   "cell_type": "markdown",
   "metadata": {},
   "source": [
    "#### Plot processing period by department\n",
    "\n",
    "This box plot visualizes the distribution of processing periods for expenses by department, highlighting median, quartiles, and potential outliers within each group. By examining the spread and central tendency, this plot aids in identifying departments with notably quicker or slower processing times, compared to the organizational average.\n"
   ]
  },
  {
   "cell_type": "code",
   "execution_count": 3,
   "metadata": {},
   "outputs": [
    {
     "name": "stdout",
     "output_type": "stream",
     "text": [
      "N/A\n"
     ]
    }
   ],
   "source": [
    "# import matplotlib.pyplot as plt\n",
    "# import seaborn as sns\n",
    "# import numpy as np\n",
    "\n",
    "# # Assuming 'flag_data' contains 'department', 'processed_date', and 'opened_at'\n",
    "# # Calculate processing period in days\n",
    "# flag_data['processing_period'] = (pd.to_datetime(flag_data['processed_date']) - pd.to_datetime(flag_data['opened_at'])).dt.days\n",
    "\n",
    "# # Filtering out None values for processing_period for valid plotting\n",
    "# valid_data = flag_data.dropna(subset=['processing_period'])\n",
    "\n",
    "# # Creating the box plot with a color palette to differentiate departments\n",
    "# plt.figure(figsize=(14, 8))\n",
    "# palette = sns.color_palette(\"coolwarm\", n_colors=len(valid_data['department'].unique()))  # Create a color palette\n",
    "# box_plot = sns.boxplot(x='department', y='processing_period', data=valid_data, palette=palette)\n",
    "\n",
    "# plt.title('Processing Period by Department')\n",
    "# plt.xlabel('Department')\n",
    "# plt.ylabel('Processing Period (days)')\n",
    "# plt.xticks(rotation=45)  # Rotate labels for better readability\n",
    "\n",
    "# # Add grid for easier analysis\n",
    "# plt.grid(True, which='both', linestyle='--', linewidth=0.5, alpha=0.7)\n",
    "\n",
    "# # Calculate means and ensure they're aligned with the x-axis labels\n",
    "# means = valid_data.groupby(['department'])['processing_period'].mean()\n",
    "# labels = [tick.get_text() for tick in box_plot.get_xticklabels()]\n",
    "# vertical_offset = valid_data['processing_period'].mean() * 0.05  # Offset from mean for annotation\n",
    "\n",
    "# # Annotate mean values\n",
    "# for label in labels:\n",
    "#     mean_value = means[label]\n",
    "#     x_position = labels.index(label)\n",
    "#     box_plot.text(x_position, mean_value + vertical_offset, f'{mean_value:.1f}', \n",
    "#                   horizontalalignment='center', size='medium', color='black', weight='semibold')\n",
    "\n",
    "# plt.show()\n",
    "\n",
    "print(\"N/A\")"
   ]
  },
  {
   "cell_type": "markdown",
   "metadata": {},
   "source": [
    "#### Generate JSON Description for the Insight"
   ]
  },
  {
   "cell_type": "code",
   "execution_count": 4,
   "metadata": {},
   "outputs": [
    {
     "data": {
      "text/plain": [
       "{'data_type': 'analytical',\n",
       " 'insight': 'There was no column processed_date to conduct any analysis',\n",
       " 'insight_value': {},\n",
       " 'plot': {'description': 'The graph could not be generated due to missing data'},\n",
       " 'question': 'Which department has faster expense processing times, and how significant is the difference compared to others?',\n",
       " 'actionable_insight': 'No actionable insight could be generated due to missing data'}"
      ]
     },
     "execution_count": 4,
     "metadata": {},
     "output_type": "execute_result"
    }
   ],
   "source": [
    "{\n",
    "\t\"data_type\": \"analytical\",\n",
    "\t\"insight\": \"There was no column processed_date to conduct any analysis\",\n",
    "\t\"insight_value\": {\n",
    "\t},\n",
    "\t\"plot\": {\n",
    "    \t\"description\": \"The graph could not be generated due to missing data\",\n",
    "\t},\n",
    "\t\"question\": \"Which department has faster expense processing times, and how significant is the difference compared to others?\",\n",
    "\t\"actionable_insight\": \"No actionable insight could be generated due to missing data\"\n",
    "}"
   ]
  },
  {
   "cell_type": "markdown",
   "metadata": {},
   "source": [
    "### **Question 2:** How do specific keywords in the short descriptions of expense reports influence the amount of these expenses?"
   ]
  },
  {
   "cell_type": "markdown",
   "metadata": {},
   "source": [
    "Analyzing the expense amounts reveals that certain keywords in the short descriptions, such as 'Travel', 'Service', 'Cloud', 'Asset', and others, are associated with varying expense values. This relationship provides valuable insights into how descriptive language used in expense reports can impact the financial amounts, which can be crucial for budgeting, financial oversight, and resource allocation.\"\n",
    "\n",
    "These components are designed to prompt an analysis focused on the correlation between the keywords in the short descriptions and the expense amounts, ultimately leading to the identified insight."
   ]
  },
  {
   "cell_type": "code",
   "execution_count": 5,
   "metadata": {},
   "outputs": [
    {
     "name": "stdout",
     "output_type": "stream",
     "text": [
      "N/A\n"
     ]
    }
   ],
   "source": [
    "# # Define a list of common keywords/phrases and the corresponding impact on `amount`\n",
    "# keywords = {\n",
    "#     \"Travel\": 1.5,  # Increase amount by 50% if \"Travel\" is in the description\n",
    "#     \"Service\": 1.2,  # Increase amount by 20% if \"Service\" is in the description\n",
    "#     \"Cloud\": 1.3,  # Increase amount by 30% if \"Cloud\" is in the description\n",
    "#     \"Asset\": 0.8,  # Decrease amount by 20% if \"Asset\" is in the description\n",
    "#     \"Equipment\": 0.9  # Decrease amount by 10% if \"Equipment\" is in the description\n",
    "# }\n",
    "\n",
    "# # Function to categorize descriptions based on keywords\n",
    "# def categorize_description(description):\n",
    "#     for keyword in keywords.keys():\n",
    "#         if pd.notnull(description) and keyword in description:\n",
    "#             return keyword\n",
    "#     return 'Other'\n",
    "\n",
    "# # Apply the function to create a new column for categories\n",
    "# df['description_category'] = df['short_description'].apply(categorize_description)\n",
    "\n",
    "# # Set the style of the visualization\n",
    "# sns.set(style=\"whitegrid\")\n",
    "\n",
    "\n",
    "# # Create a single boxplot for amount by description category\n",
    "# plt.figure(figsize=(12, 6))\n",
    "# sns.boxplot(x='description_category', y='amount', data=df)\n",
    "# plt.title('Amount Distribution by Short Description Category')\n",
    "# plt.xlabel('Short Description Category')\n",
    "# plt.ylabel('Amount')\n",
    "# plt.xticks(rotation=45)\n",
    "# plt.show()\n",
    "\n",
    "print(\"N/A\")"
   ]
  },
  {
   "cell_type": "code",
   "execution_count": 6,
   "metadata": {},
   "outputs": [
    {
     "data": {
      "text/plain": [
       "{'data_type': 'descriptive',\n",
       " 'insight': 'There was no column amount to conduct any analysis',\n",
       " 'insight_value': {},\n",
       " 'plot': {'description': 'The graph could not be generated due to missing data'},\n",
       " 'question': 'How do amounts vary based on the keywords in the short descriptions of expenses?',\n",
       " 'actionable_insight': 'No actionable insight could be generated due to missing data'}"
      ]
     },
     "execution_count": 6,
     "metadata": {},
     "output_type": "execute_result"
    }
   ],
   "source": [
    "{\n",
    "\t\"data_type\": \"descriptive\",\n",
    "\t\"insight\": \"There was no column amount to conduct any analysis\",\n",
    "\t\"insight_value\": {\n",
    "\t},\n",
    "\t\"plot\": {\n",
    "    \t\"description\": \"The graph could not be generated due to missing data\",\n",
    "\t},\n",
    "\t\"question\": \"How do amounts vary based on the keywords in the short descriptions of expenses?\",\n",
    "\t\"actionable_insight\": \"No actionable insight could be generated due to missing data\"\n",
    "}"
   ]
  },
  {
   "cell_type": "markdown",
   "metadata": {},
   "source": [
    "### **Question 3:  Are there differences in the categories of expenses submitted by this department that could explain the faster processing?**\n"
   ]
  },
  {
   "cell_type": "markdown",
   "metadata": {},
   "source": [
    "#### Plot the distribution of expense categories by department with processing times\n",
    "\n",
    "This stacked bar plot presents a comprehensive view of the distribution of expense categories across departments, with the counts of expenses shown for each category within a department. This visualization aids in identifying whether certain categories within departments are processed more quickly or slowly, potentially explaining variations in processing efficiency.\n"
   ]
  },
  {
   "cell_type": "code",
   "execution_count": 7,
   "metadata": {},
   "outputs": [
    {
     "name": "stdout",
     "output_type": "stream",
     "text": [
      "N/A\n"
     ]
    }
   ],
   "source": [
    "# import matplotlib.pyplot as plt\n",
    "# import seaborn as sns\n",
    "# import pandas as pd\n",
    "\n",
    "# # Assuming 'flag_data' contains 'department', 'category', and 'processing_period' columns\n",
    "# # Calculate processing period in days if not already calculated\n",
    "# flag_data['processed_date'] = pd.to_datetime(flag_data['processed_date'])\n",
    "# flag_data['opened_at'] = pd.to_datetime(flag_data['opened_at'])\n",
    "# flag_data['processing_period'] = (flag_data['processed_date'] - flag_data['opened_at']).dt.days\n",
    "\n",
    "# # Group data by department and category to count frequencies and calculate average processing time\n",
    "# category_counts = flag_data.groupby(['department', 'category']).size().reset_index(name='count')\n",
    "# category_processing_times = flag_data.groupby(['department', 'category'])['processing_period'].mean().reset_index()\n",
    "\n",
    "# # Merging counts with processing times for richer insights\n",
    "# category_data = pd.merge(category_counts, category_processing_times, on=['department', 'category'])\n",
    "\n",
    "# # Pivoting data for better visualization in stacked bar plot\n",
    "# pivot_data = category_data.pivot(index='department', columns='category', values='count').fillna(0)\n",
    "\n",
    "# # Plotting\n",
    "# plt.figure(figsize=(14, 8))\n",
    "# pivot_data.plot(kind='bar', stacked=True, colormap='viridis', alpha=0.7)\n",
    "# plt.title('Distribution of Expense Categories by Department with Processing Times')\n",
    "# plt.xlabel('Department')\n",
    "# plt.ylabel('Count of Expenses')\n",
    "# plt.xticks(rotation=45)\n",
    "# plt.legend(title='Expense Categories')\n",
    "\n",
    "# # Show mean processing times on bars for additional context\n",
    "# for n, x in enumerate([*pivot_data.index.values]):\n",
    "#     for (category, count), y in zip(pivot_data.loc[x].items(), pivot_data.loc[x].cumsum()):\n",
    "#         plt.text(n, y - (count / 2), f'{category_processing_times.loc[(category_processing_times[\"department\"] == x) & (category_processing_times[\"category\"] == category), \"processing_period\"].values[0]:.1f} days',\n",
    "#                  ha='center', va='center', color='black', fontweight='bold', fontsize=9)\n",
    "\n",
    "# plt.grid(True, which='both', linestyle='--', linewidth=0.5, alpha=0.7)\n",
    "# plt.show()\n",
    "\n",
    "print(\"N/A\")"
   ]
  },
  {
   "cell_type": "markdown",
   "metadata": {},
   "source": [
    "#### Generate JSON Description for the Insight"
   ]
  },
  {
   "cell_type": "code",
   "execution_count": 8,
   "metadata": {},
   "outputs": [
    {
     "data": {
      "text/plain": [
       "{'data_type': 'diagnostic',\n",
       " 'insight': 'There was no column processed_date to conduct any analysis',\n",
       " 'insight_value': {},\n",
       " 'plot': {'description': 'The graph could not be generated due to missing data'},\n",
       " 'question': 'Are there differences in the categories of expenses submitted by this department that could explain the faster processing?',\n",
       " 'actionable_insight': 'No actionable insight could be generated due to missing data'}"
      ]
     },
     "execution_count": 8,
     "metadata": {},
     "output_type": "execute_result"
    }
   ],
   "source": [
    "{\n",
    "\t\"data_type\": \"diagnostic\",\n",
    "\t\"insight\": \"There was no column processed_date to conduct any analysis\",\n",
    "\t\"insight_value\": {\n",
    "\t},\n",
    "\t\"plot\": {\n",
    "    \t\"description\": \"The graph could not be generated due to missing data\",\n",
    "\t},\n",
    "\t\"question\": \"Are there differences in the categories of expenses submitted by this department that could explain the faster processing?\",\n",
    "\t\"actionable_insight\": \"No actionable insight could be generated due to missing data\"\n",
    "}"
   ]
  },
  {
   "cell_type": "markdown",
   "metadata": {},
   "source": [
    "### **Question 4:  Are there any specific brackets of amounts these expenses from the Development department fall into that could explain the faster processing?**\n"
   ]
  },
  {
   "cell_type": "markdown",
   "metadata": {},
   "source": [
    "#### Processing Period by Expense Amount Brackets in Development Department\n",
    "\n",
    "This visualization showcases how processing times vary across different expense amount-brackets within the Development department. The boxplot shows spread and median processing periods for each bracket, while the line graph overlays the proportion of total expenses falling within these brackets (for easy visualization). This dual-axis plot helps to understand if smaller or larger expense amounts correlate with quicker processing times and highlights distribution of expense magnitudes within the department.\n"
   ]
  },
  {
   "cell_type": "code",
   "execution_count": 9,
   "metadata": {},
   "outputs": [
    {
     "name": "stdout",
     "output_type": "stream",
     "text": [
      "N/A\n"
     ]
    }
   ],
   "source": [
    "# import matplotlib.pyplot as plt\n",
    "# import seaborn as sns\n",
    "# import pandas as pd\n",
    "\n",
    "# # Assuming 'flag_data' contains 'department', 'amount', and 'processing_period' columns\n",
    "# # and is already loaded with the data\n",
    "\n",
    "# # Filter data to only include the Development department\n",
    "# dev_expenses = flag_data[flag_data['department'] == 'Development']\n",
    "\n",
    "# # Define the amount brackets\n",
    "# bins = [0, 100, 500, 1000, 5000, 10000, np.inf]\n",
    "# labels = ['< $100', '$100 - $500', '$500 - $1000', '$1000 - $5000', '$5000 - $10000', '> $10000']\n",
    "# dev_expenses['amount_bracket'] = pd.cut(dev_expenses['amount'], bins=bins, labels=labels)\n",
    "\n",
    "# # Calculate the proportion of expenses in each bracket\n",
    "# bracket_counts = dev_expenses['amount_bracket'].value_counts(normalize=True) * 100\n",
    "\n",
    "# # Create the box plot to visualize processing periods by amount brackets\n",
    "# fig, ax1 = plt.subplots(figsize=(14, 8))\n",
    "# sns.boxplot(x='amount_bracket', y='processing_period', data=dev_expenses, palette='coolwarm', ax=ax1)\n",
    "# ax1.set_title('Processing Period by Expense Amount Brackets in Development Department')\n",
    "# ax1.set_xlabel('Expense Amount Brackets')\n",
    "# ax1.set_ylabel('Processing Period (days)')\n",
    "# ax1.tick_params(axis='x', rotation=45)  # Rotate labels for better readability\n",
    "\n",
    "# # Create a twin axis to show the proportion of expenses on the same plot\n",
    "# ax2 = ax1.twinx()\n",
    "# ax2.plot(bracket_counts.index, bracket_counts.values, color='k', marker='o', linestyle='-', linewidth=2, markersize=8)\n",
    "# ax2.set_ylabel('Proportion of Expenses (%)')\n",
    "# ax2.set_ylim(0, 100)  # Limit y-axis for proportion to 100%\n",
    "# ax2.grid(False)  # Turn off grid for the secondary axis to avoid visual clutter\n",
    "\n",
    "# # Adding annotations for proportions\n",
    "# for i, val in enumerate(bracket_counts.values):\n",
    "#     ax2.text(i, val + 3, f'{val:.1f}%', color='black', ha='center', va='bottom', fontweight='bold')\n",
    "\n",
    "# plt.show()\n",
    "\n",
    "print(\"N/A\")"
   ]
  },
  {
   "cell_type": "markdown",
   "metadata": {},
   "source": [
    "#### Generate JSON Description for the Insight"
   ]
  },
  {
   "cell_type": "code",
   "execution_count": 10,
   "metadata": {},
   "outputs": [
    {
     "data": {
      "text/plain": [
       "{'data_type': 'diagnostic',\n",
       " 'insight': 'There was no column department to conduct any analysis',\n",
       " 'insight_value': {},\n",
       " 'plot': {'description': 'The graph could not be generated due to missing data'},\n",
       " 'question': 'Are there any specific brackets of amounts these expenses from the Development department fall into that could explain the faster processing?',\n",
       " 'actionable_insight': 'No actionable insight could be generated due to missing data'}"
      ]
     },
     "execution_count": 10,
     "metadata": {},
     "output_type": "execute_result"
    }
   ],
   "source": [
    "{\n",
    "\t\"data_type\": \"diagnostic\",\n",
    "\t\"insight\": \"There was no column department to conduct any analysis\",\n",
    "\t\"insight_value\": {\n",
    "\t},\n",
    "\t\"plot\": {\n",
    "    \t\"description\": \"The graph could not be generated due to missing data\",\n",
    "\t},\n",
    "\t\"question\": \"Are there any specific brackets of amounts these expenses from the Development department fall into that could explain the faster processing?\",\n",
    "\t\"actionable_insight\": \"No actionable insight could be generated due to missing data\"\n",
    "}"
   ]
  },
  {
   "cell_type": "markdown",
   "metadata": {},
   "source": [
    "### **Summary of Findings (Flag 87):**\n",
    "\n",
    "1. **Inefficiencies in Expense Processing Analysis**: The lack of the `processed_date` column prevents any analysis regarding which department has faster expense processing times and the significance of any differences among them.\n",
    "\n",
    "2. **Impact of Expense Descriptions**: Without the `amount` column, it is not possible to analyze how amounts vary based on keywords in short descriptions of expenses, hindering insights into expense categorization and trends.\n",
    "\n",
    "3. **Understanding Expense Brackets**: The missing `department` column restricts analysis on specific amount brackets for expenses submitted by the Development department, preventing any conclusions about their impact on processing efficiency.\n"
   ]
  }
 ],
 "metadata": {
  "kernelspec": {
   "display_name": "base",
   "language": "python",
   "name": "python3"
  },
  "language_info": {
   "codemirror_mode": {
    "name": "ipython",
    "version": 3
   },
   "file_extension": ".py",
   "mimetype": "text/x-python",
   "name": "python",
   "nbconvert_exporter": "python",
   "pygments_lexer": "ipython3",
   "version": "3.11.7"
  }
 },
 "nbformat": 4,
 "nbformat_minor": 2
}

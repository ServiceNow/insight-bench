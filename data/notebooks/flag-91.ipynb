{
 "cells": [
  {
   "cell_type": "markdown",
   "metadata": {},
   "source": [
    "## Combined Expense Analysis (Flag 91)\n",
    "\n",
    "### Dataset Description\n",
    "The dataset consists of 500 entries simulating the ServiceNow fm_expense_line table, which records various attributes of financial expenses. Key fields include 'number', 'opened_at', 'amount', 'state', 'short_description', 'ci', 'user', 'department', 'category', 'processed_date', 'source_id', and 'type'. This table documents the flow of financial transactions by detailing the amount, departmental allocation, and the nature of each expense. It provides a comprehensive view of organizational expenditures across different categories, highlighting both the timing and the approval state of each financial entry. Additionally, the dataset includes insights into recurring expenses, the impact of keywords in short descriptions, and state-based processing efficiencies.\n",
    "\n",
    "### Your Task\n",
    "**Goal**: To analyze and understand the patterns and behaviors in expense processing, focusing on how different states, descriptive keywords, and recurring expenses influence financial operations. The aim is to provide actionable insights to improve workflow efficiency, budgetary control, and overall financial management.\n",
    "\n",
    "**Role**: Financial Operations Analyst\n",
    "\n",
    "**Difficulty**: 3 out of 5\n",
    "\n",
    "**Category**: Finance Management"
   ]
  },
  {
   "cell_type": "markdown",
   "metadata": {},
   "source": [
    "### Import Necessary Libraries\n",
    "This cell imports all necessary libraries required for the analysis. This includes libraries for data manipulation, data visualization, and any specific utilities needed for the tasks. "
   ]
  },
  {
   "cell_type": "code",
   "execution_count": 1,
   "metadata": {},
   "outputs": [],
   "source": [
    "import argparse\n",
    "import pandas as pd\n",
    "import json\n",
    "import requests\n",
    "import matplotlib.pyplot as plt\n",
    "import numpy as np\n",
    "import seaborn as sns\n",
    "from pandas import date_range"
   ]
  },
  {
   "cell_type": "markdown",
   "metadata": {},
   "source": [
    "### Load Dataset\n",
    "Loads the dataset needed for the expense analysis. The data is sourced from a CSV file and the process involves reading the file into a DataFrame to facilitate further plotting. This also checks the initial few rows to verify the correct loading of the data."
   ]
  },
  {
   "cell_type": "code",
   "execution_count": 2,
   "metadata": {},
   "outputs": [
    {
     "data": {
      "text/html": [
       "<div>\n",
       "<style scoped>\n",
       "    .dataframe tbody tr th:only-of-type {\n",
       "        vertical-align: middle;\n",
       "    }\n",
       "\n",
       "    .dataframe tbody tr th {\n",
       "        vertical-align: top;\n",
       "    }\n",
       "\n",
       "    .dataframe thead th {\n",
       "        text-align: right;\n",
       "    }\n",
       "</style>\n",
       "<table border=\"1\" class=\"dataframe\">\n",
       "  <thead>\n",
       "    <tr style=\"text-align: right;\">\n",
       "      <th></th>\n",
       "      <th>category</th>\n",
       "      <th>state</th>\n",
       "      <th>closed_at</th>\n",
       "      <th>opened_at</th>\n",
       "      <th>closed_by</th>\n",
       "      <th>number</th>\n",
       "      <th>sys_updated_by</th>\n",
       "      <th>location</th>\n",
       "      <th>assigned_to</th>\n",
       "      <th>caller_id</th>\n",
       "      <th>sys_updated_on</th>\n",
       "      <th>short_description</th>\n",
       "      <th>priority</th>\n",
       "      <th>assignement_group</th>\n",
       "    </tr>\n",
       "  </thead>\n",
       "  <tbody>\n",
       "    <tr>\n",
       "      <th>0</th>\n",
       "      <td>Database</td>\n",
       "      <td>Closed</td>\n",
       "      <td>2023-07-25 03:32:18.462401146</td>\n",
       "      <td>2023-01-02 11:04:00</td>\n",
       "      <td>Fred Luddy</td>\n",
       "      <td>INC0000000034</td>\n",
       "      <td>admin</td>\n",
       "      <td>Australia</td>\n",
       "      <td>Fred Luddy</td>\n",
       "      <td>ITIL User</td>\n",
       "      <td>2023-07-06 03:31:13.838619495</td>\n",
       "      <td>There was an issue</td>\n",
       "      <td>2 - High</td>\n",
       "      <td>Database</td>\n",
       "    </tr>\n",
       "    <tr>\n",
       "      <th>1</th>\n",
       "      <td>Hardware</td>\n",
       "      <td>Closed</td>\n",
       "      <td>2023-03-11 13:42:59.511508874</td>\n",
       "      <td>2023-01-03 10:19:00</td>\n",
       "      <td>Charlie Whitherspoon</td>\n",
       "      <td>INC0000000025</td>\n",
       "      <td>admin</td>\n",
       "      <td>India</td>\n",
       "      <td>Beth Anglin</td>\n",
       "      <td>Don Goodliffe</td>\n",
       "      <td>2023-05-19 04:22:50.443252112</td>\n",
       "      <td>There was an issue</td>\n",
       "      <td>1 - Critical</td>\n",
       "      <td>Hardware</td>\n",
       "    </tr>\n",
       "    <tr>\n",
       "      <th>2</th>\n",
       "      <td>Database</td>\n",
       "      <td>Resolved</td>\n",
       "      <td>2023-01-20 14:37:18.361510788</td>\n",
       "      <td>2023-01-04 06:37:00</td>\n",
       "      <td>Charlie Whitherspoon</td>\n",
       "      <td>INC0000000354</td>\n",
       "      <td>system</td>\n",
       "      <td>India</td>\n",
       "      <td>Fred Luddy</td>\n",
       "      <td>ITIL User</td>\n",
       "      <td>2023-02-13 08:10:20.378839709</td>\n",
       "      <td>There was an issue</td>\n",
       "      <td>2 - High</td>\n",
       "      <td>Database</td>\n",
       "    </tr>\n",
       "    <tr>\n",
       "      <th>3</th>\n",
       "      <td>Hardware</td>\n",
       "      <td>Resolved</td>\n",
       "      <td>2023-01-25 20:46:13.679914432</td>\n",
       "      <td>2023-01-04 06:53:00</td>\n",
       "      <td>Fred Luddy</td>\n",
       "      <td>INC0000000023</td>\n",
       "      <td>admin</td>\n",
       "      <td>Canada</td>\n",
       "      <td>Luke Wilson</td>\n",
       "      <td>Don Goodliffe</td>\n",
       "      <td>2023-06-14 11:45:24.784548040</td>\n",
       "      <td>There was an issue</td>\n",
       "      <td>2 - High</td>\n",
       "      <td>Hardware</td>\n",
       "    </tr>\n",
       "    <tr>\n",
       "      <th>4</th>\n",
       "      <td>Hardware</td>\n",
       "      <td>Closed</td>\n",
       "      <td>2023-05-10 22:35:58.881919516</td>\n",
       "      <td>2023-01-05 16:52:00</td>\n",
       "      <td>Luke Wilson</td>\n",
       "      <td>INC0000000459</td>\n",
       "      <td>employee</td>\n",
       "      <td>UK</td>\n",
       "      <td>Charlie Whitherspoon</td>\n",
       "      <td>David Loo</td>\n",
       "      <td>2023-06-11 20:25:35.094482408</td>\n",
       "      <td>There was an issue</td>\n",
       "      <td>2 - High</td>\n",
       "      <td>Hardware</td>\n",
       "    </tr>\n",
       "  </tbody>\n",
       "</table>\n",
       "</div>"
      ],
      "text/plain": [
       "   category     state                      closed_at            opened_at  \\\n",
       "0  Database    Closed  2023-07-25 03:32:18.462401146  2023-01-02 11:04:00   \n",
       "1  Hardware    Closed  2023-03-11 13:42:59.511508874  2023-01-03 10:19:00   \n",
       "2  Database  Resolved  2023-01-20 14:37:18.361510788  2023-01-04 06:37:00   \n",
       "3  Hardware  Resolved  2023-01-25 20:46:13.679914432  2023-01-04 06:53:00   \n",
       "4  Hardware    Closed  2023-05-10 22:35:58.881919516  2023-01-05 16:52:00   \n",
       "\n",
       "              closed_by         number sys_updated_by   location  \\\n",
       "0            Fred Luddy  INC0000000034          admin  Australia   \n",
       "1  Charlie Whitherspoon  INC0000000025          admin      India   \n",
       "2  Charlie Whitherspoon  INC0000000354         system      India   \n",
       "3            Fred Luddy  INC0000000023          admin     Canada   \n",
       "4           Luke Wilson  INC0000000459       employee         UK   \n",
       "\n",
       "            assigned_to      caller_id                 sys_updated_on  \\\n",
       "0            Fred Luddy      ITIL User  2023-07-06 03:31:13.838619495   \n",
       "1           Beth Anglin  Don Goodliffe  2023-05-19 04:22:50.443252112   \n",
       "2            Fred Luddy      ITIL User  2023-02-13 08:10:20.378839709   \n",
       "3           Luke Wilson  Don Goodliffe  2023-06-14 11:45:24.784548040   \n",
       "4  Charlie Whitherspoon      David Loo  2023-06-11 20:25:35.094482408   \n",
       "\n",
       "    short_description      priority assignement_group  \n",
       "0  There was an issue      2 - High          Database  \n",
       "1  There was an issue  1 - Critical          Hardware  \n",
       "2  There was an issue      2 - High          Database  \n",
       "3  There was an issue      2 - High          Hardware  \n",
       "4  There was an issue      2 - High          Hardware  "
      ]
     },
     "execution_count": 2,
     "metadata": {},
     "output_type": "execute_result"
    }
   ],
   "source": [
    "dataset_path = \"csvs/flag-91.csv\"\n",
    "flag_data = pd.read_csv(dataset_path)\n",
    "df = pd.read_csv(dataset_path)\n",
    "flag_data.head()\n"
   ]
  },
  {
   "cell_type": "markdown",
   "metadata": {},
   "source": [
    "\n",
    "### **Question 1: What are the differences in processing times for expenses in various states such as Processed, Declined, Submitted, and Pending?**\n"
   ]
  },
  {
   "cell_type": "markdown",
   "metadata": {},
   "source": [
    "Analyzing the processing times for expenses in different states reveals notable differences. Processed expenses tend to have shorter processing times compared to Declined expenses. Understanding these differences helps identify areas for potential optimization and efficiency improvements in the expense processing workflow."
   ]
  },
  {
   "cell_type": "code",
   "execution_count": 3,
   "metadata": {},
   "outputs": [
    {
     "name": "stdout",
     "output_type": "stream",
     "text": [
      "N/A\n"
     ]
    }
   ],
   "source": [
    "import pandas as pd\n",
    "import matplotlib.pyplot as plt\n",
    "import seaborn as sns\n",
    "\n",
    "# Load the combined dataset\n",
    "combined_file_path = 'csvs/flag-91.csv'\n",
    "data = pd.read_csv(combined_file_path)\n",
    "\n",
    "# # Convert the date columns to datetime type and calculate processing time\n",
    "# data['opened_at'] = pd.to_datetime(data['opened_at'])\n",
    "# data['processed_date'] = pd.to_datetime(data['processed_date'], errors='coerce')\n",
    "# data['processing_time_hours'] = (data['processed_date'] - data['opened_at']).dt.total_seconds() / 3600\n",
    "\n",
    "# # Calculate average processing time for each state\n",
    "# avg_processing_time_by_state = data.groupby('state')['processing_time_hours'].mean().reset_index()\n",
    "\n",
    "# # Set the style of the visualization\n",
    "# sns.set(style=\"whitegrid\")\n",
    "\n",
    "# # Create a bar plot for average processing time by state\n",
    "# plt.figure(figsize=(12, 6))\n",
    "# sns.barplot(x='state', y='processing_time_hours', data=avg_processing_time_by_state)\n",
    "# plt.title('Average Processing Time by State')\n",
    "# plt.xlabel('State')\n",
    "# plt.ylabel('Average Processing Time (hours)')\n",
    "# plt.xticks(rotation=45)\n",
    "# plt.show()\n",
    "print(\"N/A\")"
   ]
  },
  {
   "cell_type": "markdown",
   "metadata": {},
   "source": [
    "#### Generate JSON Description for the Insight"
   ]
  },
  {
   "cell_type": "code",
   "execution_count": 1,
   "metadata": {},
   "outputs": [
    {
     "data": {
      "text/plain": [
       "{'data_type': 'comparative',\n",
       " 'insight': \"Analysis could not be completed due to missing 'processed_date' column in the dataset\",\n",
       " 'insight_value': {},\n",
       " 'plot': {'description': 'A bar plot was attempted to show average processing times by state, but failed due to missing data column'},\n",
       " 'question': 'What are the differences in processing times for expenses in various states such as Processes, Declined, Submitted, and Pending?',\n",
       " 'actionable_insight': 'No actionable insight could be generated due to missing data column'}"
      ]
     },
     "execution_count": 1,
     "metadata": {},
     "output_type": "execute_result"
    }
   ],
   "source": [
    "{\n",
    "    \"data_type\": \"comparative\",\n",
    "    \"insight\": \"Analysis could not be completed due to missing 'processed_date' column in the dataset\",\n",
    "    \"insight_value\": {},\n",
    "    \"plot\": {\n",
    "        \"description\": \"A bar plot was attempted to show average processing times by state, but failed due to missing data column\"\n",
    "    },\n",
    "    \"question\": \"What are the differences in processing times for expenses in various states such as Processes, Declined, Submitted, and Pending?\",\n",
    "    \"actionable_insight\": \"No actionable insight could be generated due to missing data column\"\n",
    "}"
   ]
  },
  {
   "cell_type": "markdown",
   "metadata": {},
   "source": [
    "### **Question 2:  How do specific keywords in the short descriptions of expense reports influence the amount of these expenses?**\n"
   ]
  },
  {
   "cell_type": "markdown",
   "metadata": {},
   "source": [
    "Analyzing the expense amounts reveals that certain keywords in the short descriptions, such as 'Travel', 'Service', 'Cloud', 'Asset', and others, are associated with varying expense values. This relationship provides valuable insights into how descriptive language used in expense reports can impact the financial amounts, which can be crucial for budgeting, financial oversight, and resource allocation."
   ]
  },
  {
   "cell_type": "code",
   "execution_count": 5,
   "metadata": {},
   "outputs": [
    {
     "name": "stdout",
     "output_type": "stream",
     "text": [
      "N/A\n"
     ]
    }
   ],
   "source": [
    "# # Function to categorize descriptions based on keywords\n",
    "# def categorize_description(description):\n",
    "#     keywords = {\"Travel\": 1.5, \"Service\": 1.2, \"Cloud\": 1.3, \"Asset\": 0.8, \"Equipment\": 0.9}\n",
    "#     for keyword in keywords.keys():\n",
    "#         if pd.notnull(description) and keyword in description:\n",
    "#             return keyword\n",
    "#     return 'Other'\n",
    "\n",
    "# # Apply the function to create a new column for categories\n",
    "# data['description_category'] = data['short_description'].apply(categorize_description)\n",
    "\n",
    "# # Set the style of the visualization\n",
    "# sns.set(style=\"whitegrid\")\n",
    "\n",
    "# # Create a boxplot for amount by description category\n",
    "# plt.figure(figsize=(12, 6))\n",
    "# sns.boxplot(x='description_category', y='amount', data=data)\n",
    "# plt.title('Amount Distribution by Short Description Category')\n",
    "# plt.xlabel('Short Description Category')\n",
    "# plt.ylabel('Amount')\n",
    "# plt.xticks(rotation=45)\n",
    "# plt.show()\n",
    "print(\"N/A\")"
   ]
  },
  {
   "cell_type": "markdown",
   "metadata": {},
   "source": [
    "#### Generate JSON Description for the Insight"
   ]
  },
  {
   "cell_type": "code",
   "execution_count": 2,
   "metadata": {},
   "outputs": [
    {
     "data": {
      "text/plain": [
       "{'data_type': 'comparative',\n",
       " 'insight': \"The analysis could not be completed due to a ValueError indicating that the 'amount' column is not present in the dataset\",\n",
       " 'insight_value': {},\n",
       " 'plot': {'description': \"A boxplot was attempted to show the distribution of expense amounts across different description categories, but failed due to missing 'amount' column in the data\"},\n",
       " 'question': 'How do specific keywords in the short descriptions of expense reports influence the amount of these expenses?',\n",
       " 'actionable_insight': 'No actionable insight could be generated due to missing data'}"
      ]
     },
     "execution_count": 2,
     "metadata": {},
     "output_type": "execute_result"
    }
   ],
   "source": [
    "{\n",
    "    \"data_type\": \"comparative\",\n",
    "    \"insight\": \"The analysis could not be completed due to a ValueError indicating that the 'amount' column is not present in the dataset\",\n",
    "    \"insight_value\": {},\n",
    "    \"plot\": {\n",
    "        \"description\": \"A boxplot was attempted to show the distribution of expense amounts across different description categories, but failed due to missing 'amount' column in the data\"\n",
    "    },\n",
    "    \"question\": \"How do specific keywords in the short descriptions of expense reports influence the amount of these expenses?\",\n",
    "    \"actionable_insight\": \"No actionable insight could be generated due to missing data\"\n",
    "}"
   ]
  },
  {
   "cell_type": "markdown",
   "metadata": {},
   "source": [
    "### **Question 3:  What are the expense patterns for different departments in terms of average amounts?**\n"
   ]
  },
  {
   "cell_type": "markdown",
   "metadata": {},
   "source": [
    "By examining the average expense amounts across different departments, we can uncover departmental spending patterns. This can help in understanding which departments have higher or lower average expenses, providing insights for budgeting and resource allocation decisions."
   ]
  },
  {
   "cell_type": "code",
   "execution_count": 7,
   "metadata": {},
   "outputs": [
    {
     "name": "stdout",
     "output_type": "stream",
     "text": [
      "N/A\n"
     ]
    }
   ],
   "source": [
    "# # Calculate average amount for each department\n",
    "# avg_amount_by_department = data.groupby('department')['amount'].mean().reset_index()\n",
    "\n",
    "# # Set the style of the visualization\n",
    "# sns.set(style=\"whitegrid\")\n",
    "\n",
    "# # Create a bar plot for average amount by department\n",
    "# plt.figure(figsize=(12, 6))\n",
    "# sns.barplot(x='department', y='amount', data=avg_amount_by_department)\n",
    "# plt.title('Average Amount by Department')\n",
    "# plt.xlabel('Department')\n",
    "# plt.ylabel('Average Amount')\n",
    "# plt.xticks(rotation=45)\n",
    "# plt.show()\n",
    "print(\"N/A\")"
   ]
  },
  {
   "cell_type": "markdown",
   "metadata": {},
   "source": [
    "#### Generate JSON Description for the Insight"
   ]
  },
  {
   "cell_type": "code",
   "execution_count": 8,
   "metadata": {},
   "outputs": [
    {
     "data": {
      "text/plain": [
       "{'data_type': 'comparative',\n",
       " 'insight': \"Analysis could not be performed due to missing 'department' column in the dataset\",\n",
       " 'insight_value': {},\n",
       " 'plot': {'description': \"Bar plot could not be generated due to KeyError indicating missing 'department' column\"},\n",
       " 'question': 'What are the expense patterns for different departments in terms of average amounts?',\n",
       " 'actionable_insight': 'Data quality issue needs to be addressed - verify the presence and correct naming of the department column in the dataset before analysis can proceed'}"
      ]
     },
     "execution_count": 8,
     "metadata": {},
     "output_type": "execute_result"
    }
   ],
   "source": [
    "{\n",
    "    \"data_type\": \"comparative\",\n",
    "    \"insight\": \"Analysis could not be performed due to missing 'department' column in the dataset\",\n",
    "    \"insight_value\": {},\n",
    "    \"plot\": {\n",
    "        \"description\": \"Bar plot could not be generated due to KeyError indicating missing 'department' column\"\n",
    "    },\n",
    "    \"question\": \"What are the expense patterns for different departments in terms of average amounts?\",\n",
    "    \"actionable_insight\": \"Data quality issue needs to be addressed - verify the presence and correct naming of the department column in the dataset before analysis can proceed\"\n",
    "}"
   ]
  },
  {
   "cell_type": "markdown",
   "metadata": {},
   "source": [
    "### **Question 4: How does the number of expense reports submitted vary by user?**\n"
   ]
  },
  {
   "cell_type": "markdown",
   "metadata": {},
   "source": [
    "Analyzing the number of expense reports submitted by different users can help identify the most active users in terms of expense submissions. This insight can aid in understanding user behavior and identifying potential areas for fraud detection or efficiency improvements."
   ]
  },
  {
   "cell_type": "code",
   "execution_count": 9,
   "metadata": {},
   "outputs": [
    {
     "name": "stdout",
     "output_type": "stream",
     "text": [
      "N/A\n"
     ]
    }
   ],
   "source": [
    "# # Calculate the number of expense reports submitted by each user\n",
    "# expense_reports_by_user = data['user'].value_counts().reset_index()\n",
    "# expense_reports_by_user.columns = ['user', 'number_of_reports']\n",
    "\n",
    "# # Set the style of the visualization\n",
    "# sns.set(style=\"whitegrid\")\n",
    "\n",
    "# # Create a bar plot for the number of expense reports by user\n",
    "# plt.figure(figsize=(12, 6))\n",
    "# sns.barplot(x='user', y='number_of_reports', data=expense_reports_by_user)\n",
    "# plt.title('Number of Expense Reports by User')\n",
    "# plt.xlabel('User')\n",
    "# plt.ylabel('Number of Expense Reports')\n",
    "# plt.xticks(rotation=90)\n",
    "# plt.show()\n",
    "print(\"N/A\")"
   ]
  },
  {
   "cell_type": "markdown",
   "metadata": {},
   "source": [
    "#### Generate JSON Description for the Insight"
   ]
  },
  {
   "cell_type": "code",
   "execution_count": 10,
   "metadata": {},
   "outputs": [
    {
     "data": {
      "text/plain": [
       "{'data_type': 'comparative',\n",
       " 'insight': \"Analysis could not be performed because the 'user' column is missing from the dataset\",\n",
       " 'insight_value': {},\n",
       " 'plot': {'description': \"A bar plot was attempted to show the distribution of expense reports across users, but could not be generated due to missing 'user' column in the data\"},\n",
       " 'question': 'How does the number of expenses reports submitted vary by user?',\n",
       " 'actionable_insight': 'Data quality needs to be addressed - verify that the user information is properly included in the dataset before analysis can be performed'}"
      ]
     },
     "execution_count": 10,
     "metadata": {},
     "output_type": "execute_result"
    }
   ],
   "source": [
    "{\n",
    "    \"data_type\": \"comparative\",\n",
    "    \"insight\": \"Analysis could not be performed because the 'user' column is missing from the dataset\",\n",
    "    \"insight_value\": {},\n",
    "    \"plot\": {\n",
    "        \"description\": \"A bar plot was attempted to show the distribution of expense reports across users, but could not be generated due to missing 'user' column in the data\"\n",
    "    },\n",
    "    \"question\": \"How does the number of expenses reports submitted vary by user?\",\n",
    "    \"actionable_insight\": \"Data quality needs to be addressed - verify that the user information is properly included in the dataset before analysis can be performed\"\n",
    "}"
   ]
  },
  {
   "cell_type": "markdown",
   "metadata": {},
   "source": [
    "### **Question 5: What is the distribution of expense categories?**"
   ]
  },
  {
   "cell_type": "markdown",
   "metadata": {},
   "source": [
    "Examining the distribution of expense categories can provide insights into which types of expenses are most common. This information can be useful for understanding spending patterns and identifying areas for cost-saving opportunities or increased financial oversight."
   ]
  },
  {
   "cell_type": "code",
   "execution_count": 11,
   "metadata": {},
   "outputs": [
    {
     "data": {
      "image/png": "[encoded data removed]",
      "text/plain": [
       "<Figure size 1200x600 with 1 Axes>"
      ]
     },
     "metadata": {},
     "output_type": "display_data"
    }
   ],
   "source": [
    "# Calculate the distribution of expense categories\n",
    "expense_categories_distribution = data['category'].value_counts().reset_index()\n",
    "expense_categories_distribution.columns = ['category', 'count']\n",
    "\n",
    "# Set the style of the visualization\n",
    "sns.set(style=\"whitegrid\")\n",
    "\n",
    "# Create a bar plot for the distribution of expense categories\n",
    "plt.figure(figsize=(12, 6))\n",
    "sns.barplot(x='category', y='count', data=expense_categories_distribution)\n",
    "plt.title('Distribution of Expense Categories')\n",
    "plt.xlabel('Category')\n",
    "plt.ylabel('Count')\n",
    "plt.xticks(rotation=45)\n",
    "plt.show()"
   ]
  },
  {
   "cell_type": "code",
   "execution_count": 3,
   "metadata": {},
   "outputs": [
    {
     "data": {
      "text/plain": [
       "{'data_type': 'descriptive',\n",
       " 'insight': 'The distribution shows no trend across IT expense categories',\n",
       " 'insight_value': {'description': 'All five expense categories (Database, Hardware, Inquiry/Help, Software, Network) have identical counts of 100'},\n",
       " 'plot': {'plot_type': 'bar',\n",
       "  'title': 'Distribution of Expense Categories',\n",
       "  'x_axis': {'name': 'Category',\n",
       "   'value': ['Database', 'Hardware', 'Inquiry/Help', 'Software', 'Network'],\n",
       "   'description': 'Five main IT expense categories'},\n",
       "  'y_axis': {'name': 'Count',\n",
       "   'value': 100,\n",
       "   'description': 'Each category shows exactly 100 counts'},\n",
       "  'description': 'Bar chart displaying uniform distribution with equal heights across all expense categories'},\n",
       " 'question': 'What is the distribution of expense categories?',\n",
       " 'actionable_insight': {'description': 'The uniform distribution indicates balanced resource allocation across IT categories, suggesting either standardized categorization or strategic equal distribution of resources'}}"
      ]
     },
     "execution_count": 3,
     "metadata": {},
     "output_type": "execute_result"
    }
   ],
   "source": [
    "{\n",
    "   \"data_type\":\"descriptive\",\n",
    "   \"insight\":\"The distribution shows no trend across IT expense categories\",\n",
    "   \"insight_value\":{\n",
    "      \"description\":\"All five expense categories (Database, Hardware, Inquiry/Help, Software, Network) have identical counts of 100\"\n",
    "   },\n",
    "   \"plot\":{\n",
    "      \"plot_type\":\"bar\",\n",
    "      \"title\":\"Distribution of Expense Categories\",\n",
    "      \"x_axis\":{\n",
    "         \"name\":\"Category\",\n",
    "         \"value\":[\n",
    "            \"Database\",\n",
    "            \"Hardware\",\n",
    "            \"Inquiry/Help\",\n",
    "            \"Software\",\n",
    "            \"Network\"\n",
    "         ],\n",
    "         \"description\":\"Five main IT expense categories\"\n",
    "      },\n",
    "      \"y_axis\":{\n",
    "         \"name\":\"Count\",\n",
    "         \"value\":100,\n",
    "         \"description\":\"Each category shows exactly 100 counts\"\n",
    "      },\n",
    "      \"description\":\"Bar chart displaying uniform distribution with equal heights across all expense categories\"\n",
    "   },\n",
    "   \"question\":\"What is the distribution of expense categories?\",\n",
    "   \"actionable_insight\":{\n",
    "      \"description\":\"The uniform distribution indicates balanced resource allocation across IT categories, suggesting either standardized categorization or strategic equal distribution of resources\"\n",
    "   }\n",
    "}"
   ]
  },
  {
   "cell_type": "markdown",
   "metadata": {},
   "source": [
    "### Summary of Findings (Flag 91):\n",
    "\n",
    "1. **State-Based Processing Time Analysis**: The analysis could not be completed due to missing data in the 'processed_date' field. The missing values in this field prevented a comprehensive comparison of processing times across different states. To address this issue, data cleaning and imputation techniques can be applied to fill in the missing values and enable a more accurate analysis of processing times.\n",
    "\n",
    "2. **Impact of Keywords in Short Descriptions on Expense Amounts**: The dataset is missing required fields to perform a detailed analysis.\n",
    "\n",
    "3. **Recurring Expense Patterns**: The dataset is missing required fields to perform a detailed analysis."
   ]
  }
 ],
 "metadata": {
  "kernelspec": {
   "display_name": "Python 3",
   "language": "python",
   "name": "python3"
  },
  "language_info": {
   "codemirror_mode": {
    "name": "ipython",
    "version": 3
   },
   "file_extension": ".py",
   "mimetype": "text/x-python",
   "name": "python",
   "nbconvert_exporter": "python",
   "pygments_lexer": "ipython3",
   "version": "3.10.12"
  }
 },
 "nbformat": 4,
 "nbformat_minor": 2
}
